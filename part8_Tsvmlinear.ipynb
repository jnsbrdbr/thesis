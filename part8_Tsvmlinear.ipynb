{
  "cells": [
    {
      "cell_type": "markdown",
      "metadata": {
        "id": "view-in-github",
        "colab_type": "text"
      },
      "source": [
        "<a href=\"https://colab.research.google.com/github/jnsbrdbr/thesis/blob/thesis/part8_Tsvmlinear.ipynb\" target=\"_parent\"><img src=\"https://colab.research.google.com/assets/colab-badge.svg\" alt=\"Open In Colab\"/></a>"
      ]
    },
    {
      "cell_type": "code",
      "execution_count": 1,
      "metadata": {
        "id": "u-lnAztSUsmV"
      },
      "outputs": [],
      "source": [
        "import numpy as np\n",
        "import pandas as pd\n",
        "import seaborn as sns\n",
        "import matplotlib.pyplot as plt\n",
        "\n",
        "from sklearn.metrics import jaccard_score\n",
        "from scipy.spatial.distance import pdist, squareform"
      ]
    },
    {
      "cell_type": "code",
      "execution_count": 2,
      "metadata": {
        "colab": {
          "base_uri": "https://localhost:8080/"
        },
        "id": "N4UwTF0GUwmZ",
        "outputId": "63595b05-5614-43f7-ebf5-1816d40a5dcc"
      },
      "outputs": [
        {
          "output_type": "stream",
          "name": "stdout",
          "text": [
            "Mounted at /content/drive\n"
          ]
        }
      ],
      "source": [
        "from google.colab import drive\n",
        "drive.mount('/content/drive') "
      ]
    },
    {
      "cell_type": "code",
      "execution_count": 3,
      "metadata": {
        "colab": {
          "base_uri": "https://localhost:8080/"
        },
        "id": "np9n02DsU3-z",
        "outputId": "4a64dde2-fd55-4672-9503-25cd14d4d176"
      },
      "outputs": [
        {
          "output_type": "stream",
          "name": "stdout",
          "text": [
            "Collecting pickle5\n",
            "  Downloading pickle5-0.0.12-cp37-cp37m-manylinux_2_5_x86_64.manylinux1_x86_64.whl (256 kB)\n",
            "\u001b[?25l\r\u001b[K     |█▎                              | 10 kB 23.2 MB/s eta 0:00:01\r\u001b[K     |██▋                             | 20 kB 29.3 MB/s eta 0:00:01\r\u001b[K     |███▉                            | 30 kB 23.3 MB/s eta 0:00:01\r\u001b[K     |█████▏                          | 40 kB 18.0 MB/s eta 0:00:01\r\u001b[K     |██████▍                         | 51 kB 8.4 MB/s eta 0:00:01\r\u001b[K     |███████▊                        | 61 kB 9.8 MB/s eta 0:00:01\r\u001b[K     |█████████                       | 71 kB 9.1 MB/s eta 0:00:01\r\u001b[K     |██████████▎                     | 81 kB 9.5 MB/s eta 0:00:01\r\u001b[K     |███████████▌                    | 92 kB 10.4 MB/s eta 0:00:01\r\u001b[K     |████████████▉                   | 102 kB 8.6 MB/s eta 0:00:01\r\u001b[K     |██████████████                  | 112 kB 8.6 MB/s eta 0:00:01\r\u001b[K     |███████████████▍                | 122 kB 8.6 MB/s eta 0:00:01\r\u001b[K     |████████████████▋               | 133 kB 8.6 MB/s eta 0:00:01\r\u001b[K     |██████████████████              | 143 kB 8.6 MB/s eta 0:00:01\r\u001b[K     |███████████████████▏            | 153 kB 8.6 MB/s eta 0:00:01\r\u001b[K     |████████████████████▌           | 163 kB 8.6 MB/s eta 0:00:01\r\u001b[K     |█████████████████████▊          | 174 kB 8.6 MB/s eta 0:00:01\r\u001b[K     |███████████████████████         | 184 kB 8.6 MB/s eta 0:00:01\r\u001b[K     |████████████████████████▎       | 194 kB 8.6 MB/s eta 0:00:01\r\u001b[K     |█████████████████████████▋      | 204 kB 8.6 MB/s eta 0:00:01\r\u001b[K     |██████████████████████████▉     | 215 kB 8.6 MB/s eta 0:00:01\r\u001b[K     |████████████████████████████▏   | 225 kB 8.6 MB/s eta 0:00:01\r\u001b[K     |█████████████████████████████▍  | 235 kB 8.6 MB/s eta 0:00:01\r\u001b[K     |██████████████████████████████▊ | 245 kB 8.6 MB/s eta 0:00:01\r\u001b[K     |████████████████████████████████| 256 kB 8.6 MB/s eta 0:00:01\r\u001b[K     |████████████████████████████████| 256 kB 8.6 MB/s \n",
            "\u001b[?25hInstalling collected packages: pickle5\n",
            "Successfully installed pickle5-0.0.12\n"
          ]
        }
      ],
      "source": [
        "!pip3 install pickle5\n",
        "import pickle5 as pickle"
      ]
    },
    {
      "cell_type": "code",
      "execution_count": 4,
      "metadata": {
        "id": "-4854qLoU6Kc"
      },
      "outputs": [],
      "source": [
        "with open('/content/drive/MyDrive/10000/Tresult.pkl', \"rb\") as fh:\n",
        "  result = pickle.load(fh)"
      ]
    },
    {
      "cell_type": "code",
      "execution_count": 5,
      "metadata": {
        "colab": {
          "base_uri": "https://localhost:8080/"
        },
        "id": "WicELcCoVE95",
        "outputId": "e3beb1b7-1029-40d4-8642-3529ae5c496c"
      },
      "outputs": [
        {
          "output_type": "stream",
          "name": "stdout",
          "text": [
            "              0         1          2  ...         8         9  label\n",
            "0     -2.231665 -3.223353  -0.847867  ... -0.068575 -0.230930      1\n",
            "1     -2.231665 -3.223353  -0.847867  ... -0.068575 -0.230930      1\n",
            "2     -2.231665 -3.223353  -0.847867  ... -0.068575 -0.230930      1\n",
            "3     -2.231665 -3.223353  -0.847867  ... -0.068575 -0.230930      1\n",
            "4     -2.231871 -3.223762  -0.848254  ...  0.048557  0.160622      1\n",
            "...         ...       ...        ...  ...       ...       ...    ...\n",
            "13209 -2.231665 -3.223353  -0.847867  ...  0.046943  0.150109      0\n",
            "13210 -2.857167 -4.505172  18.597988  ... -0.129873 -0.451315      0\n",
            "13211 -2.231665 -3.223353  -0.847867  ...  0.063843  0.211098      0\n",
            "13212 -2.231665 -3.223353  -0.847867  ...  0.063843  0.211097      0\n",
            "13213 -2.231665 -3.223353  -0.847867  ...  0.013998  0.046459      0\n",
            "\n",
            "[13214 rows x 101 columns]\n"
          ]
        }
      ],
      "source": [
        "#final data\n",
        "print(result)"
      ]
    },
    {
      "cell_type": "code",
      "execution_count": 6,
      "metadata": {
        "id": "k4LiMQpkVPiz"
      },
      "outputs": [],
      "source": [
        "import copy\n",
        "result_nonlabel=copy.deepcopy(result)\n",
        "del result_nonlabel['label']\n",
        "X=result_nonlabel\n",
        "y=result.label"
      ]
    },
    {
      "cell_type": "code",
      "execution_count": 7,
      "metadata": {
        "id": "kLusAQHMVRMy"
      },
      "outputs": [],
      "source": [
        "from sklearn.model_selection import train_test_split\n",
        "x_train, x_test, y_train, y_test = train_test_split(X, y, test_size=0.3,random_state=42)#"
      ]
    },
    {
      "cell_type": "code",
      "execution_count": 8,
      "metadata": {
        "colab": {
          "base_uri": "https://localhost:8080/"
        },
        "id": "CJYiJ-NVVPcz",
        "outputId": "4fa4847f-2ba9-472f-97aa-b231df1dcafb"
      },
      "outputs": [
        {
          "output_type": "stream",
          "name": "stdout",
          "text": [
            "0.8741488020176544\n"
          ]
        }
      ],
      "source": [
        "from sklearn.svm import SVC\n",
        "from sklearn import svm\n",
        "from sklearn.svm import LinearSVC\n",
        "import warnings\n",
        "warnings.filterwarnings('ignore')\n",
        "\n",
        "\n",
        "svclassifier=svm.LinearSVC(C=0.001,random_state=42,max_iter=50000)\n",
        "svclassifier.fit(x_train, y_train)\n",
        "y_pred = svclassifier.predict(x_test)\n",
        "score = svclassifier.score(x_test, y_test)\n",
        "print(score)"
      ]
    },
    {
      "cell_type": "code",
      "execution_count": 9,
      "metadata": {
        "colab": {
          "base_uri": "https://localhost:8080/",
          "height": 297
        },
        "id": "Q1_VnbP7VbTL",
        "outputId": "d8114ba5-858d-4e11-a402-f8b09176bdaf"
      },
      "outputs": [
        {
          "output_type": "execute_result",
          "data": {
            "text/plain": [
              "<matplotlib.axes._subplots.AxesSubplot at 0x7f84b1d01150>"
            ]
          },
          "metadata": {},
          "execution_count": 9
        },
        {
          "output_type": "display_data",
          "data": {
            "image/png": "[encoded data removed]",
            "text/plain": [
              "<Figure size 432x288 with 2 Axes>"
            ]
          },
          "metadata": {
            "needs_background": "light"
          }
        }
      ],
      "source": [
        "import matplotlib.pyplot as plt\n",
        "import seaborn as sns\n",
        "from sklearn import metrics\n",
        "\n",
        "confusion_matrix = pd.crosstab(y_test, y_pred, rownames=['Actual'], colnames=['Predicted'])\n",
        "sns.heatmap(confusion_matrix, annot=True)"
      ]
    },
    {
      "cell_type": "code",
      "execution_count": 10,
      "metadata": {
        "colab": {
          "base_uri": "https://localhost:8080/"
        },
        "id": "mDBtshgIViWi",
        "outputId": "5d4be513-63af-49a7-a09b-232fdc92dc6f"
      },
      "outputs": [
        {
          "output_type": "stream",
          "name": "stdout",
          "text": [
            "True Positives: 2942\n",
            "False Positives: 440\n",
            "True Negatives: 524\n",
            "False Negatives: 59\n"
          ]
        }
      ],
      "source": [
        "from sklearn.metrics import confusion_matrix\n",
        "\n",
        "tn, fp, fn, tp = confusion_matrix(y_test, y_pred).ravel()\n",
        "print(f'True Positives: {tp}')\n",
        "print(f'False Positives: {fp}')\n",
        "print(f'True Negatives: {tn}')\n",
        "print(f'False Negatives: {fn}')"
      ]
    },
    {
      "cell_type": "code",
      "execution_count": 11,
      "metadata": {
        "colab": {
          "base_uri": "https://localhost:8080/"
        },
        "id": "-4Bb_MwHViUi",
        "outputId": "3e1c1fff-c716-4c23-8174-382b35e5a27b"
      },
      "outputs": [
        {
          "output_type": "stream",
          "name": "stdout",
          "text": [
            "Accuracy:  0.8741488020176544\n"
          ]
        }
      ],
      "source": [
        "print('Accuracy: ',metrics.accuracy_score(y_test, y_pred))\n"
      ]
    },
    {
      "cell_type": "code",
      "execution_count": 12,
      "metadata": {
        "colab": {
          "base_uri": "https://localhost:8080/"
        },
        "id": "wAwVFadTKOlQ",
        "outputId": "02e37901-1979-4c44-90cc-bd6aef2d4cf0"
      },
      "outputs": [
        {
          "output_type": "stream",
          "name": "stdout",
          "text": [
            "Accuracy: 0.725 (0.205)\n"
          ]
        }
      ],
      "source": [
        "from numpy import mean\n",
        "from numpy import std\n",
        "from sklearn.model_selection import KFold\n",
        "from sklearn.model_selection import cross_val_score\n",
        "import warnings\n",
        "warnings.filterwarnings('ignore')\n",
        "\n",
        "cv = KFold(n_splits=10)# shuffle=True,, random_state=42\n",
        "scores = cross_val_score(svclassifier, X, y, scoring='accuracy', cv=cv)#,n_jobs=-1\n",
        "\n",
        "print('Accuracy: %.3f (%.3f)' % (mean(scores), std(scores)))"
      ]
    },
    {
      "cell_type": "code",
      "execution_count": 13,
      "metadata": {
        "id": "SSmSunRhViP7",
        "colab": {
          "base_uri": "https://localhost:8080/"
        },
        "outputId": "b7eb4775-da03-42e8-8946-e876af63b69a"
      },
      "outputs": [
        {
          "output_type": "stream",
          "name": "stdout",
          "text": [
            "scores_recall: 0.631 (0.358)\n"
          ]
        }
      ],
      "source": [
        "#recall\n",
        "\n",
        "from numpy import mean\n",
        "from numpy import std\n",
        "from sklearn.model_selection import KFold\n",
        "from sklearn.model_selection import cross_val_score,cross_val_predict\n",
        "import warnings\n",
        "warnings.filterwarnings('ignore')\n",
        "\n",
        "cv = KFold(n_splits=10)#, shuffle=True, random_state=42\n",
        "scores_recall = cross_val_score(svclassifier,X, y, scoring='recall', cv=cv)#,n_jobs=-1\n",
        "\n",
        "print('scores_recall: %.3f (%.3f)' % (mean(scores_recall), std(scores_recall)))"
      ]
    },
    {
      "cell_type": "code",
      "execution_count": 14,
      "metadata": {
        "id": "jR6gNiaSViNJ",
        "colab": {
          "base_uri": "https://localhost:8080/"
        },
        "outputId": "30de1c2f-b6dc-46cf-e15d-d86f2fb7a81d"
      },
      "outputs": [
        {
          "output_type": "stream",
          "name": "stdout",
          "text": [
            "scores_precision: 0.755 (0.395)\n"
          ]
        }
      ],
      "source": [
        "#precision\n",
        "\n",
        "from numpy import mean\n",
        "from numpy import std\n",
        "from sklearn.model_selection import KFold\n",
        "from sklearn.model_selection import cross_val_score\n",
        "import warnings\n",
        "warnings.filterwarnings('ignore')\n",
        "\n",
        "cv = KFold(n_splits=10)#, random_state=42, shuffle=True\n",
        "scores_precision = cross_val_score(svclassifier, X, y, scoring='precision', cv=cv)#,n_jobs=-1\n",
        "\n",
        "print('scores_precision: %.3f (%.3f)' % (mean(scores_precision), std(scores_precision)))"
      ]
    },
    {
      "cell_type": "code",
      "execution_count": 15,
      "metadata": {
        "id": "i6P9sB07ViKr",
        "colab": {
          "base_uri": "https://localhost:8080/",
          "height": 316
        },
        "outputId": "e6946117-4feb-426e-dc90-34f5d530b265"
      },
      "outputs": [
        {
          "output_type": "display_data",
          "data": {
            "image/png": "[encoded data removed]",
            "text/plain": [
              "<Figure size 432x288 with 1 Axes>"
            ]
          },
          "metadata": {
            "needs_background": "light"
          }
        },
        {
          "output_type": "stream",
          "name": "stdout",
          "text": [
            "\n",
            " Logistic ROC AUC 0.809\n"
          ]
        }
      ],
      "source": [
        "from sklearn.datasets import make_classification\n",
        "from sklearn.linear_model import LogisticRegression\n",
        "from sklearn.model_selection import train_test_split\n",
        "from matplotlib import pyplot\n",
        "from sklearn.metrics import roc_auc_score\n",
        "from sklearn.metrics import roc_curve\n",
        "import warnings\n",
        "warnings.filterwarnings('ignore')\n",
        "\n",
        "\n",
        "k=svm.LinearSVC(C=0.0001,random_state=42,max_iter=50000)#,max_iter=1000000\n",
        "k.fit(x_train, y_train)\n",
        "yhat = k._predict_proba_lr(x_test)\n",
        "pos_probs = yhat[:, 1]\n",
        "pyplot.plot([0, 1], [0, 1], linestyle='--')\n",
        "fpr, tpr, _ = roc_curve(y_test, pos_probs)\n",
        "pyplot.plot(fpr, tpr, marker='.', label='rbf')\n",
        "pyplot.xlabel('False Positive Rate')\n",
        "pyplot.ylabel('True Positive Rate')\n",
        "pyplot.legend()\n",
        "pyplot.show()\n",
        "roc_auc = roc_auc_score(y_test, pos_probs)\n",
        "print('\\n','Logistic ROC AUC %.3f' % roc_auc)"
      ]
    },
    {
      "cell_type": "code",
      "execution_count": 16,
      "metadata": {
        "id": "QNsPqro6ViHZ",
        "colab": {
          "base_uri": "https://localhost:8080/"
        },
        "outputId": "8f817b2c-7983-44d9-b40f-2265f9b56c59"
      },
      "outputs": [
        {
          "output_type": "stream",
          "name": "stdout",
          "text": [
            "True Positives: 2942\n",
            "False Positives: 473\n",
            "True Negatives: 531\n",
            "False Negatives: 19\n",
            "fpr=0.471\n",
            "x\n",
            "---------------------\n",
            "True Positives: 2966\n",
            "False Positives: 456\n",
            "True Negatives: 521\n",
            "False Negatives: 22\n",
            "fpr=0.467\n",
            "x\n",
            "---------------------\n",
            "True Positives: 2972\n",
            "False Positives: 452\n",
            "True Negatives: 490\n",
            "False Negatives: 51\n",
            "fpr=0.480\n",
            "x\n",
            "---------------------\n",
            "True Positives: 2927\n",
            "False Positives: 509\n",
            "True Negatives: 482\n",
            "False Negatives: 47\n",
            "fpr=0.514\n",
            "x\n",
            "---------------------\n",
            "True Positives: 2937\n",
            "False Positives: 486\n",
            "True Negatives: 519\n",
            "False Negatives: 23\n",
            "fpr=0.484\n",
            "x\n",
            "---------------------\n",
            "True Positives: 2929\n",
            "False Positives: 498\n",
            "True Negatives: 481\n",
            "False Negatives: 57\n",
            "fpr=0.509\n",
            "x\n",
            "---------------------\n",
            "True Positives: 2920\n",
            "False Positives: 468\n",
            "True Negatives: 523\n",
            "False Negatives: 54\n",
            "fpr=0.472\n",
            "x\n",
            "---------------------\n",
            "True Positives: 2919\n",
            "False Positives: 499\n",
            "True Negatives: 495\n",
            "False Negatives: 52\n",
            "fpr=0.502\n",
            "x\n",
            "---------------------\n",
            "True Positives: 2937\n",
            "False Positives: 438\n",
            "True Negatives: 539\n",
            "False Negatives: 51\n",
            "fpr=0.448\n",
            "x\n",
            "---------------------\n",
            "True Positives: 2917\n",
            "False Positives: 502\n",
            "True Negatives: 496\n",
            "False Negatives: 50\n",
            "fpr=0.503\n",
            "x\n",
            "---------------------\n",
            "\n",
            "\n",
            "  total_fpr=0.485\n"
          ]
        }
      ],
      "source": [
        "#Importing required libraries\n",
        "from sklearn.model_selection import KFold \n",
        "from sklearn.datasets import load_breast_cancer\n",
        "from sklearn.linear_model import LogisticRegression\n",
        "from sklearn.metrics import accuracy_score\n",
        "from sklearn.metrics import confusion_matrix\n",
        "import warnings\n",
        "warnings.filterwarnings('ignore')\n",
        " \n",
        "#data = load_breast_cancer(as_frame = True)\n",
        "#df = result.frame\n",
        "#X = result.iloc[:,:-1]\n",
        "#y = result.iloc[:,-1]\n",
        " \n",
        "#Implementing cross validation\n",
        " \n",
        "#X = X.sample(frac = 1)\n",
        "#y= y.sample(frac = 1)\n",
        "kf = KFold(n_splits=10)#, random_state=None\n",
        "model = svm.LinearSVC(C=0.001,random_state=42,max_iter=50000)#(solver= 'liblinear')#,max_iter=1000000\n",
        " \n",
        "acc_score = list()\n",
        "res_tpr = list()\n",
        "res_fpr = list()\n",
        "for train_index , test_index in kf.split(X):\n",
        "    #X_train , X_test = X.iloc[train_index,:],X.iloc[test_index,:]\n",
        "    #y_train , y_test = y[train_index] , y[test_index]\n",
        "    X_train, X_test, y_train, y_test = train_test_split(X, y, test_size=0.3)\n",
        "    model.fit(X_train,y_train)\n",
        "    pred_values = model.predict(X_test)\n",
        "    tn, fp, fn, tp = confusion_matrix(y_test, pred_values, labels=[0, 1]).ravel()\n",
        "    print(f'True Positives: {tp}')\n",
        "    print(f'False Positives: {fp}')\n",
        "    print(f'True Negatives: {tn}')\n",
        "    print(f'False Negatives: {fn}')\n",
        "    tpr=(np.divide(tp,(tp+fn)))\n",
        "    fpr=(np.divide(fp,(fp+tn)))\n",
        "    if tp==0:\n",
        "      tpr=0\n",
        "    if fp==0:\n",
        "      fpr=0\n",
        "\n",
        "    print('fpr=%.3f' % (  mean(fpr)))#tpr=%.4f :mean(tpr),\n",
        "    print('x')\n",
        "    res_tpr.append(mean(tpr))\n",
        "    res_fpr.append(mean(fpr))\n",
        "    print('---------------------')\n",
        "\n",
        "    acc = accuracy_score(pred_values , y_test)\n",
        "    acc_score.append(acc)\n",
        "     \n",
        "avg_acc_score = np.sum(acc_score)/10\n",
        "total_tpr=np.sum(res_tpr)/10\n",
        "total_fpr=np.sum(res_fpr)/10\n",
        "print('\\n\\n',' total_fpr=%.3f' % (total_fpr))#total_tpr=%.4f )total_tpr,)"
      ]
    }
  ],
  "metadata": {
    "accelerator": "GPU",
    "colab": {
      "collapsed_sections": [],
      "name": "part8/Tsvmlinear.ipynb",
      "provenance": [],
      "authorship_tag": "ABX9TyOcN2LO6d6Bb1IKoGiftj/R",
      "include_colab_link": true
    },
    "kernelspec": {
      "display_name": "Python 3",
      "name": "python3"
    },
    "language_info": {
      "name": "python"
    }
  },
  "nbformat": 4,
  "nbformat_minor": 0
}