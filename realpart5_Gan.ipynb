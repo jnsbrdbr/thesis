{
  "nbformat": 4,
  "nbformat_minor": 0,
  "metadata": {
    "colab": {
      "name": "realpart5/Gan.ipynb",
      "provenance": [],
      "authorship_tag": "ABX9TyOagqTbSUlOTL3OVydicp4a",
      "include_colab_link": true
    },
    "kernelspec": {
      "name": "python3",
      "display_name": "Python 3"
    },
    "language_info": {
      "name": "python"
    }
  },
  "cells": [
    {
      "cell_type": "markdown",
      "metadata": {
        "id": "view-in-github",
        "colab_type": "text"
      },
      "source": [
        "<a href=\"https://colab.research.google.com/github/jnsbrdbr/thesis/blob/thesis/realpart5_Gan.ipynb\" target=\"_parent\"><img src=\"https://colab.research.google.com/assets/colab-badge.svg\" alt=\"Open In Colab\"/></a>"
      ]
    },
    {
      "cell_type": "code",
      "execution_count": null,
      "metadata": {
        "colab": {
          "base_uri": "https://localhost:8080/"
        },
        "id": "yxDlz0f99AA3",
        "outputId": "ac84f71e-966f-4bfd-83b6-12ef34a375e8"
      },
      "outputs": [
        {
          "output_type": "stream",
          "name": "stdout",
          "text": [
            "`%tensorflow_version` only switches the major version: 1.x or 2.x.\n",
            "You set: `2.x  # Colab only.`. This will be interpreted as: `2.x`.\n",
            "\n",
            "\n",
            "TensorFlow 2.x selected.\n",
            "2.8.0\n"
          ]
        }
      ],
      "source": [
        "# Install TensorFlow\n",
        "# !pip install -q tensorflow-gpu==2.0.0-rc0\n",
        "\n",
        "try:\n",
        "  %tensorflow_version 2.x  # Colab only.\n",
        "except Exception:\n",
        "  pass\n",
        "\n",
        "import tensorflow as tf\n",
        "print(tf.__version__)"
      ]
    },
    {
      "cell_type": "code",
      "source": [
        "import keras\n",
        "from keras.layers import Input, Dense, Activation, LeakyReLU, BatchNormalization\n",
        "from keras.models import Sequential\n",
        "from tensorflow.keras.optimizers import Adam\n",
        "from sklearn.model_selection import train_test_split\n",
        "from tensorflow.keras.models import Model\n",
        "import keras.backend as K\n",
        "import numpy as np\n",
        "import pandas as pd\n",
        "import matplotlib.pyplot as plt\n",
        "import sys, os\n",
        "\n",
        "%matplotlib inline"
      ],
      "metadata": {
        "id": "A_hoVr_P9HG7"
      },
      "execution_count": null,
      "outputs": []
    },
    {
      "cell_type": "code",
      "source": [
        "from google.colab import drive\n",
        "drive.mount('/content/drive') "
      ],
      "metadata": {
        "colab": {
          "base_uri": "https://localhost:8080/"
        },
        "id": "BGEQJ7nc9KOO",
        "outputId": "2b5c32b1-5cac-4d61-85d1-77338ecc260b"
      },
      "execution_count": null,
      "outputs": [
        {
          "output_type": "stream",
          "name": "stdout",
          "text": [
            "Mounted at /content/drive\n"
          ]
        }
      ]
    },
    {
      "cell_type": "code",
      "source": [
        "!pip install --upgrade tables"
      ],
      "metadata": {
        "colab": {
          "base_uri": "https://localhost:8080/"
        },
        "id": "C9_JtGAQ9QfZ",
        "outputId": "17d6e3db-0c28-4de8-f740-7fc3ed166f65"
      },
      "execution_count": null,
      "outputs": [
        {
          "output_type": "stream",
          "name": "stdout",
          "text": [
            "Requirement already satisfied: tables in /usr/local/lib/python3.7/dist-packages (3.7.0)\n",
            "Requirement already satisfied: numpy>=1.19.0 in /usr/local/lib/python3.7/dist-packages (from tables) (1.21.5)\n",
            "Requirement already satisfied: numexpr>=2.6.2 in /usr/local/lib/python3.7/dist-packages (from tables) (2.8.1)\n",
            "Requirement already satisfied: packaging in /usr/local/lib/python3.7/dist-packages (from tables) (21.3)\n",
            "Requirement already satisfied: pyparsing!=3.0.5,>=2.0.2 in /usr/local/lib/python3.7/dist-packages (from packaging->tables) (3.0.7)\n"
          ]
        }
      ]
    },
    {
      "cell_type": "code",
      "source": [
        "with pd.HDFStore('/content/drive/MyDrive/1000/part2_result',  mode='r') as newstore:\n",
        "    result = newstore.select('result')"
      ],
      "metadata": {
        "id": "-1JPJJAm9TQ_"
      },
      "execution_count": null,
      "outputs": []
    },
    {
      "cell_type": "code",
      "source": [
        "#final data\n",
        "print(result)"
      ],
      "metadata": {
        "colab": {
          "base_uri": "https://localhost:8080/"
        },
        "id": "nSg9yRXO9cG_",
        "outputId": "e801acc9-93e4-4618-b49d-f2ed4a934de3"
      },
      "execution_count": null,
      "outputs": [
        {
          "output_type": "stream",
          "name": "stdout",
          "text": [
            "             0         1         2             3             4         5  \\\n",
            "0    -1.680599 -3.061217 -0.040984  7.757348e-15 -6.745875e-15  0.078317   \n",
            "1    -1.680599 -3.061217 -0.040984 -2.988777e-14 -1.407412e-13  0.078317   \n",
            "2    -1.680599 -3.061217 -0.040984  5.562553e-14  7.819187e-14  0.078317   \n",
            "3    -1.680599 -3.061217 -0.040984 -1.396471e-13  2.548328e-13  0.078317   \n",
            "4    -1.680599 -3.061217 -0.040984  2.272886e-14  6.426107e-14  0.078317   \n",
            "...        ...       ...       ...           ...           ...       ...   \n",
            "1315 -1.680599 -3.061217 -0.040984  7.132349e-15 -2.937078e-14  0.078317   \n",
            "1316 -1.680599 -3.061217 -0.040984  7.132349e-15 -2.937078e-14  0.078317   \n",
            "1317 -1.680599 -3.061217 -0.040984  7.132349e-15 -2.937078e-14  0.078317   \n",
            "1318 -1.680599 -3.061217 -0.040984  7.132349e-15 -2.937078e-14  0.078317   \n",
            "1319 -1.680599 -3.061217 -0.040984  7.132349e-15 -2.937078e-14  0.078317   \n",
            "\n",
            "             6         7         8         9  ...         1         2  \\\n",
            "0     2.372166 -1.416845 -0.000529 -0.000526  ... -0.028635 -0.024479   \n",
            "1     2.372166 -1.416845 -0.000529 -0.000526  ... -0.028635 -0.024479   \n",
            "2     2.372166 -1.416845 -0.000529 -0.000526  ... -0.028635 -0.024479   \n",
            "3     2.372166 -1.416845 -0.000529 -0.000526  ... -0.028635 -0.024479   \n",
            "4     2.372166 -1.416845 -0.000529 -0.000526  ... -0.055735 -0.019822   \n",
            "...        ...       ...       ...       ...  ...       ...       ...   \n",
            "1315  2.372166 -1.416845 -0.000529 -0.000526  ... -0.003019  0.037326   \n",
            "1316  2.372166 -1.416845 -0.000529 -0.000526  ...  0.024994  0.096061   \n",
            "1317  2.372166 -1.416845 -0.000529 -0.000526  ...  0.009894  0.231696   \n",
            "1318  2.372166 -1.416845 -0.000529 -0.000526  ... -0.000417  0.097201   \n",
            "1319  2.372166 -1.416845 -0.000529 -0.000526  ...  0.074596  0.217670   \n",
            "\n",
            "             3         4         5         6         7         8         9  \\\n",
            "0    -0.004701 -0.015359 -0.001033 -0.003378 -0.003585 -0.006112 -0.004759   \n",
            "1    -0.004701 -0.015359 -0.001033 -0.003378 -0.003585 -0.006112 -0.004759   \n",
            "2    -0.004701 -0.015359 -0.001033 -0.003378 -0.003585 -0.006112 -0.004759   \n",
            "3    -0.004701 -0.015359 -0.001033 -0.003378 -0.003585 -0.006112 -0.004759   \n",
            "4     0.003789 -0.017827  0.017943 -0.007139  0.003623  0.006186  0.002988   \n",
            "...        ...       ...       ...       ...       ...       ...       ...   \n",
            "1315 -0.023302  0.287067 -0.039324  0.300478 -0.036912 -0.035323 -0.015205   \n",
            "1316  0.117986  0.229073 -0.172801 -0.205557 -0.013388 -0.012077 -0.016767   \n",
            "1317  0.247132 -0.053033  0.086225  0.005084 -0.004382 -0.011761 -0.013474   \n",
            "1318  0.018641  0.083537  0.328810 -0.078926  0.006393  0.004503  0.113459   \n",
            "1319 -0.243852  0.009699 -0.064909  0.107349 -0.017280 -0.022880  0.001418   \n",
            "\n",
            "      label  \n",
            "0         1  \n",
            "1         1  \n",
            "2         1  \n",
            "3         1  \n",
            "4         1  \n",
            "...     ...  \n",
            "1315      0  \n",
            "1316      0  \n",
            "1317      0  \n",
            "1318      0  \n",
            "1319      0  \n",
            "\n",
            "[1320 rows x 71 columns]\n"
          ]
        }
      ]
    },
    {
      "cell_type": "code",
      "source": [
        "#divide data in to data_label and non_data label\n",
        "\n",
        "import copy\n",
        "result_nonlabel=copy.deepcopy(result)\n",
        "del result_nonlabel['label']\n",
        "X=result_nonlabel\n",
        "y=result.label"
      ],
      "metadata": {
        "id": "frfKEoCs9gIQ"
      },
      "execution_count": null,
      "outputs": []
    },
    {
      "cell_type": "code",
      "source": [
        "#splitting data in to test and train...\n",
        "\n",
        "from sklearn.model_selection import train_test_split\n",
        "X_train, X_test, y_train, y_test = train_test_split(X, y ,random_state=42,test_size=0.3)#"
      ],
      "metadata": {
        "id": "2QXtZVM39hmh"
      },
      "execution_count": null,
      "outputs": []
    },
    {
      "cell_type": "code",
      "source": [
        "print('shape of x_train is:',X_train.shape)\n",
        "print('shape of x_test is:',X_test.shape)"
      ],
      "metadata": {
        "colab": {
          "base_uri": "https://localhost:8080/"
        },
        "id": "-uTNI9nu927y",
        "outputId": "6e2a590b-3f2d-4b99-fab4-5d03c1b4cf69"
      },
      "execution_count": null,
      "outputs": [
        {
          "output_type": "stream",
          "name": "stdout",
          "text": [
            "shape of x_train is: (924, 70)\n",
            "shape of x_test is: (396, 70)\n"
          ]
        }
      ]
    },
    {
      "cell_type": "code",
      "source": [
        "def make_latent_samples(n_samples, sample_size):\n",
        "    #return np.random.uniform(-1, 1, size=(n_samples, sample_size))\n",
        "    return np.random.normal(loc=0, scale=1, size=(n_samples, sample_size))"
      ],
      "metadata": {
        "id": "pqrUBIrH95mS"
      },
      "execution_count": null,
      "outputs": []
    },
    {
      "cell_type": "code",
      "source": [
        "make_latent_samples(1, 100) # generates one sample"
      ],
      "metadata": {
        "colab": {
          "base_uri": "https://localhost:8080/"
        },
        "id": "ULk7h_Go97uH",
        "outputId": "37ff2115-50fe-4805-b3bf-c911e9906149"
      },
      "execution_count": null,
      "outputs": [
        {
          "output_type": "execute_result",
          "data": {
            "text/plain": [
              "array([[ 1.15473461,  0.86269249, -0.86025658, -1.58231094,  0.71872971,\n",
              "         0.57795651, -0.71526079, -0.40984831,  0.78235342,  0.61639982,\n",
              "         1.59742466,  0.20199987,  0.71916818,  0.34998107, -0.20314364,\n",
              "        -0.59406273, -0.60642223,  0.72438986,  0.50690332,  1.09346699,\n",
              "         0.24493051,  0.9110851 ,  1.09791083,  0.71878589, -0.88403318,\n",
              "         0.25524732,  0.94813578, -0.26536204, -1.27577179, -0.21248068,\n",
              "        -0.38282533,  0.16808871, -0.63007516, -1.45363458,  0.17123873,\n",
              "        -0.15056317,  1.68878318,  1.76059699,  1.64927002,  2.49349231,\n",
              "        -0.22533907, -0.18634753, -0.77225674, -0.43779108,  1.00771567,\n",
              "        -1.0080786 ,  0.31610013, -0.14577102,  1.11302432, -0.95310655,\n",
              "         0.30732004,  0.86422483,  0.01530382,  0.7287894 , -0.67695675,\n",
              "        -1.47050646,  2.01250248, -0.67127452, -1.03198929,  0.79352945,\n",
              "        -0.29278373, -0.86084087, -0.35909896,  2.06242846,  0.91544904,\n",
              "         1.00745525,  0.13501622,  0.64211043, -1.61535532, -1.60794958,\n",
              "        -0.15067927,  0.16669944,  0.50318741, -1.11658362, -0.9812843 ,\n",
              "         0.01071077, -0.82013362, -0.4487237 , -0.83498063,  0.40708798,\n",
              "         0.03031347,  1.18766665, -0.89558514, -2.08045441, -0.75016472,\n",
              "         0.52698543,  0.15798206,  1.44297717,  0.09001403,  1.10725962,\n",
              "        -0.11358461, -0.4010015 ,  1.79182029, -0.00532551,  0.68610326,\n",
              "         1.29567882,  1.17171496,  1.09281414,  0.27937742, -2.27339174]])"
            ]
          },
          "metadata": {},
          "execution_count": 11
        }
      ]
    },
    {
      "cell_type": "code",
      "source": [
        "generator = Sequential([\n",
        "    Dense(128, input_shape=(100,)),\n",
        "    LeakyReLU(alpha=0.2),\n",
        "    BatchNormalization(momentum=0.7),\n",
        "\n",
        "    #Dense(100),\n",
        "    #LeakyReLU(alpha=0.2),\n",
        "    #BatchNormalization(momentum=0.7),\n",
        "\n",
        "    #Dense(1024),\n",
        "    #LeakyReLU(alpha=0.2),\n",
        "    #BatchNormalization(momentum=0.7),\n",
        "\n",
        "    #Dense(2048),\n",
        "    #LeakyReLU(alpha=0.2),\n",
        "    #BatchNormalization(momentum=0.7),\n",
        "\n",
        "    Dense(70),\n",
        "    Activation('tanh')\n",
        "], name='generator')\n",
        "\n",
        "generator.summary()"
      ],
      "metadata": {
        "colab": {
          "base_uri": "https://localhost:8080/"
        },
        "id": "NRQCCamw-Ec5",
        "outputId": "d3a8e9fc-c754-427c-a845-3225ff736b3a"
      },
      "execution_count": null,
      "outputs": [
        {
          "output_type": "stream",
          "name": "stdout",
          "text": [
            "Model: \"generator\"\n",
            "_________________________________________________________________\n",
            " Layer (type)                Output Shape              Param #   \n",
            "=================================================================\n",
            " dense (Dense)               (None, 128)               12928     \n",
            "                                                                 \n",
            " leaky_re_lu (LeakyReLU)     (None, 128)               0         \n",
            "                                                                 \n",
            " batch_normalization (BatchN  (None, 128)              512       \n",
            " ormalization)                                                   \n",
            "                                                                 \n",
            " dense_1 (Dense)             (None, 70)                9030      \n",
            "                                                                 \n",
            " activation (Activation)     (None, 70)                0         \n",
            "                                                                 \n",
            "=================================================================\n",
            "Total params: 22,470\n",
            "Trainable params: 22,214\n",
            "Non-trainable params: 256\n",
            "_________________________________________________________________\n"
          ]
        }
      ]
    },
    {
      "cell_type": "code",
      "source": [
        "discriminator = Sequential([\n",
        "    Dense(64, input_shape=(70,)),\n",
        "    LeakyReLU(alpha=0.2),\n",
        "    #BatchNormalization(momentum=0.7),\n",
        "\n",
        "    Dense(32),\n",
        "    LeakyReLU(alpha=0.2),\n",
        "    #BatchNormalization(momentum=0.7),\n",
        "\n",
        "    #Dense(128),\n",
        "    #LeakyReLU(alpha=0.2),\n",
        "    #BatchNormalization(momentum=0.7),\n",
        "    #Dense(64),\n",
        "    #LeakyReLU(alpha=0.2),\n",
        "    #BatchNormalization(momentum=0.7),\n",
        "\n",
        "    #Dense(32),\n",
        "    #LeakyReLU(alpha=0.2),\n",
        "    #BatchNormalization(momentum=0.7),\n",
        "\n",
        "    #Dense(16),\n",
        "    #LeakyReLU(alpha=0.2),\n",
        "    #BatchNormalization(momentum=0.7),\n",
        "\n",
        "    Dense(1),\n",
        "    Activation('sigmoid')\n",
        "], name='discriminator')\n",
        "\n",
        "discriminator.summary()"
      ],
      "metadata": {
        "colab": {
          "base_uri": "https://localhost:8080/"
        },
        "id": "JRnsIE5B-KKa",
        "outputId": "9b4df151-cc7d-46c5-88ac-076faa92e5f2"
      },
      "execution_count": null,
      "outputs": [
        {
          "output_type": "stream",
          "name": "stdout",
          "text": [
            "Model: \"discriminator\"\n",
            "_________________________________________________________________\n",
            " Layer (type)                Output Shape              Param #   \n",
            "=================================================================\n",
            " dense_2 (Dense)             (None, 64)                4544      \n",
            "                                                                 \n",
            " leaky_re_lu_1 (LeakyReLU)   (None, 64)                0         \n",
            "                                                                 \n",
            " dense_3 (Dense)             (None, 32)                2080      \n",
            "                                                                 \n",
            " leaky_re_lu_2 (LeakyReLU)   (None, 32)                0         \n",
            "                                                                 \n",
            " dense_4 (Dense)             (None, 1)                 33        \n",
            "                                                                 \n",
            " activation_1 (Activation)   (None, 1)                 0         \n",
            "                                                                 \n",
            "=================================================================\n",
            "Total params: 6,657\n",
            "Trainable params: 6,657\n",
            "Non-trainable params: 0\n",
            "_________________________________________________________________\n"
          ]
        }
      ]
    },
    {
      "cell_type": "code",
      "source": [
        "# maintain the same shared weights with the generator and the discriminator.\n",
        "gan = Sequential([\n",
        "    generator,\n",
        "    discriminator\n",
        "])\n",
        "\n",
        "gan.summary()"
      ],
      "metadata": {
        "colab": {
          "base_uri": "https://localhost:8080/"
        },
        "id": "MBUGC7Bb-SWv",
        "outputId": "f127bd5b-1e19-4557-dd39-8e00e91e6349"
      },
      "execution_count": null,
      "outputs": [
        {
          "output_type": "stream",
          "name": "stdout",
          "text": [
            "Model: \"sequential\"\n",
            "_________________________________________________________________\n",
            " Layer (type)                Output Shape              Param #   \n",
            "=================================================================\n",
            " generator (Sequential)      (None, 70)                22470     \n",
            "                                                                 \n",
            " discriminator (Sequential)  (None, 1)                 6657      \n",
            "                                                                 \n",
            "=================================================================\n",
            "Total params: 29,127\n",
            "Trainable params: 28,871\n",
            "Non-trainable params: 256\n",
            "_________________________________________________________________\n"
          ]
        }
      ]
    },
    {
      "cell_type": "code",
      "source": [
        "def make_trainable(model, trainable):\n",
        "    for layer in model.layers:\n",
        "        layer.trainable = trainable"
      ],
      "metadata": {
        "id": "5icOTO6Z-V2f"
      },
      "execution_count": null,
      "outputs": []
    },
    {
      "cell_type": "code",
      "source": [
        "make_trainable(discriminator, False)\n",
        "discriminator.summary()"
      ],
      "metadata": {
        "colab": {
          "base_uri": "https://localhost:8080/"
        },
        "id": "gZNa6ouG-XqZ",
        "outputId": "87ad753d-1899-479b-fecf-6546ce68e0c1"
      },
      "execution_count": null,
      "outputs": [
        {
          "output_type": "stream",
          "name": "stdout",
          "text": [
            "Model: \"discriminator\"\n",
            "_________________________________________________________________\n",
            " Layer (type)                Output Shape              Param #   \n",
            "=================================================================\n",
            " dense_2 (Dense)             (None, 64)                4544      \n",
            "                                                                 \n",
            " leaky_re_lu_1 (LeakyReLU)   (None, 64)                0         \n",
            "                                                                 \n",
            " dense_3 (Dense)             (None, 32)                2080      \n",
            "                                                                 \n",
            " leaky_re_lu_2 (LeakyReLU)   (None, 32)                0         \n",
            "                                                                 \n",
            " dense_4 (Dense)             (None, 1)                 33        \n",
            "                                                                 \n",
            " activation_1 (Activation)   (None, 1)                 0         \n",
            "                                                                 \n",
            "=================================================================\n",
            "Total params: 6,657\n",
            "Trainable params: 0\n",
            "Non-trainable params: 6,657\n",
            "_________________________________________________________________\n"
          ]
        }
      ]
    },
    {
      "cell_type": "code",
      "source": [
        "make_trainable(discriminator, True)\n",
        "discriminator.summary()"
      ],
      "metadata": {
        "colab": {
          "base_uri": "https://localhost:8080/"
        },
        "id": "uL0eVORe-ahE",
        "outputId": "34c19f16-32ca-4997-b9b6-616644abdae7"
      },
      "execution_count": null,
      "outputs": [
        {
          "output_type": "stream",
          "name": "stdout",
          "text": [
            "Model: \"discriminator\"\n",
            "_________________________________________________________________\n",
            " Layer (type)                Output Shape              Param #   \n",
            "=================================================================\n",
            " dense_2 (Dense)             (None, 64)                4544      \n",
            "                                                                 \n",
            " leaky_re_lu_1 (LeakyReLU)   (None, 64)                0         \n",
            "                                                                 \n",
            " dense_3 (Dense)             (None, 32)                2080      \n",
            "                                                                 \n",
            " leaky_re_lu_2 (LeakyReLU)   (None, 32)                0         \n",
            "                                                                 \n",
            " dense_4 (Dense)             (None, 1)                 33        \n",
            "                                                                 \n",
            " activation_1 (Activation)   (None, 1)                 0         \n",
            "                                                                 \n",
            "=================================================================\n",
            "Total params: 6,657\n",
            "Trainable params: 6,657\n",
            "Non-trainable params: 0\n",
            "_________________________________________________________________\n"
          ]
        }
      ]
    },
    {
      "cell_type": "code",
      "source": [
        "def make_simple_GAN(sample_size, \n",
        "                    g_hidden_size_1,\n",
        "                    g_hidden_size_2,\n",
        "                    g_hidden_size_3,\n",
        "                    g_hidden_size_4,\n",
        "                    d_hidden_size_1,\n",
        "                    d_hidden_size_2, \n",
        "                    d_hidden_size_3,\n",
        "                    d_hidden_size_4,\n",
        "                    d_hidden_size_5,\n",
        "                    d_hidden_size_6,\n",
        "                    leaky_alpha, \n",
        "                    g_learning_rate,\n",
        "                    d_learning_rate):\n",
        "    K.clear_session()\n",
        "    \n",
        "    generator = Sequential([\n",
        "        Dense(g_hidden_size_1, input_shape=(sample_size,)),\n",
        "        LeakyReLU(alpha=leaky_alpha),\n",
        "        BatchNormalization(momentum=0.7),\n",
        "\n",
        "        #Dense(g_hidden_size_2),\n",
        "        #LeakyReLU(alpha=leaky_alpha),\n",
        "        #BatchNormalization(momentum=0.7),\n",
        "\n",
        "        #Dense(g_hidden_size_3),\n",
        "        #LeakyReLU(alpha=leaky_alpha),\n",
        "        #BatchNormalization(momentum=0.7),\n",
        "\n",
        "        #Dense(g_hidden_size_4),\n",
        "        #LeakyReLU(alpha=leaky_alpha),\n",
        "        #BatchNormalization(momentum=0.7),\n",
        "\n",
        "        Dense(70),        \n",
        "        Activation('tanh')\n",
        "    ], name='generator')    \n",
        "\n",
        "    discriminator = Sequential([\n",
        "        Dense(d_hidden_size_1, input_shape=(70,)),\n",
        "        LeakyReLU(alpha=leaky_alpha),\n",
        "        #BatchNormalization(momentum=0.7),\n",
        "\n",
        "        Dense(d_hidden_size_2),\n",
        "        LeakyReLU(alpha=leaky_alpha),\n",
        "        #BatchNormalization(momentum=0.7),\n",
        "\n",
        "        #Dense(d_hidden_size_3),\n",
        "        #LeakyReLU(alpha=leaky_alpha),\n",
        "        #BatchNormalization(momentum=0.7),\n",
        "\n",
        "        #Dense(d_hidden_size_4),\n",
        "        #LeakyReLU(alpha=leaky_alpha),\n",
        "        #BatchNormalization(momentum=0.7),\n",
        "\n",
        "        #Dense(d_hidden_size_5),\n",
        "        #LeakyReLU(alpha=leaky_alpha),\n",
        "        #BatchNormalization(momentum=0.7),\n",
        "\n",
        "        #Dense(d_hidden_size_6),\n",
        "        #LeakyReLU(alpha=leaky_alpha),\n",
        "        #BatchNormalization(momentum=0.7),\n",
        "\n",
        "        Dense(1),\n",
        "        Activation('sigmoid')\n",
        "    ], name='discriminator')    \n",
        "    \n",
        "    gan = Sequential([\n",
        "        generator,\n",
        "        discriminator\n",
        "    ])\n",
        "    \n",
        "    discriminator.compile(optimizer=Adam(lr=d_learning_rate), loss='binary_crossentropy')\n",
        "    gan.compile(optimizer=Adam(lr=g_learning_rate), loss='binary_crossentropy')\n",
        "    \n",
        "    return gan, generator, discriminator "
      ],
      "metadata": {
        "id": "rEp_1i09-dPu"
      },
      "execution_count": null,
      "outputs": []
    },
    {
      "cell_type": "code",
      "source": [
        "from sklearn import preprocessing\n",
        "def preprocess(x):\n",
        "   x = preprocessing.scale(x)\n",
        "   return x"
      ],
      "metadata": {
        "id": "mI3nU-3_-lK-"
      },
      "execution_count": null,
      "outputs": []
    },
    {
      "cell_type": "code",
      "source": [
        "X_train_real = np.array(preprocess(X_train))\n",
        "X_test_real  = np.array(preprocess(X_test))"
      ],
      "metadata": {
        "id": "SLCAacR--m1_"
      },
      "execution_count": null,
      "outputs": []
    },
    {
      "cell_type": "code",
      "source": [
        "def make_labels(size):\n",
        "    return np.ones([size, 1]), np.zeros([size, 1])"
      ],
      "metadata": {
        "id": "WmJ4T1rT-pxE"
      },
      "execution_count": null,
      "outputs": []
    },
    {
      "cell_type": "code",
      "source": [
        "y_real_10, y_fake_10 = make_labels(10)\n",
        "\n",
        "y_real_10, y_fake_10"
      ],
      "metadata": {
        "colab": {
          "base_uri": "https://localhost:8080/"
        },
        "id": "lO2LcRot-r8O",
        "outputId": "56734d62-dc20-46ea-9d5a-b3fd30bbdb4a"
      },
      "execution_count": null,
      "outputs": [
        {
          "output_type": "execute_result",
          "data": {
            "text/plain": [
              "(array([[1.],\n",
              "        [1.],\n",
              "        [1.],\n",
              "        [1.],\n",
              "        [1.],\n",
              "        [1.],\n",
              "        [1.],\n",
              "        [1.],\n",
              "        [1.],\n",
              "        [1.]]), array([[0.],\n",
              "        [0.],\n",
              "        [0.],\n",
              "        [0.],\n",
              "        [0.],\n",
              "        [0.],\n",
              "        [0.],\n",
              "        [0.],\n",
              "        [0.],\n",
              "        [0.]]))"
            ]
          },
          "metadata": {},
          "execution_count": 22
        }
      ]
    },
    {
      "cell_type": "code",
      "source": [
        "# hyperparameters\n",
        "sample_size     = 100     # latent sample size (i.e., 100 random numbers)\n",
        "g_hidden_size_1 = 128\n",
        "g_hidden_size_2 = 0\n",
        "g_hidden_size_3 = 0\n",
        "g_hidden_size_4 = 0\n",
        "d_hidden_size_1 = 64\n",
        "d_hidden_size_2 = 32\n",
        "d_hidden_size_3 = 0\n",
        "d_hidden_size_4 = 0\n",
        "d_hidden_size_5 = 0\n",
        "d_hidden_size_6 = 0\n",
        "leaky_alpha     = 0.2\n",
        "g_learning_rate = 0.0001  # learning rate for the generator\n",
        "d_learning_rate = 0.0001   # learning rate for the discriminator\n",
        "epochs          = 100\n",
        "batch_size      = 64      # train batch size\n",
        "eval_size       = 16      # evaluate size\n",
        "smooth          = 0.1\n"
      ],
      "metadata": {
        "id": "7N6BKZv3-vZS"
      },
      "execution_count": null,
      "outputs": []
    },
    {
      "cell_type": "code",
      "source": [
        "## labels for the batch size and the test size\n",
        "y_train_real, y_train_fake = make_labels(batch_size)\n",
        "y_eval_real,  y_eval_fake  = make_labels(eval_size)\n",
        "\n",
        "# create a GAN, a generator and a discriminator\n",
        "gan, generator, discriminator = make_simple_GAN(\n",
        "    sample_size, \n",
        "    g_hidden_size_1, \n",
        "    g_hidden_size_2,\n",
        "    g_hidden_size_3,\n",
        "    g_hidden_size_4, \n",
        "    d_hidden_size_1, \n",
        "    d_hidden_size_2,\n",
        "    d_hidden_size_3,\n",
        "    d_hidden_size_4,\n",
        "    d_hidden_size_5,\n",
        "    d_hidden_size_6,\n",
        "    leaky_alpha, \n",
        "    g_learning_rate,\n",
        "    d_learning_rate)\n",
        "\n",
        "\n",
        "losses = []\n",
        "losses1 = []\n",
        "for e in range(epochs):\n",
        "    for i in range(len(X_train_real)//batch_size):\n",
        "        # real MNIST digit images\n",
        "        X_batch_real = X_train_real[i*batch_size:(i+1)*batch_size]\n",
        "        \n",
        "        # latent samples and the generated digit images\n",
        "        latent_samples = make_latent_samples(batch_size, sample_size)\n",
        "        X_batch_fake = generator.predict_on_batch(latent_samples)\n",
        "        \n",
        "        # train the discriminator to detect real and fake images\n",
        "        make_trainable(discriminator, True)\n",
        "        discriminator.train_on_batch(X_batch_real, y_train_real * (1 - smooth))\n",
        "        discriminator.train_on_batch(X_batch_fake, y_train_fake)\n",
        "\n",
        "        # train the generator via GAN\n",
        "        make_trainable(discriminator, False)\n",
        "        gan.train_on_batch(latent_samples, y_train_real)\n",
        "   # evaluate\n",
        "    X_eval_real = X_test_real[np.random.choice(len(X_test_real), eval_size, replace=False)]\n",
        "    \n",
        "    latent_samples = make_latent_samples(eval_size, sample_size)\n",
        "    X_eval_fake = generator.predict_on_batch(latent_samples)\n",
        "\n",
        "    d_loss  = discriminator.test_on_batch(X_eval_real, y_eval_real)\n",
        "    d_loss += discriminator.test_on_batch(X_eval_fake, y_eval_fake)\n",
        "    g_loss  = gan.test_on_batch(latent_samples, y_eval_real) # we want the fake to be realistic!\n",
        "    \n",
        "    losses.append((d_loss, g_loss))\n",
        "\n",
        "    d_acc_real = discriminator.train_on_batch(X_batch_real, y_train_real * (1 - smooth))\n",
        "    d_acc_fake = discriminator.train_on_batch(X_batch_fake, y_train_fake)\n",
        "    d_acc  = 0.5 * (d_acc_real + d_acc_fake)\n",
        "\n",
        "    #losses1.append(( d_acc))\n",
        "    print(\"Epoch: {:>3}/{} Discriminator Loss: {:>6.4f} Generator Loss: {:>6.4f} Discriminator acc:{:>6.4f}:\".format(\n",
        "        e+1, epochs, d_loss, g_loss,d_acc)) #Discriminator acc: {:>6.4f}:,d_acc"
      ],
      "metadata": {
        "colab": {
          "base_uri": "https://localhost:8080/"
        },
        "id": "9SYobm6e-3f0",
        "outputId": "664c9dca-2400-4956-f7ec-2e638c256dc3"
      },
      "execution_count": null,
      "outputs": [
        {
          "output_type": "stream",
          "name": "stderr",
          "text": [
            "/usr/local/lib/python3.7/dist-packages/keras/optimizer_v2/adam.py:105: UserWarning: The `lr` argument is deprecated, use `learning_rate` instead.\n",
            "  super(Adam, self).__init__(name, **kwargs)\n"
          ]
        },
        {
          "output_type": "stream",
          "name": "stdout",
          "text": [
            "Epoch:   1/100 Discriminator Loss: 1.4861 Generator Loss: 0.6917 Discriminator acc:0.7409:\n",
            "Epoch:   2/100 Discriminator Loss: 1.3642 Generator Loss: 0.6893 Discriminator acc:0.7107:\n",
            "Epoch:   3/100 Discriminator Loss: 1.3681 Generator Loss: 0.6345 Discriminator acc:0.7044:\n",
            "Epoch:   4/100 Discriminator Loss: 1.3347 Generator Loss: 0.5524 Discriminator acc:0.7213:\n",
            "Epoch:   5/100 Discriminator Loss: 1.4050 Generator Loss: 0.5136 Discriminator acc:0.6936:\n",
            "Epoch:   6/100 Discriminator Loss: 1.4381 Generator Loss: 0.4987 Discriminator acc:0.7416:\n",
            "Epoch:   7/100 Discriminator Loss: 1.2403 Generator Loss: 0.5631 Discriminator acc:0.7311:\n",
            "Epoch:   8/100 Discriminator Loss: 1.4304 Generator Loss: 0.4746 Discriminator acc:0.6925:\n",
            "Epoch:   9/100 Discriminator Loss: 1.4956 Generator Loss: 0.4401 Discriminator acc:0.7513:\n",
            "Epoch:  10/100 Discriminator Loss: 1.2824 Generator Loss: 0.4897 Discriminator acc:0.7500:\n",
            "Epoch:  11/100 Discriminator Loss: 1.5118 Generator Loss: 0.4132 Discriminator acc:0.7154:\n",
            "Epoch:  12/100 Discriminator Loss: 1.3033 Generator Loss: 0.4698 Discriminator acc:0.7443:\n",
            "Epoch:  13/100 Discriminator Loss: 1.4538 Generator Loss: 0.4300 Discriminator acc:0.7695:\n",
            "Epoch:  14/100 Discriminator Loss: 1.3727 Generator Loss: 0.4495 Discriminator acc:0.7483:\n",
            "Epoch:  15/100 Discriminator Loss: 1.5565 Generator Loss: 0.3979 Discriminator acc:0.7941:\n",
            "Epoch:  16/100 Discriminator Loss: 1.4334 Generator Loss: 0.4091 Discriminator acc:0.7561:\n",
            "Epoch:  17/100 Discriminator Loss: 1.4881 Generator Loss: 0.4061 Discriminator acc:0.7632:\n",
            "Epoch:  18/100 Discriminator Loss: 1.4192 Generator Loss: 0.4129 Discriminator acc:0.7596:\n",
            "Epoch:  19/100 Discriminator Loss: 1.4478 Generator Loss: 0.4099 Discriminator acc:0.7660:\n",
            "Epoch:  20/100 Discriminator Loss: 1.3842 Generator Loss: 0.4416 Discriminator acc:0.7643:\n",
            "Epoch:  21/100 Discriminator Loss: 1.4811 Generator Loss: 0.3969 Discriminator acc:0.7604:\n",
            "Epoch:  22/100 Discriminator Loss: 1.4476 Generator Loss: 0.4295 Discriminator acc:0.7676:\n",
            "Epoch:  23/100 Discriminator Loss: 1.4564 Generator Loss: 0.3953 Discriminator acc:0.7605:\n",
            "Epoch:  24/100 Discriminator Loss: 1.4180 Generator Loss: 0.4186 Discriminator acc:0.7581:\n",
            "Epoch:  25/100 Discriminator Loss: 1.4478 Generator Loss: 0.4107 Discriminator acc:0.7567:\n",
            "Epoch:  26/100 Discriminator Loss: 1.4914 Generator Loss: 0.3683 Discriminator acc:0.7965:\n",
            "Epoch:  27/100 Discriminator Loss: 1.4853 Generator Loss: 0.3906 Discriminator acc:0.7660:\n",
            "Epoch:  28/100 Discriminator Loss: 1.3925 Generator Loss: 0.4221 Discriminator acc:0.7896:\n",
            "Epoch:  29/100 Discriminator Loss: 1.5221 Generator Loss: 0.3591 Discriminator acc:0.7856:\n",
            "Epoch:  30/100 Discriminator Loss: 1.4688 Generator Loss: 0.3874 Discriminator acc:0.7728:\n",
            "Epoch:  31/100 Discriminator Loss: 1.4973 Generator Loss: 0.3739 Discriminator acc:0.7567:\n",
            "Epoch:  32/100 Discriminator Loss: 1.4074 Generator Loss: 0.4106 Discriminator acc:0.7680:\n",
            "Epoch:  33/100 Discriminator Loss: 1.4017 Generator Loss: 0.4162 Discriminator acc:0.7739:\n",
            "Epoch:  34/100 Discriminator Loss: 1.4372 Generator Loss: 0.3963 Discriminator acc:0.7828:\n",
            "Epoch:  35/100 Discriminator Loss: 1.4422 Generator Loss: 0.3997 Discriminator acc:0.7741:\n",
            "Epoch:  36/100 Discriminator Loss: 1.4734 Generator Loss: 0.3765 Discriminator acc:0.7828:\n",
            "Epoch:  37/100 Discriminator Loss: 1.4814 Generator Loss: 0.3831 Discriminator acc:0.7792:\n",
            "Epoch:  38/100 Discriminator Loss: 1.3609 Generator Loss: 0.4303 Discriminator acc:0.7693:\n",
            "Epoch:  39/100 Discriminator Loss: 1.4434 Generator Loss: 0.4108 Discriminator acc:0.7609:\n",
            "Epoch:  40/100 Discriminator Loss: 1.4592 Generator Loss: 0.3904 Discriminator acc:0.7770:\n",
            "Epoch:  41/100 Discriminator Loss: 1.4151 Generator Loss: 0.4046 Discriminator acc:0.7651:\n",
            "Epoch:  42/100 Discriminator Loss: 1.3933 Generator Loss: 0.4134 Discriminator acc:0.7793:\n",
            "Epoch:  43/100 Discriminator Loss: 1.4351 Generator Loss: 0.3850 Discriminator acc:0.7541:\n",
            "Epoch:  44/100 Discriminator Loss: 1.4513 Generator Loss: 0.3980 Discriminator acc:0.7742:\n",
            "Epoch:  45/100 Discriminator Loss: 1.5323 Generator Loss: 0.3544 Discriminator acc:0.7610:\n",
            "Epoch:  46/100 Discriminator Loss: 1.5164 Generator Loss: 0.3731 Discriminator acc:0.7949:\n",
            "Epoch:  47/100 Discriminator Loss: 1.5029 Generator Loss: 0.3757 Discriminator acc:0.7655:\n",
            "Epoch:  48/100 Discriminator Loss: 1.4757 Generator Loss: 0.3711 Discriminator acc:0.7606:\n",
            "Epoch:  49/100 Discriminator Loss: 1.4369 Generator Loss: 0.3894 Discriminator acc:0.7937:\n",
            "Epoch:  50/100 Discriminator Loss: 1.4646 Generator Loss: 0.3814 Discriminator acc:0.7736:\n",
            "Epoch:  51/100 Discriminator Loss: 1.5370 Generator Loss: 0.3484 Discriminator acc:0.7646:\n",
            "Epoch:  52/100 Discriminator Loss: 1.3949 Generator Loss: 0.4187 Discriminator acc:0.7551:\n",
            "Epoch:  53/100 Discriminator Loss: 1.4947 Generator Loss: 0.3779 Discriminator acc:0.7739:\n",
            "Epoch:  54/100 Discriminator Loss: 1.3790 Generator Loss: 0.4107 Discriminator acc:0.7964:\n",
            "Epoch:  55/100 Discriminator Loss: 1.4232 Generator Loss: 0.3886 Discriminator acc:0.7596:\n",
            "Epoch:  56/100 Discriminator Loss: 1.4583 Generator Loss: 0.3744 Discriminator acc:0.7815:\n",
            "Epoch:  57/100 Discriminator Loss: 1.3705 Generator Loss: 0.4263 Discriminator acc:0.7708:\n",
            "Epoch:  58/100 Discriminator Loss: 1.5254 Generator Loss: 0.3706 Discriminator acc:0.7572:\n",
            "Epoch:  59/100 Discriminator Loss: 1.4506 Generator Loss: 0.4005 Discriminator acc:0.7917:\n",
            "Epoch:  60/100 Discriminator Loss: 1.4775 Generator Loss: 0.3821 Discriminator acc:0.7418:\n",
            "Epoch:  61/100 Discriminator Loss: 1.5214 Generator Loss: 0.3834 Discriminator acc:0.7630:\n",
            "Epoch:  62/100 Discriminator Loss: 1.4200 Generator Loss: 0.3948 Discriminator acc:0.7762:\n",
            "Epoch:  63/100 Discriminator Loss: 1.3984 Generator Loss: 0.4047 Discriminator acc:0.7950:\n",
            "Epoch:  64/100 Discriminator Loss: 1.4595 Generator Loss: 0.3962 Discriminator acc:0.7661:\n",
            "Epoch:  65/100 Discriminator Loss: 1.4151 Generator Loss: 0.4000 Discriminator acc:0.7629:\n",
            "Epoch:  66/100 Discriminator Loss: 1.4631 Generator Loss: 0.3734 Discriminator acc:0.7716:\n",
            "Epoch:  67/100 Discriminator Loss: 1.4411 Generator Loss: 0.3824 Discriminator acc:0.7955:\n",
            "Epoch:  68/100 Discriminator Loss: 1.4204 Generator Loss: 0.4100 Discriminator acc:0.7486:\n",
            "Epoch:  69/100 Discriminator Loss: 1.5118 Generator Loss: 0.3731 Discriminator acc:0.7770:\n",
            "Epoch:  70/100 Discriminator Loss: 1.5203 Generator Loss: 0.3593 Discriminator acc:0.7546:\n",
            "Epoch:  71/100 Discriminator Loss: 1.4543 Generator Loss: 0.3832 Discriminator acc:0.7609:\n",
            "Epoch:  72/100 Discriminator Loss: 1.4738 Generator Loss: 0.3636 Discriminator acc:0.7545:\n",
            "Epoch:  73/100 Discriminator Loss: 1.4209 Generator Loss: 0.4009 Discriminator acc:0.7567:\n",
            "Epoch:  74/100 Discriminator Loss: 1.4341 Generator Loss: 0.3838 Discriminator acc:0.7623:\n",
            "Epoch:  75/100 Discriminator Loss: 1.4823 Generator Loss: 0.3989 Discriminator acc:0.7558:\n",
            "Epoch:  76/100 Discriminator Loss: 1.4533 Generator Loss: 0.3708 Discriminator acc:0.7678:\n",
            "Epoch:  77/100 Discriminator Loss: 1.4892 Generator Loss: 0.3802 Discriminator acc:0.7609:\n",
            "Epoch:  78/100 Discriminator Loss: 1.4098 Generator Loss: 0.3875 Discriminator acc:0.7620:\n",
            "Epoch:  79/100 Discriminator Loss: 1.4039 Generator Loss: 0.4085 Discriminator acc:0.7487:\n",
            "Epoch:  80/100 Discriminator Loss: 1.4855 Generator Loss: 0.3880 Discriminator acc:0.7686:\n",
            "Epoch:  81/100 Discriminator Loss: 1.4607 Generator Loss: 0.3953 Discriminator acc:0.7582:\n",
            "Epoch:  82/100 Discriminator Loss: 1.4727 Generator Loss: 0.3890 Discriminator acc:0.7495:\n",
            "Epoch:  83/100 Discriminator Loss: 1.4928 Generator Loss: 0.3679 Discriminator acc:0.7617:\n",
            "Epoch:  84/100 Discriminator Loss: 1.3678 Generator Loss: 0.4274 Discriminator acc:0.7477:\n",
            "Epoch:  85/100 Discriminator Loss: 1.3711 Generator Loss: 0.4239 Discriminator acc:0.7663:\n",
            "Epoch:  86/100 Discriminator Loss: 1.4158 Generator Loss: 0.3912 Discriminator acc:0.7496:\n",
            "Epoch:  87/100 Discriminator Loss: 1.4344 Generator Loss: 0.3873 Discriminator acc:0.7510:\n",
            "Epoch:  88/100 Discriminator Loss: 1.4283 Generator Loss: 0.3835 Discriminator acc:0.7541:\n",
            "Epoch:  89/100 Discriminator Loss: 1.4355 Generator Loss: 0.4015 Discriminator acc:0.7370:\n",
            "Epoch:  90/100 Discriminator Loss: 1.4751 Generator Loss: 0.3746 Discriminator acc:0.7619:\n",
            "Epoch:  91/100 Discriminator Loss: 1.4578 Generator Loss: 0.3855 Discriminator acc:0.7534:\n",
            "Epoch:  92/100 Discriminator Loss: 1.4437 Generator Loss: 0.3751 Discriminator acc:0.7471:\n",
            "Epoch:  93/100 Discriminator Loss: 1.4229 Generator Loss: 0.4079 Discriminator acc:0.7664:\n",
            "Epoch:  94/100 Discriminator Loss: 1.4581 Generator Loss: 0.3835 Discriminator acc:0.7626:\n",
            "Epoch:  95/100 Discriminator Loss: 1.5057 Generator Loss: 0.3637 Discriminator acc:0.7516:\n",
            "Epoch:  96/100 Discriminator Loss: 1.4253 Generator Loss: 0.4008 Discriminator acc:0.7400:\n",
            "Epoch:  97/100 Discriminator Loss: 1.4228 Generator Loss: 0.3920 Discriminator acc:0.7584:\n",
            "Epoch:  98/100 Discriminator Loss: 1.4703 Generator Loss: 0.3957 Discriminator acc:0.7609:\n",
            "Epoch:  99/100 Discriminator Loss: 1.4451 Generator Loss: 0.3979 Discriminator acc:0.7493:\n",
            "Epoch: 100/100 Discriminator Loss: 1.3387 Generator Loss: 0.4352 Discriminator acc:0.7379:\n"
          ]
        }
      ]
    },
    {
      "cell_type": "code",
      "source": [
        "losses = np.array(losses)\n",
        "\n",
        "fig, ax = plt.subplots()\n",
        "plt.plot(losses.T[0], label='Discriminator')\n",
        "plt.plot(losses.T[1], label='Generator')\n",
        "plt.title(\"Training Losses\")\n",
        "plt.legend()\n",
        "plt.show()"
      ],
      "metadata": {
        "colab": {
          "base_uri": "https://localhost:8080/",
          "height": 281
        },
        "id": "-Pczfh-C_rC-",
        "outputId": "9b1ada9e-109f-4568-ef68-5db0ebc6439d"
      },
      "execution_count": null,
      "outputs": [
        {
          "output_type": "display_data",
          "data": {
            "image/png": "[encoded data removed]",
            "text/plain": [
              "<Figure size 432x288 with 1 Axes>"
            ]
          },
          "metadata": {
            "needs_background": "light"
          }
        }
      ]
    },
    {
      "cell_type": "code",
      "source": [
        "rr = discriminator.predict_on_batch(X_test_real)"
      ],
      "metadata": {
        "id": "THaYGfNm_t7H"
      },
      "execution_count": null,
      "outputs": []
    },
    {
      "cell_type": "code",
      "source": [
        "import keras\n",
        "#import keras_metrics\n",
        "\n",
        "r = tf.keras.metrics.Recall()#thresholds=rr.min())\n",
        "r.update_state(y_test,rr )\n",
        "r.result().numpy()\n"
      ],
      "metadata": {
        "colab": {
          "base_uri": "https://localhost:8080/"
        },
        "id": "y4YHTlv6_wKG",
        "outputId": "421c4c4d-7d8f-4df6-fefa-a4fddd53fa7a"
      },
      "execution_count": null,
      "outputs": [
        {
          "output_type": "execute_result",
          "data": {
            "text/plain": [
              "1.0"
            ]
          },
          "metadata": {},
          "execution_count": 27
        }
      ]
    },
    {
      "cell_type": "code",
      "source": [
        "p=tf.keras.metrics.Precision()#thresholds=rr.min())\n",
        "p.update_state(y_test,rr )\n",
        "p.result().numpy()"
      ],
      "metadata": {
        "colab": {
          "base_uri": "https://localhost:8080/"
        },
        "id": "4Wgx-224_yPg",
        "outputId": "7ca5a4de-34b3-4f20-a3d6-5047d105ec5e"
      },
      "execution_count": null,
      "outputs": [
        {
          "output_type": "execute_result",
          "data": {
            "text/plain": [
              "0.7633588"
            ]
          },
          "metadata": {},
          "execution_count": 28
        }
      ]
    },
    {
      "cell_type": "code",
      "source": [
        "r = tf.keras.metrics.BinaryAccuracy()#thresholds=rr.min())\n",
        "r.update_state(y_test,rr )\n",
        "r.result().numpy()\n"
      ],
      "metadata": {
        "id": "-_wSd1aqIKdo",
        "outputId": "dab668a9-d1e6-4b80-f10e-c4e737f4da24",
        "colab": {
          "base_uri": "https://localhost:8080/"
        }
      },
      "execution_count": null,
      "outputs": [
        {
          "output_type": "execute_result",
          "data": {
            "text/plain": [
              "0.7651515"
            ]
          },
          "metadata": {},
          "execution_count": 29
        }
      ]
    }
  ]
}