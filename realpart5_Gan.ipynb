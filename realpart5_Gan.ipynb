{
  "nbformat": 4,
  "nbformat_minor": 0,
  "metadata": {
    "colab": {
      "name": "realpart5/Gan.ipynb",
      "provenance": [],
      "authorship_tag": "ABX9TyOVOZjedLp5n9ghEQckYxqJ",
      "include_colab_link": true
    },
    "kernelspec": {
      "name": "python3",
      "display_name": "Python 3"
    },
    "language_info": {
      "name": "python"
    }
  },
  "cells": [
    {
      "cell_type": "markdown",
      "metadata": {
        "id": "view-in-github",
        "colab_type": "text"
      },
      "source": [
        "<a href=\"https://colab.research.google.com/github/jnsbrdbr/thesis/blob/thesis/realpart5_Gan.ipynb\" target=\"_parent\"><img src=\"https://colab.research.google.com/assets/colab-badge.svg\" alt=\"Open In Colab\"/></a>"
      ]
    },
    {
      "cell_type": "code",
      "execution_count": null,
      "metadata": {
        "colab": {
          "base_uri": "https://localhost:8080/"
        },
        "id": "yxDlz0f99AA3",
        "outputId": "5f353372-0030-411c-e5b6-6f0dd32930e5"
      },
      "outputs": [
        {
          "output_type": "stream",
          "name": "stdout",
          "text": [
            "`%tensorflow_version` only switches the major version: 1.x or 2.x.\n",
            "You set: `2.x  # Colab only.`. This will be interpreted as: `2.x`.\n",
            "\n",
            "\n",
            "TensorFlow 2.x selected.\n",
            "2.8.0\n"
          ]
        }
      ],
      "source": [
        "# Install TensorFlow\n",
        "# !pip install -q tensorflow-gpu==2.0.0-rc0\n",
        "\n",
        "try:\n",
        "  %tensorflow_version 2.x  # Colab only.\n",
        "except Exception:\n",
        "  pass\n",
        "\n",
        "import tensorflow as tf\n",
        "print(tf.__version__)"
      ]
    },
    {
      "cell_type": "code",
      "source": [
        "import keras\n",
        "from keras.layers import Input, Dense, Activation, LeakyReLU, BatchNormalization\n",
        "from keras.models import Sequential\n",
        "from tensorflow.keras.optimizers import Adam\n",
        "from sklearn.model_selection import train_test_split\n",
        "from tensorflow.keras.models import Model\n",
        "import keras.backend as K\n",
        "import numpy as np\n",
        "import pandas as pd\n",
        "import matplotlib.pyplot as plt\n",
        "import sys, os\n",
        "\n",
        "%matplotlib inline"
      ],
      "metadata": {
        "id": "A_hoVr_P9HG7"
      },
      "execution_count": null,
      "outputs": []
    },
    {
      "cell_type": "code",
      "source": [
        "from google.colab import drive\n",
        "drive.mount('/content/drive') "
      ],
      "metadata": {
        "colab": {
          "base_uri": "https://localhost:8080/"
        },
        "id": "BGEQJ7nc9KOO",
        "outputId": "cb1af22b-8903-461d-cf26-eb8fd8692f0a"
      },
      "execution_count": null,
      "outputs": [
        {
          "output_type": "stream",
          "name": "stdout",
          "text": [
            "Drive already mounted at /content/drive; to attempt to forcibly remount, call drive.mount(\"/content/drive\", force_remount=True).\n"
          ]
        }
      ]
    },
    {
      "cell_type": "code",
      "source": [
        "!pip install --upgrade tables"
      ],
      "metadata": {
        "colab": {
          "base_uri": "https://localhost:8080/"
        },
        "id": "C9_JtGAQ9QfZ",
        "outputId": "6ed27b27-55aa-402e-b7ab-003ea3bc7f74"
      },
      "execution_count": null,
      "outputs": [
        {
          "output_type": "stream",
          "name": "stdout",
          "text": [
            "Requirement already satisfied: tables in /usr/local/lib/python3.7/dist-packages (3.7.0)\n",
            "Requirement already satisfied: numpy>=1.19.0 in /usr/local/lib/python3.7/dist-packages (from tables) (1.21.5)\n",
            "Requirement already satisfied: numexpr>=2.6.2 in /usr/local/lib/python3.7/dist-packages (from tables) (2.8.1)\n",
            "Requirement already satisfied: packaging in /usr/local/lib/python3.7/dist-packages (from tables) (21.3)\n",
            "Requirement already satisfied: pyparsing!=3.0.5,>=2.0.2 in /usr/local/lib/python3.7/dist-packages (from packaging->tables) (3.0.7)\n"
          ]
        }
      ]
    },
    {
      "cell_type": "code",
      "source": [
        "with pd.HDFStore('/content/drive/MyDrive/1000/part2_result',  mode='r') as newstore:\n",
        "    result = newstore.select('result')"
      ],
      "metadata": {
        "id": "-1JPJJAm9TQ_"
      },
      "execution_count": null,
      "outputs": []
    },
    {
      "cell_type": "code",
      "source": [
        "#final data\n",
        "print(result)"
      ],
      "metadata": {
        "colab": {
          "base_uri": "https://localhost:8080/"
        },
        "id": "nSg9yRXO9cG_",
        "outputId": "c36cb427-f09e-4e2b-c08b-beaa187fcdab"
      },
      "execution_count": null,
      "outputs": [
        {
          "output_type": "stream",
          "name": "stdout",
          "text": [
            "             0         1         2             3             4         5  \\\n",
            "0    -1.680599 -3.061217 -0.040984  7.757348e-15 -6.745875e-15  0.078317   \n",
            "1    -1.680599 -3.061217 -0.040984 -2.988777e-14 -1.407412e-13  0.078317   \n",
            "2    -1.680599 -3.061217 -0.040984  5.562553e-14  7.819187e-14  0.078317   \n",
            "3    -1.680599 -3.061217 -0.040984 -1.396471e-13  2.548328e-13  0.078317   \n",
            "4    -1.680599 -3.061217 -0.040984  2.272886e-14  6.426107e-14  0.078317   \n",
            "...        ...       ...       ...           ...           ...       ...   \n",
            "1315 -1.680599 -3.061217 -0.040984  7.132349e-15 -2.937078e-14  0.078317   \n",
            "1316 -1.680599 -3.061217 -0.040984  7.132349e-15 -2.937078e-14  0.078317   \n",
            "1317 -1.680599 -3.061217 -0.040984  7.132349e-15 -2.937078e-14  0.078317   \n",
            "1318 -1.680599 -3.061217 -0.040984  7.132349e-15 -2.937078e-14  0.078317   \n",
            "1319 -1.680599 -3.061217 -0.040984  7.132349e-15 -2.937078e-14  0.078317   \n",
            "\n",
            "             6         7         8         9  ...         1         2  \\\n",
            "0     2.372166 -1.416845 -0.000529 -0.000526  ... -0.028635 -0.024479   \n",
            "1     2.372166 -1.416845 -0.000529 -0.000526  ... -0.028635 -0.024479   \n",
            "2     2.372166 -1.416845 -0.000529 -0.000526  ... -0.028635 -0.024479   \n",
            "3     2.372166 -1.416845 -0.000529 -0.000526  ... -0.028635 -0.024479   \n",
            "4     2.372166 -1.416845 -0.000529 -0.000526  ... -0.055735 -0.019822   \n",
            "...        ...       ...       ...       ...  ...       ...       ...   \n",
            "1315  2.372166 -1.416845 -0.000529 -0.000526  ... -0.003019  0.037326   \n",
            "1316  2.372166 -1.416845 -0.000529 -0.000526  ...  0.024994  0.096061   \n",
            "1317  2.372166 -1.416845 -0.000529 -0.000526  ...  0.009894  0.231696   \n",
            "1318  2.372166 -1.416845 -0.000529 -0.000526  ... -0.000417  0.097201   \n",
            "1319  2.372166 -1.416845 -0.000529 -0.000526  ...  0.074596  0.217670   \n",
            "\n",
            "             3         4         5         6         7         8         9  \\\n",
            "0    -0.004701 -0.015359 -0.001033 -0.003378 -0.003585 -0.006112 -0.004759   \n",
            "1    -0.004701 -0.015359 -0.001033 -0.003378 -0.003585 -0.006112 -0.004759   \n",
            "2    -0.004701 -0.015359 -0.001033 -0.003378 -0.003585 -0.006112 -0.004759   \n",
            "3    -0.004701 -0.015359 -0.001033 -0.003378 -0.003585 -0.006112 -0.004759   \n",
            "4     0.003789 -0.017827  0.017943 -0.007139  0.003623  0.006186  0.002988   \n",
            "...        ...       ...       ...       ...       ...       ...       ...   \n",
            "1315 -0.023302  0.287067 -0.039324  0.300478 -0.036912 -0.035323 -0.015205   \n",
            "1316  0.117986  0.229073 -0.172801 -0.205557 -0.013388 -0.012077 -0.016767   \n",
            "1317  0.247132 -0.053033  0.086225  0.005084 -0.004382 -0.011761 -0.013474   \n",
            "1318  0.018641  0.083537  0.328810 -0.078926  0.006393  0.004503  0.113459   \n",
            "1319 -0.243852  0.009699 -0.064909  0.107349 -0.017280 -0.022880  0.001418   \n",
            "\n",
            "      label  \n",
            "0         1  \n",
            "1         1  \n",
            "2         1  \n",
            "3         1  \n",
            "4         1  \n",
            "...     ...  \n",
            "1315      0  \n",
            "1316      0  \n",
            "1317      0  \n",
            "1318      0  \n",
            "1319      0  \n",
            "\n",
            "[1320 rows x 71 columns]\n"
          ]
        }
      ]
    },
    {
      "cell_type": "code",
      "source": [
        "#divide data in to data_label and non_data label\n",
        "\n",
        "import copy\n",
        "result_nonlabel=copy.deepcopy(result)\n",
        "del result_nonlabel['label']\n",
        "X=result_nonlabel\n",
        "y=result.label"
      ],
      "metadata": {
        "id": "frfKEoCs9gIQ"
      },
      "execution_count": null,
      "outputs": []
    },
    {
      "cell_type": "code",
      "source": [
        "#splitting data in to test and train...\n",
        "\n",
        "from sklearn.model_selection import train_test_split\n",
        "X_train, X_test, y_train, y_test = train_test_split(X, y ,random_state=42,test_size=0.3)#"
      ],
      "metadata": {
        "id": "2QXtZVM39hmh"
      },
      "execution_count": null,
      "outputs": []
    },
    {
      "cell_type": "code",
      "source": [
        "print('shape of x_train is:',X_train.shape)\n",
        "print('shape of x_test is:',X_test.shape)"
      ],
      "metadata": {
        "colab": {
          "base_uri": "https://localhost:8080/"
        },
        "id": "-uTNI9nu927y",
        "outputId": "63a84199-4021-48d3-c5cc-55cbe1657177"
      },
      "execution_count": null,
      "outputs": [
        {
          "output_type": "stream",
          "name": "stdout",
          "text": [
            "shape of x_train is: (924, 70)\n",
            "shape of x_test is: (396, 70)\n"
          ]
        }
      ]
    },
    {
      "cell_type": "code",
      "source": [
        "def make_latent_samples(n_samples, sample_size):\n",
        "    #return np.random.uniform(-1, 1, size=(n_samples, sample_size))\n",
        "    return np.random.normal(loc=0, scale=1, size=(n_samples, sample_size))"
      ],
      "metadata": {
        "id": "pqrUBIrH95mS"
      },
      "execution_count": null,
      "outputs": []
    },
    {
      "cell_type": "code",
      "source": [
        "make_latent_samples(1, 100) # generates one sample"
      ],
      "metadata": {
        "colab": {
          "base_uri": "https://localhost:8080/"
        },
        "id": "ULk7h_Go97uH",
        "outputId": "65bc6622-e89f-42b7-92ca-b28d4d4690dd"
      },
      "execution_count": null,
      "outputs": [
        {
          "output_type": "execute_result",
          "data": {
            "text/plain": [
              "array([[ 0.14198829,  1.16566668,  0.22101163,  1.30755775, -0.54308865,\n",
              "         0.77307554,  0.9445489 , -0.69449276,  1.84715093,  0.46123308,\n",
              "         2.233761  , -0.88257734, -1.19319125, -0.38039443, -1.53613681,\n",
              "        -0.88695566, -0.7976077 , -0.36529126, -0.33254258,  0.71805297,\n",
              "        -2.13281878, -0.20373369, -1.59682998, -2.51743558, -0.30673064,\n",
              "         1.37633773, -0.75710621,  1.92686103,  1.3938431 , -1.13195962,\n",
              "         1.26603387, -0.8547645 , -1.65928427, -0.80461673,  0.75312529,\n",
              "         1.13111581, -0.84850221, -0.04270587, -0.81808475,  0.41001138,\n",
              "        -0.48227514, -0.02385839,  1.8323758 , -0.95733722, -1.22429406,\n",
              "        -0.20173347,  1.12354992,  0.84997865, -2.2037565 , -0.40075122,\n",
              "         0.2267543 , -0.97529965, -1.67658493,  0.18885482,  0.79808217,\n",
              "        -1.43030915, -1.45677814, -0.75999976, -0.72928298,  1.66585724,\n",
              "         2.21320405,  0.1653583 , -1.68314635,  0.85572097,  1.35616649,\n",
              "         1.0541187 , -1.60248596, -1.27579479, -1.61094713, -0.31060071,\n",
              "        -0.38741893, -0.56269994,  0.32053093,  1.06544479, -0.08740618,\n",
              "        -0.31854181,  1.78998533,  0.2406368 ,  0.77188063,  1.50160866,\n",
              "         0.96490967, -1.17312808,  1.06469493, -0.69840893,  2.11941221,\n",
              "         0.0607343 , -0.35893272,  1.35639286,  0.24721721,  0.16006179,\n",
              "        -0.46150526,  0.6570862 , -0.18235878, -0.32395283, -0.92906631,\n",
              "        -0.97742633,  0.16225463,  1.36754823, -0.93656615,  0.89060808]])"
            ]
          },
          "metadata": {},
          "execution_count": 11
        }
      ]
    },
    {
      "cell_type": "code",
      "source": [
        "generator = Sequential([\n",
        "    Dense(128, input_shape=(100,)),\n",
        "    LeakyReLU(alpha=0.2),\n",
        "    BatchNormalization(momentum=0.7),\n",
        "\n",
        "    #Dense(100),\n",
        "    #LeakyReLU(alpha=0.2),\n",
        "    #BatchNormalization(momentum=0.7),\n",
        "\n",
        "    #Dense(1024),\n",
        "    #LeakyReLU(alpha=0.2),\n",
        "    #BatchNormalization(momentum=0.7),\n",
        "\n",
        "    #Dense(2048),\n",
        "    #LeakyReLU(alpha=0.2),\n",
        "    #BatchNormalization(momentum=0.7),\n",
        "\n",
        "    Dense(70),\n",
        "    Activation('tanh')\n",
        "], name='generator')\n",
        "\n",
        "generator.summary()"
      ],
      "metadata": {
        "colab": {
          "base_uri": "https://localhost:8080/"
        },
        "id": "NRQCCamw-Ec5",
        "outputId": "78e9f9b5-9de0-43e1-8506-e1dda9d4dd16"
      },
      "execution_count": null,
      "outputs": [
        {
          "output_type": "stream",
          "name": "stdout",
          "text": [
            "Model: \"generator\"\n",
            "_________________________________________________________________\n",
            " Layer (type)                Output Shape              Param #   \n",
            "=================================================================\n",
            " dense (Dense)               (None, 128)               12928     \n",
            "                                                                 \n",
            " leaky_re_lu (LeakyReLU)     (None, 128)               0         \n",
            "                                                                 \n",
            " batch_normalization (BatchN  (None, 128)              512       \n",
            " ormalization)                                                   \n",
            "                                                                 \n",
            " dense_1 (Dense)             (None, 70)                9030      \n",
            "                                                                 \n",
            " activation (Activation)     (None, 70)                0         \n",
            "                                                                 \n",
            "=================================================================\n",
            "Total params: 22,470\n",
            "Trainable params: 22,214\n",
            "Non-trainable params: 256\n",
            "_________________________________________________________________\n"
          ]
        }
      ]
    },
    {
      "cell_type": "code",
      "source": [
        "discriminator = Sequential([\n",
        "    Dense(64, input_shape=(70,)),\n",
        "    LeakyReLU(alpha=0.2),\n",
        "    #BatchNormalization(momentum=0.7),\n",
        "\n",
        "    Dense(32),\n",
        "    LeakyReLU(alpha=0.2),\n",
        "    #BatchNormalization(momentum=0.7),\n",
        "\n",
        "    #Dense(128),\n",
        "    #LeakyReLU(alpha=0.2),\n",
        "    #BatchNormalization(momentum=0.7),\n",
        "    #Dense(64),\n",
        "    #LeakyReLU(alpha=0.2),\n",
        "    #BatchNormalization(momentum=0.7),\n",
        "\n",
        "    #Dense(32),\n",
        "    #LeakyReLU(alpha=0.2),\n",
        "    #BatchNormalization(momentum=0.7),\n",
        "\n",
        "    #Dense(16),\n",
        "    #LeakyReLU(alpha=0.2),\n",
        "    #BatchNormalization(momentum=0.7),\n",
        "\n",
        "    Dense(1),\n",
        "    Activation('sigmoid')\n",
        "], name='discriminator')\n",
        "\n",
        "discriminator.summary()"
      ],
      "metadata": {
        "colab": {
          "base_uri": "https://localhost:8080/"
        },
        "id": "JRnsIE5B-KKa",
        "outputId": "05d46112-53d6-4bc7-f035-5a06fb2c4306"
      },
      "execution_count": null,
      "outputs": [
        {
          "output_type": "stream",
          "name": "stdout",
          "text": [
            "Model: \"discriminator\"\n",
            "_________________________________________________________________\n",
            " Layer (type)                Output Shape              Param #   \n",
            "=================================================================\n",
            " dense_2 (Dense)             (None, 64)                4544      \n",
            "                                                                 \n",
            " leaky_re_lu_1 (LeakyReLU)   (None, 64)                0         \n",
            "                                                                 \n",
            " dense_3 (Dense)             (None, 32)                2080      \n",
            "                                                                 \n",
            " leaky_re_lu_2 (LeakyReLU)   (None, 32)                0         \n",
            "                                                                 \n",
            " dense_4 (Dense)             (None, 1)                 33        \n",
            "                                                                 \n",
            " activation_1 (Activation)   (None, 1)                 0         \n",
            "                                                                 \n",
            "=================================================================\n",
            "Total params: 6,657\n",
            "Trainable params: 6,657\n",
            "Non-trainable params: 0\n",
            "_________________________________________________________________\n"
          ]
        }
      ]
    },
    {
      "cell_type": "code",
      "source": [
        "# maintain the same shared weights with the generator and the discriminator.\n",
        "gan = Sequential([\n",
        "    generator,\n",
        "    discriminator\n",
        "])\n",
        "\n",
        "gan.summary()"
      ],
      "metadata": {
        "colab": {
          "base_uri": "https://localhost:8080/"
        },
        "id": "MBUGC7Bb-SWv",
        "outputId": "26763215-d445-4207-a7c3-83f83d00ea06"
      },
      "execution_count": null,
      "outputs": [
        {
          "output_type": "stream",
          "name": "stdout",
          "text": [
            "Model: \"sequential\"\n",
            "_________________________________________________________________\n",
            " Layer (type)                Output Shape              Param #   \n",
            "=================================================================\n",
            " generator (Sequential)      (None, 70)                22470     \n",
            "                                                                 \n",
            " discriminator (Sequential)  (None, 1)                 6657      \n",
            "                                                                 \n",
            "=================================================================\n",
            "Total params: 29,127\n",
            "Trainable params: 28,871\n",
            "Non-trainable params: 256\n",
            "_________________________________________________________________\n"
          ]
        }
      ]
    },
    {
      "cell_type": "code",
      "source": [
        "def make_trainable(model, trainable):\n",
        "    for layer in model.layers:\n",
        "        layer.trainable = trainable"
      ],
      "metadata": {
        "id": "5icOTO6Z-V2f"
      },
      "execution_count": null,
      "outputs": []
    },
    {
      "cell_type": "code",
      "source": [
        "make_trainable(discriminator, False)\n",
        "discriminator.summary()"
      ],
      "metadata": {
        "colab": {
          "base_uri": "https://localhost:8080/"
        },
        "id": "gZNa6ouG-XqZ",
        "outputId": "363220f9-0b16-4d16-d966-85a21e1fcda2"
      },
      "execution_count": null,
      "outputs": [
        {
          "output_type": "stream",
          "name": "stdout",
          "text": [
            "Model: \"discriminator\"\n",
            "_________________________________________________________________\n",
            " Layer (type)                Output Shape              Param #   \n",
            "=================================================================\n",
            " dense_2 (Dense)             (None, 64)                4544      \n",
            "                                                                 \n",
            " leaky_re_lu_1 (LeakyReLU)   (None, 64)                0         \n",
            "                                                                 \n",
            " dense_3 (Dense)             (None, 32)                2080      \n",
            "                                                                 \n",
            " leaky_re_lu_2 (LeakyReLU)   (None, 32)                0         \n",
            "                                                                 \n",
            " dense_4 (Dense)             (None, 1)                 33        \n",
            "                                                                 \n",
            " activation_1 (Activation)   (None, 1)                 0         \n",
            "                                                                 \n",
            "=================================================================\n",
            "Total params: 6,657\n",
            "Trainable params: 0\n",
            "Non-trainable params: 6,657\n",
            "_________________________________________________________________\n"
          ]
        }
      ]
    },
    {
      "cell_type": "code",
      "source": [
        "make_trainable(discriminator, True)\n",
        "discriminator.summary()"
      ],
      "metadata": {
        "colab": {
          "base_uri": "https://localhost:8080/"
        },
        "id": "uL0eVORe-ahE",
        "outputId": "a18e2143-b3a3-450c-8f32-e5004af7cf61"
      },
      "execution_count": null,
      "outputs": [
        {
          "output_type": "stream",
          "name": "stdout",
          "text": [
            "Model: \"discriminator\"\n",
            "_________________________________________________________________\n",
            " Layer (type)                Output Shape              Param #   \n",
            "=================================================================\n",
            " dense_2 (Dense)             (None, 64)                4544      \n",
            "                                                                 \n",
            " leaky_re_lu_1 (LeakyReLU)   (None, 64)                0         \n",
            "                                                                 \n",
            " dense_3 (Dense)             (None, 32)                2080      \n",
            "                                                                 \n",
            " leaky_re_lu_2 (LeakyReLU)   (None, 32)                0         \n",
            "                                                                 \n",
            " dense_4 (Dense)             (None, 1)                 33        \n",
            "                                                                 \n",
            " activation_1 (Activation)   (None, 1)                 0         \n",
            "                                                                 \n",
            "=================================================================\n",
            "Total params: 6,657\n",
            "Trainable params: 6,657\n",
            "Non-trainable params: 0\n",
            "_________________________________________________________________\n"
          ]
        }
      ]
    },
    {
      "cell_type": "code",
      "source": [
        "def make_simple_GAN(sample_size, \n",
        "                    g_hidden_size_1,\n",
        "                    g_hidden_size_2,\n",
        "                    g_hidden_size_3,\n",
        "                    g_hidden_size_4,\n",
        "                    d_hidden_size_1,\n",
        "                    d_hidden_size_2, \n",
        "                    d_hidden_size_3,\n",
        "                    d_hidden_size_4,\n",
        "                    d_hidden_size_5,\n",
        "                    d_hidden_size_6,\n",
        "                    leaky_alpha, \n",
        "                    g_learning_rate,\n",
        "                    d_learning_rate):\n",
        "    K.clear_session()\n",
        "    \n",
        "    generator = Sequential([\n",
        "        Dense(g_hidden_size_1, input_shape=(sample_size,)),\n",
        "        LeakyReLU(alpha=leaky_alpha),\n",
        "        BatchNormalization(momentum=0.7),\n",
        "\n",
        "        #Dense(g_hidden_size_2),\n",
        "        #LeakyReLU(alpha=leaky_alpha),\n",
        "        #BatchNormalization(momentum=0.7),\n",
        "\n",
        "        #Dense(g_hidden_size_3),\n",
        "        #LeakyReLU(alpha=leaky_alpha),\n",
        "        #BatchNormalization(momentum=0.7),\n",
        "\n",
        "        #Dense(g_hidden_size_4),\n",
        "        #LeakyReLU(alpha=leaky_alpha),\n",
        "        #BatchNormalization(momentum=0.7),\n",
        "\n",
        "        Dense(70),        \n",
        "        Activation('tanh')\n",
        "    ], name='generator')    \n",
        "\n",
        "    discriminator = Sequential([\n",
        "        Dense(d_hidden_size_1, input_shape=(70,)),\n",
        "        LeakyReLU(alpha=leaky_alpha),\n",
        "        #BatchNormalization(momentum=0.7),\n",
        "\n",
        "        Dense(d_hidden_size_2),\n",
        "        LeakyReLU(alpha=leaky_alpha),\n",
        "        #BatchNormalization(momentum=0.7),\n",
        "\n",
        "        #Dense(d_hidden_size_3),\n",
        "        #LeakyReLU(alpha=leaky_alpha),\n",
        "        #BatchNormalization(momentum=0.7),\n",
        "\n",
        "        #Dense(d_hidden_size_4),\n",
        "        #LeakyReLU(alpha=leaky_alpha),\n",
        "        #BatchNormalization(momentum=0.7),\n",
        "\n",
        "        #Dense(d_hidden_size_5),\n",
        "        #LeakyReLU(alpha=leaky_alpha),\n",
        "        #BatchNormalization(momentum=0.7),\n",
        "\n",
        "        #Dense(d_hidden_size_6),\n",
        "        #LeakyReLU(alpha=leaky_alpha),\n",
        "        #BatchNormalization(momentum=0.7),\n",
        "\n",
        "        Dense(1),\n",
        "        Activation('sigmoid')\n",
        "    ], name='discriminator')    \n",
        "    \n",
        "    gan = Sequential([\n",
        "        generator,\n",
        "        discriminator\n",
        "    ])\n",
        "    \n",
        "    discriminator.compile(optimizer=Adam(lr=d_learning_rate), loss='binary_crossentropy')\n",
        "    gan.compile(optimizer=Adam(lr=g_learning_rate), loss='binary_crossentropy')\n",
        "    \n",
        "    return gan, generator, discriminator "
      ],
      "metadata": {
        "id": "rEp_1i09-dPu"
      },
      "execution_count": null,
      "outputs": []
    },
    {
      "cell_type": "code",
      "source": [
        "from sklearn import preprocessing\n",
        "def preprocess(x):\n",
        "   x = preprocessing.scale(x)\n",
        "   return x"
      ],
      "metadata": {
        "id": "mI3nU-3_-lK-"
      },
      "execution_count": null,
      "outputs": []
    },
    {
      "cell_type": "code",
      "source": [
        "X_train_real = np.array(preprocess(X_train))\n",
        "X_test_real  = np.array(preprocess(X_test))"
      ],
      "metadata": {
        "id": "SLCAacR--m1_"
      },
      "execution_count": null,
      "outputs": []
    },
    {
      "cell_type": "code",
      "source": [
        "def make_labels(size):\n",
        "    return np.ones([size, 1]), np.zeros([size, 1])"
      ],
      "metadata": {
        "id": "WmJ4T1rT-pxE"
      },
      "execution_count": null,
      "outputs": []
    },
    {
      "cell_type": "code",
      "source": [
        "y_real_10, y_fake_10 = make_labels(10)\n",
        "\n",
        "y_real_10, y_fake_10"
      ],
      "metadata": {
        "colab": {
          "base_uri": "https://localhost:8080/"
        },
        "id": "lO2LcRot-r8O",
        "outputId": "a2a883dc-a02d-4d47-d3fb-3d9c15f30e07"
      },
      "execution_count": null,
      "outputs": [
        {
          "output_type": "execute_result",
          "data": {
            "text/plain": [
              "(array([[1.],\n",
              "        [1.],\n",
              "        [1.],\n",
              "        [1.],\n",
              "        [1.],\n",
              "        [1.],\n",
              "        [1.],\n",
              "        [1.],\n",
              "        [1.],\n",
              "        [1.]]), array([[0.],\n",
              "        [0.],\n",
              "        [0.],\n",
              "        [0.],\n",
              "        [0.],\n",
              "        [0.],\n",
              "        [0.],\n",
              "        [0.],\n",
              "        [0.],\n",
              "        [0.]]))"
            ]
          },
          "metadata": {},
          "execution_count": 22
        }
      ]
    },
    {
      "cell_type": "code",
      "source": [
        "# hyperparameters\n",
        "sample_size     = 100     # latent sample size (i.e., 100 random numbers)\n",
        "g_hidden_size_1 = 128\n",
        "g_hidden_size_2 = 0\n",
        "g_hidden_size_3 = 0\n",
        "g_hidden_size_4 = 0\n",
        "d_hidden_size_1 = 64\n",
        "d_hidden_size_2 = 32\n",
        "d_hidden_size_3 = 0\n",
        "d_hidden_size_4 = 0\n",
        "d_hidden_size_5 = 0\n",
        "d_hidden_size_6 = 0\n",
        "leaky_alpha     = 0.2\n",
        "g_learning_rate = 0.0001  # learning rate for the generator\n",
        "d_learning_rate = 0.0001   # learning rate for the discriminator\n",
        "epochs          = 150\n",
        "batch_size      = 64      # train batch size\n",
        "eval_size       = 16      # evaluate size\n",
        "smooth          = 0.1\n"
      ],
      "metadata": {
        "id": "7N6BKZv3-vZS"
      },
      "execution_count": null,
      "outputs": []
    },
    {
      "cell_type": "code",
      "source": [
        "## labels for the batch size and the test size\n",
        "y_train_real, y_train_fake = make_labels(batch_size)\n",
        "y_eval_real,  y_eval_fake  = make_labels(eval_size)\n",
        "\n",
        "# create a GAN, a generator and a discriminator\n",
        "gan, generator, discriminator = make_simple_GAN(\n",
        "    sample_size, \n",
        "    g_hidden_size_1, \n",
        "    g_hidden_size_2,\n",
        "    g_hidden_size_3,\n",
        "    g_hidden_size_4, \n",
        "    d_hidden_size_1, \n",
        "    d_hidden_size_2,\n",
        "    d_hidden_size_3,\n",
        "    d_hidden_size_4,\n",
        "    d_hidden_size_5,\n",
        "    d_hidden_size_6,\n",
        "    leaky_alpha, \n",
        "    g_learning_rate,\n",
        "    d_learning_rate)\n",
        "\n",
        "\n",
        "losses = []\n",
        "losses1 = []\n",
        "for e in range(epochs):\n",
        "    for i in range(len(X_train_real)//batch_size):\n",
        "        # real MNIST digit images\n",
        "        X_batch_real = X_train_real[i*batch_size:(i+1)*batch_size]\n",
        "        \n",
        "        # latent samples and the generated digit images\n",
        "        latent_samples = make_latent_samples(batch_size, sample_size)\n",
        "        X_batch_fake = generator.predict_on_batch(latent_samples)\n",
        "        \n",
        "        # train the discriminator to detect real and fake images\n",
        "        make_trainable(discriminator, True)\n",
        "        discriminator.train_on_batch(X_batch_real, y_train_real * (1 - smooth))\n",
        "        discriminator.train_on_batch(X_batch_fake, y_train_fake)\n",
        "\n",
        "        # train the generator via GAN\n",
        "        make_trainable(discriminator, False)\n",
        "        gan.train_on_batch(latent_samples, y_train_real)\n",
        "   # evaluate\n",
        "    X_eval_real = X_test_real[np.random.choice(len(X_test_real), eval_size, replace=False)]\n",
        "    \n",
        "    latent_samples = make_latent_samples(eval_size, sample_size)\n",
        "    X_eval_fake = generator.predict_on_batch(latent_samples)\n",
        "\n",
        "    d_loss  = discriminator.test_on_batch(X_eval_real, y_eval_real)\n",
        "    d_loss += discriminator.test_on_batch(X_eval_fake, y_eval_fake)\n",
        "    g_loss  = gan.test_on_batch(latent_samples, y_eval_real) # we want the fake to be realistic!\n",
        "    \n",
        "    losses.append((d_loss, g_loss))\n",
        "\n",
        "    d_acc_real = discriminator.train_on_batch(X_batch_real, y_train_real * (1 - smooth))\n",
        "    d_acc_fake = discriminator.train_on_batch(X_batch_fake, y_train_fake)\n",
        "    d_acc  = 0.5 * (d_acc_real + d_acc_fake)\n",
        "\n",
        "    #losses1.append(( d_acc))\n",
        "    print(\"Epoch: {:>3}/{} Discriminator Loss: {:>6.4f} Generator Loss: {:>6.4f} Discriminator acc:{:>6.4f}:\".format(\n",
        "        e+1, epochs, d_loss, g_loss,d_acc)) #Discriminator acc: {:>6.4f}:,d_acc"
      ],
      "metadata": {
        "colab": {
          "base_uri": "https://localhost:8080/"
        },
        "id": "9SYobm6e-3f0",
        "outputId": "a8d3b278-91b4-4b37-a28b-c659ac273bf1"
      },
      "execution_count": null,
      "outputs": [
        {
          "output_type": "stream",
          "name": "stderr",
          "text": [
            "/usr/local/lib/python3.7/dist-packages/keras/optimizer_v2/adam.py:105: UserWarning: The `lr` argument is deprecated, use `learning_rate` instead.\n",
            "  super(Adam, self).__init__(name, **kwargs)\n"
          ]
        },
        {
          "output_type": "stream",
          "name": "stdout",
          "text": [
            "Epoch:   1/150 Discriminator Loss: 1.5665 Generator Loss: 0.5790 Discriminator acc:0.7078:\n",
            "Epoch:   2/150 Discriminator Loss: 1.5534 Generator Loss: 0.4639 Discriminator acc:0.7368:\n",
            "Epoch:   3/150 Discriminator Loss: 1.4826 Generator Loss: 0.4983 Discriminator acc:0.7714:\n",
            "Epoch:   4/150 Discriminator Loss: 1.5223 Generator Loss: 0.4506 Discriminator acc:0.7623:\n",
            "Epoch:   5/150 Discriminator Loss: 1.5288 Generator Loss: 0.4616 Discriminator acc:0.7614:\n",
            "Epoch:   6/150 Discriminator Loss: 1.4603 Generator Loss: 0.4299 Discriminator acc:0.7721:\n",
            "Epoch:   7/150 Discriminator Loss: 1.5322 Generator Loss: 0.4383 Discriminator acc:0.8323:\n",
            "Epoch:   8/150 Discriminator Loss: 1.4478 Generator Loss: 0.4169 Discriminator acc:0.7811:\n",
            "Epoch:   9/150 Discriminator Loss: 1.4210 Generator Loss: 0.4556 Discriminator acc:0.7789:\n",
            "Epoch:  10/150 Discriminator Loss: 1.4059 Generator Loss: 0.4532 Discriminator acc:0.7748:\n",
            "Epoch:  11/150 Discriminator Loss: 1.5711 Generator Loss: 0.3997 Discriminator acc:0.8102:\n",
            "Epoch:  12/150 Discriminator Loss: 1.4945 Generator Loss: 0.3867 Discriminator acc:0.7771:\n",
            "Epoch:  13/150 Discriminator Loss: 1.5395 Generator Loss: 0.3682 Discriminator acc:0.7960:\n",
            "Epoch:  14/150 Discriminator Loss: 1.4724 Generator Loss: 0.3943 Discriminator acc:0.8137:\n",
            "Epoch:  15/150 Discriminator Loss: 1.4767 Generator Loss: 0.3992 Discriminator acc:0.7888:\n",
            "Epoch:  16/150 Discriminator Loss: 1.4156 Generator Loss: 0.4332 Discriminator acc:0.7976:\n",
            "Epoch:  17/150 Discriminator Loss: 1.4895 Generator Loss: 0.3773 Discriminator acc:0.7961:\n",
            "Epoch:  18/150 Discriminator Loss: 1.4218 Generator Loss: 0.3838 Discriminator acc:0.7848:\n",
            "Epoch:  19/150 Discriminator Loss: 1.5046 Generator Loss: 0.3775 Discriminator acc:0.8114:\n",
            "Epoch:  20/150 Discriminator Loss: 1.4695 Generator Loss: 0.3931 Discriminator acc:0.8018:\n",
            "Epoch:  21/150 Discriminator Loss: 1.5078 Generator Loss: 0.3661 Discriminator acc:0.7928:\n",
            "Epoch:  22/150 Discriminator Loss: 1.5244 Generator Loss: 0.3705 Discriminator acc:0.7951:\n",
            "Epoch:  23/150 Discriminator Loss: 1.5150 Generator Loss: 0.3752 Discriminator acc:0.7884:\n",
            "Epoch:  24/150 Discriminator Loss: 1.5739 Generator Loss: 0.3617 Discriminator acc:0.8065:\n",
            "Epoch:  25/150 Discriminator Loss: 1.5110 Generator Loss: 0.3951 Discriminator acc:0.7986:\n",
            "Epoch:  26/150 Discriminator Loss: 1.6105 Generator Loss: 0.3540 Discriminator acc:0.8080:\n",
            "Epoch:  27/150 Discriminator Loss: 1.4424 Generator Loss: 0.3837 Discriminator acc:0.7976:\n",
            "Epoch:  28/150 Discriminator Loss: 1.5846 Generator Loss: 0.3579 Discriminator acc:0.7917:\n",
            "Epoch:  29/150 Discriminator Loss: 1.5641 Generator Loss: 0.3400 Discriminator acc:0.7969:\n",
            "Epoch:  30/150 Discriminator Loss: 1.4638 Generator Loss: 0.3784 Discriminator acc:0.7870:\n",
            "Epoch:  31/150 Discriminator Loss: 1.5196 Generator Loss: 0.3464 Discriminator acc:0.7977:\n",
            "Epoch:  32/150 Discriminator Loss: 1.5516 Generator Loss: 0.3502 Discriminator acc:0.8079:\n",
            "Epoch:  33/150 Discriminator Loss: 1.4898 Generator Loss: 0.3937 Discriminator acc:0.7983:\n",
            "Epoch:  34/150 Discriminator Loss: 1.6171 Generator Loss: 0.3203 Discriminator acc:0.8181:\n",
            "Epoch:  35/150 Discriminator Loss: 1.5486 Generator Loss: 0.3529 Discriminator acc:0.8047:\n",
            "Epoch:  36/150 Discriminator Loss: 1.5240 Generator Loss: 0.3476 Discriminator acc:0.8049:\n",
            "Epoch:  37/150 Discriminator Loss: 1.4813 Generator Loss: 0.3872 Discriminator acc:0.7980:\n",
            "Epoch:  38/150 Discriminator Loss: 1.5371 Generator Loss: 0.3654 Discriminator acc:0.8048:\n",
            "Epoch:  39/150 Discriminator Loss: 1.5568 Generator Loss: 0.3456 Discriminator acc:0.8172:\n",
            "Epoch:  40/150 Discriminator Loss: 1.4978 Generator Loss: 0.3927 Discriminator acc:0.8072:\n",
            "Epoch:  41/150 Discriminator Loss: 1.5431 Generator Loss: 0.3481 Discriminator acc:0.8076:\n",
            "Epoch:  42/150 Discriminator Loss: 1.6528 Generator Loss: 0.3350 Discriminator acc:0.8113:\n",
            "Epoch:  43/150 Discriminator Loss: 1.4572 Generator Loss: 0.3936 Discriminator acc:0.8105:\n",
            "Epoch:  44/150 Discriminator Loss: 1.5595 Generator Loss: 0.3421 Discriminator acc:0.8147:\n",
            "Epoch:  45/150 Discriminator Loss: 1.4848 Generator Loss: 0.3723 Discriminator acc:0.7989:\n",
            "Epoch:  46/150 Discriminator Loss: 1.5245 Generator Loss: 0.3641 Discriminator acc:0.8132:\n",
            "Epoch:  47/150 Discriminator Loss: 1.5714 Generator Loss: 0.3446 Discriminator acc:0.8181:\n",
            "Epoch:  48/150 Discriminator Loss: 1.4703 Generator Loss: 0.3807 Discriminator acc:0.8069:\n",
            "Epoch:  49/150 Discriminator Loss: 1.4777 Generator Loss: 0.3722 Discriminator acc:0.7905:\n",
            "Epoch:  50/150 Discriminator Loss: 1.5436 Generator Loss: 0.3516 Discriminator acc:0.8193:\n",
            "Epoch:  51/150 Discriminator Loss: 1.4743 Generator Loss: 0.3891 Discriminator acc:0.7703:\n",
            "Epoch:  52/150 Discriminator Loss: 1.4420 Generator Loss: 0.3794 Discriminator acc:0.7931:\n",
            "Epoch:  53/150 Discriminator Loss: 1.6119 Generator Loss: 0.3285 Discriminator acc:0.7857:\n",
            "Epoch:  54/150 Discriminator Loss: 1.5383 Generator Loss: 0.3430 Discriminator acc:0.7748:\n",
            "Epoch:  55/150 Discriminator Loss: 1.5144 Generator Loss: 0.3571 Discriminator acc:0.7852:\n",
            "Epoch:  56/150 Discriminator Loss: 1.5257 Generator Loss: 0.3483 Discriminator acc:0.7938:\n",
            "Epoch:  57/150 Discriminator Loss: 1.5467 Generator Loss: 0.3633 Discriminator acc:0.7722:\n",
            "Epoch:  58/150 Discriminator Loss: 1.5271 Generator Loss: 0.3629 Discriminator acc:0.8011:\n",
            "Epoch:  59/150 Discriminator Loss: 1.5838 Generator Loss: 0.3427 Discriminator acc:0.7804:\n",
            "Epoch:  60/150 Discriminator Loss: 1.5097 Generator Loss: 0.3670 Discriminator acc:0.7922:\n",
            "Epoch:  61/150 Discriminator Loss: 1.4851 Generator Loss: 0.3623 Discriminator acc:0.7900:\n",
            "Epoch:  62/150 Discriminator Loss: 1.4548 Generator Loss: 0.3703 Discriminator acc:0.7738:\n",
            "Epoch:  63/150 Discriminator Loss: 1.5381 Generator Loss: 0.3490 Discriminator acc:0.7690:\n",
            "Epoch:  64/150 Discriminator Loss: 1.5159 Generator Loss: 0.3604 Discriminator acc:0.7646:\n",
            "Epoch:  65/150 Discriminator Loss: 1.4425 Generator Loss: 0.3878 Discriminator acc:0.7996:\n",
            "Epoch:  66/150 Discriminator Loss: 1.4941 Generator Loss: 0.3642 Discriminator acc:0.7784:\n",
            "Epoch:  67/150 Discriminator Loss: 1.4481 Generator Loss: 0.3839 Discriminator acc:0.7906:\n",
            "Epoch:  68/150 Discriminator Loss: 1.5160 Generator Loss: 0.3593 Discriminator acc:0.7871:\n",
            "Epoch:  69/150 Discriminator Loss: 1.5247 Generator Loss: 0.3669 Discriminator acc:0.7867:\n",
            "Epoch:  70/150 Discriminator Loss: 1.5170 Generator Loss: 0.3465 Discriminator acc:0.7885:\n",
            "Epoch:  71/150 Discriminator Loss: 1.5340 Generator Loss: 0.3596 Discriminator acc:0.7852:\n",
            "Epoch:  72/150 Discriminator Loss: 1.4904 Generator Loss: 0.3697 Discriminator acc:0.7803:\n",
            "Epoch:  73/150 Discriminator Loss: 1.5207 Generator Loss: 0.3602 Discriminator acc:0.7906:\n",
            "Epoch:  74/150 Discriminator Loss: 1.5338 Generator Loss: 0.3666 Discriminator acc:0.7699:\n",
            "Epoch:  75/150 Discriminator Loss: 1.5159 Generator Loss: 0.3600 Discriminator acc:0.7734:\n",
            "Epoch:  76/150 Discriminator Loss: 1.5150 Generator Loss: 0.3530 Discriminator acc:0.7916:\n",
            "Epoch:  77/150 Discriminator Loss: 1.5403 Generator Loss: 0.3520 Discriminator acc:0.7824:\n",
            "Epoch:  78/150 Discriminator Loss: 1.4594 Generator Loss: 0.3799 Discriminator acc:0.7804:\n",
            "Epoch:  79/150 Discriminator Loss: 1.5107 Generator Loss: 0.3547 Discriminator acc:0.7804:\n",
            "Epoch:  80/150 Discriminator Loss: 1.5506 Generator Loss: 0.3767 Discriminator acc:0.7708:\n",
            "Epoch:  81/150 Discriminator Loss: 1.4553 Generator Loss: 0.3774 Discriminator acc:0.7807:\n",
            "Epoch:  82/150 Discriminator Loss: 1.4441 Generator Loss: 0.3939 Discriminator acc:0.7781:\n",
            "Epoch:  83/150 Discriminator Loss: 1.4659 Generator Loss: 0.3816 Discriminator acc:0.7976:\n",
            "Epoch:  84/150 Discriminator Loss: 1.5488 Generator Loss: 0.3539 Discriminator acc:0.7985:\n",
            "Epoch:  85/150 Discriminator Loss: 1.4456 Generator Loss: 0.4093 Discriminator acc:0.7712:\n",
            "Epoch:  86/150 Discriminator Loss: 1.5435 Generator Loss: 0.3628 Discriminator acc:0.7798:\n",
            "Epoch:  87/150 Discriminator Loss: 1.4079 Generator Loss: 0.4030 Discriminator acc:0.7858:\n",
            "Epoch:  88/150 Discriminator Loss: 1.4533 Generator Loss: 0.3831 Discriminator acc:0.7754:\n",
            "Epoch:  89/150 Discriminator Loss: 1.4324 Generator Loss: 0.3845 Discriminator acc:0.7663:\n",
            "Epoch:  90/150 Discriminator Loss: 1.4593 Generator Loss: 0.3969 Discriminator acc:0.7691:\n",
            "Epoch:  91/150 Discriminator Loss: 1.4822 Generator Loss: 0.3721 Discriminator acc:0.7640:\n",
            "Epoch:  92/150 Discriminator Loss: 1.4802 Generator Loss: 0.3568 Discriminator acc:0.7850:\n",
            "Epoch:  93/150 Discriminator Loss: 1.4738 Generator Loss: 0.3701 Discriminator acc:0.7830:\n",
            "Epoch:  94/150 Discriminator Loss: 1.5090 Generator Loss: 0.3689 Discriminator acc:0.7791:\n",
            "Epoch:  95/150 Discriminator Loss: 1.3848 Generator Loss: 0.4122 Discriminator acc:0.7692:\n",
            "Epoch:  96/150 Discriminator Loss: 1.5003 Generator Loss: 0.3741 Discriminator acc:0.7674:\n",
            "Epoch:  97/150 Discriminator Loss: 1.4003 Generator Loss: 0.4166 Discriminator acc:0.7693:\n",
            "Epoch:  98/150 Discriminator Loss: 1.4144 Generator Loss: 0.4136 Discriminator acc:0.7585:\n",
            "Epoch:  99/150 Discriminator Loss: 1.4357 Generator Loss: 0.4111 Discriminator acc:0.7631:\n",
            "Epoch: 100/150 Discriminator Loss: 1.4631 Generator Loss: 0.3683 Discriminator acc:0.7752:\n",
            "Epoch: 101/150 Discriminator Loss: 1.4055 Generator Loss: 0.4093 Discriminator acc:0.7739:\n",
            "Epoch: 102/150 Discriminator Loss: 1.4044 Generator Loss: 0.4034 Discriminator acc:0.7442:\n",
            "Epoch: 103/150 Discriminator Loss: 1.4030 Generator Loss: 0.4208 Discriminator acc:0.7873:\n",
            "Epoch: 104/150 Discriminator Loss: 1.3325 Generator Loss: 0.4373 Discriminator acc:0.7542:\n",
            "Epoch: 105/150 Discriminator Loss: 1.4819 Generator Loss: 0.3853 Discriminator acc:0.7788:\n",
            "Epoch: 106/150 Discriminator Loss: 1.3803 Generator Loss: 0.4158 Discriminator acc:0.7620:\n",
            "Epoch: 107/150 Discriminator Loss: 1.4205 Generator Loss: 0.4015 Discriminator acc:0.7702:\n",
            "Epoch: 108/150 Discriminator Loss: 1.4680 Generator Loss: 0.3757 Discriminator acc:0.7640:\n",
            "Epoch: 109/150 Discriminator Loss: 1.5062 Generator Loss: 0.3630 Discriminator acc:0.7719:\n",
            "Epoch: 110/150 Discriminator Loss: 1.4331 Generator Loss: 0.3943 Discriminator acc:0.7502:\n",
            "Epoch: 111/150 Discriminator Loss: 1.4441 Generator Loss: 0.3892 Discriminator acc:0.7689:\n",
            "Epoch: 112/150 Discriminator Loss: 1.4638 Generator Loss: 0.3814 Discriminator acc:0.7612:\n",
            "Epoch: 113/150 Discriminator Loss: 1.3891 Generator Loss: 0.3888 Discriminator acc:0.7508:\n",
            "Epoch: 114/150 Discriminator Loss: 1.4738 Generator Loss: 0.4027 Discriminator acc:0.7747:\n",
            "Epoch: 115/150 Discriminator Loss: 1.4268 Generator Loss: 0.3854 Discriminator acc:0.7813:\n",
            "Epoch: 116/150 Discriminator Loss: 1.4978 Generator Loss: 0.3694 Discriminator acc:0.7456:\n",
            "Epoch: 117/150 Discriminator Loss: 1.4452 Generator Loss: 0.3790 Discriminator acc:0.7638:\n",
            "Epoch: 118/150 Discriminator Loss: 1.4615 Generator Loss: 0.3918 Discriminator acc:0.7658:\n",
            "Epoch: 119/150 Discriminator Loss: 1.4630 Generator Loss: 0.3773 Discriminator acc:0.7591:\n",
            "Epoch: 120/150 Discriminator Loss: 1.4189 Generator Loss: 0.3892 Discriminator acc:0.7576:\n",
            "Epoch: 121/150 Discriminator Loss: 1.4589 Generator Loss: 0.3902 Discriminator acc:0.7474:\n",
            "Epoch: 122/150 Discriminator Loss: 1.3776 Generator Loss: 0.4175 Discriminator acc:0.7643:\n",
            "Epoch: 123/150 Discriminator Loss: 1.4922 Generator Loss: 0.3747 Discriminator acc:0.7643:\n",
            "Epoch: 124/150 Discriminator Loss: 1.3423 Generator Loss: 0.4154 Discriminator acc:0.7627:\n",
            "Epoch: 125/150 Discriminator Loss: 1.4055 Generator Loss: 0.4007 Discriminator acc:0.7574:\n",
            "Epoch: 126/150 Discriminator Loss: 1.4053 Generator Loss: 0.4229 Discriminator acc:0.7687:\n",
            "Epoch: 127/150 Discriminator Loss: 1.3813 Generator Loss: 0.4114 Discriminator acc:0.7450:\n",
            "Epoch: 128/150 Discriminator Loss: 1.4507 Generator Loss: 0.3921 Discriminator acc:0.7560:\n",
            "Epoch: 129/150 Discriminator Loss: 1.4488 Generator Loss: 0.3862 Discriminator acc:0.7461:\n",
            "Epoch: 130/150 Discriminator Loss: 1.3784 Generator Loss: 0.3987 Discriminator acc:0.7422:\n",
            "Epoch: 131/150 Discriminator Loss: 1.3857 Generator Loss: 0.4102 Discriminator acc:0.7223:\n",
            "Epoch: 132/150 Discriminator Loss: 1.4956 Generator Loss: 0.3584 Discriminator acc:0.7379:\n",
            "Epoch: 133/150 Discriminator Loss: 1.5137 Generator Loss: 0.3877 Discriminator acc:0.7516:\n",
            "Epoch: 134/150 Discriminator Loss: 1.3313 Generator Loss: 0.4068 Discriminator acc:0.7532:\n",
            "Epoch: 135/150 Discriminator Loss: 1.4696 Generator Loss: 0.3847 Discriminator acc:0.7391:\n",
            "Epoch: 136/150 Discriminator Loss: 1.4277 Generator Loss: 0.4116 Discriminator acc:0.7518:\n",
            "Epoch: 137/150 Discriminator Loss: 1.3110 Generator Loss: 0.4365 Discriminator acc:0.7599:\n",
            "Epoch: 138/150 Discriminator Loss: 1.2982 Generator Loss: 0.4267 Discriminator acc:0.7475:\n",
            "Epoch: 139/150 Discriminator Loss: 1.4598 Generator Loss: 0.3844 Discriminator acc:0.7470:\n",
            "Epoch: 140/150 Discriminator Loss: 1.3552 Generator Loss: 0.4082 Discriminator acc:0.7430:\n",
            "Epoch: 141/150 Discriminator Loss: 1.4760 Generator Loss: 0.3870 Discriminator acc:0.7453:\n",
            "Epoch: 142/150 Discriminator Loss: 1.4032 Generator Loss: 0.4164 Discriminator acc:0.7359:\n",
            "Epoch: 143/150 Discriminator Loss: 1.3998 Generator Loss: 0.4238 Discriminator acc:0.7389:\n",
            "Epoch: 144/150 Discriminator Loss: 1.3946 Generator Loss: 0.3860 Discriminator acc:0.7387:\n",
            "Epoch: 145/150 Discriminator Loss: 1.3606 Generator Loss: 0.4107 Discriminator acc:0.7351:\n",
            "Epoch: 146/150 Discriminator Loss: 1.4000 Generator Loss: 0.3987 Discriminator acc:0.7446:\n",
            "Epoch: 147/150 Discriminator Loss: 1.3981 Generator Loss: 0.3993 Discriminator acc:0.7373:\n",
            "Epoch: 148/150 Discriminator Loss: 1.3791 Generator Loss: 0.4207 Discriminator acc:0.7336:\n",
            "Epoch: 149/150 Discriminator Loss: 1.4133 Generator Loss: 0.4084 Discriminator acc:0.7362:\n",
            "Epoch: 150/150 Discriminator Loss: 1.3763 Generator Loss: 0.4078 Discriminator acc:0.7270:\n"
          ]
        }
      ]
    },
    {
      "cell_type": "code",
      "source": [
        "losses = np.array(losses)\n",
        "\n",
        "fig, ax = plt.subplots()\n",
        "plt.plot(losses.T[0], label='Discriminator')\n",
        "plt.plot(losses.T[1], label='Generator')\n",
        "plt.title(\"Training Losses\")\n",
        "plt.legend()\n",
        "plt.show()"
      ],
      "metadata": {
        "colab": {
          "base_uri": "https://localhost:8080/",
          "height": 281
        },
        "id": "-Pczfh-C_rC-",
        "outputId": "b17c2073-fdc5-4975-eb3e-55bc11d73cc0"
      },
      "execution_count": null,
      "outputs": [
        {
          "output_type": "display_data",
          "data": {
            "image/png": "[encoded data removed]",
            "text/plain": [
              "<Figure size 432x288 with 1 Axes>"
            ]
          },
          "metadata": {
            "needs_background": "light"
          }
        }
      ]
    },
    {
      "cell_type": "code",
      "source": [
        "rr = discriminator.predict_on_batch(X_test_real)"
      ],
      "metadata": {
        "id": "THaYGfNm_t7H"
      },
      "execution_count": null,
      "outputs": []
    },
    {
      "cell_type": "code",
      "source": [
        "import keras\n",
        "#import keras_metrics\n",
        "\n",
        "r = tf.keras.metrics.Recall()#thresholds=rr.min())\n",
        "r.update_state(y_test,rr )\n",
        "r.result().numpy()\n"
      ],
      "metadata": {
        "colab": {
          "base_uri": "https://localhost:8080/"
        },
        "id": "y4YHTlv6_wKG",
        "outputId": "7e68ecf3-9e3e-4b87-8403-c63471ebcbd9"
      },
      "execution_count": null,
      "outputs": [
        {
          "output_type": "execute_result",
          "data": {
            "text/plain": [
              "1.0"
            ]
          },
          "metadata": {},
          "execution_count": 27
        }
      ]
    },
    {
      "cell_type": "code",
      "source": [
        "p=tf.keras.metrics.Precision()#thresholds=rr.min())\n",
        "p.update_state(y_test,rr )\n",
        "p.result().numpy()"
      ],
      "metadata": {
        "colab": {
          "base_uri": "https://localhost:8080/"
        },
        "id": "4Wgx-224_yPg",
        "outputId": "2adaa8d5-8c2f-4303-f416-7bde3a177bf7"
      },
      "execution_count": null,
      "outputs": [
        {
          "output_type": "execute_result",
          "data": {
            "text/plain": [
              "0.77720207"
            ]
          },
          "metadata": {},
          "execution_count": 28
        }
      ]
    },
    {
      "cell_type": "code",
      "source": [
        "r = tf.keras.metrics.BinaryAccuracy()#thresholds=rr.min())\n",
        "r.update_state(y_test,rr )\n",
        "r.result().numpy()\n"
      ],
      "metadata": {
        "id": "-_wSd1aqIKdo",
        "outputId": "e2403732-2f5e-4fb7-d424-48dedfae49bc",
        "colab": {
          "base_uri": "https://localhost:8080/"
        }
      },
      "execution_count": null,
      "outputs": [
        {
          "output_type": "execute_result",
          "data": {
            "text/plain": [
              "0.7828283"
            ]
          },
          "metadata": {},
          "execution_count": 29
        }
      ]
    }
  ]
}