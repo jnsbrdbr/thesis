{
  "nbformat": 4,
  "nbformat_minor": 0,
  "metadata": {
    "colab": {
      "name": "part3/svm_linear/prediction.ipynb",
      "provenance": [],
      "collapsed_sections": [],
      "authorship_tag": "ABX9TyMyn4xy3uGdV5s898JB3fqZ",
      "include_colab_link": true
    },
    "kernelspec": {
      "name": "python3",
      "display_name": "Python 3"
    },
    "language_info": {
      "name": "python"
    },
    "accelerator": "GPU"
  },
  "cells": [
    {
      "cell_type": "markdown",
      "metadata": {
        "id": "view-in-github",
        "colab_type": "text"
      },
      "source": [
        "<a href=\"https://colab.research.google.com/github/jnsbrdbr/thesis/blob/thesis/part3_svm_linear_prediction.ipynb\" target=\"_parent\"><img src=\"https://colab.research.google.com/assets/colab-badge.svg\" alt=\"Open In Colab\"/></a>"
      ]
    },
    {
      "cell_type": "code",
      "execution_count": 1,
      "metadata": {
        "id": "uOqCsikQnFXL"
      },
      "outputs": [],
      "source": [
        "import numpy as np\n",
        "import pandas as pd\n",
        "import seaborn as sns\n",
        "import matplotlib.pyplot as plt\n",
        "\n",
        "from sklearn.metrics import jaccard_score\n",
        "from scipy.spatial.distance import pdist, squareform"
      ]
    },
    {
      "cell_type": "code",
      "source": [
        "from google.colab import drive\n",
        "drive.mount('/content/drive') "
      ],
      "metadata": {
        "colab": {
          "base_uri": "https://localhost:8080/"
        },
        "id": "TooxtfPanOj6",
        "outputId": "2eb3e459-cd22-44dd-a975-4b09620788c2"
      },
      "execution_count": 2,
      "outputs": [
        {
          "output_type": "stream",
          "name": "stdout",
          "text": [
            "Mounted at /content/drive\n"
          ]
        }
      ]
    },
    {
      "cell_type": "code",
      "source": [
        "with pd.HDFStore('/content/drive/MyDrive/1000/part2_result',  mode='r') as newstore:\n",
        "    result = newstore.select('result')"
      ],
      "metadata": {
        "id": "0OEYsVlrnYg6"
      },
      "execution_count": 3,
      "outputs": []
    },
    {
      "cell_type": "code",
      "source": [
        "print(result)"
      ],
      "metadata": {
        "colab": {
          "base_uri": "https://localhost:8080/"
        },
        "id": "Jx45_fgfnaKD",
        "outputId": "fae11897-decc-4e54-9a4b-8d4db7f184ab"
      },
      "execution_count": 4,
      "outputs": [
        {
          "output_type": "stream",
          "name": "stdout",
          "text": [
            "             0         1         2  ...         8         9  label\n",
            "0    -1.680599 -3.061217 -0.040984  ... -0.006112 -0.004759      1\n",
            "1    -1.680599 -3.061217 -0.040984  ... -0.006112 -0.004759      1\n",
            "2    -1.680599 -3.061217 -0.040984  ... -0.006112 -0.004759      1\n",
            "3    -1.680599 -3.061217 -0.040984  ... -0.006112 -0.004759      1\n",
            "4    -1.680599 -3.061217 -0.040984  ...  0.006186  0.002988      1\n",
            "...        ...       ...       ...  ...       ...       ...    ...\n",
            "1315 -1.680599 -3.061217 -0.040984  ... -0.035323 -0.015205      0\n",
            "1316 -1.680599 -3.061217 -0.040984  ... -0.012077 -0.016767      0\n",
            "1317 -1.680599 -3.061217 -0.040984  ... -0.011761 -0.013474      0\n",
            "1318 -1.680599 -3.061217 -0.040984  ...  0.004503  0.113459      0\n",
            "1319 -1.680599 -3.061217 -0.040984  ... -0.022880  0.001418      0\n",
            "\n",
            "[1320 rows x 71 columns]\n"
          ]
        }
      ]
    },
    {
      "cell_type": "code",
      "source": [
        "import copy\n",
        "result_nonlabel=copy.deepcopy(result)\n",
        "del result_nonlabel['label']\n",
        "X=result_nonlabel\n",
        "y=result.label"
      ],
      "metadata": {
        "id": "RUo61kNcnb2_"
      },
      "execution_count": 5,
      "outputs": []
    },
    {
      "cell_type": "code",
      "source": [
        "from sklearn.model_selection import train_test_split\n",
        "x_train, x_test, y_train, y_test = train_test_split(X, y, test_size=0.25,\n",
        "                                                    random_state=42)"
      ],
      "metadata": {
        "id": "gmkUKZXcnhFA"
      },
      "execution_count": 6,
      "outputs": []
    },
    {
      "cell_type": "code",
      "source": [
        "from sklearn.svm import SVC\n",
        "svclassifier = SVC(kernel='linear')\n",
        "svclassifier.fit(x_train, y_train)\n",
        "y_pred = svclassifier.predict(x_test)\n",
        "score = svclassifier.score(x_test, y_test)\n",
        "print(score)"
      ],
      "metadata": {
        "colab": {
          "base_uri": "https://localhost:8080/"
        },
        "id": "GKxFtxvss57f",
        "outputId": "8c4ca094-3aef-4129-87a4-33f8833d7481"
      },
      "execution_count": 7,
      "outputs": [
        {
          "output_type": "stream",
          "name": "stdout",
          "text": [
            "0.9939393939393939\n"
          ]
        }
      ]
    },
    {
      "cell_type": "code",
      "source": [
        "import matplotlib.pyplot as plt\n",
        "import seaborn as sns\n",
        "from sklearn import metrics\n",
        "\n",
        "confusion_matrix = pd.crosstab(y_test, y_pred, rownames=['Actual'], colnames=['Predicted'])\n",
        "sns.heatmap(confusion_matrix, annot=True)"
      ],
      "metadata": {
        "colab": {
          "base_uri": "https://localhost:8080/",
          "height": 297
        },
        "id": "P3VYgXzNvOsb",
        "outputId": "94131465-e859-4bf7-a93c-63b8b9ad92e1"
      },
      "execution_count": 8,
      "outputs": [
        {
          "output_type": "execute_result",
          "data": {
            "text/plain": [
              "<matplotlib.axes._subplots.AxesSubplot at 0x7f5c863063d0>"
            ]
          },
          "metadata": {},
          "execution_count": 8
        },
        {
          "output_type": "display_data",
          "data": {
            "image/png": "[encoded data removed]",
            "text/plain": [
              "<Figure size 432x288 with 2 Axes>"
            ]
          },
          "metadata": {
            "needs_background": "light"
          }
        }
      ]
    },
    {
      "cell_type": "code",
      "source": [
        "print('Accuracy: ',metrics.accuracy_score(y_test, y_pred))\n"
      ],
      "metadata": {
        "colab": {
          "base_uri": "https://localhost:8080/"
        },
        "id": "kUYPNkgZvVfd",
        "outputId": "dd2b20fa-d545-4e59-f684-786f496846cb"
      },
      "execution_count": 9,
      "outputs": [
        {
          "output_type": "stream",
          "name": "stdout",
          "text": [
            "Accuracy:  0.9939393939393939\n"
          ]
        }
      ]
    },
    {
      "cell_type": "code",
      "source": [
        "from numpy import mean\n",
        "from numpy import std\n",
        "from sklearn.model_selection import KFold\n",
        "from sklearn.model_selection import cross_val_score\n",
        "\n",
        "\n",
        "cv = KFold(n_splits=10, random_state=42, shuffle=True)\n",
        "scores = cross_val_score(svclassifier, x_train, y_train, scoring='accuracy', cv=cv,n_jobs=-1)\n",
        "\n",
        "print('Accuracy: %.3f (%.3f)' % (mean(scores), std(scores)))"
      ],
      "metadata": {
        "colab": {
          "base_uri": "https://localhost:8080/"
        },
        "id": "31NNCWJmva_a",
        "outputId": "4e454b60-5f00-4d44-d4e7-3900e35fabb5"
      },
      "execution_count": 10,
      "outputs": [
        {
          "output_type": "stream",
          "name": "stdout",
          "text": [
            "Accuracy: 0.999 (0.003)\n"
          ]
        }
      ]
    },
    {
      "cell_type": "code",
      "source": [
        "\n",
        "import numpy as np\n",
        "import matplotlib.pyplot as plt\n",
        "from sklearn.metrics import auc\n",
        "from sklearn.metrics import RocCurveDisplay\n",
        "from sklearn import svm\n",
        "from sklearn.model_selection import StratifiedKFold\n",
        "\n",
        "random_state = np.random.RandomState(0)\n",
        "cv = StratifiedKFold(n_splits=10)\n",
        "#cv = KFold(n_splits=10, shuffle=True)\n",
        "classifier = svm.SVC(kernel=\"linear\", probability=True, random_state=random_state,max_iter=1000000)\n",
        "\n",
        "tprs = []\n",
        "aucs = []\n",
        "mean_fpr = np.linspace(0, 1, 100)\n",
        "fig, ax = plt.subplots()\n",
        "\n",
        "for i, (train, test) in enumerate(cv.split(X, y)):\n",
        "    classifier.fit(x_train, y_train)\n",
        "    viz = RocCurveDisplay.from_estimator(\n",
        "        classifier,\n",
        "        x_train,\n",
        "        y_train,\n",
        "        name=\"ROC fold {}\".format(i),\n",
        "        alpha=0.3,\n",
        "        lw=1,\n",
        "        ax=ax,\n",
        "    )\n",
        "    interp_tpr = np.interp(mean_fpr, viz.fpr, viz.tpr)\n",
        "    interp_tpr[0] = 0.0\n",
        "    tprs.append(interp_tpr)\n",
        "    aucs.append(viz.roc_auc)\n",
        "\n",
        "mean_tpr = np.mean(tprs, axis=0)\n",
        "mean_tpr[-1] = 1.0\n",
        "mean_auc = auc(mean_fpr, mean_tpr)\n",
        "std_auc = np.std(aucs)\n",
        "ax.plot(\n",
        "    mean_fpr,\n",
        "    mean_tpr,\n",
        "    color=\"b\",\n",
        "    label=r\"Mean ROC (AUC = %0.2f $\\pm$ %0.2f)\" % (mean_auc, std_auc),\n",
        "    lw=2,\n",
        "    alpha=0.8,\n",
        ")\n",
        "std_tpr = np.std(tprs, axis=0)\n",
        "tprs_upper = np.minimum(mean_tpr + std_tpr, 1)\n",
        "tprs_lower = np.maximum(mean_tpr - std_tpr, 0)\n",
        "ax.fill_between(\n",
        "    mean_fpr,\n",
        "    tprs_lower,\n",
        "    tprs_upper,\n",
        "    color=\"grey\",\n",
        "    alpha=0.2,\n",
        "    label=r\"$\\pm$ 1 std. dev.\",\n",
        ")\n",
        "\n",
        "ax.set(\n",
        "    xlim=[-0.05, 1.05],\n",
        "    ylim=[-0.05, 1.05],\n",
        "    title=\"Receiver operating characteristic example\",\n",
        ")\n",
        "ax.legend(loc=\"lower right\")\n",
        "plt.show()"
      ],
      "metadata": {
        "colab": {
          "base_uri": "https://localhost:8080/",
          "height": 295
        },
        "id": "9abuVTpUvoKY",
        "outputId": "385bcbc3-ce64-48d7-b6a3-e2267ba5693b"
      },
      "execution_count": 11,
      "outputs": [
        {
          "output_type": "display_data",
          "data": {
            "image/png": "[encoded data removed]",
            "text/plain": [
              "<Figure size 432x288 with 1 Axes>"
            ]
          },
          "metadata": {
            "needs_background": "light"
          }
        }
      ]
    },
    {
      "cell_type": "code",
      "source": [
        "from sklearn.metrics import roc_auc_score\n",
        "roc_auc_score(y_test,y_pred)"
      ],
      "metadata": {
        "colab": {
          "base_uri": "https://localhost:8080/"
        },
        "id": "1dqHMUmk0GHb",
        "outputId": "eb32ae74-dbdb-45d1-dc07-3c660d33155a"
      },
      "execution_count": 12,
      "outputs": [
        {
          "output_type": "execute_result",
          "data": {
            "text/plain": [
              "0.9878048780487805"
            ]
          },
          "metadata": {},
          "execution_count": 12
        }
      ]
    },
    {
      "cell_type": "code",
      "source": [
        "from numpy import mean\n",
        "from numpy import std\n",
        "from sklearn.model_selection import KFold\n",
        "from sklearn.model_selection import cross_val_score\n",
        "\n",
        "\n",
        "cv = KFold(n_splits=10, random_state=42, shuffle=True)\n",
        "scores_recall = cross_val_score(svclassifier, x_train, y_train, scoring='recall', cv=cv,n_jobs=-1)\n",
        "\n",
        "print('scores_recall: %.3f (%.3f)' % (mean(scores_recall), std(scores_recall)))"
      ],
      "metadata": {
        "colab": {
          "base_uri": "https://localhost:8080/"
        },
        "id": "G6OmNcvv0LfF",
        "outputId": "e253805c-ef16-4b09-b7aa-0b515b9e0ffd"
      },
      "execution_count": 13,
      "outputs": [
        {
          "output_type": "stream",
          "name": "stdout",
          "text": [
            "scores_recall: 1.000 (0.000)\n"
          ]
        }
      ]
    },
    {
      "cell_type": "code",
      "source": [
        "scores_recall"
      ],
      "metadata": {
        "colab": {
          "base_uri": "https://localhost:8080/"
        },
        "id": "UsbgZpPB0QFs",
        "outputId": "ca508a8e-f5c7-4c62-b826-bb7190f739de"
      },
      "execution_count": 14,
      "outputs": [
        {
          "output_type": "execute_result",
          "data": {
            "text/plain": [
              "array([1., 1., 1., 1., 1., 1., 1., 1., 1., 1.])"
            ]
          },
          "metadata": {},
          "execution_count": 14
        }
      ]
    },
    {
      "cell_type": "code",
      "source": [
        "FNR=1-(scores_recall)\n",
        "print(FNR)"
      ],
      "metadata": {
        "colab": {
          "base_uri": "https://localhost:8080/"
        },
        "id": "KNXOmJg30SNp",
        "outputId": "8c8fab6e-a494-4ef9-d735-fe8457b4d666"
      },
      "execution_count": 15,
      "outputs": [
        {
          "output_type": "stream",
          "name": "stdout",
          "text": [
            "[0. 0. 0. 0. 0. 0. 0. 0. 0. 0.]\n"
          ]
        }
      ]
    },
    {
      "cell_type": "code",
      "source": [
        "from numpy import mean\n",
        "from numpy import std\n",
        "from sklearn.model_selection import KFold\n",
        "from sklearn.model_selection import cross_val_score\n",
        "\n",
        "\n",
        "cv = KFold(n_splits=10, random_state=42, shuffle=True)\n",
        "scores_precision = cross_val_score(svclassifier, x_train, y_train, scoring='precision', cv=cv,n_jobs=-1)\n",
        "\n",
        "print('scores_precision: %.3f (%.3f)' % (mean(scores_precision), std(scores_precision)))"
      ],
      "metadata": {
        "colab": {
          "base_uri": "https://localhost:8080/"
        },
        "id": "A9G8GvxE0T3U",
        "outputId": "0ffc02a9-0482-4b2e-ad5c-7b92656e2c2d"
      },
      "execution_count": 16,
      "outputs": [
        {
          "output_type": "stream",
          "name": "stdout",
          "text": [
            "scores_precision: 0.999 (0.004)\n"
          ]
        }
      ]
    }
  ]
}