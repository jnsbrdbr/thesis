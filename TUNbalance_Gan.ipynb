{
  "nbformat": 4,
  "nbformat_minor": 0,
  "metadata": {
    "colab": {
      "name": "TUNbalance/Gan.ipynb",
      "provenance": [],
      "authorship_tag": "ABX9TyPuJRa9wHIArBDL4kgOlkLq",
      "include_colab_link": true
    },
    "kernelspec": {
      "name": "python3",
      "display_name": "Python 3"
    },
    "language_info": {
      "name": "python"
    }
  },
  "cells": [
    {
      "cell_type": "markdown",
      "metadata": {
        "id": "view-in-github",
        "colab_type": "text"
      },
      "source": [
        "<a href=\"https://colab.research.google.com/github/jnsbrdbr/thesis/blob/thesis/TUNbalance_Gan.ipynb\" target=\"_parent\"><img src=\"https://colab.research.google.com/assets/colab-badge.svg\" alt=\"Open In Colab\"/></a>"
      ]
    },
    {
      "cell_type": "code",
      "execution_count": 1,
      "metadata": {
        "colab": {
          "base_uri": "https://localhost:8080/"
        },
        "id": "TedFoYnP5Wjt",
        "outputId": "3856e274-0fe8-48be-ed96-0c988124e7b7"
      },
      "outputs": [
        {
          "output_type": "stream",
          "name": "stdout",
          "text": [
            "`%tensorflow_version` only switches the major version: 1.x or 2.x.\n",
            "You set: `2.x  # Colab only.`. This will be interpreted as: `2.x`.\n",
            "\n",
            "\n",
            "TensorFlow 2.x selected.\n",
            "2.8.0\n"
          ]
        }
      ],
      "source": [
        "# Install TensorFlow\n",
        "# !pip install -q tensorflow-gpu==2.0.0-rc0\n",
        "\n",
        "try:\n",
        "  %tensorflow_version 2.x  # Colab only.\n",
        "except Exception:\n",
        "  pass\n",
        "\n",
        "import tensorflow as tf\n",
        "print(tf.__version__)"
      ]
    },
    {
      "cell_type": "code",
      "source": [
        "import keras\n",
        "from keras.layers import Input, Dense, Activation, LeakyReLU, BatchNormalization\n",
        "from keras.models import Sequential\n",
        "from tensorflow.keras.optimizers import Adam\n",
        "from sklearn.model_selection import train_test_split\n",
        "from tensorflow.keras.models import Model\n",
        "import keras.backend as K\n",
        "import numpy as np\n",
        "import pandas as pd\n",
        "import matplotlib.pyplot as plt\n",
        "import sys, os\n",
        "\n",
        "%matplotlib inline"
      ],
      "metadata": {
        "id": "dVJbVj-27-iL"
      },
      "execution_count": 2,
      "outputs": []
    },
    {
      "cell_type": "code",
      "source": [
        "from google.colab import drive\n",
        "drive.mount('/content/drive') "
      ],
      "metadata": {
        "colab": {
          "base_uri": "https://localhost:8080/"
        },
        "id": "hHyGZgXT8A6q",
        "outputId": "a0f08fb1-e860-4a39-cf11-579d30f858e0"
      },
      "execution_count": 3,
      "outputs": [
        {
          "output_type": "stream",
          "name": "stdout",
          "text": [
            "Drive already mounted at /content/drive; to attempt to forcibly remount, call drive.mount(\"/content/drive\", force_remount=True).\n"
          ]
        }
      ]
    },
    {
      "cell_type": "code",
      "source": [
        "!pip3 install pickle5\n",
        "import pickle5 as pickle"
      ],
      "metadata": {
        "colab": {
          "base_uri": "https://localhost:8080/"
        },
        "id": "VaqFN78G8Hdv",
        "outputId": "02bdb302-c51d-427d-b63b-8160614837c8"
      },
      "execution_count": 4,
      "outputs": [
        {
          "output_type": "stream",
          "name": "stdout",
          "text": [
            "Requirement already satisfied: pickle5 in /usr/local/lib/python3.7/dist-packages (0.0.12)\n"
          ]
        }
      ]
    },
    {
      "cell_type": "code",
      "source": [
        "with pd.HDFStore('/content/drive/MyDrive/1000/TUnsmote_result',  mode='r') as newstore:\n",
        "    result = newstore.select('result')"
      ],
      "metadata": {
        "id": "1IwapRcQ8JSH"
      },
      "execution_count": 5,
      "outputs": []
    },
    {
      "cell_type": "code",
      "source": [
        "#final data\n",
        "print(result)"
      ],
      "metadata": {
        "colab": {
          "base_uri": "https://localhost:8080/"
        },
        "id": "hmuSpxOu8gll",
        "outputId": "84fc1e6f-7b35-451e-acdf-873ceea4a853"
      },
      "execution_count": 6,
      "outputs": [
        {
          "output_type": "stream",
          "name": "stdout",
          "text": [
            "            0         1         2  ...             8             9  label\n",
            "0   -1.715972 -3.099936 -0.041249  ... -1.071834e-02 -9.464034e-03      1\n",
            "1   -1.715972 -3.099936 -0.041249  ... -3.168693e-02 -7.296139e-03      1\n",
            "2   -1.715972 -3.099936 -0.041249  ...  7.887649e-03 -4.402416e-02      1\n",
            "3   -1.715972 -3.099936 -0.041249  ...  8.369804e-03  2.997764e-02      1\n",
            "4   -1.715972 -3.099936 -0.041249  ...  3.817151e-13  4.136409e-16      1\n",
            "..        ...       ...       ...  ...           ...           ...    ...\n",
            "995 -2.114893 -4.572474 -0.754679  ...  2.281326e-03  5.690586e-03      1\n",
            "996 -2.114893 -4.572474 -0.754679  ... -3.257351e-03 -1.247434e-02      1\n",
            "997 -2.114893 -4.572474 -0.754679  ... -1.938248e-02 -7.635838e-03      1\n",
            "998 -2.114893 -4.572474 -0.754679  ... -2.508770e-02 -7.523238e-03      1\n",
            "999 -2.114893 -4.572474 -0.754679  ... -1.098104e-02  1.125916e-03      1\n",
            "\n",
            "[1000 rows x 71 columns]\n"
          ]
        }
      ]
    },
    {
      "cell_type": "code",
      "source": [
        "#divide data in to data_label and non_data label\n",
        "\n",
        "import copy\n",
        "result_nonlabel=copy.deepcopy(result)\n",
        "del result_nonlabel['label']\n",
        "X=result_nonlabel\n",
        "y=result.label"
      ],
      "metadata": {
        "id": "YOs9Xc_aCj1V"
      },
      "execution_count": 7,
      "outputs": []
    },
    {
      "cell_type": "code",
      "source": [
        "#splitting data in to test and train...\n",
        "\n",
        "from sklearn.model_selection import train_test_split\n",
        "X_train, X_test, y_train, y_test = train_test_split(X, y ,random_state=42,test_size=0.3)#"
      ],
      "metadata": {
        "id": "KDFNMGJPCz_J"
      },
      "execution_count": 8,
      "outputs": []
    },
    {
      "cell_type": "code",
      "source": [
        "print('shape of x_train is:',X_train.shape)\n",
        "print('shape of x_test is:',X_test.shape)"
      ],
      "metadata": {
        "colab": {
          "base_uri": "https://localhost:8080/"
        },
        "id": "GFfz077yC1az",
        "outputId": "bb2e54bb-2a90-468a-929f-6abb3a4167c5"
      },
      "execution_count": 9,
      "outputs": [
        {
          "output_type": "stream",
          "name": "stdout",
          "text": [
            "shape of x_train is: (700, 70)\n",
            "shape of x_test is: (300, 70)\n"
          ]
        }
      ]
    },
    {
      "cell_type": "code",
      "source": [
        "def make_latent_samples(n_samples, sample_size):\n",
        "    #return np.random.uniform(-1, 1, size=(n_samples, sample_size))\n",
        "    return np.random.normal(loc=0, scale=1, size=(n_samples, sample_size))"
      ],
      "metadata": {
        "id": "1F0ZTSg7C3hA"
      },
      "execution_count": 10,
      "outputs": []
    },
    {
      "cell_type": "code",
      "source": [
        "make_latent_samples(1, 300) # generates one sample"
      ],
      "metadata": {
        "colab": {
          "base_uri": "https://localhost:8080/"
        },
        "id": "gQyJU64cC44_",
        "outputId": "7426aa4b-5286-4e1e-bcf1-6c369a5fcc59"
      },
      "execution_count": 11,
      "outputs": [
        {
          "output_type": "execute_result",
          "data": {
            "text/plain": [
              "array([[-1.49823750e+00,  7.22429572e-01, -3.60917986e-01,\n",
              "        -2.91323317e-01,  5.59640133e-01, -5.14243056e-01,\n",
              "         6.49092721e-01, -1.89695217e+00,  7.23751164e-01,\n",
              "         5.67027468e-01, -1.08555078e+00, -5.97402363e-01,\n",
              "         6.01369786e-01,  5.18162778e-01,  1.76531447e+00,\n",
              "         1.05491528e-01,  1.31613117e+00,  2.16851655e-01,\n",
              "        -1.66942271e-01, -1.14968739e+00, -1.05574779e+00,\n",
              "         1.61189049e+00, -1.44760281e-01,  1.12197860e+00,\n",
              "        -2.35651674e-02, -7.49966372e-01, -3.72494159e-01,\n",
              "         1.55878609e-01, -6.22258993e-01,  1.24739106e+00,\n",
              "        -1.74005816e-01,  4.54142619e-01, -2.85171655e-01,\n",
              "         6.94516447e-01,  8.60891940e-01,  3.96029973e-01,\n",
              "         2.70072193e-01,  5.79524425e-02, -3.13822411e-01,\n",
              "        -1.11599597e+00,  5.12396319e-01, -6.74550187e-01,\n",
              "        -5.65188321e-01,  1.06518530e+00,  1.82161644e+00,\n",
              "         1.05832095e+00, -1.85052990e+00,  8.57928104e-01,\n",
              "         4.40248856e-01, -4.27466064e-01,  9.28430262e-01,\n",
              "        -5.76133376e-01, -1.67311085e+00,  5.29123317e-01,\n",
              "         5.22711392e-01,  1.62452942e+00, -1.83904424e-01,\n",
              "         2.47595414e-01,  7.44729238e-01,  1.15619247e+00,\n",
              "         4.95568294e-01, -4.98518476e-01, -4.67555566e-01,\n",
              "        -7.75106866e-01, -5.39330275e-01, -1.06965687e+00,\n",
              "        -5.15878181e-01, -1.49693885e+00, -3.92931887e-01,\n",
              "         8.53124065e-01, -6.46629376e-02, -1.97296774e-01,\n",
              "        -2.01036821e+00,  2.24439183e-01, -5.95998084e-01,\n",
              "        -4.70241742e-01,  3.55862592e-01, -9.02615993e-01,\n",
              "         2.37594232e-01,  1.39546148e+00, -8.29231099e-01,\n",
              "         2.51913380e+00,  8.40041061e-01,  8.50630599e-01,\n",
              "        -4.65464333e-01, -8.11189455e-01,  1.15251009e+00,\n",
              "        -1.98729598e-01, -1.78817762e+00,  8.54876895e-01,\n",
              "        -7.13133915e-01, -1.39683872e+00, -1.65041164e-01,\n",
              "         1.99270465e+00,  7.11991074e-01,  1.78535154e-01,\n",
              "        -9.28677873e-02, -1.00151356e+00,  6.04751972e-02,\n",
              "         1.55010115e+00,  3.75801914e-02, -1.51866891e+00,\n",
              "         7.16603526e-01, -1.34577803e-01,  1.19981145e+00,\n",
              "        -9.94658057e-01, -1.18287196e-01, -2.65811888e-01,\n",
              "         1.24115638e+00, -1.44544270e-01, -4.11611765e-01,\n",
              "        -7.71405892e-03,  2.65026306e+00,  7.17334617e-01,\n",
              "         6.26493369e-01, -6.72303180e-01, -7.56796367e-01,\n",
              "        -3.20951252e-02, -3.09466492e-01, -5.90787273e-01,\n",
              "        -8.24194265e-01,  5.63373872e-01,  5.07449524e-01,\n",
              "        -2.17999689e-01,  6.24819241e-01, -9.98811323e-02,\n",
              "         1.08565205e+00,  3.22787160e-01,  9.54467630e-01,\n",
              "        -7.21425044e-02,  7.66148764e-01, -1.91030830e+00,\n",
              "         6.88378717e-01, -6.51283737e-01, -9.43232786e-01,\n",
              "         1.97928917e+00, -6.91090738e-01, -1.22334643e+00,\n",
              "        -1.05614746e+00,  9.09008266e-01, -1.84505331e+00,\n",
              "        -1.05307356e+00, -1.96529626e-01,  5.92434004e-01,\n",
              "         7.02676683e-01, -1.75378009e+00, -5.18213798e-01,\n",
              "         3.93549621e-01,  2.22753476e-01,  2.50054782e-01,\n",
              "         2.38115426e+00, -9.37006918e-01, -1.18197051e+00,\n",
              "         5.42573571e-01, -1.55418588e+00,  2.14128759e-01,\n",
              "        -9.73602190e-01, -1.22597877e+00, -2.00108695e-01,\n",
              "        -7.21957669e-01,  3.50591996e-01, -3.95109872e-01,\n",
              "        -5.18199114e-01, -1.29014422e-01, -1.18605992e+00,\n",
              "        -1.82292219e+00,  1.03025093e+00, -4.61387647e-01,\n",
              "         1.25159467e+00,  1.50561152e+00, -1.99360691e+00,\n",
              "         1.95887544e-01, -1.38838090e-01, -2.52643606e-01,\n",
              "         3.84360955e-01, -1.65579287e+00, -2.71272580e+00,\n",
              "        -1.13160057e+00, -1.43400476e+00,  1.01703922e+00,\n",
              "        -1.41076605e+00, -2.19176615e-01,  3.58261913e-01,\n",
              "         5.48729962e-01,  9.16384844e-01, -1.92349100e-01,\n",
              "         1.24376037e+00,  1.10716297e+00, -1.34724690e+00,\n",
              "        -1.30270474e+00, -3.88782126e-02,  1.30803706e+00,\n",
              "        -1.30123540e-01,  8.33923617e-02,  2.95256863e+00,\n",
              "         2.14636922e-01, -1.53784392e-01, -4.07173587e-01,\n",
              "         3.16733723e-01, -1.50856196e+00,  9.26198741e-02,\n",
              "         1.17323831e+00, -4.34796043e-01, -3.40383074e-01,\n",
              "        -2.79062538e+00,  2.38315545e-01, -1.91735435e+00,\n",
              "        -6.27217036e-01, -9.25162366e-01, -5.96761468e-01,\n",
              "        -4.40069099e-01, -4.49359939e-01, -3.98742716e-01,\n",
              "         2.50147357e-01, -2.47966718e+00,  5.95243126e-01,\n",
              "         1.49838702e-02, -1.21497461e+00,  4.22758779e-01,\n",
              "         3.15697389e-01, -2.28640877e-01, -1.43169428e+00,\n",
              "         1.42219505e+00, -9.08612170e-01,  1.08539186e+00,\n",
              "        -1.13919132e+00,  1.75554147e+00,  9.40368382e-01,\n",
              "         4.95824730e-01, -8.25377327e-01,  9.54132409e-02,\n",
              "        -1.43961142e+00, -6.31169532e-01, -5.93042215e-01,\n",
              "        -1.63663924e+00,  6.11262056e-01,  1.59557673e-01,\n",
              "        -5.39667824e-01,  8.51509884e-01, -7.73865978e-01,\n",
              "        -1.29916469e+00, -3.23386742e+00, -3.00720860e-01,\n",
              "        -5.54532493e-02, -6.94697959e-01,  1.15846677e+00,\n",
              "        -7.35616175e-01,  8.21663759e-01,  4.28000847e-02,\n",
              "         7.94558985e-01,  7.39014285e-01, -2.37636527e-01,\n",
              "         2.05203778e+00,  1.95480737e-04, -3.83663791e-01,\n",
              "         5.62583254e-01,  1.47145932e+00,  2.47614187e-01,\n",
              "         1.80766910e-01, -1.44042498e+00,  2.41871882e+00,\n",
              "        -6.42090110e-01,  1.40444597e+00,  5.14074983e-01,\n",
              "         4.02740093e-01,  1.33613349e+00, -8.50605867e-01,\n",
              "        -1.95775054e-01,  6.11924036e-01, -6.81755065e-01,\n",
              "        -9.93628794e-01,  6.19771320e-01,  1.06668889e+00,\n",
              "         1.86445059e-01, -1.77530068e+00,  1.55984720e-01,\n",
              "        -3.13445864e-01, -5.41933731e-01, -2.50310214e-01,\n",
              "         1.49444023e-01,  4.48818195e-01,  5.86347410e-01,\n",
              "        -1.79414369e+00, -7.48454978e-01,  1.34960134e+00,\n",
              "        -1.34387063e+00, -1.33371353e-01,  9.43179313e-01,\n",
              "        -1.99878449e+00,  8.60847418e-01,  9.25918093e-01,\n",
              "        -7.86018347e-01,  1.33921838e-01, -5.61938933e-01,\n",
              "         7.00348486e-01,  1.87739453e-01, -1.97469534e+00,\n",
              "         7.70815728e-01,  2.69403423e+00,  1.22021954e+00]])"
            ]
          },
          "metadata": {},
          "execution_count": 11
        }
      ]
    },
    {
      "cell_type": "code",
      "source": [
        "generator = Sequential([\n",
        "    Dense(256, input_shape=(100,)),\n",
        "    LeakyReLU(alpha=0.02),\n",
        "    #BatchNormalization(momentum=0.6),\n",
        "    #Dense(512),\n",
        "    #LeakyReLU(alpha=0.02),\n",
        "    #BatchNormalization(momentum=0.6),\n",
        "    #Dense(256),\n",
        "    #LeakyReLU(alpha=0.02),\n",
        "    #BatchNormalization(momentum=0.6),\n",
        "    #Dense(128),\n",
        "    #LeakyReLU(alpha=0.02),\n",
        "    #BatchNormalization(momentum=0.6),\n",
        "    Dense(70),\n",
        "    Activation('tanh')\n",
        "], name='generator')\n",
        "\n",
        "generator.summary()"
      ],
      "metadata": {
        "colab": {
          "base_uri": "https://localhost:8080/"
        },
        "id": "MedUL6ngC72k",
        "outputId": "42c01ebc-63f4-4066-dd45-a33b63dc4d55"
      },
      "execution_count": 12,
      "outputs": [
        {
          "output_type": "stream",
          "name": "stdout",
          "text": [
            "Model: \"generator\"\n",
            "_________________________________________________________________\n",
            " Layer (type)                Output Shape              Param #   \n",
            "=================================================================\n",
            " dense (Dense)               (None, 256)               25856     \n",
            "                                                                 \n",
            " leaky_re_lu (LeakyReLU)     (None, 256)               0         \n",
            "                                                                 \n",
            " dense_1 (Dense)             (None, 70)                17990     \n",
            "                                                                 \n",
            " activation (Activation)     (None, 70)                0         \n",
            "                                                                 \n",
            "=================================================================\n",
            "Total params: 43,846\n",
            "Trainable params: 43,846\n",
            "Non-trainable params: 0\n",
            "_________________________________________________________________\n"
          ]
        }
      ]
    },
    {
      "cell_type": "code",
      "source": [
        "discriminator = Sequential([\n",
        "    Dense(128, input_shape=(70,)),\n",
        "    LeakyReLU(alpha=0.02),\n",
        "    #(momentum=0.6),\n",
        "    Dense(64),\n",
        "    LeakyReLU(alpha=0.02),\n",
        "    #BatchNormalization(momentum=0.6),\n",
        "    Dense(32),\n",
        "    LeakyReLU(alpha=0.02),\n",
        "    #BatchNormalization(momentum=0.6),\n",
        "    #Dense(16),\n",
        "    #LeakyReLU(alpha=0.02),\n",
        "    #BatchNormalization(momentum=0.6),\n",
        "    #Dense(8),\n",
        "    #LeakyReLU(alpha=0.02),\n",
        "    #BatchNormalization(momentum=0.6),\n",
        "    Dense(1),\n",
        "    Activation('sigmoid')\n",
        "], name='discriminator')\n",
        "\n",
        "discriminator.summary()"
      ],
      "metadata": {
        "colab": {
          "base_uri": "https://localhost:8080/"
        },
        "id": "aQ_AFOBWC9DM",
        "outputId": "382b1bb8-d9a7-4607-c43d-e8c143f7d610"
      },
      "execution_count": 13,
      "outputs": [
        {
          "output_type": "stream",
          "name": "stdout",
          "text": [
            "Model: \"discriminator\"\n",
            "_________________________________________________________________\n",
            " Layer (type)                Output Shape              Param #   \n",
            "=================================================================\n",
            " dense_2 (Dense)             (None, 128)               9088      \n",
            "                                                                 \n",
            " leaky_re_lu_1 (LeakyReLU)   (None, 128)               0         \n",
            "                                                                 \n",
            " dense_3 (Dense)             (None, 64)                8256      \n",
            "                                                                 \n",
            " leaky_re_lu_2 (LeakyReLU)   (None, 64)                0         \n",
            "                                                                 \n",
            " dense_4 (Dense)             (None, 32)                2080      \n",
            "                                                                 \n",
            " leaky_re_lu_3 (LeakyReLU)   (None, 32)                0         \n",
            "                                                                 \n",
            " dense_5 (Dense)             (None, 1)                 33        \n",
            "                                                                 \n",
            " activation_1 (Activation)   (None, 1)                 0         \n",
            "                                                                 \n",
            "=================================================================\n",
            "Total params: 19,457\n",
            "Trainable params: 19,457\n",
            "Non-trainable params: 0\n",
            "_________________________________________________________________\n"
          ]
        }
      ]
    },
    {
      "cell_type": "code",
      "source": [
        "# maintain the same shared weights with the generator and the discriminator.\n",
        "gan = Sequential([\n",
        "    generator,\n",
        "    discriminator\n",
        "])\n",
        "\n",
        "gan.summary()"
      ],
      "metadata": {
        "colab": {
          "base_uri": "https://localhost:8080/"
        },
        "id": "nzpglarWDA5p",
        "outputId": "35976149-b46b-4920-d009-bf569afb29b8"
      },
      "execution_count": 14,
      "outputs": [
        {
          "output_type": "stream",
          "name": "stdout",
          "text": [
            "Model: \"sequential\"\n",
            "_________________________________________________________________\n",
            " Layer (type)                Output Shape              Param #   \n",
            "=================================================================\n",
            " generator (Sequential)      (None, 70)                43846     \n",
            "                                                                 \n",
            " discriminator (Sequential)  (None, 1)                 19457     \n",
            "                                                                 \n",
            "=================================================================\n",
            "Total params: 63,303\n",
            "Trainable params: 63,303\n",
            "Non-trainable params: 0\n",
            "_________________________________________________________________\n"
          ]
        }
      ]
    },
    {
      "cell_type": "code",
      "source": [
        "def make_trainable(model, trainable):\n",
        "    for layer in model.layers:\n",
        "        layer.trainable = trainable"
      ],
      "metadata": {
        "id": "jcQFa2llDDb9"
      },
      "execution_count": 15,
      "outputs": []
    },
    {
      "cell_type": "code",
      "source": [
        "make_trainable(discriminator, False)\n",
        "discriminator.summary()"
      ],
      "metadata": {
        "colab": {
          "base_uri": "https://localhost:8080/"
        },
        "id": "rmNw2ufIDEuQ",
        "outputId": "3fcbd0e6-b161-4dba-ec04-2e31691503ce"
      },
      "execution_count": 16,
      "outputs": [
        {
          "output_type": "stream",
          "name": "stdout",
          "text": [
            "Model: \"discriminator\"\n",
            "_________________________________________________________________\n",
            " Layer (type)                Output Shape              Param #   \n",
            "=================================================================\n",
            " dense_2 (Dense)             (None, 128)               9088      \n",
            "                                                                 \n",
            " leaky_re_lu_1 (LeakyReLU)   (None, 128)               0         \n",
            "                                                                 \n",
            " dense_3 (Dense)             (None, 64)                8256      \n",
            "                                                                 \n",
            " leaky_re_lu_2 (LeakyReLU)   (None, 64)                0         \n",
            "                                                                 \n",
            " dense_4 (Dense)             (None, 32)                2080      \n",
            "                                                                 \n",
            " leaky_re_lu_3 (LeakyReLU)   (None, 32)                0         \n",
            "                                                                 \n",
            " dense_5 (Dense)             (None, 1)                 33        \n",
            "                                                                 \n",
            " activation_1 (Activation)   (None, 1)                 0         \n",
            "                                                                 \n",
            "=================================================================\n",
            "Total params: 19,457\n",
            "Trainable params: 0\n",
            "Non-trainable params: 19,457\n",
            "_________________________________________________________________\n"
          ]
        }
      ]
    },
    {
      "cell_type": "code",
      "source": [
        "make_trainable(discriminator, True)\n",
        "discriminator.summary()"
      ],
      "metadata": {
        "colab": {
          "base_uri": "https://localhost:8080/"
        },
        "id": "LTgogN-IDGjL",
        "outputId": "c6ccb7e1-59f2-4a05-9bf7-949b2edd9ef4"
      },
      "execution_count": 17,
      "outputs": [
        {
          "output_type": "stream",
          "name": "stdout",
          "text": [
            "Model: \"discriminator\"\n",
            "_________________________________________________________________\n",
            " Layer (type)                Output Shape              Param #   \n",
            "=================================================================\n",
            " dense_2 (Dense)             (None, 128)               9088      \n",
            "                                                                 \n",
            " leaky_re_lu_1 (LeakyReLU)   (None, 128)               0         \n",
            "                                                                 \n",
            " dense_3 (Dense)             (None, 64)                8256      \n",
            "                                                                 \n",
            " leaky_re_lu_2 (LeakyReLU)   (None, 64)                0         \n",
            "                                                                 \n",
            " dense_4 (Dense)             (None, 32)                2080      \n",
            "                                                                 \n",
            " leaky_re_lu_3 (LeakyReLU)   (None, 32)                0         \n",
            "                                                                 \n",
            " dense_5 (Dense)             (None, 1)                 33        \n",
            "                                                                 \n",
            " activation_1 (Activation)   (None, 1)                 0         \n",
            "                                                                 \n",
            "=================================================================\n",
            "Total params: 19,457\n",
            "Trainable params: 19,457\n",
            "Non-trainable params: 0\n",
            "_________________________________________________________________\n"
          ]
        }
      ]
    },
    {
      "cell_type": "code",
      "source": [
        "def make_simple_GAN(sample_size, \n",
        "                    g_hidden_size_1,\n",
        "                    g_hidden_size_2,\n",
        "                    g_hidden_size_3,\n",
        "                    g_hidden_size_4,\n",
        "                    d_hidden_size_1,\n",
        "                    d_hidden_size_2, \n",
        "                    d_hidden_size_3,\n",
        "                    d_hidden_size_4,\n",
        "                    d_hidden_size_5,\n",
        "                    leaky_alpha, \n",
        "                    g_learning_rate,\n",
        "                    d_learning_rate):\n",
        "    K.clear_session()\n",
        "    \n",
        "    generator = Sequential([\n",
        "        Dense(g_hidden_size_1, input_shape=(sample_size,)),\n",
        "        LeakyReLU(alpha=leaky_alpha),\n",
        "        #BatchNormalization(momentum=0.6),\n",
        "        #Dense(g_hidden_size_2),\n",
        "        #LeakyReLU(alpha=leaky_alpha),\n",
        "        #BatchNormalization(momentum=0.6),\n",
        "        #Dense(g_hidden_size_3),\n",
        "        #LeakyReLU(alpha=leaky_alpha),\n",
        "        #BatchNormalization(momentum=0.6),\n",
        "        #Dense(g_hidden_size_4),\n",
        "        #LeakyReLU(alpha=leaky_alpha),\n",
        "        #BatchNormalization(momentum=0.6),\n",
        "        Dense(70),        \n",
        "        Activation('tanh')\n",
        "    ], name='generator')    \n",
        "\n",
        "    discriminator = Sequential([\n",
        "        Dense(d_hidden_size_1, input_shape=(70,)),\n",
        "        LeakyReLU(alpha=leaky_alpha),\n",
        "        #BatchNormalization(momentum=0.6),\n",
        "        Dense(d_hidden_size_2),\n",
        "        LeakyReLU(alpha=leaky_alpha),\n",
        "        #BatchNormalization(momentum=0.6),\n",
        "        Dense(d_hidden_size_3),\n",
        "        LeakyReLU(alpha=leaky_alpha),\n",
        "        #BatchNormalization(momentum=0.6),\n",
        "        #Dense(d_hidden_size_4),\n",
        "        #LeakyReLU(alpha=leaky_alpha),\n",
        "        #BatchNormalization(momentum=0.6),\n",
        "        #Dense(d_hidden_size_5),\n",
        "        #LeakyReLU(alpha=leaky_alpha),\n",
        "        #BatchNormalization(momentum=0.6),\n",
        "        Dense(1),\n",
        "        Activation('sigmoid')\n",
        "    ], name='discriminator')    \n",
        "    \n",
        "    gan = Sequential([\n",
        "        generator,\n",
        "        discriminator\n",
        "    ])\n",
        "    \n",
        "    discriminator.compile(optimizer=Adam(lr=d_learning_rate), loss='binary_crossentropy')\n",
        "    gan.compile(optimizer=Adam(lr=g_learning_rate), loss='binary_crossentropy')\n",
        "    \n",
        "    return gan, generator, discriminator "
      ],
      "metadata": {
        "id": "Y1NR5ScFDINq"
      },
      "execution_count": 18,
      "outputs": []
    },
    {
      "cell_type": "code",
      "source": [
        "from sklearn import preprocessing\n",
        "def preprocess(x):\n",
        "   x = preprocessing.scale(x)\n",
        "   return x"
      ],
      "metadata": {
        "id": "pTB_Cw2xDMgm"
      },
      "execution_count": 19,
      "outputs": []
    },
    {
      "cell_type": "code",
      "source": [
        "X_train_real = np.array(preprocess(X_train))\n",
        "X_test_real  = np.array(preprocess(X_test))"
      ],
      "metadata": {
        "id": "Ip_EsmkHDNjL"
      },
      "execution_count": 20,
      "outputs": []
    },
    {
      "cell_type": "code",
      "source": [
        "def make_labels(size):\n",
        "    return np.ones([size, 1]), np.zeros([size, 1])"
      ],
      "metadata": {
        "id": "rH90M0ypDT64"
      },
      "execution_count": 21,
      "outputs": []
    },
    {
      "cell_type": "code",
      "source": [
        "y_real_10, y_fake_10 = make_labels(10)\n",
        "\n",
        "y_real_10, y_fake_10"
      ],
      "metadata": {
        "colab": {
          "base_uri": "https://localhost:8080/"
        },
        "id": "JAMwQybFDVQq",
        "outputId": "013b2d40-c9ec-4351-9359-27b356f0a198"
      },
      "execution_count": 22,
      "outputs": [
        {
          "output_type": "execute_result",
          "data": {
            "text/plain": [
              "(array([[1.],\n",
              "        [1.],\n",
              "        [1.],\n",
              "        [1.],\n",
              "        [1.],\n",
              "        [1.],\n",
              "        [1.],\n",
              "        [1.],\n",
              "        [1.],\n",
              "        [1.]]), array([[0.],\n",
              "        [0.],\n",
              "        [0.],\n",
              "        [0.],\n",
              "        [0.],\n",
              "        [0.],\n",
              "        [0.],\n",
              "        [0.],\n",
              "        [0.],\n",
              "        [0.]]))"
            ]
          },
          "metadata": {},
          "execution_count": 22
        }
      ]
    },
    {
      "cell_type": "code",
      "source": [
        "# hyperparameters\n",
        "sample_size     = 100     # latent sample size (i.e., 100 random numbers)\n",
        "g_hidden_size_1 = 256\n",
        "g_hidden_size_2 = 0\n",
        "g_hidden_size_3 = 0\n",
        "g_hidden_size_4 = 0\n",
        "d_hidden_size_1 = 128\n",
        "d_hidden_size_2 = 64\n",
        "d_hidden_size_3 = 32\n",
        "d_hidden_size_4 = 16\n",
        "d_hidden_size_5 = 8\n",
        "leaky_alpha     = 0.02\n",
        "g_learning_rate = 0.0001  # learning rate for the generator\n",
        "d_learning_rate = 0.001   # learning rate for the discriminator\n",
        "epochs          = 200\n",
        "batch_size      = 64      # train batch size\n",
        "eval_size       = 16      # evaluate size\n",
        "smooth          = 0.1\n"
      ],
      "metadata": {
        "id": "zjBaUGf2DVoP"
      },
      "execution_count": 23,
      "outputs": []
    },
    {
      "cell_type": "code",
      "source": [
        "## labels for the batch size and the test size\n",
        "y_train_real, y_train_fake = make_labels(batch_size)\n",
        "y_eval_real,  y_eval_fake  = make_labels(eval_size)\n",
        "\n",
        "# create a GAN, a generator and a discriminator\n",
        "gan, generator, discriminator = make_simple_GAN(\n",
        "    sample_size, \n",
        "    g_hidden_size_1, \n",
        "    g_hidden_size_2,\n",
        "    g_hidden_size_3,\n",
        "    g_hidden_size_4, \n",
        "    d_hidden_size_1, \n",
        "    d_hidden_size_2,\n",
        "    d_hidden_size_3,\n",
        "    d_hidden_size_4,\n",
        "    d_hidden_size_5,\n",
        "    leaky_alpha, \n",
        "    g_learning_rate,\n",
        "    d_learning_rate)\n",
        "\n",
        "\n",
        "losses = []\n",
        "losses1 = []\n",
        "for e in range(epochs):\n",
        "    for i in range(len(X_train_real)//batch_size):\n",
        "        # real MNIST digit images\n",
        "        X_batch_real = X_train_real[i*batch_size:(i+1)*batch_size]\n",
        "        \n",
        "        # latent samples and the generated digit images\n",
        "        latent_samples = make_latent_samples(batch_size, sample_size)\n",
        "        X_batch_fake = generator.predict_on_batch(latent_samples)\n",
        "        \n",
        "        # train the discriminator to detect real and fake images\n",
        "        make_trainable(discriminator, True)\n",
        "        discriminator.train_on_batch(X_batch_real, y_train_real * (1 - smooth))\n",
        "        discriminator.train_on_batch(X_batch_fake, y_train_fake)\n",
        "\n",
        "        # train the generator via GAN\n",
        "        make_trainable(discriminator, False)\n",
        "        gan.train_on_batch(latent_samples, y_train_real)\n",
        "   # evaluate\n",
        "    X_eval_real = X_test_real[np.random.choice(len(X_test_real), eval_size, replace=False)]\n",
        "    \n",
        "    latent_samples = make_latent_samples(eval_size, sample_size)\n",
        "    X_eval_fake = generator.predict_on_batch(latent_samples)\n",
        "\n",
        "    d_loss  = discriminator.test_on_batch(X_eval_real, y_eval_real)\n",
        "    d_loss += discriminator.test_on_batch(X_eval_fake, y_eval_fake)\n",
        "    g_loss  = gan.test_on_batch(latent_samples, y_eval_real) # we want the fake to be realistic!\n",
        "    \n",
        "    losses.append((d_loss, g_loss))\n",
        "\n",
        "    #d_acc_real = discriminator.train_on_batch(X_batch_real, y_train_real * (1 - smooth))\n",
        "    #d_acc_fake = discriminator.train_on_batch(X_batch_fake, y_train_fake)\n",
        "    #d_acc  = 0.5 * (d_acc_real + d_acc_fake)\n",
        "\n",
        "    #losses1.append(( d_acc))\n",
        "    print(\"Epoch: {:>3}/{} Discriminator Loss: {:>6.4f} Generator Loss: {:>6.4f} \".format(\n",
        "        e+1, epochs, d_loss, g_loss)) #Discriminator acc: {:>6.4f}:,d_acc"
      ],
      "metadata": {
        "colab": {
          "base_uri": "https://localhost:8080/"
        },
        "id": "U2gEPAnODX5R",
        "outputId": "48ffc8f8-eed0-4514-bcfd-6bb782b0d450"
      },
      "execution_count": 24,
      "outputs": [
        {
          "output_type": "stream",
          "name": "stderr",
          "text": [
            "/usr/local/lib/python3.7/dist-packages/keras/optimizer_v2/adam.py:105: UserWarning: The `lr` argument is deprecated, use `learning_rate` instead.\n",
            "  super(Adam, self).__init__(name, **kwargs)\n"
          ]
        },
        {
          "output_type": "stream",
          "name": "stdout",
          "text": [
            "Epoch:   1/200 Discriminator Loss: 0.8995 Generator Loss: 0.7917 \n",
            "Epoch:   2/200 Discriminator Loss: 0.5109 Generator Loss: 1.2248 \n",
            "Epoch:   3/200 Discriminator Loss: 0.2794 Generator Loss: 1.9950 \n",
            "Epoch:   4/200 Discriminator Loss: 0.3593 Generator Loss: 2.0901 \n",
            "Epoch:   5/200 Discriminator Loss: 0.2499 Generator Loss: 2.1286 \n",
            "Epoch:   6/200 Discriminator Loss: 0.3260 Generator Loss: 2.1271 \n",
            "Epoch:   7/200 Discriminator Loss: 0.3235 Generator Loss: 2.5144 \n",
            "Epoch:   8/200 Discriminator Loss: 0.2409 Generator Loss: 2.6873 \n",
            "Epoch:   9/200 Discriminator Loss: 0.2045 Generator Loss: 2.6904 \n",
            "Epoch:  10/200 Discriminator Loss: 0.1507 Generator Loss: 3.5253 \n",
            "Epoch:  11/200 Discriminator Loss: 0.1559 Generator Loss: 3.8472 \n",
            "Epoch:  12/200 Discriminator Loss: 0.1945 Generator Loss: 3.7882 \n",
            "Epoch:  13/200 Discriminator Loss: 0.7057 Generator Loss: 4.0555 \n",
            "Epoch:  14/200 Discriminator Loss: 0.2049 Generator Loss: 4.4470 \n",
            "Epoch:  15/200 Discriminator Loss: 0.1441 Generator Loss: 4.4269 \n",
            "Epoch:  16/200 Discriminator Loss: 0.1330 Generator Loss: 4.8216 \n",
            "Epoch:  17/200 Discriminator Loss: 0.2012 Generator Loss: 4.8642 \n",
            "Epoch:  18/200 Discriminator Loss: 0.1711 Generator Loss: 4.5546 \n",
            "Epoch:  19/200 Discriminator Loss: 0.2261 Generator Loss: 4.8249 \n",
            "Epoch:  20/200 Discriminator Loss: 0.1966 Generator Loss: 5.4040 \n",
            "Epoch:  21/200 Discriminator Loss: 0.2112 Generator Loss: 5.2100 \n",
            "Epoch:  22/200 Discriminator Loss: 0.2253 Generator Loss: 4.9081 \n",
            "Epoch:  23/200 Discriminator Loss: 0.2175 Generator Loss: 5.3059 \n",
            "Epoch:  24/200 Discriminator Loss: 0.1554 Generator Loss: 4.8475 \n",
            "Epoch:  25/200 Discriminator Loss: 0.2490 Generator Loss: 5.7306 \n",
            "Epoch:  26/200 Discriminator Loss: 0.2222 Generator Loss: 5.1023 \n",
            "Epoch:  27/200 Discriminator Loss: 0.1864 Generator Loss: 5.4150 \n",
            "Epoch:  28/200 Discriminator Loss: 0.1656 Generator Loss: 5.6517 \n",
            "Epoch:  29/200 Discriminator Loss: 0.1989 Generator Loss: 5.6731 \n",
            "Epoch:  30/200 Discriminator Loss: 0.1721 Generator Loss: 6.1821 \n",
            "Epoch:  31/200 Discriminator Loss: 0.2042 Generator Loss: 6.1403 \n",
            "Epoch:  32/200 Discriminator Loss: 0.2728 Generator Loss: 5.7698 \n",
            "Epoch:  33/200 Discriminator Loss: 0.7713 Generator Loss: 5.6576 \n",
            "Epoch:  34/200 Discriminator Loss: 0.2024 Generator Loss: 5.9319 \n",
            "Epoch:  35/200 Discriminator Loss: 0.2684 Generator Loss: 6.2158 \n",
            "Epoch:  36/200 Discriminator Loss: 0.2182 Generator Loss: 6.6039 \n",
            "Epoch:  37/200 Discriminator Loss: 0.2327 Generator Loss: 5.4045 \n",
            "Epoch:  38/200 Discriminator Loss: 0.2332 Generator Loss: 6.8096 \n",
            "Epoch:  39/200 Discriminator Loss: 0.2306 Generator Loss: 6.3126 \n",
            "Epoch:  40/200 Discriminator Loss: 0.2690 Generator Loss: 7.3549 \n",
            "Epoch:  41/200 Discriminator Loss: 0.2835 Generator Loss: 6.7341 \n",
            "Epoch:  42/200 Discriminator Loss: 0.2119 Generator Loss: 6.1777 \n",
            "Epoch:  43/200 Discriminator Loss: 0.3122 Generator Loss: 6.4219 \n",
            "Epoch:  44/200 Discriminator Loss: 0.2730 Generator Loss: 6.7493 \n",
            "Epoch:  45/200 Discriminator Loss: 1.3077 Generator Loss: 6.9506 \n",
            "Epoch:  46/200 Discriminator Loss: 0.1559 Generator Loss: 7.3172 \n",
            "Epoch:  47/200 Discriminator Loss: 0.1509 Generator Loss: 6.3853 \n",
            "Epoch:  48/200 Discriminator Loss: 0.1257 Generator Loss: 7.0231 \n",
            "Epoch:  49/200 Discriminator Loss: 0.1003 Generator Loss: 6.3520 \n",
            "Epoch:  50/200 Discriminator Loss: 0.1003 Generator Loss: 5.3336 \n",
            "Epoch:  51/200 Discriminator Loss: 0.0984 Generator Loss: 6.4881 \n",
            "Epoch:  52/200 Discriminator Loss: 0.1052 Generator Loss: 6.6338 \n",
            "Epoch:  53/200 Discriminator Loss: 0.1383 Generator Loss: 6.6399 \n",
            "Epoch:  54/200 Discriminator Loss: 0.3651 Generator Loss: 6.6588 \n",
            "Epoch:  55/200 Discriminator Loss: 0.1214 Generator Loss: 6.6954 \n",
            "Epoch:  56/200 Discriminator Loss: 0.1316 Generator Loss: 6.3700 \n",
            "Epoch:  57/200 Discriminator Loss: 0.1820 Generator Loss: 7.0390 \n",
            "Epoch:  58/200 Discriminator Loss: 0.1101 Generator Loss: 7.1981 \n",
            "Epoch:  59/200 Discriminator Loss: 0.1349 Generator Loss: 6.7237 \n",
            "Epoch:  60/200 Discriminator Loss: 0.1262 Generator Loss: 6.9229 \n",
            "Epoch:  61/200 Discriminator Loss: 0.1281 Generator Loss: 6.1271 \n",
            "Epoch:  62/200 Discriminator Loss: 0.1453 Generator Loss: 6.9230 \n",
            "Epoch:  63/200 Discriminator Loss: 0.1677 Generator Loss: 6.8267 \n",
            "Epoch:  64/200 Discriminator Loss: 1.3690 Generator Loss: 6.3826 \n",
            "Epoch:  65/200 Discriminator Loss: 0.1749 Generator Loss: 6.5979 \n",
            "Epoch:  66/200 Discriminator Loss: 1.7087 Generator Loss: 6.6629 \n",
            "Epoch:  67/200 Discriminator Loss: 0.1015 Generator Loss: 7.4160 \n",
            "Epoch:  68/200 Discriminator Loss: 0.1185 Generator Loss: 7.8831 \n",
            "Epoch:  69/200 Discriminator Loss: 0.1279 Generator Loss: 6.9601 \n",
            "Epoch:  70/200 Discriminator Loss: 0.1059 Generator Loss: 6.9238 \n",
            "Epoch:  71/200 Discriminator Loss: 0.1052 Generator Loss: 6.3999 \n",
            "Epoch:  72/200 Discriminator Loss: 0.1968 Generator Loss: 6.9767 \n",
            "Epoch:  73/200 Discriminator Loss: 0.1481 Generator Loss: 6.8163 \n",
            "Epoch:  74/200 Discriminator Loss: 0.1139 Generator Loss: 6.9393 \n",
            "Epoch:  75/200 Discriminator Loss: 0.1134 Generator Loss: 7.0818 \n",
            "Epoch:  76/200 Discriminator Loss: 0.1405 Generator Loss: 6.9816 \n",
            "Epoch:  77/200 Discriminator Loss: 0.1238 Generator Loss: 7.6879 \n",
            "Epoch:  78/200 Discriminator Loss: 0.1137 Generator Loss: 7.8401 \n",
            "Epoch:  79/200 Discriminator Loss: 0.1491 Generator Loss: 8.0746 \n",
            "Epoch:  80/200 Discriminator Loss: 0.1568 Generator Loss: 7.4066 \n",
            "Epoch:  81/200 Discriminator Loss: 0.1233 Generator Loss: 8.5912 \n",
            "Epoch:  82/200 Discriminator Loss: 0.0825 Generator Loss: 7.7005 \n",
            "Epoch:  83/200 Discriminator Loss: 0.1434 Generator Loss: 8.5692 \n",
            "Epoch:  84/200 Discriminator Loss: 0.1430 Generator Loss: 7.9627 \n",
            "Epoch:  85/200 Discriminator Loss: 0.1317 Generator Loss: 7.4641 \n",
            "Epoch:  86/200 Discriminator Loss: 0.1118 Generator Loss: 7.4118 \n",
            "Epoch:  87/200 Discriminator Loss: 0.1482 Generator Loss: 8.6133 \n",
            "Epoch:  88/200 Discriminator Loss: 0.1240 Generator Loss: 8.1514 \n",
            "Epoch:  89/200 Discriminator Loss: 0.1470 Generator Loss: 8.2093 \n",
            "Epoch:  90/200 Discriminator Loss: 0.1547 Generator Loss: 8.1409 \n",
            "Epoch:  91/200 Discriminator Loss: 0.1334 Generator Loss: 7.8468 \n",
            "Epoch:  92/200 Discriminator Loss: 0.2082 Generator Loss: 7.3112 \n",
            "Epoch:  93/200 Discriminator Loss: 0.1542 Generator Loss: 7.2959 \n",
            "Epoch:  94/200 Discriminator Loss: 0.0929 Generator Loss: 8.3866 \n",
            "Epoch:  95/200 Discriminator Loss: 0.1664 Generator Loss: 7.4249 \n",
            "Epoch:  96/200 Discriminator Loss: 0.1573 Generator Loss: 7.8480 \n",
            "Epoch:  97/200 Discriminator Loss: 0.1571 Generator Loss: 8.3142 \n",
            "Epoch:  98/200 Discriminator Loss: 0.0775 Generator Loss: 8.0617 \n",
            "Epoch:  99/200 Discriminator Loss: 0.1127 Generator Loss: 7.9271 \n",
            "Epoch: 100/200 Discriminator Loss: 0.7923 Generator Loss: 7.3978 \n",
            "Epoch: 101/200 Discriminator Loss: 0.0952 Generator Loss: 8.1577 \n",
            "Epoch: 102/200 Discriminator Loss: 0.1120 Generator Loss: 8.6916 \n",
            "Epoch: 103/200 Discriminator Loss: 0.1423 Generator Loss: 8.2849 \n",
            "Epoch: 104/200 Discriminator Loss: 0.0990 Generator Loss: 7.0681 \n",
            "Epoch: 105/200 Discriminator Loss: 0.3260 Generator Loss: 8.1108 \n",
            "Epoch: 106/200 Discriminator Loss: 0.3414 Generator Loss: 7.7757 \n",
            "Epoch: 107/200 Discriminator Loss: 0.1560 Generator Loss: 7.6796 \n",
            "Epoch: 108/200 Discriminator Loss: 0.1036 Generator Loss: 8.4220 \n",
            "Epoch: 109/200 Discriminator Loss: 0.1362 Generator Loss: 7.6855 \n",
            "Epoch: 110/200 Discriminator Loss: 0.1635 Generator Loss: 7.2234 \n",
            "Epoch: 111/200 Discriminator Loss: 0.1130 Generator Loss: 7.9148 \n",
            "Epoch: 112/200 Discriminator Loss: 0.6051 Generator Loss: 8.3477 \n",
            "Epoch: 113/200 Discriminator Loss: 0.1621 Generator Loss: 7.6600 \n",
            "Epoch: 114/200 Discriminator Loss: 0.1295 Generator Loss: 7.2073 \n",
            "Epoch: 115/200 Discriminator Loss: 0.1493 Generator Loss: 7.9436 \n",
            "Epoch: 116/200 Discriminator Loss: 0.2166 Generator Loss: 7.3108 \n",
            "Epoch: 117/200 Discriminator Loss: 0.3141 Generator Loss: 7.5946 \n",
            "Epoch: 118/200 Discriminator Loss: 0.2205 Generator Loss: 6.9453 \n",
            "Epoch: 119/200 Discriminator Loss: 0.2251 Generator Loss: 8.3716 \n",
            "Epoch: 120/200 Discriminator Loss: 0.1749 Generator Loss: 7.4293 \n",
            "Epoch: 121/200 Discriminator Loss: 0.2068 Generator Loss: 7.9201 \n",
            "Epoch: 122/200 Discriminator Loss: 0.1984 Generator Loss: 8.5659 \n",
            "Epoch: 123/200 Discriminator Loss: 0.1441 Generator Loss: 6.9771 \n",
            "Epoch: 124/200 Discriminator Loss: 0.1034 Generator Loss: 6.8556 \n",
            "Epoch: 125/200 Discriminator Loss: 0.0894 Generator Loss: 6.7251 \n",
            "Epoch: 126/200 Discriminator Loss: 0.1740 Generator Loss: 7.6621 \n",
            "Epoch: 127/200 Discriminator Loss: 0.1776 Generator Loss: 7.3326 \n",
            "Epoch: 128/200 Discriminator Loss: 0.1057 Generator Loss: 7.1649 \n",
            "Epoch: 129/200 Discriminator Loss: 0.1089 Generator Loss: 7.5105 \n",
            "Epoch: 130/200 Discriminator Loss: 0.1146 Generator Loss: 7.7928 \n",
            "Epoch: 131/200 Discriminator Loss: 0.1232 Generator Loss: 7.2704 \n",
            "Epoch: 132/200 Discriminator Loss: 0.1167 Generator Loss: 7.5747 \n",
            "Epoch: 133/200 Discriminator Loss: 0.1053 Generator Loss: 7.2498 \n",
            "Epoch: 134/200 Discriminator Loss: 0.0861 Generator Loss: 7.8104 \n",
            "Epoch: 135/200 Discriminator Loss: 0.1239 Generator Loss: 7.8508 \n",
            "Epoch: 136/200 Discriminator Loss: 0.4244 Generator Loss: 8.4064 \n",
            "Epoch: 137/200 Discriminator Loss: 0.1199 Generator Loss: 7.5421 \n",
            "Epoch: 138/200 Discriminator Loss: 0.1222 Generator Loss: 7.2000 \n",
            "Epoch: 139/200 Discriminator Loss: 0.1271 Generator Loss: 7.4232 \n",
            "Epoch: 140/200 Discriminator Loss: 0.1203 Generator Loss: 7.5042 \n",
            "Epoch: 141/200 Discriminator Loss: 0.0896 Generator Loss: 7.8204 \n",
            "Epoch: 142/200 Discriminator Loss: 0.1179 Generator Loss: 8.3213 \n",
            "Epoch: 143/200 Discriminator Loss: 0.0918 Generator Loss: 7.0126 \n",
            "Epoch: 144/200 Discriminator Loss: 0.0751 Generator Loss: 8.1873 \n",
            "Epoch: 145/200 Discriminator Loss: 0.1161 Generator Loss: 7.5879 \n",
            "Epoch: 146/200 Discriminator Loss: 0.1020 Generator Loss: 7.6284 \n",
            "Epoch: 147/200 Discriminator Loss: 0.1005 Generator Loss: 8.2478 \n",
            "Epoch: 148/200 Discriminator Loss: 0.0943 Generator Loss: 7.4608 \n",
            "Epoch: 149/200 Discriminator Loss: 0.1042 Generator Loss: 7.4890 \n",
            "Epoch: 150/200 Discriminator Loss: 0.1163 Generator Loss: 7.2796 \n",
            "Epoch: 151/200 Discriminator Loss: 0.0911 Generator Loss: 5.9334 \n",
            "Epoch: 152/200 Discriminator Loss: 0.1093 Generator Loss: 7.3499 \n",
            "Epoch: 153/200 Discriminator Loss: 0.1273 Generator Loss: 10.6505 \n",
            "Epoch: 154/200 Discriminator Loss: 0.4755 Generator Loss: 6.9671 \n",
            "Epoch: 155/200 Discriminator Loss: 0.1153 Generator Loss: 8.3904 \n",
            "Epoch: 156/200 Discriminator Loss: 0.0867 Generator Loss: 8.0253 \n",
            "Epoch: 157/200 Discriminator Loss: 0.0862 Generator Loss: 7.0528 \n",
            "Epoch: 158/200 Discriminator Loss: 0.1156 Generator Loss: 8.5983 \n",
            "Epoch: 159/200 Discriminator Loss: 0.0830 Generator Loss: 7.7396 \n",
            "Epoch: 160/200 Discriminator Loss: 0.0919 Generator Loss: 7.5258 \n",
            "Epoch: 161/200 Discriminator Loss: 0.0865 Generator Loss: 8.9425 \n",
            "Epoch: 162/200 Discriminator Loss: 0.1146 Generator Loss: 7.5283 \n",
            "Epoch: 163/200 Discriminator Loss: 0.1029 Generator Loss: 8.0920 \n",
            "Epoch: 164/200 Discriminator Loss: 0.1183 Generator Loss: 8.0341 \n",
            "Epoch: 165/200 Discriminator Loss: 0.1032 Generator Loss: 7.6384 \n",
            "Epoch: 166/200 Discriminator Loss: 0.1070 Generator Loss: 9.0830 \n",
            "Epoch: 167/200 Discriminator Loss: 0.0942 Generator Loss: 8.2031 \n",
            "Epoch: 168/200 Discriminator Loss: 0.1017 Generator Loss: 7.9660 \n",
            "Epoch: 169/200 Discriminator Loss: 0.0963 Generator Loss: 8.1704 \n",
            "Epoch: 170/200 Discriminator Loss: 0.0934 Generator Loss: 8.2406 \n",
            "Epoch: 171/200 Discriminator Loss: 0.0888 Generator Loss: 8.0449 \n",
            "Epoch: 172/200 Discriminator Loss: 0.1268 Generator Loss: 8.0882 \n",
            "Epoch: 173/200 Discriminator Loss: 0.1141 Generator Loss: 8.7627 \n",
            "Epoch: 174/200 Discriminator Loss: 0.1269 Generator Loss: 8.3261 \n",
            "Epoch: 175/200 Discriminator Loss: 0.1331 Generator Loss: 8.9436 \n",
            "Epoch: 176/200 Discriminator Loss: 0.1313 Generator Loss: 8.9888 \n",
            "Epoch: 177/200 Discriminator Loss: 0.0750 Generator Loss: 9.3446 \n",
            "Epoch: 178/200 Discriminator Loss: 0.1247 Generator Loss: 7.8254 \n",
            "Epoch: 179/200 Discriminator Loss: 0.0944 Generator Loss: 9.0276 \n",
            "Epoch: 180/200 Discriminator Loss: 0.1277 Generator Loss: 7.9187 \n",
            "Epoch: 181/200 Discriminator Loss: 0.1026 Generator Loss: 9.0825 \n",
            "Epoch: 182/200 Discriminator Loss: 0.0843 Generator Loss: 9.2967 \n",
            "Epoch: 183/200 Discriminator Loss: 0.1096 Generator Loss: 8.6336 \n",
            "Epoch: 184/200 Discriminator Loss: 0.1859 Generator Loss: 7.8649 \n",
            "Epoch: 185/200 Discriminator Loss: 0.0998 Generator Loss: 9.2692 \n",
            "Epoch: 186/200 Discriminator Loss: 0.3308 Generator Loss: 8.8594 \n",
            "Epoch: 187/200 Discriminator Loss: 0.0966 Generator Loss: 9.1850 \n",
            "Epoch: 188/200 Discriminator Loss: 0.1355 Generator Loss: 8.8114 \n",
            "Epoch: 189/200 Discriminator Loss: 0.1449 Generator Loss: 9.3916 \n",
            "Epoch: 190/200 Discriminator Loss: 0.1188 Generator Loss: 9.7200 \n",
            "Epoch: 191/200 Discriminator Loss: 0.1263 Generator Loss: 9.0377 \n",
            "Epoch: 192/200 Discriminator Loss: 0.1258 Generator Loss: 8.8780 \n",
            "Epoch: 193/200 Discriminator Loss: 0.4247 Generator Loss: 9.1008 \n",
            "Epoch: 194/200 Discriminator Loss: 0.1325 Generator Loss: 9.1505 \n",
            "Epoch: 195/200 Discriminator Loss: 0.1913 Generator Loss: 9.3023 \n",
            "Epoch: 196/200 Discriminator Loss: 0.2043 Generator Loss: 9.5052 \n",
            "Epoch: 197/200 Discriminator Loss: 0.2195 Generator Loss: 9.5718 \n",
            "Epoch: 198/200 Discriminator Loss: 0.1862 Generator Loss: 9.0358 \n",
            "Epoch: 199/200 Discriminator Loss: 0.1302 Generator Loss: 8.9390 \n",
            "Epoch: 200/200 Discriminator Loss: 0.1263 Generator Loss: 9.8078 \n"
          ]
        }
      ]
    },
    {
      "cell_type": "code",
      "source": [
        "losses = np.array(losses)\n",
        "\n",
        "fig, ax = plt.subplots()\n",
        "plt.plot(losses.T[0], label='Discriminator')\n",
        "plt.plot(losses.T[1], label='Generator')\n",
        "plt.title(\"Training Losses\")\n",
        "plt.legend()\n",
        "plt.show()"
      ],
      "metadata": {
        "colab": {
          "base_uri": "https://localhost:8080/",
          "height": 281
        },
        "id": "PggCTTOGDgna",
        "outputId": "5f0b56f7-2529-4403-ebb0-41d9680f32ae"
      },
      "execution_count": 25,
      "outputs": [
        {
          "output_type": "display_data",
          "data": {
            "image/png": "[encoded data removed]",
            "text/plain": [
              "<Figure size 432x288 with 1 Axes>"
            ]
          },
          "metadata": {
            "needs_background": "light"
          }
        }
      ]
    },
    {
      "cell_type": "code",
      "source": [
        "rr = discriminator.predict_on_batch(X_test_real)"
      ],
      "metadata": {
        "id": "YZIu_ZtmDhef"
      },
      "execution_count": 26,
      "outputs": []
    },
    {
      "cell_type": "code",
      "source": [
        "import keras\n",
        "#import keras_metrics\n",
        "\n",
        "r = tf.keras.metrics.Recall()#thresholds=rr.min())\n",
        "r.update_state(y_test,rr )\n",
        "r.result().numpy()\n"
      ],
      "metadata": {
        "colab": {
          "base_uri": "https://localhost:8080/"
        },
        "id": "9aiuPNLfDkQu",
        "outputId": "81f5c597-03d6-4c5a-de05-1276d99c70fb"
      },
      "execution_count": 27,
      "outputs": [
        {
          "output_type": "execute_result",
          "data": {
            "text/plain": [
              "0.989899"
            ]
          },
          "metadata": {},
          "execution_count": 27
        }
      ]
    },
    {
      "cell_type": "code",
      "source": [
        "p=tf.keras.metrics.Precision()#thresholds=rr.min())\n",
        "p.update_state(y_test,rr )\n",
        "p.result().numpy()"
      ],
      "metadata": {
        "colab": {
          "base_uri": "https://localhost:8080/"
        },
        "id": "0lNCrQ-HDln4",
        "outputId": "a0eca19c-6580-4e61-d9ac-9a0b16a217d5"
      },
      "execution_count": 28,
      "outputs": [
        {
          "output_type": "execute_result",
          "data": {
            "text/plain": [
              "0.989899"
            ]
          },
          "metadata": {},
          "execution_count": 28
        }
      ]
    }
  ]
}