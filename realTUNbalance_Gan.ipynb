{
  "nbformat": 4,
  "nbformat_minor": 0,
  "metadata": {
    "colab": {
      "name": "realTUNbalance/Gan.ipynb",
      "provenance": [],
      "authorship_tag": "ABX9TyOQje97Wg6tSx4iq9qbuFMj",
      "include_colab_link": true
    },
    "kernelspec": {
      "name": "python3",
      "display_name": "Python 3"
    },
    "language_info": {
      "name": "python"
    }
  },
  "cells": [
    {
      "cell_type": "markdown",
      "metadata": {
        "id": "view-in-github",
        "colab_type": "text"
      },
      "source": [
        "<a href=\"https://colab.research.google.com/github/jnsbrdbr/thesis/blob/thesis/realTUNbalance_Gan.ipynb\" target=\"_parent\"><img src=\"https://colab.research.google.com/assets/colab-badge.svg\" alt=\"Open In Colab\"/></a>"
      ]
    },
    {
      "cell_type": "code",
      "execution_count": null,
      "metadata": {
        "colab": {
          "base_uri": "https://localhost:8080/"
        },
        "id": "TedFoYnP5Wjt",
        "outputId": "7e3c18ad-2aa8-4fd3-fec9-42d8f0b44b69"
      },
      "outputs": [
        {
          "output_type": "stream",
          "name": "stdout",
          "text": [
            "`%tensorflow_version` only switches the major version: 1.x or 2.x.\n",
            "You set: `2.x  # Colab only.`. This will be interpreted as: `2.x`.\n",
            "\n",
            "\n",
            "TensorFlow 2.x selected.\n",
            "2.8.0\n"
          ]
        }
      ],
      "source": [
        "# Install TensorFlow\n",
        "# !pip install -q tensorflow-gpu==2.0.0-rc0\n",
        "\n",
        "try:\n",
        "  %tensorflow_version 2.x  # Colab only.\n",
        "except Exception:\n",
        "  pass\n",
        "\n",
        "import tensorflow as tf\n",
        "print(tf.__version__)"
      ]
    },
    {
      "cell_type": "code",
      "source": [
        "import keras\n",
        "from keras.layers import Input, Dense, Activation, LeakyReLU, BatchNormalization\n",
        "from keras.models import Sequential\n",
        "from tensorflow.keras.optimizers import Adam\n",
        "from sklearn.model_selection import train_test_split\n",
        "from tensorflow.keras.models import Model\n",
        "import keras.backend as K\n",
        "import numpy as np\n",
        "import pandas as pd\n",
        "import matplotlib.pyplot as plt\n",
        "import sys, os\n",
        "\n",
        "%matplotlib inline"
      ],
      "metadata": {
        "id": "dVJbVj-27-iL"
      },
      "execution_count": null,
      "outputs": []
    },
    {
      "cell_type": "code",
      "source": [
        "from google.colab import drive\n",
        "drive.mount('/content/drive') "
      ],
      "metadata": {
        "colab": {
          "base_uri": "https://localhost:8080/"
        },
        "id": "hHyGZgXT8A6q",
        "outputId": "da92a76f-0ccd-4b04-f69b-392e51a7c87e"
      },
      "execution_count": null,
      "outputs": [
        {
          "output_type": "stream",
          "name": "stdout",
          "text": [
            "Mounted at /content/drive\n"
          ]
        }
      ]
    },
    {
      "cell_type": "code",
      "source": [
        "!pip3 install pickle5\n",
        "import pickle5 as pickle"
      ],
      "metadata": {
        "colab": {
          "base_uri": "https://localhost:8080/"
        },
        "id": "VaqFN78G8Hdv",
        "outputId": "3a8f9bdd-784b-4f8a-cb3d-fb10cd34620a"
      },
      "execution_count": null,
      "outputs": [
        {
          "output_type": "stream",
          "name": "stdout",
          "text": [
            "Collecting pickle5\n",
            "  Downloading pickle5-0.0.12-cp37-cp37m-manylinux_2_5_x86_64.manylinux1_x86_64.whl (256 kB)\n",
            "\u001b[?25l\r\u001b[K     |█▎                              | 10 kB 24.2 MB/s eta 0:00:01\r\u001b[K     |██▋                             | 20 kB 10.6 MB/s eta 0:00:01\r\u001b[K     |███▉                            | 30 kB 9.2 MB/s eta 0:00:01\r\u001b[K     |█████▏                          | 40 kB 3.8 MB/s eta 0:00:01\r\u001b[K     |██████▍                         | 51 kB 3.7 MB/s eta 0:00:01\r\u001b[K     |███████▊                        | 61 kB 4.4 MB/s eta 0:00:01\r\u001b[K     |█████████                       | 71 kB 4.7 MB/s eta 0:00:01\r\u001b[K     |██████████▎                     | 81 kB 4.9 MB/s eta 0:00:01\r\u001b[K     |███████████▌                    | 92 kB 5.5 MB/s eta 0:00:01\r\u001b[K     |████████████▉                   | 102 kB 4.4 MB/s eta 0:00:01\r\u001b[K     |██████████████                  | 112 kB 4.4 MB/s eta 0:00:01\r\u001b[K     |███████████████▍                | 122 kB 4.4 MB/s eta 0:00:01\r\u001b[K     |████████████████▋               | 133 kB 4.4 MB/s eta 0:00:01\r\u001b[K     |██████████████████              | 143 kB 4.4 MB/s eta 0:00:01\r\u001b[K     |███████████████████▏            | 153 kB 4.4 MB/s eta 0:00:01\r\u001b[K     |████████████████████▌           | 163 kB 4.4 MB/s eta 0:00:01\r\u001b[K     |█████████████████████▊          | 174 kB 4.4 MB/s eta 0:00:01\r\u001b[K     |███████████████████████         | 184 kB 4.4 MB/s eta 0:00:01\r\u001b[K     |████████████████████████▎       | 194 kB 4.4 MB/s eta 0:00:01\r\u001b[K     |█████████████████████████▋      | 204 kB 4.4 MB/s eta 0:00:01\r\u001b[K     |██████████████████████████▉     | 215 kB 4.4 MB/s eta 0:00:01\r\u001b[K     |████████████████████████████▏   | 225 kB 4.4 MB/s eta 0:00:01\r\u001b[K     |█████████████████████████████▍  | 235 kB 4.4 MB/s eta 0:00:01\r\u001b[K     |██████████████████████████████▊ | 245 kB 4.4 MB/s eta 0:00:01\r\u001b[K     |████████████████████████████████| 256 kB 4.4 MB/s eta 0:00:01\r\u001b[K     |████████████████████████████████| 256 kB 4.4 MB/s \n",
            "\u001b[?25hInstalling collected packages: pickle5\n",
            "Successfully installed pickle5-0.0.12\n"
          ]
        }
      ]
    },
    {
      "cell_type": "code",
      "source": [
        "with pd.HDFStore('/content/drive/MyDrive/1000/TUnsmote_result',  mode='r') as newstore:\n",
        "    result = newstore.select('result')"
      ],
      "metadata": {
        "id": "1IwapRcQ8JSH"
      },
      "execution_count": null,
      "outputs": []
    },
    {
      "cell_type": "code",
      "source": [
        "#final data\n",
        "print(result)"
      ],
      "metadata": {
        "colab": {
          "base_uri": "https://localhost:8080/"
        },
        "id": "hmuSpxOu8gll",
        "outputId": "2add5f15-c838-4f13-fa02-c45fd717480d"
      },
      "execution_count": null,
      "outputs": [
        {
          "output_type": "stream",
          "name": "stdout",
          "text": [
            "            0         1         2             3             4         5  \\\n",
            "0   -1.715972 -3.099936 -0.041249 -3.418647e-14 -2.645418e-14  0.077295   \n",
            "1   -1.715972 -3.099936 -0.041249 -9.395994e-14 -1.188168e-13  0.077295   \n",
            "2   -1.715972 -3.099936 -0.041249  4.713560e-14  9.005449e-14  0.077295   \n",
            "3   -1.715972 -3.099936 -0.041249 -1.884426e-14 -2.148758e-14  0.077295   \n",
            "4   -1.715972 -3.099936 -0.041249 -2.439475e-14 -2.201149e-14  0.077295   \n",
            "..        ...       ...       ...           ...           ...       ...   \n",
            "995 -2.114893 -4.572474 -0.754679 -4.781256e-13 -6.867955e-13  8.797502   \n",
            "996 -2.114893 -4.572474 -0.754679 -4.784434e-13 -6.861555e-13  8.797502   \n",
            "997 -2.114893 -4.572474 -0.754679 -4.786875e-13 -6.863802e-13  8.797502   \n",
            "998 -2.114893 -4.572474 -0.754679 -4.773841e-13 -6.865024e-13  8.797502   \n",
            "999 -2.114893 -4.572474 -0.754679 -4.775457e-13 -6.863852e-13  8.797502   \n",
            "\n",
            "            6         7             8             9  ...             1  \\\n",
            "0    1.691428  3.341114  3.381260e-14  1.568867e-13  ...  8.379687e-04   \n",
            "1    1.691428  3.341114  7.754666e-15 -2.603641e-14  ...  2.635732e-03   \n",
            "2    1.691428  3.341114 -9.256211e-14 -1.300143e-14  ...  5.635836e-03   \n",
            "3    1.691428  3.341114  7.516740e-14 -2.019583e-14  ... -4.029798e-03   \n",
            "4    1.691428  3.341114  9.552214e-14 -1.941055e-14  ... -6.518103e-15   \n",
            "..        ...       ...           ...           ...  ...           ...   \n",
            "995 -0.661164 -0.063010 -1.127358e-02 -6.479746e-03  ...  1.369467e-02   \n",
            "996 -0.661164 -0.063010  3.564276e-02 -9.274352e-02  ...  1.817135e-02   \n",
            "997 -0.661164 -0.063010 -2.012089e-03 -2.448474e-02  ...  1.469150e-03   \n",
            "998 -0.661164 -0.063010 -5.665869e-03  3.686352e-02  ...  2.074557e-02   \n",
            "999 -0.661164 -0.063010 -2.277996e-03  1.029930e-02  ... -3.326079e-02   \n",
            "\n",
            "                2             3             4             5             6  \\\n",
            "0    2.431907e-02  3.777658e-03  5.737331e-02 -6.806263e-03 -2.217561e-03   \n",
            "1   -2.052626e-02  2.006277e-02  2.449623e-02  9.465893e-03  6.703437e-03   \n",
            "2   -2.684129e-03  2.077676e-02 -2.362551e-02  1.179588e-03  2.250277e-02   \n",
            "3   -4.396551e-03  2.368585e-03 -1.294778e-02  4.097272e-02 -1.724885e-02   \n",
            "4    7.092552e-15  1.490899e-15  1.166727e-14 -5.789813e-15  4.443306e-15   \n",
            "..            ...           ...           ...           ...           ...   \n",
            "995  7.972739e-03  1.182169e-02 -1.131983e-02 -1.765967e-02 -1.538013e-02   \n",
            "996 -6.759520e-03 -9.916413e-03 -1.091801e-02 -2.000342e-03  2.175881e-02   \n",
            "997 -9.452611e-03 -2.565591e-02 -1.247699e-03  9.554583e-03  2.696846e-03   \n",
            "998 -3.337371e-02  6.249309e-03  9.059471e-03  1.742563e-04  2.416088e-02   \n",
            "999 -1.916287e-02 -1.535595e-02  2.836469e-02  1.256527e-02 -8.851480e-03   \n",
            "\n",
            "                7             8             9  label  \n",
            "0    4.941410e-03 -1.071834e-02 -9.464034e-03      1  \n",
            "1    3.902132e-03 -3.168693e-02 -7.296139e-03      1  \n",
            "2    7.721861e-03  7.887649e-03 -4.402416e-02      1  \n",
            "3    6.660252e-03  8.369804e-03  2.997764e-02      1  \n",
            "4   -6.096541e-15  3.817151e-13  4.136409e-16      1  \n",
            "..            ...           ...           ...    ...  \n",
            "995 -2.416558e-02  2.281326e-03  5.690586e-03      1  \n",
            "996 -2.361413e-02 -3.257351e-03 -1.247434e-02      1  \n",
            "997  1.936026e-03 -1.938248e-02 -7.635838e-03      1  \n",
            "998 -7.235646e-03 -2.508770e-02 -7.523238e-03      1  \n",
            "999  1.127378e-03 -1.098104e-02  1.125916e-03      1  \n",
            "\n",
            "[1000 rows x 71 columns]\n"
          ]
        }
      ]
    },
    {
      "cell_type": "code",
      "source": [
        "#divide data in to data_label and non_data label\n",
        "\n",
        "import copy\n",
        "result_nonlabel=copy.deepcopy(result)\n",
        "del result_nonlabel['label']\n",
        "X=result_nonlabel\n",
        "y=result.label"
      ],
      "metadata": {
        "id": "YOs9Xc_aCj1V"
      },
      "execution_count": null,
      "outputs": []
    },
    {
      "cell_type": "code",
      "source": [
        "#splitting data in to test and train...\n",
        "\n",
        "from sklearn.model_selection import train_test_split\n",
        "X_train, X_test, y_train, y_test = train_test_split(X, y ,random_state=42,test_size=0.3)#"
      ],
      "metadata": {
        "id": "KDFNMGJPCz_J"
      },
      "execution_count": null,
      "outputs": []
    },
    {
      "cell_type": "code",
      "source": [
        "print('shape of x_train is:',X_train.shape)\n",
        "print('shape of x_test is:',X_test.shape)"
      ],
      "metadata": {
        "colab": {
          "base_uri": "https://localhost:8080/"
        },
        "id": "GFfz077yC1az",
        "outputId": "1e956749-3685-4fe9-f080-f5d6579fe0f0"
      },
      "execution_count": null,
      "outputs": [
        {
          "output_type": "stream",
          "name": "stdout",
          "text": [
            "shape of x_train is: (700, 70)\n",
            "shape of x_test is: (300, 70)\n"
          ]
        }
      ]
    },
    {
      "cell_type": "code",
      "source": [
        "def make_latent_samples(n_samples, sample_size):\n",
        "    #return np.random.uniform(-1, 1, size=(n_samples, sample_size))\n",
        "    return np.random.normal(loc=0, scale=1, size=(n_samples, sample_size))"
      ],
      "metadata": {
        "id": "1F0ZTSg7C3hA"
      },
      "execution_count": null,
      "outputs": []
    },
    {
      "cell_type": "code",
      "source": [
        "make_latent_samples(1, 100) # generates one sample"
      ],
      "metadata": {
        "colab": {
          "base_uri": "https://localhost:8080/"
        },
        "id": "gQyJU64cC44_",
        "outputId": "fa834259-3809-4811-fbc1-45e8c777d0fa"
      },
      "execution_count": null,
      "outputs": [
        {
          "output_type": "execute_result",
          "data": {
            "text/plain": [
              "array([[-8.59184020e-01,  9.29142370e-02,  5.41096702e-01,\n",
              "        -1.62464266e-02,  5.88081914e-01, -6.06068084e-01,\n",
              "         9.38037603e-01, -3.15549390e-02, -1.34279285e-02,\n",
              "        -1.76670111e-01, -1.74561495e+00,  1.07232337e-01,\n",
              "         2.55662787e-01,  3.84298165e-01, -1.15856045e+00,\n",
              "         1.87696311e+00,  6.55455088e-01,  3.63630001e-01,\n",
              "        -1.41580621e-01, -1.92043912e+00, -1.15276365e+00,\n",
              "        -6.57567583e-02, -1.22823219e+00, -7.71720712e-01,\n",
              "         4.47846604e-01, -2.82598283e-01,  5.67598051e-01,\n",
              "         2.69619072e-01, -1.15847921e+00,  4.61462939e-01,\n",
              "        -8.71788225e-01, -3.60628372e-01, -1.37491448e-01,\n",
              "        -2.69647937e+00,  7.71429148e-01, -6.53726793e-01,\n",
              "         2.98545681e-01,  1.08358481e+00, -1.99556943e-01,\n",
              "        -1.16719860e+00,  1.29389679e+00,  1.20707470e+00,\n",
              "        -3.99593661e-01,  2.78377454e+00,  1.85120567e+00,\n",
              "         1.69150548e+00,  6.43728273e-01, -1.32211732e-01,\n",
              "        -1.40515209e-01, -1.76560202e+00, -1.68800426e+00,\n",
              "         3.45884870e-01,  6.83298306e-01, -7.38033818e-01,\n",
              "        -7.53753065e-01, -1.14115709e+00,  1.48669575e-01,\n",
              "         2.93421431e+00,  1.61571527e+00,  1.65437940e-01,\n",
              "        -8.78103303e-01, -8.29100061e-01, -3.05108903e-01,\n",
              "         8.39540919e-03,  2.04972846e+00, -7.02281805e-01,\n",
              "        -7.68188582e-01, -1.00360660e+00,  7.71021346e-01,\n",
              "         1.26824014e+00, -4.13207430e-01,  1.36672476e+00,\n",
              "         8.18737193e-01,  8.42717784e-01,  7.41456394e-01,\n",
              "        -3.09110903e-01, -2.52722527e-02, -1.33518345e-02,\n",
              "         3.62772921e-01,  1.17995914e+00, -1.37354959e+00,\n",
              "         1.44677313e+00, -1.26871461e+00, -7.44437956e-01,\n",
              "         2.38672939e-01,  1.21118112e+00,  7.17852918e-01,\n",
              "         1.33097377e-03,  1.14128818e+00, -7.61416880e-01,\n",
              "         9.91227726e-01, -3.10931063e-01,  1.88701164e+00,\n",
              "        -3.13362945e-01,  1.11745875e+00,  4.99879926e-01,\n",
              "         1.67611704e+00, -1.85440493e-01, -4.57183932e-01,\n",
              "        -1.22509249e+00]])"
            ]
          },
          "metadata": {},
          "execution_count": 11
        }
      ]
    },
    {
      "cell_type": "code",
      "source": [
        "generator = Sequential([\n",
        "    Dense(128, input_shape=(100,)),\n",
        "    LeakyReLU(alpha=0.2),\n",
        "    BatchNormalization(momentum=0.7),\n",
        "\n",
        "    #Dense(100),\n",
        "    #LeakyReLU(alpha=0.2),\n",
        "    #BatchNormalization(momentum=0.7),\n",
        "\n",
        "    #Dense(1024),\n",
        "    #LeakyReLU(alpha=0.2),\n",
        "    #BatchNormalization(momentum=0.7),\n",
        "\n",
        "    #Dense(2048),\n",
        "    #LeakyReLU(alpha=0.2),\n",
        "    #BatchNormalization(momentum=0.7),\n",
        "\n",
        "    Dense(70),\n",
        "    Activation('tanh')\n",
        "], name='generator')\n",
        "\n",
        "generator.summary()"
      ],
      "metadata": {
        "colab": {
          "base_uri": "https://localhost:8080/"
        },
        "id": "MedUL6ngC72k",
        "outputId": "af3d632a-bace-4aa1-e1c6-c1d1be4846b2"
      },
      "execution_count": null,
      "outputs": [
        {
          "output_type": "stream",
          "name": "stdout",
          "text": [
            "Model: \"generator\"\n",
            "_________________________________________________________________\n",
            " Layer (type)                Output Shape              Param #   \n",
            "=================================================================\n",
            " dense (Dense)               (None, 128)               12928     \n",
            "                                                                 \n",
            " leaky_re_lu (LeakyReLU)     (None, 128)               0         \n",
            "                                                                 \n",
            " batch_normalization (BatchN  (None, 128)              512       \n",
            " ormalization)                                                   \n",
            "                                                                 \n",
            " dense_1 (Dense)             (None, 70)                9030      \n",
            "                                                                 \n",
            " activation (Activation)     (None, 70)                0         \n",
            "                                                                 \n",
            "=================================================================\n",
            "Total params: 22,470\n",
            "Trainable params: 22,214\n",
            "Non-trainable params: 256\n",
            "_________________________________________________________________\n"
          ]
        }
      ]
    },
    {
      "cell_type": "code",
      "source": [
        "discriminator = Sequential([\n",
        "    Dense(64, input_shape=(70,)),\n",
        "    LeakyReLU(alpha=0.2),\n",
        "    #BatchNormalization(momentum=0.7),\n",
        "\n",
        "    Dense(32),\n",
        "    LeakyReLU(alpha=0.2),\n",
        "    #BatchNormalization(momentum=0.7),\n",
        "\n",
        "    #Dense(128),\n",
        "    #LeakyReLU(alpha=0.2),\n",
        "    #BatchNormalization(momentum=0.7),\n",
        "    #Dense(64),\n",
        "    #LeakyReLU(alpha=0.2),\n",
        "    #BatchNormalization(momentum=0.7),\n",
        "\n",
        "    #Dense(32),\n",
        "    #LeakyReLU(alpha=0.2),\n",
        "    #BatchNormalization(momentum=0.7),\n",
        "\n",
        "    #Dense(16),\n",
        "    #LeakyReLU(alpha=0.2),\n",
        "    #BatchNormalization(momentum=0.7),\n",
        "\n",
        "    Dense(1),\n",
        "    Activation('sigmoid')\n",
        "], name='discriminator')\n",
        "\n",
        "discriminator.summary()"
      ],
      "metadata": {
        "colab": {
          "base_uri": "https://localhost:8080/"
        },
        "id": "aQ_AFOBWC9DM",
        "outputId": "f989fe99-8244-44f1-d24c-dfa97a29518f"
      },
      "execution_count": null,
      "outputs": [
        {
          "output_type": "stream",
          "name": "stdout",
          "text": [
            "Model: \"discriminator\"\n",
            "_________________________________________________________________\n",
            " Layer (type)                Output Shape              Param #   \n",
            "=================================================================\n",
            " dense_2 (Dense)             (None, 64)                4544      \n",
            "                                                                 \n",
            " leaky_re_lu_1 (LeakyReLU)   (None, 64)                0         \n",
            "                                                                 \n",
            " dense_3 (Dense)             (None, 32)                2080      \n",
            "                                                                 \n",
            " leaky_re_lu_2 (LeakyReLU)   (None, 32)                0         \n",
            "                                                                 \n",
            " dense_4 (Dense)             (None, 1)                 33        \n",
            "                                                                 \n",
            " activation_1 (Activation)   (None, 1)                 0         \n",
            "                                                                 \n",
            "=================================================================\n",
            "Total params: 6,657\n",
            "Trainable params: 6,657\n",
            "Non-trainable params: 0\n",
            "_________________________________________________________________\n"
          ]
        }
      ]
    },
    {
      "cell_type": "code",
      "source": [
        "# maintain the same shared weights with the generator and the discriminator.\n",
        "gan = Sequential([\n",
        "    generator,\n",
        "    discriminator\n",
        "])\n",
        "\n",
        "gan.summary()"
      ],
      "metadata": {
        "colab": {
          "base_uri": "https://localhost:8080/"
        },
        "id": "nzpglarWDA5p",
        "outputId": "5d546cfa-9242-4a3f-fdb3-4470ba483a01"
      },
      "execution_count": null,
      "outputs": [
        {
          "output_type": "stream",
          "name": "stdout",
          "text": [
            "Model: \"sequential\"\n",
            "_________________________________________________________________\n",
            " Layer (type)                Output Shape              Param #   \n",
            "=================================================================\n",
            " generator (Sequential)      (None, 70)                22470     \n",
            "                                                                 \n",
            " discriminator (Sequential)  (None, 1)                 6657      \n",
            "                                                                 \n",
            "=================================================================\n",
            "Total params: 29,127\n",
            "Trainable params: 28,871\n",
            "Non-trainable params: 256\n",
            "_________________________________________________________________\n"
          ]
        }
      ]
    },
    {
      "cell_type": "code",
      "source": [
        "def make_trainable(model, trainable):\n",
        "    for layer in model.layers:\n",
        "        layer.trainable = trainable"
      ],
      "metadata": {
        "id": "jcQFa2llDDb9"
      },
      "execution_count": null,
      "outputs": []
    },
    {
      "cell_type": "code",
      "source": [
        "make_trainable(discriminator, False)\n",
        "discriminator.summary()"
      ],
      "metadata": {
        "colab": {
          "base_uri": "https://localhost:8080/"
        },
        "id": "rmNw2ufIDEuQ",
        "outputId": "cdb97afd-a48b-4b6a-b71b-2fe6e33f0bbf"
      },
      "execution_count": null,
      "outputs": [
        {
          "output_type": "stream",
          "name": "stdout",
          "text": [
            "Model: \"discriminator\"\n",
            "_________________________________________________________________\n",
            " Layer (type)                Output Shape              Param #   \n",
            "=================================================================\n",
            " dense_2 (Dense)             (None, 64)                4544      \n",
            "                                                                 \n",
            " leaky_re_lu_1 (LeakyReLU)   (None, 64)                0         \n",
            "                                                                 \n",
            " dense_3 (Dense)             (None, 32)                2080      \n",
            "                                                                 \n",
            " leaky_re_lu_2 (LeakyReLU)   (None, 32)                0         \n",
            "                                                                 \n",
            " dense_4 (Dense)             (None, 1)                 33        \n",
            "                                                                 \n",
            " activation_1 (Activation)   (None, 1)                 0         \n",
            "                                                                 \n",
            "=================================================================\n",
            "Total params: 6,657\n",
            "Trainable params: 0\n",
            "Non-trainable params: 6,657\n",
            "_________________________________________________________________\n"
          ]
        }
      ]
    },
    {
      "cell_type": "code",
      "source": [
        "make_trainable(discriminator, True)\n",
        "discriminator.summary()"
      ],
      "metadata": {
        "colab": {
          "base_uri": "https://localhost:8080/"
        },
        "id": "LTgogN-IDGjL",
        "outputId": "4940ed3d-7783-462a-ce75-ae2a2db791fa"
      },
      "execution_count": null,
      "outputs": [
        {
          "output_type": "stream",
          "name": "stdout",
          "text": [
            "Model: \"discriminator\"\n",
            "_________________________________________________________________\n",
            " Layer (type)                Output Shape              Param #   \n",
            "=================================================================\n",
            " dense_2 (Dense)             (None, 64)                4544      \n",
            "                                                                 \n",
            " leaky_re_lu_1 (LeakyReLU)   (None, 64)                0         \n",
            "                                                                 \n",
            " dense_3 (Dense)             (None, 32)                2080      \n",
            "                                                                 \n",
            " leaky_re_lu_2 (LeakyReLU)   (None, 32)                0         \n",
            "                                                                 \n",
            " dense_4 (Dense)             (None, 1)                 33        \n",
            "                                                                 \n",
            " activation_1 (Activation)   (None, 1)                 0         \n",
            "                                                                 \n",
            "=================================================================\n",
            "Total params: 6,657\n",
            "Trainable params: 6,657\n",
            "Non-trainable params: 0\n",
            "_________________________________________________________________\n"
          ]
        }
      ]
    },
    {
      "cell_type": "code",
      "source": [
        "def make_simple_GAN(sample_size, \n",
        "                    g_hidden_size_1,\n",
        "                    g_hidden_size_2,\n",
        "                    g_hidden_size_3,\n",
        "                    g_hidden_size_4,\n",
        "                    d_hidden_size_1,\n",
        "                    d_hidden_size_2, \n",
        "                    d_hidden_size_3,\n",
        "                    d_hidden_size_4,\n",
        "                    d_hidden_size_5,\n",
        "                    d_hidden_size_6,\n",
        "                    leaky_alpha, \n",
        "                    g_learning_rate,\n",
        "                    d_learning_rate):\n",
        "    K.clear_session()\n",
        "    \n",
        "    generator = Sequential([\n",
        "        Dense(g_hidden_size_1, input_shape=(sample_size,)),\n",
        "        LeakyReLU(alpha=leaky_alpha),\n",
        "        BatchNormalization(momentum=0.7),\n",
        "\n",
        "        #Dense(g_hidden_size_2),\n",
        "        #LeakyReLU(alpha=leaky_alpha),\n",
        "        #BatchNormalization(momentum=0.7),\n",
        "\n",
        "        #Dense(g_hidden_size_3),\n",
        "        #LeakyReLU(alpha=leaky_alpha),\n",
        "        #BatchNormalization(momentum=0.7),\n",
        "\n",
        "        #Dense(g_hidden_size_4),\n",
        "        #LeakyReLU(alpha=leaky_alpha),\n",
        "        #BatchNormalization(momentum=0.7),\n",
        "\n",
        "        Dense(70),        \n",
        "        Activation('tanh')\n",
        "    ], name='generator')    \n",
        "\n",
        "    discriminator = Sequential([\n",
        "        Dense(d_hidden_size_1, input_shape=(70,)),\n",
        "        LeakyReLU(alpha=leaky_alpha),\n",
        "        #BatchNormalization(momentum=0.7),\n",
        "\n",
        "        Dense(d_hidden_size_2),\n",
        "        LeakyReLU(alpha=leaky_alpha),\n",
        "        #BatchNormalization(momentum=0.7),\n",
        "\n",
        "        #Dense(d_hidden_size_3),\n",
        "        #LeakyReLU(alpha=leaky_alpha),\n",
        "        #BatchNormalization(momentum=0.7),\n",
        "\n",
        "        #Dense(d_hidden_size_4),\n",
        "        #LeakyReLU(alpha=leaky_alpha),\n",
        "        #BatchNormalization(momentum=0.7),\n",
        "\n",
        "        #Dense(d_hidden_size_5),\n",
        "        #LeakyReLU(alpha=leaky_alpha),\n",
        "        #BatchNormalization(momentum=0.7),\n",
        "\n",
        "        #Dense(d_hidden_size_6),\n",
        "        #LeakyReLU(alpha=leaky_alpha),\n",
        "        #BatchNormalization(momentum=0.7),\n",
        "\n",
        "        Dense(1),\n",
        "        Activation('sigmoid')\n",
        "    ], name='discriminator')    \n",
        "    \n",
        "    gan = Sequential([\n",
        "        generator,\n",
        "        discriminator\n",
        "    ])\n",
        "    \n",
        "    discriminator.compile(optimizer=Adam(lr=d_learning_rate), loss='binary_crossentropy')\n",
        "    gan.compile(optimizer=Adam(lr=g_learning_rate), loss='binary_crossentropy')\n",
        "    \n",
        "    return gan, generator, discriminator "
      ],
      "metadata": {
        "id": "Y1NR5ScFDINq"
      },
      "execution_count": null,
      "outputs": []
    },
    {
      "cell_type": "code",
      "source": [
        "from sklearn import preprocessing\n",
        "def preprocess(x):\n",
        "   x = preprocessing.scale(x)\n",
        "   return x"
      ],
      "metadata": {
        "id": "pTB_Cw2xDMgm"
      },
      "execution_count": null,
      "outputs": []
    },
    {
      "cell_type": "code",
      "source": [
        "X_train_real = np.array(preprocess(X_train))\n",
        "X_test_real  = np.array(preprocess(X_test))"
      ],
      "metadata": {
        "id": "Ip_EsmkHDNjL"
      },
      "execution_count": null,
      "outputs": []
    },
    {
      "cell_type": "code",
      "source": [
        "def make_labels(size):\n",
        "    return np.ones([size, 1]), np.zeros([size, 1])"
      ],
      "metadata": {
        "id": "rH90M0ypDT64"
      },
      "execution_count": null,
      "outputs": []
    },
    {
      "cell_type": "code",
      "source": [
        "y_real_10, y_fake_10 = make_labels(10)\n",
        "\n",
        "y_real_10, y_fake_10"
      ],
      "metadata": {
        "colab": {
          "base_uri": "https://localhost:8080/"
        },
        "id": "JAMwQybFDVQq",
        "outputId": "51c3995f-7e6e-4ece-c418-8159d82679f4"
      },
      "execution_count": null,
      "outputs": [
        {
          "output_type": "execute_result",
          "data": {
            "text/plain": [
              "(array([[1.],\n",
              "        [1.],\n",
              "        [1.],\n",
              "        [1.],\n",
              "        [1.],\n",
              "        [1.],\n",
              "        [1.],\n",
              "        [1.],\n",
              "        [1.],\n",
              "        [1.]]), array([[0.],\n",
              "        [0.],\n",
              "        [0.],\n",
              "        [0.],\n",
              "        [0.],\n",
              "        [0.],\n",
              "        [0.],\n",
              "        [0.],\n",
              "        [0.],\n",
              "        [0.]]))"
            ]
          },
          "metadata": {},
          "execution_count": 22
        }
      ]
    },
    {
      "cell_type": "code",
      "source": [
        "# hyperparameters\n",
        "sample_size     = 100     # latent sample size (i.e., 100 random numbers)\n",
        "g_hidden_size_1 = 128\n",
        "g_hidden_size_2 = 0\n",
        "g_hidden_size_3 = 0\n",
        "g_hidden_size_4 = 0\n",
        "d_hidden_size_1 = 64\n",
        "d_hidden_size_2 = 32\n",
        "d_hidden_size_3 = 0\n",
        "d_hidden_size_4 = 0\n",
        "d_hidden_size_5 = 0\n",
        "d_hidden_size_6 = 0\n",
        "leaky_alpha     = 0.2\n",
        "g_learning_rate = 0.0001  # learning rate for the generator\n",
        "d_learning_rate = 0.0001   # learning rate for the discriminator\n",
        "epochs          = 100\n",
        "batch_size      = 64      # train batch size\n",
        "eval_size       = 16      # evaluate size\n",
        "smooth          = 0.1\n"
      ],
      "metadata": {
        "id": "zjBaUGf2DVoP"
      },
      "execution_count": null,
      "outputs": []
    },
    {
      "cell_type": "code",
      "source": [
        "## labels for the batch size and the test size\n",
        "y_train_real, y_train_fake = make_labels(batch_size)\n",
        "y_eval_real,  y_eval_fake  = make_labels(eval_size)\n",
        "\n",
        "# create a GAN, a generator and a discriminator\n",
        "gan, generator, discriminator = make_simple_GAN(\n",
        "    sample_size, \n",
        "    g_hidden_size_1, \n",
        "    g_hidden_size_2,\n",
        "    g_hidden_size_3,\n",
        "    g_hidden_size_4, \n",
        "    d_hidden_size_1, \n",
        "    d_hidden_size_2,\n",
        "    d_hidden_size_3,\n",
        "    d_hidden_size_4,\n",
        "    d_hidden_size_5,\n",
        "    d_hidden_size_6,\n",
        "    leaky_alpha, \n",
        "    g_learning_rate,\n",
        "    d_learning_rate)\n",
        "\n",
        "\n",
        "losses = []\n",
        "losses1 = []\n",
        "for e in range(epochs):\n",
        "    for i in range(len(X_train_real)//batch_size):\n",
        "        # real MNIST digit images\n",
        "        X_batch_real = X_train_real[i*batch_size:(i+1)*batch_size]\n",
        "        \n",
        "        # latent samples and the generated digit images\n",
        "        latent_samples = make_latent_samples(batch_size, sample_size)\n",
        "        X_batch_fake = generator.predict_on_batch(latent_samples)\n",
        "        \n",
        "        # train the discriminator to detect real and fake images\n",
        "        make_trainable(discriminator, True)\n",
        "        discriminator.train_on_batch(X_batch_real, y_train_real * (1 - smooth))\n",
        "        discriminator.train_on_batch(X_batch_fake, y_train_fake)\n",
        "\n",
        "        # train the generator via GAN\n",
        "        make_trainable(discriminator, False)\n",
        "        gan.train_on_batch(latent_samples, y_train_real)\n",
        "   # evaluate\n",
        "    X_eval_real = X_test_real[np.random.choice(len(X_test_real), eval_size, replace=False)]\n",
        "    \n",
        "    latent_samples = make_latent_samples(eval_size, sample_size)\n",
        "    X_eval_fake = generator.predict_on_batch(latent_samples)\n",
        "\n",
        "    d_loss  = discriminator.test_on_batch(X_eval_real, y_eval_real)\n",
        "    d_loss += discriminator.test_on_batch(X_eval_fake, y_eval_fake)\n",
        "    g_loss  = gan.test_on_batch(latent_samples, y_eval_real) # we want the fake to be realistic!\n",
        "    \n",
        "    losses.append((d_loss, g_loss))\n",
        "\n",
        "    d_acc_real = discriminator.train_on_batch(X_batch_real, y_train_real * (1 - smooth))\n",
        "    d_acc_fake = discriminator.train_on_batch(X_batch_fake, y_train_fake)\n",
        "    d_acc  = 0.5 * (d_acc_real + d_acc_fake)\n",
        "\n",
        "    #losses1.append(( d_acc))\n",
        "    print(\"Epoch: {:>3}/{} Discriminator Loss: {:>6.4f} Generator Loss: {:>6.4f} Discriminator acc:{:>6.4f}\".format(\n",
        "        e+1, epochs, d_loss, g_loss,d_acc)) #Discriminator acc: {:>6.4f}:,d_acc"
      ],
      "metadata": {
        "colab": {
          "base_uri": "https://localhost:8080/"
        },
        "id": "U2gEPAnODX5R",
        "outputId": "869c308f-d042-472b-e48e-28caa9f904db"
      },
      "execution_count": null,
      "outputs": [
        {
          "output_type": "stream",
          "name": "stderr",
          "text": [
            "/usr/local/lib/python3.7/dist-packages/keras/optimizer_v2/adam.py:105: UserWarning: The `lr` argument is deprecated, use `learning_rate` instead.\n",
            "  super(Adam, self).__init__(name, **kwargs)\n"
          ]
        },
        {
          "output_type": "stream",
          "name": "stdout",
          "text": [
            "Epoch:   1/100 Discriminator Loss: 1.3619 Generator Loss: 0.6536 Discriminator acc:0.7576\n",
            "Epoch:   2/100 Discriminator Loss: 1.4753 Generator Loss: 0.6695 Discriminator acc:0.7925\n",
            "Epoch:   3/100 Discriminator Loss: 1.6217 Generator Loss: 0.6011 Discriminator acc:0.7902\n",
            "Epoch:   4/100 Discriminator Loss: 1.9584 Generator Loss: 0.4583 Discriminator acc:0.7665\n",
            "Epoch:   5/100 Discriminator Loss: 1.3925 Generator Loss: 0.5384 Discriminator acc:0.7736\n",
            "Epoch:   6/100 Discriminator Loss: 1.5296 Generator Loss: 0.5015 Discriminator acc:0.7783\n",
            "Epoch:   7/100 Discriminator Loss: 1.5532 Generator Loss: 0.4384 Discriminator acc:0.7882\n",
            "Epoch:   8/100 Discriminator Loss: 1.5590 Generator Loss: 0.4520 Discriminator acc:0.7958\n",
            "Epoch:   9/100 Discriminator Loss: 1.4765 Generator Loss: 0.4465 Discriminator acc:0.8124\n",
            "Epoch:  10/100 Discriminator Loss: 1.4531 Generator Loss: 0.4289 Discriminator acc:0.8030\n",
            "Epoch:  11/100 Discriminator Loss: 1.5984 Generator Loss: 0.3926 Discriminator acc:0.8098\n",
            "Epoch:  12/100 Discriminator Loss: 1.6581 Generator Loss: 0.3846 Discriminator acc:0.8172\n",
            "Epoch:  13/100 Discriminator Loss: 1.5899 Generator Loss: 0.3940 Discriminator acc:0.7868\n",
            "Epoch:  14/100 Discriminator Loss: 1.5434 Generator Loss: 0.4032 Discriminator acc:0.8448\n",
            "Epoch:  15/100 Discriminator Loss: 1.5171 Generator Loss: 0.3917 Discriminator acc:0.8164\n",
            "Epoch:  16/100 Discriminator Loss: 1.4891 Generator Loss: 0.4079 Discriminator acc:0.8098\n",
            "Epoch:  17/100 Discriminator Loss: 1.4567 Generator Loss: 0.4423 Discriminator acc:0.8148\n",
            "Epoch:  18/100 Discriminator Loss: 1.6146 Generator Loss: 0.3811 Discriminator acc:0.8179\n",
            "Epoch:  19/100 Discriminator Loss: 1.5672 Generator Loss: 0.3832 Discriminator acc:0.8125\n",
            "Epoch:  20/100 Discriminator Loss: 1.5893 Generator Loss: 0.3623 Discriminator acc:0.8224\n",
            "Epoch:  21/100 Discriminator Loss: 1.6773 Generator Loss: 0.3384 Discriminator acc:0.8355\n",
            "Epoch:  22/100 Discriminator Loss: 1.6080 Generator Loss: 0.3426 Discriminator acc:0.8228\n",
            "Epoch:  23/100 Discriminator Loss: 1.5057 Generator Loss: 0.3796 Discriminator acc:0.8039\n",
            "Epoch:  24/100 Discriminator Loss: 1.5954 Generator Loss: 0.3433 Discriminator acc:0.8316\n",
            "Epoch:  25/100 Discriminator Loss: 1.5590 Generator Loss: 0.3828 Discriminator acc:0.8259\n",
            "Epoch:  26/100 Discriminator Loss: 1.5895 Generator Loss: 0.3624 Discriminator acc:0.8318\n",
            "Epoch:  27/100 Discriminator Loss: 1.5284 Generator Loss: 0.3766 Discriminator acc:0.8095\n",
            "Epoch:  28/100 Discriminator Loss: 1.6005 Generator Loss: 0.3519 Discriminator acc:0.8103\n",
            "Epoch:  29/100 Discriminator Loss: 1.5916 Generator Loss: 0.3673 Discriminator acc:0.8527\n",
            "Epoch:  30/100 Discriminator Loss: 1.5141 Generator Loss: 0.3755 Discriminator acc:0.8058\n",
            "Epoch:  31/100 Discriminator Loss: 1.5772 Generator Loss: 0.3498 Discriminator acc:0.8067\n",
            "Epoch:  32/100 Discriminator Loss: 1.5536 Generator Loss: 0.3519 Discriminator acc:0.8239\n",
            "Epoch:  33/100 Discriminator Loss: 1.6242 Generator Loss: 0.3441 Discriminator acc:0.8355\n",
            "Epoch:  34/100 Discriminator Loss: 1.5737 Generator Loss: 0.3605 Discriminator acc:0.8203\n",
            "Epoch:  35/100 Discriminator Loss: 1.5877 Generator Loss: 0.3448 Discriminator acc:0.8146\n",
            "Epoch:  36/100 Discriminator Loss: 1.4994 Generator Loss: 0.3731 Discriminator acc:0.8447\n",
            "Epoch:  37/100 Discriminator Loss: 1.6471 Generator Loss: 0.3299 Discriminator acc:0.8178\n",
            "Epoch:  38/100 Discriminator Loss: 1.5542 Generator Loss: 0.3581 Discriminator acc:0.8281\n",
            "Epoch:  39/100 Discriminator Loss: 1.5081 Generator Loss: 0.3636 Discriminator acc:0.8212\n",
            "Epoch:  40/100 Discriminator Loss: 1.5246 Generator Loss: 0.3645 Discriminator acc:0.8204\n",
            "Epoch:  41/100 Discriminator Loss: 1.5696 Generator Loss: 0.3461 Discriminator acc:0.8138\n",
            "Epoch:  42/100 Discriminator Loss: 1.6083 Generator Loss: 0.3447 Discriminator acc:0.8200\n",
            "Epoch:  43/100 Discriminator Loss: 1.5864 Generator Loss: 0.3456 Discriminator acc:0.8399\n",
            "Epoch:  44/100 Discriminator Loss: 1.5777 Generator Loss: 0.3538 Discriminator acc:0.8116\n",
            "Epoch:  45/100 Discriminator Loss: 1.5135 Generator Loss: 0.3599 Discriminator acc:0.8132\n",
            "Epoch:  46/100 Discriminator Loss: 1.5844 Generator Loss: 0.3502 Discriminator acc:0.8329\n",
            "Epoch:  47/100 Discriminator Loss: 1.5523 Generator Loss: 0.3559 Discriminator acc:0.8327\n",
            "Epoch:  48/100 Discriminator Loss: 1.5367 Generator Loss: 0.3590 Discriminator acc:0.8313\n",
            "Epoch:  49/100 Discriminator Loss: 1.7604 Generator Loss: 0.3244 Discriminator acc:0.8118\n",
            "Epoch:  50/100 Discriminator Loss: 1.5652 Generator Loss: 0.3476 Discriminator acc:0.7978\n",
            "Epoch:  51/100 Discriminator Loss: 1.7026 Generator Loss: 0.3023 Discriminator acc:0.8124\n",
            "Epoch:  52/100 Discriminator Loss: 1.6547 Generator Loss: 0.3756 Discriminator acc:0.8252\n",
            "Epoch:  53/100 Discriminator Loss: 1.5948 Generator Loss: 0.3401 Discriminator acc:0.8230\n",
            "Epoch:  54/100 Discriminator Loss: 1.6503 Generator Loss: 0.3155 Discriminator acc:0.8098\n",
            "Epoch:  55/100 Discriminator Loss: 1.5153 Generator Loss: 0.3672 Discriminator acc:0.8192\n",
            "Epoch:  56/100 Discriminator Loss: 1.5790 Generator Loss: 0.3454 Discriminator acc:0.8233\n",
            "Epoch:  57/100 Discriminator Loss: 1.5201 Generator Loss: 0.3554 Discriminator acc:0.8128\n",
            "Epoch:  58/100 Discriminator Loss: 1.5487 Generator Loss: 0.3369 Discriminator acc:0.8288\n",
            "Epoch:  59/100 Discriminator Loss: 1.6704 Generator Loss: 0.3497 Discriminator acc:0.8159\n",
            "Epoch:  60/100 Discriminator Loss: 1.5539 Generator Loss: 0.3530 Discriminator acc:0.7983\n",
            "Epoch:  61/100 Discriminator Loss: 1.5432 Generator Loss: 0.3423 Discriminator acc:0.8109\n",
            "Epoch:  62/100 Discriminator Loss: 1.4517 Generator Loss: 0.3844 Discriminator acc:0.8201\n",
            "Epoch:  63/100 Discriminator Loss: 1.7645 Generator Loss: 0.3191 Discriminator acc:0.8101\n",
            "Epoch:  64/100 Discriminator Loss: 1.4828 Generator Loss: 0.3721 Discriminator acc:0.8030\n",
            "Epoch:  65/100 Discriminator Loss: 1.5350 Generator Loss: 0.3481 Discriminator acc:0.8123\n",
            "Epoch:  66/100 Discriminator Loss: 1.5488 Generator Loss: 0.3394 Discriminator acc:0.8167\n",
            "Epoch:  67/100 Discriminator Loss: 1.4296 Generator Loss: 0.3949 Discriminator acc:0.8071\n",
            "Epoch:  68/100 Discriminator Loss: 1.4115 Generator Loss: 0.3998 Discriminator acc:0.8007\n",
            "Epoch:  69/100 Discriminator Loss: 1.5037 Generator Loss: 0.3680 Discriminator acc:0.7991\n",
            "Epoch:  70/100 Discriminator Loss: 1.5205 Generator Loss: 0.3456 Discriminator acc:0.7871\n",
            "Epoch:  71/100 Discriminator Loss: 1.5413 Generator Loss: 0.3546 Discriminator acc:0.7949\n",
            "Epoch:  72/100 Discriminator Loss: 1.4716 Generator Loss: 0.3589 Discriminator acc:0.8143\n",
            "Epoch:  73/100 Discriminator Loss: 1.6105 Generator Loss: 0.3776 Discriminator acc:0.7930\n",
            "Epoch:  74/100 Discriminator Loss: 1.4788 Generator Loss: 0.3757 Discriminator acc:0.7775\n",
            "Epoch:  75/100 Discriminator Loss: 1.5098 Generator Loss: 0.3701 Discriminator acc:0.8125\n",
            "Epoch:  76/100 Discriminator Loss: 1.3758 Generator Loss: 0.4008 Discriminator acc:0.7860\n",
            "Epoch:  77/100 Discriminator Loss: 1.4386 Generator Loss: 0.3795 Discriminator acc:0.7813\n",
            "Epoch:  78/100 Discriminator Loss: 1.5348 Generator Loss: 0.3516 Discriminator acc:0.7874\n",
            "Epoch:  79/100 Discriminator Loss: 1.6126 Generator Loss: 0.3648 Discriminator acc:0.7900\n",
            "Epoch:  80/100 Discriminator Loss: 1.4607 Generator Loss: 0.3842 Discriminator acc:0.7862\n",
            "Epoch:  81/100 Discriminator Loss: 1.5131 Generator Loss: 0.3599 Discriminator acc:0.7929\n",
            "Epoch:  82/100 Discriminator Loss: 1.3771 Generator Loss: 0.4174 Discriminator acc:0.7803\n",
            "Epoch:  83/100 Discriminator Loss: 1.5119 Generator Loss: 0.3511 Discriminator acc:0.7802\n",
            "Epoch:  84/100 Discriminator Loss: 1.4308 Generator Loss: 0.3694 Discriminator acc:0.7929\n",
            "Epoch:  85/100 Discriminator Loss: 1.6015 Generator Loss: 0.3802 Discriminator acc:0.7833\n",
            "Epoch:  86/100 Discriminator Loss: 1.4119 Generator Loss: 0.4022 Discriminator acc:0.7789\n",
            "Epoch:  87/100 Discriminator Loss: 1.4835 Generator Loss: 0.3584 Discriminator acc:0.7708\n",
            "Epoch:  88/100 Discriminator Loss: 1.5938 Generator Loss: 0.3652 Discriminator acc:0.7845\n",
            "Epoch:  89/100 Discriminator Loss: 1.3868 Generator Loss: 0.4029 Discriminator acc:0.7801\n",
            "Epoch:  90/100 Discriminator Loss: 1.5219 Generator Loss: 0.3535 Discriminator acc:0.7876\n",
            "Epoch:  91/100 Discriminator Loss: 1.5789 Generator Loss: 0.3244 Discriminator acc:0.7742\n",
            "Epoch:  92/100 Discriminator Loss: 1.4029 Generator Loss: 0.3824 Discriminator acc:0.7916\n",
            "Epoch:  93/100 Discriminator Loss: 1.5063 Generator Loss: 0.3609 Discriminator acc:0.7729\n",
            "Epoch:  94/100 Discriminator Loss: 1.4765 Generator Loss: 0.3629 Discriminator acc:0.7643\n",
            "Epoch:  95/100 Discriminator Loss: 1.4490 Generator Loss: 0.3799 Discriminator acc:0.7672\n",
            "Epoch:  96/100 Discriminator Loss: 1.4514 Generator Loss: 0.3720 Discriminator acc:0.7783\n",
            "Epoch:  97/100 Discriminator Loss: 1.5196 Generator Loss: 0.3420 Discriminator acc:0.7783\n",
            "Epoch:  98/100 Discriminator Loss: 1.4481 Generator Loss: 0.3857 Discriminator acc:0.7943\n",
            "Epoch:  99/100 Discriminator Loss: 1.4394 Generator Loss: 0.3906 Discriminator acc:0.7841\n",
            "Epoch: 100/100 Discriminator Loss: 1.4370 Generator Loss: 0.3788 Discriminator acc:0.7857\n"
          ]
        }
      ]
    },
    {
      "cell_type": "code",
      "source": [
        "losses = np.array(losses)\n",
        "\n",
        "fig, ax = plt.subplots()\n",
        "plt.plot(losses.T[0], label='Discriminator')\n",
        "plt.plot(losses.T[1], label='Generator')\n",
        "plt.title(\"Training Losses\")\n",
        "plt.legend()\n",
        "plt.show()"
      ],
      "metadata": {
        "colab": {
          "base_uri": "https://localhost:8080/",
          "height": 281
        },
        "id": "PggCTTOGDgna",
        "outputId": "42dfdb24-f88e-4eb3-d9e1-d79f64285765"
      },
      "execution_count": null,
      "outputs": [
        {
          "output_type": "display_data",
          "data": {
            "image/png": "[encoded data removed]",
            "text/plain": [
              "<Figure size 432x288 with 1 Axes>"
            ]
          },
          "metadata": {
            "needs_background": "light"
          }
        }
      ]
    },
    {
      "cell_type": "code",
      "source": [
        "rr = discriminator.predict_on_batch(X_test_real)"
      ],
      "metadata": {
        "id": "YZIu_ZtmDhef"
      },
      "execution_count": null,
      "outputs": []
    },
    {
      "cell_type": "code",
      "source": [
        "import keras\n",
        "#import keras_metrics\n",
        "\n",
        "r = tf.keras.metrics.Recall()#thresholds=rr.min())\n",
        "r.update_state(y_test,rr )\n",
        "r.result().numpy()\n"
      ],
      "metadata": {
        "colab": {
          "base_uri": "https://localhost:8080/"
        },
        "id": "9aiuPNLfDkQu",
        "outputId": "30ebbcec-bb38-40a0-b720-43cab26e7857"
      },
      "execution_count": null,
      "outputs": [
        {
          "output_type": "execute_result",
          "data": {
            "text/plain": [
              "0.996633"
            ]
          },
          "metadata": {},
          "execution_count": 27
        }
      ]
    },
    {
      "cell_type": "code",
      "source": [
        "p=tf.keras.metrics.Precision()#thresholds=rr.min())\n",
        "p.update_state(y_test,rr )\n",
        "p.result().numpy()"
      ],
      "metadata": {
        "colab": {
          "base_uri": "https://localhost:8080/"
        },
        "id": "0lNCrQ-HDln4",
        "outputId": "236677ad-128c-4c56-ddb5-5e5bcd1f8e36"
      },
      "execution_count": null,
      "outputs": [
        {
          "output_type": "execute_result",
          "data": {
            "text/plain": [
              "0.9899666"
            ]
          },
          "metadata": {},
          "execution_count": 28
        }
      ]
    },
    {
      "cell_type": "code",
      "source": [
        "r = tf.keras.metrics.BinaryAccuracy()#thresholds=rr.min())\n",
        "r.update_state(y_test,rr )\n",
        "r.result().numpy()\n"
      ],
      "metadata": {
        "id": "mWySnqndvnxw",
        "outputId": "1b89b8bc-cbc2-4285-bb32-b26a8174022b",
        "colab": {
          "base_uri": "https://localhost:8080/"
        }
      },
      "execution_count": null,
      "outputs": [
        {
          "output_type": "execute_result",
          "data": {
            "text/plain": [
              "0.9866667"
            ]
          },
          "metadata": {},
          "execution_count": 29
        }
      ]
    }
  ]
}