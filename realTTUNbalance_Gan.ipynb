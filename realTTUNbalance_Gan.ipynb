{
  "nbformat": 4,
  "nbformat_minor": 0,
  "metadata": {
    "colab": {
      "name": "realTTUNbalance/Gan.ipynb",
      "provenance": [],
      "authorship_tag": "ABX9TyNzc4+sWXvUftXkCRRI7KzP",
      "include_colab_link": true
    },
    "kernelspec": {
      "name": "python3",
      "display_name": "Python 3"
    },
    "language_info": {
      "name": "python"
    }
  },
  "cells": [
    {
      "cell_type": "markdown",
      "metadata": {
        "id": "view-in-github",
        "colab_type": "text"
      },
      "source": [
        "<a href=\"https://colab.research.google.com/github/jnsbrdbr/thesis/blob/thesis/realTTUNbalance_Gan.ipynb\" target=\"_parent\"><img src=\"https://colab.research.google.com/assets/colab-badge.svg\" alt=\"Open In Colab\"/></a>"
      ]
    },
    {
      "cell_type": "code",
      "source": [
        "# Install TensorFlow\n",
        "# !pip install -q tensorflow-gpu==2.0.0-rc0\n",
        "\n",
        "try:\n",
        "  %tensorflow_version 2.x  # Colab only.\n",
        "except Exception:\n",
        "  pass\n",
        "\n",
        "import tensorflow as tf\n",
        "print(tf.__version__)"
      ],
      "metadata": {
        "colab": {
          "base_uri": "https://localhost:8080/"
        },
        "id": "abdIzWBE5huQ",
        "outputId": "c27e6534-a5f1-4b3c-b696-9d2dd3d21ce9"
      },
      "execution_count": null,
      "outputs": [
        {
          "output_type": "stream",
          "name": "stdout",
          "text": [
            "`%tensorflow_version` only switches the major version: 1.x or 2.x.\n",
            "You set: `2.x  # Colab only.`. This will be interpreted as: `2.x`.\n",
            "\n",
            "\n",
            "TensorFlow 2.x selected.\n",
            "2.8.0\n"
          ]
        }
      ]
    },
    {
      "cell_type": "code",
      "source": [
        "import keras\n",
        "from keras.layers import Input, Dense, Activation, LeakyReLU, BatchNormalization\n",
        "from keras.models import Sequential\n",
        "from tensorflow.keras.optimizers import Adam\n",
        "from sklearn.model_selection import train_test_split\n",
        "from tensorflow.keras.models import Model\n",
        "import keras.backend as K\n",
        "import numpy as np\n",
        "import pandas as pd\n",
        "import matplotlib.pyplot as plt\n",
        "import sys, os\n",
        "\n",
        "%matplotlib inline"
      ],
      "metadata": {
        "id": "XUYwPCYj5jUF"
      },
      "execution_count": null,
      "outputs": []
    },
    {
      "cell_type": "code",
      "execution_count": null,
      "metadata": {
        "id": "GKlDgK6F9ptY"
      },
      "outputs": [],
      "source": [
        "import numpy as np\n",
        "import pandas as pd\n",
        "import seaborn as sns\n",
        "import matplotlib.pyplot as plt\n",
        "\n",
        "from sklearn.metrics import jaccard_score\n",
        "from scipy.spatial.distance import pdist, squareform"
      ]
    },
    {
      "cell_type": "code",
      "source": [
        "from google.colab import drive\n",
        "drive.mount('/content/drive') "
      ],
      "metadata": {
        "colab": {
          "base_uri": "https://localhost:8080/"
        },
        "id": "ST85dANC9wON",
        "outputId": "b293053c-6b88-4469-ac30-1297c591ac57"
      },
      "execution_count": null,
      "outputs": [
        {
          "output_type": "stream",
          "name": "stdout",
          "text": [
            "Mounted at /content/drive\n"
          ]
        }
      ]
    },
    {
      "cell_type": "code",
      "source": [
        "!pip3 install pickle5\n",
        "import pickle5 as pickle"
      ],
      "metadata": {
        "colab": {
          "base_uri": "https://localhost:8080/"
        },
        "id": "KCVhZNHT9xrH",
        "outputId": "9d491cf7-f975-4e03-f990-8386a7469585"
      },
      "execution_count": null,
      "outputs": [
        {
          "output_type": "stream",
          "name": "stdout",
          "text": [
            "Collecting pickle5\n",
            "  Downloading pickle5-0.0.12-cp37-cp37m-manylinux_2_5_x86_64.manylinux1_x86_64.whl (256 kB)\n",
            "\u001b[?25l\r\u001b[K     |█▎                              | 10 kB 18.0 MB/s eta 0:00:01\r\u001b[K     |██▋                             | 20 kB 20.1 MB/s eta 0:00:01\r\u001b[K     |███▉                            | 30 kB 23.2 MB/s eta 0:00:01\r\u001b[K     |█████▏                          | 40 kB 7.9 MB/s eta 0:00:01\r\u001b[K     |██████▍                         | 51 kB 7.1 MB/s eta 0:00:01\r\u001b[K     |███████▊                        | 61 kB 8.2 MB/s eta 0:00:01\r\u001b[K     |█████████                       | 71 kB 7.1 MB/s eta 0:00:01\r\u001b[K     |██████████▎                     | 81 kB 6.4 MB/s eta 0:00:01\r\u001b[K     |███████████▌                    | 92 kB 7.0 MB/s eta 0:00:01\r\u001b[K     |████████████▉                   | 102 kB 7.6 MB/s eta 0:00:01\r\u001b[K     |██████████████                  | 112 kB 7.6 MB/s eta 0:00:01\r\u001b[K     |███████████████▍                | 122 kB 7.6 MB/s eta 0:00:01\r\u001b[K     |████████████████▋               | 133 kB 7.6 MB/s eta 0:00:01\r\u001b[K     |██████████████████              | 143 kB 7.6 MB/s eta 0:00:01\r\u001b[K     |███████████████████▏            | 153 kB 7.6 MB/s eta 0:00:01\r\u001b[K     |████████████████████▌           | 163 kB 7.6 MB/s eta 0:00:01\r\u001b[K     |█████████████████████▊          | 174 kB 7.6 MB/s eta 0:00:01\r\u001b[K     |███████████████████████         | 184 kB 7.6 MB/s eta 0:00:01\r\u001b[K     |████████████████████████▎       | 194 kB 7.6 MB/s eta 0:00:01\r\u001b[K     |█████████████████████████▋      | 204 kB 7.6 MB/s eta 0:00:01\r\u001b[K     |██████████████████████████▉     | 215 kB 7.6 MB/s eta 0:00:01\r\u001b[K     |████████████████████████████▏   | 225 kB 7.6 MB/s eta 0:00:01\r\u001b[K     |█████████████████████████████▍  | 235 kB 7.6 MB/s eta 0:00:01\r\u001b[K     |██████████████████████████████▊ | 245 kB 7.6 MB/s eta 0:00:01\r\u001b[K     |████████████████████████████████| 256 kB 7.6 MB/s eta 0:00:01\r\u001b[K     |████████████████████████████████| 256 kB 7.6 MB/s \n",
            "\u001b[?25hInstalling collected packages: pickle5\n",
            "Successfully installed pickle5-0.0.12\n"
          ]
        }
      ]
    },
    {
      "cell_type": "code",
      "source": [
        "with open('/content/drive/MyDrive/10000/unsmote/TUnsmote_Tresult.pkl', \"rb\") as fh:\n",
        "  result = pickle.load(fh)"
      ],
      "metadata": {
        "id": "qqF4vEiT9y9M"
      },
      "execution_count": null,
      "outputs": []
    },
    {
      "cell_type": "code",
      "source": [
        "#final data\n",
        "print(result)"
      ],
      "metadata": {
        "colab": {
          "base_uri": "https://localhost:8080/"
        },
        "id": "yfk93Wjq91AB",
        "outputId": "8102c55e-4e3c-4bc4-c748-152d2785ca9d"
      },
      "execution_count": null,
      "outputs": [
        {
          "output_type": "stream",
          "name": "stdout",
          "text": [
            "             0         1         2         3         4          5         6  \\\n",
            "0    -0.018442 -4.220618 -0.916300 -0.715505 -0.868530  -1.348268 -0.474432   \n",
            "1    -0.018442 -4.220618 -0.916300 -0.715505 -0.868530  -1.348268 -0.474432   \n",
            "2    -0.018442 -4.220618 -0.916300 -0.715505 -0.868530  -1.348268 -0.474432   \n",
            "3    -0.018442 -4.220618 -0.916300 -0.715505 -0.868530  -1.348268 -0.474432   \n",
            "4    -0.018444 -4.221080 -0.916678 -0.715889 -0.869072  -1.349276 -0.475212   \n",
            "...        ...       ...       ...       ...       ...        ...       ...   \n",
            "9995 -0.264492 -4.771727 -2.334318 -2.416962 -8.513026  15.729413  0.366719   \n",
            "9996 -0.264492 -4.771727 -2.334318 -2.416962 -8.513026  15.729413  0.366719   \n",
            "9997 -0.264492 -4.771727 -2.334318 -2.416962 -8.513026  15.729413  0.366719   \n",
            "9998 -0.264492 -4.771727 -2.334318 -2.416962 -8.513026  15.729413  0.366719   \n",
            "9999 -0.264492 -4.771727 -2.334318 -2.416962 -8.513026  15.729413  0.366719   \n",
            "\n",
            "             7         8         9  ...          1          2          3  \\\n",
            "0    -0.004759 -0.581985 -0.079929  ...   2.287554   0.686930   0.100448   \n",
            "1    -0.004759 -0.581985 -0.079929  ...   2.287554   0.686930   0.100448   \n",
            "2    -0.004759 -0.581985 -0.079929  ...   2.287554   0.686930   0.100448   \n",
            "3    -0.004759 -0.581985 -0.079929  ...   2.287554   0.686930   0.100448   \n",
            "4    -0.004857 -0.583281 -0.080453  ...  16.547190  20.216481  11.292974   \n",
            "...        ...       ...       ...  ...        ...        ...        ...   \n",
            "9995 -0.128471  0.120291 -0.000607  ...   2.275919  -1.123127  -2.167888   \n",
            "9996 -0.128471  0.120291 -0.000607  ...   2.275919  -1.123127  -2.167888   \n",
            "9997 -0.128471  0.120291 -0.000607  ...   2.275919  -1.123127  -2.167888   \n",
            "9998 -0.128471  0.120291 -0.000607  ...   2.275919  -1.123127  -2.167888   \n",
            "9999 -0.128471  0.120291 -0.000607  ...   2.275919  -1.123127  -2.167888   \n",
            "\n",
            "             4         5         6         7         8         9  label  \n",
            "0    -0.062517  0.119028 -0.441208 -0.219285 -0.010241 -0.181514      1  \n",
            "1    -0.062517  0.119028 -0.441208 -0.219285 -0.010241 -0.181514      1  \n",
            "2    -0.062517  0.119028 -0.441208 -0.219285 -0.010241 -0.181514      1  \n",
            "3    -0.062517  0.119028 -0.441208 -0.219285 -0.010241 -0.181514      1  \n",
            "4     4.613619 -3.774325  6.601583  1.746854  0.057121  0.838856      1  \n",
            "...        ...       ...       ...       ...       ...       ...    ...  \n",
            "9995 -2.422360  8.098259  5.690624  0.623426  0.017370  0.231334      1  \n",
            "9996 -2.422360  8.098259  5.690624  0.623426  0.017370  0.231334      1  \n",
            "9997 -2.422360  8.098259  5.690624  0.623426  0.017370  0.231334      1  \n",
            "9998 -2.422360  8.098259  5.690624  0.623426  0.017370  0.231334      1  \n",
            "9999 -2.422360  8.098259  5.690624  0.623426  0.017370  0.231334      1  \n",
            "\n",
            "[10000 rows x 101 columns]\n"
          ]
        }
      ]
    },
    {
      "cell_type": "code",
      "source": [
        "#divide data in to data_label and non_data label\n",
        "\n",
        "import copy\n",
        "result_nonlabel=copy.deepcopy(result)\n",
        "del result_nonlabel['label']\n",
        "X=result_nonlabel\n",
        "y=result.label"
      ],
      "metadata": {
        "id": "rLR7_ut75mtR"
      },
      "execution_count": null,
      "outputs": []
    },
    {
      "cell_type": "code",
      "source": [
        "#splitting data in to test and train...\n",
        "\n",
        "from sklearn.model_selection import train_test_split\n",
        "X_train, X_test, y_train, y_test = train_test_split(X, y ,random_state=42,test_size=0.3)#"
      ],
      "metadata": {
        "id": "Y7Ghx2vX5oWb"
      },
      "execution_count": null,
      "outputs": []
    },
    {
      "cell_type": "code",
      "source": [
        "print('shape of x_train is:',X_train.shape)\n",
        "print('shape of x_test is:',X_test.shape)"
      ],
      "metadata": {
        "colab": {
          "base_uri": "https://localhost:8080/"
        },
        "id": "pxdm-sqU5qt5",
        "outputId": "db0e1420-e2dc-48ff-b0aa-8e1defed7979"
      },
      "execution_count": null,
      "outputs": [
        {
          "output_type": "stream",
          "name": "stdout",
          "text": [
            "shape of x_train is: (7000, 100)\n",
            "shape of x_test is: (3000, 100)\n"
          ]
        }
      ]
    },
    {
      "cell_type": "code",
      "source": [
        "def make_latent_samples(n_samples, sample_size):\n",
        "    #return np.random.uniform(-1, 1, size=(n_samples, sample_size))\n",
        "    return np.random.normal(loc=0, scale=1, size=(n_samples, sample_size))"
      ],
      "metadata": {
        "id": "WVA8ra6m5tyf"
      },
      "execution_count": null,
      "outputs": []
    },
    {
      "cell_type": "code",
      "source": [
        "make_latent_samples(1, 100) # generates one sample"
      ],
      "metadata": {
        "colab": {
          "base_uri": "https://localhost:8080/"
        },
        "id": "-Q51JZ685vSq",
        "outputId": "31573616-7474-4a67-8620-28163d02ae08"
      },
      "execution_count": null,
      "outputs": [
        {
          "output_type": "execute_result",
          "data": {
            "text/plain": [
              "array([[ 1.70844664,  0.12089557,  0.38354094,  1.08083442,  0.25825284,\n",
              "        -1.5086894 ,  0.09505601, -0.66722828,  0.57910955,  0.37024954,\n",
              "        -1.10372352, -0.59576717,  1.60314296,  0.80932286,  0.4765508 ,\n",
              "         0.34259377, -0.51298313, -1.42577601, -0.3637371 ,  0.74226657,\n",
              "        -0.99720474, -0.4196011 , -0.12881539, -0.64298308, -0.24210384,\n",
              "        -0.78651298, -0.21242491, -1.04350537,  0.71847999,  0.3610552 ,\n",
              "        -0.63776862,  0.18960972,  0.29343895, -1.07918125,  1.72155649,\n",
              "         0.88292097, -1.2705686 , -0.0657014 , -0.79391066, -0.11607768,\n",
              "         0.63397882, -0.43366114, -0.84343933,  1.47022477, -1.37581661,\n",
              "         0.33440039,  0.89614673, -0.70389277,  0.36164115, -0.16215265,\n",
              "         0.35002438,  1.68909624, -1.38886002, -0.26179547, -0.07503936,\n",
              "         0.4384417 , -1.58553764,  0.11982024, -0.96010152, -1.53554914,\n",
              "        -0.9629767 , -0.92938246,  0.80348652,  0.06553395,  0.83479762,\n",
              "        -1.75577734,  1.17258897, -0.11931704,  0.23380035,  0.62498039,\n",
              "         1.84683425, -0.65625951,  1.0041852 , -0.38311601,  0.54681231,\n",
              "         0.91018523, -0.23017268, -0.0811951 ,  1.31594589,  0.44075232,\n",
              "        -1.18520397,  0.72111359, -0.84564386,  0.39844611,  0.34595062,\n",
              "         1.26598629,  0.89242515,  1.48736469, -0.42511555, -1.90859162,\n",
              "         2.29594912, -0.77158206, -0.20445266,  1.40861729,  1.54139032,\n",
              "         0.64385196,  2.19103874, -1.13214833, -0.3266844 ,  1.29743082]])"
            ]
          },
          "metadata": {},
          "execution_count": 12
        }
      ]
    },
    {
      "cell_type": "code",
      "source": [
        "generator = Sequential([\n",
        "    Dense(512, input_shape=(100,)),\n",
        "    LeakyReLU(alpha=0.2),\n",
        "    BatchNormalization(momentum=0.7),\n",
        "\n",
        "    #Dense(100),\n",
        "    #LeakyReLU(alpha=0.2),\n",
        "    #BatchNormalization(momentum=0.7),\n",
        "\n",
        "    #Dense(1024),\n",
        "    #LeakyReLU(alpha=0.2),\n",
        "    #BatchNormalization(momentum=0.7),\n",
        "\n",
        "    #Dense(2048),\n",
        "    #LeakyReLU(alpha=0.2),\n",
        "    #BatchNormalization(momentum=0.7),\n",
        "\n",
        "    Dense(100),\n",
        "    Activation('tanh')\n",
        "], name='generator')\n",
        "\n",
        "generator.summary()"
      ],
      "metadata": {
        "colab": {
          "base_uri": "https://localhost:8080/"
        },
        "id": "j5Jw1bgL5xvt",
        "outputId": "76473655-2b5d-4919-8627-5d1e1543e1be"
      },
      "execution_count": null,
      "outputs": [
        {
          "output_type": "stream",
          "name": "stdout",
          "text": [
            "Model: \"generator\"\n",
            "_________________________________________________________________\n",
            " Layer (type)                Output Shape              Param #   \n",
            "=================================================================\n",
            " dense (Dense)               (None, 512)               51712     \n",
            "                                                                 \n",
            " leaky_re_lu (LeakyReLU)     (None, 512)               0         \n",
            "                                                                 \n",
            " batch_normalization (BatchN  (None, 512)              2048      \n",
            " ormalization)                                                   \n",
            "                                                                 \n",
            " dense_1 (Dense)             (None, 100)               51300     \n",
            "                                                                 \n",
            " activation (Activation)     (None, 100)               0         \n",
            "                                                                 \n",
            "=================================================================\n",
            "Total params: 105,060\n",
            "Trainable params: 104,036\n",
            "Non-trainable params: 1,024\n",
            "_________________________________________________________________\n"
          ]
        }
      ]
    },
    {
      "cell_type": "code",
      "source": [
        "discriminator = Sequential([\n",
        "    Dense(64, input_shape=(100,)),\n",
        "    LeakyReLU(alpha=0.2),\n",
        "    #BatchNormalization(momentum=0.7),\n",
        "\n",
        "    Dense(32),\n",
        "    LeakyReLU(alpha=0.2),\n",
        "    #BatchNormalization(momentum=0.7),\n",
        "\n",
        "    #Dense(128),\n",
        "    #LeakyReLU(alpha=0.2),\n",
        "    #BatchNormalization(momentum=0.7),\n",
        "    #Dense(64),\n",
        "    #LeakyReLU(alpha=0.2),\n",
        "    #BatchNormalization(momentum=0.7),\n",
        "\n",
        "    #Dense(32),\n",
        "    #LeakyReLU(alpha=0.2),\n",
        "    #BatchNormalization(momentum=0.7),\n",
        "\n",
        "    #Dense(16),\n",
        "    #LeakyReLU(alpha=0.2),\n",
        "    #BatchNormalization(momentum=0.7),\n",
        "\n",
        "    Dense(1),\n",
        "    Activation('sigmoid')\n",
        "], name='discriminator')\n",
        "\n",
        "discriminator.summary()"
      ],
      "metadata": {
        "colab": {
          "base_uri": "https://localhost:8080/"
        },
        "id": "azG0blQ950Ft",
        "outputId": "1ad20a6c-fc15-4034-eae1-019e2031579a"
      },
      "execution_count": null,
      "outputs": [
        {
          "output_type": "stream",
          "name": "stdout",
          "text": [
            "Model: \"discriminator\"\n",
            "_________________________________________________________________\n",
            " Layer (type)                Output Shape              Param #   \n",
            "=================================================================\n",
            " dense_2 (Dense)             (None, 64)                6464      \n",
            "                                                                 \n",
            " leaky_re_lu_1 (LeakyReLU)   (None, 64)                0         \n",
            "                                                                 \n",
            " dense_3 (Dense)             (None, 32)                2080      \n",
            "                                                                 \n",
            " leaky_re_lu_2 (LeakyReLU)   (None, 32)                0         \n",
            "                                                                 \n",
            " dense_4 (Dense)             (None, 1)                 33        \n",
            "                                                                 \n",
            " activation_1 (Activation)   (None, 1)                 0         \n",
            "                                                                 \n",
            "=================================================================\n",
            "Total params: 8,577\n",
            "Trainable params: 8,577\n",
            "Non-trainable params: 0\n",
            "_________________________________________________________________\n"
          ]
        }
      ]
    },
    {
      "cell_type": "code",
      "source": [
        "# maintain the same shared weights with the generator and the discriminator.\n",
        "gan = Sequential([\n",
        "    generator,\n",
        "    discriminator\n",
        "])\n",
        "\n",
        "gan.summary()"
      ],
      "metadata": {
        "colab": {
          "base_uri": "https://localhost:8080/"
        },
        "id": "z49wvPe952vf",
        "outputId": "aff181e0-edf3-4f66-e093-9123c6b4305b"
      },
      "execution_count": null,
      "outputs": [
        {
          "output_type": "stream",
          "name": "stdout",
          "text": [
            "Model: \"sequential\"\n",
            "_________________________________________________________________\n",
            " Layer (type)                Output Shape              Param #   \n",
            "=================================================================\n",
            " generator (Sequential)      (None, 100)               105060    \n",
            "                                                                 \n",
            " discriminator (Sequential)  (None, 1)                 8577      \n",
            "                                                                 \n",
            "=================================================================\n",
            "Total params: 113,637\n",
            "Trainable params: 112,613\n",
            "Non-trainable params: 1,024\n",
            "_________________________________________________________________\n"
          ]
        }
      ]
    },
    {
      "cell_type": "code",
      "source": [
        "def make_trainable(model, trainable):\n",
        "    for layer in model.layers:\n",
        "        layer.trainable = trainable"
      ],
      "metadata": {
        "id": "EOMYKVZm54wX"
      },
      "execution_count": null,
      "outputs": []
    },
    {
      "cell_type": "code",
      "source": [
        "make_trainable(discriminator, False)\n",
        "discriminator.summary()"
      ],
      "metadata": {
        "colab": {
          "base_uri": "https://localhost:8080/"
        },
        "id": "hyriEuDg563B",
        "outputId": "1d5bb7ff-5121-4aac-ebe7-2f3da8ebced1"
      },
      "execution_count": null,
      "outputs": [
        {
          "output_type": "stream",
          "name": "stdout",
          "text": [
            "Model: \"discriminator\"\n",
            "_________________________________________________________________\n",
            " Layer (type)                Output Shape              Param #   \n",
            "=================================================================\n",
            " dense_2 (Dense)             (None, 64)                6464      \n",
            "                                                                 \n",
            " leaky_re_lu_1 (LeakyReLU)   (None, 64)                0         \n",
            "                                                                 \n",
            " dense_3 (Dense)             (None, 32)                2080      \n",
            "                                                                 \n",
            " leaky_re_lu_2 (LeakyReLU)   (None, 32)                0         \n",
            "                                                                 \n",
            " dense_4 (Dense)             (None, 1)                 33        \n",
            "                                                                 \n",
            " activation_1 (Activation)   (None, 1)                 0         \n",
            "                                                                 \n",
            "=================================================================\n",
            "Total params: 8,577\n",
            "Trainable params: 0\n",
            "Non-trainable params: 8,577\n",
            "_________________________________________________________________\n"
          ]
        }
      ]
    },
    {
      "cell_type": "code",
      "source": [
        "make_trainable(discriminator, True)\n",
        "discriminator.summary()"
      ],
      "metadata": {
        "colab": {
          "base_uri": "https://localhost:8080/"
        },
        "id": "unT_tS3458wP",
        "outputId": "5dbf159b-23c7-4a7a-f2c3-94bb9d757723"
      },
      "execution_count": null,
      "outputs": [
        {
          "output_type": "stream",
          "name": "stdout",
          "text": [
            "Model: \"discriminator\"\n",
            "_________________________________________________________________\n",
            " Layer (type)                Output Shape              Param #   \n",
            "=================================================================\n",
            " dense_2 (Dense)             (None, 64)                6464      \n",
            "                                                                 \n",
            " leaky_re_lu_1 (LeakyReLU)   (None, 64)                0         \n",
            "                                                                 \n",
            " dense_3 (Dense)             (None, 32)                2080      \n",
            "                                                                 \n",
            " leaky_re_lu_2 (LeakyReLU)   (None, 32)                0         \n",
            "                                                                 \n",
            " dense_4 (Dense)             (None, 1)                 33        \n",
            "                                                                 \n",
            " activation_1 (Activation)   (None, 1)                 0         \n",
            "                                                                 \n",
            "=================================================================\n",
            "Total params: 8,577\n",
            "Trainable params: 8,577\n",
            "Non-trainable params: 0\n",
            "_________________________________________________________________\n"
          ]
        }
      ]
    },
    {
      "cell_type": "code",
      "source": [
        "def make_simple_GAN(sample_size, \n",
        "                    g_hidden_size_1,\n",
        "                    g_hidden_size_2,\n",
        "                    g_hidden_size_3,\n",
        "                    g_hidden_size_4,\n",
        "                    d_hidden_size_1,\n",
        "                    d_hidden_size_2, \n",
        "                    d_hidden_size_3,\n",
        "                    d_hidden_size_4,\n",
        "                    d_hidden_size_5,\n",
        "                    d_hidden_size_6,\n",
        "                    leaky_alpha, \n",
        "                    g_learning_rate,\n",
        "                    d_learning_rate):\n",
        "    K.clear_session()\n",
        "    \n",
        "    generator = Sequential([\n",
        "        Dense(g_hidden_size_1, input_shape=(sample_size,)),\n",
        "        LeakyReLU(alpha=leaky_alpha),\n",
        "        BatchNormalization(momentum=0.7),\n",
        "\n",
        "        #Dense(g_hidden_size_2),\n",
        "        #LeakyReLU(alpha=leaky_alpha),\n",
        "        #BatchNormalization(momentum=0.7),\n",
        "\n",
        "        #Dense(g_hidden_size_3),\n",
        "        #LeakyReLU(alpha=leaky_alpha),\n",
        "        #BatchNormalization(momentum=0.7),\n",
        "\n",
        "        #Dense(g_hidden_size_4),\n",
        "        #LeakyReLU(alpha=leaky_alpha),\n",
        "        #BatchNormalization(momentum=0.7),\n",
        "\n",
        "        Dense(100),        \n",
        "        Activation('tanh')\n",
        "    ], name='generator')    \n",
        "\n",
        "    discriminator = Sequential([\n",
        "        Dense(d_hidden_size_1, input_shape=(100,)),\n",
        "        LeakyReLU(alpha=leaky_alpha),\n",
        "        #BatchNormalization(momentum=0.7),\n",
        "\n",
        "        Dense(d_hidden_size_2),\n",
        "        LeakyReLU(alpha=leaky_alpha),\n",
        "        #BatchNormalization(momentum=0.7),\n",
        "\n",
        "        #Dense(d_hidden_size_3),\n",
        "        #LeakyReLU(alpha=leaky_alpha),\n",
        "        #BatchNormalization(momentum=0.7),\n",
        "\n",
        "        #Dense(d_hidden_size_4),\n",
        "        #LeakyReLU(alpha=leaky_alpha),\n",
        "        #BatchNormalization(momentum=0.7),\n",
        "\n",
        "        #Dense(d_hidden_size_5),\n",
        "        #LeakyReLU(alpha=leaky_alpha),\n",
        "        #BatchNormalization(momentum=0.7),\n",
        "\n",
        "        #Dense(d_hidden_size_6),\n",
        "        #LeakyReLU(alpha=leaky_alpha),\n",
        "        #BatchNormalization(momentum=0.7),\n",
        "\n",
        "        Dense(1),\n",
        "        Activation('sigmoid')\n",
        "    ], name='discriminator')    \n",
        "    \n",
        "    gan = Sequential([\n",
        "        generator,\n",
        "        discriminator\n",
        "    ])\n",
        "    \n",
        "    discriminator.compile(optimizer=Adam(lr=d_learning_rate), loss='binary_crossentropy')\n",
        "    gan.compile(optimizer=Adam(lr=g_learning_rate), loss='binary_crossentropy')\n",
        "    \n",
        "    return gan, generator, discriminator "
      ],
      "metadata": {
        "id": "8jAObXv95-lc"
      },
      "execution_count": null,
      "outputs": []
    },
    {
      "cell_type": "code",
      "source": [
        "from sklearn import preprocessing\n",
        "def preprocess(x):\n",
        "   x = preprocessing.scale(x)\n",
        "   return x"
      ],
      "metadata": {
        "id": "SD5Wze666At_"
      },
      "execution_count": null,
      "outputs": []
    },
    {
      "cell_type": "code",
      "source": [
        "X_train_real = np.array(preprocess(X_train))\n",
        "X_test_real  = np.array(preprocess(X_test))"
      ],
      "metadata": {
        "id": "GNNm0QkH6B1v"
      },
      "execution_count": null,
      "outputs": []
    },
    {
      "cell_type": "code",
      "source": [
        "def make_labels(size):\n",
        "    return np.ones([size, 1]), np.zeros([size, 1])"
      ],
      "metadata": {
        "id": "yk3QMkXb6ESr"
      },
      "execution_count": null,
      "outputs": []
    },
    {
      "cell_type": "code",
      "source": [
        "y_real_10, y_fake_10 = make_labels(10)\n",
        "\n",
        "y_real_10, y_fake_10"
      ],
      "metadata": {
        "colab": {
          "base_uri": "https://localhost:8080/"
        },
        "id": "pE5mnb926Fi-",
        "outputId": "7045719b-3528-4289-d7cc-a9d7ccc524cc"
      },
      "execution_count": null,
      "outputs": [
        {
          "output_type": "execute_result",
          "data": {
            "text/plain": [
              "(array([[1.],\n",
              "        [1.],\n",
              "        [1.],\n",
              "        [1.],\n",
              "        [1.],\n",
              "        [1.],\n",
              "        [1.],\n",
              "        [1.],\n",
              "        [1.],\n",
              "        [1.]]), array([[0.],\n",
              "        [0.],\n",
              "        [0.],\n",
              "        [0.],\n",
              "        [0.],\n",
              "        [0.],\n",
              "        [0.],\n",
              "        [0.],\n",
              "        [0.],\n",
              "        [0.]]))"
            ]
          },
          "metadata": {},
          "execution_count": 23
        }
      ]
    },
    {
      "cell_type": "code",
      "source": [
        "# hyperparameters\n",
        "sample_size     = 100     # latent sample size (i.e., 100 random numbers)\n",
        "g_hidden_size_1 = 512\n",
        "g_hidden_size_2 = 0\n",
        "g_hidden_size_3 = 0\n",
        "g_hidden_size_4 = 0\n",
        "d_hidden_size_1 = 64\n",
        "d_hidden_size_2 = 32\n",
        "d_hidden_size_3 = 0\n",
        "d_hidden_size_4 = 0\n",
        "d_hidden_size_5 = 0\n",
        "d_hidden_size_6 = 0\n",
        "leaky_alpha     = 0.2\n",
        "g_learning_rate = 0.0001  # learning rate for the generator\n",
        "d_learning_rate = 0.0001   # learning rate for the discriminator\n",
        "epochs          = 100\n",
        "batch_size      = 64      # train batch size\n",
        "eval_size       = 16      # evaluate size\n",
        "smooth          = 0.1\n"
      ],
      "metadata": {
        "id": "CPRYA-M86HYW"
      },
      "execution_count": null,
      "outputs": []
    },
    {
      "cell_type": "code",
      "source": [
        "## labels for the batch size and the test size\n",
        "y_train_real, y_train_fake = make_labels(batch_size)\n",
        "y_eval_real,  y_eval_fake  = make_labels(eval_size)\n",
        "\n",
        "# create a GAN, a generator and a discriminator\n",
        "gan, generator, discriminator = make_simple_GAN(\n",
        "    sample_size, \n",
        "    g_hidden_size_1, \n",
        "    g_hidden_size_2,\n",
        "    g_hidden_size_3,\n",
        "    g_hidden_size_4, \n",
        "    d_hidden_size_1, \n",
        "    d_hidden_size_2,\n",
        "    d_hidden_size_3,\n",
        "    d_hidden_size_4,\n",
        "    d_hidden_size_5,\n",
        "    d_hidden_size_6,\n",
        "    leaky_alpha, \n",
        "    g_learning_rate,\n",
        "    d_learning_rate)\n",
        "\n",
        "\n",
        "losses = []\n",
        "losses1 = []\n",
        "for e in range(epochs):\n",
        "    for i in range(len(X_train_real)//batch_size):\n",
        "        # real MNIST digit images\n",
        "        X_batch_real = X_train_real[i*batch_size:(i+1)*batch_size]\n",
        "        \n",
        "        # latent samples and the generated digit images\n",
        "        latent_samples = make_latent_samples(batch_size, sample_size)\n",
        "        X_batch_fake = generator.predict_on_batch(latent_samples)\n",
        "        \n",
        "        # train the discriminator to detect real and fake images\n",
        "        make_trainable(discriminator, True)\n",
        "        discriminator.train_on_batch(X_batch_real, y_train_real * (1 - smooth))\n",
        "        discriminator.train_on_batch(X_batch_fake, y_train_fake)\n",
        "\n",
        "        # train the generator via GAN\n",
        "        make_trainable(discriminator, False)\n",
        "        gan.train_on_batch(latent_samples, y_train_real)\n",
        "   # evaluate\n",
        "    X_eval_real = X_test_real[np.random.choice(len(X_test_real), eval_size, replace=False)]\n",
        "    \n",
        "    latent_samples = make_latent_samples(eval_size, sample_size)\n",
        "    X_eval_fake = generator.predict_on_batch(latent_samples)\n",
        "\n",
        "    d_loss  = discriminator.test_on_batch(X_eval_real, y_eval_real)\n",
        "    d_loss += discriminator.test_on_batch(X_eval_fake, y_eval_fake)\n",
        "    g_loss  = gan.test_on_batch(latent_samples, y_eval_real) # we want the fake to be realistic!\n",
        "    \n",
        "    losses.append((d_loss, g_loss))\n",
        "\n",
        "    d_acc_real = discriminator.train_on_batch(X_batch_real, y_train_real * (1 - smooth))\n",
        "    d_acc_fake = discriminator.train_on_batch(X_batch_fake, y_train_fake)\n",
        "    d_acc  = 0.5 * (d_acc_real + d_acc_fake)\n",
        "\n",
        "    #losses1.append(( d_acc))\n",
        "    print(\"Epoch: {:>3}/{} Discriminator Loss: {:>6.4f} Generator Loss: {:>6.4f} Discriminator acc:{:>6.4f}\".format(\n",
        "        e+1, epochs, d_loss, g_loss,d_acc)) #Discriminator acc: {:>6.4f}:,d_acc"
      ],
      "metadata": {
        "colab": {
          "base_uri": "https://localhost:8080/"
        },
        "id": "6PeYo64w6IVN",
        "outputId": "19153dbd-3ad9-4d7c-eb48-49985502fcdf"
      },
      "execution_count": null,
      "outputs": [
        {
          "output_type": "stream",
          "name": "stderr",
          "text": [
            "/usr/local/lib/python3.7/dist-packages/keras/optimizer_v2/adam.py:105: UserWarning: The `lr` argument is deprecated, use `learning_rate` instead.\n",
            "  super(Adam, self).__init__(name, **kwargs)\n"
          ]
        },
        {
          "output_type": "stream",
          "name": "stdout",
          "text": [
            "Epoch:   1/100 Discriminator Loss: 1.7143 Generator Loss: 0.3303 Discriminator acc:0.9051\n",
            "Epoch:   2/100 Discriminator Loss: 1.9635 Generator Loss: 0.2401 Discriminator acc:0.9857\n",
            "Epoch:   3/100 Discriminator Loss: 1.8806 Generator Loss: 0.2516 Discriminator acc:0.9586\n",
            "Epoch:   4/100 Discriminator Loss: 1.9640 Generator Loss: 0.2425 Discriminator acc:0.9790\n",
            "Epoch:   5/100 Discriminator Loss: 1.7767 Generator Loss: 0.2907 Discriminator acc:0.9677\n",
            "Epoch:   6/100 Discriminator Loss: 1.8089 Generator Loss: 0.2747 Discriminator acc:0.9931\n",
            "Epoch:   7/100 Discriminator Loss: 1.8258 Generator Loss: 0.2663 Discriminator acc:0.9878\n",
            "Epoch:   8/100 Discriminator Loss: 1.8939 Generator Loss: 0.2593 Discriminator acc:0.9754\n",
            "Epoch:   9/100 Discriminator Loss: 1.8386 Generator Loss: 0.2639 Discriminator acc:0.9999\n",
            "Epoch:  10/100 Discriminator Loss: 1.7831 Generator Loss: 0.2846 Discriminator acc:0.9696\n",
            "Epoch:  11/100 Discriminator Loss: 1.9046 Generator Loss: 0.2484 Discriminator acc:0.9790\n",
            "Epoch:  12/100 Discriminator Loss: 1.7975 Generator Loss: 0.2637 Discriminator acc:0.9513\n",
            "Epoch:  13/100 Discriminator Loss: 1.7853 Generator Loss: 0.2862 Discriminator acc:0.9660\n",
            "Epoch:  14/100 Discriminator Loss: 1.8517 Generator Loss: 0.2590 Discriminator acc:0.9446\n",
            "Epoch:  15/100 Discriminator Loss: 1.7003 Generator Loss: 0.3076 Discriminator acc:0.9147\n",
            "Epoch:  16/100 Discriminator Loss: 1.8001 Generator Loss: 0.2839 Discriminator acc:0.9090\n",
            "Epoch:  17/100 Discriminator Loss: 1.7156 Generator Loss: 0.2901 Discriminator acc:0.9255\n",
            "Epoch:  18/100 Discriminator Loss: 1.8370 Generator Loss: 0.2660 Discriminator acc:0.9192\n",
            "Epoch:  19/100 Discriminator Loss: 1.7161 Generator Loss: 0.2808 Discriminator acc:0.9009\n",
            "Epoch:  20/100 Discriminator Loss: 1.7429 Generator Loss: 0.2904 Discriminator acc:0.9049\n",
            "Epoch:  21/100 Discriminator Loss: 1.7086 Generator Loss: 0.2927 Discriminator acc:0.8877\n",
            "Epoch:  22/100 Discriminator Loss: 1.5375 Generator Loss: 0.3397 Discriminator acc:0.8924\n",
            "Epoch:  23/100 Discriminator Loss: 1.7359 Generator Loss: 0.3046 Discriminator acc:0.8719\n",
            "Epoch:  24/100 Discriminator Loss: 1.6432 Generator Loss: 0.3138 Discriminator acc:0.8746\n",
            "Epoch:  25/100 Discriminator Loss: 1.7575 Generator Loss: 0.2997 Discriminator acc:0.8762\n",
            "Epoch:  26/100 Discriminator Loss: 1.6646 Generator Loss: 0.3156 Discriminator acc:0.8724\n",
            "Epoch:  27/100 Discriminator Loss: 1.5677 Generator Loss: 0.3416 Discriminator acc:0.8607\n",
            "Epoch:  28/100 Discriminator Loss: 1.6597 Generator Loss: 0.3162 Discriminator acc:0.8633\n",
            "Epoch:  29/100 Discriminator Loss: 1.7400 Generator Loss: 0.3224 Discriminator acc:0.8448\n",
            "Epoch:  30/100 Discriminator Loss: 1.5696 Generator Loss: 0.3404 Discriminator acc:0.8350\n",
            "Epoch:  31/100 Discriminator Loss: 1.5627 Generator Loss: 0.3402 Discriminator acc:0.8206\n",
            "Epoch:  32/100 Discriminator Loss: 1.6669 Generator Loss: 0.3263 Discriminator acc:0.8215\n",
            "Epoch:  33/100 Discriminator Loss: 1.4317 Generator Loss: 0.3594 Discriminator acc:0.8201\n",
            "Epoch:  34/100 Discriminator Loss: 1.5261 Generator Loss: 0.3408 Discriminator acc:0.8196\n",
            "Epoch:  35/100 Discriminator Loss: 1.5058 Generator Loss: 0.3553 Discriminator acc:0.8296\n",
            "Epoch:  36/100 Discriminator Loss: 1.4999 Generator Loss: 0.3468 Discriminator acc:0.8184\n",
            "Epoch:  37/100 Discriminator Loss: 1.4622 Generator Loss: 0.3418 Discriminator acc:0.8168\n",
            "Epoch:  38/100 Discriminator Loss: 1.5808 Generator Loss: 0.3556 Discriminator acc:0.8155\n",
            "Epoch:  39/100 Discriminator Loss: 1.5074 Generator Loss: 0.3749 Discriminator acc:0.8093\n",
            "Epoch:  40/100 Discriminator Loss: 1.5463 Generator Loss: 0.3449 Discriminator acc:0.7948\n",
            "Epoch:  41/100 Discriminator Loss: 1.5000 Generator Loss: 0.3789 Discriminator acc:0.8000\n",
            "Epoch:  42/100 Discriminator Loss: 1.5351 Generator Loss: 0.3611 Discriminator acc:0.7912\n",
            "Epoch:  43/100 Discriminator Loss: 1.5325 Generator Loss: 0.3780 Discriminator acc:0.7837\n",
            "Epoch:  44/100 Discriminator Loss: 1.4653 Generator Loss: 0.3777 Discriminator acc:0.7787\n",
            "Epoch:  45/100 Discriminator Loss: 1.4778 Generator Loss: 0.3757 Discriminator acc:0.7642\n",
            "Epoch:  46/100 Discriminator Loss: 1.5151 Generator Loss: 0.3711 Discriminator acc:0.7573\n",
            "Epoch:  47/100 Discriminator Loss: 1.4705 Generator Loss: 0.3946 Discriminator acc:0.7589\n",
            "Epoch:  48/100 Discriminator Loss: 1.4105 Generator Loss: 0.4146 Discriminator acc:0.7574\n",
            "Epoch:  49/100 Discriminator Loss: 1.4666 Generator Loss: 0.4070 Discriminator acc:0.7480\n",
            "Epoch:  50/100 Discriminator Loss: 1.5036 Generator Loss: 0.4216 Discriminator acc:0.7464\n",
            "Epoch:  51/100 Discriminator Loss: 1.4470 Generator Loss: 0.4236 Discriminator acc:0.7356\n",
            "Epoch:  52/100 Discriminator Loss: 1.3979 Generator Loss: 0.4338 Discriminator acc:0.7454\n",
            "Epoch:  53/100 Discriminator Loss: 1.4511 Generator Loss: 0.4360 Discriminator acc:0.7306\n",
            "Epoch:  54/100 Discriminator Loss: 1.3999 Generator Loss: 0.4273 Discriminator acc:0.7102\n",
            "Epoch:  55/100 Discriminator Loss: 1.3157 Generator Loss: 0.4496 Discriminator acc:0.7245\n",
            "Epoch:  56/100 Discriminator Loss: 1.3890 Generator Loss: 0.4347 Discriminator acc:0.7253\n",
            "Epoch:  57/100 Discriminator Loss: 1.4038 Generator Loss: 0.4359 Discriminator acc:0.7117\n",
            "Epoch:  58/100 Discriminator Loss: 1.3153 Generator Loss: 0.4390 Discriminator acc:0.7172\n",
            "Epoch:  59/100 Discriminator Loss: 1.3915 Generator Loss: 0.4428 Discriminator acc:0.7180\n",
            "Epoch:  60/100 Discriminator Loss: 1.3674 Generator Loss: 0.4472 Discriminator acc:0.7166\n",
            "Epoch:  61/100 Discriminator Loss: 1.3484 Generator Loss: 0.4474 Discriminator acc:0.7078\n",
            "Epoch:  62/100 Discriminator Loss: 1.3789 Generator Loss: 0.4482 Discriminator acc:0.7096\n",
            "Epoch:  63/100 Discriminator Loss: 1.2912 Generator Loss: 0.4595 Discriminator acc:0.7027\n",
            "Epoch:  64/100 Discriminator Loss: 1.2569 Generator Loss: 0.4891 Discriminator acc:0.6956\n",
            "Epoch:  65/100 Discriminator Loss: 1.3141 Generator Loss: 0.4631 Discriminator acc:0.6883\n",
            "Epoch:  66/100 Discriminator Loss: 1.2981 Generator Loss: 0.4584 Discriminator acc:0.6956\n",
            "Epoch:  67/100 Discriminator Loss: 1.2997 Generator Loss: 0.4670 Discriminator acc:0.6810\n",
            "Epoch:  68/100 Discriminator Loss: 1.2562 Generator Loss: 0.4782 Discriminator acc:0.6787\n",
            "Epoch:  69/100 Discriminator Loss: 1.2434 Generator Loss: 0.4832 Discriminator acc:0.6718\n",
            "Epoch:  70/100 Discriminator Loss: 1.2864 Generator Loss: 0.5075 Discriminator acc:0.6718\n",
            "Epoch:  71/100 Discriminator Loss: 1.2061 Generator Loss: 0.5021 Discriminator acc:0.6725\n",
            "Epoch:  72/100 Discriminator Loss: 1.3552 Generator Loss: 0.4764 Discriminator acc:0.6700\n",
            "Epoch:  73/100 Discriminator Loss: 1.2918 Generator Loss: 0.4741 Discriminator acc:0.6605\n",
            "Epoch:  74/100 Discriminator Loss: 1.2443 Generator Loss: 0.5184 Discriminator acc:0.6573\n",
            "Epoch:  75/100 Discriminator Loss: 1.2624 Generator Loss: 0.5047 Discriminator acc:0.6572\n",
            "Epoch:  76/100 Discriminator Loss: 1.1709 Generator Loss: 0.5277 Discriminator acc:0.6537\n",
            "Epoch:  77/100 Discriminator Loss: 1.2072 Generator Loss: 0.5150 Discriminator acc:0.6466\n",
            "Epoch:  78/100 Discriminator Loss: 1.2583 Generator Loss: 0.5099 Discriminator acc:0.6484\n",
            "Epoch:  79/100 Discriminator Loss: 1.2210 Generator Loss: 0.5097 Discriminator acc:0.6449\n",
            "Epoch:  80/100 Discriminator Loss: 1.2273 Generator Loss: 0.5228 Discriminator acc:0.6415\n",
            "Epoch:  81/100 Discriminator Loss: 1.2026 Generator Loss: 0.5150 Discriminator acc:0.6468\n",
            "Epoch:  82/100 Discriminator Loss: 1.2284 Generator Loss: 0.5287 Discriminator acc:0.6510\n",
            "Epoch:  83/100 Discriminator Loss: 1.2058 Generator Loss: 0.5169 Discriminator acc:0.6462\n",
            "Epoch:  84/100 Discriminator Loss: 1.1710 Generator Loss: 0.5199 Discriminator acc:0.6414\n",
            "Epoch:  85/100 Discriminator Loss: 1.2471 Generator Loss: 0.5239 Discriminator acc:0.6452\n",
            "Epoch:  86/100 Discriminator Loss: 1.1800 Generator Loss: 0.5179 Discriminator acc:0.6477\n",
            "Epoch:  87/100 Discriminator Loss: 1.2160 Generator Loss: 0.5068 Discriminator acc:0.6456\n",
            "Epoch:  88/100 Discriminator Loss: 1.0990 Generator Loss: 0.5105 Discriminator acc:0.6343\n",
            "Epoch:  89/100 Discriminator Loss: 1.2392 Generator Loss: 0.5285 Discriminator acc:0.6452\n",
            "Epoch:  90/100 Discriminator Loss: 1.2568 Generator Loss: 0.5235 Discriminator acc:0.6428\n",
            "Epoch:  91/100 Discriminator Loss: 1.1613 Generator Loss: 0.5125 Discriminator acc:0.6560\n",
            "Epoch:  92/100 Discriminator Loss: 1.2302 Generator Loss: 0.5212 Discriminator acc:0.6507\n",
            "Epoch:  93/100 Discriminator Loss: 1.2759 Generator Loss: 0.5061 Discriminator acc:0.6559\n",
            "Epoch:  94/100 Discriminator Loss: 1.1415 Generator Loss: 0.5276 Discriminator acc:0.6498\n",
            "Epoch:  95/100 Discriminator Loss: 1.2084 Generator Loss: 0.5097 Discriminator acc:0.6518\n",
            "Epoch:  96/100 Discriminator Loss: 1.2643 Generator Loss: 0.5026 Discriminator acc:0.6557\n",
            "Epoch:  97/100 Discriminator Loss: 1.1806 Generator Loss: 0.5156 Discriminator acc:0.6551\n",
            "Epoch:  98/100 Discriminator Loss: 1.2274 Generator Loss: 0.5187 Discriminator acc:0.6529\n",
            "Epoch:  99/100 Discriminator Loss: 1.2737 Generator Loss: 0.5062 Discriminator acc:0.6593\n",
            "Epoch: 100/100 Discriminator Loss: 1.2374 Generator Loss: 0.5118 Discriminator acc:0.6655\n"
          ]
        }
      ]
    },
    {
      "cell_type": "code",
      "source": [
        "losses = np.array(losses)\n",
        "\n",
        "fig, ax = plt.subplots()\n",
        "plt.plot(losses.T[0], label='Discriminator')\n",
        "plt.plot(losses.T[1], label='Generator')\n",
        "plt.title(\"Training Losses\")\n",
        "plt.legend()\n",
        "plt.show()"
      ],
      "metadata": {
        "colab": {
          "base_uri": "https://localhost:8080/",
          "height": 281
        },
        "id": "j9SxzBMk6NWq",
        "outputId": "3b87742d-7a09-4ced-d2bf-f543a450a63e"
      },
      "execution_count": null,
      "outputs": [
        {
          "output_type": "display_data",
          "data": {
            "image/png": "[encoded data removed]",
            "text/plain": [
              "<Figure size 432x288 with 1 Axes>"
            ]
          },
          "metadata": {
            "needs_background": "light"
          }
        }
      ]
    },
    {
      "cell_type": "code",
      "source": [
        "rr = discriminator.predict_on_batch(X_test_real)"
      ],
      "metadata": {
        "id": "zXXEOVwV6PIA"
      },
      "execution_count": null,
      "outputs": []
    },
    {
      "cell_type": "code",
      "source": [
        "import keras\n",
        "#import keras_metrics\n",
        "\n",
        "r = tf.keras.metrics.Recall()#thresholds=rr.min())\n",
        "r.update_state(y_test,rr )\n",
        "r.result().numpy()\n"
      ],
      "metadata": {
        "colab": {
          "base_uri": "https://localhost:8080/"
        },
        "id": "XLluSyTA6Q8F",
        "outputId": "5c3472bc-f0d2-4f63-a0e9-edf51f9aeb49"
      },
      "execution_count": null,
      "outputs": [
        {
          "output_type": "execute_result",
          "data": {
            "text/plain": [
              "0.9963013"
            ]
          },
          "metadata": {},
          "execution_count": 28
        }
      ]
    },
    {
      "cell_type": "code",
      "source": [
        "p=tf.keras.metrics.Precision()#thresholds=rr.min())\n",
        "p.update_state(y_test,rr )\n",
        "p.result().numpy()"
      ],
      "metadata": {
        "colab": {
          "base_uri": "https://localhost:8080/"
        },
        "id": "HjPrcKZp6SRd",
        "outputId": "70b61986-41e4-4af8-9790-2aab6b486f1c"
      },
      "execution_count": null,
      "outputs": [
        {
          "output_type": "execute_result",
          "data": {
            "text/plain": [
              "0.9913014"
            ]
          },
          "metadata": {},
          "execution_count": 29
        }
      ]
    },
    {
      "cell_type": "code",
      "source": [
        "r = tf.keras.metrics.BinaryAccuracy()#thresholds=rr.min())\n",
        "r.update_state(y_test,rr )\n",
        "r.result().numpy()\n"
      ],
      "metadata": {
        "colab": {
          "base_uri": "https://localhost:8080/"
        },
        "id": "h4UR4YSuMXRz",
        "outputId": "af19435d-5360-48a5-a088-fa029b6a1a69"
      },
      "execution_count": null,
      "outputs": [
        {
          "output_type": "execute_result",
          "data": {
            "text/plain": [
              "0.98766667"
            ]
          },
          "metadata": {},
          "execution_count": 30
        }
      ]
    }
  ]
}