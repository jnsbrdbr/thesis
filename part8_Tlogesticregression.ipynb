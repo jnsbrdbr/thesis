{
  "nbformat": 4,
  "nbformat_minor": 0,
  "metadata": {
    "colab": {
      "name": "part8/Tlogesticregression.ipynb",
      "provenance": [],
      "collapsed_sections": [],
      "authorship_tag": "ABX9TyOIB3qSRV9Grp1kFY1a0Hq5",
      "include_colab_link": true
    },
    "kernelspec": {
      "name": "python3",
      "display_name": "Python 3"
    },
    "language_info": {
      "name": "python"
    }
  },
  "cells": [
    {
      "cell_type": "markdown",
      "metadata": {
        "id": "view-in-github",
        "colab_type": "text"
      },
      "source": [
        "<a href=\"https://colab.research.google.com/github/jnsbrdbr/thesis/blob/thesis/part8_Tlogesticregression.ipynb\" target=\"_parent\"><img src=\"https://colab.research.google.com/assets/colab-badge.svg\" alt=\"Open In Colab\"/></a>"
      ]
    },
    {
      "cell_type": "code",
      "execution_count": 3,
      "metadata": {
        "id": "JokyzoepAlDY"
      },
      "outputs": [],
      "source": [
        "import numpy as np\n",
        "import pandas as pd\n",
        "import seaborn as sns\n",
        "import matplotlib.pyplot as plt\n",
        "\n",
        "from sklearn.metrics import jaccard_score\n",
        "from scipy.spatial.distance import pdist, squareform\n"
      ]
    },
    {
      "cell_type": "code",
      "source": [
        "from google.colab import drive\n",
        "drive.mount('/content/drive') "
      ],
      "metadata": {
        "colab": {
          "base_uri": "https://localhost:8080/"
        },
        "id": "UwMuXNzeAmSy",
        "outputId": "35427d00-ae56-4120-9e53-930286732c9e"
      },
      "execution_count": 4,
      "outputs": [
        {
          "output_type": "stream",
          "name": "stdout",
          "text": [
            "Mounted at /content/drive\n"
          ]
        }
      ]
    },
    {
      "cell_type": "code",
      "source": [
        "!pip3 install pickle5\n",
        "import pickle5 as pickle"
      ],
      "metadata": {
        "colab": {
          "base_uri": "https://localhost:8080/"
        },
        "id": "wMrmR1KAErLA",
        "outputId": "e4f6f2ca-ba2e-421d-a1ed-f76eb0ff06be"
      },
      "execution_count": 5,
      "outputs": [
        {
          "output_type": "stream",
          "name": "stdout",
          "text": [
            "Collecting pickle5\n",
            "  Downloading pickle5-0.0.12-cp37-cp37m-manylinux_2_5_x86_64.manylinux1_x86_64.whl (256 kB)\n",
            "\u001b[?25l\r\u001b[K     |█▎                              | 10 kB 26.4 MB/s eta 0:00:01\r\u001b[K     |██▋                             | 20 kB 13.6 MB/s eta 0:00:01\r\u001b[K     |███▉                            | 30 kB 9.0 MB/s eta 0:00:01\r\u001b[K     |█████▏                          | 40 kB 3.6 MB/s eta 0:00:01\r\u001b[K     |██████▍                         | 51 kB 3.6 MB/s eta 0:00:01\r\u001b[K     |███████▊                        | 61 kB 4.3 MB/s eta 0:00:01\r\u001b[K     |█████████                       | 71 kB 4.5 MB/s eta 0:00:01\r\u001b[K     |██████████▎                     | 81 kB 4.5 MB/s eta 0:00:01\r\u001b[K     |███████████▌                    | 92 kB 5.0 MB/s eta 0:00:01\r\u001b[K     |████████████▉                   | 102 kB 4.1 MB/s eta 0:00:01\r\u001b[K     |██████████████                  | 112 kB 4.1 MB/s eta 0:00:01\r\u001b[K     |███████████████▍                | 122 kB 4.1 MB/s eta 0:00:01\r\u001b[K     |████████████████▋               | 133 kB 4.1 MB/s eta 0:00:01\r\u001b[K     |██████████████████              | 143 kB 4.1 MB/s eta 0:00:01\r\u001b[K     |███████████████████▏            | 153 kB 4.1 MB/s eta 0:00:01\r\u001b[K     |████████████████████▌           | 163 kB 4.1 MB/s eta 0:00:01\r\u001b[K     |█████████████████████▊          | 174 kB 4.1 MB/s eta 0:00:01\r\u001b[K     |███████████████████████         | 184 kB 4.1 MB/s eta 0:00:01\r\u001b[K     |████████████████████████▎       | 194 kB 4.1 MB/s eta 0:00:01\r\u001b[K     |█████████████████████████▋      | 204 kB 4.1 MB/s eta 0:00:01\r\u001b[K     |██████████████████████████▉     | 215 kB 4.1 MB/s eta 0:00:01\r\u001b[K     |████████████████████████████▏   | 225 kB 4.1 MB/s eta 0:00:01\r\u001b[K     |█████████████████████████████▍  | 235 kB 4.1 MB/s eta 0:00:01\r\u001b[K     |██████████████████████████████▊ | 245 kB 4.1 MB/s eta 0:00:01\r\u001b[K     |████████████████████████████████| 256 kB 4.1 MB/s eta 0:00:01\r\u001b[K     |████████████████████████████████| 256 kB 4.1 MB/s \n",
            "\u001b[?25hInstalling collected packages: pickle5\n",
            "Successfully installed pickle5-0.0.12\n"
          ]
        }
      ]
    },
    {
      "cell_type": "code",
      "source": [
        "with open('/content/drive/MyDrive/10000/Tresult.pkl', \"rb\") as fh:\n",
        "  result = pickle.load(fh)"
      ],
      "metadata": {
        "id": "NLzvKriTAvCW"
      },
      "execution_count": 6,
      "outputs": []
    },
    {
      "cell_type": "code",
      "source": [
        "#final data\n",
        "print(result)"
      ],
      "metadata": {
        "colab": {
          "base_uri": "https://localhost:8080/"
        },
        "id": "NNf0Cb4nAu_b",
        "outputId": "07d36803-1acc-4215-d7d0-789f7aab72a6"
      },
      "execution_count": 7,
      "outputs": [
        {
          "output_type": "stream",
          "name": "stdout",
          "text": [
            "              0         1          2  ...         8         9  label\n",
            "0     -2.231665 -3.223353  -0.847867  ... -0.068575 -0.230930      1\n",
            "1     -2.231665 -3.223353  -0.847867  ... -0.068575 -0.230930      1\n",
            "2     -2.231665 -3.223353  -0.847867  ... -0.068575 -0.230930      1\n",
            "3     -2.231665 -3.223353  -0.847867  ... -0.068575 -0.230930      1\n",
            "4     -2.231871 -3.223762  -0.848254  ...  0.048557  0.160622      1\n",
            "...         ...       ...        ...  ...       ...       ...    ...\n",
            "13209 -2.231665 -3.223353  -0.847867  ...  0.046943  0.150109      0\n",
            "13210 -2.857167 -4.505172  18.597988  ... -0.129873 -0.451315      0\n",
            "13211 -2.231665 -3.223353  -0.847867  ...  0.063843  0.211098      0\n",
            "13212 -2.231665 -3.223353  -0.847867  ...  0.063843  0.211097      0\n",
            "13213 -2.231665 -3.223353  -0.847867  ...  0.013998  0.046459      0\n",
            "\n",
            "[13214 rows x 101 columns]\n"
          ]
        }
      ]
    },
    {
      "cell_type": "code",
      "source": [
        "#divide data in to data_label and non_data label\n",
        "\n",
        "import copy\n",
        "result_nonlabel=copy.deepcopy(result)\n",
        "del result_nonlabel['label']\n",
        "X=result_nonlabel\n",
        "y=result.label"
      ],
      "metadata": {
        "id": "c8qrXUrMA69x"
      },
      "execution_count": 8,
      "outputs": []
    },
    {
      "cell_type": "code",
      "source": [
        "#splitting data in to test and train...\n",
        "\n",
        "from sklearn.model_selection import train_test_split\n",
        "x_train, x_test, y_train, y_test = train_test_split(X, y, test_size=0.3,\n",
        "                                                    random_state=42)"
      ],
      "metadata": {
        "id": "HxR6VekJA9o5"
      },
      "execution_count": 53,
      "outputs": []
    },
    {
      "cell_type": "code",
      "source": [
        "#train the data\n",
        "\n",
        "from sklearn.linear_model import LogisticRegression\n",
        "\n",
        "logisticRegr = LogisticRegression(solver= 'liblinear',max_iter=5000)#,\n",
        "logisticRegr.fit(x_train, y_train)"
      ],
      "metadata": {
        "colab": {
          "base_uri": "https://localhost:8080/"
        },
        "id": "Cso7rjPxBCYs",
        "outputId": "1771bd1b-ebb6-465b-e171-8a351d874989"
      },
      "execution_count": 54,
      "outputs": [
        {
          "output_type": "execute_result",
          "data": {
            "text/plain": [
              "LogisticRegression(max_iter=5000, solver='liblinear')"
            ]
          },
          "metadata": {},
          "execution_count": 54
        }
      ]
    },
    {
      "cell_type": "code",
      "source": [
        "#score of data by prediction at once\n",
        "\n",
        "predictions = logisticRegr.predict(x_test)\n",
        "score = logisticRegr.score(x_test, y_test)\n",
        "print(score)"
      ],
      "metadata": {
        "colab": {
          "base_uri": "https://localhost:8080/"
        },
        "id": "TlZKeI5YBG-z",
        "outputId": "4b9711e7-3740-410c-80a0-cc77f2da2db7"
      },
      "execution_count": 55,
      "outputs": [
        {
          "output_type": "stream",
          "name": "stdout",
          "text": [
            "0.9702395964691046\n"
          ]
        }
      ]
    },
    {
      "cell_type": "code",
      "source": [
        "#plotting confusion_matrix\n",
        "\n",
        "import matplotlib.pyplot as plt\n",
        "import seaborn as sns\n",
        "from sklearn import metrics\n",
        "\n",
        "confusion_matrix = pd.crosstab(y_test, predictions, rownames=['Actual'], colnames=['Predicted'])\n",
        "sns.heatmap(confusion_matrix, annot=True)"
      ],
      "metadata": {
        "colab": {
          "base_uri": "https://localhost:8080/",
          "height": 297
        },
        "id": "61pEJ_lpBTOM",
        "outputId": "700d07d8-7aa8-4bbb-cf21-631e767e06aa"
      },
      "execution_count": 56,
      "outputs": [
        {
          "output_type": "execute_result",
          "data": {
            "text/plain": [
              "<matplotlib.axes._subplots.AxesSubplot at 0x7f3080fb1c10>"
            ]
          },
          "metadata": {},
          "execution_count": 56
        },
        {
          "output_type": "display_data",
          "data": {
            "image/png": "[encoded data removed]",
            "text/plain": [
              "<Figure size 432x288 with 2 Axes>"
            ]
          },
          "metadata": {
            "needs_background": "light"
          }
        }
      ]
    },
    {
      "cell_type": "code",
      "source": [
        "#Accuracy by prediction in once\n",
        "\n",
        "print('Accuracy: ',metrics.accuracy_score(y_test, predictions))"
      ],
      "metadata": {
        "colab": {
          "base_uri": "https://localhost:8080/"
        },
        "id": "Vyd0g6l6BXNu",
        "outputId": "aa33997e-f6c6-40f9-c3b3-5cc52fd6c6be"
      },
      "execution_count": 57,
      "outputs": [
        {
          "output_type": "stream",
          "name": "stdout",
          "text": [
            "Accuracy:  0.9702395964691046\n"
          ]
        }
      ]
    },
    {
      "cell_type": "code",
      "source": [
        "from sklearn.metrics import confusion_matrix\n",
        "\n",
        "tn, fp, fn, tp = confusion_matrix(y_test, predictions).ravel()\n",
        "print(f'True Positives: {tp}')\n",
        "print(f'False Positives: {fp}')\n",
        "print(f'True Negatives: {tn}')\n",
        "print(f'False Negatives: {fn}')"
      ],
      "metadata": {
        "colab": {
          "base_uri": "https://localhost:8080/"
        },
        "id": "9dv_L_x8BZPR",
        "outputId": "f1d26aa9-b150-4d8a-d9a5-5bb85cba3e1e"
      },
      "execution_count": 58,
      "outputs": [
        {
          "output_type": "stream",
          "name": "stdout",
          "text": [
            "True Positives: 2997\n",
            "False Positives: 114\n",
            "True Negatives: 850\n",
            "False Negatives: 4\n"
          ]
        }
      ]
    },
    {
      "cell_type": "code",
      "source": [
        "#cross_validation and accuracy\n",
        "\n",
        "from numpy import mean\n",
        "from numpy import std\n",
        "from sklearn.model_selection import KFold\n",
        "from sklearn.model_selection import cross_val_score\n",
        "\n",
        "\n",
        "cv = KFold(n_splits=10)#, random_state=42, shuffle=True\n",
        "scores = cross_val_score(logisticRegr, X, y, scoring='accuracy', cv=cv)# ,n_jobs=None,n_jobs=-1\n",
        "\n",
        "\n",
        "print('Accuracy: %.3f (%.3f)' % (mean(scores), std(scores)))"
      ],
      "metadata": {
        "colab": {
          "base_uri": "https://localhost:8080/"
        },
        "id": "hM8m9qeABb7m",
        "outputId": "c783cf56-8d8a-463a-e79e-5b61f1b99c4c"
      },
      "execution_count": 61,
      "outputs": [
        {
          "output_type": "stream",
          "name": "stdout",
          "text": [
            "Accuracy: 0.854 (0.130)\n"
          ]
        }
      ]
    },
    {
      "cell_type": "code",
      "source": [
        "#recall\n",
        "\n",
        "from numpy import mean\n",
        "from numpy import std\n",
        "from sklearn.model_selection import KFold\n",
        "from sklearn.model_selection import cross_val_score,cross_val_predict\n",
        "import warnings\n",
        "warnings.filterwarnings('ignore')  # \"error\", \"ignore\", \"always\", \"default\", \"module\" or \"once\"\n",
        "\n",
        "\n",
        "cv = KFold(n_splits=10)#, shuffle=True, random_state=42\n",
        "scores_recall = cross_val_score(logisticRegr,X, y, scoring='recall', cv=cv)#,n_jobs=-1\n",
        "\n",
        "print('scores_recall: %.3f (%.3f)' % (mean(scores_recall), std(scores_recall)))"
      ],
      "metadata": {
        "colab": {
          "base_uri": "https://localhost:8080/"
        },
        "id": "JvCfXQt6Bh0R",
        "outputId": "0820456c-5f29-4546-c398-135a5a223d51"
      },
      "execution_count": 66,
      "outputs": [
        {
          "output_type": "stream",
          "name": "stdout",
          "text": [
            "scores_recall: 0.663 (0.366)\n"
          ]
        }
      ]
    },
    {
      "cell_type": "code",
      "source": [
        "#precision\n",
        "\n",
        "from numpy import mean\n",
        "from numpy import std\n",
        "from sklearn.model_selection import KFold\n",
        "from sklearn.model_selection import cross_val_score\n",
        "import warnings\n",
        "warnings.filterwarnings('ignore')\n",
        "\n",
        "cv = KFold(n_splits=10)#, shuffle=True, random_state=42\n",
        "scores_precision = cross_val_score(logisticRegr, X, y, scoring='precision', cv=cv,pre_dispatch=2)#,n_jobs=-1,pre_dispatch\n",
        "\n",
        "print('scores_precision: %.3f (%.3f)' % (mean(scores_precision), std(scores_precision)))"
      ],
      "metadata": {
        "colab": {
          "base_uri": "https://localhost:8080/"
        },
        "id": "rA-5PhWdLV6I",
        "outputId": "2d10143e-b40b-46f0-e668-717b740474fc"
      },
      "execution_count": 67,
      "outputs": [
        {
          "output_type": "stream",
          "name": "stdout",
          "text": [
            "scores_precision: 0.784 (0.394)\n"
          ]
        }
      ]
    },
    {
      "cell_type": "code",
      "source": [
        "from sklearn.datasets import make_classification\n",
        "from sklearn.linear_model import LogisticRegression\n",
        "from sklearn.model_selection import train_test_split\n",
        "from matplotlib import pyplot\n",
        "from sklearn.metrics import roc_auc_score\n",
        "from sklearn.metrics import roc_curve\n",
        "\n",
        "\n",
        "logisticRegr = LogisticRegression(solver= 'liblinear',max_iter=5000)#max_iter=10000\n",
        "logisticRegr.fit(x_train, y_train)\n",
        "yhat = logisticRegr.predict_proba(x_test)\n",
        "pos_probs = yhat[:, 1]\n",
        "pyplot.plot([0, 1], [0, 1], linestyle='--')\n",
        "fpr, tpr, _ = roc_curve(y_test, pos_probs)\n",
        "pyplot.plot(fpr, tpr, marker='.', label='rbf')\n",
        "pyplot.xlabel('False Positive Rate')\n",
        "pyplot.ylabel('True Positive Rate')\n",
        "pyplot.legend()\n",
        "pyplot.show()\n",
        "roc_auc = roc_auc_score(y_test, yhat[:, 1])\n",
        "print('\\n','Logistic ROC AUC %.3f' % roc_auc)"
      ],
      "metadata": {
        "colab": {
          "base_uri": "https://localhost:8080/",
          "height": 316
        },
        "id": "7s6t6xNuLciS",
        "outputId": "c6e74726-4321-4dee-ec6c-f3b93e293c9a"
      },
      "execution_count": 68,
      "outputs": [
        {
          "output_type": "display_data",
          "data": {
            "image/png": "[encoded data removed]",
            "text/plain": [
              "<Figure size 432x288 with 1 Axes>"
            ]
          },
          "metadata": {
            "needs_background": "light"
          }
        },
        {
          "output_type": "stream",
          "name": "stdout",
          "text": [
            "\n",
            " Logistic ROC AUC 0.987\n"
          ]
        }
      ]
    },
    {
      "cell_type": "code",
      "source": [
        "#Importing required libraries\n",
        "from sklearn.model_selection import KFold \n",
        "from sklearn.datasets import load_breast_cancer\n",
        "from sklearn.linear_model import LogisticRegression\n",
        "from sklearn.metrics import accuracy_score\n",
        "from sklearn.metrics import confusion_matrix\n",
        " \n",
        " \n",
        "#Implementing cross validation\n",
        " \n",
        "#X = X.sample(frac = 1)\n",
        "#y= y.sample(frac = 1)\n",
        "kf = KFold(n_splits=10)#, random_state=None\n",
        "model = LogisticRegression()#(solver= 'liblinear'),max_iter=1000000\n",
        " \n",
        "acc_score = list()\n",
        "res_tpr = list()\n",
        "res_fpr = list()\n",
        "for train_index , test_index in kf.split(X):\n",
        "    #X_train , X_test = X.iloc[train_index,:],X.iloc[test_index,:]\n",
        "    #y_train , y_test = y[train_index] , y[test_index]\n",
        "    X_train, X_test, y_train, y_test = train_test_split(X, y, test_size=0.3)\n",
        "    model.fit(X_train,y_train)\n",
        "    pred_values = model.predict(X_test)\n",
        "    tn, fp, fn, tp = confusion_matrix(y_test, pred_values, labels=[0, 1]).ravel()\n",
        "    print(f'True Positives: {tp}')\n",
        "    print(f'False Positives: {fp}')\n",
        "    print(f'True Negatives: {tn}')\n",
        "    print(f'False Negatives: {fn}')\n",
        "    tpr=(np.divide(tp,(tp+fn)))\n",
        "    fpr=(np.divide(fp,(fp+tn)))\n",
        "    if tp==0:\n",
        "      tpr=0\n",
        "    if fp==0:\n",
        "      fpr=0\n",
        "\n",
        "    print('tpr=%.4f fpr=%.3f' % ( mean(tpr), mean(fpr)))\n",
        "    print('x')\n",
        "    res_tpr.append(mean(tpr))\n",
        "    res_fpr.append(mean(fpr))\n",
        "    print('---------------------')\n",
        "\n",
        "    acc = accuracy_score(pred_values , y_test)\n",
        "    acc_score.append(acc)\n",
        "     \n",
        "avg_acc_score = np.sum(acc_score)/10\n",
        "total_tpr=np.sum(res_tpr)/10\n",
        "total_fpr=np.sum(res_fpr)/10\n",
        "print('\\n\\n','total_fpr=%.3f' % (total_fpr))#total_tpr=%.4f(total_tpr,)"
      ],
      "metadata": {
        "colab": {
          "base_uri": "https://localhost:8080/"
        },
        "id": "gQy8o6JOLfyo",
        "outputId": "1de1177d-c8ac-4646-90f5-14a5b4fe1cf8"
      },
      "execution_count": 70,
      "outputs": [
        {
          "output_type": "stream",
          "name": "stdout",
          "text": [
            "True Positives: 2879\n",
            "False Positives: 473\n",
            "True Negatives: 542\n",
            "False Negatives: 71\n",
            "tpr=0.9759 fpr=0.466\n",
            "x\n",
            "---------------------\n",
            "True Positives: 2913\n",
            "False Positives: 461\n",
            "True Negatives: 522\n",
            "False Negatives: 69\n",
            "tpr=0.9769 fpr=0.469\n",
            "x\n",
            "---------------------\n",
            "True Positives: 2902\n",
            "False Positives: 416\n",
            "True Negatives: 572\n",
            "False Negatives: 75\n",
            "tpr=0.9748 fpr=0.421\n",
            "x\n",
            "---------------------\n",
            "True Positives: 2879\n",
            "False Positives: 484\n",
            "True Negatives: 528\n",
            "False Negatives: 74\n",
            "tpr=0.9749 fpr=0.478\n",
            "x\n",
            "---------------------\n",
            "True Positives: 2875\n",
            "False Positives: 445\n",
            "True Negatives: 586\n",
            "False Negatives: 59\n",
            "tpr=0.9799 fpr=0.432\n",
            "x\n",
            "---------------------\n",
            "True Positives: 2859\n",
            "False Positives: 461\n",
            "True Negatives: 571\n",
            "False Negatives: 74\n",
            "tpr=0.9748 fpr=0.447\n",
            "x\n",
            "---------------------\n",
            "True Positives: 2853\n",
            "False Positives: 475\n",
            "True Negatives: 576\n",
            "False Negatives: 61\n",
            "tpr=0.9791 fpr=0.452\n",
            "x\n",
            "---------------------\n",
            "True Positives: 2864\n",
            "False Positives: 436\n",
            "True Negatives: 594\n",
            "False Negatives: 71\n",
            "tpr=0.9758 fpr=0.423\n",
            "x\n",
            "---------------------\n",
            "True Positives: 2891\n",
            "False Positives: 459\n",
            "True Negatives: 541\n",
            "False Negatives: 74\n",
            "tpr=0.9750 fpr=0.459\n",
            "x\n",
            "---------------------\n",
            "True Positives: 2910\n",
            "False Positives: 475\n",
            "True Negatives: 526\n",
            "False Negatives: 54\n",
            "tpr=0.9818 fpr=0.475\n",
            "x\n",
            "---------------------\n",
            "\n",
            "\n",
            " total_fpr=0.452\n"
          ]
        }
      ]
    }
  ]
}