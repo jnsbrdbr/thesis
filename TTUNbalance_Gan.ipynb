{
  "nbformat": 4,
  "nbformat_minor": 0,
  "metadata": {
    "colab": {
      "name": "TTUNbalance/Gan.ipynb",
      "provenance": [],
      "authorship_tag": "ABX9TyOqApb77mfrLHpjXPLmRoHf",
      "include_colab_link": true
    },
    "kernelspec": {
      "name": "python3",
      "display_name": "Python 3"
    },
    "language_info": {
      "name": "python"
    }
  },
  "cells": [
    {
      "cell_type": "markdown",
      "metadata": {
        "id": "view-in-github",
        "colab_type": "text"
      },
      "source": [
        "<a href=\"https://colab.research.google.com/github/jnsbrdbr/thesis/blob/thesis/TTUNbalance_Gan.ipynb\" target=\"_parent\"><img src=\"https://colab.research.google.com/assets/colab-badge.svg\" alt=\"Open In Colab\"/></a>"
      ]
    },
    {
      "cell_type": "code",
      "source": [
        "# Install TensorFlow\n",
        "# !pip install -q tensorflow-gpu==2.0.0-rc0\n",
        "\n",
        "try:\n",
        "  %tensorflow_version 2.x  # Colab only.\n",
        "except Exception:\n",
        "  pass\n",
        "\n",
        "import tensorflow as tf\n",
        "print(tf.__version__)"
      ],
      "metadata": {
        "colab": {
          "base_uri": "https://localhost:8080/"
        },
        "id": "abdIzWBE5huQ",
        "outputId": "7df02d57-36d4-4f2e-b037-f4543e0f10fd"
      },
      "execution_count": 1,
      "outputs": [
        {
          "output_type": "stream",
          "name": "stdout",
          "text": [
            "`%tensorflow_version` only switches the major version: 1.x or 2.x.\n",
            "You set: `2.x  # Colab only.`. This will be interpreted as: `2.x`.\n",
            "\n",
            "\n",
            "TensorFlow 2.x selected.\n",
            "2.8.0\n"
          ]
        }
      ]
    },
    {
      "cell_type": "code",
      "source": [
        "import keras\n",
        "from keras.layers import Input, Dense, Activation, LeakyReLU, BatchNormalization\n",
        "from keras.models import Sequential\n",
        "from tensorflow.keras.optimizers import Adam\n",
        "from sklearn.model_selection import train_test_split\n",
        "from tensorflow.keras.models import Model\n",
        "import keras.backend as K\n",
        "import numpy as np\n",
        "import pandas as pd\n",
        "import matplotlib.pyplot as plt\n",
        "import sys, os\n",
        "\n",
        "%matplotlib inline"
      ],
      "metadata": {
        "id": "XUYwPCYj5jUF"
      },
      "execution_count": 2,
      "outputs": []
    },
    {
      "cell_type": "code",
      "execution_count": 3,
      "metadata": {
        "id": "GKlDgK6F9ptY"
      },
      "outputs": [],
      "source": [
        "import numpy as np\n",
        "import pandas as pd\n",
        "import seaborn as sns\n",
        "import matplotlib.pyplot as plt\n",
        "\n",
        "from sklearn.metrics import jaccard_score\n",
        "from scipy.spatial.distance import pdist, squareform"
      ]
    },
    {
      "cell_type": "code",
      "source": [
        "from google.colab import drive\n",
        "drive.mount('/content/drive') "
      ],
      "metadata": {
        "colab": {
          "base_uri": "https://localhost:8080/"
        },
        "id": "ST85dANC9wON",
        "outputId": "0e7ef524-c808-4db0-9618-58f3153cde74"
      },
      "execution_count": 4,
      "outputs": [
        {
          "output_type": "stream",
          "name": "stdout",
          "text": [
            "Drive already mounted at /content/drive; to attempt to forcibly remount, call drive.mount(\"/content/drive\", force_remount=True).\n"
          ]
        }
      ]
    },
    {
      "cell_type": "code",
      "source": [
        "!pip3 install pickle5\n",
        "import pickle5 as pickle"
      ],
      "metadata": {
        "colab": {
          "base_uri": "https://localhost:8080/"
        },
        "id": "KCVhZNHT9xrH",
        "outputId": "cfd3a483-eaa0-4e72-f429-309473d9e480"
      },
      "execution_count": 5,
      "outputs": [
        {
          "output_type": "stream",
          "name": "stdout",
          "text": [
            "Requirement already satisfied: pickle5 in /usr/local/lib/python3.7/dist-packages (0.0.12)\n"
          ]
        }
      ]
    },
    {
      "cell_type": "code",
      "source": [
        "with open('/content/drive/MyDrive/10000/unsmote/TUnsmote_Tresult.pkl', \"rb\") as fh:\n",
        "  result = pickle.load(fh)"
      ],
      "metadata": {
        "id": "qqF4vEiT9y9M"
      },
      "execution_count": 6,
      "outputs": []
    },
    {
      "cell_type": "code",
      "source": [
        "#final data\n",
        "print(result)"
      ],
      "metadata": {
        "colab": {
          "base_uri": "https://localhost:8080/"
        },
        "id": "yfk93Wjq91AB",
        "outputId": "a288e818-da74-404f-fd42-83e6b28126cd"
      },
      "execution_count": 7,
      "outputs": [
        {
          "output_type": "stream",
          "name": "stdout",
          "text": [
            "             0         1         2  ...         8         9  label\n",
            "0    -0.018442 -4.220618 -0.916300  ... -0.010241 -0.181514      1\n",
            "1    -0.018442 -4.220618 -0.916300  ... -0.010241 -0.181514      1\n",
            "2    -0.018442 -4.220618 -0.916300  ... -0.010241 -0.181514      1\n",
            "3    -0.018442 -4.220618 -0.916300  ... -0.010241 -0.181514      1\n",
            "4    -0.018444 -4.221080 -0.916678  ...  0.057121  0.838856      1\n",
            "...        ...       ...       ...  ...       ...       ...    ...\n",
            "9995 -0.264492 -4.771727 -2.334318  ...  0.017370  0.231334      1\n",
            "9996 -0.264492 -4.771727 -2.334318  ...  0.017370  0.231334      1\n",
            "9997 -0.264492 -4.771727 -2.334318  ...  0.017370  0.231334      1\n",
            "9998 -0.264492 -4.771727 -2.334318  ...  0.017370  0.231334      1\n",
            "9999 -0.264492 -4.771727 -2.334318  ...  0.017370  0.231334      1\n",
            "\n",
            "[10000 rows x 101 columns]\n"
          ]
        }
      ]
    },
    {
      "cell_type": "code",
      "source": [
        "#divide data in to data_label and non_data label\n",
        "\n",
        "import copy\n",
        "result_nonlabel=copy.deepcopy(result)\n",
        "del result_nonlabel['label']\n",
        "X=result_nonlabel\n",
        "y=result.label"
      ],
      "metadata": {
        "id": "rLR7_ut75mtR"
      },
      "execution_count": 8,
      "outputs": []
    },
    {
      "cell_type": "code",
      "source": [
        "#splitting data in to test and train...\n",
        "\n",
        "from sklearn.model_selection import train_test_split\n",
        "X_train, X_test, y_train, y_test = train_test_split(X, y ,random_state=42,test_size=0.3)#"
      ],
      "metadata": {
        "id": "Y7Ghx2vX5oWb"
      },
      "execution_count": 9,
      "outputs": []
    },
    {
      "cell_type": "code",
      "source": [
        "print('shape of x_train is:',X_train.shape)\n",
        "print('shape of x_test is:',X_test.shape)"
      ],
      "metadata": {
        "colab": {
          "base_uri": "https://localhost:8080/"
        },
        "id": "pxdm-sqU5qt5",
        "outputId": "50281825-8154-4b7f-f675-ff0d4b31070e"
      },
      "execution_count": 10,
      "outputs": [
        {
          "output_type": "stream",
          "name": "stdout",
          "text": [
            "shape of x_train is: (7000, 100)\n",
            "shape of x_test is: (3000, 100)\n"
          ]
        }
      ]
    },
    {
      "cell_type": "code",
      "source": [
        "def make_latent_samples(n_samples, sample_size):\n",
        "    #return np.random.uniform(-1, 1, size=(n_samples, sample_size))\n",
        "    return np.random.normal(loc=0, scale=1, size=(n_samples, sample_size))"
      ],
      "metadata": {
        "id": "WVA8ra6m5tyf"
      },
      "execution_count": 11,
      "outputs": []
    },
    {
      "cell_type": "code",
      "source": [
        "make_latent_samples(1, 300) # generates one sample"
      ],
      "metadata": {
        "colab": {
          "base_uri": "https://localhost:8080/"
        },
        "id": "-Q51JZ685vSq",
        "outputId": "396e30bd-6d9a-4bbd-c782-79900017e951"
      },
      "execution_count": 12,
      "outputs": [
        {
          "output_type": "execute_result",
          "data": {
            "text/plain": [
              "array([[ 4.75970660e-01,  1.42001991e+00,  4.92749501e-01,\n",
              "        -1.71791108e+00, -1.71523157e+00,  2.46799703e-01,\n",
              "         2.92852178e-01,  3.67791787e-01,  3.66342634e-01,\n",
              "        -4.87940341e-02, -1.32199700e-01,  2.18170634e+00,\n",
              "         2.94970128e-01,  1.26549574e-01,  8.93586630e-01,\n",
              "         1.36745841e+00,  5.71893746e-01,  3.07955407e-01,\n",
              "         4.04076251e-01,  3.70206590e-01,  6.78651223e-01,\n",
              "         8.54143587e-01, -5.60723668e-01, -1.09783494e+00,\n",
              "         1.44160616e+00,  9.61658582e-01,  1.14112932e+00,\n",
              "         5.88945590e-01,  2.10131587e-01,  4.42752802e-01,\n",
              "        -4.87143923e-01,  2.87237618e-02,  9.62610548e-01,\n",
              "         4.06322313e+00, -1.26687241e+00, -9.67046481e-01,\n",
              "         3.53464576e-01, -1.83112434e-01, -1.19010730e+00,\n",
              "         7.72130414e-01,  4.24767618e-01, -3.12888006e-01,\n",
              "        -4.26788952e-02, -3.23895295e-01,  4.28717257e-01,\n",
              "         5.94358255e-01, -1.00047428e+00, -1.72141704e+00,\n",
              "         7.07602000e-01, -1.83359220e+00, -2.54069271e+00,\n",
              "        -7.94194922e-01, -4.26558242e-01, -1.03084605e+00,\n",
              "         8.39689142e-01, -6.50782341e-01, -1.77544124e-01,\n",
              "         1.37259291e+00, -6.95158753e-01,  4.46128104e-01,\n",
              "        -5.32042963e-02, -2.55972469e-01, -1.55851466e-01,\n",
              "         2.66767810e-01, -3.11127706e-01, -7.20711048e-01,\n",
              "        -1.64029035e+00,  1.12462918e-01, -2.22529524e-01,\n",
              "        -7.23499435e-02, -1.60464688e+00,  9.54440928e-01,\n",
              "        -8.75449745e-03,  1.44155987e+00,  8.73721052e-01,\n",
              "         4.53312845e-01, -1.43928496e+00,  7.69776581e-01,\n",
              "        -8.03256840e-01, -6.22156360e-01, -3.15843825e-01,\n",
              "        -1.35289039e+00,  1.28409494e-01, -4.50400459e-01,\n",
              "         9.19844264e-01,  7.01529176e-01, -2.87234836e-01,\n",
              "        -8.73585370e-02,  6.61171122e-01,  6.53604845e-01,\n",
              "        -1.03061435e+00,  6.50949375e-01, -3.47837323e-02,\n",
              "        -9.55314984e-02, -6.80376563e-01,  9.30221815e-02,\n",
              "         1.10606018e+00,  1.70520961e+00, -3.11662905e-01,\n",
              "        -7.22271523e-01, -9.70098801e-02,  1.67945261e+00,\n",
              "        -5.48561277e-01,  1.29838421e-01, -6.55304684e-01,\n",
              "        -9.03106046e-01, -3.16043503e-02, -2.78323100e-02,\n",
              "         3.97177385e-01, -9.19550849e-01,  1.77258932e+00,\n",
              "         9.16513402e-01, -2.06421670e+00, -2.12040596e-01,\n",
              "         8.54281257e-01, -7.05388736e-01, -1.87995099e+00,\n",
              "        -1.69016896e+00, -1.52512369e+00,  1.17997953e+00,\n",
              "        -5.22218121e-01,  1.16910345e-01,  1.58532116e+00,\n",
              "         9.73848194e-01, -1.25796424e+00,  7.19709022e-02,\n",
              "         4.62603913e-01,  9.16961255e-01, -7.59580083e-01,\n",
              "         5.49447506e-01,  1.81989112e-01,  8.35169737e-01,\n",
              "         1.34061542e+00,  5.32045052e-01, -4.19765792e-01,\n",
              "        -6.45073853e-01, -3.50259077e-01,  1.15192216e+00,\n",
              "         1.69978365e+00,  1.77397511e-01,  2.50116825e-01,\n",
              "        -5.59329092e-01, -7.44408077e-01, -1.34452606e+00,\n",
              "         4.98389892e-01, -1.65280626e+00,  6.34649003e-01,\n",
              "        -6.47765939e-01, -7.09137042e-01, -8.14086884e-01,\n",
              "         2.51647503e+00,  8.87817229e-01, -8.82681280e-01,\n",
              "        -3.42289206e-01, -1.18713935e+00, -9.74002702e-01,\n",
              "        -1.41188775e+00,  5.26418854e-01, -3.41975319e-01,\n",
              "        -6.61211202e-01, -1.24867642e+00,  3.91636358e-01,\n",
              "         5.63561986e-01, -2.09341736e+00, -1.67751064e+00,\n",
              "         4.29409578e-01, -7.19305379e-01,  5.64663762e-01,\n",
              "         1.57473310e+00, -7.58737093e-01, -2.31735647e+00,\n",
              "         2.02209615e+00,  2.77546043e+00,  1.01176225e+00,\n",
              "         7.09729489e-01,  2.22722778e+00,  1.25053369e+00,\n",
              "        -6.54789025e-01, -1.42069884e+00,  4.29263291e-01,\n",
              "        -8.67343859e-01, -2.42521674e+00,  2.29418218e+00,\n",
              "         4.04151218e-01,  1.36730926e+00, -6.68866385e-01,\n",
              "        -1.77081506e+00,  8.60403006e-01, -6.45170427e-01,\n",
              "        -4.93701591e-01,  8.24905602e-01,  5.58368318e-01,\n",
              "        -1.92788713e-01, -9.72463747e-01, -6.14868599e-01,\n",
              "         1.56185683e+00,  6.88415846e-01, -8.91288771e-01,\n",
              "        -5.44364526e-01,  3.01659878e-01,  9.61683115e-01,\n",
              "         9.86004511e-01,  1.86241100e+00, -5.27051559e-01,\n",
              "         1.32115423e+00,  1.01858447e+00,  5.31779179e-01,\n",
              "        -1.73557357e+00, -1.19905461e+00,  5.95362602e-01,\n",
              "        -1.53719773e+00,  1.19753764e+00,  4.32817013e-01,\n",
              "         9.25322484e-01,  2.25484812e-01, -2.25556390e-02,\n",
              "        -1.44048816e+00,  3.33408582e+00, -1.76909102e-01,\n",
              "        -5.09083169e-01, -7.90208970e-01, -3.66355139e-01,\n",
              "        -3.89581853e-01,  4.23371190e-01,  1.27082407e+00,\n",
              "        -7.86033299e-01, -3.41716067e-01,  1.99961479e+00,\n",
              "        -1.17320413e+00,  5.78603798e-01, -1.58816524e+00,\n",
              "         8.41911115e-01,  1.23981637e+00,  1.26381466e+00,\n",
              "        -4.94166050e-03,  2.24858342e+00, -1.99688080e+00,\n",
              "        -1.02790034e-01,  1.02351093e+00,  1.64486191e-01,\n",
              "         4.67360567e-01,  6.55334628e-01, -2.63373576e-01,\n",
              "        -1.04615251e+00,  1.06773343e+00, -3.91965384e-01,\n",
              "         6.35661395e-01, -3.09705321e+00, -8.21926273e-01,\n",
              "        -4.77725293e-01, -7.90632023e-01,  2.29842921e-02,\n",
              "        -2.53932433e-01,  8.09034430e-01,  9.90212534e-01,\n",
              "         4.70052965e-01,  2.40374285e-03,  3.49875691e-01,\n",
              "         1.41078558e+00, -7.73092427e-01, -1.42763585e+00,\n",
              "        -1.56301604e-01,  1.41322414e+00, -1.50877800e+00,\n",
              "        -1.10984125e+00,  2.69960903e-02,  1.00775073e+00,\n",
              "        -1.22367292e+00, -6.89667609e-01,  1.05902403e+00,\n",
              "         2.86717680e-01, -1.48085698e+00, -5.44665259e-01,\n",
              "         3.52798978e-01, -9.92971742e-01, -2.95365833e-01,\n",
              "        -1.14087217e+00, -2.51260964e+00,  9.76758403e-01,\n",
              "        -1.41455261e+00, -1.13816107e+00,  1.36677337e+00,\n",
              "        -7.46125376e-01,  1.17388061e+00, -3.27616169e-01,\n",
              "        -1.00619073e+00, -8.26784562e-01,  2.97502452e-01,\n",
              "        -1.37386349e-01, -2.34611974e+00, -1.49508148e+00,\n",
              "         1.18241223e-02, -3.85935699e-01, -1.17384047e+00,\n",
              "        -2.34115049e-01, -2.56491931e-01,  3.85323051e-01,\n",
              "        -2.25291084e-03,  7.53829876e-01, -4.04314741e-01]])"
            ]
          },
          "metadata": {},
          "execution_count": 12
        }
      ]
    },
    {
      "cell_type": "code",
      "source": [
        "generator = Sequential([\n",
        "    Dense(256, input_shape=(300,)),\n",
        "    LeakyReLU(alpha=0.02),\n",
        "    #BatchNormalization(momentum=0.6),\n",
        "    #Dense(512),\n",
        "    #LeakyReLU(alpha=0.02),\n",
        "    #BatchNormalization(momentum=0.6),\n",
        "    #Dense(256),\n",
        "    #LeakyReLU(alpha=0.02),\n",
        "    #BatchNormalization(momentum=0.6),\n",
        "    #Dense(128),\n",
        "    #LeakyReLU(alpha=0.02),\n",
        "    #BatchNormalization(momentum=0.6),\n",
        "    Dense(100),\n",
        "    Activation('tanh')\n",
        "], name='generator')\n",
        "\n",
        "generator.summary()"
      ],
      "metadata": {
        "colab": {
          "base_uri": "https://localhost:8080/"
        },
        "id": "j5Jw1bgL5xvt",
        "outputId": "56757c9b-4e1c-4a50-9c0e-4914691c9462"
      },
      "execution_count": 13,
      "outputs": [
        {
          "output_type": "stream",
          "name": "stdout",
          "text": [
            "Model: \"generator\"\n",
            "_________________________________________________________________\n",
            " Layer (type)                Output Shape              Param #   \n",
            "=================================================================\n",
            " dense (Dense)               (None, 256)               77056     \n",
            "                                                                 \n",
            " leaky_re_lu (LeakyReLU)     (None, 256)               0         \n",
            "                                                                 \n",
            " dense_1 (Dense)             (None, 100)               25700     \n",
            "                                                                 \n",
            " activation (Activation)     (None, 100)               0         \n",
            "                                                                 \n",
            "=================================================================\n",
            "Total params: 102,756\n",
            "Trainable params: 102,756\n",
            "Non-trainable params: 0\n",
            "_________________________________________________________________\n"
          ]
        }
      ]
    },
    {
      "cell_type": "code",
      "source": [
        "discriminator = Sequential([\n",
        "    Dense(128, input_shape=(100,)),\n",
        "    LeakyReLU(alpha=0.02),\n",
        "    #(momentum=0.6),\n",
        "    Dense(64),\n",
        "    LeakyReLU(alpha=0.02),\n",
        "    #BatchNormalization(momentum=0.6),\n",
        "    Dense(32),\n",
        "    LeakyReLU(alpha=0.02),\n",
        "    #BatchNormalization(momentum=0.6),\n",
        "    #Dense(16),\n",
        "    #LeakyReLU(alpha=0.02),\n",
        "    #BatchNormalization(momentum=0.6),\n",
        "    #Dense(8),\n",
        "    #LeakyReLU(alpha=0.02),\n",
        "    #BatchNormalization(momentum=0.6),\n",
        "    Dense(1),\n",
        "    Activation('sigmoid')\n",
        "], name='discriminator')\n",
        "\n",
        "discriminator.summary()"
      ],
      "metadata": {
        "colab": {
          "base_uri": "https://localhost:8080/"
        },
        "id": "azG0blQ950Ft",
        "outputId": "105fa396-b97a-4cc6-9aa8-860cfa3db482"
      },
      "execution_count": 14,
      "outputs": [
        {
          "output_type": "stream",
          "name": "stdout",
          "text": [
            "Model: \"discriminator\"\n",
            "_________________________________________________________________\n",
            " Layer (type)                Output Shape              Param #   \n",
            "=================================================================\n",
            " dense_2 (Dense)             (None, 128)               12928     \n",
            "                                                                 \n",
            " leaky_re_lu_1 (LeakyReLU)   (None, 128)               0         \n",
            "                                                                 \n",
            " dense_3 (Dense)             (None, 64)                8256      \n",
            "                                                                 \n",
            " leaky_re_lu_2 (LeakyReLU)   (None, 64)                0         \n",
            "                                                                 \n",
            " dense_4 (Dense)             (None, 32)                2080      \n",
            "                                                                 \n",
            " leaky_re_lu_3 (LeakyReLU)   (None, 32)                0         \n",
            "                                                                 \n",
            " dense_5 (Dense)             (None, 1)                 33        \n",
            "                                                                 \n",
            " activation_1 (Activation)   (None, 1)                 0         \n",
            "                                                                 \n",
            "=================================================================\n",
            "Total params: 23,297\n",
            "Trainable params: 23,297\n",
            "Non-trainable params: 0\n",
            "_________________________________________________________________\n"
          ]
        }
      ]
    },
    {
      "cell_type": "code",
      "source": [
        "# maintain the same shared weights with the generator and the discriminator.\n",
        "gan = Sequential([\n",
        "    generator,\n",
        "    discriminator\n",
        "])\n",
        "\n",
        "gan.summary()"
      ],
      "metadata": {
        "colab": {
          "base_uri": "https://localhost:8080/"
        },
        "id": "z49wvPe952vf",
        "outputId": "422901cb-984c-4cf1-e58a-f4b1f396780e"
      },
      "execution_count": 15,
      "outputs": [
        {
          "output_type": "stream",
          "name": "stdout",
          "text": [
            "Model: \"sequential\"\n",
            "_________________________________________________________________\n",
            " Layer (type)                Output Shape              Param #   \n",
            "=================================================================\n",
            " generator (Sequential)      (None, 100)               102756    \n",
            "                                                                 \n",
            " discriminator (Sequential)  (None, 1)                 23297     \n",
            "                                                                 \n",
            "=================================================================\n",
            "Total params: 126,053\n",
            "Trainable params: 126,053\n",
            "Non-trainable params: 0\n",
            "_________________________________________________________________\n"
          ]
        }
      ]
    },
    {
      "cell_type": "code",
      "source": [
        "def make_trainable(model, trainable):\n",
        "    for layer in model.layers:\n",
        "        layer.trainable = trainable"
      ],
      "metadata": {
        "id": "EOMYKVZm54wX"
      },
      "execution_count": 16,
      "outputs": []
    },
    {
      "cell_type": "code",
      "source": [
        "make_trainable(discriminator, False)\n",
        "discriminator.summary()"
      ],
      "metadata": {
        "colab": {
          "base_uri": "https://localhost:8080/"
        },
        "id": "hyriEuDg563B",
        "outputId": "b23ec3b8-ef77-40a4-ba88-867a61be69a4"
      },
      "execution_count": 17,
      "outputs": [
        {
          "output_type": "stream",
          "name": "stdout",
          "text": [
            "Model: \"discriminator\"\n",
            "_________________________________________________________________\n",
            " Layer (type)                Output Shape              Param #   \n",
            "=================================================================\n",
            " dense_2 (Dense)             (None, 128)               12928     \n",
            "                                                                 \n",
            " leaky_re_lu_1 (LeakyReLU)   (None, 128)               0         \n",
            "                                                                 \n",
            " dense_3 (Dense)             (None, 64)                8256      \n",
            "                                                                 \n",
            " leaky_re_lu_2 (LeakyReLU)   (None, 64)                0         \n",
            "                                                                 \n",
            " dense_4 (Dense)             (None, 32)                2080      \n",
            "                                                                 \n",
            " leaky_re_lu_3 (LeakyReLU)   (None, 32)                0         \n",
            "                                                                 \n",
            " dense_5 (Dense)             (None, 1)                 33        \n",
            "                                                                 \n",
            " activation_1 (Activation)   (None, 1)                 0         \n",
            "                                                                 \n",
            "=================================================================\n",
            "Total params: 23,297\n",
            "Trainable params: 0\n",
            "Non-trainable params: 23,297\n",
            "_________________________________________________________________\n"
          ]
        }
      ]
    },
    {
      "cell_type": "code",
      "source": [
        "make_trainable(discriminator, True)\n",
        "discriminator.summary()"
      ],
      "metadata": {
        "colab": {
          "base_uri": "https://localhost:8080/"
        },
        "id": "unT_tS3458wP",
        "outputId": "29dc519c-604c-4139-a16b-f156400c629e"
      },
      "execution_count": 18,
      "outputs": [
        {
          "output_type": "stream",
          "name": "stdout",
          "text": [
            "Model: \"discriminator\"\n",
            "_________________________________________________________________\n",
            " Layer (type)                Output Shape              Param #   \n",
            "=================================================================\n",
            " dense_2 (Dense)             (None, 128)               12928     \n",
            "                                                                 \n",
            " leaky_re_lu_1 (LeakyReLU)   (None, 128)               0         \n",
            "                                                                 \n",
            " dense_3 (Dense)             (None, 64)                8256      \n",
            "                                                                 \n",
            " leaky_re_lu_2 (LeakyReLU)   (None, 64)                0         \n",
            "                                                                 \n",
            " dense_4 (Dense)             (None, 32)                2080      \n",
            "                                                                 \n",
            " leaky_re_lu_3 (LeakyReLU)   (None, 32)                0         \n",
            "                                                                 \n",
            " dense_5 (Dense)             (None, 1)                 33        \n",
            "                                                                 \n",
            " activation_1 (Activation)   (None, 1)                 0         \n",
            "                                                                 \n",
            "=================================================================\n",
            "Total params: 23,297\n",
            "Trainable params: 23,297\n",
            "Non-trainable params: 0\n",
            "_________________________________________________________________\n"
          ]
        }
      ]
    },
    {
      "cell_type": "code",
      "source": [
        "def make_simple_GAN(sample_size, \n",
        "                    g_hidden_size_1,\n",
        "                    g_hidden_size_2,\n",
        "                    g_hidden_size_3,\n",
        "                    g_hidden_size_4,\n",
        "                    d_hidden_size_1,\n",
        "                    d_hidden_size_2, \n",
        "                    d_hidden_size_3,\n",
        "                    d_hidden_size_4,\n",
        "                    d_hidden_size_5,\n",
        "                    leaky_alpha, \n",
        "                    g_learning_rate,\n",
        "                    d_learning_rate):\n",
        "    K.clear_session()\n",
        "    \n",
        "    generator = Sequential([\n",
        "        Dense(g_hidden_size_1, input_shape=(sample_size,)),\n",
        "        LeakyReLU(alpha=leaky_alpha),\n",
        "        #BatchNormalization(momentum=0.6),\n",
        "        #Dense(g_hidden_size_2),\n",
        "        #LeakyReLU(alpha=leaky_alpha),\n",
        "        #BatchNormalization(momentum=0.6),\n",
        "        #Dense(g_hidden_size_3),\n",
        "        #LeakyReLU(alpha=leaky_alpha),\n",
        "        #BatchNormalization(momentum=0.6),\n",
        "        #Dense(g_hidden_size_4),\n",
        "        #LeakyReLU(alpha=leaky_alpha),\n",
        "        #BatchNormalization(momentum=0.6),\n",
        "        Dense(100),        \n",
        "        Activation('tanh')\n",
        "    ], name='generator')    \n",
        "\n",
        "    discriminator = Sequential([\n",
        "        Dense(d_hidden_size_1, input_shape=(100,)),\n",
        "        LeakyReLU(alpha=leaky_alpha),\n",
        "        #BatchNormalization(momentum=0.6),\n",
        "        Dense(d_hidden_size_2),\n",
        "        LeakyReLU(alpha=leaky_alpha),\n",
        "        #BatchNormalization(momentum=0.6),\n",
        "        Dense(d_hidden_size_3),\n",
        "        LeakyReLU(alpha=leaky_alpha),\n",
        "        #BatchNormalization(momentum=0.6),\n",
        "        #Dense(d_hidden_size_4),\n",
        "        #LeakyReLU(alpha=leaky_alpha),\n",
        "        #BatchNormalization(momentum=0.6),\n",
        "        #Dense(d_hidden_size_5),\n",
        "        #LeakyReLU(alpha=leaky_alpha),\n",
        "        #BatchNormalization(momentum=0.6),\n",
        "        Dense(1),\n",
        "        Activation('sigmoid')\n",
        "    ], name='discriminator')    \n",
        "    \n",
        "    gan = Sequential([\n",
        "        generator,\n",
        "        discriminator\n",
        "    ])\n",
        "    \n",
        "    discriminator.compile(optimizer=Adam(lr=d_learning_rate), loss='binary_crossentropy')\n",
        "    gan.compile(optimizer=Adam(lr=g_learning_rate), loss='binary_crossentropy')\n",
        "    \n",
        "    return gan, generator, discriminator "
      ],
      "metadata": {
        "id": "8jAObXv95-lc"
      },
      "execution_count": 19,
      "outputs": []
    },
    {
      "cell_type": "code",
      "source": [
        "from sklearn import preprocessing\n",
        "def preprocess(x):\n",
        "   x = preprocessing.scale(x)\n",
        "   return x"
      ],
      "metadata": {
        "id": "SD5Wze666At_"
      },
      "execution_count": 20,
      "outputs": []
    },
    {
      "cell_type": "code",
      "source": [
        "X_train_real = np.array(preprocess(X_train))\n",
        "X_test_real  = np.array(preprocess(X_test))"
      ],
      "metadata": {
        "id": "GNNm0QkH6B1v"
      },
      "execution_count": 21,
      "outputs": []
    },
    {
      "cell_type": "code",
      "source": [
        "def make_labels(size):\n",
        "    return np.ones([size, 1]), np.zeros([size, 1])"
      ],
      "metadata": {
        "id": "yk3QMkXb6ESr"
      },
      "execution_count": 22,
      "outputs": []
    },
    {
      "cell_type": "code",
      "source": [
        "y_real_10, y_fake_10 = make_labels(10)\n",
        "\n",
        "y_real_10, y_fake_10"
      ],
      "metadata": {
        "colab": {
          "base_uri": "https://localhost:8080/"
        },
        "id": "pE5mnb926Fi-",
        "outputId": "a20f9ebd-0c92-40f2-a384-62cbd5ed9545"
      },
      "execution_count": 23,
      "outputs": [
        {
          "output_type": "execute_result",
          "data": {
            "text/plain": [
              "(array([[1.],\n",
              "        [1.],\n",
              "        [1.],\n",
              "        [1.],\n",
              "        [1.],\n",
              "        [1.],\n",
              "        [1.],\n",
              "        [1.],\n",
              "        [1.],\n",
              "        [1.]]), array([[0.],\n",
              "        [0.],\n",
              "        [0.],\n",
              "        [0.],\n",
              "        [0.],\n",
              "        [0.],\n",
              "        [0.],\n",
              "        [0.],\n",
              "        [0.],\n",
              "        [0.]]))"
            ]
          },
          "metadata": {},
          "execution_count": 23
        }
      ]
    },
    {
      "cell_type": "code",
      "source": [
        "# hyperparameters\n",
        "sample_size     = 300     # latent sample size (i.e., 100 random numbers)\n",
        "g_hidden_size_1 = 256\n",
        "g_hidden_size_2 = 0\n",
        "g_hidden_size_3 = 0\n",
        "g_hidden_size_4 = 0\n",
        "d_hidden_size_1 = 128\n",
        "d_hidden_size_2 = 64\n",
        "d_hidden_size_3 = 32\n",
        "d_hidden_size_4 = 16\n",
        "d_hidden_size_5 = 8\n",
        "leaky_alpha     = 0.02\n",
        "g_learning_rate = 0.0001  # learning rate for the generator\n",
        "d_learning_rate = 0.001   # learning rate for the discriminator\n",
        "epochs          = 150\n",
        "batch_size      = 64      # train batch size\n",
        "eval_size       = 16      # evaluate size\n",
        "smooth          = 0.1\n"
      ],
      "metadata": {
        "id": "CPRYA-M86HYW"
      },
      "execution_count": 24,
      "outputs": []
    },
    {
      "cell_type": "code",
      "source": [
        "## labels for the batch size and the test size\n",
        "y_train_real, y_train_fake = make_labels(batch_size)\n",
        "y_eval_real,  y_eval_fake  = make_labels(eval_size)\n",
        "\n",
        "# create a GAN, a generator and a discriminator\n",
        "gan, generator, discriminator = make_simple_GAN(\n",
        "    sample_size, \n",
        "    g_hidden_size_1, \n",
        "    g_hidden_size_2,\n",
        "    g_hidden_size_3,\n",
        "    g_hidden_size_4, \n",
        "    d_hidden_size_1, \n",
        "    d_hidden_size_2,\n",
        "    d_hidden_size_3,\n",
        "    d_hidden_size_4,\n",
        "    d_hidden_size_5,\n",
        "    leaky_alpha, \n",
        "    g_learning_rate,\n",
        "    d_learning_rate)\n",
        "\n",
        "\n",
        "losses = []\n",
        "losses1 = []\n",
        "for e in range(epochs):\n",
        "    for i in range(len(X_train_real)//batch_size):\n",
        "        # real MNIST digit images\n",
        "        X_batch_real = X_train_real[i*batch_size:(i+1)*batch_size]\n",
        "        \n",
        "        # latent samples and the generated digit images\n",
        "        latent_samples = make_latent_samples(batch_size, sample_size)\n",
        "        X_batch_fake = generator.predict_on_batch(latent_samples)\n",
        "        \n",
        "        # train the discriminator to detect real and fake images\n",
        "        make_trainable(discriminator, True)\n",
        "        discriminator.train_on_batch(X_batch_real, y_train_real * (1 - smooth))\n",
        "        discriminator.train_on_batch(X_batch_fake, y_train_fake)\n",
        "\n",
        "        # train the generator via GAN\n",
        "        make_trainable(discriminator, False)\n",
        "        gan.train_on_batch(latent_samples, y_train_real)\n",
        "   # evaluate\n",
        "    X_eval_real = X_test_real[np.random.choice(len(X_test_real), eval_size, replace=False)]\n",
        "    \n",
        "    latent_samples = make_latent_samples(eval_size, sample_size)\n",
        "    X_eval_fake = generator.predict_on_batch(latent_samples)\n",
        "\n",
        "    d_loss  = discriminator.test_on_batch(X_eval_real, y_eval_real)\n",
        "    d_loss += discriminator.test_on_batch(X_eval_fake, y_eval_fake)\n",
        "    g_loss  = gan.test_on_batch(latent_samples, y_eval_real) # we want the fake to be realistic!\n",
        "    \n",
        "    losses.append((d_loss, g_loss))\n",
        "\n",
        "    #d_acc_real = discriminator.train_on_batch(X_batch_real, y_train_real * (1 - smooth))\n",
        "    #d_acc_fake = discriminator.train_on_batch(X_batch_fake, y_train_fake)\n",
        "    #d_acc  = 0.5 * (d_acc_real + d_acc_fake)\n",
        "\n",
        "    #losses1.append(( d_acc))\n",
        "    print(\"Epoch: {:>3}/{} Discriminator Loss: {:>6.4f} Generator Loss: {:>6.4f} \".format(\n",
        "        e+1, epochs, d_loss, g_loss)) #Discriminator acc: {:>6.4f}:,d_acc"
      ],
      "metadata": {
        "colab": {
          "base_uri": "https://localhost:8080/"
        },
        "id": "6PeYo64w6IVN",
        "outputId": "ee222026-3f52-4997-bd17-e151c3da81c4"
      },
      "execution_count": 25,
      "outputs": [
        {
          "output_type": "stream",
          "name": "stderr",
          "text": [
            "/usr/local/lib/python3.7/dist-packages/keras/optimizer_v2/adam.py:105: UserWarning: The `lr` argument is deprecated, use `learning_rate` instead.\n",
            "  super(Adam, self).__init__(name, **kwargs)\n"
          ]
        },
        {
          "output_type": "stream",
          "name": "stdout",
          "text": [
            "Epoch:   1/150 Discriminator Loss: 0.1905 Generator Loss: 4.2123 \n",
            "Epoch:   2/150 Discriminator Loss: 0.1204 Generator Loss: 4.6946 \n",
            "Epoch:   3/150 Discriminator Loss: 0.0874 Generator Loss: 5.9507 \n",
            "Epoch:   4/150 Discriminator Loss: 0.1317 Generator Loss: 5.7591 \n",
            "Epoch:   5/150 Discriminator Loss: 0.0991 Generator Loss: 5.7525 \n",
            "Epoch:   6/150 Discriminator Loss: 0.0908 Generator Loss: 7.0454 \n",
            "Epoch:   7/150 Discriminator Loss: 0.0973 Generator Loss: 7.0628 \n",
            "Epoch:   8/150 Discriminator Loss: 0.0899 Generator Loss: 7.1929 \n",
            "Epoch:   9/150 Discriminator Loss: 0.0921 Generator Loss: 7.3737 \n",
            "Epoch:  10/150 Discriminator Loss: 0.1009 Generator Loss: 7.2833 \n",
            "Epoch:  11/150 Discriminator Loss: 0.3940 Generator Loss: 7.1672 \n",
            "Epoch:  12/150 Discriminator Loss: 0.0921 Generator Loss: 7.7643 \n",
            "Epoch:  13/150 Discriminator Loss: 0.0853 Generator Loss: 7.7472 \n",
            "Epoch:  14/150 Discriminator Loss: 0.0751 Generator Loss: 7.5574 \n",
            "Epoch:  15/150 Discriminator Loss: 0.0804 Generator Loss: 8.0873 \n",
            "Epoch:  16/150 Discriminator Loss: 0.0968 Generator Loss: 8.7111 \n",
            "Epoch:  17/150 Discriminator Loss: 0.0761 Generator Loss: 8.6511 \n",
            "Epoch:  18/150 Discriminator Loss: 0.0790 Generator Loss: 9.6744 \n",
            "Epoch:  19/150 Discriminator Loss: 0.0637 Generator Loss: 12.0379 \n",
            "Epoch:  20/150 Discriminator Loss: 0.0786 Generator Loss: 9.3995 \n",
            "Epoch:  21/150 Discriminator Loss: 0.0899 Generator Loss: 9.7258 \n",
            "Epoch:  22/150 Discriminator Loss: 0.0852 Generator Loss: 9.7400 \n",
            "Epoch:  23/150 Discriminator Loss: 0.0924 Generator Loss: 8.7029 \n",
            "Epoch:  24/150 Discriminator Loss: 0.0931 Generator Loss: 8.6537 \n",
            "Epoch:  25/150 Discriminator Loss: 0.0981 Generator Loss: 9.4366 \n",
            "Epoch:  26/150 Discriminator Loss: 0.1136 Generator Loss: 9.7091 \n",
            "Epoch:  27/150 Discriminator Loss: 0.0986 Generator Loss: 8.7729 \n",
            "Epoch:  28/150 Discriminator Loss: 0.1094 Generator Loss: 10.8412 \n",
            "Epoch:  29/150 Discriminator Loss: 0.1105 Generator Loss: 10.2950 \n",
            "Epoch:  30/150 Discriminator Loss: 0.1232 Generator Loss: 8.5967 \n",
            "Epoch:  31/150 Discriminator Loss: 0.1039 Generator Loss: 10.6358 \n",
            "Epoch:  32/150 Discriminator Loss: 0.2117 Generator Loss: 10.1650 \n",
            "Epoch:  33/150 Discriminator Loss: 0.1042 Generator Loss: 12.2324 \n",
            "Epoch:  34/150 Discriminator Loss: 0.1099 Generator Loss: 10.4003 \n",
            "Epoch:  35/150 Discriminator Loss: 0.1066 Generator Loss: 10.6100 \n",
            "Epoch:  36/150 Discriminator Loss: 0.1125 Generator Loss: 10.1552 \n",
            "Epoch:  37/150 Discriminator Loss: 0.1043 Generator Loss: 9.2653 \n",
            "Epoch:  38/150 Discriminator Loss: 0.1000 Generator Loss: 9.7461 \n",
            "Epoch:  39/150 Discriminator Loss: 0.1092 Generator Loss: 11.1498 \n",
            "Epoch:  40/150 Discriminator Loss: 0.1292 Generator Loss: 15.1364 \n",
            "Epoch:  41/150 Discriminator Loss: 0.1134 Generator Loss: 26.3755 \n",
            "Epoch:  42/150 Discriminator Loss: 0.0918 Generator Loss: 11.5747 \n",
            "Epoch:  43/150 Discriminator Loss: 0.0986 Generator Loss: 10.2151 \n",
            "Epoch:  44/150 Discriminator Loss: 0.1043 Generator Loss: 10.1963 \n",
            "Epoch:  45/150 Discriminator Loss: 0.1024 Generator Loss: 11.3584 \n",
            "Epoch:  46/150 Discriminator Loss: 0.1014 Generator Loss: 10.1385 \n",
            "Epoch:  47/150 Discriminator Loss: 0.1024 Generator Loss: 9.9336 \n",
            "Epoch:  48/150 Discriminator Loss: 0.1103 Generator Loss: 12.6047 \n",
            "Epoch:  49/150 Discriminator Loss: 0.0995 Generator Loss: 15.7813 \n",
            "Epoch:  50/150 Discriminator Loss: 0.1099 Generator Loss: 10.3810 \n",
            "Epoch:  51/150 Discriminator Loss: 0.1121 Generator Loss: 10.2995 \n",
            "Epoch:  52/150 Discriminator Loss: 0.1054 Generator Loss: 12.5122 \n",
            "Epoch:  53/150 Discriminator Loss: 0.1051 Generator Loss: 13.9298 \n",
            "Epoch:  54/150 Discriminator Loss: 0.1152 Generator Loss: 11.9393 \n",
            "Epoch:  55/150 Discriminator Loss: 0.1140 Generator Loss: 10.1164 \n",
            "Epoch:  56/150 Discriminator Loss: 0.1225 Generator Loss: 13.2613 \n",
            "Epoch:  57/150 Discriminator Loss: 0.1188 Generator Loss: 12.2039 \n",
            "Epoch:  58/150 Discriminator Loss: 0.1011 Generator Loss: 10.4114 \n",
            "Epoch:  59/150 Discriminator Loss: 0.1125 Generator Loss: 10.5312 \n",
            "Epoch:  60/150 Discriminator Loss: 0.1061 Generator Loss: 12.2972 \n",
            "Epoch:  61/150 Discriminator Loss: 0.1140 Generator Loss: 11.6685 \n",
            "Epoch:  62/150 Discriminator Loss: 0.1131 Generator Loss: 15.1937 \n",
            "Epoch:  63/150 Discriminator Loss: 0.1008 Generator Loss: 14.0091 \n",
            "Epoch:  64/150 Discriminator Loss: 0.1083 Generator Loss: 11.8863 \n",
            "Epoch:  65/150 Discriminator Loss: 0.1062 Generator Loss: 10.6456 \n",
            "Epoch:  66/150 Discriminator Loss: 0.1143 Generator Loss: 9.4519 \n",
            "Epoch:  67/150 Discriminator Loss: 0.1111 Generator Loss: 11.0475 \n",
            "Epoch:  68/150 Discriminator Loss: 0.1054 Generator Loss: 12.1626 \n",
            "Epoch:  69/150 Discriminator Loss: 0.1090 Generator Loss: 12.3945 \n",
            "Epoch:  70/150 Discriminator Loss: 0.1137 Generator Loss: 12.2778 \n",
            "Epoch:  71/150 Discriminator Loss: 0.1037 Generator Loss: 19.3643 \n",
            "Epoch:  72/150 Discriminator Loss: 0.1162 Generator Loss: 11.4960 \n",
            "Epoch:  73/150 Discriminator Loss: 0.1150 Generator Loss: 10.9142 \n",
            "Epoch:  74/150 Discriminator Loss: 0.1103 Generator Loss: 13.5108 \n",
            "Epoch:  75/150 Discriminator Loss: 0.1095 Generator Loss: 11.3601 \n",
            "Epoch:  76/150 Discriminator Loss: 0.1098 Generator Loss: 10.6750 \n",
            "Epoch:  77/150 Discriminator Loss: 0.1177 Generator Loss: 12.6132 \n",
            "Epoch:  78/150 Discriminator Loss: 0.5608 Generator Loss: 17.6049 \n",
            "Epoch:  79/150 Discriminator Loss: 0.1121 Generator Loss: 10.4561 \n",
            "Epoch:  80/150 Discriminator Loss: 0.1082 Generator Loss: 10.1232 \n",
            "Epoch:  81/150 Discriminator Loss: 0.1085 Generator Loss: 10.8123 \n",
            "Epoch:  82/150 Discriminator Loss: 0.1081 Generator Loss: 12.8152 \n",
            "Epoch:  83/150 Discriminator Loss: 0.1063 Generator Loss: 11.9342 \n",
            "Epoch:  84/150 Discriminator Loss: 0.1065 Generator Loss: 10.8266 \n",
            "Epoch:  85/150 Discriminator Loss: 0.1053 Generator Loss: 11.4107 \n",
            "Epoch:  86/150 Discriminator Loss: 0.1012 Generator Loss: 14.8816 \n",
            "Epoch:  87/150 Discriminator Loss: 0.1088 Generator Loss: 10.8509 \n",
            "Epoch:  88/150 Discriminator Loss: 0.1064 Generator Loss: 12.0821 \n",
            "Epoch:  89/150 Discriminator Loss: 0.1029 Generator Loss: 10.5817 \n",
            "Epoch:  90/150 Discriminator Loss: 0.1039 Generator Loss: 10.5225 \n",
            "Epoch:  91/150 Discriminator Loss: 0.1044 Generator Loss: 10.0923 \n",
            "Epoch:  92/150 Discriminator Loss: 0.0997 Generator Loss: 9.6369 \n",
            "Epoch:  93/150 Discriminator Loss: 0.1051 Generator Loss: 10.2338 \n",
            "Epoch:  94/150 Discriminator Loss: 0.1038 Generator Loss: 10.2502 \n",
            "Epoch:  95/150 Discriminator Loss: 0.1038 Generator Loss: 10.1513 \n",
            "Epoch:  96/150 Discriminator Loss: 0.1076 Generator Loss: 10.4533 \n",
            "Epoch:  97/150 Discriminator Loss: 0.1108 Generator Loss: 11.3104 \n",
            "Epoch:  98/150 Discriminator Loss: 0.1015 Generator Loss: 11.4780 \n",
            "Epoch:  99/150 Discriminator Loss: 0.1077 Generator Loss: 12.6808 \n",
            "Epoch: 100/150 Discriminator Loss: 0.1115 Generator Loss: 10.5817 \n",
            "Epoch: 101/150 Discriminator Loss: 0.1039 Generator Loss: 10.6083 \n",
            "Epoch: 102/150 Discriminator Loss: 0.1052 Generator Loss: 12.1442 \n",
            "Epoch: 103/150 Discriminator Loss: 0.1042 Generator Loss: 12.7630 \n",
            "Epoch: 104/150 Discriminator Loss: 0.1059 Generator Loss: 12.6994 \n",
            "Epoch: 105/150 Discriminator Loss: 0.1085 Generator Loss: 15.3648 \n",
            "Epoch: 106/150 Discriminator Loss: 0.1067 Generator Loss: 17.1035 \n",
            "Epoch: 107/150 Discriminator Loss: 0.1088 Generator Loss: 12.8248 \n",
            "Epoch: 108/150 Discriminator Loss: 0.1092 Generator Loss: 12.6861 \n",
            "Epoch: 109/150 Discriminator Loss: 0.1030 Generator Loss: 22.5729 \n",
            "Epoch: 110/150 Discriminator Loss: 0.1043 Generator Loss: 18.2570 \n",
            "Epoch: 111/150 Discriminator Loss: 0.1048 Generator Loss: 15.3155 \n",
            "Epoch: 112/150 Discriminator Loss: 0.1105 Generator Loss: 14.2163 \n",
            "Epoch: 113/150 Discriminator Loss: 0.1049 Generator Loss: 10.0575 \n",
            "Epoch: 114/150 Discriminator Loss: 0.1086 Generator Loss: 11.1335 \n",
            "Epoch: 115/150 Discriminator Loss: 0.1078 Generator Loss: 17.0763 \n",
            "Epoch: 116/150 Discriminator Loss: 0.1050 Generator Loss: 10.8140 \n",
            "Epoch: 117/150 Discriminator Loss: 0.1070 Generator Loss: 10.9147 \n",
            "Epoch: 118/150 Discriminator Loss: 0.1026 Generator Loss: 10.7148 \n",
            "Epoch: 119/150 Discriminator Loss: 0.1032 Generator Loss: 11.3029 \n",
            "Epoch: 120/150 Discriminator Loss: 0.1018 Generator Loss: 10.4092 \n",
            "Epoch: 121/150 Discriminator Loss: 0.1109 Generator Loss: 10.3869 \n",
            "Epoch: 122/150 Discriminator Loss: 0.1083 Generator Loss: 10.7387 \n",
            "Epoch: 123/150 Discriminator Loss: 0.1060 Generator Loss: 11.0908 \n",
            "Epoch: 124/150 Discriminator Loss: 0.1112 Generator Loss: 11.4025 \n",
            "Epoch: 125/150 Discriminator Loss: 0.1057 Generator Loss: 12.0264 \n",
            "Epoch: 126/150 Discriminator Loss: 0.1074 Generator Loss: 12.0796 \n",
            "Epoch: 127/150 Discriminator Loss: 0.1043 Generator Loss: 11.3503 \n",
            "Epoch: 128/150 Discriminator Loss: 0.1046 Generator Loss: 14.3264 \n",
            "Epoch: 129/150 Discriminator Loss: 0.0950 Generator Loss: 12.3425 \n",
            "Epoch: 130/150 Discriminator Loss: 0.1028 Generator Loss: 14.8802 \n",
            "Epoch: 131/150 Discriminator Loss: 0.1048 Generator Loss: 12.1870 \n",
            "Epoch: 132/150 Discriminator Loss: 0.1050 Generator Loss: 13.9379 \n",
            "Epoch: 133/150 Discriminator Loss: 0.1036 Generator Loss: 12.6819 \n",
            "Epoch: 134/150 Discriminator Loss: 0.1041 Generator Loss: 10.5656 \n",
            "Epoch: 135/150 Discriminator Loss: 0.1035 Generator Loss: 12.5254 \n",
            "Epoch: 136/150 Discriminator Loss: 0.1096 Generator Loss: 13.9974 \n",
            "Epoch: 137/150 Discriminator Loss: 0.1141 Generator Loss: 13.3883 \n",
            "Epoch: 138/150 Discriminator Loss: 0.1086 Generator Loss: 10.8075 \n",
            "Epoch: 139/150 Discriminator Loss: 0.1214 Generator Loss: 11.9974 \n",
            "Epoch: 140/150 Discriminator Loss: 0.1077 Generator Loss: 13.9174 \n",
            "Epoch: 141/150 Discriminator Loss: 0.1118 Generator Loss: 11.7552 \n",
            "Epoch: 142/150 Discriminator Loss: 0.1120 Generator Loss: 14.8314 \n",
            "Epoch: 143/150 Discriminator Loss: 0.1097 Generator Loss: 14.5451 \n",
            "Epoch: 144/150 Discriminator Loss: 0.1080 Generator Loss: 12.0615 \n",
            "Epoch: 145/150 Discriminator Loss: 0.1118 Generator Loss: 11.1874 \n",
            "Epoch: 146/150 Discriminator Loss: 0.1001 Generator Loss: 15.7761 \n",
            "Epoch: 147/150 Discriminator Loss: 0.1140 Generator Loss: 9.5376 \n",
            "Epoch: 148/150 Discriminator Loss: 0.0984 Generator Loss: 17.7039 \n",
            "Epoch: 149/150 Discriminator Loss: 0.1038 Generator Loss: 16.2202 \n",
            "Epoch: 150/150 Discriminator Loss: 0.1089 Generator Loss: 9.7676 \n"
          ]
        }
      ]
    },
    {
      "cell_type": "code",
      "source": [
        "losses = np.array(losses)\n",
        "\n",
        "fig, ax = plt.subplots()\n",
        "plt.plot(losses.T[0], label='Discriminator')\n",
        "plt.plot(losses.T[1], label='Generator')\n",
        "plt.title(\"Training Losses\")\n",
        "plt.legend()\n",
        "plt.show()"
      ],
      "metadata": {
        "colab": {
          "base_uri": "https://localhost:8080/",
          "height": 281
        },
        "id": "j9SxzBMk6NWq",
        "outputId": "ed538679-da97-4b66-e17f-dd3b9948b003"
      },
      "execution_count": 26,
      "outputs": [
        {
          "output_type": "display_data",
          "data": {
            "image/png": "[encoded data removed]",
            "text/plain": [
              "<Figure size 432x288 with 1 Axes>"
            ]
          },
          "metadata": {
            "needs_background": "light"
          }
        }
      ]
    },
    {
      "cell_type": "code",
      "source": [
        "rr = discriminator.predict_on_batch(X_test_real)"
      ],
      "metadata": {
        "id": "zXXEOVwV6PIA"
      },
      "execution_count": 27,
      "outputs": []
    },
    {
      "cell_type": "code",
      "source": [
        "import keras\n",
        "#import keras_metrics\n",
        "\n",
        "r = tf.keras.metrics.Recall()#thresholds=rr.min())\n",
        "r.update_state(y_test,rr )\n",
        "r.result().numpy()\n"
      ],
      "metadata": {
        "colab": {
          "base_uri": "https://localhost:8080/"
        },
        "id": "XLluSyTA6Q8F",
        "outputId": "a94711ed-1e65-419a-e09b-021db3eb4cdb"
      },
      "execution_count": 28,
      "outputs": [
        {
          "output_type": "execute_result",
          "data": {
            "text/plain": [
              "1.0"
            ]
          },
          "metadata": {},
          "execution_count": 28
        }
      ]
    },
    {
      "cell_type": "code",
      "source": [
        "p=tf.keras.metrics.Precision()#thresholds=rr.min())\n",
        "p.update_state(y_test,rr )\n",
        "p.result().numpy()"
      ],
      "metadata": {
        "colab": {
          "base_uri": "https://localhost:8080/"
        },
        "id": "HjPrcKZp6SRd",
        "outputId": "8c3fcab8-2882-442e-a18c-726af5abb3a3"
      },
      "execution_count": 29,
      "outputs": [
        {
          "output_type": "execute_result",
          "data": {
            "text/plain": [
              "0.9913333"
            ]
          },
          "metadata": {},
          "execution_count": 29
        }
      ]
    }
  ]
}