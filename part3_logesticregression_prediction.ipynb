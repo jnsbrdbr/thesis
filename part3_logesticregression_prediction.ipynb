{
  "cells": [
    {
      "cell_type": "markdown",
      "metadata": {
        "id": "view-in-github",
        "colab_type": "text"
      },
      "source": [
        "<a href=\"https://colab.research.google.com/github/jnsbrdbr/thesis/blob/thesis/part3_logesticregression_prediction.ipynb\" target=\"_parent\"><img src=\"https://colab.research.google.com/assets/colab-badge.svg\" alt=\"Open In Colab\"/></a>"
      ]
    },
    {
      "cell_type": "code",
      "execution_count": 1,
      "metadata": {
        "id": "ow-ojNMP9r-W"
      },
      "outputs": [],
      "source": [
        "import numpy as np\n",
        "import pandas as pd\n",
        "import seaborn as sns\n",
        "import matplotlib.pyplot as plt\n",
        "\n",
        "from sklearn.metrics import jaccard_score\n",
        "from scipy.spatial.distance import pdist, squareform"
      ]
    },
    {
      "cell_type": "code",
      "execution_count": 2,
      "metadata": {
        "colab": {
          "base_uri": "https://localhost:8080/"
        },
        "id": "HHnC-lHa9rvk",
        "outputId": "236e0989-c49f-4a4d-cc5a-4731b0b76e78"
      },
      "outputs": [
        {
          "output_type": "stream",
          "name": "stdout",
          "text": [
            "Drive already mounted at /content/drive; to attempt to forcibly remount, call drive.mount(\"/content/drive\", force_remount=True).\n"
          ]
        }
      ],
      "source": [
        "from google.colab import drive\n",
        "drive.mount('/content/drive') "
      ]
    },
    {
      "cell_type": "code",
      "execution_count": 3,
      "metadata": {
        "id": "sBeI3CEZ9Lgx"
      },
      "outputs": [],
      "source": [
        "with pd.HDFStore('/content/drive/MyDrive/1000/part2_result',  mode='r') as newstore:\n",
        "    result = newstore.select('result')"
      ]
    },
    {
      "cell_type": "code",
      "execution_count": 4,
      "metadata": {
        "colab": {
          "base_uri": "https://localhost:8080/"
        },
        "id": "7ek_16OE-SE5",
        "outputId": "18dc02ef-976a-4f71-b69c-44d6c528f9ea"
      },
      "outputs": [
        {
          "output_type": "stream",
          "name": "stdout",
          "text": [
            "             0         1         2  ...         8         9  label\n",
            "0    -1.680599 -3.061217 -0.040984  ... -0.006112 -0.004759      1\n",
            "1    -1.680599 -3.061217 -0.040984  ... -0.006112 -0.004759      1\n",
            "2    -1.680599 -3.061217 -0.040984  ... -0.006112 -0.004759      1\n",
            "3    -1.680599 -3.061217 -0.040984  ... -0.006112 -0.004759      1\n",
            "4    -1.680599 -3.061217 -0.040984  ...  0.006186  0.002988      1\n",
            "...        ...       ...       ...  ...       ...       ...    ...\n",
            "1315 -1.680599 -3.061217 -0.040984  ... -0.035323 -0.015205      0\n",
            "1316 -1.680599 -3.061217 -0.040984  ... -0.012077 -0.016767      0\n",
            "1317 -1.680599 -3.061217 -0.040984  ... -0.011761 -0.013474      0\n",
            "1318 -1.680599 -3.061217 -0.040984  ...  0.004503  0.113459      0\n",
            "1319 -1.680599 -3.061217 -0.040984  ... -0.022880  0.001418      0\n",
            "\n",
            "[1320 rows x 71 columns]\n"
          ]
        }
      ],
      "source": [
        "#final data\n",
        "print(result)"
      ]
    },
    {
      "cell_type": "markdown",
      "metadata": {
        "id": "pHFAv3mYWkfy"
      },
      "source": [
        "# **logestic** **regression**"
      ]
    },
    {
      "cell_type": "code",
      "execution_count": 5,
      "metadata": {
        "id": "YBqhF2LdjOW6"
      },
      "outputs": [],
      "source": [
        "#divide data in to data_label and non_data label\n",
        "\n",
        "import copy\n",
        "result_nonlabel=copy.deepcopy(result)\n",
        "del result_nonlabel['label']\n",
        "X=result_nonlabel\n",
        "y=result.label"
      ]
    },
    {
      "cell_type": "code",
      "execution_count": 6,
      "metadata": {
        "id": "MT1dmoumDAhr"
      },
      "outputs": [],
      "source": [
        "#splitting data in to test and train...\n",
        "\n",
        "from sklearn.model_selection import train_test_split\n",
        "x_train, x_test, y_train, y_test = train_test_split(X, y, test_size=0.25,\n",
        "                                                    random_state=42)"
      ]
    },
    {
      "cell_type": "code",
      "execution_count": 7,
      "metadata": {
        "colab": {
          "base_uri": "https://localhost:8080/"
        },
        "id": "2Z3TwqtN0GOr",
        "outputId": "db0f205f-0dda-4a75-ef30-77455967f7d3"
      },
      "outputs": [
        {
          "output_type": "execute_result",
          "data": {
            "text/plain": [
              "LogisticRegression(max_iter=10000)"
            ]
          },
          "metadata": {},
          "execution_count": 7
        }
      ],
      "source": [
        "#train the data\n",
        "\n",
        "from sklearn.linear_model import LogisticRegression\n",
        "\n",
        "logisticRegr = LogisticRegression(max_iter=10000)\n",
        "logisticRegr.fit(x_train, y_train)"
      ]
    },
    {
      "cell_type": "code",
      "execution_count": 8,
      "metadata": {
        "colab": {
          "base_uri": "https://localhost:8080/"
        },
        "id": "cPfSV0_llevY",
        "outputId": "98ee655d-f6f5-4d49-fe58-f3b0b827ab15"
      },
      "outputs": [
        {
          "output_type": "stream",
          "name": "stdout",
          "text": [
            "0.996969696969697\n"
          ]
        }
      ],
      "source": [
        "#score of data by prediction at once\n",
        "\n",
        "predictions = logisticRegr.predict(x_test)\n",
        "score = logisticRegr.score(x_test, y_test)\n",
        "print(score)"
      ]
    },
    {
      "cell_type": "code",
      "execution_count": 9,
      "metadata": {
        "colab": {
          "base_uri": "https://localhost:8080/",
          "height": 297
        },
        "id": "34NgzA3RnUTu",
        "outputId": "726c2a5a-f6b3-4c9a-ec75-f3de06f9279b"
      },
      "outputs": [
        {
          "output_type": "execute_result",
          "data": {
            "text/plain": [
              "<matplotlib.axes._subplots.AxesSubplot at 0x7fdc0b888a50>"
            ]
          },
          "metadata": {},
          "execution_count": 9
        },
        {
          "output_type": "display_data",
          "data": {
            "image/png": "[encoded data removed]",
            "text/plain": [
              "<Figure size 432x288 with 2 Axes>"
            ]
          },
          "metadata": {
            "needs_background": "light"
          }
        }
      ],
      "source": [
        "#plotting confusion_matrix\n",
        "\n",
        "import matplotlib.pyplot as plt\n",
        "import seaborn as sns\n",
        "from sklearn import metrics\n",
        "\n",
        "confusion_matrix = pd.crosstab(y_test, predictions, rownames=['Actual'], colnames=['Predicted'])\n",
        "sns.heatmap(confusion_matrix, annot=True)"
      ]
    },
    {
      "cell_type": "code",
      "execution_count": 10,
      "metadata": {
        "colab": {
          "base_uri": "https://localhost:8080/"
        },
        "id": "tndK99IJnepn",
        "outputId": "57e80e8c-2cd9-4a77-afa9-1ef5becc3825"
      },
      "outputs": [
        {
          "output_type": "stream",
          "name": "stdout",
          "text": [
            "Accuracy:  0.996969696969697\n"
          ]
        }
      ],
      "source": [
        "#Accuracy by prediction in once\n",
        "\n",
        "print('Accuracy: ',metrics.accuracy_score(y_test, predictions))"
      ]
    },
    {
      "cell_type": "code",
      "source": [
        "from sklearn.metrics import confusion_matrix\n",
        "\n",
        "tn, fp, fn, tp = confusion_matrix(y_test, predictions).ravel()\n",
        "print(f'True Positives: {tp}')\n",
        "print(f'False Positives: {fp}')\n",
        "print(f'True Negatives: {tn}')\n",
        "print(f'False Negatives: {fn}')"
      ],
      "metadata": {
        "colab": {
          "base_uri": "https://localhost:8080/"
        },
        "id": "VFzJ2zkhsO_l",
        "outputId": "d68d9ffe-5544-4bd6-a419-5b2da51124e2"
      },
      "execution_count": 11,
      "outputs": [
        {
          "output_type": "stream",
          "name": "stdout",
          "text": [
            "True Positives: 248\n",
            "False Positives: 1\n",
            "True Negatives: 81\n",
            "False Negatives: 0\n"
          ]
        }
      ]
    },
    {
      "cell_type": "code",
      "execution_count": 17,
      "metadata": {
        "colab": {
          "base_uri": "https://localhost:8080/"
        },
        "id": "xwpn5lEn0Ltr",
        "outputId": "00ce42f1-117c-424f-ab23-2d2810948468"
      },
      "outputs": [
        {
          "output_type": "stream",
          "name": "stdout",
          "text": [
            "Accuracy: 0.992 (0.008)\n"
          ]
        }
      ],
      "source": [
        "#cross_validation and accracy\n",
        "\n",
        "from numpy import mean\n",
        "from numpy import std\n",
        "from sklearn.model_selection import KFold\n",
        "from sklearn.model_selection import cross_val_score\n",
        "\n",
        "cv = KFold(n_splits=10, shuffle=True)#, random_state=42\n",
        "scores = cross_val_score(logisticRegr, X, y, scoring='accuracy', cv=cv,n_jobs=-1)\n",
        "\n",
        "print('Accuracy: %.3f (%.3f)' % (mean(scores), std(scores)))"
      ]
    },
    {
      "cell_type": "code",
      "execution_count": 13,
      "metadata": {
        "colab": {
          "base_uri": "https://localhost:8080/"
        },
        "id": "1j-60Q7mFSlT",
        "outputId": "4b657a04-bf7f-44fe-e415-af8e5068a1d5"
      },
      "outputs": [
        {
          "output_type": "stream",
          "name": "stdout",
          "text": [
            "scores_recall: 0.764 (0.396)\n"
          ]
        }
      ],
      "source": [
        "#recall\n",
        "\n",
        "from numpy import mean\n",
        "from numpy import std\n",
        "from sklearn.model_selection import KFold\n",
        "from sklearn.model_selection import cross_val_score,cross_val_predict\n",
        "\n",
        "\n",
        "cv = KFold(n_splits=10)#, shuffle=True, random_state=42\n",
        "scores_recall = cross_val_score(logisticRegr,X, y, scoring='recall', cv=cv,n_jobs=-1)\n",
        "\n",
        "print('scores_recall: %.3f (%.3f)' % (mean(scores_recall), std(scores_recall)))"
      ]
    },
    {
      "cell_type": "code",
      "execution_count": 14,
      "metadata": {
        "colab": {
          "base_uri": "https://localhost:8080/"
        },
        "id": "d_R5SCwRLE2J",
        "outputId": "56c2a476-1665-4951-a379-31c5626dabce"
      },
      "outputs": [
        {
          "output_type": "stream",
          "name": "stdout",
          "text": [
            "scores_precision: 0.788 (0.394)\n"
          ]
        }
      ],
      "source": [
        "#precision\n",
        "\n",
        "from numpy import mean\n",
        "from numpy import std\n",
        "from sklearn.model_selection import KFold\n",
        "from sklearn.model_selection import cross_val_score\n",
        "\n",
        "\n",
        "cv = KFold(n_splits=10)#, shuffle=True, random_state=42\n",
        "scores_precision = cross_val_score(logisticRegr, X, y, scoring='precision', cv=cv,n_jobs=-1)\n",
        "\n",
        "print('scores_precision: %.3f (%.3f)' % (mean(scores_precision), std(scores_precision)))"
      ]
    },
    {
      "cell_type": "code",
      "source": [
        "from sklearn.datasets import make_classification\n",
        "from sklearn.linear_model import LogisticRegression\n",
        "from sklearn.model_selection import train_test_split\n",
        "from matplotlib import pyplot\n",
        "from sklearn.metrics import roc_auc_score\n",
        "from sklearn.metrics import roc_curve\n",
        "\n",
        "\n",
        "logisticRegr = LogisticRegression(max_iter=10000)\n",
        "logisticRegr.fit(x_train, y_train)\n",
        "yhat = logisticRegr.predict_proba(x_test)\n",
        "pos_probs = yhat[:, 1]\n",
        "pyplot.plot([0, 1], [0, 1], linestyle='--')\n",
        "fpr, tpr, _ = roc_curve(y_test, pos_probs)\n",
        "pyplot.plot(fpr, tpr, marker='.', label='rbf')\n",
        "pyplot.xlabel('False Positive Rate')\n",
        "pyplot.ylabel('True Positive Rate')\n",
        "pyplot.legend()\n",
        "pyplot.show()\n",
        "roc_auc = roc_auc_score(y_test, yhat[:, 1])\n",
        "print('\\n','Logistic ROC AUC %.3f' % roc_auc)"
      ],
      "metadata": {
        "colab": {
          "base_uri": "https://localhost:8080/",
          "height": 316
        },
        "id": "7kK5rByK7Hot",
        "outputId": "00cf5f56-80b7-4681-9745-21aa9ad17527"
      },
      "execution_count": 15,
      "outputs": [
        {
          "output_type": "display_data",
          "data": {
            "image/png": "[encoded data removed]",
            "text/plain": [
              "<Figure size 432x288 with 1 Axes>"
            ]
          },
          "metadata": {
            "needs_background": "light"
          }
        },
        {
          "output_type": "stream",
          "name": "stdout",
          "text": [
            "\n",
            " Logistic ROC AUC 1.000\n"
          ]
        }
      ]
    },
    {
      "cell_type": "code",
      "source": [
        "#Importing required libraries\n",
        "from sklearn.model_selection import KFold \n",
        "from sklearn.datasets import load_breast_cancer\n",
        "from sklearn.linear_model import LogisticRegression\n",
        "from sklearn.metrics import accuracy_score\n",
        "from sklearn.metrics import confusion_matrix\n",
        " \n",
        "#data = load_breast_cancer(as_frame = True)\n",
        "#df = result.frame\n",
        "#X = result.iloc[:,:-1]\n",
        "#y = result.iloc[:,-1]\n",
        " \n",
        "#Implementing cross validation\n",
        " \n",
        "#X = X.sample(frac = 1)\n",
        "#y= y.sample(frac = 1)\n",
        "kf = KFold(n_splits=10)#, random_state=None\n",
        "model = LogisticRegression(max_iter=1000000)#(solver= 'liblinear')\n",
        " \n",
        "acc_score = list()\n",
        "res_tpr = list()\n",
        "res_fpr = list()\n",
        "for train_index , test_index in kf.split(X):\n",
        "    #X_train , X_test = X.iloc[train_index,:],X.iloc[test_index,:]\n",
        "    #y_train , y_test = y[train_index] , y[test_index]\n",
        "    X_train, X_test, y_train, y_test = train_test_split(X, y, test_size=0.3)\n",
        "    model.fit(X_train,y_train)\n",
        "    pred_values = model.predict(X_test)\n",
        "    tn, fp, fn, tp = confusion_matrix(y_test, pred_values, labels=[0, 1]).ravel()\n",
        "    print(f'True Positives: {tp}')\n",
        "    print(f'False Positives: {fp}')\n",
        "    print(f'True Negatives: {tn}')\n",
        "    print(f'False Negatives: {fn}')\n",
        "    tpr=(np.divide(tp,(tp+fn)))\n",
        "    fpr=(np.divide(fp,(fp+tn)))\n",
        "    if tp==0:\n",
        "      tpr=0\n",
        "    if fp==0:\n",
        "      fpr=0\n",
        "\n",
        "    print('tpr=%.4f fpr=%.3f' % ( mean(tpr), mean(fpr)))\n",
        "    print('x')\n",
        "    res_tpr.append(mean(tpr))\n",
        "    res_fpr.append(mean(fpr))\n",
        "    print('---------------------')\n",
        "\n",
        "    acc = accuracy_score(pred_values , y_test)\n",
        "    acc_score.append(acc)\n",
        "     \n",
        "avg_acc_score = np.sum(acc_score)/10\n",
        "total_tpr=np.sum(res_tpr)/10\n",
        "total_fpr=np.sum(res_fpr)/10\n",
        "print('\\n\\n',' total_tpr=%.4f total_fpr=%.3f' % (total_tpr,total_fpr))\n",
        "#print('\\n\\n','accuracy of each fold - {}'.format(acc_score))\n",
        "print('\\n\\n','Avg accuracy : {}'.format(avg_acc_score))"
      ],
      "metadata": {
        "colab": {
          "base_uri": "https://localhost:8080/"
        },
        "id": "boR6aVribuHU",
        "outputId": "87b0a457-dde4-4fc9-9f7a-c9ae8cad3362"
      },
      "execution_count": 16,
      "outputs": [
        {
          "output_type": "stream",
          "name": "stdout",
          "text": [
            "True Positives: 284\n",
            "False Positives: 4\n",
            "True Negatives: 108\n",
            "False Negatives: 0\n",
            "tpr=1.0000 fpr=0.036\n",
            "x\n",
            "---------------------\n",
            "True Positives: 305\n",
            "False Positives: 4\n",
            "True Negatives: 87\n",
            "False Negatives: 0\n",
            "tpr=1.0000 fpr=0.044\n",
            "x\n",
            "---------------------\n",
            "True Positives: 285\n",
            "False Positives: 4\n",
            "True Negatives: 107\n",
            "False Negatives: 0\n",
            "tpr=1.0000 fpr=0.036\n",
            "x\n",
            "---------------------\n",
            "True Positives: 295\n",
            "False Positives: 5\n",
            "True Negatives: 95\n",
            "False Negatives: 1\n",
            "tpr=0.9966 fpr=0.050\n",
            "x\n",
            "---------------------\n",
            "True Positives: 294\n",
            "False Positives: 6\n",
            "True Negatives: 96\n",
            "False Negatives: 0\n",
            "tpr=1.0000 fpr=0.059\n",
            "x\n",
            "---------------------\n",
            "True Positives: 295\n",
            "False Positives: 7\n",
            "True Negatives: 94\n",
            "False Negatives: 0\n",
            "tpr=1.0000 fpr=0.069\n",
            "x\n",
            "---------------------\n",
            "True Positives: 289\n",
            "False Positives: 4\n",
            "True Negatives: 103\n",
            "False Negatives: 0\n",
            "tpr=1.0000 fpr=0.037\n",
            "x\n",
            "---------------------\n",
            "True Positives: 300\n",
            "False Positives: 2\n",
            "True Negatives: 93\n",
            "False Negatives: 1\n",
            "tpr=0.9967 fpr=0.021\n",
            "x\n",
            "---------------------\n",
            "True Positives: 298\n",
            "False Positives: 7\n",
            "True Negatives: 91\n",
            "False Negatives: 0\n",
            "tpr=1.0000 fpr=0.071\n",
            "x\n",
            "---------------------\n",
            "True Positives: 293\n",
            "False Positives: 0\n",
            "True Negatives: 102\n",
            "False Negatives: 1\n",
            "tpr=0.9966 fpr=0.000\n",
            "x\n",
            "---------------------\n",
            "\n",
            "\n",
            "  total_tpr=0.9990 total_fpr=0.042\n",
            "\n",
            "\n",
            " Avg accuracy : 0.9883838383838384\n"
          ]
        }
      ]
    }
  ],
  "metadata": {
    "colab": {
      "collapsed_sections": [],
      "name": "part3/logesticregression/prediction.ipynb",
      "provenance": [],
      "include_colab_link": true
    },
    "kernelspec": {
      "display_name": "Python 3",
      "name": "python3"
    },
    "language_info": {
      "name": "python"
    }
  },
  "nbformat": 4,
  "nbformat_minor": 0
}