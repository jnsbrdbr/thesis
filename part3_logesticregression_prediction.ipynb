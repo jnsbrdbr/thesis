{
  "cells": [
    {
      "cell_type": "markdown",
      "metadata": {
        "id": "view-in-github",
        "colab_type": "text"
      },
      "source": [
        "<a href=\"https://colab.research.google.com/github/jnsbrdbr/thesis/blob/thesis/part3_logesticregression_prediction.ipynb\" target=\"_parent\"><img src=\"https://colab.research.google.com/assets/colab-badge.svg\" alt=\"Open In Colab\"/></a>"
      ]
    },
    {
      "cell_type": "code",
      "execution_count": 1,
      "metadata": {
        "id": "ow-ojNMP9r-W"
      },
      "outputs": [],
      "source": [
        "import numpy as np\n",
        "import pandas as pd\n",
        "import seaborn as sns\n",
        "import matplotlib.pyplot as plt\n",
        "\n",
        "from sklearn.metrics import jaccard_score\n",
        "from scipy.spatial.distance import pdist, squareform"
      ]
    },
    {
      "cell_type": "code",
      "execution_count": 2,
      "metadata": {
        "colab": {
          "base_uri": "https://localhost:8080/"
        },
        "id": "HHnC-lHa9rvk",
        "outputId": "e32f3427-c292-4993-b5c1-0564f84cf2da"
      },
      "outputs": [
        {
          "output_type": "stream",
          "name": "stdout",
          "text": [
            "Drive already mounted at /content/drive; to attempt to forcibly remount, call drive.mount(\"/content/drive\", force_remount=True).\n"
          ]
        }
      ],
      "source": [
        "from google.colab import drive\n",
        "drive.mount('/content/drive') "
      ]
    },
    {
      "cell_type": "code",
      "execution_count": 3,
      "metadata": {
        "id": "sBeI3CEZ9Lgx"
      },
      "outputs": [],
      "source": [
        "with pd.HDFStore('/content/drive/MyDrive/1000/part2_result',  mode='r') as newstore:\n",
        "    result = newstore.select('result')"
      ]
    },
    {
      "cell_type": "code",
      "execution_count": 4,
      "metadata": {
        "colab": {
          "base_uri": "https://localhost:8080/"
        },
        "id": "7ek_16OE-SE5",
        "outputId": "14a6fd6e-5b01-4551-dabe-6f958b38e9e0"
      },
      "outputs": [
        {
          "output_type": "stream",
          "name": "stdout",
          "text": [
            "             0         1         2  ...         8         9  label\n",
            "0    -1.680599 -3.061217 -0.040984  ... -0.006112 -0.004759      1\n",
            "1    -1.680599 -3.061217 -0.040984  ... -0.006112 -0.004759      1\n",
            "2    -1.680599 -3.061217 -0.040984  ... -0.006112 -0.004759      1\n",
            "3    -1.680599 -3.061217 -0.040984  ... -0.006112 -0.004759      1\n",
            "4    -1.680599 -3.061217 -0.040984  ...  0.006186  0.002988      1\n",
            "...        ...       ...       ...  ...       ...       ...    ...\n",
            "1315 -1.680599 -3.061217 -0.040984  ... -0.035323 -0.015205      0\n",
            "1316 -1.680599 -3.061217 -0.040984  ... -0.012077 -0.016767      0\n",
            "1317 -1.680599 -3.061217 -0.040984  ... -0.011761 -0.013474      0\n",
            "1318 -1.680599 -3.061217 -0.040984  ...  0.004503  0.113459      0\n",
            "1319 -1.680599 -3.061217 -0.040984  ... -0.022880  0.001418      0\n",
            "\n",
            "[1320 rows x 71 columns]\n"
          ]
        }
      ],
      "source": [
        "#final data\n",
        "print(result)"
      ]
    },
    {
      "cell_type": "markdown",
      "metadata": {
        "id": "pHFAv3mYWkfy"
      },
      "source": [
        "# **logestic** **regression**"
      ]
    },
    {
      "cell_type": "code",
      "execution_count": 5,
      "metadata": {
        "id": "YBqhF2LdjOW6"
      },
      "outputs": [],
      "source": [
        "#divide data in to data_label and non_data label\n",
        "\n",
        "import copy\n",
        "result_nonlabel=copy.deepcopy(result)\n",
        "del result_nonlabel['label']\n",
        "X=result_nonlabel\n",
        "y=result.label"
      ]
    },
    {
      "cell_type": "code",
      "execution_count": 6,
      "metadata": {
        "id": "MT1dmoumDAhr"
      },
      "outputs": [],
      "source": [
        "#splitting data in to test and train...\n",
        "\n",
        "from sklearn.model_selection import train_test_split\n",
        "x_train, x_test, y_train, y_test = train_test_split(X, y, test_size=0.3,\n",
        "                                                    random_state=42)"
      ]
    },
    {
      "cell_type": "code",
      "execution_count": 7,
      "metadata": {
        "colab": {
          "base_uri": "https://localhost:8080/"
        },
        "id": "2Z3TwqtN0GOr",
        "outputId": "ccb10370-144f-4472-c6ce-88fe5d796596"
      },
      "outputs": [
        {
          "output_type": "execute_result",
          "data": {
            "text/plain": [
              "LogisticRegression(max_iter=10000)"
            ]
          },
          "metadata": {},
          "execution_count": 7
        }
      ],
      "source": [
        "#train the data\n",
        "\n",
        "from sklearn.linear_model import LogisticRegression\n",
        "logisticRegr = LogisticRegression(max_iter=10000)\n",
        "logisticRegr.fit(x_train, y_train)"
      ]
    },
    {
      "cell_type": "code",
      "execution_count": 8,
      "metadata": {
        "colab": {
          "base_uri": "https://localhost:8080/"
        },
        "id": "cPfSV0_llevY",
        "outputId": "1b75599b-2e02-4c42-858a-2920bf9aaaae"
      },
      "outputs": [
        {
          "output_type": "stream",
          "name": "stdout",
          "text": [
            "0.9974747474747475\n"
          ]
        }
      ],
      "source": [
        "#score of data by prediction at once\n",
        "\n",
        "predictions = logisticRegr.predict(x_test)\n",
        "score = logisticRegr.score(x_test, y_test)\n",
        "print(score)"
      ]
    },
    {
      "cell_type": "code",
      "execution_count": 9,
      "metadata": {
        "colab": {
          "base_uri": "https://localhost:8080/",
          "height": 301
        },
        "id": "34NgzA3RnUTu",
        "outputId": "e1cdfaba-a901-42bb-a84f-5e14f1e379e2"
      },
      "outputs": [
        {
          "output_type": "execute_result",
          "data": {
            "text/plain": [
              "<matplotlib.axes._subplots.AxesSubplot at 0x7fa46f002c10>"
            ]
          },
          "metadata": {},
          "execution_count": 9
        },
        {
          "output_type": "display_data",
          "data": {
            "image/png": "[encoded data removed]",
            "text/plain": [
              "<Figure size 432x288 with 2 Axes>"
            ]
          },
          "metadata": {
            "needs_background": "light"
          }
        }
      ],
      "source": [
        "#plotting confusion_matrix\n",
        "\n",
        "import matplotlib.pyplot as plt\n",
        "import seaborn as sns\n",
        "from sklearn import metrics\n",
        "\n",
        "confusion_matrix = pd.crosstab(y_test, predictions, rownames=['Actual'], colnames=['Predicted'])\n",
        "sns.heatmap(confusion_matrix, annot=True)"
      ]
    },
    {
      "cell_type": "code",
      "execution_count": 10,
      "metadata": {
        "colab": {
          "base_uri": "https://localhost:8080/"
        },
        "id": "tndK99IJnepn",
        "outputId": "64066209-6879-4dd1-b7b0-04865a869582"
      },
      "outputs": [
        {
          "output_type": "stream",
          "name": "stdout",
          "text": [
            "Accuracy:  0.9974747474747475\n"
          ]
        }
      ],
      "source": [
        "#Accuracy by prediction in once\n",
        "\n",
        "print('Accuracy: ',metrics.accuracy_score(y_test, predictions))\n"
      ]
    },
    {
      "cell_type": "code",
      "execution_count": 11,
      "metadata": {
        "colab": {
          "base_uri": "https://localhost:8080/"
        },
        "id": "xwpn5lEn0Ltr",
        "outputId": "cb4d5a23-0fcb-4a2d-ae97-ce84c16ba2b5"
      },
      "outputs": [
        {
          "output_type": "stream",
          "name": "stdout",
          "text": [
            "Accuracy: 0.956 (0.105)\n"
          ]
        }
      ],
      "source": [
        "#cross_validation and accracy\n",
        "\n",
        "from numpy import mean\n",
        "from numpy import std\n",
        "from sklearn.model_selection import KFold\n",
        "from sklearn.model_selection import cross_val_score\n",
        "\n",
        "\n",
        "cv = KFold(n_splits=10)#, shuffle=True, random_state=42\n",
        "scores = cross_val_score(logisticRegr, X, y, scoring='accuracy', cv=cv,n_jobs=-1)\n",
        "\n",
        "print('Accuracy: %.3f (%.3f)' % (mean(scores), std(scores)))"
      ]
    },
    {
      "cell_type": "code",
      "execution_count": 12,
      "metadata": {
        "colab": {
          "base_uri": "https://localhost:8080/"
        },
        "id": "1j-60Q7mFSlT",
        "outputId": "6a249706-e5b5-4f99-ff6f-fbced6f263fc"
      },
      "outputs": [
        {
          "output_type": "stream",
          "name": "stdout",
          "text": [
            "scores_recall: 0.764 (0.396)\n"
          ]
        }
      ],
      "source": [
        "#recall\n",
        "\n",
        "from numpy import mean\n",
        "from numpy import std\n",
        "from sklearn.model_selection import KFold\n",
        "from sklearn.model_selection import cross_val_score,cross_val_predict\n",
        "\n",
        "\n",
        "cv = KFold(n_splits=10)#, shuffle=True, random_state=42\n",
        "scores_recall = cross_val_score(logisticRegr,X, y, scoring='recall', cv=cv,n_jobs=-1)\n",
        "\n",
        "print('scores_recall: %.3f (%.3f)' % (mean(scores_recall), std(scores_recall)))"
      ]
    },
    {
      "cell_type": "code",
      "execution_count": 13,
      "metadata": {
        "colab": {
          "base_uri": "https://localhost:8080/"
        },
        "id": "d_R5SCwRLE2J",
        "outputId": "8aa99903-ae9c-44ca-96f7-cdec7d4c9a08"
      },
      "outputs": [
        {
          "output_type": "stream",
          "name": "stdout",
          "text": [
            "scores_precision: 0.788 (0.394)\n"
          ]
        }
      ],
      "source": [
        "#precision\n",
        "\n",
        "from numpy import mean\n",
        "from numpy import std\n",
        "from sklearn.model_selection import KFold\n",
        "from sklearn.model_selection import cross_val_score\n",
        "\n",
        "\n",
        "cv = KFold(n_splits=10)#, shuffle=True, random_state=42\n",
        "scores_precision = cross_val_score(logisticRegr, X, y, scoring='precision', cv=cv,n_jobs=-1)\n",
        "\n",
        "print('scores_precision: %.3f (%.3f)' % (mean(scores_precision), std(scores_precision)))"
      ]
    },
    {
      "cell_type": "code",
      "execution_count": 17,
      "metadata": {
        "colab": {
          "base_uri": "https://localhost:8080/",
          "height": 336
        },
        "id": "NHLT6w4SgvDN",
        "outputId": "03d843b9-de16-44e7-c894-4960412eb767"
      },
      "outputs": [
        {
          "output_type": "display_data",
          "data": {
            "image/png": "[encoded data removed]",
            "text/plain": [
              "<Figure size 432x288 with 1 Axes>"
            ]
          },
          "metadata": {
            "needs_background": "light"
          }
        },
        {
          "output_type": "stream",
          "name": "stdout",
          "text": [
            "\n",
            " roc_auc_score is:\n"
          ]
        },
        {
          "output_type": "execute_result",
          "data": {
            "text/plain": [
              "0.9890835277946489"
            ]
          },
          "metadata": {},
          "execution_count": 17
        }
      ],
      "source": [
        "#auc_roc figure\n",
        "\n",
        "import matplotlib.pyplot as plt\n",
        "from sklearn.metrics import roc_auc_score\n",
        "from sklearn.model_selection import KFold\n",
        "from sklearn.metrics import roc_curve\n",
        "\n",
        "\n",
        "kf = KFold(n_splits=10)\n",
        "\n",
        "tprs = []\n",
        "base_fpr = np.linspace(0, 1, 101)\n",
        "\n",
        "plt.figure(figsize=(6, 4))\n",
        "plt.axes().set_aspect('equal', 'datalim')\n",
        "\n",
        "for i, (train, test) in enumerate(cv.split(X, y)):\n",
        "    model = LogisticRegression(max_iter=10000).fit(x_train, y_train)\n",
        "    y_score = model.predict_proba(x_test)\n",
        "    fpr, tpr, _ = roc_curve(y_test, y_score[:, 1])\n",
        "\n",
        "    \n",
        "    plt.plot(fpr, tpr, 'b', alpha=0.15)\n",
        "    tpr = np.interp(base_fpr, fpr, tpr)\n",
        "    tpr[0] = 0.0\n",
        "    tprs.append(tpr)\n",
        "\n",
        "tprs = np.array(tprs)\n",
        "mean_tprs = tprs.mean(axis=0)\n",
        "std = tprs.std(axis=0)\n",
        "\n",
        "tprs_upper = np.minimum(mean_tprs + std, 1)\n",
        "tprs_lower = mean_tprs - std\n",
        "\n",
        "\n",
        "plt.plot(base_fpr, mean_tprs, 'b')\n",
        "plt.fill_between(base_fpr, tprs_lower, tprs_upper, color='grey', alpha=0.3)\n",
        "\n",
        "plt.plot([0, 1], [0, 1],'r--')\n",
        "plt.xlim([-0.01, 1.01])\n",
        "plt.ylim([-0.01, 1.01])\n",
        "plt.ylabel('True Positive Rate')\n",
        "plt.xlabel('False Positive Rate')\n",
        "plt.show()\n",
        "print('\\n','roc_auc_score is:')\n",
        "\n",
        "roc_auc_score(y_test, predictions)"
      ]
    },
    {
      "cell_type": "code",
      "execution_count": 15,
      "metadata": {
        "colab": {
          "base_uri": "https://localhost:8080/"
        },
        "id": "CSggCUiYj82q",
        "outputId": "b49d7c71-0e5d-491e-d291-a2dca851e11d"
      },
      "outputs": [
        {
          "output_type": "stream",
          "name": "stdout",
          "text": [
            "True Positives: 300\n",
            "False Positives: 1\n",
            "True Negatives: 95\n",
            "False Negatives: 0\n"
          ]
        }
      ],
      "source": [
        "from sklearn.metrics import confusion_matrix\n",
        "\n",
        "tn, fp, fn, tp = confusion_matrix(y_test, predictions).ravel()\n",
        "print(f'True Positives: {tp}')\n",
        "print(f'False Positives: {fp}')\n",
        "print(f'True Negatives: {tn}')\n",
        "print(f'False Negatives: {fn}')"
      ]
    },
    {
      "cell_type": "code",
      "execution_count": 16,
      "metadata": {
        "colab": {
          "base_uri": "https://localhost:8080/"
        },
        "id": "EifveFRlNmVf",
        "outputId": "92151191-8912-46db-fe89-3eea688350b8"
      },
      "outputs": [
        {
          "output_type": "stream",
          "name": "stdout",
          "text": [
            ">1 mean=0.9788 se=0.006\n",
            ">1 tpr=1.0000 fpr=0.069\n",
            "x\n",
            ">2 mean=0.9795 se=0.004\n",
            ">2 tpr=1.0000 fpr=0.050\n",
            "x\n",
            ">3 mean=0.9811 se=0.003\n",
            ">3 tpr=1.0000 fpr=0.027\n",
            "x\n",
            ">4 mean=0.9818 se=0.002\n",
            ">4 tpr=0.9967 fpr=0.075\n",
            "x\n",
            ">5 mean=0.9823 se=0.002\n",
            ">5 tpr=1.0000 fpr=0.062\n",
            "x\n",
            ">6 mean=0.9827 se=0.002\n",
            ">6 tpr=0.9966 fpr=0.020\n",
            "x\n",
            ">7 mean=0.9828 se=0.002\n",
            ">7 tpr=0.9967 fpr=0.032\n",
            "x\n",
            ">8 mean=0.9833 se=0.001\n",
            ">8 tpr=1.0000 fpr=0.021\n",
            "x\n",
            ">9 mean=0.9830 se=0.001\n",
            ">9 tpr=1.0000 fpr=0.072\n",
            "x\n",
            ">10 mean=0.9830 se=0.001\n",
            ">10 tpr=0.9965 fpr=0.018\n",
            "x\n",
            "\n",
            "\n",
            "  total_tpr=0.9987 total_fpr=0.045\n"
          ]
        }
      ],
      "source": [
        "#tpr_fpr\n",
        "\n",
        "\n",
        "from scipy.stats import sem\n",
        "from numpy import mean\n",
        "from numpy import std\n",
        "from sklearn.datasets import make_classification\n",
        "from sklearn.model_selection import RepeatedKFold\n",
        "from sklearn.model_selection import cross_val_score\n",
        "from sklearn.linear_model import LogisticRegression\n",
        "from matplotlib import pyplot\n",
        "\n",
        "def evaluate_model(X, y, repeats):\n",
        "  cv = RepeatedKFold(n_splits=10, n_repeats=repeats, random_state=1)#\n",
        "  model = LogisticRegression()\n",
        "  scores = cross_val_score(model, X, y, scoring='accuracy', cv=cv, n_jobs=-1)\n",
        "  return scores\n",
        "\n",
        "repeats = range(1,11)\n",
        "results = list()\n",
        "res_tpr = list()\n",
        "res_fpr = list()\n",
        "for r in repeats:\n",
        "  scores = evaluate_model(X, y, r)\n",
        "  print('>%d mean=%.4f se=%.3f' % (r, mean(scores), sem(scores)))\n",
        "  results.append(scores)\n",
        "  \n",
        "  x_train, x_test, y_train, y_test = train_test_split(X, y, test_size=0.3)\n",
        "  logisticRegr = LogisticRegression(max_iter=10000)\n",
        "  logisticRegr.fit(x_train, y_train)\n",
        "  predictions = logisticRegr.predict(x_test)\n",
        "  tn, fp, fn, tp = confusion_matrix(y_test, predictions).ravel()\n",
        "  tpr=(tp/(tp+fn))\n",
        "  fpr=(fp/(fp+tn))\n",
        "  print('>%d tpr=%.4f fpr=%.3f' % (r, mean(tpr), mean(fpr)))\n",
        "  print('x')\n",
        "  res_tpr.append(mean(tpr))\n",
        "  res_fpr.append(mean(fpr))\n",
        "\n",
        "total_tpr=sum(res_tpr)/10\n",
        "total_fpr=sum(res_fpr)/10\n",
        "print('\\n\\n',' total_tpr=%.4f total_fpr=%.3f' % (total_tpr,total_fpr))"
      ]
    }
  ],
  "metadata": {
    "colab": {
      "collapsed_sections": [],
      "name": "part3/logesticregression/prediction.ipynb",
      "provenance": [],
      "include_colab_link": true
    },
    "kernelspec": {
      "display_name": "Python 3",
      "name": "python3"
    },
    "language_info": {
      "name": "python"
    }
  },
  "nbformat": 4,
  "nbformat_minor": 0
}