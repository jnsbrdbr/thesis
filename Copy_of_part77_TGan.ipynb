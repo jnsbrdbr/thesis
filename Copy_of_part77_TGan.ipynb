{
  "cells": [
    {
      "cell_type": "markdown",
      "metadata": {
        "id": "view-in-github",
        "colab_type": "text"
      },
      "source": [
        "<a href=\"https://colab.research.google.com/github/jnsbrdbr/thesis/blob/thesis/Copy_of_part77_TGan.ipynb\" target=\"_parent\"><img src=\"https://colab.research.google.com/assets/colab-badge.svg\" alt=\"Open In Colab\"/></a>"
      ]
    },
    {
      "cell_type": "code",
      "execution_count": 1,
      "metadata": {
        "colab": {
          "base_uri": "https://localhost:8080/"
        },
        "id": "j70DTmCCYMm3",
        "outputId": "72cd55c8-16fa-4ded-ea3d-61c7db391bac"
      },
      "outputs": [
        {
          "output_type": "stream",
          "name": "stdout",
          "text": [
            "`%tensorflow_version` only switches the major version: 1.x or 2.x.\n",
            "You set: `2.x  # Colab only.`. This will be interpreted as: `2.x`.\n",
            "\n",
            "\n",
            "TensorFlow 2.x selected.\n",
            "2.8.0\n"
          ]
        }
      ],
      "source": [
        "# Install TensorFlow\n",
        "# !pip install -q tensorflow-gpu==2.0.0-rc0\n",
        "\n",
        "try:\n",
        "  %tensorflow_version 2.x  # Colab only.\n",
        "except Exception:\n",
        "  pass\n",
        "\n",
        "import tensorflow as tf\n",
        "print(tf.__version__)"
      ]
    },
    {
      "cell_type": "code",
      "execution_count": 2,
      "metadata": {
        "id": "7i01N6ZIYXzE"
      },
      "outputs": [],
      "source": [
        "import keras\n",
        "from keras.layers import Input, Dense, Activation, LeakyReLU, BatchNormalization\n",
        "from keras.models import Sequential\n",
        "from tensorflow.keras.optimizers import Adam\n",
        "from sklearn.model_selection import train_test_split\n",
        "from tensorflow.keras.models import Model\n",
        "import keras.backend as K\n",
        "import numpy as np\n",
        "import pandas as pd\n",
        "import matplotlib.pyplot as plt\n",
        "import sys, os\n",
        "\n",
        "%matplotlib inline"
      ]
    },
    {
      "cell_type": "code",
      "execution_count": 3,
      "metadata": {
        "colab": {
          "base_uri": "https://localhost:8080/"
        },
        "id": "ThkdPVsmYauJ",
        "outputId": "47e16771-624b-47cf-d9e2-60d7aab00991"
      },
      "outputs": [
        {
          "output_type": "stream",
          "name": "stdout",
          "text": [
            "Drive already mounted at /content/drive; to attempt to forcibly remount, call drive.mount(\"/content/drive\", force_remount=True).\n"
          ]
        }
      ],
      "source": [
        "from google.colab import drive\n",
        "drive.mount('/content/drive') "
      ]
    },
    {
      "cell_type": "code",
      "execution_count": 4,
      "metadata": {
        "colab": {
          "base_uri": "https://localhost:8080/"
        },
        "id": "5hfNf56TYyWQ",
        "outputId": "0882fe43-35f4-4f11-c28a-4b585863828f"
      },
      "outputs": [
        {
          "output_type": "stream",
          "name": "stdout",
          "text": [
            "Requirement already satisfied: pickle5 in /usr/local/lib/python3.7/dist-packages (0.0.12)\n"
          ]
        }
      ],
      "source": [
        "!pip3 install pickle5\n",
        "import pickle5 as pickle"
      ]
    },
    {
      "cell_type": "code",
      "execution_count": 5,
      "metadata": {
        "id": "Z2blfCcpYkug"
      },
      "outputs": [],
      "source": [
        "with open('/content/drive/MyDrive/10000/Tresult.pkl', \"rb\") as fh:\n",
        "  result = pickle.load(fh)"
      ]
    },
    {
      "cell_type": "code",
      "execution_count": 6,
      "metadata": {
        "id": "m0lk-Uz1Y2yl",
        "colab": {
          "base_uri": "https://localhost:8080/"
        },
        "outputId": "4cbf655e-fa53-4997-bfe2-3f41b0650e4d"
      },
      "outputs": [
        {
          "output_type": "stream",
          "name": "stdout",
          "text": [
            "              0         1          2         3         4         5         6  \\\n",
            "0     -2.231665 -3.223353  -0.847867 -0.985074 -0.787323 -0.987113 -0.438315   \n",
            "1     -2.231665 -3.223353  -0.847867 -0.985074 -0.787323 -0.987113 -0.438315   \n",
            "2     -2.231665 -3.223353  -0.847867 -0.985074 -0.787323 -0.987113 -0.438315   \n",
            "3     -2.231665 -3.223353  -0.847867 -0.985074 -0.787323 -0.987113 -0.438315   \n",
            "4     -2.231871 -3.223762  -0.848254 -0.985617 -0.787896 -0.987987 -0.439101   \n",
            "...         ...       ...        ...       ...       ...       ...       ...   \n",
            "13209 -2.231665 -3.223353  -0.847867 -0.985074 -0.787323 -0.987113 -0.438315   \n",
            "13210 -2.857167 -4.505172  18.597988  3.823025  1.277678  0.768726  0.145001   \n",
            "13211 -2.231665 -3.223353  -0.847867 -0.985074 -0.787323 -0.987113 -0.438315   \n",
            "13212 -2.231665 -3.223353  -0.847867 -0.985074 -0.787323 -0.987113 -0.438315   \n",
            "13213 -2.231665 -3.223353  -0.847867 -0.985074 -0.787323 -0.987113 -0.438315   \n",
            "\n",
            "              7         8         9  ...          1         2         3  \\\n",
            "0     -0.287633 -0.438922 -0.223313  ...   0.452139 -1.203407 -0.183899   \n",
            "1     -0.287633 -0.438922 -0.223313  ...   0.452139 -1.203407 -0.183899   \n",
            "2     -0.287633 -0.438922 -0.223313  ...   0.452139 -1.203407 -0.183899   \n",
            "3     -0.287633 -0.438922 -0.223313  ...   0.452139 -1.203407 -0.183899   \n",
            "4     -0.288391 -0.439995 -0.224429  ...  -7.508892  7.994602  0.226101   \n",
            "...         ...       ...       ...  ...        ...       ...       ...   \n",
            "13209 -0.287633 -0.438922 -0.223313  ...   1.554089 -4.346298  9.404540   \n",
            "13210  0.061502  0.087013  0.028165  ...   0.599942 -1.505019 -0.218230   \n",
            "13211 -0.287633 -0.438922 -0.223313  ...  -8.533632  9.178701  0.278730   \n",
            "13212 -0.287633 -0.438922 -0.223313  ...  -8.533631  9.178698  0.278730   \n",
            "13213 -0.287633 -0.438922 -0.223313  ... -11.890588  4.271539  0.100003   \n",
            "\n",
            "              4         5         6         7         8         9  label  \n",
            "0     -0.438911 -0.266164 -0.544673 -0.224884 -0.068575 -0.230930      1  \n",
            "1     -0.438911 -0.266164 -0.544673 -0.224884 -0.068575 -0.230930      1  \n",
            "2     -0.438911 -0.266164 -0.544673 -0.224884 -0.068575 -0.230930      1  \n",
            "3     -0.438911 -0.266164 -0.544673 -0.224884 -0.068575 -0.230930      1  \n",
            "4      0.991238  0.482262  0.829106  0.246306  0.048557  0.160622      1  \n",
            "...         ...       ...       ...       ...       ...       ...    ...  \n",
            "13209  4.676083  1.038614  1.272721  0.249463  0.046943  0.150109      0  \n",
            "13210 -0.586787 -0.370000 -0.787776 -0.380601 -0.129873 -0.451315      0  \n",
            "13211  1.177091  0.579516  1.007372  0.308708  0.063843  0.211098      0  \n",
            "13212  1.177090  0.579515  1.007370  0.308707  0.063843  0.211097      0  \n",
            "13213  0.324583  0.150424  0.249943  0.068055  0.013998  0.046459      0  \n",
            "\n",
            "[13214 rows x 101 columns]\n"
          ]
        }
      ],
      "source": [
        "#final data\n",
        "print(result)"
      ]
    },
    {
      "cell_type": "code",
      "execution_count": 7,
      "metadata": {
        "id": "QKmLf4jlY6LZ"
      },
      "outputs": [],
      "source": [
        "#divide data in to data_label and non_data label\n",
        "\n",
        "import copy\n",
        "result_nonlabel=copy.deepcopy(result)\n",
        "del result_nonlabel['label']\n",
        "X=result_nonlabel\n",
        "y=result.label"
      ]
    },
    {
      "cell_type": "code",
      "execution_count": 8,
      "metadata": {
        "id": "XqPz3htaY8ZG"
      },
      "outputs": [],
      "source": [
        "#splitting data in to test and train...\n",
        "\n",
        "from sklearn.model_selection import train_test_split\n",
        "X_train, X_test, y_train, y_test = train_test_split(X, y ,test_size=0.3,shuffle=True)#random_state=42,"
      ]
    },
    {
      "cell_type": "code",
      "execution_count": 9,
      "metadata": {
        "id": "vmtUmOHcY-ZD",
        "colab": {
          "base_uri": "https://localhost:8080/"
        },
        "outputId": "a5d18c3e-9982-4792-9f8e-7a5949b8fc17"
      },
      "outputs": [
        {
          "output_type": "stream",
          "name": "stdout",
          "text": [
            "shape of x_train is: (9249, 100)\n",
            "shape of x_test is: (3965, 100)\n"
          ]
        }
      ],
      "source": [
        "print('shape of x_train is:',X_train.shape)\n",
        "print('shape of x_test is:',X_test.shape)"
      ]
    },
    {
      "cell_type": "code",
      "execution_count": 10,
      "metadata": {
        "id": "4l1ZAOeBZGSw"
      },
      "outputs": [],
      "source": [
        "def make_latent_samples(n_samples, sample_size):\n",
        "    #return np.random.uniform(-1, 1, size=(n_samples, sample_size))\n",
        "    return np.random.normal(loc=0, scale=1, size=(n_samples, sample_size))"
      ]
    },
    {
      "cell_type": "code",
      "execution_count": 11,
      "metadata": {
        "id": "ekh00To4ZHnF",
        "colab": {
          "base_uri": "https://localhost:8080/"
        },
        "outputId": "399faf82-3eef-458d-e3fe-15b33dbd1827"
      },
      "outputs": [
        {
          "output_type": "execute_result",
          "data": {
            "text/plain": [
              "array([[-1.27657522,  0.51049224, -0.47126458, -0.75164893,  0.58305784,\n",
              "         0.89919813, -0.24374432, -1.09927159, -1.56062387,  0.01912442,\n",
              "         0.60233718, -1.85162867,  0.52114528, -1.55114682, -0.41925075,\n",
              "        -0.42047488, -1.72918189, -0.01072386,  2.32479548,  0.55887871,\n",
              "         2.69034238,  0.42052572,  2.05788254, -1.15634119,  0.71097346,\n",
              "        -0.29628243,  0.53220031,  0.59199989,  0.71399829,  1.88634398,\n",
              "        -0.53521353,  0.90946436,  0.96929692,  0.4864502 , -0.9177492 ,\n",
              "         0.10727027,  0.48045714, -0.61730596, -0.4378034 ,  0.15510453,\n",
              "         2.03108185,  0.93211448, -0.7730027 ,  1.30550068,  0.19341197,\n",
              "        -0.54576695,  0.38243661, -0.43481516, -1.63892486,  0.13126201,\n",
              "        -0.34530732,  0.69453888, -0.73478562,  1.8212427 , -0.3792772 ,\n",
              "         2.83689988,  0.97701255,  0.21093008,  0.59602513, -0.27753234,\n",
              "         0.98876047,  0.90819427, -0.32801616, -0.3491028 ,  0.81863828,\n",
              "         0.79203263,  0.09675004,  0.79451703, -0.62392407,  0.57865894,\n",
              "         1.06972619, -0.12738952,  0.58728274, -1.8934641 ,  0.48898527,\n",
              "        -1.06088042,  0.91022265,  0.31935883, -0.5834618 ,  0.57687926,\n",
              "        -1.28238927,  0.99501447, -0.91319011,  0.29086305, -1.45406529,\n",
              "         0.64568672, -0.13466348, -0.46559217, -1.52173312, -2.89074293,\n",
              "        -0.47475621,  1.0498725 ,  1.58895484,  0.14582798,  0.12451879,\n",
              "        -1.47696501,  0.02133966,  1.76519017,  2.503683  ,  1.7605049 ]])"
            ]
          },
          "metadata": {},
          "execution_count": 11
        }
      ],
      "source": [
        "make_latent_samples(1, 100) # generates one sample"
      ]
    },
    {
      "cell_type": "code",
      "execution_count": 12,
      "metadata": {
        "id": "6WhpSDsvthq9",
        "colab": {
          "base_uri": "https://localhost:8080/"
        },
        "outputId": "59693b21-4242-4dba-eb3e-463f5f92a73a"
      },
      "outputs": [
        {
          "output_type": "stream",
          "name": "stdout",
          "text": [
            "Model: \"generator\"\n",
            "_________________________________________________________________\n",
            " Layer (type)                Output Shape              Param #   \n",
            "=================================================================\n",
            " dense (Dense)               (None, 128)               12928     \n",
            "                                                                 \n",
            " leaky_re_lu (LeakyReLU)     (None, 128)               0         \n",
            "                                                                 \n",
            " batch_normalization (BatchN  (None, 128)              512       \n",
            " ormalization)                                                   \n",
            "                                                                 \n",
            " dense_1 (Dense)             (None, 100)               12900     \n",
            "                                                                 \n",
            " activation (Activation)     (None, 100)               0         \n",
            "                                                                 \n",
            "=================================================================\n",
            "Total params: 26,340\n",
            "Trainable params: 26,084\n",
            "Non-trainable params: 256\n",
            "_________________________________________________________________\n"
          ]
        }
      ],
      "source": [
        "generator = Sequential([\n",
        "    Dense(128, input_shape=(100,)),\n",
        "    LeakyReLU(alpha=0.2),\n",
        "    BatchNormalization(momentum=0.7),\n",
        "\n",
        "    #Dense(100),\n",
        "    #LeakyReLU(alpha=0.2),\n",
        "    #BatchNormalization(momentum=0.7),\n",
        "\n",
        "    #Dense(1024),\n",
        "    #LeakyReLU(alpha=0.2),\n",
        "    #BatchNormalization(momentum=0.7),\n",
        "\n",
        "    #Dense(2048),\n",
        "    #LeakyReLU(alpha=0.2),\n",
        "    #BatchNormalization(momentum=0.7),\n",
        "\n",
        "    Dense(100),\n",
        "    Activation('tanh')\n",
        "], name='generator')\n",
        "\n",
        "generator.summary()"
      ]
    },
    {
      "cell_type": "code",
      "execution_count": 13,
      "metadata": {
        "id": "ifDOM8XEtpTu",
        "colab": {
          "base_uri": "https://localhost:8080/"
        },
        "outputId": "5ca6059b-3190-4d38-a9d4-c55c11dad1b8"
      },
      "outputs": [
        {
          "output_type": "stream",
          "name": "stdout",
          "text": [
            "Model: \"discriminator\"\n",
            "_________________________________________________________________\n",
            " Layer (type)                Output Shape              Param #   \n",
            "=================================================================\n",
            " dense_2 (Dense)             (None, 64)                6464      \n",
            "                                                                 \n",
            " leaky_re_lu_1 (LeakyReLU)   (None, 64)                0         \n",
            "                                                                 \n",
            " dense_3 (Dense)             (None, 32)                2080      \n",
            "                                                                 \n",
            " leaky_re_lu_2 (LeakyReLU)   (None, 32)                0         \n",
            "                                                                 \n",
            " dense_4 (Dense)             (None, 1)                 33        \n",
            "                                                                 \n",
            " activation_1 (Activation)   (None, 1)                 0         \n",
            "                                                                 \n",
            "=================================================================\n",
            "Total params: 8,577\n",
            "Trainable params: 8,577\n",
            "Non-trainable params: 0\n",
            "_________________________________________________________________\n"
          ]
        }
      ],
      "source": [
        "discriminator = Sequential([\n",
        "    Dense(64, input_shape=(100,)),\n",
        "    LeakyReLU(alpha=0.2),\n",
        "    #BatchNormalization(momentum=0.7),\n",
        "\n",
        "    Dense(32),\n",
        "    LeakyReLU(alpha=0.2),\n",
        "    #BatchNormalization(momentum=0.7),\n",
        "\n",
        "    #Dense(128),\n",
        "    #LeakyReLU(alpha=0.2),\n",
        "    #BatchNormalization(momentum=0.7),\n",
        "    #Dense(64),\n",
        "    #LeakyReLU(alpha=0.2),\n",
        "    #BatchNormalization(momentum=0.7),\n",
        "\n",
        "    #Dense(32),\n",
        "    #LeakyReLU(alpha=0.2),\n",
        "    #BatchNormalization(momentum=0.7),\n",
        "\n",
        "    #Dense(16),\n",
        "    #LeakyReLU(alpha=0.2),\n",
        "    #BatchNormalization(momentum=0.7),\n",
        "\n",
        "    Dense(1),\n",
        "    Activation('sigmoid')\n",
        "], name='discriminator')\n",
        "\n",
        "discriminator.summary()"
      ]
    },
    {
      "cell_type": "code",
      "execution_count": 14,
      "metadata": {
        "id": "xBOAGHy9tstz",
        "colab": {
          "base_uri": "https://localhost:8080/"
        },
        "outputId": "8b9852f8-73cd-4f47-d786-95b93057fad0"
      },
      "outputs": [
        {
          "output_type": "stream",
          "name": "stdout",
          "text": [
            "Model: \"sequential\"\n",
            "_________________________________________________________________\n",
            " Layer (type)                Output Shape              Param #   \n",
            "=================================================================\n",
            " generator (Sequential)      (None, 100)               26340     \n",
            "                                                                 \n",
            " discriminator (Sequential)  (None, 1)                 8577      \n",
            "                                                                 \n",
            "=================================================================\n",
            "Total params: 34,917\n",
            "Trainable params: 34,661\n",
            "Non-trainable params: 256\n",
            "_________________________________________________________________\n"
          ]
        }
      ],
      "source": [
        "# maintain the same shared weights with the generator and the discriminator.\n",
        "gan = Sequential([\n",
        "    generator,\n",
        "    discriminator\n",
        "])\n",
        "\n",
        "gan.summary()"
      ]
    },
    {
      "cell_type": "code",
      "execution_count": 15,
      "metadata": {
        "id": "Bx2JFuiLtx1E"
      },
      "outputs": [],
      "source": [
        "def make_trainable(model, trainable):\n",
        "    for layer in model.layers:\n",
        "        layer.trainable = trainable"
      ]
    },
    {
      "cell_type": "code",
      "execution_count": 16,
      "metadata": {
        "id": "X4hA_QQFtzxF",
        "colab": {
          "base_uri": "https://localhost:8080/"
        },
        "outputId": "3e7bff45-b9be-4e15-9b1f-bdc46488b256"
      },
      "outputs": [
        {
          "output_type": "stream",
          "name": "stdout",
          "text": [
            "Model: \"discriminator\"\n",
            "_________________________________________________________________\n",
            " Layer (type)                Output Shape              Param #   \n",
            "=================================================================\n",
            " dense_2 (Dense)             (None, 64)                6464      \n",
            "                                                                 \n",
            " leaky_re_lu_1 (LeakyReLU)   (None, 64)                0         \n",
            "                                                                 \n",
            " dense_3 (Dense)             (None, 32)                2080      \n",
            "                                                                 \n",
            " leaky_re_lu_2 (LeakyReLU)   (None, 32)                0         \n",
            "                                                                 \n",
            " dense_4 (Dense)             (None, 1)                 33        \n",
            "                                                                 \n",
            " activation_1 (Activation)   (None, 1)                 0         \n",
            "                                                                 \n",
            "=================================================================\n",
            "Total params: 8,577\n",
            "Trainable params: 0\n",
            "Non-trainable params: 8,577\n",
            "_________________________________________________________________\n"
          ]
        }
      ],
      "source": [
        "make_trainable(discriminator, False)\n",
        "discriminator.summary()"
      ]
    },
    {
      "cell_type": "code",
      "execution_count": 17,
      "metadata": {
        "id": "X2qL4BJ6t1Rr",
        "colab": {
          "base_uri": "https://localhost:8080/"
        },
        "outputId": "4f4f5baa-52a3-4ed8-bdf7-cb6a2813ab21"
      },
      "outputs": [
        {
          "output_type": "stream",
          "name": "stdout",
          "text": [
            "Model: \"discriminator\"\n",
            "_________________________________________________________________\n",
            " Layer (type)                Output Shape              Param #   \n",
            "=================================================================\n",
            " dense_2 (Dense)             (None, 64)                6464      \n",
            "                                                                 \n",
            " leaky_re_lu_1 (LeakyReLU)   (None, 64)                0         \n",
            "                                                                 \n",
            " dense_3 (Dense)             (None, 32)                2080      \n",
            "                                                                 \n",
            " leaky_re_lu_2 (LeakyReLU)   (None, 32)                0         \n",
            "                                                                 \n",
            " dense_4 (Dense)             (None, 1)                 33        \n",
            "                                                                 \n",
            " activation_1 (Activation)   (None, 1)                 0         \n",
            "                                                                 \n",
            "=================================================================\n",
            "Total params: 8,577\n",
            "Trainable params: 8,577\n",
            "Non-trainable params: 0\n",
            "_________________________________________________________________\n"
          ]
        }
      ],
      "source": [
        "make_trainable(discriminator, True)\n",
        "discriminator.summary()"
      ]
    },
    {
      "cell_type": "code",
      "execution_count": 18,
      "metadata": {
        "id": "6AdYzOnguNYG"
      },
      "outputs": [],
      "source": [
        "def make_simple_GAN(sample_size, \n",
        "                    g_hidden_size_1,\n",
        "                    g_hidden_size_2,\n",
        "                    g_hidden_size_3,\n",
        "                    g_hidden_size_4,\n",
        "                    d_hidden_size_1,\n",
        "                    d_hidden_size_2, \n",
        "                    d_hidden_size_3,\n",
        "                    d_hidden_size_4,\n",
        "                    d_hidden_size_5,\n",
        "                    d_hidden_size_6,\n",
        "                    leaky_alpha, \n",
        "                    g_learning_rate,\n",
        "                    d_learning_rate):\n",
        "    K.clear_session()\n",
        "    \n",
        "    generator = Sequential([\n",
        "        Dense(g_hidden_size_1, input_shape=(sample_size,)),\n",
        "        LeakyReLU(alpha=leaky_alpha),\n",
        "        BatchNormalization(momentum=0.7),\n",
        "\n",
        "        #Dense(g_hidden_size_2),\n",
        "        #LeakyReLU(alpha=leaky_alpha),\n",
        "        #BatchNormalization(momentum=0.7),\n",
        "\n",
        "        #Dense(g_hidden_size_3),\n",
        "        #LeakyReLU(alpha=leaky_alpha),\n",
        "        #BatchNormalization(momentum=0.7),\n",
        "\n",
        "        #Dense(g_hidden_size_4),\n",
        "        #LeakyReLU(alpha=leaky_alpha),\n",
        "        #BatchNormalization(momentum=0.7),\n",
        "\n",
        "        Dense(100),        \n",
        "        Activation('tanh')\n",
        "    ], name='generator')    \n",
        "\n",
        "    discriminator = Sequential([\n",
        "        Dense(d_hidden_size_1, input_shape=(100,)),\n",
        "        LeakyReLU(alpha=leaky_alpha),\n",
        "        #BatchNormalization(momentum=0.7),\n",
        "\n",
        "        Dense(d_hidden_size_2),\n",
        "        LeakyReLU(alpha=leaky_alpha),\n",
        "        #BatchNormalization(momentum=0.7),\n",
        "\n",
        "        #Dense(d_hidden_size_3),\n",
        "        #LeakyReLU(alpha=leaky_alpha),\n",
        "        #BatchNormalization(momentum=0.7),\n",
        "\n",
        "        #Dense(d_hidden_size_4),\n",
        "        #LeakyReLU(alpha=leaky_alpha),\n",
        "        #BatchNormalization(momentum=0.7),\n",
        "\n",
        "        #Dense(d_hidden_size_5),\n",
        "        #LeakyReLU(alpha=leaky_alpha),\n",
        "        #BatchNormalization(momentum=0.7),\n",
        "\n",
        "        #Dense(d_hidden_size_6),\n",
        "        #LeakyReLU(alpha=leaky_alpha),\n",
        "        #BatchNormalization(momentum=0.7),\n",
        "\n",
        "        Dense(1),\n",
        "        Activation('sigmoid')\n",
        "    ], name='discriminator')    \n",
        "    \n",
        "    gan = Sequential([\n",
        "        generator,\n",
        "        discriminator\n",
        "    ])\n",
        "    \n",
        "    discriminator.compile(optimizer=Adam(lr=d_learning_rate), loss='binary_crossentropy')\n",
        "    gan.compile(optimizer=Adam(lr=g_learning_rate), loss='binary_crossentropy')\n",
        "    \n",
        "    return gan, generator, discriminator "
      ]
    },
    {
      "cell_type": "code",
      "execution_count": 19,
      "metadata": {
        "id": "mYPaeZWCuQcN"
      },
      "outputs": [],
      "source": [
        "from sklearn import preprocessing\n",
        "def preprocess(x):\n",
        "   x = preprocessing.scale(x)\n",
        "   return x"
      ]
    },
    {
      "cell_type": "code",
      "execution_count": 20,
      "metadata": {
        "id": "ECK1ZNgvuUDE"
      },
      "outputs": [],
      "source": [
        "X_train_real = np.array(preprocess(X_train))\n",
        "X_test_real  = np.array(preprocess(X_test))"
      ]
    },
    {
      "cell_type": "code",
      "execution_count": 21,
      "metadata": {
        "id": "IEehFs-uuWu-"
      },
      "outputs": [],
      "source": [
        "while(False):\n",
        "\n",
        "  def deprocess(x):\n",
        "    x = (x / 2 + 1) * 7454.516836076623\n",
        "    x = np.clip(x, -127.3838709715454, 7454.516836076623)\n",
        "    x = np.uint8(x)\n",
        "    x = x.reshape(-1, 70)\n",
        "    return x"
      ]
    },
    {
      "cell_type": "code",
      "execution_count": 22,
      "metadata": {
        "id": "pkBEmfCuuZVn"
      },
      "outputs": [],
      "source": [
        "def make_labels(size):\n",
        "    return np.ones([size, 1]), np.zeros([size, 1])"
      ]
    },
    {
      "cell_type": "code",
      "execution_count": 23,
      "metadata": {
        "id": "fRn7LdmDub8I",
        "colab": {
          "base_uri": "https://localhost:8080/"
        },
        "outputId": "f20f3195-a1df-4457-cebe-498689c61adc"
      },
      "outputs": [
        {
          "output_type": "execute_result",
          "data": {
            "text/plain": [
              "(array([[1.],\n",
              "        [1.],\n",
              "        [1.],\n",
              "        [1.],\n",
              "        [1.],\n",
              "        [1.],\n",
              "        [1.],\n",
              "        [1.],\n",
              "        [1.],\n",
              "        [1.]]), array([[0.],\n",
              "        [0.],\n",
              "        [0.],\n",
              "        [0.],\n",
              "        [0.],\n",
              "        [0.],\n",
              "        [0.],\n",
              "        [0.],\n",
              "        [0.],\n",
              "        [0.]]))"
            ]
          },
          "metadata": {},
          "execution_count": 23
        }
      ],
      "source": [
        "y_real_10, y_fake_10 = make_labels(10)\n",
        "\n",
        "y_real_10, y_fake_10"
      ]
    },
    {
      "cell_type": "code",
      "execution_count": 24,
      "metadata": {
        "id": "lCK87MXyue6-"
      },
      "outputs": [],
      "source": [
        "# hyperparameters\n",
        "sample_size     = 100     # latent sample size (i.e., 100 random numbers)\n",
        "g_hidden_size_1 = 128\n",
        "g_hidden_size_2 = 0\n",
        "g_hidden_size_3 = 0\n",
        "g_hidden_size_4 = 0\n",
        "d_hidden_size_1 = 64\n",
        "d_hidden_size_2 = 32\n",
        "d_hidden_size_3 = 0\n",
        "d_hidden_size_4 = 0\n",
        "d_hidden_size_5 = 0\n",
        "d_hidden_size_6 = 0\n",
        "leaky_alpha     = 0.2\n",
        "g_learning_rate = 0.0001  # learning rate for the generator\n",
        "d_learning_rate = 0.0001   # learning rate for the discriminator\n",
        "epochs          = 150\n",
        "batch_size      = 64      # train batch size\n",
        "eval_size       = 16      # evaluate size\n",
        "smooth          = 0.1\n"
      ]
    },
    {
      "cell_type": "code",
      "execution_count": 25,
      "metadata": {
        "id": "Tuk6T1qqujjW",
        "colab": {
          "base_uri": "https://localhost:8080/"
        },
        "outputId": "68a3bf2f-b6d2-45af-c9e0-a991df801d18"
      },
      "outputs": [
        {
          "output_type": "stream",
          "name": "stderr",
          "text": [
            "/usr/local/lib/python3.7/dist-packages/keras/optimizer_v2/adam.py:105: UserWarning: The `lr` argument is deprecated, use `learning_rate` instead.\n",
            "  super(Adam, self).__init__(name, **kwargs)\n"
          ]
        },
        {
          "output_type": "stream",
          "name": "stdout",
          "text": [
            "Epoch:   1/150 Discriminator Loss: 1.5151 Generator Loss: 0.4409 Discriminator acc:0.7380:\n",
            "Epoch:   2/150 Discriminator Loss: 1.4488 Generator Loss: 0.4127 Discriminator acc:0.8143:\n",
            "Epoch:   3/150 Discriminator Loss: 1.5162 Generator Loss: 0.3913 Discriminator acc:0.7894:\n",
            "Epoch:   4/150 Discriminator Loss: 1.5644 Generator Loss: 0.3601 Discriminator acc:0.8154:\n",
            "Epoch:   5/150 Discriminator Loss: 1.6250 Generator Loss: 0.3069 Discriminator acc:0.8246:\n",
            "Epoch:   6/150 Discriminator Loss: 1.6327 Generator Loss: 0.3384 Discriminator acc:0.8658:\n",
            "Epoch:   7/150 Discriminator Loss: 1.5581 Generator Loss: 0.3525 Discriminator acc:0.8242:\n",
            "Epoch:   8/150 Discriminator Loss: 1.5809 Generator Loss: 0.3465 Discriminator acc:0.8395:\n",
            "Epoch:   9/150 Discriminator Loss: 1.6156 Generator Loss: 0.3339 Discriminator acc:0.8911:\n",
            "Epoch:  10/150 Discriminator Loss: 1.6270 Generator Loss: 0.3312 Discriminator acc:0.8659:\n",
            "Epoch:  11/150 Discriminator Loss: 1.6111 Generator Loss: 0.3379 Discriminator acc:0.8559:\n",
            "Epoch:  12/150 Discriminator Loss: 1.5740 Generator Loss: 0.3610 Discriminator acc:0.8541:\n",
            "Epoch:  13/150 Discriminator Loss: 1.5826 Generator Loss: 0.3373 Discriminator acc:0.8416:\n",
            "Epoch:  14/150 Discriminator Loss: 1.6876 Generator Loss: 0.3218 Discriminator acc:0.8713:\n",
            "Epoch:  15/150 Discriminator Loss: 1.5971 Generator Loss: 0.3356 Discriminator acc:0.8386:\n",
            "Epoch:  16/150 Discriminator Loss: 1.6142 Generator Loss: 0.3430 Discriminator acc:0.8409:\n",
            "Epoch:  17/150 Discriminator Loss: 1.6630 Generator Loss: 0.3139 Discriminator acc:0.8402:\n",
            "Epoch:  18/150 Discriminator Loss: 1.5109 Generator Loss: 0.3507 Discriminator acc:0.8367:\n",
            "Epoch:  19/150 Discriminator Loss: 1.5249 Generator Loss: 0.3578 Discriminator acc:0.8513:\n",
            "Epoch:  20/150 Discriminator Loss: 1.6144 Generator Loss: 0.3253 Discriminator acc:0.8345:\n",
            "Epoch:  21/150 Discriminator Loss: 1.5412 Generator Loss: 0.3418 Discriminator acc:0.8285:\n",
            "Epoch:  22/150 Discriminator Loss: 1.5388 Generator Loss: 0.3518 Discriminator acc:0.8219:\n",
            "Epoch:  23/150 Discriminator Loss: 1.5911 Generator Loss: 0.3398 Discriminator acc:0.8159:\n",
            "Epoch:  24/150 Discriminator Loss: 1.4196 Generator Loss: 0.3835 Discriminator acc:0.7959:\n",
            "Epoch:  25/150 Discriminator Loss: 1.4106 Generator Loss: 0.3887 Discriminator acc:0.8136:\n",
            "Epoch:  26/150 Discriminator Loss: 1.3473 Generator Loss: 0.3981 Discriminator acc:0.7953:\n",
            "Epoch:  27/150 Discriminator Loss: 1.4787 Generator Loss: 0.4042 Discriminator acc:0.7947:\n",
            "Epoch:  28/150 Discriminator Loss: 1.4119 Generator Loss: 0.4059 Discriminator acc:0.7764:\n",
            "Epoch:  29/150 Discriminator Loss: 1.4651 Generator Loss: 0.3989 Discriminator acc:0.7532:\n",
            "Epoch:  30/150 Discriminator Loss: 1.4144 Generator Loss: 0.4241 Discriminator acc:0.7688:\n",
            "Epoch:  31/150 Discriminator Loss: 1.4082 Generator Loss: 0.3999 Discriminator acc:0.7622:\n",
            "Epoch:  32/150 Discriminator Loss: 1.3817 Generator Loss: 0.4339 Discriminator acc:0.7432:\n",
            "Epoch:  33/150 Discriminator Loss: 1.4641 Generator Loss: 0.4250 Discriminator acc:0.7436:\n",
            "Epoch:  34/150 Discriminator Loss: 1.4151 Generator Loss: 0.4126 Discriminator acc:0.7502:\n",
            "Epoch:  35/150 Discriminator Loss: 1.3951 Generator Loss: 0.4346 Discriminator acc:0.7506:\n",
            "Epoch:  36/150 Discriminator Loss: 1.3394 Generator Loss: 0.4345 Discriminator acc:0.7168:\n",
            "Epoch:  37/150 Discriminator Loss: 1.3639 Generator Loss: 0.4391 Discriminator acc:0.7286:\n",
            "Epoch:  38/150 Discriminator Loss: 1.3426 Generator Loss: 0.4320 Discriminator acc:0.7107:\n",
            "Epoch:  39/150 Discriminator Loss: 1.3438 Generator Loss: 0.4541 Discriminator acc:0.7225:\n",
            "Epoch:  40/150 Discriminator Loss: 1.2627 Generator Loss: 0.4766 Discriminator acc:0.7182:\n",
            "Epoch:  41/150 Discriminator Loss: 1.3175 Generator Loss: 0.4346 Discriminator acc:0.6872:\n",
            "Epoch:  42/150 Discriminator Loss: 1.3426 Generator Loss: 0.4553 Discriminator acc:0.6899:\n",
            "Epoch:  43/150 Discriminator Loss: 1.3493 Generator Loss: 0.4265 Discriminator acc:0.6665:\n",
            "Epoch:  44/150 Discriminator Loss: 1.3096 Generator Loss: 0.4869 Discriminator acc:0.6843:\n",
            "Epoch:  45/150 Discriminator Loss: 1.2568 Generator Loss: 0.5055 Discriminator acc:0.6792:\n",
            "Epoch:  46/150 Discriminator Loss: 1.3486 Generator Loss: 0.4806 Discriminator acc:0.6615:\n",
            "Epoch:  47/150 Discriminator Loss: 1.1930 Generator Loss: 0.4751 Discriminator acc:0.6662:\n",
            "Epoch:  48/150 Discriminator Loss: 1.2284 Generator Loss: 0.4702 Discriminator acc:0.6487:\n",
            "Epoch:  49/150 Discriminator Loss: 1.2100 Generator Loss: 0.5259 Discriminator acc:0.6519:\n",
            "Epoch:  50/150 Discriminator Loss: 1.1693 Generator Loss: 0.5346 Discriminator acc:0.6631:\n",
            "Epoch:  51/150 Discriminator Loss: 1.1477 Generator Loss: 0.5305 Discriminator acc:0.6385:\n",
            "Epoch:  52/150 Discriminator Loss: 1.2113 Generator Loss: 0.5101 Discriminator acc:0.6551:\n",
            "Epoch:  53/150 Discriminator Loss: 1.1864 Generator Loss: 0.5018 Discriminator acc:0.6563:\n",
            "Epoch:  54/150 Discriminator Loss: 1.2869 Generator Loss: 0.4785 Discriminator acc:0.6708:\n",
            "Epoch:  55/150 Discriminator Loss: 1.3630 Generator Loss: 0.4604 Discriminator acc:0.6555:\n",
            "Epoch:  56/150 Discriminator Loss: 1.1861 Generator Loss: 0.4993 Discriminator acc:0.6489:\n",
            "Epoch:  57/150 Discriminator Loss: 1.1990 Generator Loss: 0.5416 Discriminator acc:0.6590:\n",
            "Epoch:  58/150 Discriminator Loss: 1.1563 Generator Loss: 0.5175 Discriminator acc:0.6854:\n",
            "Epoch:  59/150 Discriminator Loss: 1.2632 Generator Loss: 0.4963 Discriminator acc:0.6722:\n",
            "Epoch:  60/150 Discriminator Loss: 1.2075 Generator Loss: 0.5014 Discriminator acc:0.6624:\n",
            "Epoch:  61/150 Discriminator Loss: 1.2319 Generator Loss: 0.4954 Discriminator acc:0.6545:\n",
            "Epoch:  62/150 Discriminator Loss: 1.1610 Generator Loss: 0.5711 Discriminator acc:0.6603:\n",
            "Epoch:  63/150 Discriminator Loss: 1.1422 Generator Loss: 0.5913 Discriminator acc:0.6401:\n",
            "Epoch:  64/150 Discriminator Loss: 1.1478 Generator Loss: 0.5421 Discriminator acc:0.6393:\n",
            "Epoch:  65/150 Discriminator Loss: 1.1323 Generator Loss: 0.5392 Discriminator acc:0.6363:\n",
            "Epoch:  66/150 Discriminator Loss: 1.0786 Generator Loss: 0.5428 Discriminator acc:0.6388:\n",
            "Epoch:  67/150 Discriminator Loss: 1.1267 Generator Loss: 0.5221 Discriminator acc:0.6051:\n",
            "Epoch:  68/150 Discriminator Loss: 1.1400 Generator Loss: 0.4908 Discriminator acc:0.6263:\n",
            "Epoch:  69/150 Discriminator Loss: 1.0134 Generator Loss: 0.6006 Discriminator acc:0.6338:\n",
            "Epoch:  70/150 Discriminator Loss: 1.0823 Generator Loss: 0.5592 Discriminator acc:0.6288:\n",
            "Epoch:  71/150 Discriminator Loss: 1.0512 Generator Loss: 0.5579 Discriminator acc:0.6382:\n",
            "Epoch:  72/150 Discriminator Loss: 1.0717 Generator Loss: 0.5635 Discriminator acc:0.6286:\n",
            "Epoch:  73/150 Discriminator Loss: 1.0269 Generator Loss: 0.5781 Discriminator acc:0.6083:\n",
            "Epoch:  74/150 Discriminator Loss: 0.9796 Generator Loss: 0.6244 Discriminator acc:0.6436:\n",
            "Epoch:  75/150 Discriminator Loss: 1.0972 Generator Loss: 0.5448 Discriminator acc:0.6397:\n",
            "Epoch:  76/150 Discriminator Loss: 1.1413 Generator Loss: 0.5709 Discriminator acc:0.6393:\n",
            "Epoch:  77/150 Discriminator Loss: 1.1437 Generator Loss: 0.5240 Discriminator acc:0.6429:\n",
            "Epoch:  78/150 Discriminator Loss: 1.1338 Generator Loss: 0.5531 Discriminator acc:0.6243:\n",
            "Epoch:  79/150 Discriminator Loss: 1.1783 Generator Loss: 0.5411 Discriminator acc:0.6160:\n",
            "Epoch:  80/150 Discriminator Loss: 0.9970 Generator Loss: 0.5539 Discriminator acc:0.6066:\n",
            "Epoch:  81/150 Discriminator Loss: 1.1208 Generator Loss: 0.5720 Discriminator acc:0.6082:\n",
            "Epoch:  82/150 Discriminator Loss: 1.0289 Generator Loss: 0.5772 Discriminator acc:0.6209:\n",
            "Epoch:  83/150 Discriminator Loss: 0.9777 Generator Loss: 0.6093 Discriminator acc:0.6049:\n",
            "Epoch:  84/150 Discriminator Loss: 0.9949 Generator Loss: 0.5604 Discriminator acc:0.6012:\n",
            "Epoch:  85/150 Discriminator Loss: 1.0848 Generator Loss: 0.5646 Discriminator acc:0.6287:\n",
            "Epoch:  86/150 Discriminator Loss: 1.1274 Generator Loss: 0.5804 Discriminator acc:0.6102:\n",
            "Epoch:  87/150 Discriminator Loss: 1.0706 Generator Loss: 0.5697 Discriminator acc:0.6136:\n",
            "Epoch:  88/150 Discriminator Loss: 1.1026 Generator Loss: 0.6162 Discriminator acc:0.6136:\n",
            "Epoch:  89/150 Discriminator Loss: 1.0925 Generator Loss: 0.6032 Discriminator acc:0.6301:\n",
            "Epoch:  90/150 Discriminator Loss: 1.0523 Generator Loss: 0.5721 Discriminator acc:0.6107:\n",
            "Epoch:  91/150 Discriminator Loss: 1.0797 Generator Loss: 0.5692 Discriminator acc:0.6201:\n",
            "Epoch:  92/150 Discriminator Loss: 1.0447 Generator Loss: 0.5790 Discriminator acc:0.6135:\n",
            "Epoch:  93/150 Discriminator Loss: 1.0033 Generator Loss: 0.6103 Discriminator acc:0.6074:\n",
            "Epoch:  94/150 Discriminator Loss: 1.1730 Generator Loss: 0.6023 Discriminator acc:0.6012:\n",
            "Epoch:  95/150 Discriminator Loss: 0.9426 Generator Loss: 0.6332 Discriminator acc:0.6063:\n",
            "Epoch:  96/150 Discriminator Loss: 0.9331 Generator Loss: 0.6325 Discriminator acc:0.6062:\n",
            "Epoch:  97/150 Discriminator Loss: 1.0393 Generator Loss: 0.6062 Discriminator acc:0.6015:\n",
            "Epoch:  98/150 Discriminator Loss: 1.0004 Generator Loss: 0.6181 Discriminator acc:0.5776:\n",
            "Epoch:  99/150 Discriminator Loss: 1.0545 Generator Loss: 0.6183 Discriminator acc:0.5883:\n",
            "Epoch: 100/150 Discriminator Loss: 1.0336 Generator Loss: 0.6424 Discriminator acc:0.5658:\n",
            "Epoch: 101/150 Discriminator Loss: 0.9382 Generator Loss: 0.6452 Discriminator acc:0.5699:\n",
            "Epoch: 102/150 Discriminator Loss: 0.8649 Generator Loss: 0.6745 Discriminator acc:0.5750:\n",
            "Epoch: 103/150 Discriminator Loss: 0.9827 Generator Loss: 0.6840 Discriminator acc:0.5691:\n",
            "Epoch: 104/150 Discriminator Loss: 1.0029 Generator Loss: 0.6432 Discriminator acc:0.5501:\n",
            "Epoch: 105/150 Discriminator Loss: 1.1458 Generator Loss: 0.6991 Discriminator acc:0.5697:\n",
            "Epoch: 106/150 Discriminator Loss: 0.8002 Generator Loss: 0.7116 Discriminator acc:0.5671:\n",
            "Epoch: 107/150 Discriminator Loss: 0.9594 Generator Loss: 0.6813 Discriminator acc:0.5676:\n",
            "Epoch: 108/150 Discriminator Loss: 0.8701 Generator Loss: 0.6904 Discriminator acc:0.5516:\n",
            "Epoch: 109/150 Discriminator Loss: 1.0236 Generator Loss: 0.5903 Discriminator acc:0.5617:\n",
            "Epoch: 110/150 Discriminator Loss: 0.7901 Generator Loss: 0.7467 Discriminator acc:0.5483:\n",
            "Epoch: 111/150 Discriminator Loss: 0.9280 Generator Loss: 0.6783 Discriminator acc:0.5320:\n",
            "Epoch: 112/150 Discriminator Loss: 0.9238 Generator Loss: 0.6708 Discriminator acc:0.5364:\n",
            "Epoch: 113/150 Discriminator Loss: 0.9323 Generator Loss: 0.7166 Discriminator acc:0.5637:\n",
            "Epoch: 114/150 Discriminator Loss: 0.9892 Generator Loss: 0.6229 Discriminator acc:0.5741:\n",
            "Epoch: 115/150 Discriminator Loss: 1.0749 Generator Loss: 0.5936 Discriminator acc:0.5423:\n",
            "Epoch: 116/150 Discriminator Loss: 0.9381 Generator Loss: 0.6645 Discriminator acc:0.5838:\n",
            "Epoch: 117/150 Discriminator Loss: 0.9432 Generator Loss: 0.6643 Discriminator acc:0.5797:\n",
            "Epoch: 118/150 Discriminator Loss: 0.9500 Generator Loss: 0.6812 Discriminator acc:0.5760:\n",
            "Epoch: 119/150 Discriminator Loss: 1.0431 Generator Loss: 0.6450 Discriminator acc:0.5765:\n",
            "Epoch: 120/150 Discriminator Loss: 1.0360 Generator Loss: 0.6354 Discriminator acc:0.5593:\n",
            "Epoch: 121/150 Discriminator Loss: 1.0401 Generator Loss: 0.6317 Discriminator acc:0.5669:\n",
            "Epoch: 122/150 Discriminator Loss: 1.0307 Generator Loss: 0.6150 Discriminator acc:0.5699:\n",
            "Epoch: 123/150 Discriminator Loss: 0.8984 Generator Loss: 0.7018 Discriminator acc:0.5351:\n",
            "Epoch: 124/150 Discriminator Loss: 0.9420 Generator Loss: 0.8021 Discriminator acc:0.5400:\n",
            "Epoch: 125/150 Discriminator Loss: 0.9021 Generator Loss: 0.7318 Discriminator acc:0.5450:\n",
            "Epoch: 126/150 Discriminator Loss: 0.8230 Generator Loss: 0.7845 Discriminator acc:0.5109:\n",
            "Epoch: 127/150 Discriminator Loss: 0.9357 Generator Loss: 0.7488 Discriminator acc:0.5354:\n",
            "Epoch: 128/150 Discriminator Loss: 0.9446 Generator Loss: 0.7199 Discriminator acc:0.5052:\n",
            "Epoch: 129/150 Discriminator Loss: 0.9298 Generator Loss: 0.7279 Discriminator acc:0.5043:\n",
            "Epoch: 130/150 Discriminator Loss: 1.0353 Generator Loss: 0.6839 Discriminator acc:0.5257:\n",
            "Epoch: 131/150 Discriminator Loss: 0.9488 Generator Loss: 0.7390 Discriminator acc:0.5188:\n",
            "Epoch: 132/150 Discriminator Loss: 0.9764 Generator Loss: 0.7950 Discriminator acc:0.4980:\n",
            "Epoch: 133/150 Discriminator Loss: 0.8711 Generator Loss: 0.7598 Discriminator acc:0.5114:\n",
            "Epoch: 134/150 Discriminator Loss: 0.7895 Generator Loss: 0.8198 Discriminator acc:0.4880:\n",
            "Epoch: 135/150 Discriminator Loss: 0.9460 Generator Loss: 0.8156 Discriminator acc:0.4828:\n",
            "Epoch: 136/150 Discriminator Loss: 0.8411 Generator Loss: 0.8231 Discriminator acc:0.4940:\n",
            "Epoch: 137/150 Discriminator Loss: 0.8827 Generator Loss: 0.8557 Discriminator acc:0.4887:\n",
            "Epoch: 138/150 Discriminator Loss: 0.9579 Generator Loss: 0.7715 Discriminator acc:0.4839:\n",
            "Epoch: 139/150 Discriminator Loss: 0.9699 Generator Loss: 0.8201 Discriminator acc:0.4746:\n",
            "Epoch: 140/150 Discriminator Loss: 0.7779 Generator Loss: 0.9082 Discriminator acc:0.4663:\n",
            "Epoch: 141/150 Discriminator Loss: 0.8876 Generator Loss: 0.8481 Discriminator acc:0.4680:\n",
            "Epoch: 142/150 Discriminator Loss: 0.7470 Generator Loss: 0.8199 Discriminator acc:0.4562:\n",
            "Epoch: 143/150 Discriminator Loss: 0.7094 Generator Loss: 0.8541 Discriminator acc:0.4491:\n",
            "Epoch: 144/150 Discriminator Loss: 0.6783 Generator Loss: 0.9557 Discriminator acc:0.4549:\n",
            "Epoch: 145/150 Discriminator Loss: 0.6514 Generator Loss: 0.9153 Discriminator acc:0.4702:\n",
            "Epoch: 146/150 Discriminator Loss: 0.7887 Generator Loss: 0.8856 Discriminator acc:0.4722:\n",
            "Epoch: 147/150 Discriminator Loss: 0.7598 Generator Loss: 0.8840 Discriminator acc:0.4770:\n",
            "Epoch: 148/150 Discriminator Loss: 0.9393 Generator Loss: 0.8262 Discriminator acc:0.4701:\n",
            "Epoch: 149/150 Discriminator Loss: 0.7508 Generator Loss: 0.8108 Discriminator acc:0.4963:\n",
            "Epoch: 150/150 Discriminator Loss: 0.9118 Generator Loss: 0.7985 Discriminator acc:0.5108:\n"
          ]
        }
      ],
      "source": [
        "## labels for the batch size and the test size\n",
        "y_train_real, y_train_fake = make_labels(batch_size)\n",
        "y_eval_real,  y_eval_fake  = make_labels(eval_size)\n",
        "\n",
        "# create a GAN, a generator and a discriminator\n",
        "gan, generator, discriminator = make_simple_GAN(\n",
        "    sample_size, \n",
        "    g_hidden_size_1, \n",
        "    g_hidden_size_2,\n",
        "    g_hidden_size_3,\n",
        "    g_hidden_size_4, \n",
        "    d_hidden_size_1, \n",
        "    d_hidden_size_2,\n",
        "    d_hidden_size_3,\n",
        "    d_hidden_size_4,\n",
        "    d_hidden_size_5,\n",
        "    d_hidden_size_6,\n",
        "    leaky_alpha, \n",
        "    g_learning_rate,\n",
        "    d_learning_rate)\n",
        "\n",
        "\n",
        "losses = []\n",
        "losses1 = []\n",
        "for e in range(epochs):\n",
        "    for i in range(len(X_train_real)//batch_size):\n",
        "        # real MNIST digit images\n",
        "        X_batch_real = X_train_real[i*batch_size:(i+1)*batch_size]\n",
        "        \n",
        "        # latent samples and the generated digit images\n",
        "        latent_samples = make_latent_samples(batch_size, sample_size)\n",
        "        X_batch_fake = generator.predict_on_batch(latent_samples)\n",
        "        \n",
        "        # train the discriminator to detect real and fake images\n",
        "        make_trainable(discriminator, True)\n",
        "        discriminator.train_on_batch(X_batch_real, y_train_real * (1 - smooth))\n",
        "        discriminator.train_on_batch(X_batch_fake, y_train_fake)\n",
        "\n",
        "        # train the generator via GAN\n",
        "        make_trainable(discriminator, False)\n",
        "        gan.train_on_batch(latent_samples, y_train_real)\n",
        "   # evaluate\n",
        "    X_eval_real = X_test_real[np.random.choice(len(X_test_real), eval_size, replace=False)]\n",
        "    \n",
        "    latent_samples = make_latent_samples(eval_size, sample_size)\n",
        "    X_eval_fake = generator.predict_on_batch(latent_samples)\n",
        "\n",
        "    d_loss  = discriminator.test_on_batch(X_eval_real, y_eval_real)\n",
        "    d_loss += discriminator.test_on_batch(X_eval_fake, y_eval_fake)\n",
        "    g_loss  = gan.test_on_batch(latent_samples, y_eval_real) # we want the fake to be realistic!\n",
        "    \n",
        "    losses.append((d_loss, g_loss))\n",
        "\n",
        "    d_acc_real = discriminator.train_on_batch(X_batch_real, y_train_real * (1 - smooth))\n",
        "    d_acc_fake = discriminator.train_on_batch(X_batch_fake, y_train_fake)\n",
        "    d_acc  = 0.5 * (d_acc_real + d_acc_fake)\n",
        "\n",
        "    #losses1.append(( d_acc))\n",
        "    print(\"Epoch: {:>3}/{} Discriminator Loss: {:>6.4f} Generator Loss: {:>6.4f} Discriminator acc:{:>6.4f}:\".format(\n",
        "        e+1, epochs, d_loss, g_loss,d_acc)) #Discriminator acc: {:>6.4f}:,d_acc"
      ]
    },
    {
      "cell_type": "code",
      "execution_count": 26,
      "metadata": {
        "id": "_if6yg9SuoTQ",
        "colab": {
          "base_uri": "https://localhost:8080/",
          "height": 281
        },
        "outputId": "7c2454ef-6b2b-4cc5-dc35-714343cb2944"
      },
      "outputs": [
        {
          "output_type": "display_data",
          "data": {
            "image/png": "[encoded data removed]",
            "text/plain": [
              "<Figure size 432x288 with 1 Axes>"
            ]
          },
          "metadata": {
            "needs_background": "light"
          }
        }
      ],
      "source": [
        "losses = np.array(losses)\n",
        "\n",
        "fig, ax = plt.subplots()\n",
        "plt.plot(losses.T[0], label='Discriminator')\n",
        "plt.plot(losses.T[1], label='Generator')\n",
        "plt.title(\"Training Losses\")\n",
        "plt.legend()\n",
        "plt.show()"
      ]
    },
    {
      "cell_type": "code",
      "execution_count": 27,
      "metadata": {
        "id": "w0je2222Q0Y-"
      },
      "outputs": [],
      "source": [
        "rr = discriminator.predict_on_batch(X_test_real)"
      ]
    },
    {
      "cell_type": "code",
      "execution_count": 28,
      "metadata": {
        "id": "qYZfeRR5Z3Iu",
        "colab": {
          "base_uri": "https://localhost:8080/"
        },
        "outputId": "c4f0db43-b30a-4f75-a522-adf0eeb03e7f"
      },
      "outputs": [
        {
          "output_type": "execute_result",
          "data": {
            "text/plain": [
              "172     1\n",
              "2758    1\n",
              "6646    1\n",
              "8027    1\n",
              "9566    1\n",
              "       ..\n",
              "8812    1\n",
              "3031    1\n",
              "6575    1\n",
              "7357    1\n",
              "2721    1\n",
              "Name: label, Length: 3965, dtype: int64"
            ]
          },
          "metadata": {},
          "execution_count": 28
        }
      ],
      "source": [
        "y_test"
      ]
    },
    {
      "cell_type": "code",
      "execution_count": 29,
      "metadata": {
        "id": "6GdJtSctZ5jm",
        "colab": {
          "base_uri": "https://localhost:8080/"
        },
        "outputId": "183b777c-85c1-4d81-fe7a-fdda0c8f5e1b"
      },
      "outputs": [
        {
          "output_type": "execute_result",
          "data": {
            "text/plain": [
              "array([[0.8289389 ],\n",
              "       [0.8863293 ],\n",
              "       [0.46065807],\n",
              "       ...,\n",
              "       [0.92226887],\n",
              "       [0.873345  ],\n",
              "       [0.8210114 ]], dtype=float32)"
            ]
          },
          "metadata": {},
          "execution_count": 29
        }
      ],
      "source": [
        "rr"
      ]
    },
    {
      "cell_type": "code",
      "execution_count": 30,
      "metadata": {
        "id": "RkBPmhkdQ31J",
        "colab": {
          "base_uri": "https://localhost:8080/"
        },
        "outputId": "cdad8ac0-7b6f-4be7-83e8-4ca8973c8fc2"
      },
      "outputs": [
        {
          "output_type": "execute_result",
          "data": {
            "text/plain": [
              "0.998321"
            ]
          },
          "metadata": {},
          "execution_count": 30
        }
      ],
      "source": [
        "import keras\n",
        "#import keras_metrics\n",
        "\n",
        "r = tf.keras.metrics.Recall()#thresholds=rr.min())\n",
        "r.update_state(y_test,rr )\n",
        "r.result().numpy()\n"
      ]
    },
    {
      "cell_type": "code",
      "execution_count": 31,
      "metadata": {
        "id": "cFiQ5wINQ-19",
        "colab": {
          "base_uri": "https://localhost:8080/"
        },
        "outputId": "054d5380-ba1b-4cbe-ef89-f55a881e4893"
      },
      "outputs": [
        {
          "output_type": "execute_result",
          "data": {
            "text/plain": [
              "0.8217247"
            ]
          },
          "metadata": {},
          "execution_count": 31
        }
      ],
      "source": [
        "p=tf.keras.metrics.Precision()#thresholds=rr.min())\n",
        "p.update_state(y_test,rr )\n",
        "p.result().numpy()"
      ]
    },
    {
      "cell_type": "code",
      "execution_count": 32,
      "metadata": {
        "id": "BMkaCOfK4rVi",
        "colab": {
          "base_uri": "https://localhost:8080/"
        },
        "outputId": "aace6873-6535-4b76-ae89-8994d58ae975"
      },
      "outputs": [
        {
          "output_type": "execute_result",
          "data": {
            "text/plain": [
              "0.8360656"
            ]
          },
          "metadata": {},
          "execution_count": 32
        }
      ],
      "source": [
        "r = tf.keras.metrics.BinaryAccuracy()#thresholds=rr.min())\n",
        "r.update_state(y_test,rr )\n",
        "r.result().numpy()\n"
      ]
    }
  ],
  "metadata": {
    "accelerator": "GPU",
    "colab": {
      "collapsed_sections": [],
      "name": "Copy of part77/TGan.ipynb",
      "provenance": [],
      "authorship_tag": "ABX9TyOmt95QyAxl8zFTapVJBFNJ",
      "include_colab_link": true
    },
    "kernelspec": {
      "display_name": "Python 3",
      "name": "python3"
    },
    "language_info": {
      "name": "python"
    }
  },
  "nbformat": 4,
  "nbformat_minor": 0
}