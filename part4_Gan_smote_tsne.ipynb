{
  "nbformat": 4,
  "nbformat_minor": 0,
  "metadata": {
    "colab": {
      "name": "part4/Gan_smote_tsne.ipynb",
      "provenance": [],
      "collapsed_sections": [],
      "authorship_tag": "ABX9TyO5PG1txdpf/76A6Nx3RZbp",
      "include_colab_link": true
    },
    "kernelspec": {
      "name": "python3",
      "display_name": "Python 3"
    },
    "language_info": {
      "name": "python"
    }
  },
  "cells": [
    {
      "cell_type": "markdown",
      "metadata": {
        "id": "view-in-github",
        "colab_type": "text"
      },
      "source": [
        "<a href=\"https://colab.research.google.com/github/jnsbrdbr/thesis/blob/thesis/part4_Gan_smote_tsne.ipynb\" target=\"_parent\"><img src=\"https://colab.research.google.com/assets/colab-badge.svg\" alt=\"Open In Colab\"/></a>"
      ]
    },
    {
      "cell_type": "code",
      "execution_count": 1,
      "metadata": {
        "id": "VkJ7fnsfCJnE"
      },
      "outputs": [],
      "source": [
        "import numpy as np\n",
        "import pandas as pd\n",
        "import seaborn as sns\n",
        "import matplotlib.pyplot as plt\n",
        "\n",
        "from sklearn.metrics import jaccard_score\n",
        "from scipy.spatial.distance import pdist, squareform"
      ]
    },
    {
      "cell_type": "code",
      "source": [
        "from google.colab import drive\n",
        "drive.mount('/content/drive')"
      ],
      "metadata": {
        "colab": {
          "base_uri": "https://localhost:8080/"
        },
        "id": "6AbVE3s8Cbf6",
        "outputId": "94b31540-6c58-4e6c-b8d7-1999f201720e"
      },
      "execution_count": 2,
      "outputs": [
        {
          "output_type": "stream",
          "name": "stdout",
          "text": [
            "Mounted at /content/drive\n"
          ]
        }
      ]
    },
    {
      "cell_type": "code",
      "source": [
        "adj = pd.read_pickle('/content/drive/MyDrive/test/TTdata.pkl')"
      ],
      "metadata": {
        "id": "8zQqu6jdCc0G"
      },
      "execution_count": 3,
      "outputs": []
    },
    {
      "cell_type": "code",
      "source": [
        "CF = pd.read_pickle('/content/drive/MyDrive/test/TCFdf.pkl')"
      ],
      "metadata": {
        "id": "2Hke8g15CrC6"
      },
      "execution_count": 9,
      "outputs": []
    },
    {
      "cell_type": "code",
      "source": [
        "TF = pd.read_pickle('/content/drive/MyDrive/test/TTFdf1.pkl')"
      ],
      "metadata": {
        "id": "k9IqzYbLCxFz"
      },
      "execution_count": 22,
      "outputs": []
    },
    {
      "cell_type": "code",
      "source": [
        "jaccardsimilarity = pd.read_pickle('/content/drive/MyDrive/test/TjaccardsimilaritydfR.pkl')"
      ],
      "metadata": {
        "id": "s5IGoqjNCxAc"
      },
      "execution_count": 24,
      "outputs": []
    },
    {
      "cell_type": "code",
      "source": [
        "cosine = pd.read_pickle('/content/drive/MyDrive/test/TcosinesimilaritydfR.pkl')"
      ],
      "metadata": {
        "id": "6dWjUztJC3UU"
      },
      "execution_count": 27,
      "outputs": []
    },
    {
      "cell_type": "code",
      "source": [
        "L1_normdf = pd.read_pickle('/content/drive/MyDrive/test/TL1normdf.pkl')"
      ],
      "metadata": {
        "id": "Kk0EPrbfC_Nb"
      },
      "execution_count": 13,
      "outputs": []
    },
    {
      "cell_type": "code",
      "source": [
        "wsumdf = pd.read_pickle('/content/drive/MyDrive/test/Tsum.pkl')"
      ],
      "metadata": {
        "id": "nLdZ0GF1C-_E"
      },
      "execution_count": 14,
      "outputs": []
    },
    {
      "cell_type": "code",
      "source": [
        "wmuldf = pd.read_pickle('/content/drive/MyDrive/test/Tmul.pkl')"
      ],
      "metadata": {
        "id": "oeFvICd4JF3h"
      },
      "execution_count": 15,
      "outputs": []
    },
    {
      "cell_type": "code",
      "source": [
        "adjadamicadardf = pd.read_pickle('/content/drive/MyDrive/test/Tadjadamicadardf.pkl')"
      ],
      "metadata": {
        "id": "6RPkGc_lJJgf"
      },
      "execution_count": 16,
      "outputs": []
    },
    {
      "cell_type": "code",
      "source": [
        "correlationdf = pd.read_pickle('/content/drive/MyDrive/test/correlationdf.pkl')"
      ],
      "metadata": {
        "id": "Gy4vzaYKJMti"
      },
      "execution_count": 17,
      "outputs": []
    },
    {
      "cell_type": "code",
      "source": [
        "euclideansimilaritydf = pd.read_pickle('/content/drive/MyDrive/test/euclideansimilaritydf.pkl')"
      ],
      "metadata": {
        "id": "knxtd6V0JW33"
      },
      "execution_count": 19,
      "outputs": []
    },
    {
      "cell_type": "code",
      "source": [
        "adjl = pd.read_pickle('/content/drive/MyDrive/test/TLdata.pkl')"
      ],
      "metadata": {
        "id": "37sZV7TqC-7V"
      },
      "execution_count": 10,
      "outputs": []
    },
    {
      "cell_type": "code",
      "source": [
        "#CF\n",
        "from imblearn.over_sampling import SMOTE\n",
        "from imblearn.combine import SMOTETomek\n",
        "\n",
        "#oversample1=SMOTETomek(0.330)\n",
        "oversample1 = SMOTE(sampling_strategy=0.334)\n",
        "CF_smote,CF_label= oversample1.fit_resample(CF,adjl['label'])"
      ],
      "metadata": {
        "id": "uQSGdATdC-5P"
      },
      "execution_count": 12,
      "outputs": []
    },
    {
      "cell_type": "code",
      "source": [
        "count=0\n",
        "for i in range (0,len(CF_label)):\n",
        "  if CF_label[i]==1:\n",
        "    count+=1\n",
        "print(count)"
      ],
      "metadata": {
        "colab": {
          "base_uri": "https://localhost:8080/"
        },
        "id": "axv5xrmzM2d2",
        "outputId": "8ad422f6-efb4-4190-a1ce-4cec837d8d9b"
      },
      "execution_count": 20,
      "outputs": [
        {
          "output_type": "stream",
          "name": "stdout",
          "text": [
            "990\n"
          ]
        }
      ]
    },
    {
      "cell_type": "code",
      "source": [
        "#TF\n",
        "oversample2 = SMOTE(sampling_strategy=0.334)\n",
        "TF_smote,TF_label= oversample2.fit_resample(TF,adjl['label'])"
      ],
      "metadata": {
        "id": "Vu5SfTK0M2cV"
      },
      "execution_count": 23,
      "outputs": []
    },
    {
      "cell_type": "code",
      "source": [
        "#jaccardsimilarity\n",
        "oversample3 = SMOTE(sampling_strategy=0.334)\n",
        "jaccard_similarity_smote,jaccard_similarity_label= oversample3.fit_resample(jaccardsimilarity,\n",
        "                                                                            adjl['label'])"
      ],
      "metadata": {
        "id": "hfBhaxOvM_oU"
      },
      "execution_count": 26,
      "outputs": []
    },
    {
      "cell_type": "code",
      "source": [
        "#cosine_similarity\n",
        "oversample4 = SMOTE(sampling_strategy=0.334)\n",
        "cosine_similarity_smote,cosine_similarity_label= oversample4.fit_resample(cosine,\n",
        "                                                                          adjl['label'])"
      ],
      "metadata": {
        "id": "9kJdyPGENIdy"
      },
      "execution_count": 28,
      "outputs": []
    },
    {
      "cell_type": "code",
      "source": [
        "#L1_norm\n",
        "oversample5 = SMOTE(sampling_strategy=0.334)\n",
        "L1_norm_smote,L1_norm_label= oversample5.fit_resample(L1_normdf,adjl['label'])"
      ],
      "metadata": {
        "id": "fxD2uvjuNPeW"
      },
      "execution_count": 29,
      "outputs": []
    },
    {
      "cell_type": "code",
      "source": [
        "#wsum\n",
        "oversample6 = SMOTE(sampling_strategy=0.334)\n",
        "wsum_smote,wsum_label= oversample6.fit_resample(wsumdf,adjl['label'])"
      ],
      "metadata": {
        "id": "jd9BXgIvNSAh"
      },
      "execution_count": 30,
      "outputs": []
    },
    {
      "cell_type": "code",
      "source": [
        "#wmul\n",
        "oversample7 = SMOTE(sampling_strategy=0.334)\n",
        "wmul_smote,wmul_label= oversample7.fit_resample(wmuldf,adjl['label'])"
      ],
      "metadata": {
        "id": "leIu4rjjNR-c"
      },
      "execution_count": 31,
      "outputs": []
    },
    {
      "cell_type": "code",
      "source": [
        "oversample8 = SMOTE(sampling_strategy=0.334)\n",
        "adjadamicadar_smote,adjadamicadar_label= oversample8.fit_resample(adjadamicadardf,adjl['label'])"
      ],
      "metadata": {
        "id": "xhnxCwXQNR7L"
      },
      "execution_count": 33,
      "outputs": []
    },
    {
      "cell_type": "code",
      "source": [
        "oversample9 = SMOTE(sampling_strategy=0.334)\n",
        "correlation_smote,correlation_label= oversample9.fit_resample(correlationdf,adjl['label'])"
      ],
      "metadata": {
        "id": "QcsXDkUXNR5X"
      },
      "execution_count": 34,
      "outputs": []
    },
    {
      "cell_type": "code",
      "source": [
        "oversample10 = SMOTE(sampling_strategy=0.334)\n",
        "euclideansimilarity_smote,euclideansimilarity_label= oversample10.fit_resample(euclideansimilaritydf,adjl['label'])"
      ],
      "metadata": {
        "id": "aMEuaGYpNaSA"
      },
      "execution_count": 35,
      "outputs": []
    },
    {
      "cell_type": "markdown",
      "source": [
        "# **Pca / T_sne**"
      ],
      "metadata": {
        "id": "_kGIH2Tucehm"
      }
    },
    {
      "cell_type": "code",
      "source": [
        "from sklearn.decomposition import PCA\n",
        "from sklearn.manifold import TSNE\n",
        "\n",
        "pca = PCA(n_components=10)\n",
        "CF_pca = pca.fit_transform(CF_smote)\n",
        "CF_pca_df=pd.DataFrame(CF_pca)\n",
        "CF_pca_df1=pd.DataFrame(CF_pca)"
      ],
      "metadata": {
        "id": "aGUwOnfROUpt"
      },
      "execution_count": 86,
      "outputs": []
    },
    {
      "cell_type": "code",
      "source": [
        "CF_TSNE = TSNE(n_components=2, learning_rate='auto',init='random').fit_transform(CF_pca)\n",
        "CF_TSNE_df=pd.DataFrame(CF_TSNE)"
      ],
      "metadata": {
        "id": "jltJT6mmOZUQ"
      },
      "execution_count": 62,
      "outputs": []
    },
    {
      "cell_type": "code",
      "source": [
        "\n",
        "CF_pca_df1['tsne-2d-one'] = CF_TSNE[:,0]\n",
        "CF_pca_df1['tsne-2d-two'] = CF_TSNE[:,1]\n",
        "plt.figure(figsize=(6,6))\n",
        "sns.scatterplot(\n",
        "    x=\"tsne-2d-one\", y=\"tsne-2d-two\",\n",
        "    #hue=\"y\",\n",
        "    palette=sns.color_palette(\"hls\", 10),\n",
        "    data=CF_pca_df1,\n",
        "    #legend=\"full\",\n",
        "    #alpha=0.3\n",
        ")"
      ],
      "metadata": {
        "colab": {
          "base_uri": "https://localhost:8080/",
          "height": 406
        },
        "id": "Rd_0xEaFZK24",
        "outputId": "a2560092-a248-4eb4-ea2d-3d6fa5ea773c"
      },
      "execution_count": 87,
      "outputs": [
        {
          "output_type": "execute_result",
          "data": {
            "text/plain": [
              "<matplotlib.axes._subplots.AxesSubplot at 0x7f804b467d10>"
            ]
          },
          "metadata": {},
          "execution_count": 87
        },
        {
          "output_type": "display_data",
          "data": {
            "image/png": "[encoded data removed]",
            "text/plain": [
              "<Figure size 432x432 with 1 Axes>"
            ]
          },
          "metadata": {
            "needs_background": "light"
          }
        }
      ]
    },
    {
      "cell_type": "code",
      "source": [
        "pca = PCA(n_components=10)\n",
        "TF_pca = pca.fit_transform(TF_smote)\n",
        "TF_pca_df=pd.DataFrame(TF_pca)\n",
        "TF_pca_df1=pd.DataFrame(TF_pca)"
      ],
      "metadata": {
        "id": "MDcWoKsDcu7-"
      },
      "execution_count": 88,
      "outputs": []
    },
    {
      "cell_type": "code",
      "source": [
        "TF_TSNE = TSNE(n_components=2, learning_rate='auto',init='random').fit_transform(TF_pca)\n",
        "TF_TSNE_df=pd.DataFrame(TF_TSNE)"
      ],
      "metadata": {
        "id": "Ys6Q03vicu2_"
      },
      "execution_count": 65,
      "outputs": []
    },
    {
      "cell_type": "code",
      "source": [
        "\n",
        "TF_pca_df1['tsne-2d-one'] = TF_TSNE[:,0]\n",
        "TF_pca_df1['tsne-2d-two'] = TF_TSNE[:,1]\n",
        "plt.figure(figsize=(6,6))\n",
        "sns.scatterplot(\n",
        "    x=\"tsne-2d-one\", y=\"tsne-2d-two\",\n",
        "    #hue=\"y\",\n",
        "    #palette=sns.color_palette(\"hls\", 10),\n",
        "    data=TF_pca_df1,\n",
        "    #legend=\"full\",\n",
        "    #alpha=0.3\n",
        ")"
      ],
      "metadata": {
        "colab": {
          "base_uri": "https://localhost:8080/",
          "height": 406
        },
        "id": "aBBXaVXtcuzw",
        "outputId": "762746d4-71e5-4a38-c20c-aad2e9534eda"
      },
      "execution_count": 89,
      "outputs": [
        {
          "output_type": "execute_result",
          "data": {
            "text/plain": [
              "<matplotlib.axes._subplots.AxesSubplot at 0x7f804b31da50>"
            ]
          },
          "metadata": {},
          "execution_count": 89
        },
        {
          "output_type": "display_data",
          "data": {
            "image/png": "[encoded data removed]",
            "text/plain": [
              "<Figure size 432x432 with 1 Axes>"
            ]
          },
          "metadata": {
            "needs_background": "light"
          }
        }
      ]
    },
    {
      "cell_type": "code",
      "source": [
        "pca = PCA(n_components=10)\n",
        "jaccard_similarity_pca = pca.fit_transform(jaccard_similarity_smote)\n",
        "jaccard_similarity_pca_df=pd.DataFrame(jaccard_similarity_pca)\n",
        "jaccard_similarity_pca_df1=pd.DataFrame(jaccard_similarity_pca)"
      ],
      "metadata": {
        "id": "wsB7LK15cuwr"
      },
      "execution_count": 90,
      "outputs": []
    },
    {
      "cell_type": "code",
      "source": [
        "jaccard_similarity_TSNE = TSNE(n_components=2, learning_rate='auto',init='random').fit_transform(jaccard_similarity_pca)\n",
        "jaccard_similarity_TSNE_df=pd.DataFrame(jaccard_similarity_TSNE)"
      ],
      "metadata": {
        "id": "j9adsllGcutZ"
      },
      "execution_count": 69,
      "outputs": []
    },
    {
      "cell_type": "code",
      "source": [
        "jaccard_similarity_pca_df1['tsne-2d-one'] = jaccard_similarity_TSNE[:,0]\n",
        "jaccard_similarity_pca_df1['tsne-2d-two'] = jaccard_similarity_TSNE[:,1]\n",
        "plt.figure(figsize=(6,6))\n",
        "sns.scatterplot(\n",
        "    x=\"tsne-2d-one\", y=\"tsne-2d-two\",\n",
        "    #hue=\"y\",\n",
        "    #palette=sns.color_palette(\"hls\", 10),\n",
        "    data=jaccard_similarity_pca_df1,\n",
        "    #legend=\"full\",\n",
        "    #alpha=0.3\n",
        ")"
      ],
      "metadata": {
        "colab": {
          "base_uri": "https://localhost:8080/",
          "height": 406
        },
        "id": "TdhYfzfHcuqV",
        "outputId": "380a8525-0fa7-4d55-c655-3092f2bfaf8b"
      },
      "execution_count": 91,
      "outputs": [
        {
          "output_type": "execute_result",
          "data": {
            "text/plain": [
              "<matplotlib.axes._subplots.AxesSubplot at 0x7f804b631c90>"
            ]
          },
          "metadata": {},
          "execution_count": 91
        },
        {
          "output_type": "display_data",
          "data": {
            "image/png": "[encoded data removed]",
            "text/plain": [
              "<Figure size 432x432 with 1 Axes>"
            ]
          },
          "metadata": {
            "needs_background": "light"
          }
        }
      ]
    },
    {
      "cell_type": "code",
      "source": [
        "pca = PCA(n_components=10)\n",
        "cosine_similarity_pca = pca.fit_transform(cosine_similarity_smote)\n",
        "cosine_similarity_pca_df=pd.DataFrame(cosine_similarity_pca)\n",
        "cosine_similarity_pca_df1=pd.DataFrame(cosine_similarity_pca)"
      ],
      "metadata": {
        "id": "0Dlrw-JGcum7"
      },
      "execution_count": 92,
      "outputs": []
    },
    {
      "cell_type": "code",
      "source": [
        "cosine_similarity_TSNE = TSNE(n_components=2, learning_rate='auto',init='random').fit_transform(cosine_similarity_pca)\n",
        "cosine_similarity_TSNE_df=pd.DataFrame(cosine_similarity_TSNE)"
      ],
      "metadata": {
        "id": "LbcqBMtdcujk"
      },
      "execution_count": 72,
      "outputs": []
    },
    {
      "cell_type": "code",
      "source": [
        "cosine_similarity_pca_df1['tsne-2d-one'] = cosine_similarity_TSNE[:,0]\n",
        "cosine_similarity_pca_df1['tsne-2d-two'] = cosine_similarity_TSNE[:,1]\n",
        "plt.figure(figsize=(6,6))\n",
        "sns.scatterplot(\n",
        "    x=\"tsne-2d-one\", y=\"tsne-2d-two\",\n",
        "    #hue=\"y\",\n",
        "    #palette=sns.color_palette(\"hls\", 10),\n",
        "    data=cosine_similarity_pca_df1,\n",
        "    #legend=\"full\",\n",
        "    #alpha=0.3\n",
        ")"
      ],
      "metadata": {
        "colab": {
          "base_uri": "https://localhost:8080/",
          "height": 406
        },
        "id": "xyVabzQScuge",
        "outputId": "04a8cbd3-546b-45fe-e214-cdee25b9eba5"
      },
      "execution_count": 93,
      "outputs": [
        {
          "output_type": "execute_result",
          "data": {
            "text/plain": [
              "<matplotlib.axes._subplots.AxesSubplot at 0x7f804b532290>"
            ]
          },
          "metadata": {},
          "execution_count": 93
        },
        {
          "output_type": "display_data",
          "data": {
            "image/png": "[encoded data removed]",
            "text/plain": [
              "<Figure size 432x432 with 1 Axes>"
            ]
          },
          "metadata": {
            "needs_background": "light"
          }
        }
      ]
    },
    {
      "cell_type": "code",
      "source": [
        "pca = PCA(n_components=10)\n",
        "L1_normdf_similarity_pca = pca.fit_transform(L1_norm_smote)\n",
        "L1_normdf_similarity_pca_df=pd.DataFrame(L1_normdf_similarity_pca)\n",
        "L1_normdf_similarity_pca_df1=pd.DataFrame(L1_normdf_similarity_pca)"
      ],
      "metadata": {
        "id": "0xMScL1Acucr"
      },
      "execution_count": 94,
      "outputs": []
    },
    {
      "cell_type": "code",
      "source": [
        "L1_normdf_similarity_TSNE = TSNE(n_components=2, learning_rate='auto',init='random').fit_transform(L1_normdf_similarity_pca)\n",
        "L1_normdf_similarity_TSNE_df=pd.DataFrame(L1_normdf_similarity_TSNE)"
      ],
      "metadata": {
        "id": "gt749JTucuZK"
      },
      "execution_count": 75,
      "outputs": []
    },
    {
      "cell_type": "code",
      "source": [
        "L1_normdf_similarity_pca_df1['tsne-2d-one'] = L1_normdf_similarity_TSNE[:,0]\n",
        "L1_normdf_similarity_pca_df1['tsne-2d-two'] = L1_normdf_similarity_TSNE[:,1]\n",
        "plt.figure(figsize=(6,6))\n",
        "sns.scatterplot(\n",
        "    x=\"tsne-2d-one\", y=\"tsne-2d-two\",\n",
        "    #hue=\"y\",\n",
        "    #palette=sns.color_palette(\"hls\", 10),\n",
        "    data=L1_normdf_similarity_pca_df1,\n",
        "    #legend=\"full\",\n",
        "    #alpha=0.3\n",
        ")"
      ],
      "metadata": {
        "colab": {
          "base_uri": "https://localhost:8080/",
          "height": 406
        },
        "id": "f8Dd24QBeoVO",
        "outputId": "c7db4692-8a8d-43f1-d668-62791c41c409"
      },
      "execution_count": 95,
      "outputs": [
        {
          "output_type": "execute_result",
          "data": {
            "text/plain": [
              "<matplotlib.axes._subplots.AxesSubplot at 0x7f8047af3790>"
            ]
          },
          "metadata": {},
          "execution_count": 95
        },
        {
          "output_type": "display_data",
          "data": {
            "image/png": "[encoded data removed]",
            "text/plain": [
              "<Figure size 432x432 with 1 Axes>"
            ]
          },
          "metadata": {
            "needs_background": "light"
          }
        }
      ]
    },
    {
      "cell_type": "code",
      "source": [
        "pca = PCA(n_components=10)\n",
        "wsumdf_similarity_pca = pca.fit_transform(wsum_smote)\n",
        "wsumdf_similarity_pca_df=pd.DataFrame(wsumdf_similarity_pca)\n",
        "wsumdf_similarity_pca_df1=pd.DataFrame(wsumdf_similarity_pca)"
      ],
      "metadata": {
        "id": "lbexTpjkev2c"
      },
      "execution_count": 96,
      "outputs": []
    },
    {
      "cell_type": "code",
      "source": [
        "wsumdf_similarity_TSNE = TSNE(n_components=2, learning_rate='auto',init='random').fit_transform(wsumdf_similarity_pca)\n",
        "wsumdf_similarity_TSNE_df=pd.DataFrame(wsumdf_similarity_TSNE)"
      ],
      "metadata": {
        "id": "yx3wkPL1e_Lf"
      },
      "execution_count": 78,
      "outputs": []
    },
    {
      "cell_type": "code",
      "source": [
        "wsumdf_similarity_pca_df1['tsne-2d-one'] = wsumdf_similarity_TSNE[:,0]\n",
        "wsumdf_similarity_pca_df1['tsne-2d-two'] = wsumdf_similarity_TSNE[:,1]\n",
        "plt.figure(figsize=(6,6))\n",
        "sns.scatterplot(\n",
        "    x=\"tsne-2d-one\", y=\"tsne-2d-two\",\n",
        "    #hue=\"y\",\n",
        "    #palette=sns.color_palette(\"hls\", 10),\n",
        "    data=wsumdf_similarity_pca_df1,\n",
        "    #legend=\"full\",\n",
        "    #alpha=0.3\n",
        ")"
      ],
      "metadata": {
        "colab": {
          "base_uri": "https://localhost:8080/",
          "height": 406
        },
        "id": "rCkjZvxLfDkT",
        "outputId": "521a073c-cf86-4e15-f298-f3c4a4638c66"
      },
      "execution_count": 97,
      "outputs": [
        {
          "output_type": "execute_result",
          "data": {
            "text/plain": [
              "<matplotlib.axes._subplots.AxesSubplot at 0x7f8047a880d0>"
            ]
          },
          "metadata": {},
          "execution_count": 97
        },
        {
          "output_type": "display_data",
          "data": {
            "image/png": "[encoded data removed]",
            "text/plain": [
              "<Figure size 432x432 with 1 Axes>"
            ]
          },
          "metadata": {
            "needs_background": "light"
          }
        }
      ]
    },
    {
      "cell_type": "code",
      "source": [
        "pca = PCA(n_components=10)\n",
        "wmuldf_similarity_pca = pca.fit_transform(wmul_smote)\n",
        "wmuldf_similarity_pca_df=pd.DataFrame(wmuldf_similarity_pca)\n",
        "wmuldf_similarity_pca_df1=pd.DataFrame(wmuldf_similarity_pca)"
      ],
      "metadata": {
        "id": "F2EbGieUfMdO"
      },
      "execution_count": 98,
      "outputs": []
    },
    {
      "cell_type": "code",
      "source": [
        "wmuldf_similarity_TSNE = TSNE(n_components=2, learning_rate='auto',init='random').fit_transform(wmuldf_similarity_pca)\n",
        "wmuldf_similarity_TSNE_df=pd.DataFrame(wmuldf_similarity_TSNE)"
      ],
      "metadata": {
        "id": "8cm6omsmfYsC"
      },
      "execution_count": 81,
      "outputs": []
    },
    {
      "cell_type": "code",
      "source": [
        "wmuldf_similarity_pca_df1['tsne-2d-one'] = wmuldf_similarity_TSNE[:,0]\n",
        "wmuldf_similarity_pca_df1['tsne-2d-two'] = wmuldf_similarity_TSNE[:,1]\n",
        "plt.figure(figsize=(6,6))\n",
        "sns.scatterplot(\n",
        "    x=\"tsne-2d-one\", y=\"tsne-2d-two\",\n",
        "    #hue=\"y\",\n",
        "    #palette=sns.color_palette(\"hls\", 10),\n",
        "    data=wmuldf_similarity_pca_df1,\n",
        "    #legend=\"full\",\n",
        "    #alpha=0.3\n",
        ")"
      ],
      "metadata": {
        "colab": {
          "base_uri": "https://localhost:8080/",
          "height": 406
        },
        "id": "n6JjxndffbxW",
        "outputId": "1d394bf9-2de5-4e89-f29a-d376b078e7f3"
      },
      "execution_count": 99,
      "outputs": [
        {
          "output_type": "execute_result",
          "data": {
            "text/plain": [
              "<matplotlib.axes._subplots.AxesSubplot at 0x7f80479fa450>"
            ]
          },
          "metadata": {},
          "execution_count": 99
        },
        {
          "output_type": "display_data",
          "data": {
            "image/png": "[encoded data removed]",
            "text/plain": [
              "<Figure size 432x432 with 1 Axes>"
            ]
          },
          "metadata": {
            "needs_background": "light"
          }
        }
      ]
    },
    {
      "cell_type": "code",
      "source": [
        "#concat\n",
        "frames = [CF_pca_df, TF_pca_df, jaccard_similarity_pca_df,cosine_similarity_pca_df,\n",
        "          L1_normdf_similarity_pca_df,wsumdf_similarity_pca_df,wmuldf_similarity_pca_df,CF_label]\n",
        "result = pd.concat(frames,axis=1)"
      ],
      "metadata": {
        "id": "9R2Z9Rg9flgX"
      },
      "execution_count": 100,
      "outputs": []
    },
    {
      "cell_type": "code",
      "source": [
        "result"
      ],
      "metadata": {
        "colab": {
          "base_uri": "https://localhost:8080/",
          "height": 488
        },
        "id": "PLcSV86nfofb",
        "outputId": "7fdd58c9-d133-4070-d734-0f47de8019b9"
      },
      "execution_count": 101,
      "outputs": [
        {
          "output_type": "execute_result",
          "data": {
            "text/html": [
              "\n",
              "  <div id=\"df-8943b03e-d334-4f7e-a7ee-d99a5087246a\">\n",
              "    <div class=\"colab-df-container\">\n",
              "      <div>\n",
              "<style scoped>\n",
              "    .dataframe tbody tr th:only-of-type {\n",
              "        vertical-align: middle;\n",
              "    }\n",
              "\n",
              "    .dataframe tbody tr th {\n",
              "        vertical-align: top;\n",
              "    }\n",
              "\n",
              "    .dataframe thead th {\n",
              "        text-align: right;\n",
              "    }\n",
              "</style>\n",
              "<table border=\"1\" class=\"dataframe\">\n",
              "  <thead>\n",
              "    <tr style=\"text-align: right;\">\n",
              "      <th></th>\n",
              "      <th>0</th>\n",
              "      <th>1</th>\n",
              "      <th>2</th>\n",
              "      <th>3</th>\n",
              "      <th>4</th>\n",
              "      <th>5</th>\n",
              "      <th>6</th>\n",
              "      <th>7</th>\n",
              "      <th>8</th>\n",
              "      <th>9</th>\n",
              "      <th>0</th>\n",
              "      <th>1</th>\n",
              "      <th>2</th>\n",
              "      <th>3</th>\n",
              "      <th>4</th>\n",
              "      <th>5</th>\n",
              "      <th>6</th>\n",
              "      <th>7</th>\n",
              "      <th>8</th>\n",
              "      <th>9</th>\n",
              "      <th>0</th>\n",
              "      <th>1</th>\n",
              "      <th>2</th>\n",
              "      <th>3</th>\n",
              "      <th>4</th>\n",
              "      <th>5</th>\n",
              "      <th>6</th>\n",
              "      <th>7</th>\n",
              "      <th>8</th>\n",
              "      <th>9</th>\n",
              "      <th>0</th>\n",
              "      <th>1</th>\n",
              "      <th>2</th>\n",
              "      <th>3</th>\n",
              "      <th>4</th>\n",
              "      <th>5</th>\n",
              "      <th>6</th>\n",
              "      <th>7</th>\n",
              "      <th>8</th>\n",
              "      <th>9</th>\n",
              "      <th>0</th>\n",
              "      <th>1</th>\n",
              "      <th>2</th>\n",
              "      <th>3</th>\n",
              "      <th>4</th>\n",
              "      <th>5</th>\n",
              "      <th>6</th>\n",
              "      <th>7</th>\n",
              "      <th>8</th>\n",
              "      <th>9</th>\n",
              "      <th>0</th>\n",
              "      <th>1</th>\n",
              "      <th>2</th>\n",
              "      <th>3</th>\n",
              "      <th>4</th>\n",
              "      <th>5</th>\n",
              "      <th>6</th>\n",
              "      <th>7</th>\n",
              "      <th>8</th>\n",
              "      <th>9</th>\n",
              "      <th>0</th>\n",
              "      <th>1</th>\n",
              "      <th>2</th>\n",
              "      <th>3</th>\n",
              "      <th>4</th>\n",
              "      <th>5</th>\n",
              "      <th>6</th>\n",
              "      <th>7</th>\n",
              "      <th>8</th>\n",
              "      <th>9</th>\n",
              "      <th>label</th>\n",
              "    </tr>\n",
              "  </thead>\n",
              "  <tbody>\n",
              "    <tr>\n",
              "      <th>0</th>\n",
              "      <td>-1.451563</td>\n",
              "      <td>-3.158015</td>\n",
              "      <td>-0.040985</td>\n",
              "      <td>-2.124826e-14</td>\n",
              "      <td>2.468214e-14</td>\n",
              "      <td>0.078314</td>\n",
              "      <td>2.372811</td>\n",
              "      <td>-1.421917</td>\n",
              "      <td>-0.000601</td>\n",
              "      <td>-0.000466</td>\n",
              "      <td>-102.991834</td>\n",
              "      <td>0.383558</td>\n",
              "      <td>0.088019</td>\n",
              "      <td>-0.524355</td>\n",
              "      <td>-0.001751</td>\n",
              "      <td>8.819706e-11</td>\n",
              "      <td>4.264767e-11</td>\n",
              "      <td>0.004717</td>\n",
              "      <td>-2.221611</td>\n",
              "      <td>-0.218229</td>\n",
              "      <td>-1.367089</td>\n",
              "      <td>-3.644380</td>\n",
              "      <td>-0.166910</td>\n",
              "      <td>-0.335420</td>\n",
              "      <td>-0.055829</td>\n",
              "      <td>1.710604e-14</td>\n",
              "      <td>1.461212</td>\n",
              "      <td>3.186222</td>\n",
              "      <td>-0.037068</td>\n",
              "      <td>-0.058313</td>\n",
              "      <td>-1.433752</td>\n",
              "      <td>-3.508578</td>\n",
              "      <td>-0.235558</td>\n",
              "      <td>-0.411706</td>\n",
              "      <td>-0.055588</td>\n",
              "      <td>5.997665e-14</td>\n",
              "      <td>1.375584</td>\n",
              "      <td>3.226456</td>\n",
              "      <td>-0.066865</td>\n",
              "      <td>0.009486</td>\n",
              "      <td>-1.365012</td>\n",
              "      <td>-3.544244</td>\n",
              "      <td>-0.260009</td>\n",
              "      <td>-0.374206</td>\n",
              "      <td>-0.055655</td>\n",
              "      <td>5.129226e-15</td>\n",
              "      <td>1.449726</td>\n",
              "      <td>3.174196</td>\n",
              "      <td>-0.064185</td>\n",
              "      <td>0.017385</td>\n",
              "      <td>-0.292589</td>\n",
              "      <td>-0.059962</td>\n",
              "      <td>-0.075792</td>\n",
              "      <td>-0.026071</td>\n",
              "      <td>-0.048351</td>\n",
              "      <td>-0.019421</td>\n",
              "      <td>-0.021397</td>\n",
              "      <td>-0.011183</td>\n",
              "      <td>-0.008088</td>\n",
              "      <td>-0.013878</td>\n",
              "      <td>-0.242678</td>\n",
              "      <td>-0.557415</td>\n",
              "      <td>-0.058785</td>\n",
              "      <td>-0.098128</td>\n",
              "      <td>-0.009416</td>\n",
              "      <td>-3.606062e-15</td>\n",
              "      <td>0.197692</td>\n",
              "      <td>0.714683</td>\n",
              "      <td>-9.975066e-16</td>\n",
              "      <td>-0.044126</td>\n",
              "      <td>1</td>\n",
              "    </tr>\n",
              "    <tr>\n",
              "      <th>1</th>\n",
              "      <td>-1.451563</td>\n",
              "      <td>-3.158015</td>\n",
              "      <td>-0.040985</td>\n",
              "      <td>7.299153e-15</td>\n",
              "      <td>4.454835e-14</td>\n",
              "      <td>0.078314</td>\n",
              "      <td>2.372811</td>\n",
              "      <td>-1.421917</td>\n",
              "      <td>-0.000601</td>\n",
              "      <td>-0.000466</td>\n",
              "      <td>-102.991834</td>\n",
              "      <td>0.383558</td>\n",
              "      <td>0.088019</td>\n",
              "      <td>-0.524355</td>\n",
              "      <td>-0.001751</td>\n",
              "      <td>-4.513986e-13</td>\n",
              "      <td>2.357055e-12</td>\n",
              "      <td>0.004717</td>\n",
              "      <td>-2.221611</td>\n",
              "      <td>-0.218229</td>\n",
              "      <td>-1.367089</td>\n",
              "      <td>-3.644380</td>\n",
              "      <td>-0.166910</td>\n",
              "      <td>-0.335420</td>\n",
              "      <td>-0.055829</td>\n",
              "      <td>3.176619e-14</td>\n",
              "      <td>1.461212</td>\n",
              "      <td>3.186222</td>\n",
              "      <td>-0.037068</td>\n",
              "      <td>-0.058313</td>\n",
              "      <td>-1.433752</td>\n",
              "      <td>-3.508578</td>\n",
              "      <td>-0.235558</td>\n",
              "      <td>-0.411706</td>\n",
              "      <td>-0.055588</td>\n",
              "      <td>3.040227e-14</td>\n",
              "      <td>1.375584</td>\n",
              "      <td>3.226456</td>\n",
              "      <td>-0.066865</td>\n",
              "      <td>0.009486</td>\n",
              "      <td>-1.365012</td>\n",
              "      <td>-3.544244</td>\n",
              "      <td>-0.260009</td>\n",
              "      <td>-0.374206</td>\n",
              "      <td>-0.055655</td>\n",
              "      <td>-3.797384e-14</td>\n",
              "      <td>1.449726</td>\n",
              "      <td>3.174196</td>\n",
              "      <td>-0.064185</td>\n",
              "      <td>0.017385</td>\n",
              "      <td>-0.292589</td>\n",
              "      <td>-0.059962</td>\n",
              "      <td>-0.075792</td>\n",
              "      <td>-0.026071</td>\n",
              "      <td>-0.048351</td>\n",
              "      <td>-0.019421</td>\n",
              "      <td>-0.021397</td>\n",
              "      <td>-0.011183</td>\n",
              "      <td>-0.008088</td>\n",
              "      <td>-0.013879</td>\n",
              "      <td>-0.242678</td>\n",
              "      <td>-0.557415</td>\n",
              "      <td>-0.058785</td>\n",
              "      <td>-0.098128</td>\n",
              "      <td>-0.009416</td>\n",
              "      <td>-4.056795e-15</td>\n",
              "      <td>0.197692</td>\n",
              "      <td>0.714683</td>\n",
              "      <td>-1.040649e-15</td>\n",
              "      <td>-0.044126</td>\n",
              "      <td>1</td>\n",
              "    </tr>\n",
              "    <tr>\n",
              "      <th>2</th>\n",
              "      <td>-1.451563</td>\n",
              "      <td>-3.158015</td>\n",
              "      <td>-0.040985</td>\n",
              "      <td>-2.777259e-13</td>\n",
              "      <td>-1.414840e-13</td>\n",
              "      <td>0.078314</td>\n",
              "      <td>2.372811</td>\n",
              "      <td>-1.421917</td>\n",
              "      <td>-0.000601</td>\n",
              "      <td>-0.000466</td>\n",
              "      <td>-102.991834</td>\n",
              "      <td>0.383558</td>\n",
              "      <td>0.088019</td>\n",
              "      <td>-0.524355</td>\n",
              "      <td>-0.001751</td>\n",
              "      <td>2.675890e-13</td>\n",
              "      <td>2.739301e-12</td>\n",
              "      <td>0.004717</td>\n",
              "      <td>-2.221611</td>\n",
              "      <td>-0.218229</td>\n",
              "      <td>-1.367089</td>\n",
              "      <td>-3.644380</td>\n",
              "      <td>-0.166910</td>\n",
              "      <td>-0.335420</td>\n",
              "      <td>-0.055829</td>\n",
              "      <td>-2.190070e-14</td>\n",
              "      <td>1.461212</td>\n",
              "      <td>3.186222</td>\n",
              "      <td>-0.037068</td>\n",
              "      <td>-0.058313</td>\n",
              "      <td>-1.433752</td>\n",
              "      <td>-3.508578</td>\n",
              "      <td>-0.235558</td>\n",
              "      <td>-0.411706</td>\n",
              "      <td>-0.055588</td>\n",
              "      <td>4.601791e-14</td>\n",
              "      <td>1.375584</td>\n",
              "      <td>3.226456</td>\n",
              "      <td>-0.066865</td>\n",
              "      <td>0.009486</td>\n",
              "      <td>-1.365012</td>\n",
              "      <td>-3.544244</td>\n",
              "      <td>-0.260009</td>\n",
              "      <td>-0.374206</td>\n",
              "      <td>-0.055655</td>\n",
              "      <td>-7.271195e-15</td>\n",
              "      <td>1.449726</td>\n",
              "      <td>3.174196</td>\n",
              "      <td>-0.064185</td>\n",
              "      <td>0.017385</td>\n",
              "      <td>-0.292589</td>\n",
              "      <td>-0.059962</td>\n",
              "      <td>-0.075792</td>\n",
              "      <td>-0.026071</td>\n",
              "      <td>-0.048351</td>\n",
              "      <td>-0.019421</td>\n",
              "      <td>-0.021397</td>\n",
              "      <td>-0.011183</td>\n",
              "      <td>-0.008088</td>\n",
              "      <td>-0.013878</td>\n",
              "      <td>-0.242678</td>\n",
              "      <td>-0.557415</td>\n",
              "      <td>-0.058785</td>\n",
              "      <td>-0.098128</td>\n",
              "      <td>-0.009416</td>\n",
              "      <td>4.401725e-15</td>\n",
              "      <td>0.197692</td>\n",
              "      <td>0.714683</td>\n",
              "      <td>-1.006246e-15</td>\n",
              "      <td>-0.044126</td>\n",
              "      <td>1</td>\n",
              "    </tr>\n",
              "    <tr>\n",
              "      <th>3</th>\n",
              "      <td>-1.451563</td>\n",
              "      <td>-3.158015</td>\n",
              "      <td>-0.040985</td>\n",
              "      <td>-3.789834e-14</td>\n",
              "      <td>9.692992e-14</td>\n",
              "      <td>0.078314</td>\n",
              "      <td>2.372811</td>\n",
              "      <td>-1.421917</td>\n",
              "      <td>-0.000601</td>\n",
              "      <td>-0.000466</td>\n",
              "      <td>-102.991834</td>\n",
              "      <td>0.383558</td>\n",
              "      <td>0.088019</td>\n",
              "      <td>-0.524355</td>\n",
              "      <td>-0.001751</td>\n",
              "      <td>1.931853e-13</td>\n",
              "      <td>-5.831784e-14</td>\n",
              "      <td>0.004717</td>\n",
              "      <td>-2.221611</td>\n",
              "      <td>-0.218229</td>\n",
              "      <td>-1.367089</td>\n",
              "      <td>-3.644380</td>\n",
              "      <td>-0.166910</td>\n",
              "      <td>-0.335420</td>\n",
              "      <td>-0.055829</td>\n",
              "      <td>1.718569e-14</td>\n",
              "      <td>1.461212</td>\n",
              "      <td>3.186222</td>\n",
              "      <td>-0.037068</td>\n",
              "      <td>-0.058313</td>\n",
              "      <td>-1.433752</td>\n",
              "      <td>-3.508578</td>\n",
              "      <td>-0.235558</td>\n",
              "      <td>-0.411706</td>\n",
              "      <td>-0.055588</td>\n",
              "      <td>-2.557140e-14</td>\n",
              "      <td>1.375584</td>\n",
              "      <td>3.226456</td>\n",
              "      <td>-0.066865</td>\n",
              "      <td>0.009486</td>\n",
              "      <td>-1.365012</td>\n",
              "      <td>-3.544244</td>\n",
              "      <td>-0.260009</td>\n",
              "      <td>-0.374206</td>\n",
              "      <td>-0.055655</td>\n",
              "      <td>-2.604098e-15</td>\n",
              "      <td>1.449726</td>\n",
              "      <td>3.174196</td>\n",
              "      <td>-0.064185</td>\n",
              "      <td>0.017385</td>\n",
              "      <td>-0.292589</td>\n",
              "      <td>-0.059962</td>\n",
              "      <td>-0.075792</td>\n",
              "      <td>-0.026071</td>\n",
              "      <td>-0.048351</td>\n",
              "      <td>-0.019421</td>\n",
              "      <td>-0.021397</td>\n",
              "      <td>-0.011183</td>\n",
              "      <td>-0.008088</td>\n",
              "      <td>-0.013878</td>\n",
              "      <td>-0.242678</td>\n",
              "      <td>-0.557415</td>\n",
              "      <td>-0.058785</td>\n",
              "      <td>-0.098128</td>\n",
              "      <td>-0.009416</td>\n",
              "      <td>-1.587781e-15</td>\n",
              "      <td>0.197692</td>\n",
              "      <td>0.714683</td>\n",
              "      <td>-9.964925e-16</td>\n",
              "      <td>-0.044126</td>\n",
              "      <td>1</td>\n",
              "    </tr>\n",
              "    <tr>\n",
              "      <th>4</th>\n",
              "      <td>-1.451563</td>\n",
              "      <td>-3.158015</td>\n",
              "      <td>-0.040985</td>\n",
              "      <td>-1.694571e-14</td>\n",
              "      <td>3.701731e-14</td>\n",
              "      <td>0.078314</td>\n",
              "      <td>2.372811</td>\n",
              "      <td>-1.421917</td>\n",
              "      <td>-0.000601</td>\n",
              "      <td>-0.000466</td>\n",
              "      <td>1315.242198</td>\n",
              "      <td>57.537629</td>\n",
              "      <td>-38.774207</td>\n",
              "      <td>-0.272194</td>\n",
              "      <td>-0.478054</td>\n",
              "      <td>6.126634e-13</td>\n",
              "      <td>2.156667e-12</td>\n",
              "      <td>0.890438</td>\n",
              "      <td>-1.831993</td>\n",
              "      <td>-0.498416</td>\n",
              "      <td>-1.367089</td>\n",
              "      <td>-3.644380</td>\n",
              "      <td>-0.166910</td>\n",
              "      <td>-0.335420</td>\n",
              "      <td>-0.055829</td>\n",
              "      <td>1.332294e-14</td>\n",
              "      <td>1.461212</td>\n",
              "      <td>3.186222</td>\n",
              "      <td>-0.037068</td>\n",
              "      <td>-0.058313</td>\n",
              "      <td>-1.433752</td>\n",
              "      <td>-3.508578</td>\n",
              "      <td>-0.235558</td>\n",
              "      <td>-0.411706</td>\n",
              "      <td>-0.055588</td>\n",
              "      <td>3.766576e-14</td>\n",
              "      <td>1.375584</td>\n",
              "      <td>3.226456</td>\n",
              "      <td>-0.066865</td>\n",
              "      <td>0.009486</td>\n",
              "      <td>-1.365012</td>\n",
              "      <td>-3.544244</td>\n",
              "      <td>-0.260009</td>\n",
              "      <td>-0.374206</td>\n",
              "      <td>-0.055655</td>\n",
              "      <td>3.840639e-14</td>\n",
              "      <td>1.449726</td>\n",
              "      <td>3.174196</td>\n",
              "      <td>-0.064185</td>\n",
              "      <td>0.017385</td>\n",
              "      <td>17.419727</td>\n",
              "      <td>-0.052902</td>\n",
              "      <td>-0.104561</td>\n",
              "      <td>-0.009063</td>\n",
              "      <td>0.023198</td>\n",
              "      <td>-0.059665</td>\n",
              "      <td>-0.017211</td>\n",
              "      <td>0.008785</td>\n",
              "      <td>-0.000016</td>\n",
              "      <td>0.035103</td>\n",
              "      <td>-0.242678</td>\n",
              "      <td>-0.557415</td>\n",
              "      <td>-0.058785</td>\n",
              "      <td>-0.098128</td>\n",
              "      <td>-0.009416</td>\n",
              "      <td>8.820413e-15</td>\n",
              "      <td>0.197692</td>\n",
              "      <td>0.714683</td>\n",
              "      <td>-1.020152e-15</td>\n",
              "      <td>-0.044126</td>\n",
              "      <td>1</td>\n",
              "    </tr>\n",
              "    <tr>\n",
              "      <th>...</th>\n",
              "      <td>...</td>\n",
              "      <td>...</td>\n",
              "      <td>...</td>\n",
              "      <td>...</td>\n",
              "      <td>...</td>\n",
              "      <td>...</td>\n",
              "      <td>...</td>\n",
              "      <td>...</td>\n",
              "      <td>...</td>\n",
              "      <td>...</td>\n",
              "      <td>...</td>\n",
              "      <td>...</td>\n",
              "      <td>...</td>\n",
              "      <td>...</td>\n",
              "      <td>...</td>\n",
              "      <td>...</td>\n",
              "      <td>...</td>\n",
              "      <td>...</td>\n",
              "      <td>...</td>\n",
              "      <td>...</td>\n",
              "      <td>...</td>\n",
              "      <td>...</td>\n",
              "      <td>...</td>\n",
              "      <td>...</td>\n",
              "      <td>...</td>\n",
              "      <td>...</td>\n",
              "      <td>...</td>\n",
              "      <td>...</td>\n",
              "      <td>...</td>\n",
              "      <td>...</td>\n",
              "      <td>...</td>\n",
              "      <td>...</td>\n",
              "      <td>...</td>\n",
              "      <td>...</td>\n",
              "      <td>...</td>\n",
              "      <td>...</td>\n",
              "      <td>...</td>\n",
              "      <td>...</td>\n",
              "      <td>...</td>\n",
              "      <td>...</td>\n",
              "      <td>...</td>\n",
              "      <td>...</td>\n",
              "      <td>...</td>\n",
              "      <td>...</td>\n",
              "      <td>...</td>\n",
              "      <td>...</td>\n",
              "      <td>...</td>\n",
              "      <td>...</td>\n",
              "      <td>...</td>\n",
              "      <td>...</td>\n",
              "      <td>...</td>\n",
              "      <td>...</td>\n",
              "      <td>...</td>\n",
              "      <td>...</td>\n",
              "      <td>...</td>\n",
              "      <td>...</td>\n",
              "      <td>...</td>\n",
              "      <td>...</td>\n",
              "      <td>...</td>\n",
              "      <td>...</td>\n",
              "      <td>...</td>\n",
              "      <td>...</td>\n",
              "      <td>...</td>\n",
              "      <td>...</td>\n",
              "      <td>...</td>\n",
              "      <td>...</td>\n",
              "      <td>...</td>\n",
              "      <td>...</td>\n",
              "      <td>...</td>\n",
              "      <td>...</td>\n",
              "      <td>...</td>\n",
              "    </tr>\n",
              "    <tr>\n",
              "      <th>1315</th>\n",
              "      <td>11.998517</td>\n",
              "      <td>3.696384</td>\n",
              "      <td>0.007241</td>\n",
              "      <td>-1.193473e-15</td>\n",
              "      <td>4.949426e-16</td>\n",
              "      <td>-0.013076</td>\n",
              "      <td>-0.139465</td>\n",
              "      <td>0.030061</td>\n",
              "      <td>-0.000012</td>\n",
              "      <td>0.988523</td>\n",
              "      <td>-105.689202</td>\n",
              "      <td>0.280200</td>\n",
              "      <td>0.126156</td>\n",
              "      <td>-1.063526</td>\n",
              "      <td>-0.004042</td>\n",
              "      <td>2.296092e-12</td>\n",
              "      <td>3.437250e-12</td>\n",
              "      <td>0.010602</td>\n",
              "      <td>-4.833333</td>\n",
              "      <td>5.979337</td>\n",
              "      <td>11.514168</td>\n",
              "      <td>3.587780</td>\n",
              "      <td>-0.075018</td>\n",
              "      <td>0.025561</td>\n",
              "      <td>0.005833</td>\n",
              "      <td>-8.817525e-15</td>\n",
              "      <td>-0.149989</td>\n",
              "      <td>0.006951</td>\n",
              "      <td>0.023030</td>\n",
              "      <td>0.121131</td>\n",
              "      <td>-8.646621</td>\n",
              "      <td>7.980891</td>\n",
              "      <td>0.021354</td>\n",
              "      <td>0.029998</td>\n",
              "      <td>0.010733</td>\n",
              "      <td>-4.737039e-15</td>\n",
              "      <td>-0.324176</td>\n",
              "      <td>-0.080927</td>\n",
              "      <td>0.352436</td>\n",
              "      <td>0.668643</td>\n",
              "      <td>-5.221840</td>\n",
              "      <td>1.285940</td>\n",
              "      <td>-2.515082</td>\n",
              "      <td>3.551963</td>\n",
              "      <td>0.176830</td>\n",
              "      <td>-8.149915e-14</td>\n",
              "      <td>-0.641811</td>\n",
              "      <td>-0.119537</td>\n",
              "      <td>0.219684</td>\n",
              "      <td>0.387442</td>\n",
              "      <td>-0.294199</td>\n",
              "      <td>0.689445</td>\n",
              "      <td>-0.094135</td>\n",
              "      <td>0.080370</td>\n",
              "      <td>-0.102381</td>\n",
              "      <td>-0.181899</td>\n",
              "      <td>0.132656</td>\n",
              "      <td>0.057196</td>\n",
              "      <td>0.532932</td>\n",
              "      <td>0.269487</td>\n",
              "      <td>-0.272737</td>\n",
              "      <td>-0.655428</td>\n",
              "      <td>-0.078255</td>\n",
              "      <td>-0.122005</td>\n",
              "      <td>-0.015210</td>\n",
              "      <td>-2.837244e-15</td>\n",
              "      <td>1.429221</td>\n",
              "      <td>0.043334</td>\n",
              "      <td>-2.239864e-16</td>\n",
              "      <td>-0.010102</td>\n",
              "      <td>0</td>\n",
              "    </tr>\n",
              "    <tr>\n",
              "      <th>1316</th>\n",
              "      <td>-1.451563</td>\n",
              "      <td>-3.158015</td>\n",
              "      <td>-0.040985</td>\n",
              "      <td>-2.781782e-14</td>\n",
              "      <td>3.808649e-14</td>\n",
              "      <td>0.078314</td>\n",
              "      <td>2.372811</td>\n",
              "      <td>-1.421917</td>\n",
              "      <td>-0.000601</td>\n",
              "      <td>-0.000466</td>\n",
              "      <td>-104.601737</td>\n",
              "      <td>0.316908</td>\n",
              "      <td>0.115468</td>\n",
              "      <td>-1.074849</td>\n",
              "      <td>-0.002042</td>\n",
              "      <td>1.457521e-12</td>\n",
              "      <td>5.006268e-13</td>\n",
              "      <td>0.005573</td>\n",
              "      <td>-2.678498</td>\n",
              "      <td>-0.281924</td>\n",
              "      <td>-1.709064</td>\n",
              "      <td>-5.337453</td>\n",
              "      <td>-0.564015</td>\n",
              "      <td>5.389733</td>\n",
              "      <td>0.345470</td>\n",
              "      <td>-8.016680e-14</td>\n",
              "      <td>-0.985645</td>\n",
              "      <td>-0.156106</td>\n",
              "      <td>0.102887</td>\n",
              "      <td>0.248975</td>\n",
              "      <td>-1.771851</td>\n",
              "      <td>-5.076671</td>\n",
              "      <td>-4.498496</td>\n",
              "      <td>6.041548</td>\n",
              "      <td>0.257856</td>\n",
              "      <td>-1.449871e-13</td>\n",
              "      <td>-0.016959</td>\n",
              "      <td>-0.212416</td>\n",
              "      <td>0.159692</td>\n",
              "      <td>-0.069740</td>\n",
              "      <td>-1.505080</td>\n",
              "      <td>-4.220835</td>\n",
              "      <td>2.956388</td>\n",
              "      <td>0.603276</td>\n",
              "      <td>0.046758</td>\n",
              "      <td>-2.049591e-14</td>\n",
              "      <td>0.570709</td>\n",
              "      <td>1.879241</td>\n",
              "      <td>0.204610</td>\n",
              "      <td>-0.112742</td>\n",
              "      <td>-0.289443</td>\n",
              "      <td>0.019090</td>\n",
              "      <td>1.025352</td>\n",
              "      <td>-0.388403</td>\n",
              "      <td>-0.283940</td>\n",
              "      <td>-0.153265</td>\n",
              "      <td>0.029116</td>\n",
              "      <td>0.105785</td>\n",
              "      <td>-0.015722</td>\n",
              "      <td>-0.171139</td>\n",
              "      <td>0.794200</td>\n",
              "      <td>-0.233240</td>\n",
              "      <td>0.956550</td>\n",
              "      <td>0.249058</td>\n",
              "      <td>0.018043</td>\n",
              "      <td>2.322250e-15</td>\n",
              "      <td>-0.137430</td>\n",
              "      <td>-0.031279</td>\n",
              "      <td>7.025937e-17</td>\n",
              "      <td>-0.002046</td>\n",
              "      <td>0</td>\n",
              "    </tr>\n",
              "    <tr>\n",
              "      <th>1317</th>\n",
              "      <td>-1.451563</td>\n",
              "      <td>-3.158015</td>\n",
              "      <td>-0.040985</td>\n",
              "      <td>-2.781782e-14</td>\n",
              "      <td>3.808649e-14</td>\n",
              "      <td>0.078314</td>\n",
              "      <td>2.372811</td>\n",
              "      <td>-1.421917</td>\n",
              "      <td>-0.000601</td>\n",
              "      <td>-0.000466</td>\n",
              "      <td>-108.493577</td>\n",
              "      <td>0.194751</td>\n",
              "      <td>0.298372</td>\n",
              "      <td>7.320669</td>\n",
              "      <td>0.004150</td>\n",
              "      <td>4.908591e-13</td>\n",
              "      <td>2.981030e-12</td>\n",
              "      <td>-0.008790</td>\n",
              "      <td>1.747286</td>\n",
              "      <td>-0.093568</td>\n",
              "      <td>3.288135</td>\n",
              "      <td>-1.221927</td>\n",
              "      <td>-0.174868</td>\n",
              "      <td>-0.214911</td>\n",
              "      <td>-0.044532</td>\n",
              "      <td>4.795482e-15</td>\n",
              "      <td>4.366183</td>\n",
              "      <td>-0.430119</td>\n",
              "      <td>0.009569</td>\n",
              "      <td>0.077890</td>\n",
              "      <td>-5.749277</td>\n",
              "      <td>3.165915</td>\n",
              "      <td>-0.104609</td>\n",
              "      <td>-0.180187</td>\n",
              "      <td>-0.025235</td>\n",
              "      <td>2.659477e-14</td>\n",
              "      <td>2.620542</td>\n",
              "      <td>-0.258785</td>\n",
              "      <td>0.272921</td>\n",
              "      <td>0.449505</td>\n",
              "      <td>-1.592456</td>\n",
              "      <td>-4.642905</td>\n",
              "      <td>4.962833</td>\n",
              "      <td>1.213047</td>\n",
              "      <td>0.110645</td>\n",
              "      <td>-4.268887e-14</td>\n",
              "      <td>0.022363</td>\n",
              "      <td>1.071425</td>\n",
              "      <td>0.372290</td>\n",
              "      <td>-0.193918</td>\n",
              "      <td>-0.290680</td>\n",
              "      <td>0.171890</td>\n",
              "      <td>0.030866</td>\n",
              "      <td>-0.158069</td>\n",
              "      <td>0.228047</td>\n",
              "      <td>1.040734</td>\n",
              "      <td>0.047949</td>\n",
              "      <td>-0.002937</td>\n",
              "      <td>0.101935</td>\n",
              "      <td>-0.152541</td>\n",
              "      <td>0.105045</td>\n",
              "      <td>-0.375124</td>\n",
              "      <td>-0.051306</td>\n",
              "      <td>-0.080425</td>\n",
              "      <td>-0.007740</td>\n",
              "      <td>-3.786523e-15</td>\n",
              "      <td>0.163139</td>\n",
              "      <td>0.608946</td>\n",
              "      <td>-8.452255e-16</td>\n",
              "      <td>-0.037794</td>\n",
              "      <td>0</td>\n",
              "    </tr>\n",
              "    <tr>\n",
              "      <th>1318</th>\n",
              "      <td>-1.451563</td>\n",
              "      <td>-3.158015</td>\n",
              "      <td>-0.040985</td>\n",
              "      <td>-2.781782e-14</td>\n",
              "      <td>3.808649e-14</td>\n",
              "      <td>0.078314</td>\n",
              "      <td>2.372811</td>\n",
              "      <td>-1.421917</td>\n",
              "      <td>-0.000601</td>\n",
              "      <td>-0.000466</td>\n",
              "      <td>-106.111528</td>\n",
              "      <td>0.257640</td>\n",
              "      <td>0.136036</td>\n",
              "      <td>-0.958269</td>\n",
              "      <td>-0.004358</td>\n",
              "      <td>2.984847e-12</td>\n",
              "      <td>2.828391e-12</td>\n",
              "      <td>0.011419</td>\n",
              "      <td>-5.193106</td>\n",
              "      <td>-5.526669</td>\n",
              "      <td>8.223541</td>\n",
              "      <td>1.661191</td>\n",
              "      <td>-0.116165</td>\n",
              "      <td>-0.071005</td>\n",
              "      <td>-0.014495</td>\n",
              "      <td>-2.916646e-15</td>\n",
              "      <td>1.706014</td>\n",
              "      <td>-0.202813</td>\n",
              "      <td>0.003814</td>\n",
              "      <td>0.042066</td>\n",
              "      <td>11.773395</td>\n",
              "      <td>3.583438</td>\n",
              "      <td>-0.002664</td>\n",
              "      <td>0.069084</td>\n",
              "      <td>0.008970</td>\n",
              "      <td>-4.041242e-15</td>\n",
              "      <td>-0.168753</td>\n",
              "      <td>-0.041634</td>\n",
              "      <td>0.060318</td>\n",
              "      <td>-0.019415</td>\n",
              "      <td>-5.539520</td>\n",
              "      <td>2.902027</td>\n",
              "      <td>-0.154635</td>\n",
              "      <td>-0.163850</td>\n",
              "      <td>-0.019965</td>\n",
              "      <td>1.324678e-14</td>\n",
              "      <td>0.481581</td>\n",
              "      <td>1.346944</td>\n",
              "      <td>0.029614</td>\n",
              "      <td>-0.137519</td>\n",
              "      <td>-0.295681</td>\n",
              "      <td>-0.158440</td>\n",
              "      <td>-0.000356</td>\n",
              "      <td>0.097221</td>\n",
              "      <td>0.668174</td>\n",
              "      <td>-0.260171</td>\n",
              "      <td>0.848740</td>\n",
              "      <td>0.221894</td>\n",
              "      <td>-0.045985</td>\n",
              "      <td>-0.246062</td>\n",
              "      <td>1.675754</td>\n",
              "      <td>0.448320</td>\n",
              "      <td>-0.017607</td>\n",
              "      <td>-0.000486</td>\n",
              "      <td>-0.000171</td>\n",
              "      <td>-3.084958e-16</td>\n",
              "      <td>0.007199</td>\n",
              "      <td>0.130841</td>\n",
              "      <td>-1.633522e-16</td>\n",
              "      <td>-0.008730</td>\n",
              "      <td>0</td>\n",
              "    </tr>\n",
              "    <tr>\n",
              "      <th>1319</th>\n",
              "      <td>-1.451563</td>\n",
              "      <td>-3.158015</td>\n",
              "      <td>-0.040985</td>\n",
              "      <td>-2.781782e-14</td>\n",
              "      <td>3.808649e-14</td>\n",
              "      <td>0.078314</td>\n",
              "      <td>2.372811</td>\n",
              "      <td>-1.421917</td>\n",
              "      <td>-0.000601</td>\n",
              "      <td>-0.000466</td>\n",
              "      <td>-104.914455</td>\n",
              "      <td>0.298304</td>\n",
              "      <td>0.133854</td>\n",
              "      <td>-1.635122</td>\n",
              "      <td>-0.001060</td>\n",
              "      <td>6.647456e-13</td>\n",
              "      <td>3.805722e-13</td>\n",
              "      <td>0.003360</td>\n",
              "      <td>-2.046702</td>\n",
              "      <td>-0.269862</td>\n",
              "      <td>-1.451894</td>\n",
              "      <td>-4.036901</td>\n",
              "      <td>0.106113</td>\n",
              "      <td>-0.230615</td>\n",
              "      <td>-0.059325</td>\n",
              "      <td>1.024045e-14</td>\n",
              "      <td>6.597951</td>\n",
              "      <td>-0.627853</td>\n",
              "      <td>0.020113</td>\n",
              "      <td>0.128231</td>\n",
              "      <td>11.405370</td>\n",
              "      <td>3.378588</td>\n",
              "      <td>-0.010950</td>\n",
              "      <td>0.053647</td>\n",
              "      <td>0.006571</td>\n",
              "      <td>-1.141505e-15</td>\n",
              "      <td>0.025891</td>\n",
              "      <td>-0.055038</td>\n",
              "      <td>0.001601</td>\n",
              "      <td>0.003386</td>\n",
              "      <td>-8.030801</td>\n",
              "      <td>6.749060</td>\n",
              "      <td>-0.091750</td>\n",
              "      <td>-0.038313</td>\n",
              "      <td>0.001334</td>\n",
              "      <td>5.526046e-15</td>\n",
              "      <td>-0.096193</td>\n",
              "      <td>0.256468</td>\n",
              "      <td>0.085593</td>\n",
              "      <td>-0.229963</td>\n",
              "      <td>-0.292611</td>\n",
              "      <td>-0.063125</td>\n",
              "      <td>0.372327</td>\n",
              "      <td>1.043760</td>\n",
              "      <td>0.013071</td>\n",
              "      <td>0.076507</td>\n",
              "      <td>-0.215607</td>\n",
              "      <td>-0.098700</td>\n",
              "      <td>-0.090873</td>\n",
              "      <td>-0.019707</td>\n",
              "      <td>-0.251772</td>\n",
              "      <td>-0.597394</td>\n",
              "      <td>-0.149145</td>\n",
              "      <td>0.046024</td>\n",
              "      <td>-0.004437</td>\n",
              "      <td>-3.773215e-15</td>\n",
              "      <td>0.158579</td>\n",
              "      <td>0.646991</td>\n",
              "      <td>-9.146714e-16</td>\n",
              "      <td>-0.040372</td>\n",
              "      <td>0</td>\n",
              "    </tr>\n",
              "  </tbody>\n",
              "</table>\n",
              "<p>1320 rows × 71 columns</p>\n",
              "</div>\n",
              "      <button class=\"colab-df-convert\" onclick=\"convertToInteractive('df-8943b03e-d334-4f7e-a7ee-d99a5087246a')\"\n",
              "              title=\"Convert this dataframe to an interactive table.\"\n",
              "              style=\"display:none;\">\n",
              "        \n",
              "  <svg xmlns=\"http://www.w3.org/2000/svg\" height=\"24px\"viewBox=\"0 0 24 24\"\n",
              "       width=\"24px\">\n",
              "    <path d=\"M0 0h24v24H0V0z\" fill=\"none\"/>\n",
              "    <path d=\"M18.56 5.44l.94 2.06.94-2.06 2.06-.94-2.06-.94-.94-2.06-.94 2.06-2.06.94zm-11 1L8.5 8.5l.94-2.06 2.06-.94-2.06-.94L8.5 2.5l-.94 2.06-2.06.94zm10 10l.94 2.06.94-2.06 2.06-.94-2.06-.94-.94-2.06-.94 2.06-2.06.94z\"/><path d=\"M17.41 7.96l-1.37-1.37c-.4-.4-.92-.59-1.43-.59-.52 0-1.04.2-1.43.59L10.3 9.45l-7.72 7.72c-.78.78-.78 2.05 0 2.83L4 21.41c.39.39.9.59 1.41.59.51 0 1.02-.2 1.41-.59l7.78-7.78 2.81-2.81c.8-.78.8-2.07 0-2.86zM5.41 20L4 18.59l7.72-7.72 1.47 1.35L5.41 20z\"/>\n",
              "  </svg>\n",
              "      </button>\n",
              "      \n",
              "  <style>\n",
              "    .colab-df-container {\n",
              "      display:flex;\n",
              "      flex-wrap:wrap;\n",
              "      gap: 12px;\n",
              "    }\n",
              "\n",
              "    .colab-df-convert {\n",
              "      background-color: #E8F0FE;\n",
              "      border: none;\n",
              "      border-radius: 50%;\n",
              "      cursor: pointer;\n",
              "      display: none;\n",
              "      fill: #1967D2;\n",
              "      height: 32px;\n",
              "      padding: 0 0 0 0;\n",
              "      width: 32px;\n",
              "    }\n",
              "\n",
              "    .colab-df-convert:hover {\n",
              "      background-color: #E2EBFA;\n",
              "      box-shadow: 0px 1px 2px rgba(60, 64, 67, 0.3), 0px 1px 3px 1px rgba(60, 64, 67, 0.15);\n",
              "      fill: #174EA6;\n",
              "    }\n",
              "\n",
              "    [theme=dark] .colab-df-convert {\n",
              "      background-color: #3B4455;\n",
              "      fill: #D2E3FC;\n",
              "    }\n",
              "\n",
              "    [theme=dark] .colab-df-convert:hover {\n",
              "      background-color: #434B5C;\n",
              "      box-shadow: 0px 1px 3px 1px rgba(0, 0, 0, 0.15);\n",
              "      filter: drop-shadow(0px 1px 2px rgba(0, 0, 0, 0.3));\n",
              "      fill: #FFFFFF;\n",
              "    }\n",
              "  </style>\n",
              "\n",
              "      <script>\n",
              "        const buttonEl =\n",
              "          document.querySelector('#df-8943b03e-d334-4f7e-a7ee-d99a5087246a button.colab-df-convert');\n",
              "        buttonEl.style.display =\n",
              "          google.colab.kernel.accessAllowed ? 'block' : 'none';\n",
              "\n",
              "        async function convertToInteractive(key) {\n",
              "          const element = document.querySelector('#df-8943b03e-d334-4f7e-a7ee-d99a5087246a');\n",
              "          const dataTable =\n",
              "            await google.colab.kernel.invokeFunction('convertToInteractive',\n",
              "                                                     [key], {});\n",
              "          if (!dataTable) return;\n",
              "\n",
              "          const docLinkHtml = 'Like what you see? Visit the ' +\n",
              "            '<a target=\"_blank\" href=https://colab.research.google.com/notebooks/data_table.ipynb>data table notebook</a>'\n",
              "            + ' to learn more about interactive tables.';\n",
              "          element.innerHTML = '';\n",
              "          dataTable['output_type'] = 'display_data';\n",
              "          await google.colab.output.renderOutput(dataTable, element);\n",
              "          const docLink = document.createElement('div');\n",
              "          docLink.innerHTML = docLinkHtml;\n",
              "          element.appendChild(docLink);\n",
              "        }\n",
              "      </script>\n",
              "    </div>\n",
              "  </div>\n",
              "  "
            ],
            "text/plain": [
              "              0         1         2  ...             8         9  label\n",
              "0     -1.451563 -3.158015 -0.040985  ... -9.975066e-16 -0.044126      1\n",
              "1     -1.451563 -3.158015 -0.040985  ... -1.040649e-15 -0.044126      1\n",
              "2     -1.451563 -3.158015 -0.040985  ... -1.006246e-15 -0.044126      1\n",
              "3     -1.451563 -3.158015 -0.040985  ... -9.964925e-16 -0.044126      1\n",
              "4     -1.451563 -3.158015 -0.040985  ... -1.020152e-15 -0.044126      1\n",
              "...         ...       ...       ...  ...           ...       ...    ...\n",
              "1315  11.998517  3.696384  0.007241  ... -2.239864e-16 -0.010102      0\n",
              "1316  -1.451563 -3.158015 -0.040985  ...  7.025937e-17 -0.002046      0\n",
              "1317  -1.451563 -3.158015 -0.040985  ... -8.452255e-16 -0.037794      0\n",
              "1318  -1.451563 -3.158015 -0.040985  ... -1.633522e-16 -0.008730      0\n",
              "1319  -1.451563 -3.158015 -0.040985  ... -9.146714e-16 -0.040372      0\n",
              "\n",
              "[1320 rows x 71 columns]"
            ]
          },
          "metadata": {},
          "execution_count": 101
        }
      ]
    },
    {
      "cell_type": "code",
      "source": [
        "with pd.HDFStore('/content/drive/MyDrive/1000/part2_result',  mode='w') as store:\n",
        "      store.append('result', result,format='table')"
      ],
      "metadata": {
        "id": "8BCid6sYhFER"
      },
      "execution_count": null,
      "outputs": []
    }
  ]
}