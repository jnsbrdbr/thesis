{
  "nbformat": 4,
  "nbformat_minor": 0,
  "metadata": {
    "colab": {
      "name": "part4/Gan.ipynb",
      "provenance": [],
      "collapsed_sections": [],
      "include_colab_link": true
    },
    "kernelspec": {
      "name": "python3",
      "display_name": "Python 3"
    },
    "language_info": {
      "name": "python"
    }
  },
  "cells": [
    {
      "cell_type": "markdown",
      "metadata": {
        "id": "view-in-github",
        "colab_type": "text"
      },
      "source": [
        "<a href=\"https://colab.research.google.com/github/jnsbrdbr/thesis/blob/thesis/part4_Gan.ipynb\" target=\"_parent\"><img src=\"https://colab.research.google.com/assets/colab-badge.svg\" alt=\"Open In Colab\"/></a>"
      ]
    },
    {
      "cell_type": "code",
      "source": [
        "# Install TensorFlow\n",
        "# !pip install -q tensorflow-gpu==2.0.0-rc0\n",
        "\n",
        "try:\n",
        "  %tensorflow_version 2.x  # Colab only.\n",
        "except Exception:\n",
        "  pass\n",
        "\n",
        "import tensorflow as tf\n",
        "print(tf.__version__)"
      ],
      "metadata": {
        "colab": {
          "base_uri": "https://localhost:8080/"
        },
        "id": "otWnuJ9qLwUc",
        "outputId": "f0bff17a-9430-47e1-b8db-4ebdd6ce5f0f"
      },
      "execution_count": 1,
      "outputs": [
        {
          "output_type": "stream",
          "name": "stdout",
          "text": [
            "`%tensorflow_version` only switches the major version: 1.x or 2.x.\n",
            "You set: `2.x  # Colab only.`. This will be interpreted as: `2.x`.\n",
            "\n",
            "\n",
            "TensorFlow 2.x selected.\n",
            "2.7.0\n"
          ]
        }
      ]
    },
    {
      "cell_type": "code",
      "execution_count": 2,
      "metadata": {
        "id": "0TMMdcYXLfKX"
      },
      "outputs": [],
      "source": [
        "import keras\n",
        "from keras.layers import Input, Dense, Activation, LeakyReLU, BatchNormalization\n",
        "from keras.models import Sequential\n",
        "from tensorflow.keras.optimizers import Adam\n",
        "from sklearn.model_selection import train_test_split\n",
        "from tensorflow.keras.models import Model\n",
        "import keras.backend as K\n",
        "import numpy as np\n",
        "import pandas as pd\n",
        "import matplotlib.pyplot as plt\n",
        "import sys, os\n",
        "\n",
        "%matplotlib inline"
      ]
    },
    {
      "cell_type": "code",
      "source": [
        "from google.colab import drive\n",
        "drive.mount('/content/drive') "
      ],
      "metadata": {
        "colab": {
          "base_uri": "https://localhost:8080/"
        },
        "id": "bX4er_AYLq6K",
        "outputId": "a0400a38-84bf-4851-8e94-cb758e9f124e"
      },
      "execution_count": 3,
      "outputs": [
        {
          "output_type": "stream",
          "name": "stdout",
          "text": [
            "Drive already mounted at /content/drive; to attempt to forcibly remount, call drive.mount(\"/content/drive\", force_remount=True).\n"
          ]
        }
      ]
    },
    {
      "cell_type": "code",
      "source": [
        "!pip install --upgrade tables"
      ],
      "metadata": {
        "id": "jsbYfp8fIfwq",
        "colab": {
          "base_uri": "https://localhost:8080/"
        },
        "outputId": "a97925b2-513e-4c74-d401-e77ce4fe5f6c"
      },
      "execution_count": 4,
      "outputs": [
        {
          "output_type": "stream",
          "name": "stdout",
          "text": [
            "Requirement already satisfied: tables in /usr/local/lib/python3.7/dist-packages (3.7.0)\n",
            "Requirement already satisfied: numexpr>=2.6.2 in /usr/local/lib/python3.7/dist-packages (from tables) (2.8.1)\n",
            "Requirement already satisfied: numpy>=1.19.0 in /usr/local/lib/python3.7/dist-packages (from tables) (1.19.5)\n",
            "Requirement already satisfied: packaging in /usr/local/lib/python3.7/dist-packages (from tables) (21.3)\n",
            "Requirement already satisfied: pyparsing!=3.0.5,>=2.0.2 in /usr/local/lib/python3.7/dist-packages (from packaging->tables) (3.0.7)\n"
          ]
        }
      ]
    },
    {
      "cell_type": "code",
      "source": [
        "with pd.HDFStore('/content/drive/MyDrive/1000/part2_result',  mode='r') as newstore:\n",
        "    result = newstore.select('result')"
      ],
      "metadata": {
        "id": "Mg5VErEvL_dI"
      },
      "execution_count": 5,
      "outputs": []
    },
    {
      "cell_type": "code",
      "source": [
        "#final data\n",
        "print(result)"
      ],
      "metadata": {
        "colab": {
          "base_uri": "https://localhost:8080/"
        },
        "id": "gTYzeeA4MA0Q",
        "outputId": "afbd3c8e-8567-4187-ad56-51cb5fc9ffa7"
      },
      "execution_count": 6,
      "outputs": [
        {
          "output_type": "stream",
          "name": "stdout",
          "text": [
            "             0         1         2  ...         8         9  label\n",
            "0    -1.680599 -3.061217 -0.040984  ... -0.006112 -0.004759      1\n",
            "1    -1.680599 -3.061217 -0.040984  ... -0.006112 -0.004759      1\n",
            "2    -1.680599 -3.061217 -0.040984  ... -0.006112 -0.004759      1\n",
            "3    -1.680599 -3.061217 -0.040984  ... -0.006112 -0.004759      1\n",
            "4    -1.680599 -3.061217 -0.040984  ...  0.006186  0.002988      1\n",
            "...        ...       ...       ...  ...       ...       ...    ...\n",
            "1315 -1.680599 -3.061217 -0.040984  ... -0.035323 -0.015205      0\n",
            "1316 -1.680599 -3.061217 -0.040984  ... -0.012077 -0.016767      0\n",
            "1317 -1.680599 -3.061217 -0.040984  ... -0.011761 -0.013474      0\n",
            "1318 -1.680599 -3.061217 -0.040984  ...  0.004503  0.113459      0\n",
            "1319 -1.680599 -3.061217 -0.040984  ... -0.022880  0.001418      0\n",
            "\n",
            "[1320 rows x 71 columns]\n"
          ]
        }
      ]
    },
    {
      "cell_type": "code",
      "source": [
        "#divide data in to data_label and non_data label\n",
        "\n",
        "import copy\n",
        "result_nonlabel=copy.deepcopy(result)\n",
        "del result_nonlabel['label']\n",
        "X=result_nonlabel\n",
        "y=result.label"
      ],
      "metadata": {
        "id": "wyfT_GeUMI6t"
      },
      "execution_count": 7,
      "outputs": []
    },
    {
      "cell_type": "code",
      "source": [
        "#splitting data in to test and train...\n",
        "\n",
        "from sklearn.model_selection import train_test_split\n",
        "X_train, X_test, y_train, y_test = train_test_split(X, y ,random_state=42,test_size=0.3)#"
      ],
      "metadata": {
        "id": "lw-KSX7vMMVS"
      },
      "execution_count": 8,
      "outputs": []
    },
    {
      "cell_type": "code",
      "source": [
        "print('shape of x_train is:',X_train.shape)\n",
        "print('shape of x_test is:',X_test.shape)"
      ],
      "metadata": {
        "colab": {
          "base_uri": "https://localhost:8080/"
        },
        "id": "gCL4AIAYMW2C",
        "outputId": "f34aa082-63ac-41c8-d6f7-409f5f12f0da"
      },
      "execution_count": 9,
      "outputs": [
        {
          "output_type": "stream",
          "name": "stdout",
          "text": [
            "shape of x_train is: (924, 70)\n",
            "shape of x_test is: (396, 70)\n"
          ]
        }
      ]
    },
    {
      "cell_type": "code",
      "source": [
        "max(X_train.max())"
      ],
      "metadata": {
        "colab": {
          "base_uri": "https://localhost:8080/"
        },
        "id": "hUnpTq9UI6RZ",
        "outputId": "ea25970b-43ce-44a8-ecd6-c7648710bc27"
      },
      "execution_count": 10,
      "outputs": [
        {
          "output_type": "execute_result",
          "data": {
            "text/plain": [
              "7454.516836076623"
            ]
          },
          "metadata": {},
          "execution_count": 10
        }
      ]
    },
    {
      "cell_type": "code",
      "source": [
        "min(X_train.min())"
      ],
      "metadata": {
        "colab": {
          "base_uri": "https://localhost:8080/"
        },
        "id": "lyx7Tfh9Mvaj",
        "outputId": "2b852f9b-8461-4f2a-e7ec-355e69fc85b6"
      },
      "execution_count": 11,
      "outputs": [
        {
          "output_type": "execute_result",
          "data": {
            "text/plain": [
              "-127.3838709715454"
            ]
          },
          "metadata": {},
          "execution_count": 11
        }
      ]
    },
    {
      "cell_type": "code",
      "source": [
        "def make_latent_samples(n_samples, sample_size):\n",
        "    #return np.random.uniform(-1, 1, size=(n_samples, sample_size))\n",
        "    return np.random.normal(loc=0, scale=1, size=(n_samples, sample_size))"
      ],
      "metadata": {
        "id": "Gb4GzDGpNf4s"
      },
      "execution_count": 12,
      "outputs": []
    },
    {
      "cell_type": "code",
      "source": [
        "make_latent_samples(1, 300) # generates one sample"
      ],
      "metadata": {
        "colab": {
          "base_uri": "https://localhost:8080/"
        },
        "id": "7v6ZN5DMNrGx",
        "outputId": "bce66bc0-9991-4517-9424-53b057d695da"
      },
      "execution_count": 13,
      "outputs": [
        {
          "output_type": "execute_result",
          "data": {
            "text/plain": [
              "array([[ 2.83323090e-02,  6.40594152e-02, -4.89627669e-01,\n",
              "         1.17652996e-01, -3.09044429e+00, -2.56695978e-01,\n",
              "        -1.08377439e+00, -4.23071056e-01, -2.69238897e+00,\n",
              "        -7.88530497e-01,  9.49246892e-01, -4.94207081e-01,\n",
              "        -5.29422805e-01, -9.85076597e-01, -9.61462403e-01,\n",
              "        -1.54636451e+00,  8.67352231e-01,  1.06003858e-01,\n",
              "         1.71583374e+00,  1.09431601e+00, -1.21409905e+00,\n",
              "         2.37835267e-01, -1.12247334e+00,  2.23645539e+00,\n",
              "         1.20772317e+00,  6.57986164e-01, -3.27792528e-01,\n",
              "         1.00329842e+00, -2.68408955e-01, -1.61544883e+00,\n",
              "        -1.31072237e-01, -1.02866881e+00,  1.41582424e+00,\n",
              "        -5.88449599e-01,  3.05724960e-01, -1.45112382e+00,\n",
              "        -1.68864529e+00,  1.09318964e-01, -9.00303197e-01,\n",
              "         7.97242219e-01,  4.49092952e-01,  1.38322330e+00,\n",
              "        -8.67813103e-01,  3.87021265e-01,  1.09198166e+00,\n",
              "        -1.71650887e-02, -7.54562234e-01, -5.83666049e-01,\n",
              "         4.93942732e-01, -5.02874998e-01,  4.73816531e-01,\n",
              "        -1.22534596e-01,  9.90179907e-01,  2.76410750e-01,\n",
              "        -3.46979466e-01,  2.10669096e+00, -1.27806992e+00,\n",
              "         7.84879973e-01,  9.31016789e-01,  9.91612241e-01,\n",
              "         2.13897219e+00, -2.48669242e+00,  5.71925760e-01,\n",
              "        -1.78099665e-01, -1.70523493e+00,  3.87186769e-01,\n",
              "         1.46274830e-01, -1.04871860e+00,  2.95860369e-01,\n",
              "         4.49981287e-01,  8.72671356e-01,  3.35220751e-01,\n",
              "         5.53881697e-02, -6.66191891e-01,  8.28852878e-01,\n",
              "        -2.54148120e-01,  3.43480173e-01, -2.70030727e-01,\n",
              "        -2.21122570e+00,  5.38016577e-02, -7.10845149e-01,\n",
              "         1.58369588e+00, -3.08264718e-01, -1.74097680e+00,\n",
              "        -5.45131649e-01,  3.67455485e-01,  1.88390985e+00,\n",
              "        -9.28402116e-01, -5.46498576e-01,  8.11226361e-01,\n",
              "        -2.25986526e+00, -4.80716815e-01, -1.49438220e+00,\n",
              "        -1.82996765e+00,  1.35628452e+00,  1.22728204e-01,\n",
              "         8.40438891e-02, -7.50378108e-01,  1.53128466e+00,\n",
              "        -1.83693823e-01, -1.82140968e-01,  1.20681952e+00,\n",
              "         2.60218327e-01, -3.64571755e-01,  2.94889295e-01,\n",
              "         1.35619725e+00, -1.13090332e+00, -1.83164041e+00,\n",
              "         1.23609645e+00, -8.17405141e-01, -7.34470156e-01,\n",
              "         3.47784821e-01,  1.37619209e-01, -1.97443106e+00,\n",
              "         8.56637863e-03, -5.21152476e-01, -1.32985058e-01,\n",
              "         9.08545721e-01,  2.22755896e-01, -8.73203340e-01,\n",
              "        -1.16349205e-01, -6.38244396e-02, -3.21549512e-01,\n",
              "         1.53922744e+00, -1.09459933e+00, -1.97513396e-01,\n",
              "        -3.22713919e-01,  1.34633651e+00, -1.64349992e+00,\n",
              "        -2.42217187e+00,  1.99032620e-01, -1.04492219e+00,\n",
              "        -2.01294395e-01, -9.57214249e-01,  1.74493187e-01,\n",
              "        -1.47797825e-01, -3.20031546e-01,  8.27897472e-01,\n",
              "         2.03646173e-01, -3.07279452e-01, -1.56579123e-01,\n",
              "        -4.01107230e-01, -1.57861158e+00, -3.84599492e-02,\n",
              "         5.60201992e-01, -6.87944528e-01,  5.65873629e-01,\n",
              "        -6.97675737e-01, -5.51489226e-01, -1.60532017e-02,\n",
              "         1.55782801e-01, -9.90056860e-01,  5.21800036e-01,\n",
              "        -3.26733777e-01, -3.83793826e-01, -7.69368291e-01,\n",
              "         7.59979404e-01, -5.70779879e-01,  1.62475861e-01,\n",
              "         2.75598995e-01,  2.41954762e-01, -1.43668103e-01,\n",
              "        -1.02129568e-01,  1.19796690e+00,  5.71637451e-02,\n",
              "         2.34216161e-01,  2.76677640e-01,  1.41404419e+00,\n",
              "         4.52916150e-01,  1.65995590e-04, -6.06469519e-01,\n",
              "        -2.21696057e-01,  1.26668405e+00,  1.84611084e+00,\n",
              "         5.99171151e-01,  4.47195897e-01,  5.12042991e-01,\n",
              "        -1.64042873e-01, -7.71528358e-01,  9.76803538e-01,\n",
              "        -8.08149049e-01,  6.73131113e-01,  1.09397367e+00,\n",
              "        -1.12874133e+00, -2.54619784e-01, -1.89412102e+00,\n",
              "         1.14315691e+00, -3.09131017e-01,  1.42592280e+00,\n",
              "        -4.72557122e-02, -5.65284263e-01,  7.97988635e-01,\n",
              "        -1.36495193e+00,  4.50309826e-01, -1.43771814e+00,\n",
              "        -8.23114122e-01,  5.24224884e-01, -1.27075446e+00,\n",
              "         1.66788140e+00,  3.24703431e-01,  1.09540741e-02,\n",
              "        -5.23183630e-01,  4.59149093e-01,  4.97186112e-01,\n",
              "        -3.73383979e-01, -2.39083246e+00,  2.33093058e-01,\n",
              "         5.91054074e-01,  1.81696841e+00,  1.72002327e+00,\n",
              "         1.83600224e-01,  1.16939438e+00, -5.42661936e-01,\n",
              "        -9.05968141e-02,  2.03872248e-01,  2.12405561e-01,\n",
              "        -1.08488334e+00,  4.86757846e-01, -3.71588389e-01,\n",
              "        -5.46099994e-01,  1.33974987e-01, -1.36164472e-01,\n",
              "        -1.00412210e-01,  3.69663016e-01,  1.53209231e+00,\n",
              "         6.68954198e-01, -6.08324853e-01,  6.29572583e-01,\n",
              "        -7.42054164e-01, -2.92020609e+00, -1.49202008e+00,\n",
              "         4.56009401e-01,  1.19796973e+00,  1.11441653e+00,\n",
              "         1.01721307e+00,  1.48010834e-01, -1.21947118e+00,\n",
              "         6.64254552e-01, -1.10629949e+00,  5.31665259e-01,\n",
              "        -7.17290136e-01, -6.84092926e-01, -1.78146732e+00,\n",
              "         8.55335950e-01, -3.24934687e-01,  2.63637063e-01,\n",
              "        -1.01511834e+00, -6.71468610e-01,  1.58174211e+00,\n",
              "         1.41671275e+00, -8.35151095e-01,  9.61047635e-01,\n",
              "         2.52152215e-01, -1.56931382e+00,  7.28528922e-01,\n",
              "        -9.52013217e-01, -4.74488033e-01,  5.62195116e-01,\n",
              "         1.77749932e+00, -9.70530793e-01, -7.69547356e-01,\n",
              "        -1.88705959e+00,  1.87778488e+00, -2.32098884e-01,\n",
              "        -5.37921275e-01, -6.58646674e-01, -5.90263743e-01,\n",
              "         2.19283871e+00,  8.32783791e-01,  3.71732529e-01,\n",
              "         1.13429335e+00,  1.22297940e+00, -1.67447140e+00,\n",
              "        -6.40945041e-01, -8.62008745e-01, -1.62565956e+00,\n",
              "        -7.02730897e-02, -1.18007027e+00,  4.80222458e-01,\n",
              "        -6.84170746e-01,  2.12392718e-01,  6.17020820e-01,\n",
              "        -3.19429796e-02,  1.18914801e+00, -8.08459953e-01,\n",
              "        -6.38943036e-01, -3.90374424e-01,  2.23730246e+00,\n",
              "        -6.49921989e-02,  2.73028331e-01, -4.37149953e-01,\n",
              "         1.36533298e+00,  2.73925599e-01, -4.56367580e-02,\n",
              "        -5.47183672e-01,  6.30215442e-04, -2.43655750e-01,\n",
              "        -1.05029578e-02, -1.78569403e-01, -1.08085130e+00]])"
            ]
          },
          "metadata": {},
          "execution_count": 13
        }
      ]
    },
    {
      "cell_type": "code",
      "source": [
        "generator = Sequential([\n",
        "    Dense(256, input_shape=(300,)),\n",
        "    LeakyReLU(alpha=0.02),\n",
        "    BatchNormalization(momentum=0.6),\n",
        "    Dense(512),\n",
        "    LeakyReLU(alpha=0.02),\n",
        "    BatchNormalization(momentum=0.6),\n",
        "    #Dense(1024),\n",
        "    #LeakyReLU(alpha=0.02),\n",
        "    #BatchNormalization(momentum=0.5),\n",
        "    Dense(70),\n",
        "    Activation('tanh')\n",
        "], name='generator')\n",
        "\n",
        "generator.summary()"
      ],
      "metadata": {
        "colab": {
          "base_uri": "https://localhost:8080/"
        },
        "id": "6GWcS88ukeDz",
        "outputId": "cd6ce239-b394-4913-ef4e-848a3d41f972"
      },
      "execution_count": 14,
      "outputs": [
        {
          "output_type": "stream",
          "name": "stdout",
          "text": [
            "Model: \"generator\"\n",
            "_________________________________________________________________\n",
            " Layer (type)                Output Shape              Param #   \n",
            "=================================================================\n",
            " dense (Dense)               (None, 256)               77056     \n",
            "                                                                 \n",
            " leaky_re_lu (LeakyReLU)     (None, 256)               0         \n",
            "                                                                 \n",
            " batch_normalization (BatchN  (None, 256)              1024      \n",
            " ormalization)                                                   \n",
            "                                                                 \n",
            " dense_1 (Dense)             (None, 512)               131584    \n",
            "                                                                 \n",
            " leaky_re_lu_1 (LeakyReLU)   (None, 512)               0         \n",
            "                                                                 \n",
            " batch_normalization_1 (Batc  (None, 512)              2048      \n",
            " hNormalization)                                                 \n",
            "                                                                 \n",
            " dense_2 (Dense)             (None, 70)                35910     \n",
            "                                                                 \n",
            " activation (Activation)     (None, 70)                0         \n",
            "                                                                 \n",
            "=================================================================\n",
            "Total params: 247,622\n",
            "Trainable params: 246,086\n",
            "Non-trainable params: 1,536\n",
            "_________________________________________________________________\n"
          ]
        }
      ]
    },
    {
      "cell_type": "code",
      "source": [
        "discriminator = Sequential([\n",
        "    Dense(128, input_shape=(70,)),\n",
        "    LeakyReLU(alpha=0.02),\n",
        "    BatchNormalization(momentum=0.6),\n",
        "    Dense(64),\n",
        "    LeakyReLU(alpha=0.02),\n",
        "    BatchNormalization(momentum=0.6),\n",
        "    Dense(32),\n",
        "    LeakyReLU(alpha=0.02),\n",
        "    Dense(16),\n",
        "    LeakyReLU(alpha=0.02),\n",
        "    BatchNormalization(momentum=0.6),\n",
        "    Dense(1),\n",
        "    Activation('sigmoid')\n",
        "], name='discriminator')\n",
        "\n",
        "discriminator.summary()"
      ],
      "metadata": {
        "colab": {
          "base_uri": "https://localhost:8080/"
        },
        "id": "z7-pjXjrkd4N",
        "outputId": "7018997d-5374-4e4f-e42b-2af42b596ea9"
      },
      "execution_count": 15,
      "outputs": [
        {
          "output_type": "stream",
          "name": "stdout",
          "text": [
            "Model: \"discriminator\"\n",
            "_________________________________________________________________\n",
            " Layer (type)                Output Shape              Param #   \n",
            "=================================================================\n",
            " dense_3 (Dense)             (None, 128)               9088      \n",
            "                                                                 \n",
            " leaky_re_lu_2 (LeakyReLU)   (None, 128)               0         \n",
            "                                                                 \n",
            " batch_normalization_2 (Batc  (None, 128)              512       \n",
            " hNormalization)                                                 \n",
            "                                                                 \n",
            " dense_4 (Dense)             (None, 64)                8256      \n",
            "                                                                 \n",
            " leaky_re_lu_3 (LeakyReLU)   (None, 64)                0         \n",
            "                                                                 \n",
            " batch_normalization_3 (Batc  (None, 64)               256       \n",
            " hNormalization)                                                 \n",
            "                                                                 \n",
            " dense_5 (Dense)             (None, 32)                2080      \n",
            "                                                                 \n",
            " leaky_re_lu_4 (LeakyReLU)   (None, 32)                0         \n",
            "                                                                 \n",
            " dense_6 (Dense)             (None, 16)                528       \n",
            "                                                                 \n",
            " leaky_re_lu_5 (LeakyReLU)   (None, 16)                0         \n",
            "                                                                 \n",
            " batch_normalization_4 (Batc  (None, 16)               64        \n",
            " hNormalization)                                                 \n",
            "                                                                 \n",
            " dense_7 (Dense)             (None, 1)                 17        \n",
            "                                                                 \n",
            " activation_1 (Activation)   (None, 1)                 0         \n",
            "                                                                 \n",
            "=================================================================\n",
            "Total params: 20,801\n",
            "Trainable params: 20,385\n",
            "Non-trainable params: 416\n",
            "_________________________________________________________________\n"
          ]
        }
      ]
    },
    {
      "cell_type": "code",
      "source": [
        "# maintain the same shared weights with the generator and the discriminator.\n",
        "gan = Sequential([\n",
        "    generator,\n",
        "    discriminator\n",
        "])\n",
        "\n",
        "gan.summary()"
      ],
      "metadata": {
        "colab": {
          "base_uri": "https://localhost:8080/"
        },
        "id": "tHj9Ag7YPxlg",
        "outputId": "1d9df054-3474-4bd0-e904-b99aa5c46e51"
      },
      "execution_count": 16,
      "outputs": [
        {
          "output_type": "stream",
          "name": "stdout",
          "text": [
            "Model: \"sequential\"\n",
            "_________________________________________________________________\n",
            " Layer (type)                Output Shape              Param #   \n",
            "=================================================================\n",
            " generator (Sequential)      (None, 70)                247622    \n",
            "                                                                 \n",
            " discriminator (Sequential)  (None, 1)                 20801     \n",
            "                                                                 \n",
            "=================================================================\n",
            "Total params: 268,423\n",
            "Trainable params: 266,471\n",
            "Non-trainable params: 1,952\n",
            "_________________________________________________________________\n"
          ]
        }
      ]
    },
    {
      "cell_type": "code",
      "source": [
        "def make_trainable(model, trainable):\n",
        "    for layer in model.layers:\n",
        "        layer.trainable = trainable"
      ],
      "metadata": {
        "id": "7aGPP156Qi-B"
      },
      "execution_count": 17,
      "outputs": []
    },
    {
      "cell_type": "code",
      "source": [
        "make_trainable(discriminator, False)\n",
        "discriminator.summary()"
      ],
      "metadata": {
        "colab": {
          "base_uri": "https://localhost:8080/"
        },
        "id": "PZwVdPMXQoKK",
        "outputId": "f5dfbee0-0407-49d2-86cb-7fea7164eeb3"
      },
      "execution_count": 18,
      "outputs": [
        {
          "output_type": "stream",
          "name": "stdout",
          "text": [
            "Model: \"discriminator\"\n",
            "_________________________________________________________________\n",
            " Layer (type)                Output Shape              Param #   \n",
            "=================================================================\n",
            " dense_3 (Dense)             (None, 128)               9088      \n",
            "                                                                 \n",
            " leaky_re_lu_2 (LeakyReLU)   (None, 128)               0         \n",
            "                                                                 \n",
            " batch_normalization_2 (Batc  (None, 128)              512       \n",
            " hNormalization)                                                 \n",
            "                                                                 \n",
            " dense_4 (Dense)             (None, 64)                8256      \n",
            "                                                                 \n",
            " leaky_re_lu_3 (LeakyReLU)   (None, 64)                0         \n",
            "                                                                 \n",
            " batch_normalization_3 (Batc  (None, 64)               256       \n",
            " hNormalization)                                                 \n",
            "                                                                 \n",
            " dense_5 (Dense)             (None, 32)                2080      \n",
            "                                                                 \n",
            " leaky_re_lu_4 (LeakyReLU)   (None, 32)                0         \n",
            "                                                                 \n",
            " dense_6 (Dense)             (None, 16)                528       \n",
            "                                                                 \n",
            " leaky_re_lu_5 (LeakyReLU)   (None, 16)                0         \n",
            "                                                                 \n",
            " batch_normalization_4 (Batc  (None, 16)               64        \n",
            " hNormalization)                                                 \n",
            "                                                                 \n",
            " dense_7 (Dense)             (None, 1)                 17        \n",
            "                                                                 \n",
            " activation_1 (Activation)   (None, 1)                 0         \n",
            "                                                                 \n",
            "=================================================================\n",
            "Total params: 20,801\n",
            "Trainable params: 0\n",
            "Non-trainable params: 20,801\n",
            "_________________________________________________________________\n"
          ]
        }
      ]
    },
    {
      "cell_type": "code",
      "source": [
        "make_trainable(discriminator, True)\n",
        "discriminator.summary()"
      ],
      "metadata": {
        "colab": {
          "base_uri": "https://localhost:8080/"
        },
        "id": "MiuBeGZfQwuU",
        "outputId": "dd68364a-f9b8-4401-ec5d-7bca0cf7432f"
      },
      "execution_count": 19,
      "outputs": [
        {
          "output_type": "stream",
          "name": "stdout",
          "text": [
            "Model: \"discriminator\"\n",
            "_________________________________________________________________\n",
            " Layer (type)                Output Shape              Param #   \n",
            "=================================================================\n",
            " dense_3 (Dense)             (None, 128)               9088      \n",
            "                                                                 \n",
            " leaky_re_lu_2 (LeakyReLU)   (None, 128)               0         \n",
            "                                                                 \n",
            " batch_normalization_2 (Batc  (None, 128)              512       \n",
            " hNormalization)                                                 \n",
            "                                                                 \n",
            " dense_4 (Dense)             (None, 64)                8256      \n",
            "                                                                 \n",
            " leaky_re_lu_3 (LeakyReLU)   (None, 64)                0         \n",
            "                                                                 \n",
            " batch_normalization_3 (Batc  (None, 64)               256       \n",
            " hNormalization)                                                 \n",
            "                                                                 \n",
            " dense_5 (Dense)             (None, 32)                2080      \n",
            "                                                                 \n",
            " leaky_re_lu_4 (LeakyReLU)   (None, 32)                0         \n",
            "                                                                 \n",
            " dense_6 (Dense)             (None, 16)                528       \n",
            "                                                                 \n",
            " leaky_re_lu_5 (LeakyReLU)   (None, 16)                0         \n",
            "                                                                 \n",
            " batch_normalization_4 (Batc  (None, 16)               64        \n",
            " hNormalization)                                                 \n",
            "                                                                 \n",
            " dense_7 (Dense)             (None, 1)                 17        \n",
            "                                                                 \n",
            " activation_1 (Activation)   (None, 1)                 0         \n",
            "                                                                 \n",
            "=================================================================\n",
            "Total params: 20,801\n",
            "Trainable params: 20,385\n",
            "Non-trainable params: 416\n",
            "_________________________________________________________________\n"
          ]
        }
      ]
    },
    {
      "cell_type": "code",
      "source": [
        "def make_simple_GAN(sample_size, \n",
        "                    g_hidden_size_1,\n",
        "                    g_hidden_size_2,\n",
        "                    g_hidden_size_3,\n",
        "                    d_hidden_size_1,\n",
        "                    d_hidden_size_2, \n",
        "                    d_hidden_size_3,\n",
        "                    d_hidden_size_4,\n",
        "                    leaky_alpha, \n",
        "                    g_learning_rate,\n",
        "                    d_learning_rate):\n",
        "    K.clear_session()\n",
        "    \n",
        "    generator = Sequential([\n",
        "        Dense(g_hidden_size_1, input_shape=(sample_size,)),\n",
        "        LeakyReLU(alpha=leaky_alpha),\n",
        "        BatchNormalization(momentum=0.6),\n",
        "        Dense(g_hidden_size_2),\n",
        "        LeakyReLU(alpha=leaky_alpha),\n",
        "        BatchNormalization(momentum=0.6),\n",
        "        #Dense(g_hidden_size_3),\n",
        "        #LeakyReLU(alpha=leaky_alpha),\n",
        "        #BatchNormalization(momentum=0.5),\n",
        "        Dense(70),        \n",
        "        Activation('tanh')\n",
        "    ], name='generator')    \n",
        "\n",
        "    discriminator = Sequential([\n",
        "        Dense(d_hidden_size_1, input_shape=(70,)),\n",
        "        LeakyReLU(alpha=leaky_alpha),\n",
        "        BatchNormalization(momentum=0.6),\n",
        "        Dense(d_hidden_size_2),\n",
        "        LeakyReLU(alpha=leaky_alpha),\n",
        "        BatchNormalization(momentum=0.6),\n",
        "        Dense(d_hidden_size_3),\n",
        "        LeakyReLU(alpha=leaky_alpha),\n",
        "        #Dense(d_hidden_size_4),\n",
        "        #LeakyReLU(alpha=leaky_alpha),\n",
        "        #BatchNormalization(momentum=0.5),\n",
        "        Dense(1),\n",
        "        Activation('sigmoid')\n",
        "    ], name='discriminator')    \n",
        "    \n",
        "    gan = Sequential([\n",
        "        generator,\n",
        "        discriminator\n",
        "    ])\n",
        "    \n",
        "    discriminator.compile(optimizer=Adam(lr=d_learning_rate), loss='binary_crossentropy')\n",
        "    gan.compile(optimizer=Adam(lr=g_learning_rate), loss='binary_crossentropy')\n",
        "    \n",
        "    return gan, generator, discriminator "
      ],
      "metadata": {
        "id": "_H6oZ41eRQxz"
      },
      "execution_count": 20,
      "outputs": []
    },
    {
      "cell_type": "code",
      "source": [
        "from sklearn import preprocessing\n",
        "def preprocess(x):\n",
        "   x = preprocessing.scale(x)\n",
        "   return x"
      ],
      "metadata": {
        "id": "edF5NE1jJOay"
      },
      "execution_count": 21,
      "outputs": []
    },
    {
      "cell_type": "code",
      "source": [
        "X_train_real = np.array(preprocess(X_train))\n",
        "X_test_real  = np.array(preprocess(X_test))"
      ],
      "metadata": {
        "id": "s_hPnT-kJUOY"
      },
      "execution_count": 22,
      "outputs": []
    },
    {
      "cell_type": "code",
      "source": [
        "while(False):\n",
        "\n",
        "  def deprocess(x):\n",
        "    x = (x / 2 + 1) * 7454.516836076623\n",
        "    x = np.clip(x, -127.3838709715454, 7454.516836076623)\n",
        "    x = np.uint8(x)\n",
        "    x = x.reshape(-1, 70)\n",
        "    return x"
      ],
      "metadata": {
        "id": "lhfb-ElmKZ_T"
      },
      "execution_count": 23,
      "outputs": []
    },
    {
      "cell_type": "code",
      "source": [
        "def make_labels(size):\n",
        "    return np.ones([size, 1]), np.zeros([size, 1])"
      ],
      "metadata": {
        "id": "UgRGo0u6Rfur"
      },
      "execution_count": 24,
      "outputs": []
    },
    {
      "cell_type": "code",
      "source": [
        "y_real_10, y_fake_10 = make_labels(10)\n",
        "\n",
        "y_real_10, y_fake_10"
      ],
      "metadata": {
        "colab": {
          "base_uri": "https://localhost:8080/"
        },
        "id": "UFemg_O3SC0c",
        "outputId": "ff086626-033a-4c90-a297-74defe43df1c"
      },
      "execution_count": 25,
      "outputs": [
        {
          "output_type": "execute_result",
          "data": {
            "text/plain": [
              "(array([[1.],\n",
              "        [1.],\n",
              "        [1.],\n",
              "        [1.],\n",
              "        [1.],\n",
              "        [1.],\n",
              "        [1.],\n",
              "        [1.],\n",
              "        [1.],\n",
              "        [1.]]), array([[0.],\n",
              "        [0.],\n",
              "        [0.],\n",
              "        [0.],\n",
              "        [0.],\n",
              "        [0.],\n",
              "        [0.],\n",
              "        [0.],\n",
              "        [0.],\n",
              "        [0.]]))"
            ]
          },
          "metadata": {},
          "execution_count": 25
        }
      ]
    },
    {
      "cell_type": "code",
      "source": [
        "# hyperparameters\n",
        "sample_size     = 100     # latent sample size (i.e., 100 random numbers)\n",
        "g_hidden_size_1 = 256\n",
        "g_hidden_size_2 = 128\n",
        "g_hidden_size_3 = 128\n",
        "d_hidden_size_1 = 128\n",
        "d_hidden_size_2 = 64\n",
        "d_hidden_size_3 = 32\n",
        "d_hidden_size_4 = 16\n",
        "leaky_alpha     = 0.02\n",
        "g_learning_rate = 0.0001  # learning rate for the generator\n",
        "d_learning_rate = 0.001   # learning rate for the discriminator\n",
        "epochs          = 150\n",
        "batch_size      = 64      # train batch size\n",
        "eval_size       = 16      # evaluate size\n",
        "smooth          = 0.1\n"
      ],
      "metadata": {
        "id": "CE2uorpubLKT"
      },
      "execution_count": 26,
      "outputs": []
    },
    {
      "cell_type": "code",
      "source": [
        "# labels for the batch size and the test size\n",
        "y_train_real, y_train_fake = make_labels(batch_size)\n",
        "y_eval_real,  y_eval_fake  = make_labels(eval_size)\n",
        "\n",
        "# create a GAN, a generator and a discriminator\n",
        "gan, generator, discriminator = make_simple_GAN(\n",
        "    sample_size, \n",
        "    g_hidden_size_1, \n",
        "    g_hidden_size_2,\n",
        "    g_hidden_size_3, \n",
        "    d_hidden_size_1, \n",
        "    d_hidden_size_2,\n",
        "    d_hidden_size_3,\n",
        "    d_hidden_size_4,\n",
        "    leaky_alpha, \n",
        "    g_learning_rate,\n",
        "    d_learning_rate)\n",
        "\n",
        "\n",
        "losses = []\n",
        "losses1 = []\n",
        "for e in range(epochs):\n",
        "    for i in range(len(X_train_real)//batch_size):\n",
        "        # real MNIST digit images\n",
        "        X_batch_real = X_train_real[i*batch_size:(i+1)*batch_size]\n",
        "        \n",
        "        # latent samples and the generated digit images\n",
        "        latent_samples = make_latent_samples(batch_size, sample_size)\n",
        "        X_batch_fake = generator.predict_on_batch(latent_samples)\n",
        "        \n",
        "        # train the discriminator to detect real and fake images\n",
        "        make_trainable(discriminator, True)\n",
        "        discriminator.train_on_batch(X_batch_real, y_train_real * (1 - smooth))\n",
        "        discriminator.train_on_batch(X_batch_fake, y_train_fake)\n",
        "\n",
        "        # train the generator via GAN\n",
        "        make_trainable(discriminator, False)\n",
        "        gan.train_on_batch(latent_samples, y_train_real)\n",
        "   # evaluate\n",
        "    X_eval_real = X_test_real[np.random.choice(len(X_test_real), eval_size, replace=False)]\n",
        "    \n",
        "    latent_samples = make_latent_samples(eval_size, sample_size)\n",
        "    X_eval_fake = generator.predict_on_batch(latent_samples)\n",
        "\n",
        "    d_loss  = discriminator.test_on_batch(X_eval_real, y_eval_real)\n",
        "    d_loss += discriminator.test_on_batch(X_eval_fake, y_eval_fake)\n",
        "    g_loss  = gan.test_on_batch(latent_samples, y_eval_real) # we want the fake to be realistic!\n",
        "    \n",
        "    losses.append((d_loss, g_loss))\n",
        "\n",
        "    #d_acc_real = discriminator.train_on_batch(X_batch_real, y_train_real * (1 - smooth))\n",
        "    #d_acc_fake = discriminator.train_on_batch(X_batch_fake, y_train_fake)\n",
        "    #d_acc  = 0.5 * (d_acc_real + d_acc_fake)\n",
        "\n",
        "    #losses1.append(( d_acc))\n",
        "    print(\"Epoch: {:>3}/{} Discriminator Loss: {:>6.4f} Generator Loss: {:>6.4f} \".format(\n",
        "        e+1, epochs, d_loss, g_loss)) #Discriminator acc: {:>6.4f}:,d_acc"
      ],
      "metadata": {
        "colab": {
          "base_uri": "https://localhost:8080/"
        },
        "id": "QDoP7vMPZo9g",
        "outputId": "8207d122-4b91-4e72-a5f9-078b4996af58"
      },
      "execution_count": 27,
      "outputs": [
        {
          "output_type": "stream",
          "name": "stderr",
          "text": [
            "/usr/local/lib/python3.7/dist-packages/keras/optimizer_v2/adam.py:105: UserWarning: The `lr` argument is deprecated, use `learning_rate` instead.\n",
            "  super(Adam, self).__init__(name, **kwargs)\n"
          ]
        },
        {
          "output_type": "stream",
          "name": "stdout",
          "text": [
            "Epoch:   1/150 Discriminator Loss: 0.8490 Generator Loss: 0.8833 \n",
            "Epoch:   2/150 Discriminator Loss: 0.5759 Generator Loss: 1.3440 \n",
            "Epoch:   3/150 Discriminator Loss: 0.3826 Generator Loss: 1.9041 \n",
            "Epoch:   4/150 Discriminator Loss: 0.3120 Generator Loss: 2.0856 \n",
            "Epoch:   5/150 Discriminator Loss: 0.3638 Generator Loss: 1.9797 \n",
            "Epoch:   6/150 Discriminator Loss: 0.2489 Generator Loss: 2.3387 \n",
            "Epoch:   7/150 Discriminator Loss: 0.2555 Generator Loss: 2.7112 \n",
            "Epoch:   8/150 Discriminator Loss: 0.2231 Generator Loss: 3.0075 \n",
            "Epoch:   9/150 Discriminator Loss: 0.1827 Generator Loss: 3.6129 \n",
            "Epoch:  10/150 Discriminator Loss: 0.2631 Generator Loss: 2.8360 \n",
            "Epoch:  11/150 Discriminator Loss: 0.1907 Generator Loss: 3.5854 \n",
            "Epoch:  12/150 Discriminator Loss: 0.2415 Generator Loss: 3.3575 \n",
            "Epoch:  13/150 Discriminator Loss: 0.2900 Generator Loss: 3.4735 \n",
            "Epoch:  14/150 Discriminator Loss: 0.2202 Generator Loss: 3.6872 \n",
            "Epoch:  15/150 Discriminator Loss: 0.4196 Generator Loss: 3.9020 \n",
            "Epoch:  16/150 Discriminator Loss: 0.2869 Generator Loss: 4.6259 \n",
            "Epoch:  17/150 Discriminator Loss: 0.2695 Generator Loss: 4.1601 \n",
            "Epoch:  18/150 Discriminator Loss: 0.2399 Generator Loss: 4.2212 \n",
            "Epoch:  19/150 Discriminator Loss: 0.2237 Generator Loss: 4.2402 \n",
            "Epoch:  20/150 Discriminator Loss: 0.2805 Generator Loss: 4.4975 \n",
            "Epoch:  21/150 Discriminator Loss: 0.5630 Generator Loss: 4.2326 \n",
            "Epoch:  22/150 Discriminator Loss: 0.1948 Generator Loss: 4.2494 \n",
            "Epoch:  23/150 Discriminator Loss: 0.2558 Generator Loss: 4.4523 \n",
            "Epoch:  24/150 Discriminator Loss: 0.5295 Generator Loss: 4.8073 \n",
            "Epoch:  25/150 Discriminator Loss: 0.2277 Generator Loss: 4.7531 \n",
            "Epoch:  26/150 Discriminator Loss: 0.3161 Generator Loss: 4.5290 \n",
            "Epoch:  27/150 Discriminator Loss: 0.1459 Generator Loss: 4.6436 \n",
            "Epoch:  28/150 Discriminator Loss: 0.2792 Generator Loss: 4.8038 \n",
            "Epoch:  29/150 Discriminator Loss: 0.2876 Generator Loss: 4.8136 \n",
            "Epoch:  30/150 Discriminator Loss: 0.2524 Generator Loss: 4.1797 \n",
            "Epoch:  31/150 Discriminator Loss: 0.1125 Generator Loss: 4.2825 \n",
            "Epoch:  32/150 Discriminator Loss: 0.1538 Generator Loss: 4.5800 \n",
            "Epoch:  33/150 Discriminator Loss: 0.1970 Generator Loss: 5.0099 \n",
            "Epoch:  34/150 Discriminator Loss: 0.4238 Generator Loss: 4.1965 \n",
            "Epoch:  35/150 Discriminator Loss: 0.2151 Generator Loss: 4.9550 \n",
            "Epoch:  36/150 Discriminator Loss: 0.2661 Generator Loss: 4.6221 \n",
            "Epoch:  37/150 Discriminator Loss: 0.1408 Generator Loss: 4.0396 \n",
            "Epoch:  38/150 Discriminator Loss: 0.1229 Generator Loss: 4.7794 \n",
            "Epoch:  39/150 Discriminator Loss: 0.1624 Generator Loss: 4.3765 \n",
            "Epoch:  40/150 Discriminator Loss: 0.4210 Generator Loss: 4.6501 \n",
            "Epoch:  41/150 Discriminator Loss: 0.1218 Generator Loss: 4.8185 \n",
            "Epoch:  42/150 Discriminator Loss: 0.6572 Generator Loss: 4.9846 \n",
            "Epoch:  43/150 Discriminator Loss: 0.2625 Generator Loss: 5.0267 \n",
            "Epoch:  44/150 Discriminator Loss: 0.2681 Generator Loss: 4.8314 \n",
            "Epoch:  45/150 Discriminator Loss: 0.3744 Generator Loss: 4.9615 \n",
            "Epoch:  46/150 Discriminator Loss: 0.1621 Generator Loss: 5.4208 \n",
            "Epoch:  47/150 Discriminator Loss: 0.2505 Generator Loss: 5.3549 \n",
            "Epoch:  48/150 Discriminator Loss: 0.2330 Generator Loss: 4.7222 \n",
            "Epoch:  49/150 Discriminator Loss: 0.3764 Generator Loss: 5.1713 \n",
            "Epoch:  50/150 Discriminator Loss: 0.5379 Generator Loss: 5.5215 \n",
            "Epoch:  51/150 Discriminator Loss: 0.1500 Generator Loss: 4.7624 \n",
            "Epoch:  52/150 Discriminator Loss: 0.2983 Generator Loss: 5.3014 \n",
            "Epoch:  53/150 Discriminator Loss: 0.2670 Generator Loss: 4.5756 \n",
            "Epoch:  54/150 Discriminator Loss: 0.2255 Generator Loss: 5.4993 \n",
            "Epoch:  55/150 Discriminator Loss: 0.1365 Generator Loss: 4.9927 \n",
            "Epoch:  56/150 Discriminator Loss: 0.0920 Generator Loss: 5.0082 \n",
            "Epoch:  57/150 Discriminator Loss: 0.5088 Generator Loss: 5.3584 \n",
            "Epoch:  58/150 Discriminator Loss: 0.4539 Generator Loss: 4.6085 \n",
            "Epoch:  59/150 Discriminator Loss: 0.3420 Generator Loss: 4.8488 \n",
            "Epoch:  60/150 Discriminator Loss: 0.4611 Generator Loss: 4.7635 \n",
            "Epoch:  61/150 Discriminator Loss: 0.2402 Generator Loss: 5.3719 \n",
            "Epoch:  62/150 Discriminator Loss: 0.4367 Generator Loss: 5.2167 \n",
            "Epoch:  63/150 Discriminator Loss: 0.1331 Generator Loss: 5.3409 \n",
            "Epoch:  64/150 Discriminator Loss: 0.3757 Generator Loss: 5.2143 \n",
            "Epoch:  65/150 Discriminator Loss: 0.1814 Generator Loss: 5.0424 \n",
            "Epoch:  66/150 Discriminator Loss: 0.1303 Generator Loss: 5.3503 \n",
            "Epoch:  67/150 Discriminator Loss: 0.1870 Generator Loss: 5.3743 \n",
            "Epoch:  68/150 Discriminator Loss: 0.6149 Generator Loss: 4.8800 \n",
            "Epoch:  69/150 Discriminator Loss: 0.1783 Generator Loss: 4.8978 \n",
            "Epoch:  70/150 Discriminator Loss: 0.2203 Generator Loss: 5.4115 \n",
            "Epoch:  71/150 Discriminator Loss: 0.3684 Generator Loss: 5.1181 \n",
            "Epoch:  72/150 Discriminator Loss: 0.1779 Generator Loss: 5.1552 \n",
            "Epoch:  73/150 Discriminator Loss: 0.2882 Generator Loss: 5.1057 \n",
            "Epoch:  74/150 Discriminator Loss: 0.3981 Generator Loss: 4.9316 \n",
            "Epoch:  75/150 Discriminator Loss: 0.1515 Generator Loss: 5.0636 \n",
            "Epoch:  76/150 Discriminator Loss: 0.9220 Generator Loss: 5.4643 \n",
            "Epoch:  77/150 Discriminator Loss: 0.1001 Generator Loss: 5.2702 \n",
            "Epoch:  78/150 Discriminator Loss: 0.1653 Generator Loss: 5.0810 \n",
            "Epoch:  79/150 Discriminator Loss: 0.6064 Generator Loss: 5.2822 \n",
            "Epoch:  80/150 Discriminator Loss: 0.2119 Generator Loss: 4.7569 \n",
            "Epoch:  81/150 Discriminator Loss: 0.2123 Generator Loss: 4.7961 \n",
            "Epoch:  82/150 Discriminator Loss: 0.4347 Generator Loss: 5.1788 \n",
            "Epoch:  83/150 Discriminator Loss: 0.6538 Generator Loss: 4.8373 \n",
            "Epoch:  84/150 Discriminator Loss: 0.7519 Generator Loss: 4.9033 \n",
            "Epoch:  85/150 Discriminator Loss: 0.4262 Generator Loss: 5.2989 \n",
            "Epoch:  86/150 Discriminator Loss: 0.4932 Generator Loss: 4.8298 \n",
            "Epoch:  87/150 Discriminator Loss: 0.1454 Generator Loss: 5.0509 \n",
            "Epoch:  88/150 Discriminator Loss: 0.2227 Generator Loss: 5.5365 \n",
            "Epoch:  89/150 Discriminator Loss: 0.2342 Generator Loss: 5.0865 \n",
            "Epoch:  90/150 Discriminator Loss: 0.2633 Generator Loss: 4.8971 \n",
            "Epoch:  91/150 Discriminator Loss: 0.2742 Generator Loss: 5.2987 \n",
            "Epoch:  92/150 Discriminator Loss: 0.1146 Generator Loss: 5.0358 \n",
            "Epoch:  93/150 Discriminator Loss: 0.1030 Generator Loss: 5.2628 \n",
            "Epoch:  94/150 Discriminator Loss: 1.3682 Generator Loss: 5.2216 \n",
            "Epoch:  95/150 Discriminator Loss: 0.4368 Generator Loss: 5.8746 \n",
            "Epoch:  96/150 Discriminator Loss: 0.1357 Generator Loss: 4.9945 \n",
            "Epoch:  97/150 Discriminator Loss: 0.9821 Generator Loss: 5.5300 \n",
            "Epoch:  98/150 Discriminator Loss: 0.0908 Generator Loss: 5.3459 \n",
            "Epoch:  99/150 Discriminator Loss: 0.3356 Generator Loss: 5.9383 \n",
            "Epoch: 100/150 Discriminator Loss: 0.7675 Generator Loss: 5.6127 \n",
            "Epoch: 101/150 Discriminator Loss: 0.3125 Generator Loss: 5.3778 \n",
            "Epoch: 102/150 Discriminator Loss: 0.1106 Generator Loss: 6.0496 \n",
            "Epoch: 103/150 Discriminator Loss: 0.4452 Generator Loss: 5.8761 \n",
            "Epoch: 104/150 Discriminator Loss: 0.4901 Generator Loss: 5.8403 \n",
            "Epoch: 105/150 Discriminator Loss: 0.2970 Generator Loss: 5.7381 \n",
            "Epoch: 106/150 Discriminator Loss: 0.2630 Generator Loss: 5.3592 \n",
            "Epoch: 107/150 Discriminator Loss: 0.6786 Generator Loss: 5.7344 \n",
            "Epoch: 108/150 Discriminator Loss: 0.0561 Generator Loss: 5.4219 \n",
            "Epoch: 109/150 Discriminator Loss: 0.1081 Generator Loss: 5.5093 \n",
            "Epoch: 110/150 Discriminator Loss: 0.2664 Generator Loss: 4.5951 \n",
            "Epoch: 111/150 Discriminator Loss: 1.4116 Generator Loss: 5.1277 \n",
            "Epoch: 112/150 Discriminator Loss: 0.5631 Generator Loss: 5.9314 \n",
            "Epoch: 113/150 Discriminator Loss: 1.2075 Generator Loss: 5.8020 \n",
            "Epoch: 114/150 Discriminator Loss: 0.1892 Generator Loss: 4.9662 \n",
            "Epoch: 115/150 Discriminator Loss: 0.1438 Generator Loss: 5.3672 \n",
            "Epoch: 116/150 Discriminator Loss: 0.4520 Generator Loss: 5.2761 \n",
            "Epoch: 117/150 Discriminator Loss: 0.9394 Generator Loss: 5.7164 \n",
            "Epoch: 118/150 Discriminator Loss: 0.4881 Generator Loss: 5.3432 \n",
            "Epoch: 119/150 Discriminator Loss: 0.3255 Generator Loss: 5.2616 \n",
            "Epoch: 120/150 Discriminator Loss: 0.2387 Generator Loss: 5.3152 \n",
            "Epoch: 121/150 Discriminator Loss: 0.6729 Generator Loss: 4.9723 \n",
            "Epoch: 122/150 Discriminator Loss: 0.2433 Generator Loss: 5.4390 \n",
            "Epoch: 123/150 Discriminator Loss: 0.6200 Generator Loss: 5.6168 \n",
            "Epoch: 124/150 Discriminator Loss: 0.6340 Generator Loss: 5.6095 \n",
            "Epoch: 125/150 Discriminator Loss: 0.6763 Generator Loss: 5.3174 \n",
            "Epoch: 126/150 Discriminator Loss: 0.2189 Generator Loss: 5.3789 \n",
            "Epoch: 127/150 Discriminator Loss: 0.2625 Generator Loss: 5.4082 \n",
            "Epoch: 128/150 Discriminator Loss: 0.2141 Generator Loss: 5.7536 \n",
            "Epoch: 129/150 Discriminator Loss: 0.2820 Generator Loss: 5.2900 \n",
            "Epoch: 130/150 Discriminator Loss: 0.5459 Generator Loss: 5.4186 \n",
            "Epoch: 131/150 Discriminator Loss: 0.5168 Generator Loss: 5.1818 \n",
            "Epoch: 132/150 Discriminator Loss: 0.3200 Generator Loss: 5.6652 \n",
            "Epoch: 133/150 Discriminator Loss: 0.3340 Generator Loss: 5.5503 \n",
            "Epoch: 134/150 Discriminator Loss: 0.3554 Generator Loss: 5.6999 \n",
            "Epoch: 135/150 Discriminator Loss: 0.4253 Generator Loss: 5.6438 \n",
            "Epoch: 136/150 Discriminator Loss: 0.4632 Generator Loss: 5.3015 \n",
            "Epoch: 137/150 Discriminator Loss: 1.3065 Generator Loss: 5.5863 \n",
            "Epoch: 138/150 Discriminator Loss: 0.8570 Generator Loss: 5.5421 \n",
            "Epoch: 139/150 Discriminator Loss: 0.4217 Generator Loss: 5.7248 \n",
            "Epoch: 140/150 Discriminator Loss: 0.1354 Generator Loss: 6.0267 \n",
            "Epoch: 141/150 Discriminator Loss: 0.2318 Generator Loss: 6.1429 \n",
            "Epoch: 142/150 Discriminator Loss: 0.2782 Generator Loss: 5.3600 \n",
            "Epoch: 143/150 Discriminator Loss: 0.3316 Generator Loss: 5.6855 \n",
            "Epoch: 144/150 Discriminator Loss: 0.1818 Generator Loss: 5.7426 \n",
            "Epoch: 145/150 Discriminator Loss: 0.7438 Generator Loss: 5.7953 \n",
            "Epoch: 146/150 Discriminator Loss: 0.5830 Generator Loss: 5.8771 \n",
            "Epoch: 147/150 Discriminator Loss: 0.4300 Generator Loss: 5.4538 \n",
            "Epoch: 148/150 Discriminator Loss: 0.3670 Generator Loss: 5.9307 \n",
            "Epoch: 149/150 Discriminator Loss: 0.5166 Generator Loss: 5.3697 \n",
            "Epoch: 150/150 Discriminator Loss: 0.1859 Generator Loss: 5.8681 \n"
          ]
        }
      ]
    },
    {
      "cell_type": "code",
      "source": [
        "losses = np.array(losses)\n",
        "\n",
        "fig, ax = plt.subplots()\n",
        "plt.plot(losses.T[0], label='Discriminator')\n",
        "plt.plot(losses.T[1], label='Generator')\n",
        "plt.title(\"Training Losses\")\n",
        "plt.legend()\n",
        "plt.show()"
      ],
      "metadata": {
        "colab": {
          "base_uri": "https://localhost:8080/",
          "height": 281
        },
        "id": "T09dQX3meJGY",
        "outputId": "fb10b9a4-8f89-4787-b728-c0bfc660e5ed"
      },
      "execution_count": 28,
      "outputs": [
        {
          "output_type": "display_data",
          "data": {
            "image/png": "[encoded data removed]",
            "text/plain": [
              "<Figure size 432x288 with 1 Axes>"
            ]
          },
          "metadata": {
            "needs_background": "light"
          }
        }
      ]
    },
    {
      "cell_type": "code",
      "source": [
        "latent_samples = make_latent_samples(20, sample_size)\n",
        "generated_digits = generator.predict(latent_samples)"
      ],
      "metadata": {
        "id": "vR2Ysoli14Tq"
      },
      "execution_count": 29,
      "outputs": []
    },
    {
      "cell_type": "code",
      "source": [
        "for i in range(20):\n",
        "    node = (generated_digits[i])\n",
        "print(node)"
      ],
      "metadata": {
        "id": "UF85ze5E1_MS",
        "colab": {
          "base_uri": "https://localhost:8080/"
        },
        "outputId": "2aa035a4-bc19-48b9-89b5-39d07e2fcf63"
      },
      "execution_count": 30,
      "outputs": [
        {
          "output_type": "stream",
          "name": "stdout",
          "text": [
            "[ 2.2859676e-01  9.6837497e-01  9.9353361e-01 -7.8791475e-01\n",
            " -1.6139989e-01  6.3954151e-01 -3.4938443e-01  6.7131066e-01\n",
            "  3.2548830e-01  8.0756432e-01 -3.7294304e-01  5.1181924e-01\n",
            " -6.5027267e-01 -9.2418259e-01  9.3145853e-01 -8.1197745e-01\n",
            "  4.7246203e-01 -5.2332026e-01 -8.6483735e-01 -7.3594767e-01\n",
            "  5.2478808e-01 -4.8486069e-01 -8.6185050e-01  9.3853277e-01\n",
            "  9.1418618e-01  2.6118804e-03  1.2194233e-01 -9.0105432e-01\n",
            " -8.2420862e-01 -3.9008230e-01  9.4920957e-01 -9.4305551e-01\n",
            " -8.1393814e-01 -6.2489051e-01  7.1482748e-01 -2.0557549e-04\n",
            "  6.0110706e-01  3.9240342e-01 -1.5321022e-01  8.7354547e-01\n",
            " -9.9742228e-01 -2.0704091e-01  7.3491734e-01 -7.5474685e-01\n",
            "  3.1813288e-01 -6.5644550e-01  9.2221951e-01 -9.0679657e-01\n",
            "  1.5986374e-01  8.1081606e-02  8.9661747e-01  6.2286186e-01\n",
            " -4.2313206e-01 -1.3614374e-01  7.6287931e-01 -9.9520552e-01\n",
            "  5.5665129e-01  5.1715273e-01 -7.1265680e-01 -2.4621573e-01\n",
            " -8.7953979e-01 -9.5738977e-01 -9.3004948e-01  2.2822453e-01\n",
            "  9.3683630e-01  5.7279480e-01 -5.8644056e-01 -9.2426461e-01\n",
            "  1.4957257e-01 -1.9533391e-01]\n"
          ]
        }
      ]
    },
    {
      "cell_type": "code",
      "source": [
        "rr = discriminator.predict_on_batch(X_test)"
      ],
      "metadata": {
        "id": "j_EQFsb3k8tg"
      },
      "execution_count": 31,
      "outputs": []
    },
    {
      "cell_type": "code",
      "source": [
        "rr"
      ],
      "metadata": {
        "colab": {
          "base_uri": "https://localhost:8080/"
        },
        "id": "SDE7dg83ei7s",
        "outputId": "248c20b2-3a30-4117-a455-cb71de494589"
      },
      "execution_count": 32,
      "outputs": [
        {
          "output_type": "execute_result",
          "data": {
            "text/plain": [
              "array([[1.1950353e-06],\n",
              "       [1.1950444e-06],\n",
              "       [5.2038056e-01],\n",
              "       [6.6079891e-01],\n",
              "       [3.8493895e-06],\n",
              "       [8.7121129e-04],\n",
              "       [8.7121129e-04],\n",
              "       [3.3427383e-05],\n",
              "       [9.9631846e-01],\n",
              "       [8.7121129e-04],\n",
              "       [9.9631846e-01],\n",
              "       [9.9631846e-01],\n",
              "       [8.7121129e-04],\n",
              "       [3.7521124e-04],\n",
              "       [9.9998659e-01],\n",
              "       [1.1950353e-06],\n",
              "       [1.1950353e-06],\n",
              "       [1.1950444e-06],\n",
              "       [9.9998903e-01],\n",
              "       [1.0772544e-01],\n",
              "       [3.3427383e-05],\n",
              "       [1.1950353e-06],\n",
              "       [1.0000000e+00],\n",
              "       [9.9876446e-01],\n",
              "       [3.9421052e-02],\n",
              "       [1.1950353e-06],\n",
              "       [1.1950353e-06],\n",
              "       [1.0000000e+00],\n",
              "       [9.9631846e-01],\n",
              "       [3.7521124e-04],\n",
              "       [5.7443976e-04],\n",
              "       [5.2038056e-01],\n",
              "       [1.1950353e-06],\n",
              "       [3.7521124e-04],\n",
              "       [9.9631846e-01],\n",
              "       [1.0772544e-01],\n",
              "       [9.9631846e-01],\n",
              "       [9.4570625e-01],\n",
              "       [8.7121129e-04],\n",
              "       [8.7121129e-04],\n",
              "       [1.3570786e-03],\n",
              "       [9.4929338e-04],\n",
              "       [1.1950353e-06],\n",
              "       [9.9631846e-01],\n",
              "       [6.6080236e-01],\n",
              "       [8.7121129e-04],\n",
              "       [9.9631846e-01],\n",
              "       [9.9581099e-01],\n",
              "       [1.0000000e+00],\n",
              "       [3.7521124e-04],\n",
              "       [3.7521124e-04],\n",
              "       [4.3997163e-05],\n",
              "       [1.1952758e-02],\n",
              "       [8.7121129e-04],\n",
              "       [9.8123205e-01],\n",
              "       [9.9631846e-01],\n",
              "       [1.0772544e-01],\n",
              "       [3.7521124e-04],\n",
              "       [1.1950353e-06],\n",
              "       [1.0772544e-01],\n",
              "       [3.3427383e-05],\n",
              "       [3.3427383e-05],\n",
              "       [3.5595298e-03],\n",
              "       [1.0735264e-05],\n",
              "       [1.1950353e-06],\n",
              "       [4.2441240e-01],\n",
              "       [1.0772544e-01],\n",
              "       [1.9914806e-03],\n",
              "       [9.6660537e-01],\n",
              "       [1.0772544e-01],\n",
              "       [1.0000000e+00],\n",
              "       [5.2038056e-01],\n",
              "       [1.0000000e+00],\n",
              "       [9.9999642e-01],\n",
              "       [8.7121129e-04],\n",
              "       [1.7522564e-06],\n",
              "       [9.9631846e-01],\n",
              "       [3.7521124e-04],\n",
              "       [5.2038056e-01],\n",
              "       [1.1950444e-06],\n",
              "       [9.9631846e-01],\n",
              "       [3.7521124e-04],\n",
              "       [1.1950353e-06],\n",
              "       [9.9631846e-01],\n",
              "       [6.6079891e-01],\n",
              "       [3.0928481e-01],\n",
              "       [6.6080236e-01],\n",
              "       [9.9631846e-01],\n",
              "       [2.3731793e-05],\n",
              "       [9.9631846e-01],\n",
              "       [5.2038056e-01],\n",
              "       [1.0772544e-01],\n",
              "       [5.2038056e-01],\n",
              "       [3.3427383e-05],\n",
              "       [7.0645809e-03],\n",
              "       [3.7521124e-04],\n",
              "       [1.0772544e-01],\n",
              "       [1.1950353e-06],\n",
              "       [1.1950353e-06],\n",
              "       [1.0772544e-01],\n",
              "       [1.1808544e-02],\n",
              "       [2.9099384e-01],\n",
              "       [9.4212606e-05],\n",
              "       [1.0772544e-01],\n",
              "       [1.0772544e-01],\n",
              "       [1.1950353e-06],\n",
              "       [3.7521124e-04],\n",
              "       [6.1585927e-01],\n",
              "       [9.5462704e-01],\n",
              "       [8.7121129e-04],\n",
              "       [1.0772544e-01],\n",
              "       [6.6079891e-01],\n",
              "       [1.1950353e-06],\n",
              "       [1.1950353e-06],\n",
              "       [1.0000000e+00],\n",
              "       [9.9631846e-01],\n",
              "       [8.7121129e-04],\n",
              "       [3.7521124e-04],\n",
              "       [8.7121129e-04],\n",
              "       [3.7521124e-04],\n",
              "       [1.1950353e-06],\n",
              "       [9.9946308e-01],\n",
              "       [1.1950353e-06],\n",
              "       [9.9631846e-01],\n",
              "       [8.7121129e-04],\n",
              "       [1.1950353e-06],\n",
              "       [8.7121129e-04],\n",
              "       [9.1523528e-03],\n",
              "       [3.3427383e-05],\n",
              "       [3.3427383e-05],\n",
              "       [5.2038246e-01],\n",
              "       [3.7521124e-04],\n",
              "       [9.9988222e-01],\n",
              "       [1.0000000e+00],\n",
              "       [1.0772544e-01],\n",
              "       [1.0772544e-01],\n",
              "       [2.8808117e-02],\n",
              "       [3.3427383e-05],\n",
              "       [8.0115575e-01],\n",
              "       [5.2038056e-01],\n",
              "       [5.2038056e-01],\n",
              "       [5.2038246e-01],\n",
              "       [1.1950353e-06],\n",
              "       [6.4817071e-04],\n",
              "       [1.1950353e-06],\n",
              "       [8.7121129e-04],\n",
              "       [9.9631846e-01],\n",
              "       [9.9631846e-01],\n",
              "       [9.9631846e-01],\n",
              "       [9.9631846e-01],\n",
              "       [9.9631846e-01],\n",
              "       [8.7121129e-04],\n",
              "       [1.0772544e-01],\n",
              "       [1.1950353e-06],\n",
              "       [3.2616556e-03],\n",
              "       [1.1950353e-06],\n",
              "       [9.9631846e-01],\n",
              "       [9.9620539e-01],\n",
              "       [8.7121129e-04],\n",
              "       [9.9631846e-01],\n",
              "       [1.1950353e-06],\n",
              "       [1.1950353e-06],\n",
              "       [1.1950353e-06],\n",
              "       [1.4041558e-01],\n",
              "       [9.9631846e-01],\n",
              "       [1.0772544e-01],\n",
              "       [9.9631846e-01],\n",
              "       [7.3619503e-01],\n",
              "       [1.1950353e-06],\n",
              "       [1.1950444e-06],\n",
              "       [1.1950444e-06],\n",
              "       [6.6079891e-01],\n",
              "       [1.0772544e-01],\n",
              "       [1.0772544e-01],\n",
              "       [3.3427383e-05],\n",
              "       [4.6170533e-02],\n",
              "       [6.6080236e-01],\n",
              "       [5.0947515e-06],\n",
              "       [5.2038246e-01],\n",
              "       [1.0772544e-01],\n",
              "       [2.2311651e-05],\n",
              "       [9.9631846e-01],\n",
              "       [9.9631846e-01],\n",
              "       [3.7521124e-04],\n",
              "       [3.7521124e-04],\n",
              "       [1.8679708e-02],\n",
              "       [1.0772544e-01],\n",
              "       [1.1950353e-06],\n",
              "       [1.1950444e-06],\n",
              "       [1.1950353e-06],\n",
              "       [5.2038056e-01],\n",
              "       [1.1950353e-06],\n",
              "       [5.2038246e-01],\n",
              "       [6.6080236e-01],\n",
              "       [9.9631846e-01],\n",
              "       [9.9631846e-01],\n",
              "       [1.0772544e-01],\n",
              "       [9.9980390e-01],\n",
              "       [3.7521124e-04],\n",
              "       [1.1950444e-06],\n",
              "       [3.3427383e-05],\n",
              "       [3.7521124e-04],\n",
              "       [1.7094135e-02],\n",
              "       [3.3427383e-05],\n",
              "       [3.7521124e-04],\n",
              "       [9.9631846e-01],\n",
              "       [1.1950353e-06],\n",
              "       [5.2038246e-01],\n",
              "       [5.2038056e-01],\n",
              "       [3.7521124e-04],\n",
              "       [9.9631846e-01],\n",
              "       [3.7470549e-02],\n",
              "       [1.1391814e-04],\n",
              "       [2.6977062e-04],\n",
              "       [9.9999976e-01],\n",
              "       [9.0550864e-01],\n",
              "       [8.9148986e-01],\n",
              "       [1.0772544e-01],\n",
              "       [1.0000000e+00],\n",
              "       [5.2038246e-01],\n",
              "       [1.9705921e-02],\n",
              "       [1.1950353e-06],\n",
              "       [5.2038246e-01],\n",
              "       [8.7115169e-04],\n",
              "       [1.1950444e-06],\n",
              "       [9.9584603e-01],\n",
              "       [9.9631846e-01],\n",
              "       [5.8755768e-06],\n",
              "       [1.1950353e-06],\n",
              "       [9.9631846e-01],\n",
              "       [3.3427383e-05],\n",
              "       [8.7121129e-04],\n",
              "       [3.7521124e-04],\n",
              "       [3.3427383e-05],\n",
              "       [5.2038056e-01],\n",
              "       [9.9631846e-01],\n",
              "       [5.2038246e-01],\n",
              "       [4.2041093e-02],\n",
              "       [1.0283003e-06],\n",
              "       [4.6729419e-01],\n",
              "       [9.9631846e-01],\n",
              "       [3.3427383e-05],\n",
              "       [1.0772544e-01],\n",
              "       [1.1950353e-06],\n",
              "       [9.9631846e-01],\n",
              "       [9.1955638e-01],\n",
              "       [1.1950444e-06],\n",
              "       [9.9631846e-01],\n",
              "       [9.9631846e-01],\n",
              "       [1.1950353e-06],\n",
              "       [1.1950444e-06],\n",
              "       [1.1950353e-06],\n",
              "       [9.4347233e-01],\n",
              "       [8.7121129e-04],\n",
              "       [1.1950353e-06],\n",
              "       [1.0772544e-01],\n",
              "       [8.2848203e-01],\n",
              "       [1.1950444e-06],\n",
              "       [1.1950353e-06],\n",
              "       [1.0000000e+00],\n",
              "       [9.8430479e-01],\n",
              "       [3.3427383e-05],\n",
              "       [8.7121129e-04],\n",
              "       [9.9631846e-01],\n",
              "       [5.2038246e-01],\n",
              "       [3.3427383e-05],\n",
              "       [9.9631846e-01],\n",
              "       [8.7121129e-04],\n",
              "       [9.9631846e-01],\n",
              "       [3.3427383e-05],\n",
              "       [1.6145199e-05],\n",
              "       [9.9631846e-01],\n",
              "       [1.0772544e-01],\n",
              "       [2.1374862e-07],\n",
              "       [3.7521124e-04],\n",
              "       [6.6079891e-01],\n",
              "       [9.9631846e-01],\n",
              "       [2.5579977e-01],\n",
              "       [3.7521124e-04],\n",
              "       [1.1950353e-06],\n",
              "       [1.1950353e-06],\n",
              "       [3.7521124e-04],\n",
              "       [5.2038246e-01],\n",
              "       [3.7521124e-04],\n",
              "       [1.1950353e-06],\n",
              "       [1.1950444e-06],\n",
              "       [9.9631846e-01],\n",
              "       [1.0772544e-01],\n",
              "       [3.7521124e-04],\n",
              "       [3.3427383e-05],\n",
              "       [1.1950353e-06],\n",
              "       [8.7121129e-04],\n",
              "       [9.9631846e-01],\n",
              "       [5.2038056e-01],\n",
              "       [8.0107427e-01],\n",
              "       [3.3427383e-05],\n",
              "       [3.7521124e-04],\n",
              "       [5.2038056e-01],\n",
              "       [1.1950353e-06],\n",
              "       [3.3427383e-05],\n",
              "       [5.2038246e-01],\n",
              "       [9.9631846e-01],\n",
              "       [1.1950353e-06],\n",
              "       [1.0772544e-01],\n",
              "       [3.3785934e-06],\n",
              "       [3.7521124e-04],\n",
              "       [9.9631846e-01],\n",
              "       [8.7121129e-04],\n",
              "       [6.8410611e-01],\n",
              "       [8.7121129e-04],\n",
              "       [9.9993455e-01],\n",
              "       [9.9999827e-01],\n",
              "       [1.1950353e-06],\n",
              "       [3.3427383e-05],\n",
              "       [3.9098123e-07],\n",
              "       [1.0772544e-01],\n",
              "       [3.3427383e-05],\n",
              "       [1.0772544e-01],\n",
              "       [3.7521124e-04],\n",
              "       [8.7121129e-04],\n",
              "       [9.9977887e-01],\n",
              "       [1.1950353e-06],\n",
              "       [3.3427383e-05],\n",
              "       [5.2038056e-01],\n",
              "       [9.9998540e-01],\n",
              "       [9.9631840e-01],\n",
              "       [4.0183514e-02],\n",
              "       [9.9694014e-01],\n",
              "       [9.9949068e-01],\n",
              "       [1.0772544e-01],\n",
              "       [5.2038056e-01],\n",
              "       [3.7521124e-04],\n",
              "       [3.3427383e-05],\n",
              "       [8.7121129e-04],\n",
              "       [3.3427383e-05],\n",
              "       [9.9631846e-01],\n",
              "       [1.1950353e-06],\n",
              "       [6.5498650e-03],\n",
              "       [8.8625765e-01],\n",
              "       [1.1950353e-06],\n",
              "       [5.2038056e-01],\n",
              "       [1.1950353e-06],\n",
              "       [1.1950353e-06],\n",
              "       [1.0772544e-01],\n",
              "       [1.0772544e-01],\n",
              "       [1.1950444e-06],\n",
              "       [1.2772828e-02],\n",
              "       [7.9658461e-01],\n",
              "       [1.0772544e-01],\n",
              "       [1.0772544e-01],\n",
              "       [1.0772544e-01],\n",
              "       [9.1275573e-01],\n",
              "       [9.9631846e-01],\n",
              "       [3.7521124e-04],\n",
              "       [1.7193950e-05],\n",
              "       [8.7121129e-04],\n",
              "       [1.1950353e-06],\n",
              "       [1.1950353e-06],\n",
              "       [3.7521124e-04],\n",
              "       [1.0772544e-01],\n",
              "       [9.8658204e-01],\n",
              "       [1.1950353e-06],\n",
              "       [1.1950353e-06],\n",
              "       [3.3427383e-05],\n",
              "       [3.7521124e-04],\n",
              "       [3.7521124e-04],\n",
              "       [5.2038056e-01],\n",
              "       [1.0000000e+00],\n",
              "       [7.7437842e-01],\n",
              "       [1.0772544e-01],\n",
              "       [9.5568299e-02],\n",
              "       [1.0772544e-01],\n",
              "       [8.9949340e-02],\n",
              "       [9.9631846e-01],\n",
              "       [9.9631846e-01],\n",
              "       [1.1950353e-06],\n",
              "       [8.7121129e-04],\n",
              "       [9.9631846e-01],\n",
              "       [5.2038246e-01],\n",
              "       [1.0772544e-01],\n",
              "       [4.3408602e-02],\n",
              "       [1.1950353e-06],\n",
              "       [1.2397766e-04],\n",
              "       [1.1950353e-06],\n",
              "       [1.0772544e-01],\n",
              "       [3.7521124e-04],\n",
              "       [9.9631846e-01],\n",
              "       [3.7521124e-04],\n",
              "       [1.0772544e-01],\n",
              "       [5.3839386e-03],\n",
              "       [1.1950353e-06],\n",
              "       [9.9631846e-01],\n",
              "       [1.1950444e-06],\n",
              "       [5.2038246e-01],\n",
              "       [8.7121129e-04],\n",
              "       [9.9631846e-01]], dtype=float32)"
            ]
          },
          "metadata": {},
          "execution_count": 32
        }
      ]
    },
    {
      "cell_type": "code",
      "source": [
        "rr.min()"
      ],
      "metadata": {
        "colab": {
          "base_uri": "https://localhost:8080/"
        },
        "id": "SW0raM0bgs-D",
        "outputId": "fc70bba1-4e8b-4446-8194-aab9f0369e22"
      },
      "execution_count": 33,
      "outputs": [
        {
          "output_type": "execute_result",
          "data": {
            "text/plain": [
              "2.1374862e-07"
            ]
          },
          "metadata": {},
          "execution_count": 33
        }
      ]
    },
    {
      "cell_type": "code",
      "source": [
        "rr.max()"
      ],
      "metadata": {
        "colab": {
          "base_uri": "https://localhost:8080/"
        },
        "id": "OavxI9_5iiAU",
        "outputId": "628b9bd5-fb9a-4583-bed4-d941e599e6ff"
      },
      "execution_count": 34,
      "outputs": [
        {
          "output_type": "execute_result",
          "data": {
            "text/plain": [
              "1.0"
            ]
          },
          "metadata": {},
          "execution_count": 34
        }
      ]
    },
    {
      "cell_type": "code",
      "source": [
        "y_test"
      ],
      "metadata": {
        "colab": {
          "base_uri": "https://localhost:8080/"
        },
        "id": "UGX_aZvUb6VY",
        "outputId": "d4bbc5c3-a033-4df9-fba2-3b5d776d15ea"
      },
      "execution_count": 35,
      "outputs": [
        {
          "output_type": "execute_result",
          "data": {
            "text/plain": [
              "678     1\n",
              "693     1\n",
              "610     1\n",
              "49      1\n",
              "1291    0\n",
              "       ..\n",
              "141     1\n",
              "820     1\n",
              "613     1\n",
              "543     1\n",
              "139     1\n",
              "Name: label, Length: 396, dtype: int64"
            ]
          },
          "metadata": {},
          "execution_count": 35
        }
      ]
    },
    {
      "cell_type": "code",
      "source": [
        "import keras\n",
        "#import keras_metrics\n",
        "\n",
        "r = tf.keras.metrics.Recall(thresholds=rr.min())\n",
        "r.update_state(y_test,rr )\n",
        "r.result().numpy()\n"
      ],
      "metadata": {
        "colab": {
          "base_uri": "https://localhost:8080/"
        },
        "id": "kkAjICO3sr3P",
        "outputId": "e6211470-b752-4115-8b94-4b64e1f116a7"
      },
      "execution_count": 36,
      "outputs": [
        {
          "output_type": "execute_result",
          "data": {
            "text/plain": [
              "1.0"
            ]
          },
          "metadata": {},
          "execution_count": 36
        }
      ]
    },
    {
      "cell_type": "code",
      "source": [
        "p=tf.keras.metrics.Precision(thresholds=rr.min())\n",
        "p.update_state(y_test,rr )\n",
        "p.result().numpy()"
      ],
      "metadata": {
        "colab": {
          "base_uri": "https://localhost:8080/"
        },
        "id": "BhpEzb9grUsJ",
        "outputId": "1ab070d0-e0e1-43f9-a57d-460c1fac5710"
      },
      "execution_count": 37,
      "outputs": [
        {
          "output_type": "execute_result",
          "data": {
            "text/plain": [
              "0.75949365"
            ]
          },
          "metadata": {},
          "execution_count": 37
        }
      ]
    }
  ]
}