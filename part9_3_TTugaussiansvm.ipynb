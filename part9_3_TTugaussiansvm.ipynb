{
  "nbformat": 4,
  "nbformat_minor": 0,
  "metadata": {
    "colab": {
      "name": "part9_3/TTugaussiansvm.ipynb",
      "provenance": [],
      "authorship_tag": "ABX9TyOCgBHk9LhCuYJf+e9F7C68",
      "include_colab_link": true
    },
    "kernelspec": {
      "name": "python3",
      "display_name": "Python 3"
    },
    "language_info": {
      "name": "python"
    }
  },
  "cells": [
    {
      "cell_type": "markdown",
      "metadata": {
        "id": "view-in-github",
        "colab_type": "text"
      },
      "source": [
        "<a href=\"https://colab.research.google.com/github/jnsbrdbr/thesis/blob/thesis/part9_3_TTugaussiansvm.ipynb\" target=\"_parent\"><img src=\"https://colab.research.google.com/assets/colab-badge.svg\" alt=\"Open In Colab\"/></a>"
      ]
    },
    {
      "cell_type": "code",
      "execution_count": 1,
      "metadata": {
        "id": "tjbLzBiDCCdd"
      },
      "outputs": [],
      "source": [
        "import numpy as np\n",
        "import pandas as pd\n",
        "import seaborn as sns\n",
        "import matplotlib.pyplot as plt\n",
        "\n",
        "from sklearn.metrics import jaccard_score\n",
        "from scipy.spatial.distance import pdist, squareform"
      ]
    },
    {
      "cell_type": "code",
      "source": [
        "from google.colab import drive\n",
        "drive.mount('/content/drive') "
      ],
      "metadata": {
        "colab": {
          "base_uri": "https://localhost:8080/"
        },
        "id": "jMW6ZH-NNjG6",
        "outputId": "e53c41ec-4caa-48c2-82b0-95901924c62d"
      },
      "execution_count": 3,
      "outputs": [
        {
          "output_type": "stream",
          "name": "stdout",
          "text": [
            "Mounted at /content/drive\n"
          ]
        }
      ]
    },
    {
      "cell_type": "code",
      "source": [
        "!pip3 install pickle5\n",
        "import pickle5 as pickle"
      ],
      "metadata": {
        "colab": {
          "base_uri": "https://localhost:8080/"
        },
        "id": "1ORF3K52Nq1f",
        "outputId": "0b254976-2dc4-4511-dab7-9a12cf362516"
      },
      "execution_count": 4,
      "outputs": [
        {
          "output_type": "stream",
          "name": "stdout",
          "text": [
            "Collecting pickle5\n",
            "  Downloading pickle5-0.0.12-cp37-cp37m-manylinux_2_5_x86_64.manylinux1_x86_64.whl (256 kB)\n",
            "\u001b[?25l\r\u001b[K     |█▎                              | 10 kB 24.4 MB/s eta 0:00:01\r\u001b[K     |██▋                             | 20 kB 31.1 MB/s eta 0:00:01\r\u001b[K     |███▉                            | 30 kB 36.1 MB/s eta 0:00:01\r\u001b[K     |█████▏                          | 40 kB 24.4 MB/s eta 0:00:01\r\u001b[K     |██████▍                         | 51 kB 17.3 MB/s eta 0:00:01\r\u001b[K     |███████▊                        | 61 kB 19.7 MB/s eta 0:00:01\r\u001b[K     |█████████                       | 71 kB 20.7 MB/s eta 0:00:01\r\u001b[K     |██████████▎                     | 81 kB 22.5 MB/s eta 0:00:01\r\u001b[K     |███████████▌                    | 92 kB 24.6 MB/s eta 0:00:01\r\u001b[K     |████████████▉                   | 102 kB 21.9 MB/s eta 0:00:01\r\u001b[K     |██████████████                  | 112 kB 21.9 MB/s eta 0:00:01\r\u001b[K     |███████████████▍                | 122 kB 21.9 MB/s eta 0:00:01\r\u001b[K     |████████████████▋               | 133 kB 21.9 MB/s eta 0:00:01\r\u001b[K     |██████████████████              | 143 kB 21.9 MB/s eta 0:00:01\r\u001b[K     |███████████████████▏            | 153 kB 21.9 MB/s eta 0:00:01\r\u001b[K     |████████████████████▌           | 163 kB 21.9 MB/s eta 0:00:01\r\u001b[K     |█████████████████████▊          | 174 kB 21.9 MB/s eta 0:00:01\r\u001b[K     |███████████████████████         | 184 kB 21.9 MB/s eta 0:00:01\r\u001b[K     |████████████████████████▎       | 194 kB 21.9 MB/s eta 0:00:01\r\u001b[K     |█████████████████████████▋      | 204 kB 21.9 MB/s eta 0:00:01\r\u001b[K     |██████████████████████████▉     | 215 kB 21.9 MB/s eta 0:00:01\r\u001b[K     |████████████████████████████▏   | 225 kB 21.9 MB/s eta 0:00:01\r\u001b[K     |█████████████████████████████▍  | 235 kB 21.9 MB/s eta 0:00:01\r\u001b[K     |██████████████████████████████▊ | 245 kB 21.9 MB/s eta 0:00:01\r\u001b[K     |████████████████████████████████| 256 kB 21.9 MB/s eta 0:00:01\r\u001b[K     |████████████████████████████████| 256 kB 21.9 MB/s \n",
            "\u001b[?25hInstalling collected packages: pickle5\n",
            "Successfully installed pickle5-0.0.12\n"
          ]
        }
      ]
    },
    {
      "cell_type": "code",
      "source": [
        "with open('/content/drive/MyDrive/10000/unsmote/TUnsmote_Tresult.pkl', \"rb\") as fh:\n",
        "  result = pickle.load(fh)"
      ],
      "metadata": {
        "id": "mQcj7zNKNtjj"
      },
      "execution_count": 5,
      "outputs": []
    },
    {
      "cell_type": "code",
      "source": [
        "#final data\n",
        "print(result)"
      ],
      "metadata": {
        "colab": {
          "base_uri": "https://localhost:8080/"
        },
        "id": "wmFVzXWlNvY3",
        "outputId": "0ad1648f-1a4f-4f65-9e1c-93f94636c078"
      },
      "execution_count": 6,
      "outputs": [
        {
          "output_type": "stream",
          "name": "stdout",
          "text": [
            "             0         1         2  ...         8         9  label\n",
            "0    -0.018442 -4.220618 -0.916300  ... -0.010241 -0.181514      1\n",
            "1    -0.018442 -4.220618 -0.916300  ... -0.010241 -0.181514      1\n",
            "2    -0.018442 -4.220618 -0.916300  ... -0.010241 -0.181514      1\n",
            "3    -0.018442 -4.220618 -0.916300  ... -0.010241 -0.181514      1\n",
            "4    -0.018444 -4.221080 -0.916678  ...  0.057121  0.838856      1\n",
            "...        ...       ...       ...  ...       ...       ...    ...\n",
            "9995 -0.264492 -4.771727 -2.334318  ...  0.017370  0.231334      1\n",
            "9996 -0.264492 -4.771727 -2.334318  ...  0.017370  0.231334      1\n",
            "9997 -0.264492 -4.771727 -2.334318  ...  0.017370  0.231334      1\n",
            "9998 -0.264492 -4.771727 -2.334318  ...  0.017370  0.231334      1\n",
            "9999 -0.264492 -4.771727 -2.334318  ...  0.017370  0.231334      1\n",
            "\n",
            "[10000 rows x 101 columns]\n"
          ]
        }
      ]
    },
    {
      "cell_type": "code",
      "source": [
        "import copy\n",
        "result_nonlabel=copy.deepcopy(result)\n",
        "del result_nonlabel['label']\n",
        "X=result_nonlabel\n",
        "y=result.label"
      ],
      "metadata": {
        "id": "u_zBIzwNN5tE"
      },
      "execution_count": 7,
      "outputs": []
    },
    {
      "cell_type": "code",
      "source": [
        "from sklearn.model_selection import train_test_split\n",
        "x_train, x_test, y_train, y_test = train_test_split(X, y, test_size=0.3,\n",
        "                                                    random_state=42)"
      ],
      "metadata": {
        "id": "NjqqJyHnN8t9"
      },
      "execution_count": 8,
      "outputs": []
    },
    {
      "cell_type": "code",
      "source": [
        "from sklearn.gaussian_process import GaussianProcessClassifier\n",
        "from sklearn.gaussian_process.kernels import RBF\n",
        "from sklearn import svm\n",
        "\n",
        "k=svm.SVC(kernel=\"rbf\", gamma=0.0001, C=10, probability=True)\n",
        "gpc = k.fit(x_train, y_train)"
      ],
      "metadata": {
        "id": "i7boPREdN-1l"
      },
      "execution_count": 9,
      "outputs": []
    },
    {
      "cell_type": "code",
      "source": [
        "predictions = gpc.predict(x_test)\n",
        "score = gpc.score(x_test, y_test)\n",
        "print(score)"
      ],
      "metadata": {
        "colab": {
          "base_uri": "https://localhost:8080/"
        },
        "id": "0nLQ18ygOBz1",
        "outputId": "5eee8473-5f1b-4b05-98d3-e9fb50eb1343"
      },
      "execution_count": 10,
      "outputs": [
        {
          "output_type": "stream",
          "name": "stdout",
          "text": [
            "0.9913333333333333\n"
          ]
        }
      ]
    },
    {
      "cell_type": "code",
      "source": [
        "import matplotlib.pyplot as plt\n",
        "import seaborn as sns\n",
        "from sklearn import metrics\n",
        "\n",
        "\n",
        "\n",
        "confusion_matrix = pd.crosstab(y_test, predictions, rownames=['Actual'], colnames=['Predicted'])\n",
        "sns.heatmap(confusion_matrix, annot=True)\n"
      ],
      "metadata": {
        "colab": {
          "base_uri": "https://localhost:8080/",
          "height": 297
        },
        "id": "Y3Vo9sYOOERO",
        "outputId": "efd34223-bda1-4793-8e93-d54f2a29bed1"
      },
      "execution_count": 11,
      "outputs": [
        {
          "output_type": "execute_result",
          "data": {
            "text/plain": [
              "<matplotlib.axes._subplots.AxesSubplot at 0x7ff0bbb81d10>"
            ]
          },
          "metadata": {},
          "execution_count": 11
        },
        {
          "output_type": "display_data",
          "data": {
            "image/png": "[encoded data removed]",
            "text/plain": [
              "<Figure size 432x288 with 2 Axes>"
            ]
          },
          "metadata": {
            "needs_background": "light"
          }
        }
      ]
    },
    {
      "cell_type": "code",
      "source": [
        "from sklearn.metrics import confusion_matrix\n",
        "\n",
        "tn, fp, fn, tp = confusion_matrix(y_test, predictions).ravel()\n",
        "print(f'True Positives: {tp}')\n",
        "print(f'False Positives: {fp}')\n",
        "print(f'True Negatives: {tn}')\n",
        "print(f'False Negatives: {fn}')"
      ],
      "metadata": {
        "colab": {
          "base_uri": "https://localhost:8080/"
        },
        "id": "2gXt9oc8OF5B",
        "outputId": "b59fd5b5-cf19-4eb3-ccbd-6513a0c810c1"
      },
      "execution_count": 12,
      "outputs": [
        {
          "output_type": "stream",
          "name": "stdout",
          "text": [
            "True Positives: 2974\n",
            "False Positives: 26\n",
            "True Negatives: 0\n",
            "False Negatives: 0\n"
          ]
        }
      ]
    },
    {
      "cell_type": "code",
      "source": [
        "print('Accuracy: ',metrics.accuracy_score(y_test, predictions))"
      ],
      "metadata": {
        "colab": {
          "base_uri": "https://localhost:8080/"
        },
        "id": "ppy0N96IOK11",
        "outputId": "2a057058-2149-4d5e-c732-978e3b360960"
      },
      "execution_count": 13,
      "outputs": [
        {
          "output_type": "stream",
          "name": "stdout",
          "text": [
            "Accuracy:  0.9913333333333333\n"
          ]
        }
      ]
    },
    {
      "cell_type": "code",
      "source": [
        "from numpy import mean\n",
        "from numpy import std\n",
        "from sklearn.model_selection import KFold\n",
        "from sklearn.model_selection import cross_val_score\n",
        "import warnings\n",
        "warnings.filterwarnings('ignore') \n",
        "\n",
        "cv = KFold(n_splits=10, shuffle=True)# x_train, y_train, random_state=42\n",
        "scores = cross_val_score(k,X, y, scoring='accuracy', cv=cv)#,n_jobs=-1\n",
        "\n",
        "print('Accuracy: %.3f (%.3f)' % (mean(scores), std(scores)))"
      ],
      "metadata": {
        "colab": {
          "base_uri": "https://localhost:8080/"
        },
        "id": "JICx42I8ONVa",
        "outputId": "16bfd2fa-97dc-45e3-dc59-55d91c314c7b"
      },
      "execution_count": 16,
      "outputs": [
        {
          "output_type": "stream",
          "name": "stdout",
          "text": [
            "Accuracy: 0.991 (0.003)\n"
          ]
        }
      ]
    },
    {
      "cell_type": "code",
      "source": [
        "#recall\n",
        "\n",
        "from numpy import mean\n",
        "from numpy import std\n",
        "from sklearn.model_selection import KFold\n",
        "from sklearn.model_selection import cross_val_score,cross_val_predict\n",
        "import warnings\n",
        "warnings.filterwarnings('ignore') \n",
        "\n",
        "cv = KFold(n_splits=10, shuffle=True)#, random_state=42\n",
        "scores_recall = cross_val_score(k,X, y, scoring='recall', cv=cv)#,n_jobs=-1\n",
        "\n",
        "print('scores_recall: %.3f (%.3f)' % (mean(scores_recall), std(scores_recall)))"
      ],
      "metadata": {
        "colab": {
          "base_uri": "https://localhost:8080/"
        },
        "id": "1O_xtPFjPQgY",
        "outputId": "974aaef8-ddc4-40f2-ecbe-9a33582fcdf0"
      },
      "execution_count": 17,
      "outputs": [
        {
          "output_type": "stream",
          "name": "stdout",
          "text": [
            "scores_recall: 1.000 (0.000)\n"
          ]
        }
      ]
    },
    {
      "cell_type": "code",
      "source": [
        "#precision\n",
        "\n",
        "from numpy import mean\n",
        "from numpy import std\n",
        "from sklearn.model_selection import KFold\n",
        "from sklearn.model_selection import cross_val_score\n",
        "import warnings\n",
        "warnings.filterwarnings('ignore') \n",
        "\n",
        "cv = KFold(n_splits=10, shuffle=True)#, random_state=42\n",
        "scores_precision = cross_val_score(k, X, y, scoring='precision', cv=cv)#,n_jobs=-1\n",
        "\n",
        "print('scores_precision: %.3f (%.3f)' % (mean(scores_precision), std(scores_precision)))"
      ],
      "metadata": {
        "colab": {
          "base_uri": "https://localhost:8080/"
        },
        "id": "fbQlptUCPeI-",
        "outputId": "0798c1e8-b136-4d22-b060-91488b191263"
      },
      "execution_count": 19,
      "outputs": [
        {
          "output_type": "stream",
          "name": "stdout",
          "text": [
            "scores_precision: 0.991 (0.003)\n"
          ]
        }
      ]
    },
    {
      "cell_type": "code",
      "source": [
        "from sklearn.datasets import make_classification\n",
        "from sklearn.linear_model import LogisticRegression\n",
        "from sklearn.model_selection import train_test_split\n",
        "from matplotlib import pyplot\n",
        "from sklearn.metrics import roc_auc_score\n",
        "from sklearn.metrics import roc_curve\n",
        "\n",
        "\n",
        "k=svm.SVC(kernel=\"rbf\", gamma=0.0001, C=10, probability=True)\n",
        "k.fit(x_train, y_train)\n",
        "yhat = k.predict_proba(x_test)\n",
        "pos_probs = yhat[:, 1]\n",
        "pyplot.plot([0, 1], [0, 1], linestyle='--')\n",
        "fpr, tpr, _ = roc_curve(y_test, pos_probs)\n",
        "pyplot.plot(fpr, tpr, marker='.', label='rbf')\n",
        "pyplot.xlabel('False Positive Rate')\n",
        "pyplot.ylabel('True Positive Rate')\n",
        "pyplot.legend()\n",
        "pyplot.show()\n",
        "\n",
        "roc_auc = roc_auc_score(y_test, pos_probs)\n",
        "print('\\n','Logistic ROC AUC %.3f' % roc_auc)"
      ],
      "metadata": {
        "colab": {
          "base_uri": "https://localhost:8080/",
          "height": 316
        },
        "id": "G1UMm6aiPvzA",
        "outputId": "376e71d8-1be4-42d1-bc93-5d54a751212a"
      },
      "execution_count": 20,
      "outputs": [
        {
          "output_type": "display_data",
          "data": {
            "image/png": "[encoded data removed]",
            "text/plain": [
              "<Figure size 432x288 with 1 Axes>"
            ]
          },
          "metadata": {
            "needs_background": "light"
          }
        },
        {
          "output_type": "stream",
          "name": "stdout",
          "text": [
            "\n",
            " Logistic ROC AUC 0.454\n"
          ]
        }
      ]
    },
    {
      "cell_type": "code",
      "source": [
        "#Importing required libraries\n",
        "from sklearn.model_selection import KFold \n",
        "from sklearn.datasets import load_breast_cancer\n",
        "from sklearn.linear_model import LogisticRegression\n",
        "from sklearn.metrics import accuracy_score\n",
        "from sklearn.metrics import confusion_matrix\n",
        " \n",
        "#data = load_breast_cancer(as_frame = True)\n",
        "#df = result.frame\n",
        "#X = result.iloc[:,:-1]\n",
        "#y = result.iloc[:,-1]\n",
        " \n",
        "#Implementing cross validation\n",
        " \n",
        "#X = X.sample(frac = 1)\n",
        "#y= y.sample(frac = 1)\n",
        "kf = KFold(n_splits=10)#, random_state=None\n",
        "model = svm.SVC(kernel=\"rbf\", gamma=0.0001, C=10)\n",
        " \n",
        "acc_score = list()\n",
        "res_tpr = list()\n",
        "res_fpr = list()\n",
        "for train_index , test_index in kf.split(X):\n",
        "    #X_train , X_test = X.iloc[train_index,:],X.iloc[test_index,:]\n",
        "    #y_train , y_test = y[train_index] , y[test_index]\n",
        "    X_train, X_test, y_train, y_test = train_test_split(X, y, test_size=0.3)\n",
        "    model.fit(X_train,y_train)\n",
        "    pred_values = model.predict(X_test)\n",
        "    tn, fp, fn, tp = confusion_matrix(y_test, pred_values, labels=[0, 1]).ravel()\n",
        "    print(f'True Positives: {tp}')\n",
        "    print(f'False Positives: {fp}')\n",
        "    print(f'True Negatives: {tn}')\n",
        "    print(f'False Negatives: {fn}')\n",
        "    tpr=(np.divide(tp,(tp+fn)))\n",
        "    fpr=(np.divide(fp,(fp+tn)))\n",
        "    if tp==0:\n",
        "      tpr=0\n",
        "    if fp==0:\n",
        "      fpr=0\n",
        "\n",
        "    print('fpr=%.3f' % (mean(fpr)))#tpr=%.4f : mean(tpr), \n",
        "    print('x')\n",
        "    res_tpr.append(mean(tpr))\n",
        "    res_fpr.append(mean(fpr))\n",
        "    print('---------------------')\n",
        "\n",
        "    acc = accuracy_score(pred_values , y_test)\n",
        "    acc_score.append(acc)\n",
        "     \n",
        "avg_acc_score = np.sum(acc_score)/10\n",
        "total_tpr=np.sum(res_tpr)/10\n",
        "total_fpr=np.sum(res_fpr)/10\n",
        "print('\\n\\n','total_fpr=%.3f' % (total_fpr))# total_tpr=%.4f :total_tpr,\n"
      ],
      "metadata": {
        "colab": {
          "base_uri": "https://localhost:8080/"
        },
        "id": "OFs9WdPyP0RA",
        "outputId": "9e236d71-e37d-4ea8-f5c8-6ea36001af24"
      },
      "execution_count": 23,
      "outputs": [
        {
          "output_type": "stream",
          "name": "stdout",
          "text": [
            "True Positives: 2983\n",
            "False Positives: 17\n",
            "True Negatives: 0\n",
            "False Negatives: 0\n",
            "fpr=1.000\n",
            "x\n",
            "---------------------\n",
            "True Positives: 2971\n",
            "False Positives: 29\n",
            "True Negatives: 0\n",
            "False Negatives: 0\n",
            "fpr=1.000\n",
            "x\n",
            "---------------------\n",
            "True Positives: 2976\n",
            "False Positives: 24\n",
            "True Negatives: 0\n",
            "False Negatives: 0\n",
            "fpr=1.000\n",
            "x\n",
            "---------------------\n",
            "True Positives: 2978\n",
            "False Positives: 22\n",
            "True Negatives: 0\n",
            "False Negatives: 0\n",
            "fpr=1.000\n",
            "x\n",
            "---------------------\n",
            "True Positives: 2970\n",
            "False Positives: 30\n",
            "True Negatives: 0\n",
            "False Negatives: 0\n",
            "fpr=1.000\n",
            "x\n",
            "---------------------\n",
            "True Positives: 2973\n",
            "False Positives: 27\n",
            "True Negatives: 0\n",
            "False Negatives: 0\n",
            "fpr=1.000\n",
            "x\n",
            "---------------------\n",
            "True Positives: 2973\n",
            "False Positives: 26\n",
            "True Negatives: 0\n",
            "False Negatives: 1\n",
            "fpr=1.000\n",
            "x\n",
            "---------------------\n",
            "True Positives: 2969\n",
            "False Positives: 31\n",
            "True Negatives: 0\n",
            "False Negatives: 0\n",
            "fpr=1.000\n",
            "x\n",
            "---------------------\n",
            "True Positives: 2966\n",
            "False Positives: 34\n",
            "True Negatives: 0\n",
            "False Negatives: 0\n",
            "fpr=1.000\n",
            "x\n",
            "---------------------\n",
            "True Positives: 2971\n",
            "False Positives: 29\n",
            "True Negatives: 0\n",
            "False Negatives: 0\n",
            "fpr=1.000\n",
            "x\n",
            "---------------------\n",
            "\n",
            "\n",
            " total_fpr=1.000\n"
          ]
        }
      ]
    }
  ]
}