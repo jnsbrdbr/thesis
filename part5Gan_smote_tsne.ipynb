{
  "nbformat": 4,
  "nbformat_minor": 0,
  "metadata": {
    "colab": {
      "name": "part5Gan/smote_tsne.ipynb",
      "provenance": [],
      "collapsed_sections": [],
      "mount_file_id": "179LHwgok0gbv7tlmXk5kie7lRtci5kUj",
      "authorship_tag": "ABX9TyP/c6qz76isRc0f8OryAPdu",
      "include_colab_link": true
    },
    "kernelspec": {
      "name": "python3",
      "display_name": "Python 3"
    },
    "language_info": {
      "name": "python"
    }
  },
  "cells": [
    {
      "cell_type": "markdown",
      "metadata": {
        "id": "view-in-github",
        "colab_type": "text"
      },
      "source": [
        "<a href=\"https://colab.research.google.com/github/jnsbrdbr/thesis/blob/thesis/part5Gan_smote_tsne.ipynb\" target=\"_parent\"><img src=\"https://colab.research.google.com/assets/colab-badge.svg\" alt=\"Open In Colab\"/></a>"
      ]
    },
    {
      "cell_type": "code",
      "execution_count": null,
      "metadata": {
        "id": "cXgDATH2EfcP"
      },
      "outputs": [],
      "source": [
        "import numpy as np\n",
        "import pandas as pd\n",
        "import seaborn as sns\n",
        "import matplotlib.pyplot as plt\n",
        "\n",
        "from sklearn.metrics import jaccard_score\n",
        "from scipy.spatial.distance import pdist, squareform"
      ]
    },
    {
      "cell_type": "code",
      "source": [
        "from google.colab import drive\n",
        "drive.mount('/content/drive')"
      ],
      "metadata": {
        "id": "RKezrYk6Rhvl",
        "colab": {
          "base_uri": "https://localhost:8080/"
        },
        "outputId": "5c870a8c-c877-4e74-c193-158b7130aa70"
      },
      "execution_count": null,
      "outputs": [
        {
          "output_type": "stream",
          "name": "stdout",
          "text": [
            "Drive already mounted at /content/drive; to attempt to forcibly remount, call drive.mount(\"/content/drive\", force_remount=True).\n"
          ]
        }
      ]
    },
    {
      "cell_type": "code",
      "source": [
        "import pandas as pd\n",
        "store = pd.HDFStore('/content/drive/MyDrive/1000/Tdata.h5')\n",
        "\n",
        "adj=store['adj']\n",
        "store.close()"
      ],
      "metadata": {
        "id": "hm0mCiytRk6p"
      },
      "execution_count": null,
      "outputs": []
    },
    {
      "cell_type": "code",
      "source": [
        "store = pd.HDFStore('/content/drive/MyDrive/1000/TCFdf.h5')\n",
        "CF=store['CFdf']\n",
        "store.close()\n",
        "#with pd.HDFStore('/content/drive/MyDrive/1000/TCFdf.h5',  mode='r') as newstore:\n",
        "#    CF = newstore.select('CFdf')"
      ],
      "metadata": {
        "id": "dLUFYZsyReDy"
      },
      "execution_count": null,
      "outputs": []
    },
    {
      "cell_type": "code",
      "source": [
        "store = pd.HDFStore('/content/drive/MyDrive/1000/TTFdf.h5')\n",
        "TF=store['TFdf']\n",
        "store.close()\n",
        "#with pd.HDFStore('/content/drive/MyDrive/1000/TTFdf.h5',  mode='r') as newstore:\n",
        "#    TF = newstore.select('TFdf')"
      ],
      "metadata": {
        "id": "gatVNgJURhr9"
      },
      "execution_count": null,
      "outputs": []
    },
    {
      "cell_type": "code",
      "source": [
        "with pd.HDFStore('/content/drive/MyDrive/1000/TjaccardsimilaritydfR.h5',  mode='r') as newstore:\n",
        "    jaccardsimilarity = newstore.select('jaccardsimilaritydfR')"
      ],
      "metadata": {
        "id": "wVwx_9RaRjYI"
      },
      "execution_count": null,
      "outputs": []
    },
    {
      "cell_type": "code",
      "source": [
        "store = pd.HDFStore('/content/drive/MyDrive/1000/TcosinesimilaritydfR.h5')\n",
        "cosine=store['cosine_similaritydfR']"
      ],
      "metadata": {
        "id": "3hi_cpCMRl_n"
      },
      "execution_count": null,
      "outputs": []
    },
    {
      "cell_type": "code",
      "source": [
        "store = pd.HDFStore('/content/drive/MyDrive/1000/TL1normdf.h5')\n",
        "L1_normdf=store['L1_normdf']\n",
        "store.close()"
      ],
      "metadata": {
        "id": "1o6G1mWtRnqy"
      },
      "execution_count": null,
      "outputs": []
    },
    {
      "cell_type": "code",
      "source": [
        "store = pd.HDFStore('/content/drive/MyDrive/1000/Tsum.h5')\n",
        "wsumdf=store['wsumdf']\n",
        "store.close()"
      ],
      "metadata": {
        "id": "vDKrPgfeRqAt"
      },
      "execution_count": null,
      "outputs": []
    },
    {
      "cell_type": "code",
      "source": [
        "with pd.HDFStore('/content/drive/MyDrive/1000/Tmul.h5',  mode='r') as newstore:\n",
        "    wmuldf = newstore.select('wmuldf')"
      ],
      "metadata": {
        "id": "wGL2h9SKRslB"
      },
      "execution_count": null,
      "outputs": []
    },
    {
      "cell_type": "code",
      "source": [
        "#store = pd.HDFStore('/content/drive/MyDrive/1000/TLdata.h5')\n",
        "#adjl=store['adjl']\n",
        "#store.close()\n",
        "with pd.HDFStore('/content/drive/MyDrive/1000/TLdata.h5',  mode='r') as newstore:\n",
        "    adjl = newstore.select('adjl')"
      ],
      "metadata": {
        "id": "Ujtas7UqRuQG"
      },
      "execution_count": null,
      "outputs": []
    },
    {
      "cell_type": "markdown",
      "source": [
        "# **SMOTE:Synthetic Minority Oversampling TEchnique**\n",
        ":An improvement on duplicating examples from the minority class is to synthesize new examples from the minority class. This is a type of data augmentation for tabular data and can be very effective.:"
      ],
      "metadata": {
        "id": "pqU35P9vR3qu"
      }
    },
    {
      "cell_type": "code",
      "source": [
        "#CF\n",
        "from imblearn.over_sampling import SMOTE\n",
        "from imblearn.combine import SMOTETomek\n",
        "\n",
        "#oversample1=SMOTETomek(0.330)\n",
        "oversample1 = SMOTE(sampling_strategy=0.334)\n",
        "CF_smote,CF_label= oversample1.fit_resample(CF,adjl['label'])"
      ],
      "metadata": {
        "id": "TQIOvFT7SFzz"
      },
      "execution_count": null,
      "outputs": []
    },
    {
      "cell_type": "code",
      "source": [
        "count=0\n",
        "for i in range (0,len(CF_label)):\n",
        "  if CF_label[i]==1:\n",
        "    count+=1\n",
        "print(count)"
      ],
      "metadata": {
        "colab": {
          "base_uri": "https://localhost:8080/"
        },
        "id": "tVV28lO4SLKU",
        "outputId": "711e3b64-bd8b-4e42-8634-47406e7c864b"
      },
      "execution_count": null,
      "outputs": [
        {
          "output_type": "stream",
          "name": "stdout",
          "text": [
            "990\n"
          ]
        }
      ]
    },
    {
      "cell_type": "code",
      "source": [
        "#TF\n",
        "oversample2 = SMOTE(sampling_strategy=0.334)\n",
        "TF_smote,TF_label= oversample2.fit_resample(TF,adjl['label'])"
      ],
      "metadata": {
        "id": "rlHR_gBDSM0M"
      },
      "execution_count": null,
      "outputs": []
    },
    {
      "cell_type": "code",
      "source": [
        "#jaccardsimilarity\n",
        "oversample3 = SMOTE(sampling_strategy=0.334)\n",
        "jaccard_similarity_smote,jaccard_similarity_label= oversample3.fit_resample(jaccardsimilarity,\n",
        "                                                                            adjl['label'])"
      ],
      "metadata": {
        "id": "X39djJ3zSPi7"
      },
      "execution_count": null,
      "outputs": []
    },
    {
      "cell_type": "code",
      "source": [
        "#cosine_similarity\n",
        "oversample4 = SMOTE(sampling_strategy=0.334)\n",
        "cosine_similarity_smote,cosine_similarity_label= oversample4.fit_resample(cosine,\n",
        "                                                                          adjl['label'])"
      ],
      "metadata": {
        "id": "jFhzwEo2SPdu"
      },
      "execution_count": null,
      "outputs": []
    },
    {
      "cell_type": "code",
      "source": [
        "#L1_norm\n",
        "oversample5 = SMOTE(sampling_strategy=0.334)\n",
        "L1_norm_smote,L1_norm_label= oversample5.fit_resample(L1_normdf,adjl['label'])"
      ],
      "metadata": {
        "id": "nOFKcYdcSPXf"
      },
      "execution_count": null,
      "outputs": []
    },
    {
      "cell_type": "code",
      "source": [
        "#wsum\n",
        "oversample6 = SMOTE(sampling_strategy=0.334)\n",
        "wsum_smote,wsum_label= oversample6.fit_resample(wsumdf,adjl['label'])"
      ],
      "metadata": {
        "id": "84MIoCsGSPOB"
      },
      "execution_count": null,
      "outputs": []
    },
    {
      "cell_type": "code",
      "source": [
        "#wmul\n",
        "oversample7 = SMOTE(sampling_strategy=0.334)\n",
        "wmul_smote,wmul_label= oversample7.fit_resample(wmuldf,adjl['label'])"
      ],
      "metadata": {
        "id": "GOGtU5r2SZOd"
      },
      "execution_count": null,
      "outputs": []
    },
    {
      "cell_type": "markdown",
      "source": [
        "# **Pca / T_sne**"
      ],
      "metadata": {
        "id": "hd3QDUV4SfE0"
      }
    },
    {
      "cell_type": "code",
      "source": [
        "from sklearn.decomposition import PCA\n",
        "\n",
        "\n",
        "pca = PCA(n_components=10)\n",
        "CF_pca = pca.fit_transform(CF_smote)"
      ],
      "metadata": {
        "id": "fz6hagXXJ9fe"
      },
      "execution_count": null,
      "outputs": []
    },
    {
      "cell_type": "code",
      "source": [
        "from sklearn.manifold import TSNE\n",
        "\n",
        "CF_TSNE = TSNE(n_components=3, learning_rate='auto',init='random').fit_transform(CF_pca)\n",
        "CF_TSNE_df=pd.DataFrame(CF_TSNE)"
      ],
      "metadata": {
        "id": "w6WmirK9J9cq"
      },
      "execution_count": null,
      "outputs": []
    },
    {
      "cell_type": "code",
      "source": [
        "pca = PCA(n_components=10)\n",
        "TF_pca = pca.fit_transform(TF_smote)"
      ],
      "metadata": {
        "id": "gn5ivAGmJ9aB"
      },
      "execution_count": null,
      "outputs": []
    },
    {
      "cell_type": "code",
      "source": [
        "TF_TSNE = TSNE(n_components=3, learning_rate='auto',init='random').fit_transform(TF_pca)\n",
        "TF_TSNE_df=pd.DataFrame(TF_TSNE)"
      ],
      "metadata": {
        "id": "6L_DzmC1J9XY"
      },
      "execution_count": null,
      "outputs": []
    },
    {
      "cell_type": "code",
      "source": [
        "pca = PCA(n_components=10)\n",
        "jaccard_similarity_pca = pca.fit_transform(jaccard_similarity_smote)"
      ],
      "metadata": {
        "id": "W45KtkZeJ9Uh"
      },
      "execution_count": null,
      "outputs": []
    },
    {
      "cell_type": "code",
      "source": [
        "jaccard_similarity_TSNE = TSNE(n_components=3, learning_rate='auto',init='random').fit_transform(jaccard_similarity_pca)\n",
        "jaccard_similarity_TSNE_df=pd.DataFrame(jaccard_similarity_TSNE)"
      ],
      "metadata": {
        "id": "yX3BL52iJ9RJ"
      },
      "execution_count": null,
      "outputs": []
    },
    {
      "cell_type": "code",
      "source": [
        "pca = PCA(n_components=10)\n",
        "cosine_similarity_pca = pca.fit_transform(cosine_similarity_smote)"
      ],
      "metadata": {
        "id": "BBdcOP7rJ9OZ"
      },
      "execution_count": null,
      "outputs": []
    },
    {
      "cell_type": "code",
      "source": [
        "cosine_similarity_TSNE = TSNE(n_components=3, learning_rate='auto',init='random').fit_transform(cosine_similarity_pca)\n",
        "cosine_similarity_TSNE_df=pd.DataFrame(cosine_similarity_TSNE)"
      ],
      "metadata": {
        "id": "Q0aKHwRJJ9Lk"
      },
      "execution_count": null,
      "outputs": []
    },
    {
      "cell_type": "code",
      "source": [
        "pca = PCA(n_components=10)\n",
        "L1_normdf_similarity_pca = pca.fit_transform(L1_norm_smote)"
      ],
      "metadata": {
        "id": "lfzM5nI4J9JP"
      },
      "execution_count": null,
      "outputs": []
    },
    {
      "cell_type": "code",
      "source": [
        "L1_normdf_similarity_TSNE = TSNE(n_components=3, learning_rate='auto',init='random').fit_transform(L1_normdf_similarity_pca)\n",
        "L1_normdf_similarity_TSNE_df=pd.DataFrame(L1_normdf_similarity_TSNE)"
      ],
      "metadata": {
        "id": "dbzSJmLdJ9F2"
      },
      "execution_count": null,
      "outputs": []
    },
    {
      "cell_type": "code",
      "source": [
        "pca = PCA(n_components=10)\n",
        "wsumdf_similarity_pca = pca.fit_transform(wsum_smote)"
      ],
      "metadata": {
        "id": "IJ-xSIuVJ9D9"
      },
      "execution_count": null,
      "outputs": []
    },
    {
      "cell_type": "code",
      "source": [
        "wsumdf_similarity_TSNE = TSNE(n_components=3, learning_rate='auto',init='random').fit_transform(wsumdf_similarity_pca)\n",
        "wsumdf_similarity_TSNE_df=pd.DataFrame(wsumdf_similarity_TSNE)"
      ],
      "metadata": {
        "id": "VH6iL6QRJ86a"
      },
      "execution_count": null,
      "outputs": []
    },
    {
      "cell_type": "code",
      "source": [
        "pca = PCA(n_components=10)\n",
        "wmuldf_similarity_pca = pca.fit_transform(wmul_smote)"
      ],
      "metadata": {
        "id": "7GzSpqbyPI61"
      },
      "execution_count": null,
      "outputs": []
    },
    {
      "cell_type": "code",
      "source": [
        "wmuldf_similarity_TSNE = TSNE(n_components=3, learning_rate='auto',init='random').fit_transform(wmuldf_similarity_pca)\n",
        "wmuldf_similarity_TSNE_df=pd.DataFrame(wmuldf_similarity_TSNE)"
      ],
      "metadata": {
        "id": "79gbtYnUPI0j"
      },
      "execution_count": null,
      "outputs": []
    },
    {
      "cell_type": "code",
      "source": [
        "#concat\n",
        "frames = [CF_TSNE_df, TF_TSNE_df, jaccard_similarity_TSNE_df,cosine_similarity_TSNE_df,\n",
        "          L1_normdf_similarity_TSNE_df,wsumdf_similarity_TSNE_df,wmuldf_similarity_TSNE_df,CF_label]\n",
        "result = pd.concat(frames,axis=1)"
      ],
      "metadata": {
        "id": "1n_tytV9PIpT"
      },
      "execution_count": null,
      "outputs": []
    },
    {
      "cell_type": "code",
      "source": [
        "result"
      ],
      "metadata": {
        "id": "gb8z5vD4UvFG"
      },
      "execution_count": null,
      "outputs": []
    },
    {
      "cell_type": "code",
      "source": [
        "result.to_pickle('/content/drive/MyDrive/part2 10000/TTresult')\n",
        "result=pd.read_pickle('/content/drive/MyDrive/part2 10000/TTresult')"
      ],
      "metadata": {
        "id": "tYMW_6p1U04w"
      },
      "execution_count": null,
      "outputs": []
    }
  ]
}