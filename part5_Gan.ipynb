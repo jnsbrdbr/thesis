{
  "nbformat": 4,
  "nbformat_minor": 0,
  "metadata": {
    "colab": {
      "name": "part5/Gan.ipynb",
      "provenance": [],
      "authorship_tag": "ABX9TyMoTBMLZ8z7RpAoXi/BHYir",
      "include_colab_link": true
    },
    "kernelspec": {
      "name": "python3",
      "display_name": "Python 3"
    },
    "language_info": {
      "name": "python"
    }
  },
  "cells": [
    {
      "cell_type": "markdown",
      "metadata": {
        "id": "view-in-github",
        "colab_type": "text"
      },
      "source": [
        "<a href=\"https://colab.research.google.com/github/jnsbrdbr/thesis/blob/thesis/part5_Gan.ipynb\" target=\"_parent\"><img src=\"https://colab.research.google.com/assets/colab-badge.svg\" alt=\"Open In Colab\"/></a>"
      ]
    },
    {
      "cell_type": "code",
      "execution_count": 1,
      "metadata": {
        "colab": {
          "base_uri": "https://localhost:8080/"
        },
        "id": "yxDlz0f99AA3",
        "outputId": "3ed307c5-ce5b-4a9a-d610-35b171010dda"
      },
      "outputs": [
        {
          "output_type": "stream",
          "name": "stdout",
          "text": [
            "`%tensorflow_version` only switches the major version: 1.x or 2.x.\n",
            "You set: `2.x  # Colab only.`. This will be interpreted as: `2.x`.\n",
            "\n",
            "\n",
            "TensorFlow 2.x selected.\n",
            "2.8.0\n"
          ]
        }
      ],
      "source": [
        "# Install TensorFlow\n",
        "# !pip install -q tensorflow-gpu==2.0.0-rc0\n",
        "\n",
        "try:\n",
        "  %tensorflow_version 2.x  # Colab only.\n",
        "except Exception:\n",
        "  pass\n",
        "\n",
        "import tensorflow as tf\n",
        "print(tf.__version__)"
      ]
    },
    {
      "cell_type": "code",
      "source": [
        "import keras\n",
        "from keras.layers import Input, Dense, Activation, LeakyReLU, BatchNormalization\n",
        "from keras.models import Sequential\n",
        "from tensorflow.keras.optimizers import Adam\n",
        "from sklearn.model_selection import train_test_split\n",
        "from tensorflow.keras.models import Model\n",
        "import keras.backend as K\n",
        "import numpy as np\n",
        "import pandas as pd\n",
        "import matplotlib.pyplot as plt\n",
        "import sys, os\n",
        "\n",
        "%matplotlib inline"
      ],
      "metadata": {
        "id": "A_hoVr_P9HG7"
      },
      "execution_count": 2,
      "outputs": []
    },
    {
      "cell_type": "code",
      "source": [
        "from google.colab import drive\n",
        "drive.mount('/content/drive') "
      ],
      "metadata": {
        "colab": {
          "base_uri": "https://localhost:8080/"
        },
        "id": "BGEQJ7nc9KOO",
        "outputId": "1bf01d38-d83c-4412-cc08-0a72a63a5dd4"
      },
      "execution_count": 3,
      "outputs": [
        {
          "output_type": "stream",
          "name": "stdout",
          "text": [
            "Mounted at /content/drive\n"
          ]
        }
      ]
    },
    {
      "cell_type": "code",
      "source": [
        "!pip install --upgrade tables"
      ],
      "metadata": {
        "colab": {
          "base_uri": "https://localhost:8080/"
        },
        "id": "C9_JtGAQ9QfZ",
        "outputId": "01721712-6b77-41f1-b7b6-30023dfee123"
      },
      "execution_count": 4,
      "outputs": [
        {
          "output_type": "stream",
          "name": "stdout",
          "text": [
            "Requirement already satisfied: tables in /usr/local/lib/python3.7/dist-packages (3.7.0)\n",
            "Requirement already satisfied: numexpr>=2.6.2 in /usr/local/lib/python3.7/dist-packages (from tables) (2.8.1)\n",
            "Requirement already satisfied: packaging in /usr/local/lib/python3.7/dist-packages (from tables) (21.3)\n",
            "Requirement already satisfied: numpy>=1.19.0 in /usr/local/lib/python3.7/dist-packages (from tables) (1.21.5)\n",
            "Requirement already satisfied: pyparsing!=3.0.5,>=2.0.2 in /usr/local/lib/python3.7/dist-packages (from packaging->tables) (3.0.7)\n"
          ]
        }
      ]
    },
    {
      "cell_type": "code",
      "source": [
        "with pd.HDFStore('/content/drive/MyDrive/1000/part2_result',  mode='r') as newstore:\n",
        "    result = newstore.select('result')"
      ],
      "metadata": {
        "id": "-1JPJJAm9TQ_"
      },
      "execution_count": 5,
      "outputs": []
    },
    {
      "cell_type": "code",
      "source": [
        "#final data\n",
        "print(result)"
      ],
      "metadata": {
        "colab": {
          "base_uri": "https://localhost:8080/"
        },
        "id": "nSg9yRXO9cG_",
        "outputId": "fa0bba2b-df8e-466a-de84-49e2041ee4ef"
      },
      "execution_count": 6,
      "outputs": [
        {
          "output_type": "stream",
          "name": "stdout",
          "text": [
            "             0         1         2  ...         8         9  label\n",
            "0    -1.680599 -3.061217 -0.040984  ... -0.006112 -0.004759      1\n",
            "1    -1.680599 -3.061217 -0.040984  ... -0.006112 -0.004759      1\n",
            "2    -1.680599 -3.061217 -0.040984  ... -0.006112 -0.004759      1\n",
            "3    -1.680599 -3.061217 -0.040984  ... -0.006112 -0.004759      1\n",
            "4    -1.680599 -3.061217 -0.040984  ...  0.006186  0.002988      1\n",
            "...        ...       ...       ...  ...       ...       ...    ...\n",
            "1315 -1.680599 -3.061217 -0.040984  ... -0.035323 -0.015205      0\n",
            "1316 -1.680599 -3.061217 -0.040984  ... -0.012077 -0.016767      0\n",
            "1317 -1.680599 -3.061217 -0.040984  ... -0.011761 -0.013474      0\n",
            "1318 -1.680599 -3.061217 -0.040984  ...  0.004503  0.113459      0\n",
            "1319 -1.680599 -3.061217 -0.040984  ... -0.022880  0.001418      0\n",
            "\n",
            "[1320 rows x 71 columns]\n"
          ]
        }
      ]
    },
    {
      "cell_type": "code",
      "source": [
        "#divide data in to data_label and non_data label\n",
        "\n",
        "import copy\n",
        "result_nonlabel=copy.deepcopy(result)\n",
        "del result_nonlabel['label']\n",
        "X=result_nonlabel\n",
        "y=result.label"
      ],
      "metadata": {
        "id": "frfKEoCs9gIQ"
      },
      "execution_count": 7,
      "outputs": []
    },
    {
      "cell_type": "code",
      "source": [
        "#splitting data in to test and train...\n",
        "\n",
        "from sklearn.model_selection import train_test_split\n",
        "X_train, X_test, y_train, y_test = train_test_split(X, y ,random_state=42,test_size=0.3)#"
      ],
      "metadata": {
        "id": "2QXtZVM39hmh"
      },
      "execution_count": 8,
      "outputs": []
    },
    {
      "cell_type": "code",
      "source": [
        "print('shape of x_train is:',X_train.shape)\n",
        "print('shape of x_test is:',X_test.shape)"
      ],
      "metadata": {
        "colab": {
          "base_uri": "https://localhost:8080/"
        },
        "id": "-uTNI9nu927y",
        "outputId": "c7662747-bb0b-4f10-af3c-87f2c28e953c"
      },
      "execution_count": 9,
      "outputs": [
        {
          "output_type": "stream",
          "name": "stdout",
          "text": [
            "shape of x_train is: (924, 70)\n",
            "shape of x_test is: (396, 70)\n"
          ]
        }
      ]
    },
    {
      "cell_type": "code",
      "source": [
        "def make_latent_samples(n_samples, sample_size):\n",
        "    #return np.random.uniform(-1, 1, size=(n_samples, sample_size))\n",
        "    return np.random.normal(loc=0, scale=1, size=(n_samples, sample_size))"
      ],
      "metadata": {
        "id": "pqrUBIrH95mS"
      },
      "execution_count": 10,
      "outputs": []
    },
    {
      "cell_type": "code",
      "source": [
        "make_latent_samples(1, 300) # generates one sample"
      ],
      "metadata": {
        "colab": {
          "base_uri": "https://localhost:8080/"
        },
        "id": "ULk7h_Go97uH",
        "outputId": "46bbc2b0-248d-4291-f4fb-e7f2a2f018ff"
      },
      "execution_count": 11,
      "outputs": [
        {
          "output_type": "execute_result",
          "data": {
            "text/plain": [
              "array([[-0.73150552,  1.33172048,  0.4163271 ,  0.50449136, -1.93562901,\n",
              "        -1.40845427,  1.1652469 ,  0.43486334,  0.58284322,  0.86414526,\n",
              "        -0.13805829, -0.54632018,  0.23144703,  0.19021732,  0.78275686,\n",
              "         1.54719768, -0.36388275,  3.05286406,  1.04601088,  0.15694474,\n",
              "        -1.08499705, -1.22646562,  2.1658339 ,  1.0613744 ,  1.87399144,\n",
              "        -0.48526297, -1.52921251,  0.80217528,  1.31594834, -0.5656184 ,\n",
              "        -0.31936377, -1.1537824 , -0.03657154,  0.72205726,  0.72845352,\n",
              "         0.82313665,  0.6314742 , -0.49975641,  0.78064688, -0.44711851,\n",
              "        -0.53440229, -0.13398961, -1.1992488 , -0.18203325, -0.43114363,\n",
              "         0.11810747, -0.20169356,  1.54230404,  0.18839616, -0.772211  ,\n",
              "         0.12178653, -0.20937574, -0.90440306,  0.15758516, -0.66475403,\n",
              "        -0.21407281, -0.77400745, -0.46648442,  1.23891443, -0.36938108,\n",
              "        -0.33486423, -0.29097231, -1.07121118,  0.05108564, -0.44118935,\n",
              "         0.84899221,  2.04797034, -1.08953823,  0.75101442,  0.99604763,\n",
              "        -1.25632699,  0.30416666, -2.29736558, -0.30711161,  0.39109818,\n",
              "         0.06843583,  0.23153666, -1.18918827, -0.71447631, -0.48883076,\n",
              "         0.48675121,  0.59614769,  0.93377148,  0.20895683, -0.56347084,\n",
              "         0.16806006,  0.19801515, -1.16165213,  0.3125405 , -0.23976121,\n",
              "         0.47733686, -0.73692309, -0.48846693,  1.38653332,  0.28277522,\n",
              "        -0.46352218,  0.72495987,  0.03614953,  0.08094484,  0.60454464,\n",
              "        -0.71759025,  0.01380131, -0.2276972 , -0.03496201,  0.30171898,\n",
              "        -0.97159887,  1.17243699,  0.29557883,  0.75549879,  1.82020725,\n",
              "        -0.74799344,  0.23879396, -0.15172666,  1.33633263,  0.59566063,\n",
              "         0.99389191,  0.65275649,  0.29991486,  0.41960676,  1.00929501,\n",
              "        -0.93235963, -0.30863255,  1.86812054, -1.278781  ,  1.12585221,\n",
              "         0.80642261, -0.55925944, -1.79934062,  0.11170422,  0.16640726,\n",
              "        -0.70127246, -0.72683303, -0.52723571,  2.31797959, -1.0676737 ,\n",
              "         0.77996024,  0.71350171,  0.42388604,  0.80724566,  2.26383408,\n",
              "         0.12851798, -0.36044515, -0.36714934,  0.32556469,  1.06772135,\n",
              "        -0.76502423,  0.61606606, -1.07858709,  0.56853145,  0.2450841 ,\n",
              "         0.72424061, -1.17514536,  0.18958574, -1.1096823 , -0.80221004,\n",
              "        -0.18211051,  0.90517427,  0.41199861,  0.86921464,  1.48679594,\n",
              "        -2.30744155, -0.85667981, -0.35548144, -1.71272693,  0.86349577,\n",
              "         1.48253538,  2.16403533,  1.0070045 , -0.24843472,  0.91307071,\n",
              "         0.18604097,  0.41839583,  1.45101347,  1.68604971,  1.99722769,\n",
              "         1.5537498 , -0.2175948 , -1.74530093,  0.56282522, -1.00464954,\n",
              "         2.50235335, -0.12421937,  0.84041141, -0.05898253,  0.20497693,\n",
              "         0.31623477, -0.38698167,  1.36577694, -1.71264204, -0.21091471,\n",
              "        -1.14129062, -0.65611707,  0.19443293,  1.05828535,  0.48584773,\n",
              "        -0.02956342,  0.87225336, -1.4060064 , -1.4433951 ,  0.13719221,\n",
              "        -0.46498132, -1.57233576, -0.0403264 , -0.04227021,  1.66842403,\n",
              "         0.66820676, -0.06940772, -0.57078089,  0.880277  ,  0.01118854,\n",
              "         1.54431824,  0.0855692 , -0.07253533, -0.20415118, -1.86073406,\n",
              "         2.40486597,  0.99790498,  1.62536254,  1.69620278,  1.65365239,\n",
              "         0.98494043,  0.77626106, -0.77265836, -1.48104084,  0.15773852,\n",
              "         0.64209983,  0.10267102, -0.50424048,  0.19953899, -0.13932017,\n",
              "        -0.41345177,  0.23084949,  0.49949106, -0.47614908, -1.37104897,\n",
              "         0.16517972,  0.63178328, -0.17420958, -0.7035523 , -1.01823404,\n",
              "        -1.1493977 , -0.22490418,  0.90526894, -1.59816532,  0.98724012,\n",
              "        -1.22083798,  0.79764702, -1.24750605,  0.6044677 ,  1.01331518,\n",
              "        -0.22237943,  0.90974483,  0.23189004,  1.46105468,  0.88743132,\n",
              "        -0.12204802, -0.85586114, -1.28058458, -1.51043392,  1.49412115,\n",
              "        -0.79604145, -0.25548739,  0.73676256, -0.2047508 ,  1.11597914,\n",
              "        -0.00507029, -0.38094989, -0.520351  ,  0.9310405 ,  0.5699298 ,\n",
              "        -0.03982639, -0.41619261,  0.20381889,  0.18655453, -0.79746862,\n",
              "        -1.80219451, -0.30448692, -0.39831219,  0.22267802, -0.75057729,\n",
              "        -0.36535565,  0.97867699, -2.16446256,  0.39430845, -0.75536105,\n",
              "        -1.97507822,  1.88967738, -0.14744376, -2.22593254, -2.01952709,\n",
              "         1.01513361,  0.13489823, -0.43143487,  0.73788746,  0.71395368,\n",
              "         0.43119683, -0.10233117, -0.67712488, -0.70724541,  0.47118364]])"
            ]
          },
          "metadata": {},
          "execution_count": 11
        }
      ]
    },
    {
      "cell_type": "code",
      "source": [
        "generator = Sequential([\n",
        "    Dense(256, input_shape=(300,)),\n",
        "    LeakyReLU(alpha=0.02),\n",
        "    #BatchNormalization(momentum=0.6),\n",
        "    #Dense(512),\n",
        "    #LeakyReLU(alpha=0.02),\n",
        "    #BatchNormalization(momentum=0.6),\n",
        "    #Dense(256),\n",
        "    #LeakyReLU(alpha=0.02),\n",
        "    #BatchNormalization(momentum=0.6),\n",
        "    #Dense(128),\n",
        "    #LeakyReLU(alpha=0.02),\n",
        "    #BatchNormalization(momentum=0.6),\n",
        "    Dense(70),\n",
        "    Activation('tanh')\n",
        "], name='generator')\n",
        "\n",
        "generator.summary()"
      ],
      "metadata": {
        "colab": {
          "base_uri": "https://localhost:8080/"
        },
        "id": "NRQCCamw-Ec5",
        "outputId": "fad5dbb6-ca9b-4808-906b-a3bf98555640"
      },
      "execution_count": 13,
      "outputs": [
        {
          "output_type": "stream",
          "name": "stdout",
          "text": [
            "Model: \"generator\"\n",
            "_________________________________________________________________\n",
            " Layer (type)                Output Shape              Param #   \n",
            "=================================================================\n",
            " dense_2 (Dense)             (None, 256)               77056     \n",
            "                                                                 \n",
            " leaky_re_lu_1 (LeakyReLU)   (None, 256)               0         \n",
            "                                                                 \n",
            " dense_3 (Dense)             (None, 70)                17990     \n",
            "                                                                 \n",
            " activation_1 (Activation)   (None, 70)                0         \n",
            "                                                                 \n",
            "=================================================================\n",
            "Total params: 95,046\n",
            "Trainable params: 95,046\n",
            "Non-trainable params: 0\n",
            "_________________________________________________________________\n"
          ]
        }
      ]
    },
    {
      "cell_type": "code",
      "source": [
        "discriminator = Sequential([\n",
        "    Dense(128, input_shape=(70,)),\n",
        "    LeakyReLU(alpha=0.02),\n",
        "    #(momentum=0.6),\n",
        "    Dense(64),\n",
        "    LeakyReLU(alpha=0.02),\n",
        "    #BatchNormalization(momentum=0.6),\n",
        "    Dense(32),\n",
        "    LeakyReLU(alpha=0.02),\n",
        "    #BatchNormalization(momentum=0.6),\n",
        "    #Dense(16),\n",
        "    #LeakyReLU(alpha=0.02),\n",
        "    #BatchNormalization(momentum=0.6),\n",
        "    #Dense(8),\n",
        "    #LeakyReLU(alpha=0.02),\n",
        "    #BatchNormalization(momentum=0.6),\n",
        "    Dense(1),\n",
        "    Activation('sigmoid')\n",
        "], name='discriminator')\n",
        "\n",
        "discriminator.summary()"
      ],
      "metadata": {
        "colab": {
          "base_uri": "https://localhost:8080/"
        },
        "id": "JRnsIE5B-KKa",
        "outputId": "7f8e2f05-8bd8-4c81-87ae-4da7ab3e76b4"
      },
      "execution_count": 14,
      "outputs": [
        {
          "output_type": "stream",
          "name": "stdout",
          "text": [
            "Model: \"discriminator\"\n",
            "_________________________________________________________________\n",
            " Layer (type)                Output Shape              Param #   \n",
            "=================================================================\n",
            " dense_4 (Dense)             (None, 128)               9088      \n",
            "                                                                 \n",
            " leaky_re_lu_2 (LeakyReLU)   (None, 128)               0         \n",
            "                                                                 \n",
            " dense_5 (Dense)             (None, 64)                8256      \n",
            "                                                                 \n",
            " leaky_re_lu_3 (LeakyReLU)   (None, 64)                0         \n",
            "                                                                 \n",
            " dense_6 (Dense)             (None, 32)                2080      \n",
            "                                                                 \n",
            " leaky_re_lu_4 (LeakyReLU)   (None, 32)                0         \n",
            "                                                                 \n",
            " dense_7 (Dense)             (None, 1)                 33        \n",
            "                                                                 \n",
            " activation_2 (Activation)   (None, 1)                 0         \n",
            "                                                                 \n",
            "=================================================================\n",
            "Total params: 19,457\n",
            "Trainable params: 19,457\n",
            "Non-trainable params: 0\n",
            "_________________________________________________________________\n"
          ]
        }
      ]
    },
    {
      "cell_type": "code",
      "source": [
        "# maintain the same shared weights with the generator and the discriminator.\n",
        "gan = Sequential([\n",
        "    generator,\n",
        "    discriminator\n",
        "])\n",
        "\n",
        "gan.summary()"
      ],
      "metadata": {
        "colab": {
          "base_uri": "https://localhost:8080/"
        },
        "id": "MBUGC7Bb-SWv",
        "outputId": "a27dc176-5653-4027-de8e-26eee715a282"
      },
      "execution_count": 15,
      "outputs": [
        {
          "output_type": "stream",
          "name": "stdout",
          "text": [
            "Model: \"sequential\"\n",
            "_________________________________________________________________\n",
            " Layer (type)                Output Shape              Param #   \n",
            "=================================================================\n",
            " generator (Sequential)      (None, 70)                95046     \n",
            "                                                                 \n",
            " discriminator (Sequential)  (None, 1)                 19457     \n",
            "                                                                 \n",
            "=================================================================\n",
            "Total params: 114,503\n",
            "Trainable params: 114,503\n",
            "Non-trainable params: 0\n",
            "_________________________________________________________________\n"
          ]
        }
      ]
    },
    {
      "cell_type": "code",
      "source": [
        "def make_trainable(model, trainable):\n",
        "    for layer in model.layers:\n",
        "        layer.trainable = trainable"
      ],
      "metadata": {
        "id": "5icOTO6Z-V2f"
      },
      "execution_count": 16,
      "outputs": []
    },
    {
      "cell_type": "code",
      "source": [
        "make_trainable(discriminator, False)\n",
        "discriminator.summary()"
      ],
      "metadata": {
        "colab": {
          "base_uri": "https://localhost:8080/"
        },
        "id": "gZNa6ouG-XqZ",
        "outputId": "f63213b9-739e-48ed-b0ea-63616ecb3027"
      },
      "execution_count": 17,
      "outputs": [
        {
          "output_type": "stream",
          "name": "stdout",
          "text": [
            "Model: \"discriminator\"\n",
            "_________________________________________________________________\n",
            " Layer (type)                Output Shape              Param #   \n",
            "=================================================================\n",
            " dense_4 (Dense)             (None, 128)               9088      \n",
            "                                                                 \n",
            " leaky_re_lu_2 (LeakyReLU)   (None, 128)               0         \n",
            "                                                                 \n",
            " dense_5 (Dense)             (None, 64)                8256      \n",
            "                                                                 \n",
            " leaky_re_lu_3 (LeakyReLU)   (None, 64)                0         \n",
            "                                                                 \n",
            " dense_6 (Dense)             (None, 32)                2080      \n",
            "                                                                 \n",
            " leaky_re_lu_4 (LeakyReLU)   (None, 32)                0         \n",
            "                                                                 \n",
            " dense_7 (Dense)             (None, 1)                 33        \n",
            "                                                                 \n",
            " activation_2 (Activation)   (None, 1)                 0         \n",
            "                                                                 \n",
            "=================================================================\n",
            "Total params: 19,457\n",
            "Trainable params: 0\n",
            "Non-trainable params: 19,457\n",
            "_________________________________________________________________\n"
          ]
        }
      ]
    },
    {
      "cell_type": "code",
      "source": [
        "make_trainable(discriminator, True)\n",
        "discriminator.summary()"
      ],
      "metadata": {
        "colab": {
          "base_uri": "https://localhost:8080/"
        },
        "id": "uL0eVORe-ahE",
        "outputId": "d2d928e4-b41e-4a6b-9987-18c0942fd5c3"
      },
      "execution_count": 18,
      "outputs": [
        {
          "output_type": "stream",
          "name": "stdout",
          "text": [
            "Model: \"discriminator\"\n",
            "_________________________________________________________________\n",
            " Layer (type)                Output Shape              Param #   \n",
            "=================================================================\n",
            " dense_4 (Dense)             (None, 128)               9088      \n",
            "                                                                 \n",
            " leaky_re_lu_2 (LeakyReLU)   (None, 128)               0         \n",
            "                                                                 \n",
            " dense_5 (Dense)             (None, 64)                8256      \n",
            "                                                                 \n",
            " leaky_re_lu_3 (LeakyReLU)   (None, 64)                0         \n",
            "                                                                 \n",
            " dense_6 (Dense)             (None, 32)                2080      \n",
            "                                                                 \n",
            " leaky_re_lu_4 (LeakyReLU)   (None, 32)                0         \n",
            "                                                                 \n",
            " dense_7 (Dense)             (None, 1)                 33        \n",
            "                                                                 \n",
            " activation_2 (Activation)   (None, 1)                 0         \n",
            "                                                                 \n",
            "=================================================================\n",
            "Total params: 19,457\n",
            "Trainable params: 19,457\n",
            "Non-trainable params: 0\n",
            "_________________________________________________________________\n"
          ]
        }
      ]
    },
    {
      "cell_type": "code",
      "source": [
        "def make_simple_GAN(sample_size, \n",
        "                    g_hidden_size_1,\n",
        "                    g_hidden_size_2,\n",
        "                    g_hidden_size_3,\n",
        "                    g_hidden_size_4,\n",
        "                    d_hidden_size_1,\n",
        "                    d_hidden_size_2, \n",
        "                    d_hidden_size_3,\n",
        "                    d_hidden_size_4,\n",
        "                    d_hidden_size_5,\n",
        "                    leaky_alpha, \n",
        "                    g_learning_rate,\n",
        "                    d_learning_rate):\n",
        "    K.clear_session()\n",
        "    \n",
        "    generator = Sequential([\n",
        "        Dense(g_hidden_size_1, input_shape=(sample_size,)),\n",
        "        LeakyReLU(alpha=leaky_alpha),\n",
        "        #BatchNormalization(momentum=0.6),\n",
        "        #Dense(g_hidden_size_2),\n",
        "        #LeakyReLU(alpha=leaky_alpha),\n",
        "        #BatchNormalization(momentum=0.6),\n",
        "        #Dense(g_hidden_size_3),\n",
        "        #LeakyReLU(alpha=leaky_alpha),\n",
        "        #BatchNormalization(momentum=0.6),\n",
        "        #Dense(g_hidden_size_4),\n",
        "        #LeakyReLU(alpha=leaky_alpha),\n",
        "        #BatchNormalization(momentum=0.6),\n",
        "        Dense(70),        \n",
        "        Activation('tanh')\n",
        "    ], name='generator')    \n",
        "\n",
        "    discriminator = Sequential([\n",
        "        Dense(d_hidden_size_1, input_shape=(70,)),\n",
        "        LeakyReLU(alpha=leaky_alpha),\n",
        "        #BatchNormalization(momentum=0.6),\n",
        "        Dense(d_hidden_size_2),\n",
        "        LeakyReLU(alpha=leaky_alpha),\n",
        "        #BatchNormalization(momentum=0.6),\n",
        "        Dense(d_hidden_size_3),\n",
        "        LeakyReLU(alpha=leaky_alpha),\n",
        "        #BatchNormalization(momentum=0.6),\n",
        "        #Dense(d_hidden_size_4),\n",
        "        #LeakyReLU(alpha=leaky_alpha),\n",
        "        #BatchNormalization(momentum=0.6),\n",
        "        #Dense(d_hidden_size_5),\n",
        "        #LeakyReLU(alpha=leaky_alpha),\n",
        "        #BatchNormalization(momentum=0.6),\n",
        "        Dense(1),\n",
        "        Activation('sigmoid')\n",
        "    ], name='discriminator')    \n",
        "    \n",
        "    gan = Sequential([\n",
        "        generator,\n",
        "        discriminator\n",
        "    ])\n",
        "    \n",
        "    discriminator.compile(optimizer=Adam(lr=d_learning_rate), loss='binary_crossentropy')\n",
        "    gan.compile(optimizer=Adam(lr=g_learning_rate), loss='binary_crossentropy')\n",
        "    \n",
        "    return gan, generator, discriminator "
      ],
      "metadata": {
        "id": "rEp_1i09-dPu"
      },
      "execution_count": 28,
      "outputs": []
    },
    {
      "cell_type": "code",
      "source": [
        "from sklearn import preprocessing\n",
        "def preprocess(x):\n",
        "   x = preprocessing.scale(x)\n",
        "   return x"
      ],
      "metadata": {
        "id": "mI3nU-3_-lK-"
      },
      "execution_count": 20,
      "outputs": []
    },
    {
      "cell_type": "code",
      "source": [
        "X_train_real = np.array(preprocess(X_train))\n",
        "X_test_real  = np.array(preprocess(X_test))"
      ],
      "metadata": {
        "id": "SLCAacR--m1_"
      },
      "execution_count": 21,
      "outputs": []
    },
    {
      "cell_type": "code",
      "source": [
        "def make_labels(size):\n",
        "    return np.ones([size, 1]), np.zeros([size, 1])"
      ],
      "metadata": {
        "id": "WmJ4T1rT-pxE"
      },
      "execution_count": 22,
      "outputs": []
    },
    {
      "cell_type": "code",
      "source": [
        "y_real_10, y_fake_10 = make_labels(10)\n",
        "\n",
        "y_real_10, y_fake_10"
      ],
      "metadata": {
        "colab": {
          "base_uri": "https://localhost:8080/"
        },
        "id": "lO2LcRot-r8O",
        "outputId": "c736562e-0bff-4a98-ee87-53b1c5072be7"
      },
      "execution_count": 23,
      "outputs": [
        {
          "output_type": "execute_result",
          "data": {
            "text/plain": [
              "(array([[1.],\n",
              "        [1.],\n",
              "        [1.],\n",
              "        [1.],\n",
              "        [1.],\n",
              "        [1.],\n",
              "        [1.],\n",
              "        [1.],\n",
              "        [1.],\n",
              "        [1.]]), array([[0.],\n",
              "        [0.],\n",
              "        [0.],\n",
              "        [0.],\n",
              "        [0.],\n",
              "        [0.],\n",
              "        [0.],\n",
              "        [0.],\n",
              "        [0.],\n",
              "        [0.]]))"
            ]
          },
          "metadata": {},
          "execution_count": 23
        }
      ]
    },
    {
      "cell_type": "code",
      "source": [
        "# hyperparameters\n",
        "sample_size     = 300     # latent sample size (i.e., 100 random numbers)\n",
        "g_hidden_size_1 = 256\n",
        "g_hidden_size_2 = 0\n",
        "g_hidden_size_3 = 0\n",
        "g_hidden_size_4 = 0\n",
        "d_hidden_size_1 = 128\n",
        "d_hidden_size_2 = 64\n",
        "d_hidden_size_3 = 32\n",
        "d_hidden_size_4 = 16\n",
        "d_hidden_size_5 = 8\n",
        "leaky_alpha     = 0.02\n",
        "g_learning_rate = 0.0001  # learning rate for the generator\n",
        "d_learning_rate = 0.001   # learning rate for the discriminator\n",
        "epochs          = 150\n",
        "batch_size      = 64      # train batch size\n",
        "eval_size       = 16      # evaluate size\n",
        "smooth          = 0.1\n"
      ],
      "metadata": {
        "id": "7N6BKZv3-vZS"
      },
      "execution_count": 24,
      "outputs": []
    },
    {
      "cell_type": "code",
      "source": [
        "## labels for the batch size and the test size\n",
        "y_train_real, y_train_fake = make_labels(batch_size)\n",
        "y_eval_real,  y_eval_fake  = make_labels(eval_size)\n",
        "\n",
        "# create a GAN, a generator and a discriminator\n",
        "gan, generator, discriminator = make_simple_GAN(\n",
        "    sample_size, \n",
        "    g_hidden_size_1, \n",
        "    g_hidden_size_2,\n",
        "    g_hidden_size_3,\n",
        "    g_hidden_size_4, \n",
        "    d_hidden_size_1, \n",
        "    d_hidden_size_2,\n",
        "    d_hidden_size_3,\n",
        "    d_hidden_size_4,\n",
        "    d_hidden_size_5,\n",
        "    leaky_alpha, \n",
        "    g_learning_rate,\n",
        "    d_learning_rate)\n",
        "\n",
        "\n",
        "losses = []\n",
        "losses1 = []\n",
        "for e in range(epochs):\n",
        "    for i in range(len(X_train_real)//batch_size):\n",
        "        # real MNIST digit images\n",
        "        X_batch_real = X_train_real[i*batch_size:(i+1)*batch_size]\n",
        "        \n",
        "        # latent samples and the generated digit images\n",
        "        latent_samples = make_latent_samples(batch_size, sample_size)\n",
        "        X_batch_fake = generator.predict_on_batch(latent_samples)\n",
        "        \n",
        "        # train the discriminator to detect real and fake images\n",
        "        make_trainable(discriminator, True)\n",
        "        discriminator.train_on_batch(X_batch_real, y_train_real * (1 - smooth))\n",
        "        discriminator.train_on_batch(X_batch_fake, y_train_fake)\n",
        "\n",
        "        # train the generator via GAN\n",
        "        make_trainable(discriminator, False)\n",
        "        gan.train_on_batch(latent_samples, y_train_real)\n",
        "   # evaluate\n",
        "    X_eval_real = X_test_real[np.random.choice(len(X_test_real), eval_size, replace=False)]\n",
        "    \n",
        "    latent_samples = make_latent_samples(eval_size, sample_size)\n",
        "    X_eval_fake = generator.predict_on_batch(latent_samples)\n",
        "\n",
        "    d_loss  = discriminator.test_on_batch(X_eval_real, y_eval_real)\n",
        "    d_loss += discriminator.test_on_batch(X_eval_fake, y_eval_fake)\n",
        "    g_loss  = gan.test_on_batch(latent_samples, y_eval_real) # we want the fake to be realistic!\n",
        "    \n",
        "    losses.append((d_loss, g_loss))\n",
        "\n",
        "    #d_acc_real = discriminator.train_on_batch(X_batch_real, y_train_real * (1 - smooth))\n",
        "    #d_acc_fake = discriminator.train_on_batch(X_batch_fake, y_train_fake)\n",
        "    #d_acc  = 0.5 * (d_acc_real + d_acc_fake)\n",
        "\n",
        "    #losses1.append(( d_acc))\n",
        "    print(\"Epoch: {:>3}/{} Discriminator Loss: {:>6.4f} Generator Loss: {:>6.4f} \".format(\n",
        "        e+1, epochs, d_loss, g_loss)) #Discriminator acc: {:>6.4f}:,d_acc"
      ],
      "metadata": {
        "colab": {
          "base_uri": "https://localhost:8080/"
        },
        "id": "9SYobm6e-3f0",
        "outputId": "101827f3-1dde-4aeb-e50b-371d68fc63ce"
      },
      "execution_count": 29,
      "outputs": [
        {
          "output_type": "stream",
          "name": "stderr",
          "text": [
            "/usr/local/lib/python3.7/dist-packages/keras/optimizer_v2/adam.py:105: UserWarning: The `lr` argument is deprecated, use `learning_rate` instead.\n",
            "  super(Adam, self).__init__(name, **kwargs)\n"
          ]
        },
        {
          "output_type": "stream",
          "name": "stdout",
          "text": [
            "Epoch:   1/150 Discriminator Loss: 0.5645 Generator Loss: 1.3570 \n",
            "Epoch:   2/150 Discriminator Loss: 0.2912 Generator Loss: 2.2975 \n",
            "Epoch:   3/150 Discriminator Loss: 0.4550 Generator Loss: 2.5008 \n",
            "Epoch:   4/150 Discriminator Loss: 0.2783 Generator Loss: 2.8621 \n",
            "Epoch:   5/150 Discriminator Loss: 0.5871 Generator Loss: 2.5311 \n",
            "Epoch:   6/150 Discriminator Loss: 0.4102 Generator Loss: 3.0905 \n",
            "Epoch:   7/150 Discriminator Loss: 0.4816 Generator Loss: 2.7814 \n",
            "Epoch:   8/150 Discriminator Loss: 0.6614 Generator Loss: 2.7567 \n",
            "Epoch:   9/150 Discriminator Loss: 0.4422 Generator Loss: 3.2214 \n",
            "Epoch:  10/150 Discriminator Loss: 0.4185 Generator Loss: 3.2706 \n",
            "Epoch:  11/150 Discriminator Loss: 0.4466 Generator Loss: 3.5797 \n",
            "Epoch:  12/150 Discriminator Loss: 0.3547 Generator Loss: 4.5955 \n",
            "Epoch:  13/150 Discriminator Loss: 0.4913 Generator Loss: 4.5343 \n",
            "Epoch:  14/150 Discriminator Loss: 0.1606 Generator Loss: 4.7370 \n",
            "Epoch:  15/150 Discriminator Loss: 0.9320 Generator Loss: 4.9323 \n",
            "Epoch:  16/150 Discriminator Loss: 0.4978 Generator Loss: 4.5647 \n",
            "Epoch:  17/150 Discriminator Loss: 0.4579 Generator Loss: 4.5510 \n",
            "Epoch:  18/150 Discriminator Loss: 1.2794 Generator Loss: 4.4583 \n",
            "Epoch:  19/150 Discriminator Loss: 0.4270 Generator Loss: 4.2187 \n",
            "Epoch:  20/150 Discriminator Loss: 0.1384 Generator Loss: 4.9288 \n",
            "Epoch:  21/150 Discriminator Loss: 1.8552 Generator Loss: 4.9329 \n",
            "Epoch:  22/150 Discriminator Loss: 0.7347 Generator Loss: 5.2438 \n",
            "Epoch:  23/150 Discriminator Loss: 0.6431 Generator Loss: 4.5226 \n",
            "Epoch:  24/150 Discriminator Loss: 0.3855 Generator Loss: 5.1238 \n",
            "Epoch:  25/150 Discriminator Loss: 0.6074 Generator Loss: 5.5503 \n",
            "Epoch:  26/150 Discriminator Loss: 0.5648 Generator Loss: 5.7722 \n",
            "Epoch:  27/150 Discriminator Loss: 0.2798 Generator Loss: 5.6631 \n",
            "Epoch:  28/150 Discriminator Loss: 0.4151 Generator Loss: 5.6081 \n",
            "Epoch:  29/150 Discriminator Loss: 0.3650 Generator Loss: 5.8878 \n",
            "Epoch:  30/150 Discriminator Loss: 0.5304 Generator Loss: 6.3857 \n",
            "Epoch:  31/150 Discriminator Loss: 0.2979 Generator Loss: 5.6761 \n",
            "Epoch:  32/150 Discriminator Loss: 0.6998 Generator Loss: 6.2386 \n",
            "Epoch:  33/150 Discriminator Loss: 0.6120 Generator Loss: 6.7497 \n",
            "Epoch:  34/150 Discriminator Loss: 0.2253 Generator Loss: 6.3885 \n",
            "Epoch:  35/150 Discriminator Loss: 0.2483 Generator Loss: 6.4298 \n",
            "Epoch:  36/150 Discriminator Loss: 0.3517 Generator Loss: 6.7906 \n",
            "Epoch:  37/150 Discriminator Loss: 0.3615 Generator Loss: 7.5288 \n",
            "Epoch:  38/150 Discriminator Loss: 1.3214 Generator Loss: 6.6132 \n",
            "Epoch:  39/150 Discriminator Loss: 0.2925 Generator Loss: 6.4133 \n",
            "Epoch:  40/150 Discriminator Loss: 0.3195 Generator Loss: 6.8861 \n",
            "Epoch:  41/150 Discriminator Loss: 0.3508 Generator Loss: 6.4170 \n",
            "Epoch:  42/150 Discriminator Loss: 0.1847 Generator Loss: 7.0461 \n",
            "Epoch:  43/150 Discriminator Loss: 0.2018 Generator Loss: 7.3899 \n",
            "Epoch:  44/150 Discriminator Loss: 0.2483 Generator Loss: 7.0771 \n",
            "Epoch:  45/150 Discriminator Loss: 0.3887 Generator Loss: 6.7699 \n",
            "Epoch:  46/150 Discriminator Loss: 0.3211 Generator Loss: 6.4080 \n",
            "Epoch:  47/150 Discriminator Loss: 0.2764 Generator Loss: 5.4271 \n",
            "Epoch:  48/150 Discriminator Loss: 0.2134 Generator Loss: 4.6489 \n",
            "Epoch:  49/150 Discriminator Loss: 0.1431 Generator Loss: 5.0967 \n",
            "Epoch:  50/150 Discriminator Loss: 0.1863 Generator Loss: 5.2109 \n",
            "Epoch:  51/150 Discriminator Loss: 0.1909 Generator Loss: 5.5924 \n",
            "Epoch:  52/150 Discriminator Loss: 0.1684 Generator Loss: 6.6525 \n",
            "Epoch:  53/150 Discriminator Loss: 0.1625 Generator Loss: 6.5664 \n",
            "Epoch:  54/150 Discriminator Loss: 0.2923 Generator Loss: 7.1100 \n",
            "Epoch:  55/150 Discriminator Loss: 0.1713 Generator Loss: 7.0190 \n",
            "Epoch:  56/150 Discriminator Loss: 0.4654 Generator Loss: 7.7415 \n",
            "Epoch:  57/150 Discriminator Loss: 0.1878 Generator Loss: 6.7113 \n",
            "Epoch:  58/150 Discriminator Loss: 0.4896 Generator Loss: 6.4683 \n",
            "Epoch:  59/150 Discriminator Loss: 0.5423 Generator Loss: 7.5844 \n",
            "Epoch:  60/150 Discriminator Loss: 0.3296 Generator Loss: 5.9448 \n",
            "Epoch:  61/150 Discriminator Loss: 0.3645 Generator Loss: 5.5468 \n",
            "Epoch:  62/150 Discriminator Loss: 0.2564 Generator Loss: 6.4785 \n",
            "Epoch:  63/150 Discriminator Loss: 0.3220 Generator Loss: 6.2536 \n",
            "Epoch:  64/150 Discriminator Loss: 1.5794 Generator Loss: 7.2674 \n",
            "Epoch:  65/150 Discriminator Loss: 0.3198 Generator Loss: 6.8497 \n",
            "Epoch:  66/150 Discriminator Loss: 0.3951 Generator Loss: 7.0119 \n",
            "Epoch:  67/150 Discriminator Loss: 0.3046 Generator Loss: 6.7754 \n",
            "Epoch:  68/150 Discriminator Loss: 0.4970 Generator Loss: 6.9758 \n",
            "Epoch:  69/150 Discriminator Loss: 1.0382 Generator Loss: 7.2783 \n",
            "Epoch:  70/150 Discriminator Loss: 0.6951 Generator Loss: 7.8951 \n",
            "Epoch:  71/150 Discriminator Loss: 0.3309 Generator Loss: 7.7023 \n",
            "Epoch:  72/150 Discriminator Loss: 0.2316 Generator Loss: 8.1643 \n",
            "Epoch:  73/150 Discriminator Loss: 0.2212 Generator Loss: 8.2046 \n",
            "Epoch:  74/150 Discriminator Loss: 0.4575 Generator Loss: 7.8191 \n",
            "Epoch:  75/150 Discriminator Loss: 0.5742 Generator Loss: 8.2138 \n",
            "Epoch:  76/150 Discriminator Loss: 0.6894 Generator Loss: 7.7232 \n",
            "Epoch:  77/150 Discriminator Loss: 0.5985 Generator Loss: 7.5143 \n",
            "Epoch:  78/150 Discriminator Loss: 0.7249 Generator Loss: 8.1642 \n",
            "Epoch:  79/150 Discriminator Loss: 0.3673 Generator Loss: 8.1028 \n",
            "Epoch:  80/150 Discriminator Loss: 0.3936 Generator Loss: 7.3523 \n",
            "Epoch:  81/150 Discriminator Loss: 0.7864 Generator Loss: 6.7748 \n",
            "Epoch:  82/150 Discriminator Loss: 0.3590 Generator Loss: 7.0402 \n",
            "Epoch:  83/150 Discriminator Loss: 0.3933 Generator Loss: 6.9572 \n",
            "Epoch:  84/150 Discriminator Loss: 0.6589 Generator Loss: 7.9891 \n",
            "Epoch:  85/150 Discriminator Loss: 0.4383 Generator Loss: 7.3642 \n",
            "Epoch:  86/150 Discriminator Loss: 0.4533 Generator Loss: 6.8536 \n",
            "Epoch:  87/150 Discriminator Loss: 0.7555 Generator Loss: 7.7681 \n",
            "Epoch:  88/150 Discriminator Loss: 0.1828 Generator Loss: 7.2868 \n",
            "Epoch:  89/150 Discriminator Loss: 0.2352 Generator Loss: 7.3268 \n",
            "Epoch:  90/150 Discriminator Loss: 0.3168 Generator Loss: 7.1266 \n",
            "Epoch:  91/150 Discriminator Loss: 0.3196 Generator Loss: 8.1040 \n",
            "Epoch:  92/150 Discriminator Loss: 0.3552 Generator Loss: 7.1575 \n",
            "Epoch:  93/150 Discriminator Loss: 0.3538 Generator Loss: 7.8479 \n",
            "Epoch:  94/150 Discriminator Loss: 0.2966 Generator Loss: 8.0806 \n",
            "Epoch:  95/150 Discriminator Loss: 0.3535 Generator Loss: 7.9141 \n",
            "Epoch:  96/150 Discriminator Loss: 0.2772 Generator Loss: 8.0310 \n",
            "Epoch:  97/150 Discriminator Loss: 0.2848 Generator Loss: 8.5599 \n",
            "Epoch:  98/150 Discriminator Loss: 0.3059 Generator Loss: 8.4926 \n",
            "Epoch:  99/150 Discriminator Loss: 0.3769 Generator Loss: 7.3689 \n",
            "Epoch: 100/150 Discriminator Loss: 0.2742 Generator Loss: 9.1721 \n",
            "Epoch: 101/150 Discriminator Loss: 0.5145 Generator Loss: 8.9865 \n",
            "Epoch: 102/150 Discriminator Loss: 0.5206 Generator Loss: 8.2255 \n",
            "Epoch: 103/150 Discriminator Loss: 1.7831 Generator Loss: 10.6458 \n",
            "Epoch: 104/150 Discriminator Loss: 0.6605 Generator Loss: 10.5564 \n",
            "Epoch: 105/150 Discriminator Loss: 0.3233 Generator Loss: 9.2842 \n",
            "Epoch: 106/150 Discriminator Loss: 0.4111 Generator Loss: 9.2809 \n",
            "Epoch: 107/150 Discriminator Loss: 0.4245 Generator Loss: 10.4356 \n",
            "Epoch: 108/150 Discriminator Loss: 0.2919 Generator Loss: 7.3375 \n",
            "Epoch: 109/150 Discriminator Loss: 0.2360 Generator Loss: 8.5752 \n",
            "Epoch: 110/150 Discriminator Loss: 0.3715 Generator Loss: 9.2319 \n",
            "Epoch: 111/150 Discriminator Loss: 0.6853 Generator Loss: 9.2424 \n",
            "Epoch: 112/150 Discriminator Loss: 0.4124 Generator Loss: 9.5155 \n",
            "Epoch: 113/150 Discriminator Loss: 0.4307 Generator Loss: 9.4664 \n",
            "Epoch: 114/150 Discriminator Loss: 0.3137 Generator Loss: 8.3460 \n",
            "Epoch: 115/150 Discriminator Loss: 0.3925 Generator Loss: 7.3571 \n",
            "Epoch: 116/150 Discriminator Loss: 0.3637 Generator Loss: 8.5944 \n",
            "Epoch: 117/150 Discriminator Loss: 0.8971 Generator Loss: 7.8663 \n",
            "Epoch: 118/150 Discriminator Loss: 0.7812 Generator Loss: 7.8519 \n",
            "Epoch: 119/150 Discriminator Loss: 0.3195 Generator Loss: 7.3081 \n",
            "Epoch: 120/150 Discriminator Loss: 0.3312 Generator Loss: 7.7891 \n",
            "Epoch: 121/150 Discriminator Loss: 0.4078 Generator Loss: 8.4261 \n",
            "Epoch: 122/150 Discriminator Loss: 0.4068 Generator Loss: 8.1278 \n",
            "Epoch: 123/150 Discriminator Loss: 0.3752 Generator Loss: 7.5244 \n",
            "Epoch: 124/150 Discriminator Loss: 0.2775 Generator Loss: 7.6139 \n",
            "Epoch: 125/150 Discriminator Loss: 0.5438 Generator Loss: 7.7907 \n",
            "Epoch: 126/150 Discriminator Loss: 0.3928 Generator Loss: 7.7821 \n",
            "Epoch: 127/150 Discriminator Loss: 0.3842 Generator Loss: 8.1520 \n",
            "Epoch: 128/150 Discriminator Loss: 0.3602 Generator Loss: 8.2490 \n",
            "Epoch: 129/150 Discriminator Loss: 0.5055 Generator Loss: 8.4877 \n",
            "Epoch: 130/150 Discriminator Loss: 0.6627 Generator Loss: 8.1837 \n",
            "Epoch: 131/150 Discriminator Loss: 0.2853 Generator Loss: 8.4078 \n",
            "Epoch: 132/150 Discriminator Loss: 0.3877 Generator Loss: 8.5034 \n",
            "Epoch: 133/150 Discriminator Loss: 0.2145 Generator Loss: 9.4806 \n",
            "Epoch: 134/150 Discriminator Loss: 0.3480 Generator Loss: 8.9370 \n",
            "Epoch: 135/150 Discriminator Loss: 0.2791 Generator Loss: 8.5148 \n",
            "Epoch: 136/150 Discriminator Loss: 0.9764 Generator Loss: 10.9284 \n",
            "Epoch: 137/150 Discriminator Loss: 0.3043 Generator Loss: 11.3474 \n",
            "Epoch: 138/150 Discriminator Loss: 0.1340 Generator Loss: 8.4955 \n",
            "Epoch: 139/150 Discriminator Loss: 0.3427 Generator Loss: 9.1408 \n",
            "Epoch: 140/150 Discriminator Loss: 0.3181 Generator Loss: 9.9932 \n",
            "Epoch: 141/150 Discriminator Loss: 0.2250 Generator Loss: 8.8371 \n",
            "Epoch: 142/150 Discriminator Loss: 0.3408 Generator Loss: 8.7018 \n",
            "Epoch: 143/150 Discriminator Loss: 0.2592 Generator Loss: 9.4072 \n",
            "Epoch: 144/150 Discriminator Loss: 0.1321 Generator Loss: 9.5580 \n",
            "Epoch: 145/150 Discriminator Loss: 0.1709 Generator Loss: 8.0230 \n",
            "Epoch: 146/150 Discriminator Loss: 0.1120 Generator Loss: 8.7057 \n",
            "Epoch: 147/150 Discriminator Loss: 0.4400 Generator Loss: 10.2757 \n",
            "Epoch: 148/150 Discriminator Loss: 0.8887 Generator Loss: 9.8410 \n",
            "Epoch: 149/150 Discriminator Loss: 0.1249 Generator Loss: 10.2316 \n",
            "Epoch: 150/150 Discriminator Loss: 0.5639 Generator Loss: 8.9736 \n"
          ]
        }
      ]
    },
    {
      "cell_type": "code",
      "source": [
        "losses = np.array(losses)\n",
        "\n",
        "fig, ax = plt.subplots()\n",
        "plt.plot(losses.T[0], label='Discriminator')\n",
        "plt.plot(losses.T[1], label='Generator')\n",
        "plt.title(\"Training Losses\")\n",
        "plt.legend()\n",
        "plt.show()"
      ],
      "metadata": {
        "colab": {
          "base_uri": "https://localhost:8080/",
          "height": 281
        },
        "id": "-Pczfh-C_rC-",
        "outputId": "8ea39043-10b4-4cb6-eb3f-d3f8b42954bc"
      },
      "execution_count": 30,
      "outputs": [
        {
          "output_type": "display_data",
          "data": {
            "image/png": "[encoded data removed]",
            "text/plain": [
              "<Figure size 432x288 with 1 Axes>"
            ]
          },
          "metadata": {
            "needs_background": "light"
          }
        }
      ]
    },
    {
      "cell_type": "code",
      "source": [
        "rr = discriminator.predict_on_batch(X_test_real)"
      ],
      "metadata": {
        "id": "THaYGfNm_t7H"
      },
      "execution_count": 31,
      "outputs": []
    },
    {
      "cell_type": "code",
      "source": [
        "import keras\n",
        "#import keras_metrics\n",
        "\n",
        "r = tf.keras.metrics.Recall()#thresholds=rr.min())\n",
        "r.update_state(y_test,rr )\n",
        "r.result().numpy()\n"
      ],
      "metadata": {
        "colab": {
          "base_uri": "https://localhost:8080/"
        },
        "id": "y4YHTlv6_wKG",
        "outputId": "c32c4db5-9804-4ef7-b5b4-d3c49db7590a"
      },
      "execution_count": 32,
      "outputs": [
        {
          "output_type": "execute_result",
          "data": {
            "text/plain": [
              "0.86333334"
            ]
          },
          "metadata": {},
          "execution_count": 32
        }
      ]
    },
    {
      "cell_type": "code",
      "source": [
        "p=tf.keras.metrics.Precision()#thresholds=rr.min())\n",
        "p.update_state(y_test,rr )\n",
        "p.result().numpy()"
      ],
      "metadata": {
        "colab": {
          "base_uri": "https://localhost:8080/"
        },
        "id": "4Wgx-224_yPg",
        "outputId": "042b4081-7d3c-4bc9-d01d-cec73ab9b057"
      },
      "execution_count": 33,
      "outputs": [
        {
          "output_type": "execute_result",
          "data": {
            "text/plain": [
              "0.73789173"
            ]
          },
          "metadata": {},
          "execution_count": 33
        }
      ]
    }
  ]
}