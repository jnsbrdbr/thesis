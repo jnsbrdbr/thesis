{
  "nbformat": 4,
  "nbformat_minor": 0,
  "metadata": {
    "colab": {
      "name": "part4/Gan.ipynb",
      "provenance": [],
      "collapsed_sections": [],
      "include_colab_link": true
    },
    "kernelspec": {
      "name": "python3",
      "display_name": "Python 3"
    },
    "language_info": {
      "name": "python"
    }
  },
  "cells": [
    {
      "cell_type": "markdown",
      "metadata": {
        "id": "view-in-github",
        "colab_type": "text"
      },
      "source": [
        "<a href=\"https://colab.research.google.com/github/jnsbrdbr/thesis/blob/thesis/part5_Gan.ipynb\" target=\"_parent\"><img src=\"https://colab.research.google.com/assets/colab-badge.svg\" alt=\"Open In Colab\"/></a>"
      ]
    },
    {
      "cell_type": "code",
      "source": [
        "# Install TensorFlow\n",
        "# !pip install -q tensorflow-gpu==2.0.0-rc0\n",
        "\n",
        "try:\n",
        "  %tensorflow_version 2.x  # Colab only.\n",
        "except Exception:\n",
        "  pass\n",
        "\n",
        "import tensorflow as tf\n",
        "print(tf.__version__)"
      ],
      "metadata": {
        "colab": {
          "base_uri": "https://localhost:8080/"
        },
        "id": "otWnuJ9qLwUc",
        "outputId": "b14b8374-fec2-4145-ee31-412e285b6fab"
      },
      "execution_count": 1,
      "outputs": [
        {
          "output_type": "stream",
          "name": "stdout",
          "text": [
            "`%tensorflow_version` only switches the major version: 1.x or 2.x.\n",
            "You set: `2.x  # Colab only.`. This will be interpreted as: `2.x`.\n",
            "\n",
            "\n",
            "TensorFlow 2.x selected.\n",
            "2.8.0\n"
          ]
        }
      ]
    },
    {
      "cell_type": "code",
      "execution_count": 2,
      "metadata": {
        "id": "0TMMdcYXLfKX"
      },
      "outputs": [],
      "source": [
        "import keras\n",
        "from keras.layers import Input, Dense, Activation, LeakyReLU, BatchNormalization\n",
        "from keras.models import Sequential\n",
        "from tensorflow.keras.optimizers import Adam\n",
        "from sklearn.model_selection import train_test_split\n",
        "from tensorflow.keras.models import Model\n",
        "import keras.backend as K\n",
        "import numpy as np\n",
        "import pandas as pd\n",
        "import matplotlib.pyplot as plt\n",
        "import sys, os\n",
        "\n",
        "%matplotlib inline"
      ]
    },
    {
      "cell_type": "code",
      "source": [
        "from google.colab import drive\n",
        "drive.mount('/content/drive') "
      ],
      "metadata": {
        "colab": {
          "base_uri": "https://localhost:8080/"
        },
        "id": "bX4er_AYLq6K",
        "outputId": "43686486-7475-463b-f7e7-76f14f9875fb"
      },
      "execution_count": 3,
      "outputs": [
        {
          "output_type": "stream",
          "name": "stdout",
          "text": [
            "Mounted at /content/drive\n"
          ]
        }
      ]
    },
    {
      "cell_type": "code",
      "source": [
        "!pip install --upgrade tables"
      ],
      "metadata": {
        "id": "jsbYfp8fIfwq",
        "colab": {
          "base_uri": "https://localhost:8080/"
        },
        "outputId": "71865c22-90e4-45d9-dd46-1ff828ac6b7c"
      },
      "execution_count": 4,
      "outputs": [
        {
          "output_type": "stream",
          "name": "stdout",
          "text": [
            "Requirement already satisfied: tables in /usr/local/lib/python3.7/dist-packages (3.7.0)\n",
            "Requirement already satisfied: numpy>=1.19.0 in /usr/local/lib/python3.7/dist-packages (from tables) (1.21.5)\n",
            "Requirement already satisfied: numexpr>=2.6.2 in /usr/local/lib/python3.7/dist-packages (from tables) (2.8.1)\n",
            "Requirement already satisfied: packaging in /usr/local/lib/python3.7/dist-packages (from tables) (21.3)\n",
            "Requirement already satisfied: pyparsing!=3.0.5,>=2.0.2 in /usr/local/lib/python3.7/dist-packages (from packaging->tables) (3.0.7)\n"
          ]
        }
      ]
    },
    {
      "cell_type": "code",
      "source": [
        "with pd.HDFStore('/content/drive/MyDrive/1000/part2_result',  mode='r') as newstore:\n",
        "    result = newstore.select('result')"
      ],
      "metadata": {
        "id": "Mg5VErEvL_dI"
      },
      "execution_count": 5,
      "outputs": []
    },
    {
      "cell_type": "code",
      "source": [
        "#final data\n",
        "print(result)"
      ],
      "metadata": {
        "colab": {
          "base_uri": "https://localhost:8080/"
        },
        "id": "gTYzeeA4MA0Q",
        "outputId": "025a4373-26d6-4226-b520-480bf5964b70"
      },
      "execution_count": 6,
      "outputs": [
        {
          "output_type": "stream",
          "name": "stdout",
          "text": [
            "             0         1         2  ...         8         9  label\n",
            "0    -1.680599 -3.061217 -0.040984  ... -0.006112 -0.004759      1\n",
            "1    -1.680599 -3.061217 -0.040984  ... -0.006112 -0.004759      1\n",
            "2    -1.680599 -3.061217 -0.040984  ... -0.006112 -0.004759      1\n",
            "3    -1.680599 -3.061217 -0.040984  ... -0.006112 -0.004759      1\n",
            "4    -1.680599 -3.061217 -0.040984  ...  0.006186  0.002988      1\n",
            "...        ...       ...       ...  ...       ...       ...    ...\n",
            "1315 -1.680599 -3.061217 -0.040984  ... -0.035323 -0.015205      0\n",
            "1316 -1.680599 -3.061217 -0.040984  ... -0.012077 -0.016767      0\n",
            "1317 -1.680599 -3.061217 -0.040984  ... -0.011761 -0.013474      0\n",
            "1318 -1.680599 -3.061217 -0.040984  ...  0.004503  0.113459      0\n",
            "1319 -1.680599 -3.061217 -0.040984  ... -0.022880  0.001418      0\n",
            "\n",
            "[1320 rows x 71 columns]\n"
          ]
        }
      ]
    },
    {
      "cell_type": "code",
      "source": [
        "#divide data in to data_label and non_data label\n",
        "\n",
        "import copy\n",
        "result_nonlabel=copy.deepcopy(result)\n",
        "del result_nonlabel['label']\n",
        "X=result_nonlabel\n",
        "y=result.label"
      ],
      "metadata": {
        "id": "wyfT_GeUMI6t"
      },
      "execution_count": 7,
      "outputs": []
    },
    {
      "cell_type": "code",
      "source": [
        "#splitting data in to test and train...\n",
        "\n",
        "from sklearn.model_selection import train_test_split\n",
        "X_train, X_test, y_train, y_test = train_test_split(X, y ,random_state=42,test_size=0.3)#"
      ],
      "metadata": {
        "id": "lw-KSX7vMMVS"
      },
      "execution_count": 8,
      "outputs": []
    },
    {
      "cell_type": "code",
      "source": [
        "print('shape of x_train is:',X_train.shape)\n",
        "print('shape of x_test is:',X_test.shape)"
      ],
      "metadata": {
        "colab": {
          "base_uri": "https://localhost:8080/"
        },
        "id": "gCL4AIAYMW2C",
        "outputId": "78195ef0-14c5-4fba-bdb9-8bc1e91f76a8"
      },
      "execution_count": 9,
      "outputs": [
        {
          "output_type": "stream",
          "name": "stdout",
          "text": [
            "shape of x_train is: (924, 70)\n",
            "shape of x_test is: (396, 70)\n"
          ]
        }
      ]
    },
    {
      "cell_type": "code",
      "source": [
        "max(X_train.max())"
      ],
      "metadata": {
        "colab": {
          "base_uri": "https://localhost:8080/"
        },
        "id": "hUnpTq9UI6RZ",
        "outputId": "aa573a08-c197-4564-dc58-db106a3fb3d8"
      },
      "execution_count": 10,
      "outputs": [
        {
          "output_type": "execute_result",
          "data": {
            "text/plain": [
              "7454.516836076623"
            ]
          },
          "metadata": {},
          "execution_count": 10
        }
      ]
    },
    {
      "cell_type": "code",
      "source": [
        "min(X_train.min())"
      ],
      "metadata": {
        "colab": {
          "base_uri": "https://localhost:8080/"
        },
        "id": "lyx7Tfh9Mvaj",
        "outputId": "68aa0b68-e342-486a-c605-c8994e376cd9"
      },
      "execution_count": 11,
      "outputs": [
        {
          "output_type": "execute_result",
          "data": {
            "text/plain": [
              "-127.3838709715454"
            ]
          },
          "metadata": {},
          "execution_count": 11
        }
      ]
    },
    {
      "cell_type": "code",
      "source": [
        "def make_latent_samples(n_samples, sample_size):\n",
        "    #return np.random.uniform(-1, 1, size=(n_samples, sample_size))\n",
        "    return np.random.normal(loc=0, scale=1, size=(n_samples, sample_size))"
      ],
      "metadata": {
        "id": "Gb4GzDGpNf4s"
      },
      "execution_count": 12,
      "outputs": []
    },
    {
      "cell_type": "code",
      "source": [
        "make_latent_samples(1, 300) # generates one sample"
      ],
      "metadata": {
        "colab": {
          "base_uri": "https://localhost:8080/"
        },
        "id": "7v6ZN5DMNrGx",
        "outputId": "acbf2219-141a-475d-f43e-debbe10de58c"
      },
      "execution_count": 13,
      "outputs": [
        {
          "output_type": "execute_result",
          "data": {
            "text/plain": [
              "array([[ 1.69527326, -0.27140359,  0.25912621,  1.34047577,  2.20813397,\n",
              "        -0.86527675, -0.41923594, -0.93972952, -1.78169582,  0.57076116,\n",
              "         2.18192793, -0.24813576,  0.26264897, -0.86948185,  0.61998472,\n",
              "         0.470335  ,  0.06681726, -0.7031141 , -0.31293981, -0.43943532,\n",
              "        -0.49188264, -1.38447374,  0.44534554,  0.08433632,  0.70405728,\n",
              "        -0.04431827,  1.37653153,  0.17781185,  1.83264083, -2.07522844,\n",
              "        -1.35807156,  0.61469868,  1.29770253,  1.26517325, -0.35341965,\n",
              "        -0.38792393,  0.63087227, -0.49441633, -0.5752109 ,  2.09140427,\n",
              "        -0.87331446,  0.36311955, -0.80724503, -0.57790746, -1.65499071,\n",
              "         0.27963624,  2.0461015 , -0.25750338, -0.4847694 , -0.21075079,\n",
              "        -0.8238548 ,  1.88295885,  0.59831692, -0.30487945, -0.88911031,\n",
              "         0.34475465,  1.36022375,  0.17219956,  1.9502211 , -0.52590528,\n",
              "        -1.70575292, -0.33287571, -0.17261049, -0.945977  ,  0.98251541,\n",
              "        -0.02611202, -0.18906395, -0.40179868, -0.13896532,  0.62814059,\n",
              "        -0.12062902, -0.44729594, -1.10917715, -1.7430076 ,  0.17803998,\n",
              "        -0.57531958,  0.44613149,  1.82527694, -0.98061207,  0.07103112,\n",
              "         0.61409048,  0.68825548,  1.83058043,  0.84075492, -1.16379212,\n",
              "         0.66813847, -1.45848084,  0.39496543,  0.49891639,  0.29430991,\n",
              "        -0.35104062,  2.32425684,  1.17816041, -0.8217348 , -0.3290012 ,\n",
              "         0.74977423, -0.95925453, -1.50492352,  1.53169467,  0.20159038,\n",
              "        -0.57088654,  0.78928199, -0.11708883, -1.00333466,  0.38490976,\n",
              "        -0.08625563, -1.55884776,  0.99285188, -1.21555213,  0.61881026,\n",
              "         0.42322738, -0.65122791, -1.42611879, -0.8305007 , -0.4479361 ,\n",
              "         1.52859645,  0.08692748, -1.19478838, -0.45331595, -0.27440185,\n",
              "         0.82819211, -0.09646034,  0.05140352,  0.64667732, -0.90314301,\n",
              "        -0.50902609,  0.98281538,  1.81270817,  0.91805865,  0.02839808,\n",
              "        -0.103859  , -0.51257001, -1.36232402, -0.90024716,  2.01424098,\n",
              "         0.98681864,  1.0351039 ,  0.80927356,  0.56374324, -1.32122144,\n",
              "        -0.40356412,  1.14307492,  0.18687128,  0.32590298, -0.94558561,\n",
              "         0.603568  ,  0.46558915, -1.00698313,  0.57418424, -0.88981783,\n",
              "         1.13202161,  2.23756757, -0.20439281, -0.78933514,  1.42093368,\n",
              "        -0.09434528,  1.65284893,  2.62317611,  0.31836324, -0.09662328,\n",
              "         1.31707122,  1.34884983,  2.38684833, -0.95746356,  0.30013299,\n",
              "        -0.28777215,  2.35559973,  0.0933591 ,  0.16301025, -0.30136489,\n",
              "         0.50580488, -1.09454417,  2.35669334,  1.36538785, -1.61810285,\n",
              "        -0.99726194, -2.04443177,  1.07391402, -0.41760295,  1.33022807,\n",
              "        -0.09958238,  0.07473957, -0.94164608,  1.46444548, -0.65769008,\n",
              "        -0.95672313, -0.94677758,  0.09849006, -1.56091937,  0.63489494,\n",
              "         0.90015129,  1.19405638,  0.66227529, -0.61653178,  0.4749246 ,\n",
              "        -0.86555352, -0.49587294,  0.86254022,  0.88731794,  0.43031062,\n",
              "        -0.01964299,  1.51660319, -0.33507039,  2.30607344, -0.5909609 ,\n",
              "        -0.46961658,  0.31888543,  0.02006883,  0.11929594, -1.28121497,\n",
              "         0.55904735, -0.70294394,  0.77360239,  0.8455436 ,  0.36090727,\n",
              "         1.54018833, -0.85118081, -2.09914689, -0.64853005, -2.37268967,\n",
              "         0.17663717,  0.17630713,  1.90766025,  0.53076586, -0.35549895,\n",
              "        -1.08766486,  1.01392099, -0.11484472, -2.16403104,  1.15803559,\n",
              "         1.05990275, -1.13215704,  0.66395813,  0.09736065,  0.43539734,\n",
              "         0.77853112,  0.13777645, -1.65328302,  0.43593657,  2.48217962,\n",
              "         0.51502946, -0.50185344,  0.5269908 , -1.74407125, -1.78751384,\n",
              "        -0.65384447, -1.0860088 ,  0.26594094,  0.31242059, -1.42823224,\n",
              "         0.99075324, -1.67442931,  1.48015261, -1.09815381, -0.03837126,\n",
              "         0.08241607, -0.47374683, -0.25699787, -0.72543183, -2.81367168,\n",
              "         0.19991053,  0.87307111, -2.00247161, -0.31527066,  1.18111737,\n",
              "         1.10489962, -0.62187871,  0.76089389,  0.54963338,  0.76427527,\n",
              "        -0.48965746, -0.75062395, -0.08813264,  1.55575124, -0.816974  ,\n",
              "         0.80613703,  0.38262495, -1.72543202, -1.94077328,  0.18033731,\n",
              "        -0.93623122, -0.31782405, -1.28777025, -0.22916255,  1.20460796,\n",
              "        -0.57595737,  2.04237855, -0.84364771,  0.39587866, -0.17626816,\n",
              "        -1.51782075,  1.48764299,  0.20442653,  0.32109677,  2.69576856,\n",
              "         0.5028133 , -0.34154852,  0.99903144, -0.70971839,  0.92578294]])"
            ]
          },
          "metadata": {},
          "execution_count": 13
        }
      ]
    },
    {
      "cell_type": "code",
      "source": [
        "generator = Sequential([\n",
        "    Dense(256, input_shape=(300,)),\n",
        "    LeakyReLU(alpha=0.02),\n",
        "    BatchNormalization(momentum=0.6),\n",
        "    Dense(512),\n",
        "    LeakyReLU(alpha=0.02),\n",
        "    BatchNormalization(momentum=0.6),\n",
        "    #Dense(1024),\n",
        "    #LeakyReLU(alpha=0.02),\n",
        "    #BatchNormalization(momentum=0.5),\n",
        "    Dense(70),\n",
        "    Activation('tanh')\n",
        "], name='generator')\n",
        "\n",
        "generator.summary()"
      ],
      "metadata": {
        "colab": {
          "base_uri": "https://localhost:8080/"
        },
        "id": "6GWcS88ukeDz",
        "outputId": "e862d38a-a098-42c9-a0f6-51c91c244eb1"
      },
      "execution_count": 14,
      "outputs": [
        {
          "output_type": "stream",
          "name": "stdout",
          "text": [
            "Model: \"generator\"\n",
            "_________________________________________________________________\n",
            " Layer (type)                Output Shape              Param #   \n",
            "=================================================================\n",
            " dense (Dense)               (None, 256)               77056     \n",
            "                                                                 \n",
            " leaky_re_lu (LeakyReLU)     (None, 256)               0         \n",
            "                                                                 \n",
            " batch_normalization (BatchN  (None, 256)              1024      \n",
            " ormalization)                                                   \n",
            "                                                                 \n",
            " dense_1 (Dense)             (None, 512)               131584    \n",
            "                                                                 \n",
            " leaky_re_lu_1 (LeakyReLU)   (None, 512)               0         \n",
            "                                                                 \n",
            " batch_normalization_1 (Batc  (None, 512)              2048      \n",
            " hNormalization)                                                 \n",
            "                                                                 \n",
            " dense_2 (Dense)             (None, 70)                35910     \n",
            "                                                                 \n",
            " activation (Activation)     (None, 70)                0         \n",
            "                                                                 \n",
            "=================================================================\n",
            "Total params: 247,622\n",
            "Trainable params: 246,086\n",
            "Non-trainable params: 1,536\n",
            "_________________________________________________________________\n"
          ]
        }
      ]
    },
    {
      "cell_type": "code",
      "source": [
        "discriminator = Sequential([\n",
        "    Dense(128, input_shape=(70,)),\n",
        "    LeakyReLU(alpha=0.02),\n",
        "    BatchNormalization(momentum=0.6),\n",
        "    Dense(64),\n",
        "    LeakyReLU(alpha=0.02),\n",
        "    BatchNormalization(momentum=0.6),\n",
        "    Dense(32),\n",
        "    LeakyReLU(alpha=0.02),\n",
        "    #Dense(16),\n",
        "    #LeakyReLU(alpha=0.02),\n",
        "    #BatchNormalization(momentum=0.6),\n",
        "    Dense(1),\n",
        "    Activation('sigmoid')\n",
        "], name='discriminator')\n",
        "\n",
        "discriminator.summary()"
      ],
      "metadata": {
        "colab": {
          "base_uri": "https://localhost:8080/"
        },
        "id": "z7-pjXjrkd4N",
        "outputId": "f6060535-1133-4e9f-d9a2-9844f7e75631"
      },
      "execution_count": 15,
      "outputs": [
        {
          "output_type": "stream",
          "name": "stdout",
          "text": [
            "Model: \"discriminator\"\n",
            "_________________________________________________________________\n",
            " Layer (type)                Output Shape              Param #   \n",
            "=================================================================\n",
            " dense_3 (Dense)             (None, 128)               9088      \n",
            "                                                                 \n",
            " leaky_re_lu_2 (LeakyReLU)   (None, 128)               0         \n",
            "                                                                 \n",
            " batch_normalization_2 (Batc  (None, 128)              512       \n",
            " hNormalization)                                                 \n",
            "                                                                 \n",
            " dense_4 (Dense)             (None, 64)                8256      \n",
            "                                                                 \n",
            " leaky_re_lu_3 (LeakyReLU)   (None, 64)                0         \n",
            "                                                                 \n",
            " batch_normalization_3 (Batc  (None, 64)               256       \n",
            " hNormalization)                                                 \n",
            "                                                                 \n",
            " dense_5 (Dense)             (None, 32)                2080      \n",
            "                                                                 \n",
            " leaky_re_lu_4 (LeakyReLU)   (None, 32)                0         \n",
            "                                                                 \n",
            " dense_6 (Dense)             (None, 1)                 33        \n",
            "                                                                 \n",
            " activation_1 (Activation)   (None, 1)                 0         \n",
            "                                                                 \n",
            "=================================================================\n",
            "Total params: 20,225\n",
            "Trainable params: 19,841\n",
            "Non-trainable params: 384\n",
            "_________________________________________________________________\n"
          ]
        }
      ]
    },
    {
      "cell_type": "code",
      "source": [
        "# maintain the same shared weights with the generator and the discriminator.\n",
        "gan = Sequential([\n",
        "    generator,\n",
        "    discriminator\n",
        "])\n",
        "\n",
        "gan.summary()"
      ],
      "metadata": {
        "colab": {
          "base_uri": "https://localhost:8080/"
        },
        "id": "tHj9Ag7YPxlg",
        "outputId": "9041f69e-7789-4b0a-ca6e-a423e9abde10"
      },
      "execution_count": 16,
      "outputs": [
        {
          "output_type": "stream",
          "name": "stdout",
          "text": [
            "Model: \"sequential\"\n",
            "_________________________________________________________________\n",
            " Layer (type)                Output Shape              Param #   \n",
            "=================================================================\n",
            " generator (Sequential)      (None, 70)                247622    \n",
            "                                                                 \n",
            " discriminator (Sequential)  (None, 1)                 20225     \n",
            "                                                                 \n",
            "=================================================================\n",
            "Total params: 267,847\n",
            "Trainable params: 265,927\n",
            "Non-trainable params: 1,920\n",
            "_________________________________________________________________\n"
          ]
        }
      ]
    },
    {
      "cell_type": "code",
      "source": [
        "def make_trainable(model, trainable):\n",
        "    for layer in model.layers:\n",
        "        layer.trainable = trainable"
      ],
      "metadata": {
        "id": "7aGPP156Qi-B"
      },
      "execution_count": 17,
      "outputs": []
    },
    {
      "cell_type": "code",
      "source": [
        "make_trainable(discriminator, False)\n",
        "discriminator.summary()"
      ],
      "metadata": {
        "colab": {
          "base_uri": "https://localhost:8080/"
        },
        "id": "PZwVdPMXQoKK",
        "outputId": "3adec10c-eec5-403e-fca2-f66e3ff474bb"
      },
      "execution_count": 18,
      "outputs": [
        {
          "output_type": "stream",
          "name": "stdout",
          "text": [
            "Model: \"discriminator\"\n",
            "_________________________________________________________________\n",
            " Layer (type)                Output Shape              Param #   \n",
            "=================================================================\n",
            " dense_3 (Dense)             (None, 128)               9088      \n",
            "                                                                 \n",
            " leaky_re_lu_2 (LeakyReLU)   (None, 128)               0         \n",
            "                                                                 \n",
            " batch_normalization_2 (Batc  (None, 128)              512       \n",
            " hNormalization)                                                 \n",
            "                                                                 \n",
            " dense_4 (Dense)             (None, 64)                8256      \n",
            "                                                                 \n",
            " leaky_re_lu_3 (LeakyReLU)   (None, 64)                0         \n",
            "                                                                 \n",
            " batch_normalization_3 (Batc  (None, 64)               256       \n",
            " hNormalization)                                                 \n",
            "                                                                 \n",
            " dense_5 (Dense)             (None, 32)                2080      \n",
            "                                                                 \n",
            " leaky_re_lu_4 (LeakyReLU)   (None, 32)                0         \n",
            "                                                                 \n",
            " dense_6 (Dense)             (None, 1)                 33        \n",
            "                                                                 \n",
            " activation_1 (Activation)   (None, 1)                 0         \n",
            "                                                                 \n",
            "=================================================================\n",
            "Total params: 20,225\n",
            "Trainable params: 0\n",
            "Non-trainable params: 20,225\n",
            "_________________________________________________________________\n"
          ]
        }
      ]
    },
    {
      "cell_type": "code",
      "source": [
        "make_trainable(discriminator, True)\n",
        "discriminator.summary()"
      ],
      "metadata": {
        "colab": {
          "base_uri": "https://localhost:8080/"
        },
        "id": "MiuBeGZfQwuU",
        "outputId": "83fe1b45-6f2f-491a-8666-816d1d4e4851"
      },
      "execution_count": 19,
      "outputs": [
        {
          "output_type": "stream",
          "name": "stdout",
          "text": [
            "Model: \"discriminator\"\n",
            "_________________________________________________________________\n",
            " Layer (type)                Output Shape              Param #   \n",
            "=================================================================\n",
            " dense_3 (Dense)             (None, 128)               9088      \n",
            "                                                                 \n",
            " leaky_re_lu_2 (LeakyReLU)   (None, 128)               0         \n",
            "                                                                 \n",
            " batch_normalization_2 (Batc  (None, 128)              512       \n",
            " hNormalization)                                                 \n",
            "                                                                 \n",
            " dense_4 (Dense)             (None, 64)                8256      \n",
            "                                                                 \n",
            " leaky_re_lu_3 (LeakyReLU)   (None, 64)                0         \n",
            "                                                                 \n",
            " batch_normalization_3 (Batc  (None, 64)               256       \n",
            " hNormalization)                                                 \n",
            "                                                                 \n",
            " dense_5 (Dense)             (None, 32)                2080      \n",
            "                                                                 \n",
            " leaky_re_lu_4 (LeakyReLU)   (None, 32)                0         \n",
            "                                                                 \n",
            " dense_6 (Dense)             (None, 1)                 33        \n",
            "                                                                 \n",
            " activation_1 (Activation)   (None, 1)                 0         \n",
            "                                                                 \n",
            "=================================================================\n",
            "Total params: 20,225\n",
            "Trainable params: 19,841\n",
            "Non-trainable params: 384\n",
            "_________________________________________________________________\n"
          ]
        }
      ]
    },
    {
      "cell_type": "code",
      "source": [
        "def make_simple_GAN(sample_size, \n",
        "                    g_hidden_size_1,\n",
        "                    g_hidden_size_2,\n",
        "                    g_hidden_size_3,\n",
        "                    d_hidden_size_1,\n",
        "                    d_hidden_size_2, \n",
        "                    d_hidden_size_3,\n",
        "                    d_hidden_size_4,\n",
        "                    leaky_alpha, \n",
        "                    g_learning_rate,\n",
        "                    d_learning_rate):\n",
        "    K.clear_session()\n",
        "    \n",
        "    generator = Sequential([\n",
        "        Dense(g_hidden_size_1, input_shape=(sample_size,)),\n",
        "        LeakyReLU(alpha=leaky_alpha),\n",
        "        BatchNormalization(momentum=0.6),\n",
        "        Dense(g_hidden_size_2),\n",
        "        LeakyReLU(alpha=leaky_alpha),\n",
        "        BatchNormalization(momentum=0.6),\n",
        "        #Dense(g_hidden_size_3),\n",
        "        #LeakyReLU(alpha=leaky_alpha),\n",
        "        #BatchNormalization(momentum=0.5),\n",
        "        Dense(70),        \n",
        "        Activation('tanh')\n",
        "    ], name='generator')    \n",
        "\n",
        "    discriminator = Sequential([\n",
        "        Dense(d_hidden_size_1, input_shape=(70,)),\n",
        "        LeakyReLU(alpha=leaky_alpha),\n",
        "        BatchNormalization(momentum=0.6),\n",
        "        Dense(d_hidden_size_2),\n",
        "        LeakyReLU(alpha=leaky_alpha),\n",
        "        BatchNormalization(momentum=0.6),\n",
        "        Dense(d_hidden_size_3),\n",
        "        LeakyReLU(alpha=leaky_alpha),\n",
        "        #Dense(d_hidden_size_4),\n",
        "        #LeakyReLU(alpha=leaky_alpha),\n",
        "        #BatchNormalization(momentum=0.5),\n",
        "        Dense(1),\n",
        "        Activation('sigmoid')\n",
        "    ], name='discriminator')    \n",
        "    \n",
        "    gan = Sequential([\n",
        "        generator,\n",
        "        discriminator\n",
        "    ])\n",
        "    \n",
        "    discriminator.compile(optimizer=Adam(lr=d_learning_rate), loss='binary_crossentropy')\n",
        "    gan.compile(optimizer=Adam(lr=g_learning_rate), loss='binary_crossentropy')\n",
        "    \n",
        "    return gan, generator, discriminator "
      ],
      "metadata": {
        "id": "_H6oZ41eRQxz"
      },
      "execution_count": 20,
      "outputs": []
    },
    {
      "cell_type": "code",
      "source": [
        "from sklearn import preprocessing\n",
        "def preprocess(x):\n",
        "   x = preprocessing.scale(x)\n",
        "   return x"
      ],
      "metadata": {
        "id": "edF5NE1jJOay"
      },
      "execution_count": 21,
      "outputs": []
    },
    {
      "cell_type": "code",
      "source": [
        "X_train_real = np.array(preprocess(X_train))\n",
        "X_test_real  = np.array(preprocess(X_test))"
      ],
      "metadata": {
        "id": "s_hPnT-kJUOY"
      },
      "execution_count": 22,
      "outputs": []
    },
    {
      "cell_type": "code",
      "source": [
        "while(False):\n",
        "\n",
        "  def deprocess(x):\n",
        "    x = (x / 2 + 1) * 7454.516836076623\n",
        "    x = np.clip(x, -127.3838709715454, 7454.516836076623)\n",
        "    x = np.uint8(x)\n",
        "    x = x.reshape(-1, 70)\n",
        "    return x"
      ],
      "metadata": {
        "id": "lhfb-ElmKZ_T"
      },
      "execution_count": 23,
      "outputs": []
    },
    {
      "cell_type": "code",
      "source": [
        "def make_labels(size):\n",
        "    return np.ones([size, 1]), np.zeros([size, 1])"
      ],
      "metadata": {
        "id": "UgRGo0u6Rfur"
      },
      "execution_count": 24,
      "outputs": []
    },
    {
      "cell_type": "code",
      "source": [
        "y_real_10, y_fake_10 = make_labels(10)\n",
        "\n",
        "y_real_10, y_fake_10"
      ],
      "metadata": {
        "colab": {
          "base_uri": "https://localhost:8080/"
        },
        "id": "UFemg_O3SC0c",
        "outputId": "1d8816ec-50c9-4676-f5ee-f38243ad065a"
      },
      "execution_count": 25,
      "outputs": [
        {
          "output_type": "execute_result",
          "data": {
            "text/plain": [
              "(array([[1.],\n",
              "        [1.],\n",
              "        [1.],\n",
              "        [1.],\n",
              "        [1.],\n",
              "        [1.],\n",
              "        [1.],\n",
              "        [1.],\n",
              "        [1.],\n",
              "        [1.]]), array([[0.],\n",
              "        [0.],\n",
              "        [0.],\n",
              "        [0.],\n",
              "        [0.],\n",
              "        [0.],\n",
              "        [0.],\n",
              "        [0.],\n",
              "        [0.],\n",
              "        [0.]]))"
            ]
          },
          "metadata": {},
          "execution_count": 25
        }
      ]
    },
    {
      "cell_type": "code",
      "source": [
        "# hyperparameters\n",
        "sample_size     = 100     # latent sample size (i.e., 100 random numbers)\n",
        "g_hidden_size_1 = 256\n",
        "g_hidden_size_2 = 128\n",
        "g_hidden_size_3 = 128\n",
        "d_hidden_size_1 = 128\n",
        "d_hidden_size_2 = 64\n",
        "d_hidden_size_3 = 32\n",
        "d_hidden_size_4 = 16\n",
        "leaky_alpha     = 0.02\n",
        "g_learning_rate = 0.0001  # learning rate for the generator\n",
        "d_learning_rate = 0.001   # learning rate for the discriminator\n",
        "epochs          = 150\n",
        "batch_size      = 64      # train batch size\n",
        "eval_size       = 16      # evaluate size\n",
        "smooth          = 0.1\n"
      ],
      "metadata": {
        "id": "CE2uorpubLKT"
      },
      "execution_count": 26,
      "outputs": []
    },
    {
      "cell_type": "code",
      "source": [
        "# labels for the batch size and the test size\n",
        "y_train_real, y_train_fake = make_labels(batch_size)\n",
        "y_eval_real,  y_eval_fake  = make_labels(eval_size)\n",
        "\n",
        "# create a GAN, a generator and a discriminator\n",
        "gan, generator, discriminator = make_simple_GAN(\n",
        "    sample_size, \n",
        "    g_hidden_size_1, \n",
        "    g_hidden_size_2,\n",
        "    g_hidden_size_3, \n",
        "    d_hidden_size_1, \n",
        "    d_hidden_size_2,\n",
        "    d_hidden_size_3,\n",
        "    d_hidden_size_4,\n",
        "    leaky_alpha, \n",
        "    g_learning_rate,\n",
        "    d_learning_rate)\n",
        "\n",
        "\n",
        "losses = []\n",
        "losses1 = []\n",
        "for e in range(epochs):\n",
        "    for i in range(len(X_train_real)//batch_size):\n",
        "        # real MNIST digit images\n",
        "        X_batch_real = X_train_real[i*batch_size:(i+1)*batch_size]\n",
        "        \n",
        "        # latent samples and the generated digit images\n",
        "        latent_samples = make_latent_samples(batch_size, sample_size)\n",
        "        X_batch_fake = generator.predict_on_batch(latent_samples)\n",
        "        \n",
        "        # train the discriminator to detect real and fake images\n",
        "        make_trainable(discriminator, True)\n",
        "        discriminator.train_on_batch(X_batch_real, y_train_real * (1 - smooth))\n",
        "        discriminator.train_on_batch(X_batch_fake, y_train_fake)\n",
        "\n",
        "        # train the generator via GAN\n",
        "        make_trainable(discriminator, False)\n",
        "        gan.train_on_batch(latent_samples, y_train_real)\n",
        "   # evaluate\n",
        "    X_eval_real = X_test_real[np.random.choice(len(X_test_real), eval_size, replace=False)]\n",
        "    \n",
        "    latent_samples = make_latent_samples(eval_size, sample_size)\n",
        "    X_eval_fake = generator.predict_on_batch(latent_samples)\n",
        "\n",
        "    d_loss  = discriminator.test_on_batch(X_eval_real, y_eval_real)\n",
        "    d_loss += discriminator.test_on_batch(X_eval_fake, y_eval_fake)\n",
        "    g_loss  = gan.test_on_batch(latent_samples, y_eval_real) # we want the fake to be realistic!\n",
        "    \n",
        "    losses.append((d_loss, g_loss))\n",
        "\n",
        "    #d_acc_real = discriminator.train_on_batch(X_batch_real, y_train_real * (1 - smooth))\n",
        "    #d_acc_fake = discriminator.train_on_batch(X_batch_fake, y_train_fake)\n",
        "    #d_acc  = 0.5 * (d_acc_real + d_acc_fake)\n",
        "\n",
        "    #losses1.append(( d_acc))\n",
        "    print(\"Epoch: {:>3}/{} Discriminator Loss: {:>6.4f} Generator Loss: {:>6.4f} \".format(\n",
        "        e+1, epochs, d_loss, g_loss)) #Discriminator acc: {:>6.4f}:,d_acc"
      ],
      "metadata": {
        "colab": {
          "base_uri": "https://localhost:8080/"
        },
        "id": "QDoP7vMPZo9g",
        "outputId": "62301715-4493-4aa6-dd7f-a5ea80df9f79"
      },
      "execution_count": 27,
      "outputs": [
        {
          "output_type": "stream",
          "name": "stderr",
          "text": [
            "/usr/local/lib/python3.7/dist-packages/keras/optimizer_v2/adam.py:105: UserWarning: The `lr` argument is deprecated, use `learning_rate` instead.\n",
            "  super(Adam, self).__init__(name, **kwargs)\n"
          ]
        },
        {
          "output_type": "stream",
          "name": "stdout",
          "text": [
            "Epoch:   1/150 Discriminator Loss: 0.8718 Generator Loss: 0.8518 \n",
            "Epoch:   2/150 Discriminator Loss: 0.7766 Generator Loss: 1.0198 \n",
            "Epoch:   3/150 Discriminator Loss: 0.6054 Generator Loss: 1.3765 \n",
            "Epoch:   4/150 Discriminator Loss: 0.4057 Generator Loss: 1.9458 \n",
            "Epoch:   5/150 Discriminator Loss: 0.3394 Generator Loss: 2.1634 \n",
            "Epoch:   6/150 Discriminator Loss: 0.3024 Generator Loss: 2.4789 \n",
            "Epoch:   7/150 Discriminator Loss: 0.3070 Generator Loss: 2.5208 \n",
            "Epoch:   8/150 Discriminator Loss: 0.3643 Generator Loss: 2.6359 \n",
            "Epoch:   9/150 Discriminator Loss: 0.3418 Generator Loss: 2.9757 \n",
            "Epoch:  10/150 Discriminator Loss: 0.2884 Generator Loss: 2.8383 \n",
            "Epoch:  11/150 Discriminator Loss: 0.3967 Generator Loss: 3.0591 \n",
            "Epoch:  12/150 Discriminator Loss: 0.5702 Generator Loss: 3.4295 \n",
            "Epoch:  13/150 Discriminator Loss: 0.2953 Generator Loss: 3.6572 \n",
            "Epoch:  14/150 Discriminator Loss: 0.2138 Generator Loss: 3.2378 \n",
            "Epoch:  15/150 Discriminator Loss: 0.7694 Generator Loss: 3.5637 \n",
            "Epoch:  16/150 Discriminator Loss: 0.2925 Generator Loss: 4.0083 \n",
            "Epoch:  17/150 Discriminator Loss: 0.2897 Generator Loss: 4.2426 \n",
            "Epoch:  18/150 Discriminator Loss: 0.2988 Generator Loss: 4.2527 \n",
            "Epoch:  19/150 Discriminator Loss: 0.2851 Generator Loss: 4.4390 \n",
            "Epoch:  20/150 Discriminator Loss: 0.4691 Generator Loss: 4.2576 \n",
            "Epoch:  21/150 Discriminator Loss: 0.3153 Generator Loss: 4.4078 \n",
            "Epoch:  22/150 Discriminator Loss: 0.5618 Generator Loss: 4.2968 \n",
            "Epoch:  23/150 Discriminator Loss: 0.3358 Generator Loss: 4.1874 \n",
            "Epoch:  24/150 Discriminator Loss: 0.4989 Generator Loss: 3.9806 \n",
            "Epoch:  25/150 Discriminator Loss: 0.6884 Generator Loss: 4.4319 \n",
            "Epoch:  26/150 Discriminator Loss: 0.3789 Generator Loss: 4.8884 \n",
            "Epoch:  27/150 Discriminator Loss: 0.2553 Generator Loss: 4.3086 \n",
            "Epoch:  28/150 Discriminator Loss: 0.3416 Generator Loss: 4.8157 \n",
            "Epoch:  29/150 Discriminator Loss: 0.2876 Generator Loss: 4.8828 \n",
            "Epoch:  30/150 Discriminator Loss: 0.1949 Generator Loss: 4.4146 \n",
            "Epoch:  31/150 Discriminator Loss: 0.1871 Generator Loss: 4.5521 \n",
            "Epoch:  32/150 Discriminator Loss: 0.3727 Generator Loss: 4.4670 \n",
            "Epoch:  33/150 Discriminator Loss: 0.6594 Generator Loss: 4.6583 \n",
            "Epoch:  34/150 Discriminator Loss: 0.4421 Generator Loss: 4.8573 \n",
            "Epoch:  35/150 Discriminator Loss: 0.1962 Generator Loss: 4.9920 \n",
            "Epoch:  36/150 Discriminator Loss: 0.4157 Generator Loss: 4.4653 \n",
            "Epoch:  37/150 Discriminator Loss: 0.2958 Generator Loss: 4.5170 \n",
            "Epoch:  38/150 Discriminator Loss: 0.1210 Generator Loss: 4.5869 \n",
            "Epoch:  39/150 Discriminator Loss: 0.2395 Generator Loss: 4.3802 \n",
            "Epoch:  40/150 Discriminator Loss: 0.3414 Generator Loss: 4.3766 \n",
            "Epoch:  41/150 Discriminator Loss: 0.2161 Generator Loss: 5.0840 \n",
            "Epoch:  42/150 Discriminator Loss: 0.2478 Generator Loss: 4.3680 \n",
            "Epoch:  43/150 Discriminator Loss: 0.1655 Generator Loss: 4.4855 \n",
            "Epoch:  44/150 Discriminator Loss: 0.0987 Generator Loss: 4.6087 \n",
            "Epoch:  45/150 Discriminator Loss: 0.2393 Generator Loss: 4.5218 \n",
            "Epoch:  46/150 Discriminator Loss: 0.2208 Generator Loss: 4.7636 \n",
            "Epoch:  47/150 Discriminator Loss: 0.2441 Generator Loss: 5.1524 \n",
            "Epoch:  48/150 Discriminator Loss: 0.2840 Generator Loss: 4.6744 \n",
            "Epoch:  49/150 Discriminator Loss: 0.3977 Generator Loss: 5.1088 \n",
            "Epoch:  50/150 Discriminator Loss: 0.3746 Generator Loss: 4.4553 \n",
            "Epoch:  51/150 Discriminator Loss: 0.4492 Generator Loss: 5.1912 \n",
            "Epoch:  52/150 Discriminator Loss: 0.8916 Generator Loss: 4.8881 \n",
            "Epoch:  53/150 Discriminator Loss: 0.5036 Generator Loss: 4.6281 \n",
            "Epoch:  54/150 Discriminator Loss: 1.0084 Generator Loss: 4.6652 \n",
            "Epoch:  55/150 Discriminator Loss: 0.2079 Generator Loss: 4.8207 \n",
            "Epoch:  56/150 Discriminator Loss: 0.6105 Generator Loss: 4.9978 \n",
            "Epoch:  57/150 Discriminator Loss: 0.8798 Generator Loss: 5.0415 \n",
            "Epoch:  58/150 Discriminator Loss: 0.5060 Generator Loss: 4.6110 \n",
            "Epoch:  59/150 Discriminator Loss: 0.3050 Generator Loss: 5.2503 \n",
            "Epoch:  60/150 Discriminator Loss: 0.3977 Generator Loss: 4.8885 \n",
            "Epoch:  61/150 Discriminator Loss: 0.2571 Generator Loss: 5.2868 \n",
            "Epoch:  62/150 Discriminator Loss: 0.5368 Generator Loss: 5.2253 \n",
            "Epoch:  63/150 Discriminator Loss: 0.5218 Generator Loss: 5.0283 \n",
            "Epoch:  64/150 Discriminator Loss: 0.7543 Generator Loss: 5.0873 \n",
            "Epoch:  65/150 Discriminator Loss: 0.3177 Generator Loss: 5.4228 \n",
            "Epoch:  66/150 Discriminator Loss: 0.4627 Generator Loss: 5.0072 \n",
            "Epoch:  67/150 Discriminator Loss: 0.3978 Generator Loss: 5.1833 \n",
            "Epoch:  68/150 Discriminator Loss: 0.2225 Generator Loss: 4.8140 \n",
            "Epoch:  69/150 Discriminator Loss: 0.3537 Generator Loss: 5.2257 \n",
            "Epoch:  70/150 Discriminator Loss: 0.4531 Generator Loss: 5.2452 \n",
            "Epoch:  71/150 Discriminator Loss: 0.3074 Generator Loss: 5.3207 \n",
            "Epoch:  72/150 Discriminator Loss: 0.1399 Generator Loss: 5.4709 \n",
            "Epoch:  73/150 Discriminator Loss: 0.3111 Generator Loss: 5.5035 \n",
            "Epoch:  74/150 Discriminator Loss: 0.5480 Generator Loss: 5.4415 \n",
            "Epoch:  75/150 Discriminator Loss: 0.6352 Generator Loss: 5.7222 \n",
            "Epoch:  76/150 Discriminator Loss: 0.8170 Generator Loss: 5.9470 \n",
            "Epoch:  77/150 Discriminator Loss: 0.2171 Generator Loss: 5.2927 \n",
            "Epoch:  78/150 Discriminator Loss: 0.3598 Generator Loss: 4.9590 \n",
            "Epoch:  79/150 Discriminator Loss: 0.9621 Generator Loss: 5.4472 \n",
            "Epoch:  80/150 Discriminator Loss: 0.6085 Generator Loss: 5.1262 \n",
            "Epoch:  81/150 Discriminator Loss: 0.8989 Generator Loss: 4.7689 \n",
            "Epoch:  82/150 Discriminator Loss: 0.9877 Generator Loss: 5.7425 \n",
            "Epoch:  83/150 Discriminator Loss: 0.5376 Generator Loss: 5.1875 \n",
            "Epoch:  84/150 Discriminator Loss: 0.3503 Generator Loss: 5.3026 \n",
            "Epoch:  85/150 Discriminator Loss: 0.4079 Generator Loss: 5.3122 \n",
            "Epoch:  86/150 Discriminator Loss: 0.4695 Generator Loss: 5.4284 \n",
            "Epoch:  87/150 Discriminator Loss: 1.2165 Generator Loss: 5.3874 \n",
            "Epoch:  88/150 Discriminator Loss: 0.6395 Generator Loss: 5.1958 \n",
            "Epoch:  89/150 Discriminator Loss: 0.3545 Generator Loss: 4.9591 \n",
            "Epoch:  90/150 Discriminator Loss: 0.3963 Generator Loss: 5.0389 \n",
            "Epoch:  91/150 Discriminator Loss: 0.5858 Generator Loss: 5.9204 \n",
            "Epoch:  92/150 Discriminator Loss: 0.2796 Generator Loss: 5.3014 \n",
            "Epoch:  93/150 Discriminator Loss: 0.4306 Generator Loss: 5.2922 \n",
            "Epoch:  94/150 Discriminator Loss: 0.4161 Generator Loss: 5.1431 \n",
            "Epoch:  95/150 Discriminator Loss: 0.2796 Generator Loss: 5.3329 \n",
            "Epoch:  96/150 Discriminator Loss: 0.5471 Generator Loss: 5.5267 \n",
            "Epoch:  97/150 Discriminator Loss: 0.5116 Generator Loss: 5.6275 \n",
            "Epoch:  98/150 Discriminator Loss: 0.2865 Generator Loss: 5.7416 \n",
            "Epoch:  99/150 Discriminator Loss: 1.1569 Generator Loss: 5.6066 \n",
            "Epoch: 100/150 Discriminator Loss: 0.2377 Generator Loss: 5.6735 \n",
            "Epoch: 101/150 Discriminator Loss: 0.5314 Generator Loss: 5.0238 \n",
            "Epoch: 102/150 Discriminator Loss: 0.6626 Generator Loss: 5.3864 \n",
            "Epoch: 103/150 Discriminator Loss: 0.5187 Generator Loss: 5.5434 \n",
            "Epoch: 104/150 Discriminator Loss: 0.6317 Generator Loss: 5.8091 \n",
            "Epoch: 105/150 Discriminator Loss: 0.4669 Generator Loss: 5.9239 \n",
            "Epoch: 106/150 Discriminator Loss: 0.4170 Generator Loss: 5.5240 \n",
            "Epoch: 107/150 Discriminator Loss: 0.1606 Generator Loss: 5.7930 \n",
            "Epoch: 108/150 Discriminator Loss: 0.4993 Generator Loss: 6.1046 \n",
            "Epoch: 109/150 Discriminator Loss: 0.8997 Generator Loss: 5.0218 \n",
            "Epoch: 110/150 Discriminator Loss: 0.6975 Generator Loss: 5.0358 \n",
            "Epoch: 111/150 Discriminator Loss: 0.6053 Generator Loss: 5.0836 \n",
            "Epoch: 112/150 Discriminator Loss: 0.2455 Generator Loss: 5.1662 \n",
            "Epoch: 113/150 Discriminator Loss: 0.4495 Generator Loss: 6.0503 \n",
            "Epoch: 114/150 Discriminator Loss: 1.3119 Generator Loss: 5.4502 \n",
            "Epoch: 115/150 Discriminator Loss: 0.5678 Generator Loss: 5.4306 \n",
            "Epoch: 116/150 Discriminator Loss: 0.6681 Generator Loss: 5.4255 \n",
            "Epoch: 117/150 Discriminator Loss: 0.3760 Generator Loss: 5.0382 \n",
            "Epoch: 118/150 Discriminator Loss: 0.5547 Generator Loss: 5.7390 \n",
            "Epoch: 119/150 Discriminator Loss: 0.5424 Generator Loss: 5.1021 \n",
            "Epoch: 120/150 Discriminator Loss: 1.2916 Generator Loss: 6.3209 \n",
            "Epoch: 121/150 Discriminator Loss: 0.4327 Generator Loss: 5.3493 \n",
            "Epoch: 122/150 Discriminator Loss: 0.6250 Generator Loss: 5.0021 \n",
            "Epoch: 123/150 Discriminator Loss: 0.3522 Generator Loss: 5.2870 \n",
            "Epoch: 124/150 Discriminator Loss: 0.8876 Generator Loss: 5.5942 \n",
            "Epoch: 125/150 Discriminator Loss: 0.8798 Generator Loss: 5.5090 \n",
            "Epoch: 126/150 Discriminator Loss: 0.6284 Generator Loss: 5.0919 \n",
            "Epoch: 127/150 Discriminator Loss: 1.0602 Generator Loss: 5.3314 \n",
            "Epoch: 128/150 Discriminator Loss: 0.5615 Generator Loss: 5.2447 \n",
            "Epoch: 129/150 Discriminator Loss: 1.2105 Generator Loss: 4.8952 \n",
            "Epoch: 130/150 Discriminator Loss: 0.5581 Generator Loss: 5.7215 \n",
            "Epoch: 131/150 Discriminator Loss: 0.3112 Generator Loss: 5.6806 \n",
            "Epoch: 132/150 Discriminator Loss: 0.5885 Generator Loss: 5.6125 \n",
            "Epoch: 133/150 Discriminator Loss: 1.0672 Generator Loss: 5.5938 \n",
            "Epoch: 134/150 Discriminator Loss: 0.8904 Generator Loss: 5.4869 \n",
            "Epoch: 135/150 Discriminator Loss: 1.2021 Generator Loss: 5.4496 \n",
            "Epoch: 136/150 Discriminator Loss: 1.5887 Generator Loss: 6.2836 \n",
            "Epoch: 137/150 Discriminator Loss: 0.6798 Generator Loss: 5.4586 \n",
            "Epoch: 138/150 Discriminator Loss: 0.3523 Generator Loss: 5.7195 \n",
            "Epoch: 139/150 Discriminator Loss: 0.6727 Generator Loss: 6.1816 \n",
            "Epoch: 140/150 Discriminator Loss: 0.5756 Generator Loss: 5.4595 \n",
            "Epoch: 141/150 Discriminator Loss: 0.4067 Generator Loss: 5.9690 \n",
            "Epoch: 142/150 Discriminator Loss: 0.9684 Generator Loss: 5.9450 \n",
            "Epoch: 143/150 Discriminator Loss: 0.7976 Generator Loss: 6.0137 \n",
            "Epoch: 144/150 Discriminator Loss: 0.2485 Generator Loss: 5.4288 \n",
            "Epoch: 145/150 Discriminator Loss: 0.2421 Generator Loss: 5.2246 \n",
            "Epoch: 146/150 Discriminator Loss: 0.2513 Generator Loss: 5.3254 \n",
            "Epoch: 147/150 Discriminator Loss: 0.7175 Generator Loss: 5.1808 \n",
            "Epoch: 148/150 Discriminator Loss: 0.2803 Generator Loss: 6.1139 \n",
            "Epoch: 149/150 Discriminator Loss: 1.0086 Generator Loss: 5.6300 \n",
            "Epoch: 150/150 Discriminator Loss: 0.6984 Generator Loss: 5.1901 \n"
          ]
        }
      ]
    },
    {
      "cell_type": "code",
      "source": [
        "losses = np.array(losses)\n",
        "\n",
        "fig, ax = plt.subplots()\n",
        "plt.plot(losses.T[0], label='Discriminator')\n",
        "plt.plot(losses.T[1], label='Generator')\n",
        "plt.title(\"Training Losses\")\n",
        "plt.legend()\n",
        "plt.show()"
      ],
      "metadata": {
        "colab": {
          "base_uri": "https://localhost:8080/",
          "height": 281
        },
        "id": "T09dQX3meJGY",
        "outputId": "e18ed2d0-4be5-4c3a-bbbe-4cdde001d83d"
      },
      "execution_count": 28,
      "outputs": [
        {
          "output_type": "display_data",
          "data": {
            "image/png": "[encoded data removed]",
            "text/plain": [
              "<Figure size 432x288 with 1 Axes>"
            ]
          },
          "metadata": {
            "needs_background": "light"
          }
        }
      ]
    },
    {
      "cell_type": "code",
      "source": [
        "latent_samples = make_latent_samples(20, sample_size)\n",
        "generated_digits = generator.predict(latent_samples)"
      ],
      "metadata": {
        "id": "vR2Ysoli14Tq"
      },
      "execution_count": 29,
      "outputs": []
    },
    {
      "cell_type": "code",
      "source": [
        "for i in range(20):\n",
        "    node = (generated_digits[i])\n",
        "print(node)"
      ],
      "metadata": {
        "id": "UF85ze5E1_MS",
        "colab": {
          "base_uri": "https://localhost:8080/"
        },
        "outputId": "f6d7c289-7fc2-489f-ddfa-dc53bbd6bc55"
      },
      "execution_count": 30,
      "outputs": [
        {
          "output_type": "stream",
          "name": "stdout",
          "text": [
            "[-0.9835415   0.32259512 -0.8546495  -0.2939674  -0.33715367 -0.1495471\n",
            "  0.99021757 -0.2277357  -0.14605159 -0.17783909  0.3694085  -0.9466934\n",
            "  0.36528003 -0.9842521   0.34324554 -0.65260535  0.7495523  -0.42668173\n",
            "  0.96217555  0.9356957  -0.99661386  0.9122793   0.33265406 -0.66994554\n",
            "  0.10025528 -0.9569357   0.5552302   0.16082887 -0.96735185  0.42164403\n",
            " -0.9885032   0.9763026  -0.9119174  -0.86006904 -0.9885817  -0.61424464\n",
            " -0.89582866 -0.37775713  0.17734161 -0.44050732  0.64922434  0.99721783\n",
            " -0.38076824  0.3352041   0.57002753  0.9707241   0.9644954   0.65004325\n",
            " -0.00233589 -0.58330715 -0.24027885 -0.33745533 -0.48985285  0.87425315\n",
            " -0.9796134   0.9648528  -0.8409719   0.9272181  -0.59677196 -0.8452587\n",
            " -0.5958382  -0.9551507   0.9985471  -0.89523613 -0.69791627 -0.98128605\n",
            "  0.5545585   0.992081   -0.6401333   0.98111606]\n"
          ]
        }
      ]
    },
    {
      "cell_type": "code",
      "source": [
        "rr = discriminator.predict_on_batch(X_test_real)"
      ],
      "metadata": {
        "id": "j_EQFsb3k8tg"
      },
      "execution_count": 31,
      "outputs": []
    },
    {
      "cell_type": "code",
      "source": [
        "rr"
      ],
      "metadata": {
        "colab": {
          "base_uri": "https://localhost:8080/"
        },
        "id": "SDE7dg83ei7s",
        "outputId": "ffb75692-f4a7-4002-856c-04bf595c9417"
      },
      "execution_count": 32,
      "outputs": [
        {
          "output_type": "execute_result",
          "data": {
            "text/plain": [
              "array([[9.0657061e-01],\n",
              "       [9.0657055e-01],\n",
              "       [9.2768192e-01],\n",
              "       [9.9103522e-01],\n",
              "       [9.8813492e-01],\n",
              "       [9.6617699e-01],\n",
              "       [9.6580970e-01],\n",
              "       [8.7411535e-01],\n",
              "       [8.7505364e-01],\n",
              "       [9.6617699e-01],\n",
              "       [8.7505323e-01],\n",
              "       [8.7505329e-01],\n",
              "       [9.6617693e-01],\n",
              "       [9.4657832e-01],\n",
              "       [7.5457734e-01],\n",
              "       [9.0658808e-01],\n",
              "       [9.0658820e-01],\n",
              "       [9.0657055e-01],\n",
              "       [1.2636691e-02],\n",
              "       [9.1019416e-01],\n",
              "       [8.7411529e-01],\n",
              "       [9.0657055e-01],\n",
              "       [3.3693379e-07],\n",
              "       [9.9311733e-01],\n",
              "       [6.1963880e-01],\n",
              "       [9.0657067e-01],\n",
              "       [9.0657055e-01],\n",
              "       [1.1857175e-04],\n",
              "       [8.7507975e-01],\n",
              "       [9.4634438e-01],\n",
              "       [9.6588999e-01],\n",
              "       [9.2768157e-01],\n",
              "       [9.0658832e-01],\n",
              "       [9.4657832e-01],\n",
              "       [8.7505341e-01],\n",
              "       [9.1019505e-01],\n",
              "       [8.7505352e-01],\n",
              "       [9.8677349e-01],\n",
              "       [9.6617699e-01],\n",
              "       [9.6580976e-01],\n",
              "       [7.8653425e-02],\n",
              "       [9.8836863e-01],\n",
              "       [9.0657055e-01],\n",
              "       [8.7507927e-01],\n",
              "       [9.9103522e-01],\n",
              "       [9.6617699e-01],\n",
              "       [8.7616777e-01],\n",
              "       [9.9906766e-01],\n",
              "       [3.9308463e-07],\n",
              "       [9.4634438e-01],\n",
              "       [9.4634444e-01],\n",
              "       [9.7459352e-01],\n",
              "       [5.7914943e-01],\n",
              "       [9.6617699e-01],\n",
              "       [8.8738793e-01],\n",
              "       [8.7507945e-01],\n",
              "       [9.1019523e-01],\n",
              "       [9.4634426e-01],\n",
              "       [9.0657055e-01],\n",
              "       [9.1025245e-01],\n",
              "       [8.7411511e-01],\n",
              "       [8.7411529e-01],\n",
              "       [8.5641539e-01],\n",
              "       [9.4072056e-01],\n",
              "       [9.0658808e-01],\n",
              "       [9.1547525e-01],\n",
              "       [9.1019499e-01],\n",
              "       [8.9538693e-01],\n",
              "       [6.0277379e-01],\n",
              "       [9.1025245e-01],\n",
              "       [7.4488446e-05],\n",
              "       [9.2768466e-01],\n",
              "       [8.8891387e-04],\n",
              "       [9.6241748e-01],\n",
              "       [9.6581060e-01],\n",
              "       [9.6628106e-01],\n",
              "       [8.7505341e-01],\n",
              "       [9.4634438e-01],\n",
              "       [9.2768353e-01],\n",
              "       [9.0658820e-01],\n",
              "       [8.7616807e-01],\n",
              "       [9.4634444e-01],\n",
              "       [9.0658820e-01],\n",
              "       [8.7505400e-01],\n",
              "       [9.9103528e-01],\n",
              "       [9.9762464e-01],\n",
              "       [9.9103528e-01],\n",
              "       [8.7507951e-01],\n",
              "       [2.9969016e-01],\n",
              "       [8.7507963e-01],\n",
              "       [9.2768157e-01],\n",
              "       [9.1025251e-01],\n",
              "       [9.2768478e-01],\n",
              "       [8.7411511e-01],\n",
              "       [9.6085006e-01],\n",
              "       [9.4634449e-01],\n",
              "       [9.1019511e-01],\n",
              "       [9.0657055e-01],\n",
              "       [9.0658826e-01],\n",
              "       [9.1019416e-01],\n",
              "       [9.3373072e-01],\n",
              "       [9.3822753e-01],\n",
              "       [9.9888700e-01],\n",
              "       [9.1025198e-01],\n",
              "       [9.1025251e-01],\n",
              "       [9.0657055e-01],\n",
              "       [9.4634444e-01],\n",
              "       [9.9535751e-01],\n",
              "       [9.8249531e-01],\n",
              "       [9.6581066e-01],\n",
              "       [9.1019511e-01],\n",
              "       [9.9103516e-01],\n",
              "       [9.0657061e-01],\n",
              "       [9.0658808e-01],\n",
              "       [7.7760369e-02],\n",
              "       [8.7505364e-01],\n",
              "       [9.6581060e-01],\n",
              "       [9.4634438e-01],\n",
              "       [9.6580982e-01],\n",
              "       [9.4634438e-01],\n",
              "       [9.0658826e-01],\n",
              "       [9.8604238e-01],\n",
              "       [9.0658820e-01],\n",
              "       [8.7505341e-01],\n",
              "       [9.6617693e-01],\n",
              "       [9.0658820e-01],\n",
              "       [9.6581066e-01],\n",
              "       [9.8909289e-01],\n",
              "       [8.7411499e-01],\n",
              "       [8.7411529e-01],\n",
              "       [9.2768157e-01],\n",
              "       [9.4634449e-01],\n",
              "       [9.8191828e-01],\n",
              "       [1.3282365e-01],\n",
              "       [9.1025245e-01],\n",
              "       [9.1019511e-01],\n",
              "       [2.6152676e-01],\n",
              "       [8.7411511e-01],\n",
              "       [9.9105728e-01],\n",
              "       [9.2768180e-01],\n",
              "       [9.2768192e-01],\n",
              "       [9.2768157e-01],\n",
              "       [9.0658820e-01],\n",
              "       [9.9783969e-01],\n",
              "       [9.0658826e-01],\n",
              "       [9.6580970e-01],\n",
              "       [8.7507963e-01],\n",
              "       [8.7505329e-01],\n",
              "       [8.7505341e-01],\n",
              "       [8.7505341e-01],\n",
              "       [8.7505376e-01],\n",
              "       [9.6581060e-01],\n",
              "       [9.1019499e-01],\n",
              "       [9.0657049e-01],\n",
              "       [9.9930745e-01],\n",
              "       [9.0658826e-01],\n",
              "       [8.7507898e-01],\n",
              "       [9.3852443e-01],\n",
              "       [9.6581060e-01],\n",
              "       [8.7505317e-01],\n",
              "       [9.0657061e-01],\n",
              "       [9.0658820e-01],\n",
              "       [9.0658820e-01],\n",
              "       [9.9974990e-01],\n",
              "       [8.7507969e-01],\n",
              "       [9.1025245e-01],\n",
              "       [8.7505352e-01],\n",
              "       [9.9778759e-01],\n",
              "       [9.0658826e-01],\n",
              "       [9.0657049e-01],\n",
              "       [9.0658826e-01],\n",
              "       [9.9103528e-01],\n",
              "       [9.1019416e-01],\n",
              "       [9.1019416e-01],\n",
              "       [8.7411511e-01],\n",
              "       [9.9658293e-01],\n",
              "       [9.9103528e-01],\n",
              "       [9.9718577e-01],\n",
              "       [9.2768282e-01],\n",
              "       [9.1025233e-01],\n",
              "       [9.9239111e-01],\n",
              "       [8.7507945e-01],\n",
              "       [8.7505329e-01],\n",
              "       [9.4634444e-01],\n",
              "       [9.4634438e-01],\n",
              "       [9.8351073e-01],\n",
              "       [9.1019505e-01],\n",
              "       [9.0657055e-01],\n",
              "       [9.0658826e-01],\n",
              "       [9.0658820e-01],\n",
              "       [9.2768466e-01],\n",
              "       [9.0658832e-01],\n",
              "       [9.2768282e-01],\n",
              "       [9.9103522e-01],\n",
              "       [8.7505317e-01],\n",
              "       [8.7505364e-01],\n",
              "       [9.1019416e-01],\n",
              "       [9.6385050e-01],\n",
              "       [9.4634426e-01],\n",
              "       [9.0658820e-01],\n",
              "       [8.7411511e-01],\n",
              "       [9.4634438e-01],\n",
              "       [9.3336058e-01],\n",
              "       [8.7411511e-01],\n",
              "       [9.4657838e-01],\n",
              "       [8.7505364e-01],\n",
              "       [9.0657055e-01],\n",
              "       [9.2768157e-01],\n",
              "       [9.2768461e-01],\n",
              "       [9.4634438e-01],\n",
              "       [8.7505341e-01],\n",
              "       [8.9794528e-01],\n",
              "       [9.9601603e-01],\n",
              "       [9.9884462e-01],\n",
              "       [8.7672102e-01],\n",
              "       [9.5138645e-01],\n",
              "       [8.7846649e-01],\n",
              "       [9.1025257e-01],\n",
              "       [5.9567720e-02],\n",
              "       [9.2768192e-01],\n",
              "       [8.8642991e-01],\n",
              "       [9.0658808e-01],\n",
              "       [9.2768192e-01],\n",
              "       [9.6617693e-01],\n",
              "       [9.0658820e-01],\n",
              "       [6.8901986e-01],\n",
              "       [8.7505364e-01],\n",
              "       [9.9278015e-01],\n",
              "       [9.0657055e-01],\n",
              "       [8.7507898e-01],\n",
              "       [8.7411511e-01],\n",
              "       [9.6617699e-01],\n",
              "       [9.4657826e-01],\n",
              "       [8.7411511e-01],\n",
              "       [9.2768478e-01],\n",
              "       [8.7505352e-01],\n",
              "       [9.2768478e-01],\n",
              "       [9.6973145e-01],\n",
              "       [8.3761883e-01],\n",
              "       [9.1920555e-01],\n",
              "       [8.7616789e-01],\n",
              "       [8.7411499e-01],\n",
              "       [9.1025245e-01],\n",
              "       [9.0658814e-01],\n",
              "       [8.7616783e-01],\n",
              "       [9.9594986e-01],\n",
              "       [9.0657061e-01],\n",
              "       [8.7505388e-01],\n",
              "       [8.7505329e-01],\n",
              "       [9.0658808e-01],\n",
              "       [9.0658814e-01],\n",
              "       [9.0658820e-01],\n",
              "       [9.9986094e-01],\n",
              "       [9.6581066e-01],\n",
              "       [9.0658808e-01],\n",
              "       [9.1019410e-01],\n",
              "       [9.8563898e-01],\n",
              "       [9.0657049e-01],\n",
              "       [9.0658820e-01],\n",
              "       [9.8348486e-01],\n",
              "       [9.9212182e-01],\n",
              "       [8.7411511e-01],\n",
              "       [9.6580970e-01],\n",
              "       [8.7505376e-01],\n",
              "       [9.2768192e-01],\n",
              "       [8.7411523e-01],\n",
              "       [8.7505382e-01],\n",
              "       [9.6580976e-01],\n",
              "       [8.7505317e-01],\n",
              "       [8.7411529e-01],\n",
              "       [9.8701018e-01],\n",
              "       [8.7505341e-01],\n",
              "       [9.1019523e-01],\n",
              "       [9.9996704e-01],\n",
              "       [9.4634438e-01],\n",
              "       [9.9103516e-01],\n",
              "       [8.7505329e-01],\n",
              "       [8.6854160e-01],\n",
              "       [9.4634438e-01],\n",
              "       [9.0658820e-01],\n",
              "       [9.0657055e-01],\n",
              "       [9.4634449e-01],\n",
              "       [9.2768282e-01],\n",
              "       [9.4634449e-01],\n",
              "       [9.0658820e-01],\n",
              "       [9.0658820e-01],\n",
              "       [8.7505364e-01],\n",
              "       [9.1019511e-01],\n",
              "       [9.4657844e-01],\n",
              "       [8.7411511e-01],\n",
              "       [9.0658826e-01],\n",
              "       [9.6617699e-01],\n",
              "       [8.7505364e-01],\n",
              "       [9.2768478e-01],\n",
              "       [7.7549839e-01],\n",
              "       [8.7411523e-01],\n",
              "       [9.4634449e-01],\n",
              "       [9.2768478e-01],\n",
              "       [9.0658820e-01],\n",
              "       [8.7411523e-01],\n",
              "       [9.2768157e-01],\n",
              "       [8.7505382e-01],\n",
              "       [9.0658820e-01],\n",
              "       [9.1019511e-01],\n",
              "       [1.3302088e-01],\n",
              "       [9.4634438e-01],\n",
              "       [8.7505341e-01],\n",
              "       [9.6617699e-01],\n",
              "       [9.1246545e-01],\n",
              "       [9.6580976e-01],\n",
              "       [9.7915089e-01],\n",
              "       [9.8965335e-01],\n",
              "       [9.0658826e-01],\n",
              "       [8.7411511e-01],\n",
              "       [9.9973118e-01],\n",
              "       [9.1025257e-01],\n",
              "       [8.7411523e-01],\n",
              "       [9.1019505e-01],\n",
              "       [9.4634449e-01],\n",
              "       [9.6617699e-01],\n",
              "       [9.5536196e-01],\n",
              "       [9.0657049e-01],\n",
              "       [8.7411517e-01],\n",
              "       [9.2768192e-01],\n",
              "       [3.5606489e-01],\n",
              "       [8.7505317e-01],\n",
              "       [9.9779385e-01],\n",
              "       [2.1880165e-01],\n",
              "       [9.0768135e-01],\n",
              "       [9.1019410e-01],\n",
              "       [9.2768145e-01],\n",
              "       [9.4657844e-01],\n",
              "       [8.7411511e-01],\n",
              "       [9.6617699e-01],\n",
              "       [8.7411529e-01],\n",
              "       [8.7505341e-01],\n",
              "       [9.0658820e-01],\n",
              "       [8.5189974e-01],\n",
              "       [9.9744153e-01],\n",
              "       [9.0657061e-01],\n",
              "       [9.2768192e-01],\n",
              "       [9.0657067e-01],\n",
              "       [9.0658820e-01],\n",
              "       [9.1019404e-01],\n",
              "       [9.1019416e-01],\n",
              "       [9.0657061e-01],\n",
              "       [8.6452389e-01],\n",
              "       [6.5431821e-01],\n",
              "       [9.1019523e-01],\n",
              "       [9.1025245e-01],\n",
              "       [9.1025251e-01],\n",
              "       [9.9635363e-01],\n",
              "       [8.7616777e-01],\n",
              "       [9.4634449e-01],\n",
              "       [9.9702018e-01],\n",
              "       [9.6617699e-01],\n",
              "       [9.0658826e-01],\n",
              "       [9.0658826e-01],\n",
              "       [9.4634438e-01],\n",
              "       [9.1025245e-01],\n",
              "       [9.8904848e-01],\n",
              "       [9.0658820e-01],\n",
              "       [9.0658820e-01],\n",
              "       [8.7411523e-01],\n",
              "       [9.4634438e-01],\n",
              "       [9.4634438e-01],\n",
              "       [9.2768478e-01],\n",
              "       [1.1979720e-05],\n",
              "       [9.9852371e-01],\n",
              "       [9.1025257e-01],\n",
              "       [9.9472702e-01],\n",
              "       [9.1025251e-01],\n",
              "       [9.9653459e-01],\n",
              "       [8.7505388e-01],\n",
              "       [8.7505364e-01],\n",
              "       [9.0657055e-01],\n",
              "       [9.6617693e-01],\n",
              "       [8.7505341e-01],\n",
              "       [9.2768276e-01],\n",
              "       [9.1019499e-01],\n",
              "       [9.1894519e-01],\n",
              "       [9.0657055e-01],\n",
              "       [4.6775132e-01],\n",
              "       [9.0658820e-01],\n",
              "       [9.1025251e-01],\n",
              "       [9.4657838e-01],\n",
              "       [8.7505352e-01],\n",
              "       [9.4634449e-01],\n",
              "       [9.1019416e-01],\n",
              "       [9.4262731e-01],\n",
              "       [9.0657055e-01],\n",
              "       [8.7505376e-01],\n",
              "       [9.0658814e-01],\n",
              "       [9.2768192e-01],\n",
              "       [9.6580976e-01],\n",
              "       [8.7505341e-01]], dtype=float32)"
            ]
          },
          "metadata": {},
          "execution_count": 32
        }
      ]
    },
    {
      "cell_type": "code",
      "source": [
        "rr.min()"
      ],
      "metadata": {
        "colab": {
          "base_uri": "https://localhost:8080/"
        },
        "id": "SW0raM0bgs-D",
        "outputId": "16e7a5f7-eb75-4af3-bdc7-6f4d6ea4a5a6"
      },
      "execution_count": 33,
      "outputs": [
        {
          "output_type": "execute_result",
          "data": {
            "text/plain": [
              "3.369338e-07"
            ]
          },
          "metadata": {},
          "execution_count": 33
        }
      ]
    },
    {
      "cell_type": "code",
      "source": [
        "rr.max()"
      ],
      "metadata": {
        "colab": {
          "base_uri": "https://localhost:8080/"
        },
        "id": "OavxI9_5iiAU",
        "outputId": "62cf6ab5-179d-42c1-b6b9-e0bd4fbac9a5"
      },
      "execution_count": 34,
      "outputs": [
        {
          "output_type": "execute_result",
          "data": {
            "text/plain": [
              "0.99996704"
            ]
          },
          "metadata": {},
          "execution_count": 34
        }
      ]
    },
    {
      "cell_type": "code",
      "source": [
        "y_test"
      ],
      "metadata": {
        "colab": {
          "base_uri": "https://localhost:8080/"
        },
        "id": "UGX_aZvUb6VY",
        "outputId": "f450138c-2334-4d80-d455-7a8b7dca5db4"
      },
      "execution_count": 35,
      "outputs": [
        {
          "output_type": "execute_result",
          "data": {
            "text/plain": [
              "678     1\n",
              "693     1\n",
              "610     1\n",
              "49      1\n",
              "1291    0\n",
              "       ..\n",
              "141     1\n",
              "820     1\n",
              "613     1\n",
              "543     1\n",
              "139     1\n",
              "Name: label, Length: 396, dtype: int64"
            ]
          },
          "metadata": {},
          "execution_count": 35
        }
      ]
    },
    {
      "cell_type": "code",
      "source": [
        "import keras\n",
        "#import keras_metrics\n",
        "\n",
        "r = tf.keras.metrics.Recall()\n",
        "r.update_state(y_test,rr )\n",
        "r.result().numpy()\n"
      ],
      "metadata": {
        "colab": {
          "base_uri": "https://localhost:8080/"
        },
        "id": "kkAjICO3sr3P",
        "outputId": "bd7bc44a-8f53-4316-b463-ad007a7f0dff"
      },
      "execution_count": 36,
      "outputs": [
        {
          "output_type": "execute_result",
          "data": {
            "text/plain": [
              "1.0"
            ]
          },
          "metadata": {},
          "execution_count": 36
        }
      ]
    },
    {
      "cell_type": "code",
      "source": [
        "p=tf.keras.metrics.Precision()\n",
        "p.update_state(y_test,rr )\n",
        "p.result().numpy()"
      ],
      "metadata": {
        "colab": {
          "base_uri": "https://localhost:8080/"
        },
        "id": "BhpEzb9grUsJ",
        "outputId": "1798674c-2d9d-4bcb-da6a-67fbea24e166"
      },
      "execution_count": 37,
      "outputs": [
        {
          "output_type": "execute_result",
          "data": {
            "text/plain": [
              "0.7915567"
            ]
          },
          "metadata": {},
          "execution_count": 37
        }
      ]
    }
  ]
}