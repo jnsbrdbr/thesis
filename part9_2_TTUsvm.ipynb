{
  "nbformat": 4,
  "nbformat_minor": 0,
  "metadata": {
    "colab": {
      "name": "part9_2_TTUsvm.ipynb",
      "provenance": [],
      "collapsed_sections": [],
      "authorship_tag": "ABX9TyO4OoqZgPcJc0qr/EyD/8dE",
      "include_colab_link": true
    },
    "kernelspec": {
      "name": "python3",
      "display_name": "Python 3"
    },
    "language_info": {
      "name": "python"
    }
  },
  "cells": [
    {
      "cell_type": "markdown",
      "metadata": {
        "id": "view-in-github",
        "colab_type": "text"
      },
      "source": [
        "<a href=\"https://colab.research.google.com/github/jnsbrdbr/thesis/blob/thesis/part9_2_TTUsvm.ipynb\" target=\"_parent\"><img src=\"https://colab.research.google.com/assets/colab-badge.svg\" alt=\"Open In Colab\"/></a>"
      ]
    },
    {
      "cell_type": "code",
      "execution_count": 1,
      "metadata": {
        "id": "orysFjwHboue"
      },
      "outputs": [],
      "source": [
        "import numpy as np\n",
        "import pandas as pd\n",
        "import seaborn as sns\n",
        "import matplotlib.pyplot as plt\n",
        "\n",
        "from sklearn.metrics import jaccard_score\n",
        "from scipy.spatial.distance import pdist, squareform"
      ]
    },
    {
      "cell_type": "code",
      "source": [
        "from google.colab import drive\n",
        "drive.mount('/content/drive') "
      ],
      "metadata": {
        "colab": {
          "base_uri": "https://localhost:8080/"
        },
        "id": "E2e6MYutbzmO",
        "outputId": "df48e651-5ce0-4cb2-a753-961ea7ec3a6b"
      },
      "execution_count": 2,
      "outputs": [
        {
          "output_type": "stream",
          "name": "stdout",
          "text": [
            "Mounted at /content/drive\n"
          ]
        }
      ]
    },
    {
      "cell_type": "code",
      "source": [
        "!pip3 install pickle5\n",
        "import pickle5 as pickle"
      ],
      "metadata": {
        "colab": {
          "base_uri": "https://localhost:8080/"
        },
        "id": "FlvXQ5yNb5eP",
        "outputId": "3bbb5b78-81fc-4247-a4c6-ccb8341e333e"
      },
      "execution_count": 3,
      "outputs": [
        {
          "output_type": "stream",
          "name": "stdout",
          "text": [
            "Collecting pickle5\n",
            "  Downloading pickle5-0.0.12-cp37-cp37m-manylinux_2_5_x86_64.manylinux1_x86_64.whl (256 kB)\n",
            "\u001b[?25l\r\u001b[K     |█▎                              | 10 kB 20.2 MB/s eta 0:00:01\r\u001b[K     |██▋                             | 20 kB 26.5 MB/s eta 0:00:01\r\u001b[K     |███▉                            | 30 kB 14.2 MB/s eta 0:00:01\r\u001b[K     |█████▏                          | 40 kB 10.7 MB/s eta 0:00:01\r\u001b[K     |██████▍                         | 51 kB 5.9 MB/s eta 0:00:01\r\u001b[K     |███████▊                        | 61 kB 6.9 MB/s eta 0:00:01\r\u001b[K     |█████████                       | 71 kB 7.5 MB/s eta 0:00:01\r\u001b[K     |██████████▎                     | 81 kB 6.0 MB/s eta 0:00:01\r\u001b[K     |███████████▌                    | 92 kB 6.6 MB/s eta 0:00:01\r\u001b[K     |████████████▉                   | 102 kB 7.2 MB/s eta 0:00:01\r\u001b[K     |██████████████                  | 112 kB 7.2 MB/s eta 0:00:01\r\u001b[K     |███████████████▍                | 122 kB 7.2 MB/s eta 0:00:01\r\u001b[K     |████████████████▋               | 133 kB 7.2 MB/s eta 0:00:01\r\u001b[K     |██████████████████              | 143 kB 7.2 MB/s eta 0:00:01\r\u001b[K     |███████████████████▏            | 153 kB 7.2 MB/s eta 0:00:01\r\u001b[K     |████████████████████▌           | 163 kB 7.2 MB/s eta 0:00:01\r\u001b[K     |█████████████████████▊          | 174 kB 7.2 MB/s eta 0:00:01\r\u001b[K     |███████████████████████         | 184 kB 7.2 MB/s eta 0:00:01\r\u001b[K     |████████████████████████▎       | 194 kB 7.2 MB/s eta 0:00:01\r\u001b[K     |█████████████████████████▋      | 204 kB 7.2 MB/s eta 0:00:01\r\u001b[K     |██████████████████████████▉     | 215 kB 7.2 MB/s eta 0:00:01\r\u001b[K     |████████████████████████████▏   | 225 kB 7.2 MB/s eta 0:00:01\r\u001b[K     |█████████████████████████████▍  | 235 kB 7.2 MB/s eta 0:00:01\r\u001b[K     |██████████████████████████████▊ | 245 kB 7.2 MB/s eta 0:00:01\r\u001b[K     |████████████████████████████████| 256 kB 7.2 MB/s eta 0:00:01\r\u001b[K     |████████████████████████████████| 256 kB 7.2 MB/s \n",
            "\u001b[?25hInstalling collected packages: pickle5\n",
            "Successfully installed pickle5-0.0.12\n"
          ]
        }
      ]
    },
    {
      "cell_type": "code",
      "source": [
        "with open('/content/drive/MyDrive/10000/unsmote/TUnsmote_Tresult.pkl', \"rb\") as fh:\n",
        "  result = pickle.load(fh)"
      ],
      "metadata": {
        "id": "a1h-dVR3b7e8"
      },
      "execution_count": 4,
      "outputs": []
    },
    {
      "cell_type": "code",
      "source": [
        "#final data\n",
        "print(result)"
      ],
      "metadata": {
        "colab": {
          "base_uri": "https://localhost:8080/"
        },
        "id": "90d_nTQ4b-zT",
        "outputId": "52056f35-ce1d-42f7-8b96-a1f676f47d08"
      },
      "execution_count": 5,
      "outputs": [
        {
          "output_type": "stream",
          "name": "stdout",
          "text": [
            "             0         1         2  ...         8         9  label\n",
            "0    -0.018442 -4.220618 -0.916300  ... -0.010241 -0.181514      1\n",
            "1    -0.018442 -4.220618 -0.916300  ... -0.010241 -0.181514      1\n",
            "2    -0.018442 -4.220618 -0.916300  ... -0.010241 -0.181514      1\n",
            "3    -0.018442 -4.220618 -0.916300  ... -0.010241 -0.181514      1\n",
            "4    -0.018444 -4.221080 -0.916678  ...  0.057121  0.838856      1\n",
            "...        ...       ...       ...  ...       ...       ...    ...\n",
            "9995 -0.264492 -4.771727 -2.334318  ...  0.017370  0.231334      1\n",
            "9996 -0.264492 -4.771727 -2.334318  ...  0.017370  0.231334      1\n",
            "9997 -0.264492 -4.771727 -2.334318  ...  0.017370  0.231334      1\n",
            "9998 -0.264492 -4.771727 -2.334318  ...  0.017370  0.231334      1\n",
            "9999 -0.264492 -4.771727 -2.334318  ...  0.017370  0.231334      1\n",
            "\n",
            "[10000 rows x 101 columns]\n"
          ]
        }
      ]
    },
    {
      "cell_type": "code",
      "source": [
        "import copy\n",
        "result_nonlabel=copy.deepcopy(result)\n",
        "del result_nonlabel['label']\n",
        "X=result_nonlabel\n",
        "y=result.label"
      ],
      "metadata": {
        "id": "A8Yp3_UucF_G"
      },
      "execution_count": 6,
      "outputs": []
    },
    {
      "cell_type": "code",
      "source": [
        "from sklearn.model_selection import train_test_split\n",
        "x_train, x_test, y_train, y_test = train_test_split(X, y, test_size=0.3,random_state=42)#"
      ],
      "metadata": {
        "id": "uK00tKmGcF8e"
      },
      "execution_count": 7,
      "outputs": []
    },
    {
      "cell_type": "code",
      "source": [
        "from sklearn.svm import SVC\n",
        "from sklearn import svm\n",
        "from sklearn.svm import LinearSVC\n",
        "import warnings\n",
        "warnings.filterwarnings('ignore')\n",
        "\n",
        "\n",
        "svclassifier=svm.LinearSVC(C=0.001,random_state=42,max_iter=50000)\n",
        "svclassifier.fit(x_train, y_train)\n",
        "y_pred = svclassifier.predict(x_test)\n",
        "score = svclassifier.score(x_test, y_test)\n",
        "print(score)"
      ],
      "metadata": {
        "colab": {
          "base_uri": "https://localhost:8080/"
        },
        "id": "CMoKc334cF5o",
        "outputId": "31608f67-7f54-4e7d-e76c-7a529558881a"
      },
      "execution_count": 10,
      "outputs": [
        {
          "output_type": "stream",
          "name": "stdout",
          "text": [
            "0.9913333333333333\n"
          ]
        }
      ]
    },
    {
      "cell_type": "code",
      "source": [
        "import matplotlib.pyplot as plt\n",
        "import seaborn as sns\n",
        "from sklearn import metrics\n",
        "\n",
        "confusion_matrix = pd.crosstab(y_test, y_pred, rownames=['Actual'], colnames=['Predicted'])\n",
        "sns.heatmap(confusion_matrix, annot=True)"
      ],
      "metadata": {
        "colab": {
          "base_uri": "https://localhost:8080/",
          "height": 297
        },
        "id": "XZ8Kb34TcF3O",
        "outputId": "868f9eaa-b179-4caf-d1a7-86081278d09f"
      },
      "execution_count": 11,
      "outputs": [
        {
          "output_type": "execute_result",
          "data": {
            "text/plain": [
              "<matplotlib.axes._subplots.AxesSubplot at 0x7f0d8fd4c390>"
            ]
          },
          "metadata": {},
          "execution_count": 11
        },
        {
          "output_type": "display_data",
          "data": {
            "image/png": "[encoded data removed]",
            "text/plain": [
              "<Figure size 432x288 with 2 Axes>"
            ]
          },
          "metadata": {
            "needs_background": "light"
          }
        }
      ]
    },
    {
      "cell_type": "code",
      "source": [
        "from sklearn.metrics import confusion_matrix\n",
        "\n",
        "tn, fp, fn, tp = confusion_matrix(y_test, y_pred).ravel()\n",
        "print(f'True Positives: {tp}')\n",
        "print(f'False Positives: {fp}')\n",
        "print(f'True Negatives: {tn}')\n",
        "print(f'False Negatives: {fn}')"
      ],
      "metadata": {
        "colab": {
          "base_uri": "https://localhost:8080/"
        },
        "id": "8Cz_9cvfcF0B",
        "outputId": "3da0b8dd-0e45-4666-e131-d6a576daf568"
      },
      "execution_count": 12,
      "outputs": [
        {
          "output_type": "stream",
          "name": "stdout",
          "text": [
            "True Positives: 2974\n",
            "False Positives: 26\n",
            "True Negatives: 0\n",
            "False Negatives: 0\n"
          ]
        }
      ]
    },
    {
      "cell_type": "code",
      "source": [
        "print('Accuracy: ',metrics.accuracy_score(y_test, y_pred))\n"
      ],
      "metadata": {
        "colab": {
          "base_uri": "https://localhost:8080/"
        },
        "id": "HpQDgDNDcFxt",
        "outputId": "c150f205-7fb9-48e7-d66d-88338ff1b85d"
      },
      "execution_count": 13,
      "outputs": [
        {
          "output_type": "stream",
          "name": "stdout",
          "text": [
            "Accuracy:  0.9913333333333333\n"
          ]
        }
      ]
    },
    {
      "cell_type": "code",
      "source": [
        "from numpy import mean\n",
        "from numpy import std\n",
        "from sklearn.model_selection import KFold\n",
        "from sklearn.model_selection import cross_val_score\n",
        "import warnings\n",
        "warnings.filterwarnings('ignore')\n",
        "\n",
        "cv = KFold(n_splits=10)# shuffle=True,, random_state=42\n",
        "scores = cross_val_score(svclassifier, X, y, scoring='accuracy', cv=cv)#,n_jobs=-1\n",
        "\n",
        "print('Accuracy: %.3f (%.3f)' % (mean(scores), std(scores)))"
      ],
      "metadata": {
        "colab": {
          "base_uri": "https://localhost:8080/"
        },
        "id": "uoqGzv6ccFu9",
        "outputId": "54b35d10-9aa2-4988-c41c-ceec8b4fd1bd"
      },
      "execution_count": 14,
      "outputs": [
        {
          "output_type": "stream",
          "name": "stdout",
          "text": [
            "Accuracy: 0.773 (0.226)\n"
          ]
        }
      ]
    },
    {
      "cell_type": "code",
      "source": [
        "#recall\n",
        "\n",
        "from numpy import mean\n",
        "from numpy import std\n",
        "from sklearn.model_selection import KFold\n",
        "from sklearn.model_selection import cross_val_score,cross_val_predict\n",
        "import warnings\n",
        "warnings.filterwarnings('ignore')\n",
        "\n",
        "cv = KFold(n_splits=10)#, shuffle=True, random_state=42\n",
        "scores_recall = cross_val_score(svclassifier,X, y, scoring='recall', cv=cv)#,n_jobs=-1\n",
        "\n",
        "print('scores_recall: %.3f (%.3f)' % (mean(scores_recall), std(scores_recall)))"
      ],
      "metadata": {
        "colab": {
          "base_uri": "https://localhost:8080/"
        },
        "id": "k5t5_RpAcFsQ",
        "outputId": "92f4666a-e264-40af-9fb6-90cbdd3d68dd"
      },
      "execution_count": 15,
      "outputs": [
        {
          "output_type": "stream",
          "name": "stdout",
          "text": [
            "scores_recall: 0.777 (0.231)\n"
          ]
        }
      ]
    },
    {
      "cell_type": "code",
      "source": [
        "#precision\n",
        "\n",
        "from numpy import mean\n",
        "from numpy import std\n",
        "from sklearn.model_selection import KFold\n",
        "from sklearn.model_selection import cross_val_score\n",
        "import warnings\n",
        "warnings.filterwarnings('ignore')\n",
        "\n",
        "cv = KFold(n_splits=10)#, random_state=42, shuffle=True\n",
        "scores_precision = cross_val_score(svclassifier, X, y, scoring='precision', cv=cv)#,n_jobs=-1\n",
        "\n",
        "print('scores_precision: %.3f (%.3f)' % (mean(scores_precision), std(scores_precision)))"
      ],
      "metadata": {
        "colab": {
          "base_uri": "https://localhost:8080/"
        },
        "id": "AwAmn4alrqhd",
        "outputId": "acd4a593-451b-47ef-90c3-91a59851c152"
      },
      "execution_count": 16,
      "outputs": [
        {
          "output_type": "stream",
          "name": "stdout",
          "text": [
            "scores_precision: 0.992 (0.003)\n"
          ]
        }
      ]
    },
    {
      "cell_type": "code",
      "source": [
        "from sklearn.datasets import make_classification\n",
        "from sklearn.linear_model import LogisticRegression\n",
        "from sklearn.model_selection import train_test_split\n",
        "from matplotlib import pyplot\n",
        "from sklearn.metrics import roc_auc_score\n",
        "from sklearn.metrics import roc_curve\n",
        "import warnings\n",
        "warnings.filterwarnings('ignore')\n",
        "\n",
        "\n",
        "k=svm.LinearSVC(C=0.0001,random_state=42,max_iter=50000)#,max_iter=1000000\n",
        "k.fit(x_train, y_train)\n",
        "yhat = k._predict_proba_lr(x_test)\n",
        "pos_probs = yhat[:, 1]\n",
        "pyplot.plot([0, 1], [0, 1], linestyle='--')\n",
        "fpr, tpr, _ = roc_curve(y_test, pos_probs)\n",
        "pyplot.plot(fpr, tpr, marker='.', label='SVM')\n",
        "pyplot.xlabel('False Positive Rate')\n",
        "pyplot.ylabel('True Positive Rate')\n",
        "pyplot.legend()\n",
        "pyplot.show()\n",
        "roc_auc = roc_auc_score(y_test, pos_probs)\n",
        "print('\\n','Logistic ROC AUC %.3f' % roc_auc)"
      ],
      "metadata": {
        "colab": {
          "base_uri": "https://localhost:8080/",
          "height": 316
        },
        "id": "yRLUTLnrrsvS",
        "outputId": "995b302f-cb2f-4aaf-92f8-74ac66276ec5"
      },
      "execution_count": 17,
      "outputs": [
        {
          "output_type": "display_data",
          "data": {
            "image/png": "[encoded data removed]",
            "text/plain": [
              "<Figure size 432x288 with 1 Axes>"
            ]
          },
          "metadata": {
            "needs_background": "light"
          }
        },
        {
          "output_type": "stream",
          "name": "stdout",
          "text": [
            "\n",
            " Logistic ROC AUC 0.616\n"
          ]
        }
      ]
    },
    {
      "cell_type": "code",
      "source": [
        "#Importing required libraries\n",
        "from sklearn.model_selection import KFold \n",
        "from sklearn.datasets import load_breast_cancer\n",
        "from sklearn.linear_model import LogisticRegression\n",
        "from sklearn.metrics import accuracy_score\n",
        "from sklearn.metrics import confusion_matrix\n",
        "import warnings\n",
        "warnings.filterwarnings('ignore')\n",
        " \n",
        "#data = load_breast_cancer(as_frame = True)\n",
        "#df = result.frame\n",
        "#X = result.iloc[:,:-1]\n",
        "#y = result.iloc[:,-1]\n",
        " \n",
        "#Implementing cross validation\n",
        " \n",
        "#X = X.sample(frac = 1)\n",
        "#y= y.sample(frac = 1)\n",
        "kf = KFold(n_splits=10)#, random_state=None\n",
        "model = svm.LinearSVC(C=0.001,random_state=42,max_iter=50000)#(solver= 'liblinear')#,max_iter=1000000\n",
        " \n",
        "acc_score = list()\n",
        "res_tpr = list()\n",
        "res_fpr = list()\n",
        "for train_index , test_index in kf.split(X):\n",
        "    #X_train , X_test = X.iloc[train_index,:],X.iloc[test_index,:]\n",
        "    #y_train , y_test = y[train_index] , y[test_index]\n",
        "    X_train, X_test, y_train, y_test = train_test_split(X, y, test_size=0.3)\n",
        "    model.fit(X_train,y_train)\n",
        "    pred_values = model.predict(X_test)\n",
        "    tn, fp, fn, tp = confusion_matrix(y_test, pred_values, labels=[0, 1]).ravel()\n",
        "    print(f'True Positives: {tp}')\n",
        "    print(f'False Positives: {fp}')\n",
        "    print(f'True Negatives: {tn}')\n",
        "    print(f'False Negatives: {fn}')\n",
        "    tpr=(np.divide(tp,(tp+fn)))\n",
        "    fpr=(np.divide(fp,(fp+tn)))\n",
        "    if tp==0:\n",
        "      tpr=0\n",
        "    if fp==0:\n",
        "      fpr=0\n",
        "\n",
        "    print('fpr=%.3f' % (  mean(fpr)))#tpr=%.4f :mean(tpr),\n",
        "    print('x')\n",
        "    res_tpr.append(mean(tpr))\n",
        "    res_fpr.append(mean(fpr))\n",
        "    print('---------------------')\n",
        "\n",
        "    acc = accuracy_score(pred_values , y_test)\n",
        "    acc_score.append(acc)\n",
        "     \n",
        "avg_acc_score = np.sum(acc_score)/10\n",
        "total_tpr=np.sum(res_tpr)/10\n",
        "total_fpr=np.sum(res_fpr)/10\n",
        "print('\\n\\n',' total_fpr=%.3f' % (total_fpr))#total_tpr=%.4f )total_tpr,)"
      ],
      "metadata": {
        "colab": {
          "base_uri": "https://localhost:8080/"
        },
        "id": "Nj9omIXzrvsB",
        "outputId": "2209a3b0-6cc2-4fdf-f953-4aa966d7eedd"
      },
      "execution_count": null,
      "outputs": [
        {
          "output_type": "stream",
          "name": "stdout",
          "text": [
            "True Positives: 2974\n",
            "False Positives: 25\n",
            "True Negatives: 0\n",
            "False Negatives: 1\n",
            "fpr=1.000\n",
            "x\n",
            "---------------------\n",
            "True Positives: 2973\n",
            "False Positives: 26\n",
            "True Negatives: 0\n",
            "False Negatives: 1\n",
            "fpr=1.000\n",
            "x\n",
            "---------------------\n",
            "True Positives: 2977\n",
            "False Positives: 22\n",
            "True Negatives: 0\n",
            "False Negatives: 1\n",
            "fpr=1.000\n",
            "x\n",
            "---------------------\n",
            "True Positives: 2968\n",
            "False Positives: 31\n",
            "True Negatives: 0\n",
            "False Negatives: 1\n",
            "fpr=1.000\n",
            "x\n",
            "---------------------\n",
            "True Positives: 2968\n",
            "False Positives: 30\n",
            "True Negatives: 0\n",
            "False Negatives: 2\n",
            "fpr=1.000\n",
            "x\n",
            "---------------------\n",
            "True Positives: 2969\n",
            "False Positives: 29\n",
            "True Negatives: 0\n",
            "False Negatives: 2\n",
            "fpr=1.000\n",
            "x\n",
            "---------------------\n",
            "True Positives: 2970\n",
            "False Positives: 26\n",
            "True Negatives: 0\n",
            "False Negatives: 4\n",
            "fpr=1.000\n",
            "x\n",
            "---------------------\n",
            "True Positives: 2977\n",
            "False Positives: 21\n",
            "True Negatives: 0\n",
            "False Negatives: 2\n",
            "fpr=1.000\n",
            "x\n",
            "---------------------\n"
          ]
        }
      ]
    }
  ]
}