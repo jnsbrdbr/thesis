{
  "cells": [
    {
      "cell_type": "markdown",
      "metadata": {
        "id": "view-in-github",
        "colab_type": "text"
      },
      "source": [
        "<a href=\"https://colab.research.google.com/github/jnsbrdbr/thesis/blob/thesis/part7_TGan.ipynb\" target=\"_parent\"><img src=\"https://colab.research.google.com/assets/colab-badge.svg\" alt=\"Open In Colab\"/></a>"
      ]
    },
    {
      "cell_type": "code",
      "execution_count": 1,
      "metadata": {
        "colab": {
          "base_uri": "https://localhost:8080/"
        },
        "id": "j70DTmCCYMm3",
        "outputId": "31d384ad-a7f1-4737-fa9e-f6570c0c0d1a"
      },
      "outputs": [
        {
          "output_type": "stream",
          "name": "stdout",
          "text": [
            "`%tensorflow_version` only switches the major version: 1.x or 2.x.\n",
            "You set: `2.x  # Colab only.`. This will be interpreted as: `2.x`.\n",
            "\n",
            "\n",
            "TensorFlow 2.x selected.\n",
            "2.8.0\n"
          ]
        }
      ],
      "source": [
        "# Install TensorFlow\n",
        "# !pip install -q tensorflow-gpu==2.0.0-rc0\n",
        "\n",
        "try:\n",
        "  %tensorflow_version 2.x  # Colab only.\n",
        "except Exception:\n",
        "  pass\n",
        "\n",
        "import tensorflow as tf\n",
        "print(tf.__version__)"
      ]
    },
    {
      "cell_type": "code",
      "execution_count": 2,
      "metadata": {
        "id": "7i01N6ZIYXzE"
      },
      "outputs": [],
      "source": [
        "import keras\n",
        "from keras.layers import Input, Dense, Activation, LeakyReLU, BatchNormalization\n",
        "from keras.models import Sequential\n",
        "from tensorflow.keras.optimizers import Adam\n",
        "from sklearn.model_selection import train_test_split\n",
        "from tensorflow.keras.models import Model\n",
        "import keras.backend as K\n",
        "import numpy as np\n",
        "import pandas as pd\n",
        "import matplotlib.pyplot as plt\n",
        "import sys, os\n",
        "\n",
        "%matplotlib inline"
      ]
    },
    {
      "cell_type": "code",
      "execution_count": 3,
      "metadata": {
        "colab": {
          "base_uri": "https://localhost:8080/"
        },
        "id": "ThkdPVsmYauJ",
        "outputId": "a5d71029-e02e-482b-ddd8-c724ea9b7258"
      },
      "outputs": [
        {
          "output_type": "stream",
          "name": "stdout",
          "text": [
            "Mounted at /content/drive\n"
          ]
        }
      ],
      "source": [
        "from google.colab import drive\n",
        "drive.mount('/content/drive') "
      ]
    },
    {
      "cell_type": "code",
      "execution_count": 4,
      "metadata": {
        "colab": {
          "base_uri": "https://localhost:8080/"
        },
        "id": "5hfNf56TYyWQ",
        "outputId": "74301db1-9874-4627-d236-95c324f05a03"
      },
      "outputs": [
        {
          "output_type": "stream",
          "name": "stdout",
          "text": [
            "Collecting pickle5\n",
            "  Downloading pickle5-0.0.12-cp37-cp37m-manylinux_2_5_x86_64.manylinux1_x86_64.whl (256 kB)\n",
            "\u001b[?25l\r\u001b[K     |█▎                              | 10 kB 18.4 MB/s eta 0:00:01\r\u001b[K     |██▋                             | 20 kB 11.3 MB/s eta 0:00:01\r\u001b[K     |███▉                            | 30 kB 9.4 MB/s eta 0:00:01\r\u001b[K     |█████▏                          | 40 kB 8.5 MB/s eta 0:00:01\r\u001b[K     |██████▍                         | 51 kB 4.6 MB/s eta 0:00:01\r\u001b[K     |███████▊                        | 61 kB 5.4 MB/s eta 0:00:01\r\u001b[K     |█████████                       | 71 kB 5.4 MB/s eta 0:00:01\r\u001b[K     |██████████▎                     | 81 kB 4.2 MB/s eta 0:00:01\r\u001b[K     |███████████▌                    | 92 kB 4.6 MB/s eta 0:00:01\r\u001b[K     |████████████▉                   | 102 kB 5.1 MB/s eta 0:00:01\r\u001b[K     |██████████████                  | 112 kB 5.1 MB/s eta 0:00:01\r\u001b[K     |███████████████▍                | 122 kB 5.1 MB/s eta 0:00:01\r\u001b[K     |████████████████▋               | 133 kB 5.1 MB/s eta 0:00:01\r\u001b[K     |██████████████████              | 143 kB 5.1 MB/s eta 0:00:01\r\u001b[K     |███████████████████▏            | 153 kB 5.1 MB/s eta 0:00:01\r\u001b[K     |████████████████████▌           | 163 kB 5.1 MB/s eta 0:00:01\r\u001b[K     |█████████████████████▊          | 174 kB 5.1 MB/s eta 0:00:01\r\u001b[K     |███████████████████████         | 184 kB 5.1 MB/s eta 0:00:01\r\u001b[K     |████████████████████████▎       | 194 kB 5.1 MB/s eta 0:00:01\r\u001b[K     |█████████████████████████▋      | 204 kB 5.1 MB/s eta 0:00:01\r\u001b[K     |██████████████████████████▉     | 215 kB 5.1 MB/s eta 0:00:01\r\u001b[K     |████████████████████████████▏   | 225 kB 5.1 MB/s eta 0:00:01\r\u001b[K     |█████████████████████████████▍  | 235 kB 5.1 MB/s eta 0:00:01\r\u001b[K     |██████████████████████████████▊ | 245 kB 5.1 MB/s eta 0:00:01\r\u001b[K     |████████████████████████████████| 256 kB 5.1 MB/s eta 0:00:01\r\u001b[K     |████████████████████████████████| 256 kB 5.1 MB/s \n",
            "\u001b[?25hInstalling collected packages: pickle5\n",
            "Successfully installed pickle5-0.0.12\n"
          ]
        }
      ],
      "source": [
        "!pip3 install pickle5\n",
        "import pickle5 as pickle"
      ]
    },
    {
      "cell_type": "code",
      "execution_count": 5,
      "metadata": {
        "id": "Z2blfCcpYkug"
      },
      "outputs": [],
      "source": [
        "with open('/content/drive/MyDrive/10000/Tresult.pkl', \"rb\") as fh:\n",
        "  result = pickle.load(fh)"
      ]
    },
    {
      "cell_type": "code",
      "execution_count": 6,
      "metadata": {
        "colab": {
          "base_uri": "https://localhost:8080/"
        },
        "id": "m0lk-Uz1Y2yl",
        "outputId": "44868dcc-a256-409a-8fc8-e609c1eaf0a3"
      },
      "outputs": [
        {
          "output_type": "stream",
          "name": "stdout",
          "text": [
            "              0         1          2  ...         8         9  label\n",
            "0     -2.231665 -3.223353  -0.847867  ... -0.068575 -0.230930      1\n",
            "1     -2.231665 -3.223353  -0.847867  ... -0.068575 -0.230930      1\n",
            "2     -2.231665 -3.223353  -0.847867  ... -0.068575 -0.230930      1\n",
            "3     -2.231665 -3.223353  -0.847867  ... -0.068575 -0.230930      1\n",
            "4     -2.231871 -3.223762  -0.848254  ...  0.048557  0.160622      1\n",
            "...         ...       ...        ...  ...       ...       ...    ...\n",
            "13209 -2.231665 -3.223353  -0.847867  ...  0.046943  0.150109      0\n",
            "13210 -2.857167 -4.505172  18.597988  ... -0.129873 -0.451315      0\n",
            "13211 -2.231665 -3.223353  -0.847867  ...  0.063843  0.211098      0\n",
            "13212 -2.231665 -3.223353  -0.847867  ...  0.063843  0.211097      0\n",
            "13213 -2.231665 -3.223353  -0.847867  ...  0.013998  0.046459      0\n",
            "\n",
            "[13214 rows x 101 columns]\n"
          ]
        }
      ],
      "source": [
        "#final data\n",
        "print(result)"
      ]
    },
    {
      "cell_type": "code",
      "execution_count": 7,
      "metadata": {
        "id": "QKmLf4jlY6LZ"
      },
      "outputs": [],
      "source": [
        "#divide data in to data_label and non_data label\n",
        "\n",
        "import copy\n",
        "result_nonlabel=copy.deepcopy(result)\n",
        "del result_nonlabel['label']\n",
        "X=result_nonlabel\n",
        "y=result.label"
      ]
    },
    {
      "cell_type": "code",
      "execution_count": 8,
      "metadata": {
        "id": "XqPz3htaY8ZG"
      },
      "outputs": [],
      "source": [
        "#splitting data in to test and train...\n",
        "\n",
        "from sklearn.model_selection import train_test_split\n",
        "X_train, X_test, y_train, y_test = train_test_split(X, y ,random_state=42,test_size=0.3)#"
      ]
    },
    {
      "cell_type": "code",
      "execution_count": 9,
      "metadata": {
        "colab": {
          "base_uri": "https://localhost:8080/"
        },
        "id": "vmtUmOHcY-ZD",
        "outputId": "d7ac5393-1b93-43de-d6eb-27660d6e7889"
      },
      "outputs": [
        {
          "output_type": "stream",
          "name": "stdout",
          "text": [
            "shape of x_train is: (9249, 100)\n",
            "shape of x_test is: (3965, 100)\n"
          ]
        }
      ],
      "source": [
        "print('shape of x_train is:',X_train.shape)\n",
        "print('shape of x_test is:',X_test.shape)"
      ]
    },
    {
      "cell_type": "code",
      "execution_count": 10,
      "metadata": {
        "id": "4l1ZAOeBZGSw"
      },
      "outputs": [],
      "source": [
        "def make_latent_samples(n_samples, sample_size):\n",
        "    #return np.random.uniform(-1, 1, size=(n_samples, sample_size))\n",
        "    return np.random.normal(loc=0, scale=1, size=(n_samples, sample_size))"
      ]
    },
    {
      "cell_type": "code",
      "execution_count": 11,
      "metadata": {
        "colab": {
          "base_uri": "https://localhost:8080/"
        },
        "id": "ekh00To4ZHnF",
        "outputId": "8707ac15-f7dd-46a9-a3b4-0d6faa3b4ec7"
      },
      "outputs": [
        {
          "output_type": "execute_result",
          "data": {
            "text/plain": [
              "array([[ 1.18420416, -1.06675194,  0.58816291,  0.24609459, -0.23525952,\n",
              "        -0.82964129, -0.82004766,  0.98777229,  2.28255446,  1.0725971 ,\n",
              "         0.14359282, -0.97170062,  0.38765227,  0.78251772,  0.07561286,\n",
              "        -0.26805256,  0.22145372,  0.37413115,  0.37414367, -0.80198546,\n",
              "         0.39561272,  0.2247013 ,  0.93504786,  0.75571213,  0.33508225,\n",
              "        -0.98234316, -0.78683321,  0.1353941 ,  1.10646159,  0.17242266,\n",
              "        -0.49579786, -0.81816207, -0.24429544, -2.234923  , -1.1640056 ,\n",
              "        -0.06660305,  0.0371494 ,  0.27801591,  0.7954723 ,  0.70060434,\n",
              "         0.35175455,  1.74493306, -0.70639615, -0.09300478,  0.47183606,\n",
              "         1.18366569, -0.17297846, -0.26841002, -0.32174465, -0.42782852,\n",
              "         0.90403092,  1.41500485, -2.08350663,  0.19634855,  0.16894469,\n",
              "         1.66360129, -0.85961928, -0.01940469, -0.31934152, -1.43302744,\n",
              "         0.57608053, -2.74427569,  0.51951003,  1.18912672,  0.32540847,\n",
              "        -0.24703661,  0.07594103, -0.19268473, -0.50433544,  0.83528333,\n",
              "        -2.05485284,  1.30343449,  2.38219454,  1.44828004,  1.52541938,\n",
              "         1.17558277, -0.03954462,  1.93604582, -0.09169574, -0.69622746,\n",
              "         0.6855711 ,  0.64535545,  0.53023173,  1.84273533, -0.71334943,\n",
              "         2.44895474,  1.30018403, -0.08038066, -0.94494736, -0.0512722 ,\n",
              "        -0.26667951,  1.04024176, -1.15639349,  0.31427573,  3.42776888,\n",
              "        -0.08162127,  0.71597243, -0.32741222, -1.77194054,  1.14968619,\n",
              "         0.60837786, -1.53436506, -1.16454129,  2.05801449,  0.68014833,\n",
              "        -1.08419724,  0.09052583,  1.27759905,  1.60264979, -1.72739841,\n",
              "         0.35232012, -0.49154427,  0.65473661,  0.33816357,  0.17176417,\n",
              "         0.77123114,  1.23036962, -0.96480017,  0.82331924, -1.36428005,\n",
              "        -0.31497076,  0.09856982, -0.69829136,  1.52183766, -0.21909732,\n",
              "         0.80002768, -1.5063957 , -1.05141446, -1.14116797,  1.34339773,\n",
              "         1.69469502, -0.4315794 ,  0.46182658, -1.639161  ,  0.16731913,\n",
              "        -0.87140534,  0.13514079,  0.64339306,  0.58507641,  0.12351686,\n",
              "        -1.02298661, -0.16984768,  0.04614284,  0.94137471, -1.01158291,\n",
              "         0.12781915, -0.04400119,  1.01540328, -0.41767716, -0.12550639,\n",
              "         1.54552611, -0.02695567,  1.13767709, -0.97096968,  0.67093268,\n",
              "         0.74237022,  0.03547195, -0.27394395, -1.43378362,  0.03941065,\n",
              "         0.39063356,  0.79275807,  0.79022865,  0.33792484, -1.51836121,\n",
              "         0.73513269,  0.3132776 ,  1.36369655,  1.07523214, -0.94565784,\n",
              "        -0.23422411,  1.84996098, -1.04106009, -0.3776974 , -0.15313563,\n",
              "         1.24535897,  0.10514368,  1.04357887, -0.22552439,  1.45317016,\n",
              "        -0.90774559, -0.91505488, -1.43700167,  0.79014338,  0.24504032,\n",
              "        -0.24618635,  0.76628335, -0.31598375,  1.17000772,  0.18427256,\n",
              "         0.340588  , -0.364156  ,  0.39482683, -2.48753563,  1.43303141,\n",
              "         1.50596873, -0.86021188,  2.00575126, -2.22303797, -1.47032516,\n",
              "        -0.85914813,  0.47041648, -0.94512163, -1.20749307,  1.11982247,\n",
              "         0.51391141, -2.01757359,  0.34294555, -0.70676388,  1.45620824,\n",
              "        -0.31088163, -0.06376547,  0.09204715, -0.07973915, -0.92717649,\n",
              "        -0.10420906,  0.33384465, -1.77677652, -0.55095144, -2.47217965,\n",
              "         0.2543599 , -0.47357151, -0.23824659, -2.43695645,  1.19216744,\n",
              "        -1.52603578,  1.58086733, -0.36845686, -0.59477397,  0.27497168,\n",
              "         0.17415187, -2.57511385, -0.72626606,  1.16039676,  0.6671914 ,\n",
              "         0.49903946,  0.70843574, -0.41679821, -0.64559309, -0.2528594 ,\n",
              "         0.14546985, -0.60590092,  0.00420202, -0.23852627, -0.44139996,\n",
              "         0.4447406 , -0.65541991, -0.40370462,  0.85690205,  0.19486066,\n",
              "        -1.56139991,  1.22545871,  1.00971654, -0.24005743,  0.22311373,\n",
              "         1.56712685, -0.10328316, -0.23776259, -1.07930398, -1.02995254,\n",
              "         0.81688621, -0.60974498, -0.60578276, -0.47866178,  1.33776371,\n",
              "         1.39126447,  0.77267702, -0.10033347,  1.07460586,  0.32461382,\n",
              "         0.49171458,  2.65202816,  0.55446185, -0.38144219,  0.32256097,\n",
              "         0.42446114,  0.14312638,  0.98866826,  0.23957674,  0.06208323,\n",
              "         0.2542679 , -0.68436723, -1.15757454,  0.6616614 , -0.95270183,\n",
              "         0.52549525,  1.45518419, -1.17044475,  0.77516421, -0.64914649,\n",
              "         0.65968478, -0.10027534,  0.78713109, -0.37003572,  0.43018101,\n",
              "        -0.91844023, -0.39134329,  0.19104731,  0.41252864, -0.88738173]])"
            ]
          },
          "metadata": {},
          "execution_count": 11
        }
      ],
      "source": [
        "make_latent_samples(1, 300) # generates one sample"
      ]
    },
    {
      "cell_type": "code",
      "execution_count": 12,
      "metadata": {
        "colab": {
          "base_uri": "https://localhost:8080/"
        },
        "id": "6WhpSDsvthq9",
        "outputId": "32e4b42a-beb3-4f0a-ea27-cf49fe6caf0e"
      },
      "outputs": [
        {
          "output_type": "stream",
          "name": "stdout",
          "text": [
            "Model: \"generator\"\n",
            "_________________________________________________________________\n",
            " Layer (type)                Output Shape              Param #   \n",
            "=================================================================\n",
            " dense (Dense)               (None, 256)               77056     \n",
            "                                                                 \n",
            " leaky_re_lu (LeakyReLU)     (None, 256)               0         \n",
            "                                                                 \n",
            " dense_1 (Dense)             (None, 100)               25700     \n",
            "                                                                 \n",
            " activation (Activation)     (None, 100)               0         \n",
            "                                                                 \n",
            "=================================================================\n",
            "Total params: 102,756\n",
            "Trainable params: 102,756\n",
            "Non-trainable params: 0\n",
            "_________________________________________________________________\n"
          ]
        }
      ],
      "source": [
        "generator = Sequential([\n",
        "    Dense(256, input_shape=(300,)),\n",
        "    LeakyReLU(alpha=0.02),\n",
        "    #BatchNormalization(momentum=0.6),\n",
        "    #Dense(512),\n",
        "    #LeakyReLU(alpha=0.02),\n",
        "    #BatchNormalization(momentum=0.6),\n",
        "    #Dense(256),\n",
        "    #LeakyReLU(alpha=0.02),\n",
        "    #BatchNormalization(momentum=0.6),\n",
        "    #Dense(128),\n",
        "    #LeakyReLU(alpha=0.02),\n",
        "    #BatchNormalization(momentum=0.6),\n",
        "    Dense(100),\n",
        "    Activation('tanh')\n",
        "], name='generator')\n",
        "\n",
        "generator.summary()"
      ]
    },
    {
      "cell_type": "code",
      "execution_count": 13,
      "metadata": {
        "colab": {
          "base_uri": "https://localhost:8080/"
        },
        "id": "ifDOM8XEtpTu",
        "outputId": "1d7a6aea-3263-443c-d139-001df1eb0c1e"
      },
      "outputs": [
        {
          "output_type": "stream",
          "name": "stdout",
          "text": [
            "Model: \"discriminator\"\n",
            "_________________________________________________________________\n",
            " Layer (type)                Output Shape              Param #   \n",
            "=================================================================\n",
            " dense_2 (Dense)             (None, 128)               12928     \n",
            "                                                                 \n",
            " leaky_re_lu_1 (LeakyReLU)   (None, 128)               0         \n",
            "                                                                 \n",
            " dense_3 (Dense)             (None, 64)                8256      \n",
            "                                                                 \n",
            " leaky_re_lu_2 (LeakyReLU)   (None, 64)                0         \n",
            "                                                                 \n",
            " dense_4 (Dense)             (None, 32)                2080      \n",
            "                                                                 \n",
            " leaky_re_lu_3 (LeakyReLU)   (None, 32)                0         \n",
            "                                                                 \n",
            " dense_5 (Dense)             (None, 1)                 33        \n",
            "                                                                 \n",
            " activation_1 (Activation)   (None, 1)                 0         \n",
            "                                                                 \n",
            "=================================================================\n",
            "Total params: 23,297\n",
            "Trainable params: 23,297\n",
            "Non-trainable params: 0\n",
            "_________________________________________________________________\n"
          ]
        }
      ],
      "source": [
        "discriminator = Sequential([\n",
        "    Dense(128, input_shape=(100,)),\n",
        "    LeakyReLU(alpha=0.02),\n",
        "    #(momentum=0.6),\n",
        "    Dense(64),\n",
        "    LeakyReLU(alpha=0.02),\n",
        "    #BatchNormalization(momentum=0.6),\n",
        "    Dense(32),\n",
        "    LeakyReLU(alpha=0.02),\n",
        "    #BatchNormalization(momentum=0.6),\n",
        "    #Dense(16),\n",
        "    #LeakyReLU(alpha=0.02),\n",
        "    #BatchNormalization(momentum=0.6),\n",
        "    #Dense(8),\n",
        "    #LeakyReLU(alpha=0.02),\n",
        "    #BatchNormalization(momentum=0.6),\n",
        "    Dense(1),\n",
        "    Activation('sigmoid')\n",
        "], name='discriminator')\n",
        "\n",
        "discriminator.summary()"
      ]
    },
    {
      "cell_type": "code",
      "execution_count": 14,
      "metadata": {
        "colab": {
          "base_uri": "https://localhost:8080/"
        },
        "id": "xBOAGHy9tstz",
        "outputId": "3dc792fe-34e8-41ea-a2d2-e42f92077ddf"
      },
      "outputs": [
        {
          "output_type": "stream",
          "name": "stdout",
          "text": [
            "Model: \"sequential\"\n",
            "_________________________________________________________________\n",
            " Layer (type)                Output Shape              Param #   \n",
            "=================================================================\n",
            " generator (Sequential)      (None, 100)               102756    \n",
            "                                                                 \n",
            " discriminator (Sequential)  (None, 1)                 23297     \n",
            "                                                                 \n",
            "=================================================================\n",
            "Total params: 126,053\n",
            "Trainable params: 126,053\n",
            "Non-trainable params: 0\n",
            "_________________________________________________________________\n"
          ]
        }
      ],
      "source": [
        "# maintain the same shared weights with the generator and the discriminator.\n",
        "gan = Sequential([\n",
        "    generator,\n",
        "    discriminator\n",
        "])\n",
        "\n",
        "gan.summary()"
      ]
    },
    {
      "cell_type": "code",
      "execution_count": 15,
      "metadata": {
        "id": "Bx2JFuiLtx1E"
      },
      "outputs": [],
      "source": [
        "def make_trainable(model, trainable):\n",
        "    for layer in model.layers:\n",
        "        layer.trainable = trainable"
      ]
    },
    {
      "cell_type": "code",
      "execution_count": 16,
      "metadata": {
        "colab": {
          "base_uri": "https://localhost:8080/"
        },
        "id": "X4hA_QQFtzxF",
        "outputId": "a7e1d3b2-8826-42e3-8147-9966cd740ff9"
      },
      "outputs": [
        {
          "output_type": "stream",
          "name": "stdout",
          "text": [
            "Model: \"discriminator\"\n",
            "_________________________________________________________________\n",
            " Layer (type)                Output Shape              Param #   \n",
            "=================================================================\n",
            " dense_2 (Dense)             (None, 128)               12928     \n",
            "                                                                 \n",
            " leaky_re_lu_1 (LeakyReLU)   (None, 128)               0         \n",
            "                                                                 \n",
            " dense_3 (Dense)             (None, 64)                8256      \n",
            "                                                                 \n",
            " leaky_re_lu_2 (LeakyReLU)   (None, 64)                0         \n",
            "                                                                 \n",
            " dense_4 (Dense)             (None, 32)                2080      \n",
            "                                                                 \n",
            " leaky_re_lu_3 (LeakyReLU)   (None, 32)                0         \n",
            "                                                                 \n",
            " dense_5 (Dense)             (None, 1)                 33        \n",
            "                                                                 \n",
            " activation_1 (Activation)   (None, 1)                 0         \n",
            "                                                                 \n",
            "=================================================================\n",
            "Total params: 23,297\n",
            "Trainable params: 0\n",
            "Non-trainable params: 23,297\n",
            "_________________________________________________________________\n"
          ]
        }
      ],
      "source": [
        "make_trainable(discriminator, False)\n",
        "discriminator.summary()"
      ]
    },
    {
      "cell_type": "code",
      "execution_count": 17,
      "metadata": {
        "colab": {
          "base_uri": "https://localhost:8080/"
        },
        "id": "X2qL4BJ6t1Rr",
        "outputId": "730cc250-9e78-43f8-c069-c1c710a4963f"
      },
      "outputs": [
        {
          "output_type": "stream",
          "name": "stdout",
          "text": [
            "Model: \"discriminator\"\n",
            "_________________________________________________________________\n",
            " Layer (type)                Output Shape              Param #   \n",
            "=================================================================\n",
            " dense_2 (Dense)             (None, 128)               12928     \n",
            "                                                                 \n",
            " leaky_re_lu_1 (LeakyReLU)   (None, 128)               0         \n",
            "                                                                 \n",
            " dense_3 (Dense)             (None, 64)                8256      \n",
            "                                                                 \n",
            " leaky_re_lu_2 (LeakyReLU)   (None, 64)                0         \n",
            "                                                                 \n",
            " dense_4 (Dense)             (None, 32)                2080      \n",
            "                                                                 \n",
            " leaky_re_lu_3 (LeakyReLU)   (None, 32)                0         \n",
            "                                                                 \n",
            " dense_5 (Dense)             (None, 1)                 33        \n",
            "                                                                 \n",
            " activation_1 (Activation)   (None, 1)                 0         \n",
            "                                                                 \n",
            "=================================================================\n",
            "Total params: 23,297\n",
            "Trainable params: 23,297\n",
            "Non-trainable params: 0\n",
            "_________________________________________________________________\n"
          ]
        }
      ],
      "source": [
        "make_trainable(discriminator, True)\n",
        "discriminator.summary()"
      ]
    },
    {
      "cell_type": "code",
      "execution_count": 18,
      "metadata": {
        "id": "6AdYzOnguNYG"
      },
      "outputs": [],
      "source": [
        "def make_simple_GAN(sample_size, \n",
        "                    g_hidden_size_1,\n",
        "                    g_hidden_size_2,\n",
        "                    g_hidden_size_3,\n",
        "                    g_hidden_size_4,\n",
        "                    d_hidden_size_1,\n",
        "                    d_hidden_size_2, \n",
        "                    d_hidden_size_3,\n",
        "                    d_hidden_size_4,\n",
        "                    d_hidden_size_5,\n",
        "                    leaky_alpha, \n",
        "                    g_learning_rate,\n",
        "                    d_learning_rate):\n",
        "    K.clear_session()\n",
        "    \n",
        "    generator = Sequential([\n",
        "        Dense(g_hidden_size_1, input_shape=(sample_size,)),\n",
        "        LeakyReLU(alpha=leaky_alpha),\n",
        "        #BatchNormalization(momentum=0.6),\n",
        "        #Dense(g_hidden_size_2),\n",
        "        #LeakyReLU(alpha=leaky_alpha),\n",
        "        #BatchNormalization(momentum=0.6),\n",
        "        #Dense(g_hidden_size_3),\n",
        "        #LeakyReLU(alpha=leaky_alpha),\n",
        "        #BatchNormalization(momentum=0.6),\n",
        "        #Dense(g_hidden_size_4),\n",
        "        #LeakyReLU(alpha=leaky_alpha),\n",
        "        #BatchNormalization(momentum=0.6),\n",
        "        Dense(100),        \n",
        "        Activation('tanh')\n",
        "    ], name='generator')    \n",
        "\n",
        "    discriminator = Sequential([\n",
        "        Dense(d_hidden_size_1, input_shape=(100,)),\n",
        "        LeakyReLU(alpha=leaky_alpha),\n",
        "        #BatchNormalization(momentum=0.6),\n",
        "        Dense(d_hidden_size_2),\n",
        "        LeakyReLU(alpha=leaky_alpha),\n",
        "        #BatchNormalization(momentum=0.6),\n",
        "        Dense(d_hidden_size_3),\n",
        "        LeakyReLU(alpha=leaky_alpha),\n",
        "        #BatchNormalization(momentum=0.6),\n",
        "        #Dense(d_hidden_size_4),\n",
        "        #LeakyReLU(alpha=leaky_alpha),\n",
        "        #BatchNormalization(momentum=0.6),\n",
        "        #Dense(d_hidden_size_5),\n",
        "        #LeakyReLU(alpha=leaky_alpha),\n",
        "        #BatchNormalization(momentum=0.6),\n",
        "        Dense(1),\n",
        "        Activation('sigmoid')\n",
        "    ], name='discriminator')    \n",
        "    \n",
        "    gan = Sequential([\n",
        "        generator,\n",
        "        discriminator\n",
        "    ])\n",
        "    \n",
        "    discriminator.compile(optimizer=Adam(lr=d_learning_rate), loss='binary_crossentropy')\n",
        "    gan.compile(optimizer=Adam(lr=g_learning_rate), loss='binary_crossentropy')\n",
        "    \n",
        "    return gan, generator, discriminator "
      ]
    },
    {
      "cell_type": "code",
      "execution_count": 19,
      "metadata": {
        "id": "mYPaeZWCuQcN"
      },
      "outputs": [],
      "source": [
        "from sklearn import preprocessing\n",
        "def preprocess(x):\n",
        "   x = preprocessing.scale(x)\n",
        "   return x"
      ]
    },
    {
      "cell_type": "code",
      "execution_count": 20,
      "metadata": {
        "id": "ECK1ZNgvuUDE"
      },
      "outputs": [],
      "source": [
        "X_train_real = np.array(preprocess(X_train))\n",
        "X_test_real  = np.array(preprocess(X_test))"
      ]
    },
    {
      "cell_type": "code",
      "execution_count": 21,
      "metadata": {
        "id": "IEehFs-uuWu-"
      },
      "outputs": [],
      "source": [
        "while(False):\n",
        "\n",
        "  def deprocess(x):\n",
        "    x = (x / 2 + 1) * 7454.516836076623\n",
        "    x = np.clip(x, -127.3838709715454, 7454.516836076623)\n",
        "    x = np.uint8(x)\n",
        "    x = x.reshape(-1, 70)\n",
        "    return x"
      ]
    },
    {
      "cell_type": "code",
      "execution_count": 22,
      "metadata": {
        "id": "pkBEmfCuuZVn"
      },
      "outputs": [],
      "source": [
        "def make_labels(size):\n",
        "    return np.ones([size, 1]), np.zeros([size, 1])"
      ]
    },
    {
      "cell_type": "code",
      "execution_count": 23,
      "metadata": {
        "colab": {
          "base_uri": "https://localhost:8080/"
        },
        "id": "fRn7LdmDub8I",
        "outputId": "1842cb40-f20e-4932-8981-a856a3976dcb"
      },
      "outputs": [
        {
          "output_type": "execute_result",
          "data": {
            "text/plain": [
              "(array([[1.],\n",
              "        [1.],\n",
              "        [1.],\n",
              "        [1.],\n",
              "        [1.],\n",
              "        [1.],\n",
              "        [1.],\n",
              "        [1.],\n",
              "        [1.],\n",
              "        [1.]]), array([[0.],\n",
              "        [0.],\n",
              "        [0.],\n",
              "        [0.],\n",
              "        [0.],\n",
              "        [0.],\n",
              "        [0.],\n",
              "        [0.],\n",
              "        [0.],\n",
              "        [0.]]))"
            ]
          },
          "metadata": {},
          "execution_count": 23
        }
      ],
      "source": [
        "y_real_10, y_fake_10 = make_labels(10)\n",
        "\n",
        "y_real_10, y_fake_10"
      ]
    },
    {
      "cell_type": "code",
      "execution_count": 24,
      "metadata": {
        "id": "lCK87MXyue6-"
      },
      "outputs": [],
      "source": [
        "# hyperparameters\n",
        "sample_size     = 300     # latent sample size (i.e., 100 random numbers)\n",
        "g_hidden_size_1 = 256\n",
        "g_hidden_size_2 = 0\n",
        "g_hidden_size_3 = 0\n",
        "g_hidden_size_4 = 0\n",
        "d_hidden_size_1 = 128\n",
        "d_hidden_size_2 = 64\n",
        "d_hidden_size_3 = 32\n",
        "d_hidden_size_4 = 16\n",
        "d_hidden_size_5 = 8\n",
        "leaky_alpha     = 0.02\n",
        "g_learning_rate = 0.0001  # learning rate for the generator\n",
        "d_learning_rate = 0.001   # learning rate for the discriminator\n",
        "epochs          = 150\n",
        "batch_size      = 64      # train batch size\n",
        "eval_size       = 16      # evaluate size\n",
        "smooth          = 0.1\n"
      ]
    },
    {
      "cell_type": "code",
      "execution_count": 25,
      "metadata": {
        "colab": {
          "base_uri": "https://localhost:8080/"
        },
        "id": "Tuk6T1qqujjW",
        "outputId": "4ebe39c0-30f4-48c0-a7d1-ed3b000a91f1"
      },
      "outputs": [
        {
          "output_type": "stream",
          "name": "stderr",
          "text": [
            "/usr/local/lib/python3.7/dist-packages/keras/optimizer_v2/adam.py:105: UserWarning: The `lr` argument is deprecated, use `learning_rate` instead.\n",
            "  super(Adam, self).__init__(name, **kwargs)\n"
          ]
        },
        {
          "output_type": "stream",
          "name": "stdout",
          "text": [
            "Epoch:   1/150 Discriminator Loss: 0.4578 Generator Loss: 2.2190 \n",
            "Epoch:   2/150 Discriminator Loss: 0.4620 Generator Loss: 3.7440 \n",
            "Epoch:   3/150 Discriminator Loss: 0.1548 Generator Loss: 4.1563 \n",
            "Epoch:   4/150 Discriminator Loss: 0.1929 Generator Loss: 4.7985 \n",
            "Epoch:   5/150 Discriminator Loss: 0.1411 Generator Loss: 4.8723 \n",
            "Epoch:   6/150 Discriminator Loss: 0.2332 Generator Loss: 5.3517 \n",
            "Epoch:   7/150 Discriminator Loss: 0.1946 Generator Loss: 5.5594 \n",
            "Epoch:   8/150 Discriminator Loss: 0.1143 Generator Loss: 6.1581 \n",
            "Epoch:   9/150 Discriminator Loss: 0.1443 Generator Loss: 5.2806 \n",
            "Epoch:  10/150 Discriminator Loss: 1.0909 Generator Loss: 6.2030 \n",
            "Epoch:  11/150 Discriminator Loss: 0.2067 Generator Loss: 7.1862 \n",
            "Epoch:  12/150 Discriminator Loss: 0.1278 Generator Loss: 7.2577 \n",
            "Epoch:  13/150 Discriminator Loss: 0.1285 Generator Loss: 6.9460 \n",
            "Epoch:  14/150 Discriminator Loss: 0.8077 Generator Loss: 7.4593 \n",
            "Epoch:  15/150 Discriminator Loss: 0.2668 Generator Loss: 8.1676 \n",
            "Epoch:  16/150 Discriminator Loss: 0.1161 Generator Loss: 8.2174 \n",
            "Epoch:  17/150 Discriminator Loss: 0.1129 Generator Loss: 8.2407 \n",
            "Epoch:  18/150 Discriminator Loss: 0.1300 Generator Loss: 8.3362 \n",
            "Epoch:  19/150 Discriminator Loss: 0.0906 Generator Loss: 8.6935 \n",
            "Epoch:  20/150 Discriminator Loss: 0.1130 Generator Loss: 8.6027 \n",
            "Epoch:  21/150 Discriminator Loss: 0.1269 Generator Loss: 8.3908 \n",
            "Epoch:  22/150 Discriminator Loss: 0.1243 Generator Loss: 8.4532 \n",
            "Epoch:  23/150 Discriminator Loss: 0.1152 Generator Loss: 7.9725 \n",
            "Epoch:  24/150 Discriminator Loss: 0.0951 Generator Loss: 8.7292 \n",
            "Epoch:  25/150 Discriminator Loss: 0.1487 Generator Loss: 6.9085 \n",
            "Epoch:  26/150 Discriminator Loss: 0.1239 Generator Loss: 11.3742 \n",
            "Epoch:  27/150 Discriminator Loss: 0.1919 Generator Loss: 9.6172 \n",
            "Epoch:  28/150 Discriminator Loss: 0.1874 Generator Loss: 9.5469 \n",
            "Epoch:  29/150 Discriminator Loss: 0.8175 Generator Loss: 9.2977 \n",
            "Epoch:  30/150 Discriminator Loss: 0.1286 Generator Loss: 8.1629 \n",
            "Epoch:  31/150 Discriminator Loss: 0.1256 Generator Loss: 10.0229 \n",
            "Epoch:  32/150 Discriminator Loss: 0.1132 Generator Loss: 10.4378 \n",
            "Epoch:  33/150 Discriminator Loss: 0.2834 Generator Loss: 11.0116 \n",
            "Epoch:  34/150 Discriminator Loss: 0.3925 Generator Loss: 9.0331 \n",
            "Epoch:  35/150 Discriminator Loss: 0.1296 Generator Loss: 10.3806 \n",
            "Epoch:  36/150 Discriminator Loss: 0.1644 Generator Loss: 10.1304 \n",
            "Epoch:  37/150 Discriminator Loss: 0.1173 Generator Loss: 10.2298 \n",
            "Epoch:  38/150 Discriminator Loss: 0.3873 Generator Loss: 11.6540 \n",
            "Epoch:  39/150 Discriminator Loss: 0.1284 Generator Loss: 9.6438 \n",
            "Epoch:  40/150 Discriminator Loss: 0.1084 Generator Loss: 14.3705 \n",
            "Epoch:  41/150 Discriminator Loss: 0.1064 Generator Loss: 10.8627 \n",
            "Epoch:  42/150 Discriminator Loss: 0.1150 Generator Loss: 8.8132 \n",
            "Epoch:  43/150 Discriminator Loss: 0.1325 Generator Loss: 11.1778 \n",
            "Epoch:  44/150 Discriminator Loss: 0.1227 Generator Loss: 10.3464 \n",
            "Epoch:  45/150 Discriminator Loss: 0.1474 Generator Loss: 11.8334 \n",
            "Epoch:  46/150 Discriminator Loss: 0.1162 Generator Loss: 9.3582 \n",
            "Epoch:  47/150 Discriminator Loss: 0.1190 Generator Loss: 14.8134 \n",
            "Epoch:  48/150 Discriminator Loss: 0.1281 Generator Loss: 12.0150 \n",
            "Epoch:  49/150 Discriminator Loss: 0.1067 Generator Loss: 9.2430 \n",
            "Epoch:  50/150 Discriminator Loss: 0.1054 Generator Loss: 9.5634 \n",
            "Epoch:  51/150 Discriminator Loss: 0.1078 Generator Loss: 9.3688 \n",
            "Epoch:  52/150 Discriminator Loss: 0.1063 Generator Loss: 10.7278 \n",
            "Epoch:  53/150 Discriminator Loss: 0.1010 Generator Loss: 11.7749 \n",
            "Epoch:  54/150 Discriminator Loss: 0.1073 Generator Loss: 11.1170 \n",
            "Epoch:  55/150 Discriminator Loss: 0.1110 Generator Loss: 11.0258 \n",
            "Epoch:  56/150 Discriminator Loss: 0.1233 Generator Loss: 8.9117 \n",
            "Epoch:  57/150 Discriminator Loss: 0.1241 Generator Loss: 9.4829 \n",
            "Epoch:  58/150 Discriminator Loss: 0.1073 Generator Loss: 15.2709 \n",
            "Epoch:  59/150 Discriminator Loss: 0.1067 Generator Loss: 10.3973 \n",
            "Epoch:  60/150 Discriminator Loss: 0.1052 Generator Loss: 9.9807 \n",
            "Epoch:  61/150 Discriminator Loss: 0.1059 Generator Loss: 9.5532 \n",
            "Epoch:  62/150 Discriminator Loss: 0.1035 Generator Loss: 11.6831 \n",
            "Epoch:  63/150 Discriminator Loss: 0.1010 Generator Loss: 12.1225 \n",
            "Epoch:  64/150 Discriminator Loss: 0.1017 Generator Loss: 10.8202 \n",
            "Epoch:  65/150 Discriminator Loss: 0.1049 Generator Loss: 10.1148 \n",
            "Epoch:  66/150 Discriminator Loss: 0.1023 Generator Loss: 13.8929 \n",
            "Epoch:  67/150 Discriminator Loss: 0.0948 Generator Loss: 10.9559 \n",
            "Epoch:  68/150 Discriminator Loss: 0.0920 Generator Loss: 9.5965 \n",
            "Epoch:  69/150 Discriminator Loss: 0.1116 Generator Loss: 10.0386 \n",
            "Epoch:  70/150 Discriminator Loss: 0.1050 Generator Loss: 10.0432 \n",
            "Epoch:  71/150 Discriminator Loss: 0.1068 Generator Loss: 10.8112 \n",
            "Epoch:  72/150 Discriminator Loss: 0.1176 Generator Loss: 10.5105 \n",
            "Epoch:  73/150 Discriminator Loss: 0.2144 Generator Loss: 10.3551 \n",
            "Epoch:  74/150 Discriminator Loss: 0.1059 Generator Loss: 8.9769 \n",
            "Epoch:  75/150 Discriminator Loss: 0.1039 Generator Loss: 9.4081 \n",
            "Epoch:  76/150 Discriminator Loss: 0.0949 Generator Loss: 13.7475 \n",
            "Epoch:  77/150 Discriminator Loss: 0.1070 Generator Loss: 10.3355 \n",
            "Epoch:  78/150 Discriminator Loss: 0.1018 Generator Loss: 9.6821 \n",
            "Epoch:  79/150 Discriminator Loss: 0.1668 Generator Loss: 12.5330 \n",
            "Epoch:  80/150 Discriminator Loss: 0.1147 Generator Loss: 10.9172 \n",
            "Epoch:  81/150 Discriminator Loss: 0.1093 Generator Loss: 11.5900 \n",
            "Epoch:  82/150 Discriminator Loss: 0.1014 Generator Loss: 12.8241 \n",
            "Epoch:  83/150 Discriminator Loss: 0.1656 Generator Loss: 12.1450 \n",
            "Epoch:  84/150 Discriminator Loss: 0.1019 Generator Loss: 8.8028 \n",
            "Epoch:  85/150 Discriminator Loss: 0.1044 Generator Loss: 10.6398 \n",
            "Epoch:  86/150 Discriminator Loss: 0.1078 Generator Loss: 11.9442 \n",
            "Epoch:  87/150 Discriminator Loss: 0.1775 Generator Loss: 9.7397 \n",
            "Epoch:  88/150 Discriminator Loss: 0.1076 Generator Loss: 12.0974 \n",
            "Epoch:  89/150 Discriminator Loss: 0.3534 Generator Loss: 9.1463 \n",
            "Epoch:  90/150 Discriminator Loss: 0.1503 Generator Loss: 12.7137 \n",
            "Epoch:  91/150 Discriminator Loss: 0.1063 Generator Loss: 10.3010 \n",
            "Epoch:  92/150 Discriminator Loss: 0.1008 Generator Loss: 9.5354 \n",
            "Epoch:  93/150 Discriminator Loss: 0.1053 Generator Loss: 10.0752 \n",
            "Epoch:  94/150 Discriminator Loss: 0.1074 Generator Loss: 11.0552 \n",
            "Epoch:  95/150 Discriminator Loss: 0.1103 Generator Loss: 8.5029 \n",
            "Epoch:  96/150 Discriminator Loss: 0.1149 Generator Loss: 8.8765 \n",
            "Epoch:  97/150 Discriminator Loss: 0.1137 Generator Loss: 8.7557 \n",
            "Epoch:  98/150 Discriminator Loss: 0.1116 Generator Loss: 10.0827 \n",
            "Epoch:  99/150 Discriminator Loss: 0.1196 Generator Loss: 9.5770 \n",
            "Epoch: 100/150 Discriminator Loss: 0.1339 Generator Loss: 9.2614 \n",
            "Epoch: 101/150 Discriminator Loss: 0.1158 Generator Loss: 11.3210 \n",
            "Epoch: 102/150 Discriminator Loss: 0.1067 Generator Loss: 10.6031 \n",
            "Epoch: 103/150 Discriminator Loss: 0.0995 Generator Loss: 13.7279 \n",
            "Epoch: 104/150 Discriminator Loss: 0.1518 Generator Loss: 9.3036 \n",
            "Epoch: 105/150 Discriminator Loss: 0.1053 Generator Loss: 10.0197 \n",
            "Epoch: 106/150 Discriminator Loss: 0.1129 Generator Loss: 8.8164 \n",
            "Epoch: 107/150 Discriminator Loss: 0.1084 Generator Loss: 11.1584 \n",
            "Epoch: 108/150 Discriminator Loss: 0.1196 Generator Loss: 8.8661 \n",
            "Epoch: 109/150 Discriminator Loss: 0.1191 Generator Loss: 8.7100 \n",
            "Epoch: 110/150 Discriminator Loss: 0.1124 Generator Loss: 11.1134 \n",
            "Epoch: 111/150 Discriminator Loss: 0.2267 Generator Loss: 11.0813 \n",
            "Epoch: 112/150 Discriminator Loss: 0.1046 Generator Loss: 12.6669 \n",
            "Epoch: 113/150 Discriminator Loss: 0.1166 Generator Loss: 10.4715 \n",
            "Epoch: 114/150 Discriminator Loss: 0.1138 Generator Loss: 13.4366 \n",
            "Epoch: 115/150 Discriminator Loss: 0.1051 Generator Loss: 12.7406 \n",
            "Epoch: 116/150 Discriminator Loss: 0.1015 Generator Loss: 8.5801 \n",
            "Epoch: 117/150 Discriminator Loss: 0.1040 Generator Loss: 9.9433 \n",
            "Epoch: 118/150 Discriminator Loss: 0.1045 Generator Loss: 9.5294 \n",
            "Epoch: 119/150 Discriminator Loss: 0.1019 Generator Loss: 8.5562 \n",
            "Epoch: 120/150 Discriminator Loss: 0.1639 Generator Loss: 10.5167 \n",
            "Epoch: 121/150 Discriminator Loss: 0.1017 Generator Loss: 8.2577 \n",
            "Epoch: 122/150 Discriminator Loss: 0.3956 Generator Loss: 10.9525 \n",
            "Epoch: 123/150 Discriminator Loss: 0.1077 Generator Loss: 12.4707 \n",
            "Epoch: 124/150 Discriminator Loss: 0.1056 Generator Loss: 11.1441 \n",
            "Epoch: 125/150 Discriminator Loss: 0.1071 Generator Loss: 10.2812 \n",
            "Epoch: 126/150 Discriminator Loss: 0.3365 Generator Loss: 10.3772 \n",
            "Epoch: 127/150 Discriminator Loss: 0.1016 Generator Loss: 10.3809 \n",
            "Epoch: 128/150 Discriminator Loss: 0.1066 Generator Loss: 9.0122 \n",
            "Epoch: 129/150 Discriminator Loss: 0.1005 Generator Loss: 10.0564 \n",
            "Epoch: 130/150 Discriminator Loss: 0.1034 Generator Loss: 8.9579 \n",
            "Epoch: 131/150 Discriminator Loss: 0.1072 Generator Loss: 9.7241 \n",
            "Epoch: 132/150 Discriminator Loss: 0.1060 Generator Loss: 11.8626 \n",
            "Epoch: 133/150 Discriminator Loss: 0.1058 Generator Loss: 9.5045 \n",
            "Epoch: 134/150 Discriminator Loss: 0.1066 Generator Loss: 11.8339 \n",
            "Epoch: 135/150 Discriminator Loss: 0.1023 Generator Loss: 9.3083 \n",
            "Epoch: 136/150 Discriminator Loss: 0.1082 Generator Loss: 11.6503 \n",
            "Epoch: 137/150 Discriminator Loss: 0.1061 Generator Loss: 10.5311 \n",
            "Epoch: 138/150 Discriminator Loss: 0.1027 Generator Loss: 10.3783 \n",
            "Epoch: 139/150 Discriminator Loss: 0.1098 Generator Loss: 10.8337 \n",
            "Epoch: 140/150 Discriminator Loss: 0.1048 Generator Loss: 9.3568 \n",
            "Epoch: 141/150 Discriminator Loss: 0.1078 Generator Loss: 9.4395 \n",
            "Epoch: 142/150 Discriminator Loss: 0.1050 Generator Loss: 9.0718 \n",
            "Epoch: 143/150 Discriminator Loss: 0.1122 Generator Loss: 9.1316 \n",
            "Epoch: 144/150 Discriminator Loss: 0.1031 Generator Loss: 11.3765 \n",
            "Epoch: 145/150 Discriminator Loss: 0.1093 Generator Loss: 9.2116 \n",
            "Epoch: 146/150 Discriminator Loss: 0.1057 Generator Loss: 10.2547 \n",
            "Epoch: 147/150 Discriminator Loss: 0.1082 Generator Loss: 9.4764 \n",
            "Epoch: 148/150 Discriminator Loss: 0.1198 Generator Loss: 9.7657 \n",
            "Epoch: 149/150 Discriminator Loss: 0.1133 Generator Loss: 10.5817 \n",
            "Epoch: 150/150 Discriminator Loss: 0.1073 Generator Loss: 11.5775 \n"
          ]
        }
      ],
      "source": [
        "## labels for the batch size and the test size\n",
        "y_train_real, y_train_fake = make_labels(batch_size)\n",
        "y_eval_real,  y_eval_fake  = make_labels(eval_size)\n",
        "\n",
        "# create a GAN, a generator and a discriminator\n",
        "gan, generator, discriminator = make_simple_GAN(\n",
        "    sample_size, \n",
        "    g_hidden_size_1, \n",
        "    g_hidden_size_2,\n",
        "    g_hidden_size_3,\n",
        "    g_hidden_size_4, \n",
        "    d_hidden_size_1, \n",
        "    d_hidden_size_2,\n",
        "    d_hidden_size_3,\n",
        "    d_hidden_size_4,\n",
        "    d_hidden_size_5,\n",
        "    leaky_alpha, \n",
        "    g_learning_rate,\n",
        "    d_learning_rate)\n",
        "\n",
        "\n",
        "losses = []\n",
        "losses1 = []\n",
        "for e in range(epochs):\n",
        "    for i in range(len(X_train_real)//batch_size):\n",
        "        # real MNIST digit images\n",
        "        X_batch_real = X_train_real[i*batch_size:(i+1)*batch_size]\n",
        "        \n",
        "        # latent samples and the generated digit images\n",
        "        latent_samples = make_latent_samples(batch_size, sample_size)\n",
        "        X_batch_fake = generator.predict_on_batch(latent_samples)\n",
        "        \n",
        "        # train the discriminator to detect real and fake images\n",
        "        make_trainable(discriminator, True)\n",
        "        discriminator.train_on_batch(X_batch_real, y_train_real * (1 - smooth))\n",
        "        discriminator.train_on_batch(X_batch_fake, y_train_fake)\n",
        "\n",
        "        # train the generator via GAN\n",
        "        make_trainable(discriminator, False)\n",
        "        gan.train_on_batch(latent_samples, y_train_real)\n",
        "   # evaluate\n",
        "    X_eval_real = X_test_real[np.random.choice(len(X_test_real), eval_size, replace=False)]\n",
        "    \n",
        "    latent_samples = make_latent_samples(eval_size, sample_size)\n",
        "    X_eval_fake = generator.predict_on_batch(latent_samples)\n",
        "\n",
        "    d_loss  = discriminator.test_on_batch(X_eval_real, y_eval_real)\n",
        "    d_loss += discriminator.test_on_batch(X_eval_fake, y_eval_fake)\n",
        "    g_loss  = gan.test_on_batch(latent_samples, y_eval_real) # we want the fake to be realistic!\n",
        "    \n",
        "    losses.append((d_loss, g_loss))\n",
        "\n",
        "    #d_acc_real = discriminator.train_on_batch(X_batch_real, y_train_real * (1 - smooth))\n",
        "    #d_acc_fake = discriminator.train_on_batch(X_batch_fake, y_train_fake)\n",
        "    #d_acc  = 0.5 * (d_acc_real + d_acc_fake)\n",
        "\n",
        "    #losses1.append(( d_acc))\n",
        "    print(\"Epoch: {:>3}/{} Discriminator Loss: {:>6.4f} Generator Loss: {:>6.4f} \".format(\n",
        "        e+1, epochs, d_loss, g_loss)) #Discriminator acc: {:>6.4f}:,d_acc"
      ]
    },
    {
      "cell_type": "code",
      "execution_count": 26,
      "metadata": {
        "colab": {
          "base_uri": "https://localhost:8080/",
          "height": 281
        },
        "id": "_if6yg9SuoTQ",
        "outputId": "6d367eb9-22ac-461d-abfb-21b668eef212"
      },
      "outputs": [
        {
          "output_type": "display_data",
          "data": {
            "image/png": "[encoded data removed]",
            "text/plain": [
              "<Figure size 432x288 with 1 Axes>"
            ]
          },
          "metadata": {
            "needs_background": "light"
          }
        }
      ],
      "source": [
        "losses = np.array(losses)\n",
        "\n",
        "fig, ax = plt.subplots()\n",
        "plt.plot(losses.T[0], label='Discriminator')\n",
        "plt.plot(losses.T[1], label='Generator')\n",
        "plt.title(\"Training Losses\")\n",
        "plt.legend()\n",
        "plt.show()"
      ]
    },
    {
      "cell_type": "code",
      "execution_count": 27,
      "metadata": {
        "id": "w0je2222Q0Y-"
      },
      "outputs": [],
      "source": [
        "rr = discriminator.predict_on_batch(X_test_real)"
      ]
    },
    {
      "cell_type": "code",
      "source": [
        "y_test"
      ],
      "metadata": {
        "colab": {
          "base_uri": "https://localhost:8080/"
        },
        "id": "qYZfeRR5Z3Iu",
        "outputId": "bba94f73-4f80-4136-ea4c-15ed447837e6"
      },
      "execution_count": 28,
      "outputs": [
        {
          "output_type": "execute_result",
          "data": {
            "text/plain": [
              "8413     1\n",
              "4816     1\n",
              "13008    0\n",
              "1355     1\n",
              "4464     1\n",
              "        ..\n",
              "10000    0\n",
              "3958     1\n",
              "7768     1\n",
              "3034     1\n",
              "11792    0\n",
              "Name: label, Length: 3965, dtype: int64"
            ]
          },
          "metadata": {},
          "execution_count": 28
        }
      ]
    },
    {
      "cell_type": "code",
      "source": [
        "rr"
      ],
      "metadata": {
        "colab": {
          "base_uri": "https://localhost:8080/"
        },
        "id": "6GdJtSctZ5jm",
        "outputId": "672ba026-fe7d-44d8-d39c-bf29154bc6ce"
      },
      "execution_count": 29,
      "outputs": [
        {
          "output_type": "execute_result",
          "data": {
            "text/plain": [
              "array([[0.8903872 ],\n",
              "       [0.9059459 ],\n",
              "       [0.8807073 ],\n",
              "       ...,\n",
              "       [0.89523345],\n",
              "       [0.9022951 ],\n",
              "       [0.90893507]], dtype=float32)"
            ]
          },
          "metadata": {},
          "execution_count": 29
        }
      ]
    },
    {
      "cell_type": "code",
      "execution_count": 30,
      "metadata": {
        "colab": {
          "base_uri": "https://localhost:8080/"
        },
        "id": "RkBPmhkdQ31J",
        "outputId": "80a786ab-f7d3-404b-e549-168e74467b62"
      },
      "outputs": [
        {
          "output_type": "execute_result",
          "data": {
            "text/plain": [
              "0.9990003"
            ]
          },
          "metadata": {},
          "execution_count": 30
        }
      ],
      "source": [
        "import keras\n",
        "#import keras_metrics\n",
        "\n",
        "r = tf.keras.metrics.Recall()#thresholds=rr.min())\n",
        "r.update_state(y_test,rr )\n",
        "r.result().numpy()\n"
      ]
    },
    {
      "cell_type": "code",
      "execution_count": 31,
      "metadata": {
        "id": "cFiQ5wINQ-19",
        "colab": {
          "base_uri": "https://localhost:8080/"
        },
        "outputId": "22f55253-7307-494c-dfd2-67fecca971bb"
      },
      "outputs": [
        {
          "output_type": "execute_result",
          "data": {
            "text/plain": [
              "0.7605277"
            ]
          },
          "metadata": {},
          "execution_count": 31
        }
      ],
      "source": [
        "p=tf.keras.metrics.Precision()#thresholds=rr.min())\n",
        "p.update_state(y_test,rr )\n",
        "p.result().numpy()"
      ]
    }
  ],
  "metadata": {
    "colab": {
      "name": "part7/TGan.ipynb",
      "provenance": [],
      "collapsed_sections": [],
      "authorship_tag": "ABX9TyOKOonsoHantFV8ToO/LjXN",
      "include_colab_link": true
    },
    "kernelspec": {
      "display_name": "Python 3",
      "name": "python3"
    },
    "language_info": {
      "name": "python"
    },
    "accelerator": "GPU"
  },
  "nbformat": 4,
  "nbformat_minor": 0
}