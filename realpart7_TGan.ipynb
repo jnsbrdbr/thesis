{
  "cells": [
    {
      "cell_type": "markdown",
      "metadata": {
        "id": "view-in-github",
        "colab_type": "text"
      },
      "source": [
        "<a href=\"https://colab.research.google.com/github/jnsbrdbr/thesis/blob/thesis/realpart7_TGan.ipynb\" target=\"_parent\"><img src=\"https://colab.research.google.com/assets/colab-badge.svg\" alt=\"Open In Colab\"/></a>"
      ]
    },
    {
      "cell_type": "code",
      "execution_count": 1,
      "metadata": {
        "colab": {
          "base_uri": "https://localhost:8080/"
        },
        "id": "j70DTmCCYMm3",
        "outputId": "3704d92d-2b8c-4e7f-dc2b-ce14d21fc3cc"
      },
      "outputs": [
        {
          "output_type": "stream",
          "name": "stdout",
          "text": [
            "`%tensorflow_version` only switches the major version: 1.x or 2.x.\n",
            "You set: `2.x  # Colab only.`. This will be interpreted as: `2.x`.\n",
            "\n",
            "\n",
            "TensorFlow 2.x selected.\n",
            "2.8.0\n"
          ]
        }
      ],
      "source": [
        "# Install TensorFlow\n",
        "# !pip install -q tensorflow-gpu==2.0.0-rc0\n",
        "\n",
        "try:\n",
        "  %tensorflow_version 2.x  # Colab only.\n",
        "except Exception:\n",
        "  pass\n",
        "\n",
        "import tensorflow as tf\n",
        "print(tf.__version__)"
      ]
    },
    {
      "cell_type": "code",
      "execution_count": 2,
      "metadata": {
        "id": "7i01N6ZIYXzE"
      },
      "outputs": [],
      "source": [
        "import keras\n",
        "from keras.layers import Input, Dense, Activation, LeakyReLU, BatchNormalization\n",
        "from keras.models import Sequential\n",
        "from tensorflow.keras.optimizers import Adam\n",
        "from sklearn.model_selection import train_test_split\n",
        "from tensorflow.keras.models import Model\n",
        "import keras.backend as K\n",
        "import numpy as np\n",
        "import pandas as pd\n",
        "import matplotlib.pyplot as plt\n",
        "import sys, os\n",
        "\n",
        "%matplotlib inline"
      ]
    },
    {
      "cell_type": "code",
      "execution_count": 3,
      "metadata": {
        "colab": {
          "base_uri": "https://localhost:8080/"
        },
        "id": "ThkdPVsmYauJ",
        "outputId": "556c85d4-c7fe-4fc4-97e1-45edcefcb0d7"
      },
      "outputs": [
        {
          "output_type": "stream",
          "name": "stdout",
          "text": [
            "Drive already mounted at /content/drive; to attempt to forcibly remount, call drive.mount(\"/content/drive\", force_remount=True).\n"
          ]
        }
      ],
      "source": [
        "from google.colab import drive\n",
        "drive.mount('/content/drive') "
      ]
    },
    {
      "cell_type": "code",
      "execution_count": 4,
      "metadata": {
        "colab": {
          "base_uri": "https://localhost:8080/"
        },
        "id": "5hfNf56TYyWQ",
        "outputId": "bb32214d-cdf6-4175-adb3-624fa64e1b38"
      },
      "outputs": [
        {
          "output_type": "stream",
          "name": "stdout",
          "text": [
            "Requirement already satisfied: pickle5 in /usr/local/lib/python3.7/dist-packages (0.0.12)\n"
          ]
        }
      ],
      "source": [
        "!pip3 install pickle5\n",
        "import pickle5 as pickle"
      ]
    },
    {
      "cell_type": "code",
      "execution_count": 5,
      "metadata": {
        "id": "Z2blfCcpYkug"
      },
      "outputs": [],
      "source": [
        "with open('/content/drive/MyDrive/10000/Tresult.pkl', \"rb\") as fh:\n",
        "  result = pickle.load(fh)"
      ]
    },
    {
      "cell_type": "code",
      "execution_count": 6,
      "metadata": {
        "id": "m0lk-Uz1Y2yl",
        "colab": {
          "base_uri": "https://localhost:8080/"
        },
        "outputId": "a5c257c4-a038-4971-fedb-a75132c89f68"
      },
      "outputs": [
        {
          "output_type": "stream",
          "name": "stdout",
          "text": [
            "              0         1          2         3         4         5         6  \\\n",
            "0     -2.231665 -3.223353  -0.847867 -0.985074 -0.787323 -0.987113 -0.438315   \n",
            "1     -2.231665 -3.223353  -0.847867 -0.985074 -0.787323 -0.987113 -0.438315   \n",
            "2     -2.231665 -3.223353  -0.847867 -0.985074 -0.787323 -0.987113 -0.438315   \n",
            "3     -2.231665 -3.223353  -0.847867 -0.985074 -0.787323 -0.987113 -0.438315   \n",
            "4     -2.231871 -3.223762  -0.848254 -0.985617 -0.787896 -0.987987 -0.439101   \n",
            "...         ...       ...        ...       ...       ...       ...       ...   \n",
            "13209 -2.231665 -3.223353  -0.847867 -0.985074 -0.787323 -0.987113 -0.438315   \n",
            "13210 -2.857167 -4.505172  18.597988  3.823025  1.277678  0.768726  0.145001   \n",
            "13211 -2.231665 -3.223353  -0.847867 -0.985074 -0.787323 -0.987113 -0.438315   \n",
            "13212 -2.231665 -3.223353  -0.847867 -0.985074 -0.787323 -0.987113 -0.438315   \n",
            "13213 -2.231665 -3.223353  -0.847867 -0.985074 -0.787323 -0.987113 -0.438315   \n",
            "\n",
            "              7         8         9  ...          1         2         3  \\\n",
            "0     -0.287633 -0.438922 -0.223313  ...   0.452139 -1.203407 -0.183899   \n",
            "1     -0.287633 -0.438922 -0.223313  ...   0.452139 -1.203407 -0.183899   \n",
            "2     -0.287633 -0.438922 -0.223313  ...   0.452139 -1.203407 -0.183899   \n",
            "3     -0.287633 -0.438922 -0.223313  ...   0.452139 -1.203407 -0.183899   \n",
            "4     -0.288391 -0.439995 -0.224429  ...  -7.508892  7.994602  0.226101   \n",
            "...         ...       ...       ...  ...        ...       ...       ...   \n",
            "13209 -0.287633 -0.438922 -0.223313  ...   1.554089 -4.346298  9.404540   \n",
            "13210  0.061502  0.087013  0.028165  ...   0.599942 -1.505019 -0.218230   \n",
            "13211 -0.287633 -0.438922 -0.223313  ...  -8.533632  9.178701  0.278730   \n",
            "13212 -0.287633 -0.438922 -0.223313  ...  -8.533631  9.178698  0.278730   \n",
            "13213 -0.287633 -0.438922 -0.223313  ... -11.890588  4.271539  0.100003   \n",
            "\n",
            "              4         5         6         7         8         9  label  \n",
            "0     -0.438911 -0.266164 -0.544673 -0.224884 -0.068575 -0.230930      1  \n",
            "1     -0.438911 -0.266164 -0.544673 -0.224884 -0.068575 -0.230930      1  \n",
            "2     -0.438911 -0.266164 -0.544673 -0.224884 -0.068575 -0.230930      1  \n",
            "3     -0.438911 -0.266164 -0.544673 -0.224884 -0.068575 -0.230930      1  \n",
            "4      0.991238  0.482262  0.829106  0.246306  0.048557  0.160622      1  \n",
            "...         ...       ...       ...       ...       ...       ...    ...  \n",
            "13209  4.676083  1.038614  1.272721  0.249463  0.046943  0.150109      0  \n",
            "13210 -0.586787 -0.370000 -0.787776 -0.380601 -0.129873 -0.451315      0  \n",
            "13211  1.177091  0.579516  1.007372  0.308708  0.063843  0.211098      0  \n",
            "13212  1.177090  0.579515  1.007370  0.308707  0.063843  0.211097      0  \n",
            "13213  0.324583  0.150424  0.249943  0.068055  0.013998  0.046459      0  \n",
            "\n",
            "[13214 rows x 101 columns]\n"
          ]
        }
      ],
      "source": [
        "#final data\n",
        "print(result)"
      ]
    },
    {
      "cell_type": "code",
      "execution_count": 7,
      "metadata": {
        "id": "QKmLf4jlY6LZ"
      },
      "outputs": [],
      "source": [
        "#divide data in to data_label and non_data label\n",
        "\n",
        "import copy\n",
        "result_nonlabel=copy.deepcopy(result)\n",
        "del result_nonlabel['label']\n",
        "X=result_nonlabel\n",
        "y=result.label"
      ]
    },
    {
      "cell_type": "code",
      "execution_count": 8,
      "metadata": {
        "id": "XqPz3htaY8ZG"
      },
      "outputs": [],
      "source": [
        "#splitting data in to test and train...\n",
        "\n",
        "from sklearn.model_selection import train_test_split\n",
        "X_train, X_test, y_train, y_test = train_test_split(X, y ,test_size=0.3,shuffle=True)#random_state=42,"
      ]
    },
    {
      "cell_type": "code",
      "execution_count": 9,
      "metadata": {
        "id": "vmtUmOHcY-ZD",
        "colab": {
          "base_uri": "https://localhost:8080/"
        },
        "outputId": "ab9398a0-2bc6-4c6a-fa6d-7a2500b72c88"
      },
      "outputs": [
        {
          "output_type": "stream",
          "name": "stdout",
          "text": [
            "shape of x_train is: (9249, 100)\n",
            "shape of x_test is: (3965, 100)\n"
          ]
        }
      ],
      "source": [
        "print('shape of x_train is:',X_train.shape)\n",
        "print('shape of x_test is:',X_test.shape)"
      ]
    },
    {
      "cell_type": "code",
      "execution_count": 10,
      "metadata": {
        "id": "4l1ZAOeBZGSw"
      },
      "outputs": [],
      "source": [
        "def make_latent_samples(n_samples, sample_size):\n",
        "    #return np.random.uniform(-1, 1, size=(n_samples, sample_size))\n",
        "    return np.random.normal(loc=0, scale=1, size=(n_samples, sample_size))"
      ]
    },
    {
      "cell_type": "code",
      "execution_count": 11,
      "metadata": {
        "id": "ekh00To4ZHnF",
        "colab": {
          "base_uri": "https://localhost:8080/"
        },
        "outputId": "05d98f9c-2375-4845-ef73-cb17e70cd8cc"
      },
      "outputs": [
        {
          "output_type": "execute_result",
          "data": {
            "text/plain": [
              "array([[ 5.39225659e-01, -7.72792648e-01, -1.57208077e+00,\n",
              "         1.58267623e+00,  7.56683933e-01,  6.61284588e-02,\n",
              "         8.60332483e-04,  3.51877483e-01,  7.79838340e-01,\n",
              "         8.15028157e-01, -4.90407367e-01, -1.02423841e+00,\n",
              "         2.10309601e+00, -5.91301995e-01,  1.22328008e+00,\n",
              "         3.52949989e-02,  2.89029648e-01,  2.54189521e-01,\n",
              "        -2.08839702e+00,  1.32093221e+00, -2.17356492e+00,\n",
              "         5.65314185e-01, -6.06570207e-01,  3.29185594e-01,\n",
              "        -1.24721770e+00, -7.26961722e-01,  1.94805395e+00,\n",
              "        -9.28571845e-01,  4.26105677e-01,  1.23909329e+00,\n",
              "         5.17657984e-01,  1.08408866e+00,  1.74046224e-01,\n",
              "        -5.31637523e-01,  1.52211463e+00,  2.30000400e-02,\n",
              "        -2.87205411e-02,  8.94599435e-01, -1.40575179e-01,\n",
              "         7.20488980e-01, -2.19539566e+00,  4.08072965e-01,\n",
              "         5.23346330e-01,  1.91742817e-01,  1.28798367e+00,\n",
              "        -4.05709048e-01,  1.55295690e+00,  9.13288372e-01,\n",
              "        -1.49691323e+00,  4.75832333e-02,  1.67151689e+00,\n",
              "         3.62101456e-01,  9.80730608e-01,  1.55364470e-01,\n",
              "         6.54119623e-01,  2.07065856e-01, -1.31782893e-01,\n",
              "         8.64267669e-01,  9.61568531e-01, -3.78184233e-01,\n",
              "         1.09156887e+00, -2.30756098e-03,  2.15962007e-01,\n",
              "        -6.93028008e-01, -1.75191623e+00,  9.80671076e-02,\n",
              "        -1.13859800e+00, -5.31965258e-02,  7.06424716e-02,\n",
              "         8.14085153e-01, -7.27191924e-02, -3.90389331e-01,\n",
              "        -1.08367952e+00, -3.99213939e-01,  9.38050493e-01,\n",
              "        -1.77805841e-01,  4.09262408e-01, -3.19397321e+00,\n",
              "         1.48365806e-01,  1.64148330e+00,  4.52499329e-01,\n",
              "         1.15688611e+00,  1.37842909e-01, -4.89493603e-01,\n",
              "         4.71389434e-01,  9.53298254e-01, -3.51988647e-01,\n",
              "         1.99559536e+00,  9.82482792e-01, -2.36298835e-01,\n",
              "         8.31390943e-01, -4.60602809e-01,  1.70638661e+00,\n",
              "         8.96445878e-01,  1.31027735e-01,  8.45263118e-01,\n",
              "         2.28070456e-01,  6.52200703e-01, -3.98955844e-01,\n",
              "         7.16952004e-01]])"
            ]
          },
          "metadata": {},
          "execution_count": 11
        }
      ],
      "source": [
        "make_latent_samples(1, 100) # generates one sample"
      ]
    },
    {
      "cell_type": "code",
      "execution_count": 12,
      "metadata": {
        "id": "6WhpSDsvthq9",
        "colab": {
          "base_uri": "https://localhost:8080/"
        },
        "outputId": "ee24d345-a0db-4069-b295-2e9518815439"
      },
      "outputs": [
        {
          "output_type": "stream",
          "name": "stdout",
          "text": [
            "Model: \"generator\"\n",
            "_________________________________________________________________\n",
            " Layer (type)                Output Shape              Param #   \n",
            "=================================================================\n",
            " dense (Dense)               (None, 128)               12928     \n",
            "                                                                 \n",
            " leaky_re_lu (LeakyReLU)     (None, 128)               0         \n",
            "                                                                 \n",
            " batch_normalization (BatchN  (None, 128)              512       \n",
            " ormalization)                                                   \n",
            "                                                                 \n",
            " dense_1 (Dense)             (None, 100)               12900     \n",
            "                                                                 \n",
            " activation (Activation)     (None, 100)               0         \n",
            "                                                                 \n",
            "=================================================================\n",
            "Total params: 26,340\n",
            "Trainable params: 26,084\n",
            "Non-trainable params: 256\n",
            "_________________________________________________________________\n"
          ]
        }
      ],
      "source": [
        "generator = Sequential([\n",
        "    Dense(128, input_shape=(100,)),\n",
        "    LeakyReLU(alpha=0.2),\n",
        "    BatchNormalization(momentum=0.7),\n",
        "\n",
        "    #Dense(100),\n",
        "    #LeakyReLU(alpha=0.2),\n",
        "    #BatchNormalization(momentum=0.7),\n",
        "\n",
        "    #Dense(1024),\n",
        "    #LeakyReLU(alpha=0.2),\n",
        "    #BatchNormalization(momentum=0.7),\n",
        "\n",
        "    #Dense(2048),\n",
        "    #LeakyReLU(alpha=0.2),\n",
        "    #BatchNormalization(momentum=0.7),\n",
        "\n",
        "    Dense(100),\n",
        "    Activation('tanh')\n",
        "], name='generator')\n",
        "\n",
        "generator.summary()"
      ]
    },
    {
      "cell_type": "code",
      "execution_count": 13,
      "metadata": {
        "id": "ifDOM8XEtpTu",
        "colab": {
          "base_uri": "https://localhost:8080/"
        },
        "outputId": "65b52646-7915-4c0f-ddec-fa18ec88f208"
      },
      "outputs": [
        {
          "output_type": "stream",
          "name": "stdout",
          "text": [
            "Model: \"discriminator\"\n",
            "_________________________________________________________________\n",
            " Layer (type)                Output Shape              Param #   \n",
            "=================================================================\n",
            " dense_2 (Dense)             (None, 64)                6464      \n",
            "                                                                 \n",
            " leaky_re_lu_1 (LeakyReLU)   (None, 64)                0         \n",
            "                                                                 \n",
            " dense_3 (Dense)             (None, 32)                2080      \n",
            "                                                                 \n",
            " leaky_re_lu_2 (LeakyReLU)   (None, 32)                0         \n",
            "                                                                 \n",
            " dense_4 (Dense)             (None, 1)                 33        \n",
            "                                                                 \n",
            " activation_1 (Activation)   (None, 1)                 0         \n",
            "                                                                 \n",
            "=================================================================\n",
            "Total params: 8,577\n",
            "Trainable params: 8,577\n",
            "Non-trainable params: 0\n",
            "_________________________________________________________________\n"
          ]
        }
      ],
      "source": [
        "discriminator = Sequential([\n",
        "    Dense(64, input_shape=(100,)),\n",
        "    LeakyReLU(alpha=0.2),\n",
        "    #BatchNormalization(momentum=0.7),\n",
        "\n",
        "    Dense(32),\n",
        "    LeakyReLU(alpha=0.2),\n",
        "    #BatchNormalization(momentum=0.7),\n",
        "\n",
        "    #Dense(128),\n",
        "    #LeakyReLU(alpha=0.2),\n",
        "    #BatchNormalization(momentum=0.7),\n",
        "    #Dense(64),\n",
        "    #LeakyReLU(alpha=0.2),\n",
        "    #BatchNormalization(momentum=0.7),\n",
        "\n",
        "    #Dense(32),\n",
        "    #LeakyReLU(alpha=0.2),\n",
        "    #BatchNormalization(momentum=0.7),\n",
        "\n",
        "    #Dense(16),\n",
        "    #LeakyReLU(alpha=0.2),\n",
        "    #BatchNormalization(momentum=0.7),\n",
        "\n",
        "    Dense(1),\n",
        "    Activation('sigmoid')\n",
        "], name='discriminator')\n",
        "\n",
        "discriminator.summary()"
      ]
    },
    {
      "cell_type": "code",
      "execution_count": 14,
      "metadata": {
        "id": "xBOAGHy9tstz",
        "colab": {
          "base_uri": "https://localhost:8080/"
        },
        "outputId": "c5182e0b-1b64-4434-aea4-1b28aa75f526"
      },
      "outputs": [
        {
          "output_type": "stream",
          "name": "stdout",
          "text": [
            "Model: \"sequential\"\n",
            "_________________________________________________________________\n",
            " Layer (type)                Output Shape              Param #   \n",
            "=================================================================\n",
            " generator (Sequential)      (None, 100)               26340     \n",
            "                                                                 \n",
            " discriminator (Sequential)  (None, 1)                 8577      \n",
            "                                                                 \n",
            "=================================================================\n",
            "Total params: 34,917\n",
            "Trainable params: 34,661\n",
            "Non-trainable params: 256\n",
            "_________________________________________________________________\n"
          ]
        }
      ],
      "source": [
        "# maintain the same shared weights with the generator and the discriminator.\n",
        "gan = Sequential([\n",
        "    generator,\n",
        "    discriminator\n",
        "])\n",
        "\n",
        "gan.summary()"
      ]
    },
    {
      "cell_type": "code",
      "execution_count": 15,
      "metadata": {
        "id": "Bx2JFuiLtx1E"
      },
      "outputs": [],
      "source": [
        "def make_trainable(model, trainable):\n",
        "    for layer in model.layers:\n",
        "        layer.trainable = trainable"
      ]
    },
    {
      "cell_type": "code",
      "execution_count": 16,
      "metadata": {
        "id": "X4hA_QQFtzxF",
        "colab": {
          "base_uri": "https://localhost:8080/"
        },
        "outputId": "2c8ec09b-b79d-413c-f19f-152e1f019ba9"
      },
      "outputs": [
        {
          "output_type": "stream",
          "name": "stdout",
          "text": [
            "Model: \"discriminator\"\n",
            "_________________________________________________________________\n",
            " Layer (type)                Output Shape              Param #   \n",
            "=================================================================\n",
            " dense_2 (Dense)             (None, 64)                6464      \n",
            "                                                                 \n",
            " leaky_re_lu_1 (LeakyReLU)   (None, 64)                0         \n",
            "                                                                 \n",
            " dense_3 (Dense)             (None, 32)                2080      \n",
            "                                                                 \n",
            " leaky_re_lu_2 (LeakyReLU)   (None, 32)                0         \n",
            "                                                                 \n",
            " dense_4 (Dense)             (None, 1)                 33        \n",
            "                                                                 \n",
            " activation_1 (Activation)   (None, 1)                 0         \n",
            "                                                                 \n",
            "=================================================================\n",
            "Total params: 8,577\n",
            "Trainable params: 0\n",
            "Non-trainable params: 8,577\n",
            "_________________________________________________________________\n"
          ]
        }
      ],
      "source": [
        "make_trainable(discriminator, False)\n",
        "discriminator.summary()"
      ]
    },
    {
      "cell_type": "code",
      "execution_count": 17,
      "metadata": {
        "id": "X2qL4BJ6t1Rr",
        "colab": {
          "base_uri": "https://localhost:8080/"
        },
        "outputId": "251dc834-9e98-4089-eff4-5893f1080fe9"
      },
      "outputs": [
        {
          "output_type": "stream",
          "name": "stdout",
          "text": [
            "Model: \"discriminator\"\n",
            "_________________________________________________________________\n",
            " Layer (type)                Output Shape              Param #   \n",
            "=================================================================\n",
            " dense_2 (Dense)             (None, 64)                6464      \n",
            "                                                                 \n",
            " leaky_re_lu_1 (LeakyReLU)   (None, 64)                0         \n",
            "                                                                 \n",
            " dense_3 (Dense)             (None, 32)                2080      \n",
            "                                                                 \n",
            " leaky_re_lu_2 (LeakyReLU)   (None, 32)                0         \n",
            "                                                                 \n",
            " dense_4 (Dense)             (None, 1)                 33        \n",
            "                                                                 \n",
            " activation_1 (Activation)   (None, 1)                 0         \n",
            "                                                                 \n",
            "=================================================================\n",
            "Total params: 8,577\n",
            "Trainable params: 8,577\n",
            "Non-trainable params: 0\n",
            "_________________________________________________________________\n"
          ]
        }
      ],
      "source": [
        "make_trainable(discriminator, True)\n",
        "discriminator.summary()"
      ]
    },
    {
      "cell_type": "code",
      "execution_count": 18,
      "metadata": {
        "id": "6AdYzOnguNYG"
      },
      "outputs": [],
      "source": [
        "def make_simple_GAN(sample_size, \n",
        "                    g_hidden_size_1,\n",
        "                    g_hidden_size_2,\n",
        "                    g_hidden_size_3,\n",
        "                    g_hidden_size_4,\n",
        "                    d_hidden_size_1,\n",
        "                    d_hidden_size_2, \n",
        "                    d_hidden_size_3,\n",
        "                    d_hidden_size_4,\n",
        "                    d_hidden_size_5,\n",
        "                    d_hidden_size_6,\n",
        "                    leaky_alpha, \n",
        "                    g_learning_rate,\n",
        "                    d_learning_rate):\n",
        "    K.clear_session()\n",
        "    \n",
        "    generator = Sequential([\n",
        "        Dense(g_hidden_size_1, input_shape=(sample_size,)),\n",
        "        LeakyReLU(alpha=leaky_alpha),\n",
        "        BatchNormalization(momentum=0.7),\n",
        "\n",
        "        #Dense(g_hidden_size_2),\n",
        "        #LeakyReLU(alpha=leaky_alpha),\n",
        "        #BatchNormalization(momentum=0.7),\n",
        "\n",
        "        #Dense(g_hidden_size_3),\n",
        "        #LeakyReLU(alpha=leaky_alpha),\n",
        "        #BatchNormalization(momentum=0.7),\n",
        "\n",
        "        #Dense(g_hidden_size_4),\n",
        "        #LeakyReLU(alpha=leaky_alpha),\n",
        "        #BatchNormalization(momentum=0.7),\n",
        "\n",
        "        Dense(100),        \n",
        "        Activation('tanh')\n",
        "    ], name='generator')    \n",
        "\n",
        "    discriminator = Sequential([\n",
        "        Dense(d_hidden_size_1, input_shape=(100,)),\n",
        "        LeakyReLU(alpha=leaky_alpha),\n",
        "        #BatchNormalization(momentum=0.7),\n",
        "\n",
        "        Dense(d_hidden_size_2),\n",
        "        LeakyReLU(alpha=leaky_alpha),\n",
        "        #BatchNormalization(momentum=0.7),\n",
        "\n",
        "        #Dense(d_hidden_size_3),\n",
        "        #LeakyReLU(alpha=leaky_alpha),\n",
        "        #BatchNormalization(momentum=0.7),\n",
        "\n",
        "        #Dense(d_hidden_size_4),\n",
        "        #LeakyReLU(alpha=leaky_alpha),\n",
        "        #BatchNormalization(momentum=0.7),\n",
        "\n",
        "        #Dense(d_hidden_size_5),\n",
        "        #LeakyReLU(alpha=leaky_alpha),\n",
        "        #BatchNormalization(momentum=0.7),\n",
        "\n",
        "        #Dense(d_hidden_size_6),\n",
        "        #LeakyReLU(alpha=leaky_alpha),\n",
        "        #BatchNormalization(momentum=0.7),\n",
        "\n",
        "        Dense(1),\n",
        "        Activation('sigmoid')\n",
        "    ], name='discriminator')    \n",
        "    \n",
        "    gan = Sequential([\n",
        "        generator,\n",
        "        discriminator\n",
        "    ])\n",
        "    \n",
        "    discriminator.compile(optimizer=Adam(lr=d_learning_rate), loss='binary_crossentropy')\n",
        "    gan.compile(optimizer=Adam(lr=g_learning_rate), loss='binary_crossentropy')\n",
        "    \n",
        "    return gan, generator, discriminator "
      ]
    },
    {
      "cell_type": "code",
      "execution_count": 19,
      "metadata": {
        "id": "mYPaeZWCuQcN"
      },
      "outputs": [],
      "source": [
        "from sklearn import preprocessing\n",
        "def preprocess(x):\n",
        "   x = preprocessing.scale(x)\n",
        "   return x"
      ]
    },
    {
      "cell_type": "code",
      "execution_count": 20,
      "metadata": {
        "id": "ECK1ZNgvuUDE"
      },
      "outputs": [],
      "source": [
        "X_train_real = np.array(preprocess(X_train))\n",
        "X_test_real  = np.array(preprocess(X_test))"
      ]
    },
    {
      "cell_type": "code",
      "execution_count": 21,
      "metadata": {
        "id": "IEehFs-uuWu-"
      },
      "outputs": [],
      "source": [
        "while(False):\n",
        "\n",
        "  def deprocess(x):\n",
        "    x = (x / 2 + 1) * 7454.516836076623\n",
        "    x = np.clip(x, -127.3838709715454, 7454.516836076623)\n",
        "    x = np.uint8(x)\n",
        "    x = x.reshape(-1, 70)\n",
        "    return x"
      ]
    },
    {
      "cell_type": "code",
      "execution_count": 22,
      "metadata": {
        "id": "pkBEmfCuuZVn"
      },
      "outputs": [],
      "source": [
        "def make_labels(size):\n",
        "    return np.ones([size, 1]), np.zeros([size, 1])"
      ]
    },
    {
      "cell_type": "code",
      "execution_count": 23,
      "metadata": {
        "id": "fRn7LdmDub8I",
        "colab": {
          "base_uri": "https://localhost:8080/"
        },
        "outputId": "174f3449-cba2-49de-aa0e-327967a234a7"
      },
      "outputs": [
        {
          "output_type": "execute_result",
          "data": {
            "text/plain": [
              "(array([[1.],\n",
              "        [1.],\n",
              "        [1.],\n",
              "        [1.],\n",
              "        [1.],\n",
              "        [1.],\n",
              "        [1.],\n",
              "        [1.],\n",
              "        [1.],\n",
              "        [1.]]), array([[0.],\n",
              "        [0.],\n",
              "        [0.],\n",
              "        [0.],\n",
              "        [0.],\n",
              "        [0.],\n",
              "        [0.],\n",
              "        [0.],\n",
              "        [0.],\n",
              "        [0.]]))"
            ]
          },
          "metadata": {},
          "execution_count": 23
        }
      ],
      "source": [
        "y_real_10, y_fake_10 = make_labels(10)\n",
        "\n",
        "y_real_10, y_fake_10"
      ]
    },
    {
      "cell_type": "code",
      "execution_count": 24,
      "metadata": {
        "id": "lCK87MXyue6-"
      },
      "outputs": [],
      "source": [
        "# hyperparameters\n",
        "sample_size     = 100     # latent sample size (i.e., 100 random numbers)\n",
        "g_hidden_size_1 = 128\n",
        "g_hidden_size_2 = 0\n",
        "g_hidden_size_3 = 0\n",
        "g_hidden_size_4 = 0\n",
        "d_hidden_size_1 = 64\n",
        "d_hidden_size_2 = 32\n",
        "d_hidden_size_3 = 0\n",
        "d_hidden_size_4 = 0\n",
        "d_hidden_size_5 = 0\n",
        "d_hidden_size_6 = 0\n",
        "leaky_alpha     = 0.2\n",
        "g_learning_rate = 0.0001  # learning rate for the generator\n",
        "d_learning_rate = 0.0001   # learning rate for the discriminator\n",
        "epochs          = 100\n",
        "batch_size      = 64      # train batch size\n",
        "eval_size       = 16      # evaluate size\n",
        "smooth          = 0.1\n"
      ]
    },
    {
      "cell_type": "code",
      "execution_count": 25,
      "metadata": {
        "id": "Tuk6T1qqujjW",
        "colab": {
          "base_uri": "https://localhost:8080/"
        },
        "outputId": "4c25dccd-521e-4f71-b9a7-334699c5f26e"
      },
      "outputs": [
        {
          "metadata": {
            "tags": null
          },
          "name": "stderr",
          "output_type": "stream",
          "text": [
            "/usr/local/lib/python3.7/dist-packages/keras/optimizer_v2/adam.py:105: UserWarning: The `lr` argument is deprecated, use `learning_rate` instead.\n",
            "  super(Adam, self).__init__(name, **kwargs)\n"
          ]
        },
        {
          "output_type": "stream",
          "name": "stdout",
          "text": [
            "Epoch:   1/100 Discriminator Loss: 1.5971 Generator Loss: 0.3945 Discriminator acc:0.8235:\n",
            "Epoch:   2/100 Discriminator Loss: 1.5267 Generator Loss: 0.3798 Discriminator acc:0.8495:\n",
            "Epoch:   3/100 Discriminator Loss: 1.6184 Generator Loss: 0.3584 Discriminator acc:0.8782:\n",
            "Epoch:   4/100 Discriminator Loss: 1.8430 Generator Loss: 0.2732 Discriminator acc:0.8707:\n",
            "Epoch:   5/100 Discriminator Loss: 1.7979 Generator Loss: 0.2851 Discriminator acc:0.9076:\n",
            "Epoch:   6/100 Discriminator Loss: 1.8413 Generator Loss: 0.2833 Discriminator acc:0.8944:\n",
            "Epoch:   7/100 Discriminator Loss: 1.8972 Generator Loss: 0.2752 Discriminator acc:0.9012:\n",
            "Epoch:   8/100 Discriminator Loss: 1.7545 Generator Loss: 0.2890 Discriminator acc:0.9083:\n",
            "Epoch:   9/100 Discriminator Loss: 1.7127 Generator Loss: 0.3187 Discriminator acc:0.9226:\n",
            "Epoch:  10/100 Discriminator Loss: 1.7187 Generator Loss: 0.2967 Discriminator acc:0.9059:\n",
            "Epoch:  11/100 Discriminator Loss: 1.7081 Generator Loss: 0.2991 Discriminator acc:0.8954:\n",
            "Epoch:  12/100 Discriminator Loss: 1.7187 Generator Loss: 0.2812 Discriminator acc:0.9120:\n",
            "Epoch:  13/100 Discriminator Loss: 1.6721 Generator Loss: 0.3090 Discriminator acc:0.9001:\n",
            "Epoch:  14/100 Discriminator Loss: 1.7811 Generator Loss: 0.2689 Discriminator acc:0.8797:\n",
            "Epoch:  15/100 Discriminator Loss: 1.6738 Generator Loss: 0.3275 Discriminator acc:0.8961:\n",
            "Epoch:  16/100 Discriminator Loss: 1.6391 Generator Loss: 0.3280 Discriminator acc:0.8879:\n",
            "Epoch:  17/100 Discriminator Loss: 1.6424 Generator Loss: 0.3063 Discriminator acc:0.8962:\n",
            "Epoch:  18/100 Discriminator Loss: 1.7964 Generator Loss: 0.2981 Discriminator acc:0.8765:\n",
            "Epoch:  19/100 Discriminator Loss: 1.8644 Generator Loss: 0.2922 Discriminator acc:0.8906:\n",
            "Epoch:  20/100 Discriminator Loss: 1.6881 Generator Loss: 0.3132 Discriminator acc:0.8771:\n",
            "Epoch:  21/100 Discriminator Loss: 1.6648 Generator Loss: 0.3060 Discriminator acc:0.8761:\n",
            "Epoch:  22/100 Discriminator Loss: 1.6406 Generator Loss: 0.3353 Discriminator acc:0.8561:\n",
            "Epoch:  23/100 Discriminator Loss: 1.6298 Generator Loss: 0.3002 Discriminator acc:0.8586:\n",
            "Epoch:  24/100 Discriminator Loss: 1.6138 Generator Loss: 0.3249 Discriminator acc:0.8448:\n",
            "Epoch:  25/100 Discriminator Loss: 1.5745 Generator Loss: 0.3509 Discriminator acc:0.8470:\n",
            "Epoch:  26/100 Discriminator Loss: 1.5817 Generator Loss: 0.3391 Discriminator acc:0.8260:\n",
            "Epoch:  27/100 Discriminator Loss: 1.6389 Generator Loss: 0.3290 Discriminator acc:0.8116:\n",
            "Epoch:  28/100 Discriminator Loss: 1.6035 Generator Loss: 0.3281 Discriminator acc:0.8025:\n",
            "Epoch:  29/100 Discriminator Loss: 1.5238 Generator Loss: 0.3586 Discriminator acc:0.8079:\n",
            "Epoch:  30/100 Discriminator Loss: 1.5861 Generator Loss: 0.3574 Discriminator acc:0.8080:\n",
            "Epoch:  31/100 Discriminator Loss: 1.4738 Generator Loss: 0.3842 Discriminator acc:0.7833:\n",
            "Epoch:  32/100 Discriminator Loss: 1.3966 Generator Loss: 0.4033 Discriminator acc:0.7729:\n",
            "Epoch:  33/100 Discriminator Loss: 1.5401 Generator Loss: 0.3305 Discriminator acc:0.7728:\n",
            "Epoch:  34/100 Discriminator Loss: 1.4520 Generator Loss: 0.3835 Discriminator acc:0.7665:\n",
            "Epoch:  35/100 Discriminator Loss: 1.5201 Generator Loss: 0.3692 Discriminator acc:0.7387:\n",
            "Epoch:  36/100 Discriminator Loss: 1.2769 Generator Loss: 0.4633 Discriminator acc:0.7597:\n",
            "Epoch:  37/100 Discriminator Loss: 1.4339 Generator Loss: 0.4026 Discriminator acc:0.7327:\n",
            "Epoch:  38/100 Discriminator Loss: 1.3513 Generator Loss: 0.4088 Discriminator acc:0.7399:\n",
            "Epoch:  39/100 Discriminator Loss: 1.4042 Generator Loss: 0.4051 Discriminator acc:0.7123:\n",
            "Epoch:  40/100 Discriminator Loss: 1.3469 Generator Loss: 0.4488 Discriminator acc:0.7186:\n",
            "Epoch:  41/100 Discriminator Loss: 1.2613 Generator Loss: 0.4603 Discriminator acc:0.7201:\n",
            "Epoch:  42/100 Discriminator Loss: 1.3607 Generator Loss: 0.4546 Discriminator acc:0.6934:\n",
            "Epoch:  43/100 Discriminator Loss: 1.2317 Generator Loss: 0.4724 Discriminator acc:0.6985:\n",
            "Epoch:  44/100 Discriminator Loss: 1.2397 Generator Loss: 0.4614 Discriminator acc:0.6931:\n",
            "Epoch:  45/100 Discriminator Loss: 1.1995 Generator Loss: 0.4922 Discriminator acc:0.6754:\n",
            "Epoch:  46/100 Discriminator Loss: 1.2962 Generator Loss: 0.4695 Discriminator acc:0.6830:\n",
            "Epoch:  47/100 Discriminator Loss: 1.1814 Generator Loss: 0.5226 Discriminator acc:0.6793:\n",
            "Epoch:  48/100 Discriminator Loss: 1.2614 Generator Loss: 0.4819 Discriminator acc:0.6617:\n",
            "Epoch:  49/100 Discriminator Loss: 1.2327 Generator Loss: 0.4674 Discriminator acc:0.6550:\n",
            "Epoch:  50/100 Discriminator Loss: 1.2173 Generator Loss: 0.4800 Discriminator acc:0.6773:\n",
            "Epoch:  51/100 Discriminator Loss: 1.1621 Generator Loss: 0.5109 Discriminator acc:0.6608:\n",
            "Epoch:  52/100 Discriminator Loss: 1.1548 Generator Loss: 0.5037 Discriminator acc:0.6470:\n",
            "Epoch:  53/100 Discriminator Loss: 1.2048 Generator Loss: 0.4826 Discriminator acc:0.6654:\n",
            "Epoch:  54/100 Discriminator Loss: 1.1155 Generator Loss: 0.5219 Discriminator acc:0.6604:\n",
            "Epoch:  55/100 Discriminator Loss: 1.1989 Generator Loss: 0.4874 Discriminator acc:0.6637:\n",
            "Epoch:  56/100 Discriminator Loss: 1.2490 Generator Loss: 0.4688 Discriminator acc:0.6431:\n",
            "Epoch:  57/100 Discriminator Loss: 1.1800 Generator Loss: 0.5344 Discriminator acc:0.6619:\n",
            "Epoch:  58/100 Discriminator Loss: 1.1706 Generator Loss: 0.5002 Discriminator acc:0.6431:\n",
            "Epoch:  59/100 Discriminator Loss: 1.1937 Generator Loss: 0.5046 Discriminator acc:0.6460:\n",
            "Epoch:  60/100 Discriminator Loss: 1.2220 Generator Loss: 0.5170 Discriminator acc:0.6439:\n",
            "Epoch:  61/100 Discriminator Loss: 1.1137 Generator Loss: 0.5123 Discriminator acc:0.6327:\n",
            "Epoch:  62/100 Discriminator Loss: 1.1136 Generator Loss: 0.5064 Discriminator acc:0.6175:\n",
            "Epoch:  63/100 Discriminator Loss: 1.1307 Generator Loss: 0.5651 Discriminator acc:0.6131:\n",
            "Epoch:  64/100 Discriminator Loss: 1.0730 Generator Loss: 0.5288 Discriminator acc:0.6108:\n",
            "Epoch:  65/100 Discriminator Loss: 0.9870 Generator Loss: 0.5708 Discriminator acc:0.6147:\n",
            "Epoch:  66/100 Discriminator Loss: 1.1119 Generator Loss: 0.5620 Discriminator acc:0.6112:\n",
            "Epoch:  67/100 Discriminator Loss: 0.9971 Generator Loss: 0.6051 Discriminator acc:0.5990:\n",
            "Epoch:  68/100 Discriminator Loss: 1.1234 Generator Loss: 0.5564 Discriminator acc:0.5879:\n",
            "Epoch:  69/100 Discriminator Loss: 1.0074 Generator Loss: 0.6124 Discriminator acc:0.5789:\n",
            "Epoch:  70/100 Discriminator Loss: 1.0122 Generator Loss: 0.6034 Discriminator acc:0.5724:\n",
            "Epoch:  71/100 Discriminator Loss: 0.9948 Generator Loss: 0.6062 Discriminator acc:0.5964:\n",
            "Epoch:  72/100 Discriminator Loss: 1.0453 Generator Loss: 0.6103 Discriminator acc:0.5811:\n",
            "Epoch:  73/100 Discriminator Loss: 1.0504 Generator Loss: 0.5837 Discriminator acc:0.5757:\n",
            "Epoch:  74/100 Discriminator Loss: 1.0487 Generator Loss: 0.5827 Discriminator acc:0.5847:\n",
            "Epoch:  75/100 Discriminator Loss: 0.9578 Generator Loss: 0.6625 Discriminator acc:0.5695:\n",
            "Epoch:  76/100 Discriminator Loss: 0.9778 Generator Loss: 0.6453 Discriminator acc:0.5665:\n",
            "Epoch:  77/100 Discriminator Loss: 0.9844 Generator Loss: 0.6257 Discriminator acc:0.5671:\n",
            "Epoch:  78/100 Discriminator Loss: 1.0128 Generator Loss: 0.6297 Discriminator acc:0.5730:\n",
            "Epoch:  79/100 Discriminator Loss: 0.8998 Generator Loss: 0.6424 Discriminator acc:0.5615:\n",
            "Epoch:  80/100 Discriminator Loss: 0.9850 Generator Loss: 0.6261 Discriminator acc:0.5691:\n",
            "Epoch:  81/100 Discriminator Loss: 0.9563 Generator Loss: 0.6388 Discriminator acc:0.5708:\n",
            "Epoch:  82/100 Discriminator Loss: 0.9744 Generator Loss: 0.6487 Discriminator acc:0.5615:\n",
            "Epoch:  83/100 Discriminator Loss: 0.9930 Generator Loss: 0.6712 Discriminator acc:0.5781:\n",
            "Epoch:  84/100 Discriminator Loss: 1.0079 Generator Loss: 0.6334 Discriminator acc:0.5589:\n",
            "Epoch:  85/100 Discriminator Loss: 1.0101 Generator Loss: 0.6538 Discriminator acc:0.5583:\n",
            "Epoch:  86/100 Discriminator Loss: 0.9091 Generator Loss: 0.6672 Discriminator acc:0.5612:\n",
            "Epoch:  87/100 Discriminator Loss: 0.9437 Generator Loss: 0.6931 Discriminator acc:0.5578:\n",
            "Epoch:  88/100 Discriminator Loss: 1.0507 Generator Loss: 0.7012 Discriminator acc:0.5508:\n",
            "Epoch:  89/100 Discriminator Loss: 0.8332 Generator Loss: 0.7062 Discriminator acc:0.5696:\n",
            "Epoch:  90/100 Discriminator Loss: 1.0067 Generator Loss: 0.6940 Discriminator acc:0.5496:\n",
            "Epoch:  91/100 Discriminator Loss: 0.8798 Generator Loss: 0.6762 Discriminator acc:0.5525:\n",
            "Epoch:  92/100 Discriminator Loss: 0.9260 Generator Loss: 0.7186 Discriminator acc:0.5476:\n",
            "Epoch:  93/100 Discriminator Loss: 0.8741 Generator Loss: 0.6696 Discriminator acc:0.5419:\n",
            "Epoch:  94/100 Discriminator Loss: 0.9973 Generator Loss: 0.6888 Discriminator acc:0.5430:\n",
            "Epoch:  95/100 Discriminator Loss: 0.8467 Generator Loss: 0.7032 Discriminator acc:0.5243:\n",
            "Epoch:  96/100 Discriminator Loss: 0.9099 Generator Loss: 0.7056 Discriminator acc:0.5324:\n",
            "Epoch:  97/100 Discriminator Loss: 0.8899 Generator Loss: 0.7050 Discriminator acc:0.5198:\n",
            "Epoch:  98/100 Discriminator Loss: 0.9684 Generator Loss: 0.6959 Discriminator acc:0.5316:\n",
            "Epoch:  99/100 Discriminator Loss: 1.0877 Generator Loss: 0.6681 Discriminator acc:0.5475:\n",
            "Epoch: 100/100 Discriminator Loss: 0.9249 Generator Loss: 0.6982 Discriminator acc:0.5568:\n"
          ]
        }
      ],
      "source": [
        "## labels for the batch size and the test size\n",
        "y_train_real, y_train_fake = make_labels(batch_size)\n",
        "y_eval_real,  y_eval_fake  = make_labels(eval_size)\n",
        "\n",
        "# create a GAN, a generator and a discriminator\n",
        "gan, generator, discriminator = make_simple_GAN(\n",
        "    sample_size, \n",
        "    g_hidden_size_1, \n",
        "    g_hidden_size_2,\n",
        "    g_hidden_size_3,\n",
        "    g_hidden_size_4, \n",
        "    d_hidden_size_1, \n",
        "    d_hidden_size_2,\n",
        "    d_hidden_size_3,\n",
        "    d_hidden_size_4,\n",
        "    d_hidden_size_5,\n",
        "    d_hidden_size_6,\n",
        "    leaky_alpha, \n",
        "    g_learning_rate,\n",
        "    d_learning_rate)\n",
        "\n",
        "\n",
        "losses = []\n",
        "losses1 = []\n",
        "for e in range(epochs):\n",
        "    for i in range(len(X_train_real)//batch_size):\n",
        "        # real MNIST digit images\n",
        "        X_batch_real = X_train_real[i*batch_size:(i+1)*batch_size]\n",
        "        \n",
        "        # latent samples and the generated digit images\n",
        "        latent_samples = make_latent_samples(batch_size, sample_size)\n",
        "        X_batch_fake = generator.predict_on_batch(latent_samples)\n",
        "        \n",
        "        # train the discriminator to detect real and fake images\n",
        "        make_trainable(discriminator, True)\n",
        "        discriminator.train_on_batch(X_batch_real, y_train_real * (1 - smooth))\n",
        "        discriminator.train_on_batch(X_batch_fake, y_train_fake)\n",
        "\n",
        "        # train the generator via GAN\n",
        "        make_trainable(discriminator, False)\n",
        "        gan.train_on_batch(latent_samples, y_train_real)\n",
        "   # evaluate\n",
        "    X_eval_real = X_test_real[np.random.choice(len(X_test_real), eval_size, replace=False)]\n",
        "    \n",
        "    latent_samples = make_latent_samples(eval_size, sample_size)\n",
        "    X_eval_fake = generator.predict_on_batch(latent_samples)\n",
        "\n",
        "    d_loss  = discriminator.test_on_batch(X_eval_real, y_eval_real)\n",
        "    d_loss += discriminator.test_on_batch(X_eval_fake, y_eval_fake)\n",
        "    g_loss  = gan.test_on_batch(latent_samples, y_eval_real) # we want the fake to be realistic!\n",
        "    \n",
        "    losses.append((d_loss, g_loss))\n",
        "\n",
        "    d_acc_real = discriminator.train_on_batch(X_batch_real, y_train_real * (1 - smooth))\n",
        "    d_acc_fake = discriminator.train_on_batch(X_batch_fake, y_train_fake)\n",
        "    d_acc  = 0.5 * (d_acc_real + d_acc_fake)\n",
        "\n",
        "    #losses1.append(( d_acc))\n",
        "    print(\"Epoch: {:>3}/{} Discriminator Loss: {:>6.4f} Generator Loss: {:>6.4f} Discriminator acc:{:>6.4f}\".format(\n",
        "        e+1, epochs, d_loss, g_loss,d_acc)) #Discriminator acc: {:>6.4f}:,d_acc"
      ]
    },
    {
      "cell_type": "code",
      "execution_count": 26,
      "metadata": {
        "id": "_if6yg9SuoTQ",
        "colab": {
          "base_uri": "https://localhost:8080/",
          "height": 281
        },
        "outputId": "7c5241dd-5ac5-48c7-b658-b2af174a55db"
      },
      "outputs": [
        {
          "output_type": "display_data",
          "data": {
            "image/png": "[encoded data removed]",
            "text/plain": [
              "<Figure size 432x288 with 1 Axes>"
            ]
          },
          "metadata": {
            "needs_background": "light"
          }
        }
      ],
      "source": [
        "losses = np.array(losses)\n",
        "\n",
        "fig, ax = plt.subplots()\n",
        "plt.plot(losses.T[0], label='Discriminator')\n",
        "plt.plot(losses.T[1], label='Generator')\n",
        "plt.title(\"Training Losses\")\n",
        "plt.legend()\n",
        "plt.show()"
      ]
    },
    {
      "cell_type": "code",
      "execution_count": 27,
      "metadata": {
        "id": "w0je2222Q0Y-"
      },
      "outputs": [],
      "source": [
        "rr = discriminator.predict_on_batch(X_test_real)"
      ]
    },
    {
      "cell_type": "code",
      "execution_count": 28,
      "metadata": {
        "id": "qYZfeRR5Z3Iu",
        "colab": {
          "base_uri": "https://localhost:8080/"
        },
        "outputId": "01bd0f41-5e27-41cc-807c-6fe20dd7d87b"
      },
      "outputs": [
        {
          "output_type": "execute_result",
          "data": {
            "text/plain": [
              "5895     1\n",
              "9481     1\n",
              "11811    0\n",
              "3130     1\n",
              "2213     1\n",
              "        ..\n",
              "10530    0\n",
              "6056     1\n",
              "7703     1\n",
              "3263     1\n",
              "11798    0\n",
              "Name: label, Length: 3965, dtype: int64"
            ]
          },
          "metadata": {},
          "execution_count": 28
        }
      ],
      "source": [
        "y_test"
      ]
    },
    {
      "cell_type": "code",
      "execution_count": 29,
      "metadata": {
        "id": "6GdJtSctZ5jm",
        "colab": {
          "base_uri": "https://localhost:8080/"
        },
        "outputId": "6aa0bcde-9504-4b1a-be67-3c8b76a4b1d9"
      },
      "outputs": [
        {
          "output_type": "execute_result",
          "data": {
            "text/plain": [
              "array([[0.87740064],\n",
              "       [0.85525334],\n",
              "       [0.45105594],\n",
              "       ...,\n",
              "       [0.885713  ],\n",
              "       [0.852923  ],\n",
              "       [0.38827002]], dtype=float32)"
            ]
          },
          "metadata": {},
          "execution_count": 29
        }
      ],
      "source": [
        "rr"
      ]
    },
    {
      "cell_type": "code",
      "execution_count": 30,
      "metadata": {
        "id": "RkBPmhkdQ31J",
        "colab": {
          "base_uri": "https://localhost:8080/"
        },
        "outputId": "50d15d52-16ae-4cd0-e59c-c87c5d69388d"
      },
      "outputs": [
        {
          "output_type": "execute_result",
          "data": {
            "text/plain": [
              "0.9996603"
            ]
          },
          "metadata": {},
          "execution_count": 30
        }
      ],
      "source": [
        "import keras\n",
        "#import keras_metrics\n",
        "\n",
        "r = tf.keras.metrics.Recall()#thresholds=rr.min())\n",
        "r.update_state(y_test,rr )\n",
        "r.result().numpy()\n"
      ]
    },
    {
      "cell_type": "code",
      "execution_count": 31,
      "metadata": {
        "id": "cFiQ5wINQ-19",
        "colab": {
          "base_uri": "https://localhost:8080/"
        },
        "outputId": "fc214222-111c-491d-e630-a23adcb1e4ab"
      },
      "outputs": [
        {
          "output_type": "execute_result",
          "data": {
            "text/plain": [
              "0.8054187"
            ]
          },
          "metadata": {},
          "execution_count": 31
        }
      ],
      "source": [
        "p=tf.keras.metrics.Precision()#thresholds=rr.min())\n",
        "p.update_state(y_test,rr )\n",
        "p.result().numpy()"
      ]
    },
    {
      "cell_type": "code",
      "execution_count": 32,
      "metadata": {
        "id": "BMkaCOfK4rVi",
        "colab": {
          "base_uri": "https://localhost:8080/"
        },
        "outputId": "40d935bb-6b68-403f-98ee-5e8e2fb1a351"
      },
      "outputs": [
        {
          "output_type": "execute_result",
          "data": {
            "text/plain": [
              "0.8204287"
            ]
          },
          "metadata": {},
          "execution_count": 32
        }
      ],
      "source": [
        "r = tf.keras.metrics.BinaryAccuracy()#thresholds=rr.min())\n",
        "r.update_state(y_test,rr )\n",
        "r.result().numpy()\n"
      ]
    }
  ],
  "metadata": {
    "accelerator": "GPU",
    "colab": {
      "collapsed_sections": [],
      "name": "realpart7/TGan.ipynb",
      "provenance": [],
      "authorship_tag": "ABX9TyP1woYKBdhFVS/3Ifijdpch",
      "include_colab_link": true
    },
    "kernelspec": {
      "display_name": "Python 3",
      "name": "python3"
    },
    "language_info": {
      "name": "python"
    }
  },
  "nbformat": 4,
  "nbformat_minor": 0
}